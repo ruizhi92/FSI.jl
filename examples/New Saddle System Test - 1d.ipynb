{
 "cells": [
  {
   "cell_type": "code",
   "execution_count": 1,
   "metadata": {
    "scrolled": false
   },
   "outputs": [],
   "source": [
    "using Revise\n",
    "using IterativeSolvers\n",
    "using LinearAlgebra\n",
    "\n",
    "using Pkg\n",
    "Pkg.activate(\"..\")\n",
    "using FSI\n",
    "\n",
    "using LinearAlgebra"
   ]
  },
  {
   "cell_type": "code",
   "execution_count": 2,
   "metadata": {},
   "outputs": [],
   "source": [
    "# construct a random block system\n",
    "\n",
    "# block size\n",
    "m = 20\n",
    "n = 8\n",
    "p = 10\n",
    "q = 6\n",
    "\n",
    "# operators\n",
    "A = rand(m,m); A⁻¹ = inv(A)\n",
    "B₁ᵀ = rand(m,n)\n",
    "B₂ = rand(n,m)\n",
    "M = rand(p,p)\n",
    "G₁ᵀ = rand(p,q)\n",
    "G₂ = rand(q,p)\n",
    "T₁ᵀ = rand(p,n)\n",
    "T₂ = rand(n,p)\n",
    "\n",
    "# zero matrix\n",
    "Omp = zeros(m,p)\n",
    "Omq = zeros(m,q)\n",
    "Onn = zeros(n,n)\n",
    "Onq = zeros(n,q)\n",
    "Opm = zeros(p,m)\n",
    "Oqm = zeros(q,m)\n",
    "Oqn = zeros(q,n)\n",
    "Oqq = zeros(q,q)\n",
    "\n",
    "# saddle point system\n",
    "S = [A B₁ᵀ Omp Omq; B₂ Onn -T₂ Onq; Opm -T₁ᵀ M G₁ᵀ; Oqm Oqn G₂ Oqq]\n",
    "\n",
    "# rhs\n",
    "rċ = rand(m)\n",
    "rf = rand(n)\n",
    "ru̇ = rand(p)\n",
    "rλ = rand(q)\n",
    "\n",
    "b = [rċ;rf;ru̇;rλ];\n",
    "b1 = [rċ;rf]\n",
    "b2 = [ru̇;rλ];"
   ]
  },
  {
   "cell_type": "code",
   "execution_count": 3,
   "metadata": {
    "scrolled": false
   },
   "outputs": [
    {
     "name": "stdout",
     "output_type": "stream",
     "text": [
      "  1.390587 seconds (5.40 M allocations: 272.028 MiB, 6.09% gc time)\n"
     ]
    },
    {
     "data": {
      "text/plain": [
       "Saddle system with 8 constraints on fluid and 6 constraints on 1d body\n",
       "   Fluid state of type Array{Float64,1}\n",
       "   Fluid force of type Array{Float64,1}\n",
       "   Body state of type Array{Float64,1}\n",
       "   Joint force of type Array{Float64,1}\n"
      ]
     },
     "execution_count": 3,
     "metadata": {},
     "output_type": "execute_result"
    }
   ],
   "source": [
    "# construct saddle point system\n",
    "ċ = zeros(m)\n",
    "f = zeros(n)\n",
    "u̇ = zeros(p)\n",
    "λ = zeros(q)\n",
    "@time St = SaddleSystem1d((ċ, f, u̇, λ), (A⁻¹, B₁ᵀ, B₂),\n",
    "                  (M, G₁ᵀ, G₂), (x->T₁ᵀ*x, x->T₂*x))"
   ]
  },
  {
   "cell_type": "code",
   "execution_count": 4,
   "metadata": {},
   "outputs": [
    {
     "name": "stdout",
     "output_type": "stream",
     "text": [
      "  1.818963 seconds (2.28 M allocations: 107.885 MiB, 2.90% gc time)\n"
     ]
    },
    {
     "data": {
      "text/plain": [
       "44-element Array{Float64,1}:\n",
       "   8.14157163689804   \n",
       " -22.4272798913221    \n",
       "  20.079840030821895  \n",
       "  -5.194367063087652  \n",
       "   6.016201319344597  \n",
       "  -0.16083633064338138\n",
       " -10.48310090053501   \n",
       "  10.53650159724268   \n",
       "  -4.6317769055313045 \n",
       "  -9.130735791658097  \n",
       "  -4.927001689469608  \n",
       "   3.350305886739693  \n",
       "   3.3596700431331037 \n",
       "   ⋮                  \n",
       "  29.557520215113765  \n",
       " -30.71496064126173   \n",
       "   3.9397666436757324 \n",
       " -30.793983810639652  \n",
       " -27.489259308593844  \n",
       "  24.730413148664063  \n",
       "  25.626425437748974  \n",
       "  19.509142503683066  \n",
       "  19.858302589953038  \n",
       " -21.507023835066725  \n",
       "  -8.671483302694481  \n",
       "   2.4405850014263155 "
      ]
     },
     "execution_count": 4,
     "metadata": {},
     "output_type": "execute_result"
    }
   ],
   "source": [
    "# Julia solver\n",
    "@time x_theory = S\\b"
   ]
  },
  {
   "cell_type": "code",
   "execution_count": 5,
   "metadata": {},
   "outputs": [
    {
     "name": "stdout",
     "output_type": "stream",
     "text": [
      "  0.000005 seconds (6 allocations: 656 bytes)\n"
     ]
    },
    {
     "data": {
      "text/plain": [
       "44-element Array{Float64,1}:\n",
       "   8.14157163690144   \n",
       " -22.427279891329547  \n",
       "  20.07984003082812   \n",
       "  -5.194367063089597  \n",
       "   6.016201319347241  \n",
       "  -0.16083633064452574\n",
       " -10.483100900538787  \n",
       "  10.536501597246083  \n",
       "  -4.63177690553211   \n",
       "  -9.13073579166154   \n",
       "  -4.927001689472384  \n",
       "   3.3503058867413884 \n",
       "   3.359670043135779  \n",
       "   ⋮                  \n",
       "  29.55752021512377   \n",
       " -30.714960641271787  \n",
       "   3.939766643677297  \n",
       " -30.79398381065007   \n",
       " -27.489259308603238  \n",
       "  24.730413148672223  \n",
       "  25.6264254377587    \n",
       "  19.50914250368932   \n",
       "  19.858302589959038  \n",
       " -21.507023835074126  \n",
       "  -8.671483302697538  \n",
       "   2.440585001428242  "
      ]
     },
     "execution_count": 5,
     "metadata": {},
     "output_type": "execute_result"
    }
   ],
   "source": [
    "# my own solver\n",
    "bt = (rċ, rf, ru̇, rλ);\n",
    "aa,bb,cc,dd = St\\bt\n",
    "@time x_compute = [aa;bb;cc;dd]"
   ]
  },
  {
   "cell_type": "code",
   "execution_count": 6,
   "metadata": {},
   "outputs": [
    {
     "data": {
      "text/plain": [
       "3.847241222304942e-11"
      ]
     },
     "execution_count": 6,
     "metadata": {},
     "output_type": "execute_result"
    }
   ],
   "source": [
    "norm(x_theory-x_compute)"
   ]
  },
  {
   "cell_type": "markdown",
   "metadata": {},
   "source": [
    "### check step 1"
   ]
  },
  {
   "cell_type": "code",
   "execution_count": 7,
   "metadata": {},
   "outputs": [
    {
     "data": {
      "text/plain": [
       "28-element Array{Float64,1}:\n",
       " -1.4285012826298233 \n",
       " -1.634131992842921  \n",
       "  0.7716080578641569 \n",
       "  0.4237100899570583 \n",
       " -2.2993325555188275 \n",
       "  2.8690180799023435 \n",
       "  1.3938473049806264 \n",
       "  0.39680305645277203\n",
       " -0.08640361941692108\n",
       " -0.5186732084975988 \n",
       "  4.056082550551316  \n",
       " -1.2744884595672266 \n",
       " -3.0752612263010737 \n",
       "  ⋮                  \n",
       "  3.8919845000016084 \n",
       "  0.14042901445489364\n",
       "  0.6825189674027863 \n",
       "  0.7788703205832513 \n",
       " -1.0292994222233165 \n",
       "  1.512762511981981  \n",
       "  2.289840584953917  \n",
       "  1.8249476147628287 \n",
       "  1.1640782139161936 \n",
       " -0.1449407264510648 \n",
       " -2.047611290960835  \n",
       " -4.7459089984197655 "
      ]
     },
     "execution_count": 7,
     "metadata": {},
     "output_type": "execute_result"
    }
   ],
   "source": [
    "[A B₁ᵀ;B₂ Onn]\\b1\n",
    "# norm([A B₁ᵀ;B₂ Onn]*x1 - [rċ;rf])"
   ]
  },
  {
   "cell_type": "code",
   "execution_count": 8,
   "metadata": {},
   "outputs": [
    {
     "data": {
      "text/plain": [
       "([-1.4285, -1.63413, 0.771608, 0.42371, -2.29933, 2.86902, 1.39385, 0.396803, -0.0864036, -0.518673, 4.05608, -1.27449, -3.07526, -2.31238, 0.0919275, -0.589987, 3.89198, 0.140429, 0.682519, 0.77887], [-1.0293, 1.51276, 2.28984, 1.82495, 1.16408, -0.144941, -2.04761, -4.74591])"
      ]
     },
     "execution_count": 8,
     "metadata": {},
     "output_type": "execute_result"
    }
   ],
   "source": [
    "using ImportMacros\n",
    "@import ViscousFlow.SaddlePointSystems as Sad\n",
    "\n",
    "Sf = Sad.SaddleSystem((ċ,f),(A⁻¹,B₁ᵀ,B₂),tol=1e-3,\n",
    "            issymmetric=false,isposdef=true,store=true,precompile=true)\n",
    "x1,x2 = Sf\\(b1[1:m], b1[m+1:end])"
   ]
  },
  {
   "cell_type": "markdown",
   "metadata": {},
   "source": [
    "### check step 2"
   ]
  },
  {
   "cell_type": "code",
   "execution_count": 9,
   "metadata": {},
   "outputs": [
    {
     "data": {
      "text/plain": [
       "16-element Array{Float64,1}:\n",
       "  -7.660372123391573 \n",
       " -15.748394677359375 \n",
       "  22.631859223050615 \n",
       "  17.71002635177895  \n",
       "  29.557520215113765 \n",
       " -30.71496064126173  \n",
       "   3.9397666436757324\n",
       " -30.793983810639652 \n",
       " -27.489259308593844 \n",
       "  24.730413148664063 \n",
       "  25.626425437748974 \n",
       "  19.509142503683066 \n",
       "  19.858302589953038 \n",
       " -21.507023835066725 \n",
       "  -8.671483302694481 \n",
       "   2.4405850014263155"
      ]
     },
     "execution_count": 9,
     "metadata": {},
     "output_type": "execute_result"
    }
   ],
   "source": [
    "x_theory[m+n+1:end]"
   ]
  },
  {
   "cell_type": "code",
   "execution_count": 10,
   "metadata": {
    "scrolled": false
   },
   "outputs": [
    {
     "data": {
      "text/plain": [
       "16-element Array{Float64,1}:\n",
       " -1.4497405094510518\n",
       " -1.6980843217623083\n",
       " -1.6867701616388513\n",
       "  0.3357381306411476\n",
       "  1.0977168820163599\n",
       "  2.1400426682397775\n",
       "  2.553416509658175 \n",
       "  1.6499387904527718\n",
       " -1.7199200616749417\n",
       " -1.3463021596708096\n",
       " -1.1523616157498415\n",
       "  1.1850641853728263\n",
       "  6.537400107450067 \n",
       "  0.4309055454229019\n",
       "  0.8981972108734743\n",
       " -4.279317042387302 "
      ]
     },
     "execution_count": 10,
     "metadata": {},
     "output_type": "execute_result"
    }
   ],
   "source": [
    "[M-T₁ᵀ*inv(B₂*A⁻¹*B₁ᵀ)*T₂ G₁ᵀ;G₂ Oqq]\\[b2[1:p]-T₁ᵀ*x2;b2[p+1:end]]"
   ]
  },
  {
   "cell_type": "code",
   "execution_count": 11,
   "metadata": {},
   "outputs": [
    {
     "data": {
      "text/plain": [
       "16-element Array{Float64,1}:\n",
       " -1.4497405094510363 \n",
       " -1.698084321762121  \n",
       " -1.6867701616385236 \n",
       "  0.33573813064136004\n",
       "  1.0977168820163827 \n",
       "  2.1400426682393388 \n",
       "  2.553416509657894  \n",
       "  1.649938790452513  \n",
       " -1.719920061674891  \n",
       " -1.3463021596706406 \n",
       " -1.1523616157494998 \n",
       "  1.1850641853727943 \n",
       "  6.537400107449531  \n",
       "  0.4309055454226316 \n",
       "  0.8981972108733396 \n",
       " -4.279317042386722  "
      ]
     },
     "execution_count": 11,
     "metadata": {},
     "output_type": "execute_result"
    }
   ],
   "source": [
    "x34 = gmres([M-T₁ᵀ*inv(B₂*A⁻¹*B₁ᵀ)*T₂ G₁ᵀ;G₂ Oqq], [b2[1:p]-T₁ᵀ*x2;b2[p+1:end]], tol=1e-3)"
   ]
  },
  {
   "cell_type": "code",
   "execution_count": 12,
   "metadata": {},
   "outputs": [
    {
     "data": {
      "text/plain": [
       "9575.52309922449"
      ]
     },
     "execution_count": 12,
     "metadata": {},
     "output_type": "execute_result"
    }
   ],
   "source": [
    "cond([M-T₁ᵀ*inv(B₂*A⁻¹*B₁ᵀ)*T₂ G₁ᵀ;G₂ Oqq])"
   ]
  },
  {
   "cell_type": "markdown",
   "metadata": {},
   "source": [
    "### check step 3"
   ]
  },
  {
   "cell_type": "code",
   "execution_count": 13,
   "metadata": {},
   "outputs": [
    {
     "data": {
      "text/plain": [
       "28-element Array{Float64,1}:\n",
       "   8.14157163689804   \n",
       " -22.4272798913221    \n",
       "  20.079840030821895  \n",
       "  -5.194367063087652  \n",
       "   6.016201319344597  \n",
       "  -0.16083633064338138\n",
       " -10.48310090053501   \n",
       "  10.53650159724268   \n",
       "  -4.6317769055313045 \n",
       "  -9.130735791658097  \n",
       "  -4.927001689469608  \n",
       "   3.350305886739693  \n",
       "   3.3596700431331037 \n",
       "   ⋮                  \n",
       " -34.172229394074485  \n",
       "  -3.9120906898285495 \n",
       "  13.37391661479146   \n",
       " -10.500404482319249  \n",
       "  -1.9867202744319057 \n",
       " -10.083100637992356  \n",
       "  -7.224224680404563  \n",
       "   7.638604323720963  \n",
       "  -2.5395371875760184 \n",
       "  18.291991685424563  \n",
       "   5.3474208566974815 \n",
       "  10.065970423816061  "
      ]
     },
     "execution_count": 13,
     "metadata": {},
     "output_type": "execute_result"
    }
   ],
   "source": [
    "x_theory[1:m+n]"
   ]
  },
  {
   "cell_type": "code",
   "execution_count": 14,
   "metadata": {},
   "outputs": [
    {
     "data": {
      "text/plain": [
       "20-element Array{Float64,1}:\n",
       "  1.7406851943797617 \n",
       "  1.9398658694685844 \n",
       "  0.6407775853402442 \n",
       " -2.646559737136211  \n",
       "  4.1897523319612    \n",
       " -6.26119547409236   \n",
       "  0.47714430666509333\n",
       "  1.5281044727473163 \n",
       "  1.7550062930185066 \n",
       " -1.9062718898166815 \n",
       " -5.092142569486853  \n",
       "  5.111200195312853  \n",
       "  6.277675817747948  \n",
       "  5.033686617916732  \n",
       " -1.7094638101172237 \n",
       "  4.754683179390307  \n",
       " -6.793914923169452  \n",
       " -0.07814540699943462\n",
       " -0.6747551549330839 \n",
       " -6.7159549515425825 "
      ]
     },
     "execution_count": 14,
     "metadata": {},
     "output_type": "execute_result"
    }
   ],
   "source": [
    "ċ = x1 + A⁻¹*B₁ᵀ*inv(B₂*A⁻¹*B₁ᵀ)*T₂*x34[1:p]"
   ]
  },
  {
   "cell_type": "code",
   "execution_count": 15,
   "metadata": {},
   "outputs": [
    {
     "data": {
      "text/plain": [
       "8-element Array{Float64,1}:\n",
       "  1.3593286140304712\n",
       " -6.566816997881373 \n",
       " -5.215764004328143 \n",
       "  0.6901029509478298\n",
       " -1.0771915632534386\n",
       "  2.6115252301846743\n",
       "  3.165386205580694 \n",
       "  4.680593173268031 "
      ]
     },
     "execution_count": 15,
     "metadata": {},
     "output_type": "execute_result"
    }
   ],
   "source": [
    "f = x2 - inv(B₂*A⁻¹*B₁ᵀ)*T₂*x34[1:p]"
   ]
  },
  {
   "cell_type": "code",
   "execution_count": null,
   "metadata": {},
   "outputs": [],
   "source": []
  }
 ],
 "metadata": {
  "@webio": {
   "lastCommId": null,
   "lastKernelId": null
  },
  "kernelspec": {
   "display_name": "Julia 1.0.4",
   "language": "julia",
   "name": "julia-1.0"
  },
  "language_info": {
   "file_extension": ".jl",
   "mimetype": "application/julia",
   "name": "julia",
   "version": "1.0.4"
  }
 },
 "nbformat": 4,
 "nbformat_minor": 2
}
