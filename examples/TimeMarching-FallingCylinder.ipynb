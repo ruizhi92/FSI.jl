{
 "cells": [
  {
   "cell_type": "code",
   "execution_count": 36,
   "metadata": {},
   "outputs": [
    {
     "data": {
      "text/plain": [
       "5-element Array{Float64,1}:\n",
       "  0.0                   \n",
       " -6.528141836116693e-16 \n",
       "  0.0                   \n",
       "  3.2696836436197936e-15\n",
       "  0.0                   "
      ]
     },
     "execution_count": 36,
     "metadata": {},
     "output_type": "execute_result"
    }
   ],
   "source": [
    "λ"
   ]
  },
  {
   "cell_type": "code",
   "execution_count": 38,
   "metadata": {},
   "outputs": [
    {
     "data": {
      "text/plain": [
       "6-element Array{Float64,1}:\n",
       "  0.0                  \n",
       " -0.48428938302811525  \n",
       "  0.0                  \n",
       "  3.607438783456707e-15\n",
       "  0.0                  \n",
       "  0.4842893830281213   "
      ]
     },
     "execution_count": 38,
     "metadata": {},
     "output_type": "execute_result"
    }
   ],
   "source": [
    "bgs[1].f_ex6d"
   ]
  },
  {
   "cell_type": "markdown",
   "metadata": {},
   "source": [
    "# FSI problem"
   ]
  },
  {
   "cell_type": "code",
   "execution_count": 1,
   "metadata": {},
   "outputs": [],
   "source": [
    "using Pkg\n",
    "Pkg.activate(\"..\")\n",
    "using FSI"
   ]
  },
  {
   "cell_type": "code",
   "execution_count": 2,
   "metadata": {},
   "outputs": [],
   "source": [
    "using Revise\n",
    "using Plots\n",
    "pyplot()\n",
    "clibrary(:colorbrewer)\n",
    "default(grid = false)"
   ]
  },
  {
   "cell_type": "code",
   "execution_count": 3,
   "metadata": {},
   "outputs": [],
   "source": [
    "filename = \"FallingCylinder\";"
   ]
  },
  {
   "cell_type": "markdown",
   "metadata": {},
   "source": [
    "## <span style=\"color:blue\"> Set up rigid body with Dyn3d"
   ]
  },
  {
   "cell_type": "markdown",
   "metadata": {},
   "source": [
    "#### Include any joint-body setup script from Dyn3d"
   ]
  },
  {
   "cell_type": "code",
   "execution_count": 4,
   "metadata": {},
   "outputs": [
    {
     "data": {
      "text/plain": [
       " joint type = custom_prismatic_in_z\n",
       " joint position in parent body coord = [0.0, 0.0, 0.0, 1.0, 0.0, 2.0]\n",
       " joint position in child body coord = [0.0, 0.0, 0.0, 0.0, 0.0, 0.0]\n",
       " joint unconstrained dof = 6, under passive motion\n",
       " initial unconstrained dof position = [0.0]\n"
      ]
     },
     "execution_count": 4,
     "metadata": {},
     "output_type": "execute_result"
    }
   ],
   "source": [
    "ndim = 2\n",
    "# numerical params\n",
    "tf = 1.0\n",
    "dt = 1e-3\n",
    "scheme = \"Liska\"\n",
    "st = 3\n",
    "tol = 1e-4\n",
    "num_params = NumParams(tf, dt, scheme, st, tol)\n",
    "# gravity\n",
    "gravity = [0., 0.0, -1.0]\n",
    "\n",
    "# set up system config info\n",
    "config_system = ConfigSystem(ndim, gravity, num_params)\n",
    "\n",
    "# set up bodys\n",
    "function circle(z₀::Vector{Float64}, r::Float64, n::Int)\n",
    "    # z₀ for circle center location, r for radius and n for # of points on circle\n",
    "    verts = zeros(n,2)\n",
    "    for i = 1:n\n",
    "        verts[i,:] = [r*cos(2π/(n)*(i-1)) + z₀[1], r*sin(2π/(n)*(i-1)) + z₀[2]]\n",
    "    end\n",
    "    return verts\n",
    "end\n",
    "\n",
    "nbody = 1\n",
    "nverts = 157\n",
    "verts = circle([0.,0.], 0.5, nverts)\n",
    "config_body = ConfigBody(nbody, nverts, verts, 2.0)\n",
    "config_bodys = fill(config_body, nbody)\n",
    "\n",
    "# set up joints\n",
    "njoint = nbody\n",
    "config_joints = Vector{ConfigJoint}(undef,njoint)\n",
    "\n",
    "# set the first passive joint with no stiff and damp\n",
    "dofₚ = Dof(6, \"passive\", 0., 0., Motions())\n",
    "config_joints[1] = ConfigJoint(njoint, \"custom_prismatic_in_z\",\n",
    "    [0.0,0.0,0.0,1.0,0.0,2.0], zeros(Float64,6), 0, [dofₚ], [0.0])"
   ]
  },
  {
   "cell_type": "markdown",
   "metadata": {},
   "source": [
    "#### Build joint-body chain"
   ]
  },
  {
   "cell_type": "code",
   "execution_count": 5,
   "metadata": {},
   "outputs": [
    {
     "data": {
      "text/plain": []
     },
     "execution_count": 5,
     "metadata": {},
     "output_type": "execute_result"
    },
    {
     "name": "stdout",
     "output_type": "stream",
     "text": [
      "This is a 1 body-joint system, system is un-mounted from space"
     ]
    }
   ],
   "source": [
    "bs, js, bsys = BuildChain(config_bodys, config_joints, config_system)\n",
    "bd = BodyDyn(bs, js, bsys)"
   ]
  },
  {
   "cell_type": "markdown",
   "metadata": {},
   "source": [
    "#### Initialize rigid body system state to complete body-joint information"
   ]
  },
  {
   "cell_type": "code",
   "execution_count": 7,
   "metadata": {},
   "outputs": [
    {
     "data": {
      "text/plain": [
       "(, Soln{Float64}(0.0, 0.001, [0.0, 0.0, 0.0, 0.0, 0.0, 0.0], [0.0, 0.0, 0.0, 0.0, 0.0, 0.0], Float64[], Float64[]))"
      ]
     },
     "execution_count": 7,
     "metadata": {},
     "output_type": "execute_result"
    },
    {
     "name": "stdout",
     "output_type": "stream",
     "text": [
      "This is a 1 body-joint system, system is un-mounted from space"
     ]
    }
   ],
   "source": [
    "bd, soln₀ = InitSystem!(bd)"
   ]
  },
  {
   "cell_type": "markdown",
   "metadata": {},
   "source": [
    "#### Initialize u and λ container"
   ]
  },
  {
   "cell_type": "code",
   "execution_count": 8,
   "metadata": {},
   "outputs": [],
   "source": [
    "qJ = soln₀.qJ\n",
    "v = soln₀.v\n",
    "λ_dim = bd.sys.ncdof_HERK\n",
    "λ = zeros(Float64,λ_dim);"
   ]
  },
  {
   "cell_type": "markdown",
   "metadata": {},
   "source": [
    "#### Get body verts for plotting"
   ]
  },
  {
   "cell_type": "code",
   "execution_count": 9,
   "metadata": {},
   "outputs": [],
   "source": [
    "@get bd (bs, js, sys)\n",
    "bs, js, sys = UpdatePosition!(bs, js, sys, soln₀.qJ)\n",
    "vs₀ = VertsHistory(sys.nbody, bs);"
   ]
  },
  {
   "cell_type": "markdown",
   "metadata": {},
   "source": [
    "#### Plot body only"
   ]
  },
  {
   "cell_type": "code",
   "execution_count": 10,
   "metadata": {},
   "outputs": [
    {
     "data": {
      "image/png": "[encoded data removed]"
     },
     "execution_count": 10,
     "metadata": {},
     "output_type": "execute_result"
    }
   ],
   "source": [
    "p = plot()\n",
    "for i = 1:sys.nbody\n",
    "    plot!(p,vs₀[i,[1:nverts;1],1], vs₀[i,[1:nverts;1],3],linewidth=2,linecolor=\"black\",fill=true)\n",
    "end\n",
    "plot!(xlims=(0,2), ylims=(0,3),ratio=1)"
   ]
  },
  {
   "cell_type": "markdown",
   "metadata": {},
   "source": [
    "## <span style=\"color:blue\"> Set up fluid with Whirl </span>"
   ]
  },
  {
   "cell_type": "markdown",
   "metadata": {},
   "source": [
    "#### Set the flow parameters"
   ]
  },
  {
   "cell_type": "code",
   "execution_count": 11,
   "metadata": {},
   "outputs": [
    {
     "data": {
      "text/plain": [
       "(0.0, 0.0)"
      ]
     },
     "execution_count": 11,
     "metadata": {},
     "output_type": "execute_result"
    }
   ],
   "source": [
    "Re = 200 # Reynolds number\n",
    "U = 0.0 # Free stream velocity\n",
    "U∞ = (0.0, U)\n",
    "# U∞ = (U, 0.0)"
   ]
  },
  {
   "cell_type": "markdown",
   "metadata": {},
   "source": [
    "#### Set the domain grid"
   ]
  },
  {
   "cell_type": "code",
   "execution_count": 12,
   "metadata": {},
   "outputs": [
    {
     "data": {
      "text/plain": [
       "(-0.01:0.02:2.0100000000000002, -0.01:0.02:3.0100000000000002)"
      ]
     },
     "execution_count": 12,
     "metadata": {},
     "output_type": "execute_result"
    }
   ],
   "source": [
    "nx = 102; ny = 152;\n",
    "Ly = 3.0;\n",
    "Δx = Ly/(ny-2);\n",
    "Δt = min(0.5*Δx,0.5*Δx^2*Re)\n",
    "w₀ = Nodes(Dual,(nx,ny))\n",
    "xg, yg = coordinates(w₀,dx=Δx)"
   ]
  },
  {
   "cell_type": "markdown",
   "metadata": {},
   "source": [
    "#### Set up fluid initial conditions"
   ]
  },
  {
   "cell_type": "code",
   "execution_count": 13,
   "metadata": {},
   "outputs": [],
   "source": [
    "w₀ .= 0.0;\n",
    "w = deepcopy(w₀);"
   ]
  },
  {
   "cell_type": "markdown",
   "metadata": {},
   "source": [
    "## <span style=\"color:blue\"> Create fluid-body interface </span>"
   ]
  },
  {
   "cell_type": "markdown",
   "metadata": {},
   "source": [
    "#### Genrate body grid points and get linear velocity on them"
   ]
  },
  {
   "cell_type": "code",
   "execution_count": 14,
   "metadata": {
    "scrolled": true
   },
   "outputs": [],
   "source": [
    "# bgs short for body grid system\n",
    "bgs = GenerateBodyGrid(bd; np=DetermineNP(nbody, Δx));"
   ]
  },
  {
   "cell_type": "markdown",
   "metadata": {},
   "source": [
    "#### Get body points initial coordinates for fluids"
   ]
  },
  {
   "cell_type": "code",
   "execution_count": 15,
   "metadata": {},
   "outputs": [],
   "source": [
    "bgs = AcquireBodyGridKinematics(bd,bgs)\n",
    "coord_init = hcat(bgs[1].q_i...)'[:,[1,3]]\n",
    "for i = 2:length(bgs)\n",
    "    coord_init = [coord_init[1:end-1,:]; hcat(bgs[i].q_i...)'[:,[1,3]]]\n",
    "end"
   ]
  },
  {
   "cell_type": "markdown",
   "metadata": {},
   "source": [
    "#### Set up body grid points and force container in fluid"
   ]
  },
  {
   "cell_type": "code",
   "execution_count": 16,
   "metadata": {},
   "outputs": [],
   "source": [
    "X̃ = VectorData(coord_init)\n",
    "f = VectorData(X̃);"
   ]
  },
  {
   "cell_type": "markdown",
   "metadata": {},
   "source": [
    "#### Create fluidstruct structure"
   ]
  },
  {
   "cell_type": "code",
   "execution_count": 17,
   "metadata": {},
   "outputs": [
    {
     "data": {
      "text/plain": [
       "0.01"
      ]
     },
     "execution_count": 17,
     "metadata": {},
     "output_type": "execute_result"
    }
   ],
   "source": [
    "tf = 200Δt\n",
    "T = Δt:Δt:tf\n",
    "fsys = FluidStruct((nx,ny),Re,Δx,Δt,U∞ = U∞, X̃ = X̃, rk=RK31)\n",
    "N = length(X̃)÷2\n",
    "Δt"
   ]
  },
  {
   "cell_type": "markdown",
   "metadata": {},
   "source": [
    "## <span style=\"color:blue\"> Create ifherk object </span>"
   ]
  },
  {
   "cell_type": "code",
   "execution_count": 18,
   "metadata": {},
   "outputs": [],
   "source": [
    "function TimeMarching.F(bd::BodyDyn)\n",
    "    f_exi = zeros(Float64,bd.sys.nbody,6)\n",
    "    return HERKFuncf(bd.bs, bd.js, bd.sys, f_exi, \"cylinder\", config_body.ρ)\n",
    "end"
   ]
  },
  {
   "cell_type": "code",
   "execution_count": 19,
   "metadata": {},
   "outputs": [
    {
     "name": "stdout",
     "output_type": "stream",
     "text": [
      " 25.234065 seconds (203.36 M allocations: 6.820 GiB, 6.17% gc time)\n"
     ]
    },
    {
     "data": {
      "text/plain": [
       "Stage-3+ IF-HERK integrator with\n",
       "   Time step size 0.01\n"
      ]
     },
     "execution_count": 19,
     "metadata": {},
     "output_type": "execute_result"
    }
   ],
   "source": [
    "@time ifherk_coupled = IFHERK_coupled(fsys.Δt,bd,bgs,(w₀,qJ,v,f,λ),\n",
    "                ((t,u) -> Systems.plan_intfact(t,u,fsys), B₁ᵀ, B₂),\n",
    "                (M⁻¹, G₁ᵀ, G₂, UpP, UpV),\n",
    "                ((bd,bgs,f) -> T₁ᵀ(bd,bgs,f,fsys.Δx,\"cylinder\"),\n",
    "                 (bd,bgs,u) -> T₂(bd,bgs,u,\"cylinder\"),\n",
    "                 (bd,bgs) -> getX̃(bd,bgs,\"cylinder\")),\n",
    "                ((w,t) -> r₁(w,t,fsys), F, w -> U_inf(w,fsys), gti),\n",
    "                fsys, tol=1e-3,rk=TimeMarching.RK31)"
   ]
  },
  {
   "cell_type": "code",
   "execution_count": 20,
   "metadata": {},
   "outputs": [],
   "source": [
    "fx = Float64[]\n",
    "fy = Float64[]\n",
    "t = 0.0\n",
    "thist = []\n",
    "whist = []\n",
    "bdhist = BodyDyn[];"
   ]
  },
  {
   "cell_type": "markdown",
   "metadata": {},
   "source": [
    "## <span style=\"color:blue\"> TimeMarching! </span>"
   ]
  },
  {
   "cell_type": "code",
   "execution_count": 21,
   "metadata": {
    "scrolled": true
   },
   "outputs": [
    {
     "name": "stdout",
     "output_type": "stream",
     "text": [
      " 21.726762 seconds (190.94 M allocations: 6.235 GiB, 5.58% gc time)\n",
      "next time unit is 0.01\n",
      " 20.033390 seconds (187.63 M allocations: 6.076 GiB, 5.31% gc time)\n",
      "next time unit is 0.02\n",
      " 20.149193 seconds (187.63 M allocations: 6.076 GiB, 5.32% gc time)\n",
      "next time unit is 0.03\n",
      " 20.188506 seconds (187.63 M allocations: 6.076 GiB, 5.35% gc time)\n",
      "next time unit is 0.04\n",
      " 20.884691 seconds (187.63 M allocations: 6.076 GiB, 5.37% gc time)\n",
      "next time unit is 0.05\n",
      " 20.401873 seconds (187.63 M allocations: 6.076 GiB, 5.43% gc time)\n",
      "next time unit is 0.060000000000000005\n",
      " 20.445529 seconds (187.63 M allocations: 6.076 GiB, 5.71% gc time)\n",
      "next time unit is 0.07\n",
      " 20.112513 seconds (187.63 M allocations: 6.076 GiB, 5.31% gc time)\n",
      "next time unit is 0.08\n",
      " 22.654797 seconds (187.63 M allocations: 6.076 GiB, 4.96% gc time)\n",
      "next time unit is 0.09\n",
      " 21.424251 seconds (187.63 M allocations: 6.076 GiB, 5.29% gc time)\n",
      "next time unit is 0.09999999999999999\n",
      " 19.834569 seconds (187.63 M allocations: 6.076 GiB, 5.49% gc time)\n",
      "next time unit is 0.10999999999999999\n",
      " 19.392325 seconds (187.63 M allocations: 6.076 GiB, 5.34% gc time)\n",
      "next time unit is 0.11999999999999998\n",
      " 19.357263 seconds (187.63 M allocations: 6.076 GiB, 5.34% gc time)\n",
      "next time unit is 0.12999999999999998\n",
      " 19.752101 seconds (187.63 M allocations: 6.076 GiB, 5.71% gc time)\n",
      "next time unit is 0.13999999999999999\n",
      " 19.795199 seconds (187.63 M allocations: 6.076 GiB, 5.36% gc time)\n",
      "next time unit is 0.15\n",
      " 18.977410 seconds (187.63 M allocations: 6.076 GiB, 5.39% gc time)\n",
      "next time unit is 0.16\n",
      " 18.821831 seconds (187.63 M allocations: 6.076 GiB, 5.39% gc time)\n",
      "next time unit is 0.17\n",
      " 18.901333 seconds (187.63 M allocations: 6.076 GiB, 5.29% gc time)\n",
      "next time unit is 0.18000000000000002\n",
      " 19.455999 seconds (187.63 M allocations: 6.076 GiB, 5.41% gc time)\n",
      "next time unit is 0.19000000000000003\n",
      " 19.047627 seconds (187.63 M allocations: 6.076 GiB, 5.74% gc time)\n",
      "next time unit is 0.20000000000000004\n",
      " 18.788936 seconds (187.63 M allocations: 6.076 GiB, 5.27% gc time)\n",
      "next time unit is 0.21000000000000005\n",
      " 19.190911 seconds (187.63 M allocations: 6.076 GiB, 5.34% gc time)\n",
      "next time unit is 0.22000000000000006\n",
      " 18.921329 seconds (187.63 M allocations: 6.076 GiB, 5.31% gc time)\n",
      "next time unit is 0.23000000000000007\n",
      " 18.845723 seconds (187.63 M allocations: 6.076 GiB, 5.32% gc time)\n",
      "next time unit is 0.24000000000000007\n",
      " 18.719505 seconds (187.63 M allocations: 6.076 GiB, 5.32% gc time)\n",
      "next time unit is 0.25000000000000006\n",
      " 18.845608 seconds (187.63 M allocations: 6.076 GiB, 5.40% gc time)\n",
      "next time unit is 0.26000000000000006\n",
      " 18.968758 seconds (187.63 M allocations: 6.076 GiB, 5.77% gc time)\n",
      "next time unit is 0.2700000000000001\n",
      " 18.823512 seconds (187.63 M allocations: 6.076 GiB, 5.26% gc time)\n",
      "next time unit is 0.2800000000000001\n",
      " 18.848927 seconds (187.63 M allocations: 6.076 GiB, 5.30% gc time)\n",
      "next time unit is 0.2900000000000001\n",
      " 19.094202 seconds (187.63 M allocations: 6.076 GiB, 5.41% gc time)\n",
      "next time unit is 0.3000000000000001\n",
      " 18.941055 seconds (187.63 M allocations: 6.076 GiB, 5.31% gc time)\n",
      "next time unit is 0.3100000000000001\n",
      " 19.329405 seconds (187.63 M allocations: 6.076 GiB, 5.50% gc time)\n",
      "next time unit is 0.3200000000000001\n",
      " 18.865576 seconds (187.63 M allocations: 6.076 GiB, 5.50% gc time)\n",
      "next time unit is 0.3300000000000001\n",
      " 19.188039 seconds (187.63 M allocations: 6.076 GiB, 5.77% gc time)\n",
      "next time unit is 0.34000000000000014\n",
      " 18.988596 seconds (187.63 M allocations: 6.076 GiB, 5.37% gc time)\n",
      "next time unit is 0.35000000000000014\n",
      " 18.960674 seconds (187.63 M allocations: 6.076 GiB, 5.47% gc time)\n",
      "next time unit is 0.36000000000000015\n",
      " 18.963937 seconds (187.63 M allocations: 6.076 GiB, 5.30% gc time)\n",
      "next time unit is 0.37000000000000016\n",
      " 21.429731 seconds (187.63 M allocations: 6.076 GiB, 5.10% gc time)\n",
      "next time unit is 0.38000000000000017\n",
      " 20.912375 seconds (187.63 M allocations: 6.076 GiB, 5.32% gc time)\n",
      "next time unit is 0.3900000000000002\n",
      " 19.096686 seconds (187.63 M allocations: 6.076 GiB, 5.77% gc time)\n",
      "next time unit is 0.4000000000000002\n",
      " 18.763805 seconds (187.63 M allocations: 6.076 GiB, 5.31% gc time)\n",
      "next time unit is 0.4100000000000002\n",
      " 19.514264 seconds (187.63 M allocations: 6.076 GiB, 5.36% gc time)\n",
      "next time unit is 0.4200000000000002\n",
      " 19.462890 seconds (187.63 M allocations: 6.076 GiB, 5.49% gc time)\n",
      "next time unit is 0.4300000000000002\n",
      " 19.886002 seconds (187.63 M allocations: 6.076 GiB, 5.69% gc time)\n",
      "next time unit is 0.4400000000000002\n",
      " 19.201984 seconds (187.63 M allocations: 6.076 GiB, 5.38% gc time)\n",
      "next time unit is 0.45000000000000023\n",
      " 18.804800 seconds (187.63 M allocations: 6.076 GiB, 5.38% gc time)\n",
      "next time unit is 0.46000000000000024\n",
      " 19.031744 seconds (187.63 M allocations: 6.076 GiB, 5.70% gc time)\n",
      "next time unit is 0.47000000000000025\n",
      " 18.923322 seconds (187.63 M allocations: 6.076 GiB, 5.26% gc time)\n",
      "next time unit is 0.48000000000000026\n",
      " 18.763152 seconds (187.63 M allocations: 6.076 GiB, 5.31% gc time)\n",
      "next time unit is 0.49000000000000027\n",
      " 18.767559 seconds (187.63 M allocations: 6.076 GiB, 5.25% gc time)\n",
      "next time unit is 0.5000000000000002\n",
      " 18.781346 seconds (187.63 M allocations: 6.076 GiB, 5.29% gc time)\n",
      "next time unit is 0.5100000000000002\n",
      " 18.742524 seconds (187.63 M allocations: 6.076 GiB, 5.31% gc time)\n",
      "next time unit is 0.5200000000000002\n",
      " 18.727194 seconds (187.63 M allocations: 6.076 GiB, 5.31% gc time)\n",
      "next time unit is 0.5300000000000002\n",
      " 18.807848 seconds (187.63 M allocations: 6.076 GiB, 5.69% gc time)\n",
      "next time unit is 0.5400000000000003\n",
      " 18.938267 seconds (187.63 M allocations: 6.076 GiB, 5.36% gc time)\n",
      "next time unit is 0.5500000000000003\n",
      " 19.027023 seconds (187.63 M allocations: 6.076 GiB, 5.37% gc time)\n",
      "next time unit is 0.5600000000000003\n",
      " 19.491731 seconds (187.63 M allocations: 6.076 GiB, 5.37% gc time)\n",
      "next time unit is 0.5700000000000003\n",
      " 18.734766 seconds (187.63 M allocations: 6.076 GiB, 5.29% gc time)\n",
      "next time unit is 0.5800000000000003\n",
      " 18.854556 seconds (187.63 M allocations: 6.076 GiB, 5.30% gc time)\n",
      "next time unit is 0.5900000000000003\n",
      " 19.052954 seconds (187.63 M allocations: 6.076 GiB, 5.79% gc time)\n",
      "next time unit is 0.6000000000000003\n",
      " 18.979171 seconds (187.63 M allocations: 6.076 GiB, 5.25% gc time)\n",
      "next time unit is 0.6100000000000003\n",
      " 18.833233 seconds (187.63 M allocations: 6.076 GiB, 5.21% gc time)\n",
      "next time unit is 0.6200000000000003\n",
      " 18.800324 seconds (187.63 M allocations: 6.076 GiB, 5.27% gc time)\n",
      "next time unit is 0.6300000000000003\n",
      " 18.863811 seconds (187.63 M allocations: 6.076 GiB, 5.25% gc time)\n",
      "next time unit is 0.6400000000000003\n",
      " 18.731998 seconds (187.63 M allocations: 6.076 GiB, 5.29% gc time)\n",
      "next time unit is 0.6500000000000004\n",
      " 18.832497 seconds (187.63 M allocations: 6.076 GiB, 5.31% gc time)\n",
      "next time unit is 0.6600000000000004\n",
      " 18.987263 seconds (187.63 M allocations: 6.076 GiB, 5.65% gc time)\n",
      "next time unit is 0.6700000000000004\n",
      " 18.620563 seconds (187.63 M allocations: 6.076 GiB, 5.28% gc time)\n",
      "next time unit is 0.6800000000000004\n",
      " 18.695556 seconds (187.63 M allocations: 6.076 GiB, 5.26% gc time)\n",
      "next time unit is 0.6900000000000004\n",
      " 18.856769 seconds (187.63 M allocations: 6.076 GiB, 5.26% gc time)\n",
      "next time unit is 0.7000000000000004\n",
      " 19.138056 seconds (187.63 M allocations: 6.076 GiB, 5.49% gc time)\n",
      "next time unit is 0.7100000000000004\n",
      " 19.158024 seconds (187.63 M allocations: 6.076 GiB, 5.41% gc time)\n",
      "next time unit is 0.7200000000000004\n",
      " 18.822667 seconds (187.63 M allocations: 6.076 GiB, 5.34% gc time)\n",
      "next time unit is 0.7300000000000004\n",
      " 18.948866 seconds (187.63 M allocations: 6.076 GiB, 5.71% gc time)\n",
      "next time unit is 0.7400000000000004\n",
      " 18.819929 seconds (187.63 M allocations: 6.076 GiB, 5.29% gc time)\n",
      "next time unit is 0.7500000000000004\n",
      " 18.677936 seconds (187.63 M allocations: 6.076 GiB, 5.34% gc time)\n",
      "next time unit is 0.7600000000000005\n",
      " 18.769560 seconds (187.63 M allocations: 6.076 GiB, 5.29% gc time)\n",
      "next time unit is 0.7700000000000005\n",
      " 18.807508 seconds (187.63 M allocations: 6.076 GiB, 5.32% gc time)\n",
      "next time unit is 0.7800000000000005\n",
      " 18.816159 seconds (187.63 M allocations: 6.076 GiB, 5.37% gc time)\n",
      "next time unit is 0.7900000000000005\n",
      " 19.310946 seconds (187.63 M allocations: 6.076 GiB, 5.79% gc time)\n",
      "next time unit is 0.8000000000000005\n"
     ]
    },
    {
     "name": "stdout",
     "output_type": "stream",
     "text": [
      " 18.742232 seconds (187.63 M allocations: 6.076 GiB, 5.33% gc time)\n",
      "next time unit is 0.8100000000000005\n",
      " 18.824168 seconds (187.63 M allocations: 6.076 GiB, 5.36% gc time)\n",
      "next time unit is 0.8200000000000005\n",
      " 18.804019 seconds (187.63 M allocations: 6.076 GiB, 5.32% gc time)\n",
      "next time unit is 0.8300000000000005\n",
      " 18.786739 seconds (187.63 M allocations: 6.076 GiB, 5.38% gc time)\n",
      "next time unit is 0.8400000000000005\n",
      " 18.887421 seconds (187.63 M allocations: 6.076 GiB, 5.33% gc time)\n",
      "next time unit is 0.8500000000000005\n",
      " 18.805034 seconds (187.63 M allocations: 6.076 GiB, 5.36% gc time)\n",
      "next time unit is 0.8600000000000005\n",
      " 19.185364 seconds (187.63 M allocations: 6.076 GiB, 5.73% gc time)\n",
      "next time unit is 0.8700000000000006\n",
      " 18.804309 seconds (187.63 M allocations: 6.076 GiB, 5.24% gc time)\n",
      "next time unit is 0.8800000000000006\n",
      " 18.770154 seconds (187.63 M allocations: 6.076 GiB, 5.27% gc time)\n",
      "next time unit is 0.8900000000000006\n",
      " 18.837130 seconds (187.63 M allocations: 6.076 GiB, 5.33% gc time)\n",
      "next time unit is 0.9000000000000006\n",
      " 18.740384 seconds (187.63 M allocations: 6.076 GiB, 5.33% gc time)\n",
      "next time unit is 0.9100000000000006\n",
      " 18.730422 seconds (187.63 M allocations: 6.076 GiB, 5.32% gc time)\n",
      "next time unit is 0.9200000000000006\n",
      " 18.839056 seconds (187.63 M allocations: 6.076 GiB, 5.37% gc time)\n",
      "next time unit is 0.9300000000000006\n",
      " 19.059470 seconds (187.63 M allocations: 6.076 GiB, 5.76% gc time)\n",
      "next time unit is 0.9400000000000006\n",
      " 18.774821 seconds (187.63 M allocations: 6.076 GiB, 5.33% gc time)\n",
      "next time unit is 0.9500000000000006\n",
      " 18.700433 seconds (187.63 M allocations: 6.076 GiB, 5.34% gc time)\n",
      "next time unit is 0.9600000000000006\n",
      " 18.797313 seconds (187.63 M allocations: 6.076 GiB, 5.29% gc time)\n",
      "next time unit is 0.9700000000000006\n",
      " 18.762490 seconds (187.63 M allocations: 6.076 GiB, 5.38% gc time)\n",
      "next time unit is 0.9800000000000006\n",
      " 18.805796 seconds (187.63 M allocations: 6.076 GiB, 5.34% gc time)\n",
      "next time unit is 0.9900000000000007\n",
      " 18.926746 seconds (187.63 M allocations: 6.076 GiB, 5.75% gc time)\n",
      "next time unit is 1.0000000000000007\n",
      " 18.828981 seconds (187.63 M allocations: 6.076 GiB, 5.29% gc time)\n",
      "next time unit is 1.0100000000000007\n",
      " 18.724171 seconds (187.63 M allocations: 6.076 GiB, 5.26% gc time)\n",
      "next time unit is 1.0200000000000007\n",
      " 19.020989 seconds (187.63 M allocations: 6.076 GiB, 5.27% gc time)\n",
      "next time unit is 1.0300000000000007\n",
      " 18.824980 seconds (187.63 M allocations: 6.076 GiB, 5.37% gc time)\n",
      "next time unit is 1.0400000000000007\n",
      " 18.994048 seconds (187.63 M allocations: 6.076 GiB, 5.30% gc time)\n",
      "next time unit is 1.0500000000000007\n",
      " 18.861967 seconds (187.63 M allocations: 6.076 GiB, 5.42% gc time)\n",
      "next time unit is 1.0600000000000007\n",
      " 18.855078 seconds (187.63 M allocations: 6.076 GiB, 5.70% gc time)\n",
      "next time unit is 1.0700000000000007\n",
      " 18.635933 seconds (187.63 M allocations: 6.076 GiB, 5.33% gc time)\n",
      "next time unit is 1.0800000000000007\n",
      " 18.882715 seconds (187.63 M allocations: 6.076 GiB, 5.29% gc time)\n",
      "next time unit is 1.0900000000000007\n",
      " 18.853798 seconds (187.63 M allocations: 6.076 GiB, 5.29% gc time)\n",
      "next time unit is 1.1000000000000008\n",
      " 19.004576 seconds (187.63 M allocations: 6.076 GiB, 5.37% gc time)\n",
      "next time unit is 1.1100000000000008\n",
      " 19.158368 seconds (187.63 M allocations: 6.076 GiB, 5.43% gc time)\n",
      "next time unit is 1.1200000000000008\n",
      " 18.912548 seconds (187.63 M allocations: 6.076 GiB, 5.37% gc time)\n",
      "next time unit is 1.1300000000000008\n",
      " 19.012284 seconds (187.63 M allocations: 6.076 GiB, 5.70% gc time)\n",
      "next time unit is 1.1400000000000008\n",
      " 18.833333 seconds (187.63 M allocations: 6.076 GiB, 5.24% gc time)\n",
      "next time unit is 1.1500000000000008\n",
      " 18.737168 seconds (187.63 M allocations: 6.076 GiB, 5.27% gc time)\n",
      "next time unit is 1.1600000000000008\n",
      " 18.903222 seconds (187.63 M allocations: 6.076 GiB, 5.39% gc time)\n",
      "next time unit is 1.1700000000000008\n",
      " 19.018785 seconds (187.63 M allocations: 6.076 GiB, 5.31% gc time)\n",
      "next time unit is 1.1800000000000008\n",
      " 18.894716 seconds (187.63 M allocations: 6.076 GiB, 5.43% gc time)\n",
      "next time unit is 1.1900000000000008\n",
      " 18.890654 seconds (187.63 M allocations: 6.076 GiB, 5.74% gc time)\n",
      "next time unit is 1.2000000000000008\n",
      " 18.674452 seconds (187.63 M allocations: 6.076 GiB, 5.26% gc time)\n",
      "next time unit is 1.2100000000000009\n",
      " 18.769552 seconds (187.63 M allocations: 6.076 GiB, 5.25% gc time)\n",
      "next time unit is 1.2200000000000009\n",
      " 18.809922 seconds (187.63 M allocations: 6.076 GiB, 5.31% gc time)\n",
      "next time unit is 1.2300000000000009\n",
      " 18.861535 seconds (187.63 M allocations: 6.076 GiB, 5.29% gc time)\n",
      "next time unit is 1.2400000000000009\n",
      " 18.897412 seconds (187.63 M allocations: 6.076 GiB, 5.30% gc time)\n",
      "next time unit is 1.2500000000000009\n",
      " 18.797917 seconds (187.63 M allocations: 6.076 GiB, 5.33% gc time)\n",
      "next time unit is 1.260000000000001\n",
      " 19.090414 seconds (187.63 M allocations: 6.076 GiB, 5.76% gc time)\n",
      "next time unit is 1.270000000000001\n",
      " 18.778949 seconds (187.63 M allocations: 6.076 GiB, 5.29% gc time)\n",
      "next time unit is 1.280000000000001\n",
      " 18.803516 seconds (187.63 M allocations: 6.076 GiB, 5.36% gc time)\n",
      "next time unit is 1.290000000000001\n",
      " 19.416559 seconds (187.63 M allocations: 6.076 GiB, 5.31% gc time)\n",
      "next time unit is 1.300000000000001\n",
      " 18.877176 seconds (187.63 M allocations: 6.076 GiB, 5.36% gc time)\n",
      "next time unit is 1.310000000000001\n",
      " 18.838606 seconds (187.63 M allocations: 6.076 GiB, 5.33% gc time)\n",
      "next time unit is 1.320000000000001\n",
      " 18.876348 seconds (187.63 M allocations: 6.076 GiB, 5.43% gc time)\n",
      "next time unit is 1.330000000000001\n",
      " 19.111537 seconds (187.63 M allocations: 6.076 GiB, 5.74% gc time)\n",
      "next time unit is 1.340000000000001\n",
      " 18.892590 seconds (187.63 M allocations: 6.076 GiB, 5.31% gc time)\n",
      "next time unit is 1.350000000000001\n",
      " 18.884630 seconds (187.63 M allocations: 6.076 GiB, 5.37% gc time)\n",
      "next time unit is 1.360000000000001\n",
      " 18.811799 seconds (187.63 M allocations: 6.076 GiB, 5.33% gc time)\n",
      "next time unit is 1.370000000000001\n",
      " 18.924299 seconds (187.63 M allocations: 6.076 GiB, 5.41% gc time)\n",
      "next time unit is 1.380000000000001\n",
      " 18.689820 seconds (187.63 M allocations: 6.076 GiB, 5.42% gc time)\n",
      "next time unit is 1.390000000000001\n",
      " 19.045163 seconds (187.63 M allocations: 6.076 GiB, 5.75% gc time)\n",
      "next time unit is 1.400000000000001\n",
      " 18.813488 seconds (187.63 M allocations: 6.076 GiB, 5.34% gc time)\n",
      "next time unit is 1.410000000000001\n",
      " 18.981875 seconds (187.63 M allocations: 6.076 GiB, 5.34% gc time)\n",
      "next time unit is 1.420000000000001\n",
      " 18.873454 seconds (187.63 M allocations: 6.076 GiB, 5.28% gc time)\n",
      "next time unit is 1.430000000000001\n",
      " 18.978896 seconds (187.63 M allocations: 6.076 GiB, 5.35% gc time)\n",
      "next time unit is 1.440000000000001\n",
      " 18.925580 seconds (187.63 M allocations: 6.076 GiB, 5.32% gc time)\n",
      "next time unit is 1.450000000000001\n",
      " 18.760062 seconds (187.63 M allocations: 6.076 GiB, 5.35% gc time)\n",
      "next time unit is 1.460000000000001\n",
      " 18.930225 seconds (187.63 M allocations: 6.076 GiB, 5.77% gc time)\n",
      "next time unit is 1.470000000000001\n",
      " 18.672482 seconds (187.63 M allocations: 6.076 GiB, 5.29% gc time)\n",
      "next time unit is 1.480000000000001\n",
      " 18.923784 seconds (187.63 M allocations: 6.076 GiB, 5.31% gc time)\n",
      "next time unit is 1.490000000000001\n",
      " 18.984293 seconds (187.63 M allocations: 6.076 GiB, 5.36% gc time)\n",
      "next time unit is 1.500000000000001\n",
      " 19.048845 seconds (187.63 M allocations: 6.076 GiB, 5.35% gc time)\n",
      "next time unit is 1.5100000000000011\n",
      " 18.956424 seconds (187.63 M allocations: 6.076 GiB, 5.29% gc time)\n",
      "next time unit is 1.5200000000000011\n",
      " 18.874002 seconds (187.63 M allocations: 6.076 GiB, 5.38% gc time)\n",
      "next time unit is 1.5300000000000011\n",
      " 18.910368 seconds (187.63 M allocations: 6.076 GiB, 5.74% gc time)\n",
      "next time unit is 1.5400000000000011\n",
      " 18.650782 seconds (187.63 M allocations: 6.076 GiB, 5.37% gc time)\n",
      "next time unit is 1.5500000000000012\n",
      " 18.878266 seconds (187.63 M allocations: 6.076 GiB, 5.29% gc time)\n",
      "next time unit is 1.5600000000000012\n",
      " 18.916681 seconds (187.63 M allocations: 6.076 GiB, 5.36% gc time)\n",
      "next time unit is 1.5700000000000012\n",
      " 18.930988 seconds (187.63 M allocations: 6.076 GiB, 5.38% gc time)\n",
      "next time unit is 1.5800000000000012\n",
      " 18.841703 seconds (187.63 M allocations: 6.076 GiB, 5.36% gc time)\n",
      "next time unit is 1.5900000000000012\n"
     ]
    },
    {
     "name": "stdout",
     "output_type": "stream",
     "text": [
      " 19.019947 seconds (187.63 M allocations: 6.076 GiB, 5.74% gc time)\n",
      "next time unit is 1.6000000000000012\n",
      " 18.761800 seconds (187.63 M allocations: 6.076 GiB, 5.31% gc time)\n",
      "next time unit is 1.6100000000000012\n",
      " 18.915639 seconds (187.63 M allocations: 6.076 GiB, 5.29% gc time)\n",
      "next time unit is 1.6200000000000012\n",
      " 18.943936 seconds (187.63 M allocations: 6.076 GiB, 5.36% gc time)\n",
      "next time unit is 1.6300000000000012\n",
      " 18.951994 seconds (187.63 M allocations: 6.076 GiB, 5.39% gc time)\n",
      "next time unit is 1.6400000000000012\n",
      " 18.860786 seconds (187.63 M allocations: 6.076 GiB, 5.43% gc time)\n",
      "next time unit is 1.6500000000000012\n",
      " 18.823309 seconds (187.63 M allocations: 6.076 GiB, 5.38% gc time)\n",
      "next time unit is 1.6600000000000013\n",
      " 18.877196 seconds (187.63 M allocations: 6.076 GiB, 5.70% gc time)\n",
      "next time unit is 1.6700000000000013\n",
      " 19.105770 seconds (187.63 M allocations: 6.076 GiB, 5.41% gc time)\n",
      "next time unit is 1.6800000000000013\n",
      " 18.924965 seconds (187.63 M allocations: 6.076 GiB, 5.39% gc time)\n",
      "next time unit is 1.6900000000000013\n",
      " 18.905574 seconds (187.63 M allocations: 6.076 GiB, 5.44% gc time)\n",
      "next time unit is 1.7000000000000013\n",
      " 18.948044 seconds (187.63 M allocations: 6.076 GiB, 5.37% gc time)\n",
      "next time unit is 1.7100000000000013\n",
      " 18.807843 seconds (187.63 M allocations: 6.076 GiB, 5.38% gc time)\n",
      "next time unit is 1.7200000000000013\n",
      " 18.904809 seconds (187.63 M allocations: 6.076 GiB, 5.31% gc time)\n",
      "next time unit is 1.7300000000000013\n",
      " 18.754866 seconds (187.63 M allocations: 6.076 GiB, 5.77% gc time)\n",
      "next time unit is 1.7400000000000013\n",
      " 18.775832 seconds (187.63 M allocations: 6.076 GiB, 5.30% gc time)\n",
      "next time unit is 1.7500000000000013\n",
      " 18.796899 seconds (187.63 M allocations: 6.076 GiB, 5.31% gc time)\n",
      "next time unit is 1.7600000000000013\n",
      " 18.874304 seconds (187.63 M allocations: 6.076 GiB, 5.29% gc time)\n",
      "next time unit is 1.7700000000000014\n",
      " 18.996061 seconds (187.63 M allocations: 6.076 GiB, 5.40% gc time)\n",
      "next time unit is 1.7800000000000014\n",
      " 18.847991 seconds (187.63 M allocations: 6.076 GiB, 5.43% gc time)\n",
      "next time unit is 1.7900000000000014\n",
      " 18.808537 seconds (187.63 M allocations: 6.076 GiB, 5.84% gc time)\n",
      "next time unit is 1.8000000000000014\n",
      " 18.825357 seconds (187.63 M allocations: 6.076 GiB, 5.33% gc time)\n",
      "next time unit is 1.8100000000000014\n",
      " 18.973087 seconds (187.63 M allocations: 6.076 GiB, 5.38% gc time)\n",
      "next time unit is 1.8200000000000014\n",
      " 18.778148 seconds (187.63 M allocations: 6.076 GiB, 5.31% gc time)\n",
      "next time unit is 1.8300000000000014\n",
      " 18.703617 seconds (187.63 M allocations: 6.076 GiB, 5.35% gc time)\n",
      "next time unit is 1.8400000000000014\n",
      " 18.811782 seconds (187.63 M allocations: 6.076 GiB, 5.37% gc time)\n",
      "next time unit is 1.8500000000000014\n",
      " 18.835701 seconds (187.63 M allocations: 6.076 GiB, 5.37% gc time)\n",
      "next time unit is 1.8600000000000014\n",
      " 19.046794 seconds (187.63 M allocations: 6.076 GiB, 5.75% gc time)\n",
      "next time unit is 1.8700000000000014\n",
      " 18.898791 seconds (187.63 M allocations: 6.076 GiB, 5.36% gc time)\n",
      "next time unit is 1.8800000000000014\n",
      " 18.911404 seconds (187.63 M allocations: 6.076 GiB, 5.23% gc time)\n",
      "next time unit is 1.8900000000000015\n",
      " 18.798874 seconds (187.63 M allocations: 6.076 GiB, 5.31% gc time)\n",
      "next time unit is 1.9000000000000015\n",
      " 18.774212 seconds (187.63 M allocations: 6.076 GiB, 5.35% gc time)\n",
      "next time unit is 1.9100000000000015\n",
      " 18.946505 seconds (187.63 M allocations: 6.076 GiB, 5.30% gc time)\n",
      "next time unit is 1.9200000000000015\n",
      " 18.721208 seconds (187.63 M allocations: 6.076 GiB, 5.41% gc time)\n",
      "next time unit is 1.9300000000000015\n",
      " 18.988704 seconds (187.63 M allocations: 6.076 GiB, 5.69% gc time)\n",
      "next time unit is 1.9400000000000015\n",
      " 18.853207 seconds (187.63 M allocations: 6.076 GiB, 5.24% gc time)\n",
      "next time unit is 1.9500000000000015\n",
      " 18.834651 seconds (187.63 M allocations: 6.076 GiB, 5.34% gc time)\n",
      "next time unit is 1.9600000000000015\n",
      " 18.727850 seconds (187.63 M allocations: 6.076 GiB, 5.29% gc time)\n",
      "next time unit is 1.9700000000000015\n",
      " 18.780418 seconds (187.63 M allocations: 6.076 GiB, 5.33% gc time)\n",
      "next time unit is 1.9800000000000015\n",
      " 18.918038 seconds (187.63 M allocations: 6.076 GiB, 5.37% gc time)\n",
      "next time unit is 1.9900000000000015\n",
      " 18.911767 seconds (187.63 M allocations: 6.076 GiB, 5.71% gc time)\n",
      "next time unit is 2.0000000000000013\n",
      "3808.114911 seconds (37.53 G allocations: 1.187 TiB, 5.40% gc time)\n"
     ]
    }
   ],
   "source": [
    "@time for ti in T\n",
    "    \n",
    "    @time global t, (w, f), (qJ, v, λ), bd = ifherk_coupled(t, w, qJ, v, bd,fsys)\n",
    "    \n",
    "    push!(thist,t-Δt)\n",
    "    push!(fx,sum(f.u)*Δx^2)\n",
    "    push!(fy,sum(f.v)*Δx^2)\n",
    "    push!(whist,deepcopy(w))\n",
    "    push!(bdhist,deepcopy(bd))\n",
    "    println(\"next time unit is \",t)\n",
    "end"
   ]
  },
  {
   "cell_type": "markdown",
   "metadata": {},
   "source": [
    "## <span style=\"color:blue\"> Plot </span>"
   ]
  },
  {
   "cell_type": "markdown",
   "metadata": {},
   "source": [
    "#### Set contour levels and fps"
   ]
  },
  {
   "cell_type": "code",
   "execution_count": 22,
   "metadata": {},
   "outputs": [],
   "source": [
    "contour_levels = range(-0.2,stop=0.2,length=50)\n",
    "sample_freq = 1\n",
    "fps = 25;"
   ]
  },
  {
   "cell_type": "markdown",
   "metadata": {},
   "source": [
    "#### Get body verts history"
   ]
  },
  {
   "cell_type": "code",
   "execution_count": 23,
   "metadata": {},
   "outputs": [],
   "source": [
    "# get verts info based on this regular grid solution\n",
    "vshist = []\n",
    "for i = 1:length(bdhist)\n",
    "    push!(vshist, VertsHistory(bdhist[i].sys.nbody, bdhist[i].bs))\n",
    "end"
   ]
  },
  {
   "cell_type": "markdown",
   "metadata": {},
   "source": [
    "#### Plot first and last time field"
   ]
  },
  {
   "cell_type": "code",
   "execution_count": 24,
   "metadata": {},
   "outputs": [
    {
     "data": {
      "image/png": "[encoded data removed]"
     },
     "execution_count": 24,
     "metadata": {},
     "output_type": "execute_result"
    }
   ],
   "source": [
    "p = plot(xg,yg,whist[1],levels=contour_levels)\n",
    "for i = 1:bd.sys.nbody\n",
    "    plot!(p,vshist[1][i,[1:nverts;1],1], vshist[1][i,[1:nverts;1],3],linewidth=2,linecolor=\"black\", fill=true)\n",
    "end\n",
    "p"
   ]
  },
  {
   "cell_type": "code",
   "execution_count": 25,
   "metadata": {},
   "outputs": [
    {
     "data": {
      "image/png": "[encoded data removed]"
     },
     "execution_count": 25,
     "metadata": {},
     "output_type": "execute_result"
    }
   ],
   "source": [
    "p = plot(xg,yg,whist[end],levels=contour_levels)\n",
    "for i = 1:bd.sys.nbody\n",
    "    plot!(p,vshist[end][i,[1:nverts;1],1], vshist[end][i,[1:nverts;1],3],linewidth=2,linecolor=\"black\", fill=true)\n",
    "end\n",
    "# savefig(p,\"plate.eps\")\n",
    "p"
   ]
  },
  {
   "cell_type": "markdown",
   "metadata": {},
   "source": [
    "#### Body position begining and end"
   ]
  },
  {
   "cell_type": "code",
   "execution_count": 26,
   "metadata": {},
   "outputs": [
    {
     "data": {
      "image/png": "[encoded data removed]"
     },
     "execution_count": 26,
     "metadata": {},
     "output_type": "execute_result"
    }
   ],
   "source": [
    "pb = plot()\n",
    "for i = 1:sys.nbody\n",
    "    plot!(pb,vshist[1][i,[1:nverts;1],1], vshist[1][i,[1:nverts;1],3],linewidth=2,linecolor=\"grey\",label=\"begin\",fill=true)\n",
    "end\n",
    "for i = 1:sys.nbody\n",
    "    plot!(pb,vshist[end][i,[1:nverts;1],1], vshist[end][i,[1:nverts;1],3],linewidth=2,linecolor=\"red\",label=\"end\",fill=true)\n",
    "end\n",
    "plot!(pb,xlims=(xg[1],xg[end]), ylims=(yg[1],yg[end]),ratio=1)\n",
    "pb"
   ]
  },
  {
   "cell_type": "markdown",
   "metadata": {},
   "source": [
    "#### Make gif"
   ]
  },
  {
   "cell_type": "code",
   "execution_count": 27,
   "metadata": {},
   "outputs": [
    {
     "data": {
      "image/png": "[encoded data removed]",
      "text/plain": [
       "PyPlot.Figure(PyObject <matplotlib.figure.Figure object at 0x7f757a1fb7b8>)"
      ]
     },
     "metadata": {},
     "output_type": "display_data"
    },
    {
     "name": "stderr",
     "output_type": "stream",
     "text": [
      "┌ Info: Saved animation to \n",
      "│   fn = /mnt/g/Research/FSI.jl/examples/FallingCylinder.gif\n",
      "└ @ Plots /home/fs/.julia/packages/Plots/oiirH/src/animation.jl:90\n"
     ]
    },
    {
     "data": {
      "text/html": [
       "<img src=\"FallingCylinder.gif\" />"
      ],
      "text/plain": [
       "Plots.AnimatedGif(\"/mnt/g/Research/FSI.jl/examples/FallingCylinder.gif\")"
      ]
     },
     "execution_count": 27,
     "metadata": {},
     "output_type": "execute_result"
    }
   ],
   "source": [
    "anim = @animate for j = 1:sample_freq:length(whist)\n",
    "    plot(xg,yg,whist[j],levels=contour_levels)\n",
    "    for i = 1:sys.nbody\n",
    "        plot!(vshist[j][i,[1:nverts;1],1], vshist[j][i,[1:nverts;1],3],linewidth=2,linecolor=\"black\",fill=true)\n",
    "    end\n",
    "end\n",
    "\n",
    "gif(anim, filename*\".gif\", fps = fps)"
   ]
  },
  {
   "cell_type": "markdown",
   "metadata": {},
   "source": [
    "#### Get cylinder position and velocity in time"
   ]
  },
  {
   "cell_type": "code",
   "execution_count": 28,
   "metadata": {},
   "outputs": [],
   "source": [
    "vhist = [0.0]\n",
    "phist = [0.0]\n",
    "\n",
    "for i in 1:length(bdhist)\n",
    "    push!(vhist,bdhist[i].bs[1].v[6])\n",
    "    push!(phist,bdhist[i].bs[1].x_i[3]-bdhist[1].bs[1].x_i[3])    \n",
    "end\n",
    "\n",
    "ahist = []\n",
    "for i in 1:length(vhist)-1\n",
    "    push!(ahist,(vhist[i+1]-vhist[i])/Δt)\n",
    "end"
   ]
  },
  {
   "cell_type": "markdown",
   "metadata": {},
   "source": [
    "#### Plot"
   ]
  },
  {
   "cell_type": "code",
   "execution_count": 29,
   "metadata": {},
   "outputs": [
    {
     "data": {
      "image/png": "[encoded data removed]"
     },
     "execution_count": 29,
     "metadata": {},
     "output_type": "execute_result"
    }
   ],
   "source": [
    "pp = plot([0.0;thist],phist,xlabel=\"\\$(g/D)^{0.5}t \\$\",ylabel=\"\\$y/D\\$\",legend=false,ylims=(-25,0))\n",
    "pv = plot([0.0;thist],vhist,xlabel=\"\\$(g/D)^{0.5}t \\$\",ylabel=\"\\$v/(gD)^{0.5}\\$\",legend=false,ylims=(-2,0))\n",
    "pa = plot([0.0;thist[1:end-1]],ahist,xlabel=\"\\$(g/D)^{0.5}t \\$\",ylabel=\"\\$a/g\\$\",legend=false,ylims=(-0.5,0))\n",
    "\n",
    "plot(pp,pv,pa)"
   ]
  },
  {
   "cell_type": "code",
   "execution_count": 42,
   "metadata": {},
   "outputs": [
    {
     "data": {
      "text/plain": [
       "10-element Array{Float64,1}:\n",
       " 0.4047255186270097 \n",
       " 0.40661351688953007\n",
       " 0.40820592093341757\n",
       " 0.4095946883747697 \n",
       " 0.41083627802234696\n",
       " 0.4119667843242825 \n",
       " 0.4130105478438327 \n",
       " 0.41398497527330846\n",
       " 0.4149015485084786 \n",
       " 0.4157745747486699 "
      ]
     },
     "execution_count": 42,
     "metadata": {},
     "output_type": "execute_result"
    }
   ],
   "source": [
    "fy[1:10]"
   ]
  },
  {
   "cell_type": "code",
   "execution_count": 40,
   "metadata": {},
   "outputs": [
    {
     "data": {
      "text/plain": [
       "10-element Array{Any,1}:\n",
       " -0.2422496475451447 \n",
       " -0.24084288418612845\n",
       " -0.23968571429072438\n",
       " -0.23869557831816648\n",
       " -0.23782280425657526\n",
       " -0.237036433279845  \n",
       " -0.2363162471318214 \n",
       " -0.23564806906356642\n",
       " -0.23502237306246426\n",
       " -0.23443007605011834"
      ]
     },
     "execution_count": 40,
     "metadata": {},
     "output_type": "execute_result"
    }
   ],
   "source": [
    "ahist[1:10]"
   ]
  },
  {
   "cell_type": "markdown",
   "metadata": {},
   "source": [
    "#### fluid force"
   ]
  },
  {
   "cell_type": "code",
   "execution_count": 31,
   "metadata": {},
   "outputs": [
    {
     "data": {
      "image/png": "[encoded data removed]"
     },
     "execution_count": 31,
     "metadata": {},
     "output_type": "execute_result"
    }
   ],
   "source": [
    "px = plot(thist,fx,ylim=(-1,1),xlabel=\"Convective time\",ylabel=\"\\$C_D\\$\",legend=false)\n",
    "py = plot(thist,fy,ylim=(0,1),xlabel=\"Convective time\",ylabel=\"\\$C_L\\$\",legend=false)\n",
    "plot(px,py)"
   ]
  },
  {
   "cell_type": "code",
   "execution_count": 34,
   "metadata": {},
   "outputs": [],
   "source": [
    "using CSV\n",
    "\n",
    "pdata = CSV.read(\"local_run/validation/csv/position.csv\",header=false)\n",
    "xp = [pdata[i,1] for i in 1:length(pdata[1])]\n",
    "yp = [pdata[i,2] for i in 1:length(pdata[2])]\n",
    "\n",
    "vdata = CSV.read(\"local_run/validation/csv/velocity.csv\",header=false)\n",
    "xv = [vdata[i,1] for i in 1:length(vdata[1])]\n",
    "yv = [vdata[i,2] for i in 1:length(vdata[2])]\n",
    "\n",
    "adata = CSV.read(\"local_run/validation/csv/acceleration.csv\",header=false)\n",
    "xa = [adata[i,1] for i in 1:length(adata[1])]\n",
    "ya = [adata[i,2] for i in 1:length(adata[2])];"
   ]
  },
  {
   "cell_type": "code",
   "execution_count": 35,
   "metadata": {},
   "outputs": [
    {
     "data": {
      "image/png": "[encoded data removed]"
     },
     "execution_count": 35,
     "metadata": {},
     "output_type": "execute_result"
    }
   ],
   "source": [
    "pp = plot([0.0;thist],phist,xlabel=\"\\$(g/D)^{0.5}t \\$\",ylabel=\"\\$y/D\\$\",legend=false)#,ylims=(-25,0))\n",
    "scatter!(pp,xp,yp,linestyle=:dot,markersize=1)\n",
    "pv = plot([0.0;thist],vhist,xlabel=\"\\$(g/D)^{0.5}t \\$\",ylabel=\"\\$v/(gD)^{0.5}\\$\",legend=false)#,ylims=(-2,0))\n",
    "scatter!(xv,yv,linestyle=:dot,markersize=1)\n",
    "pa = plot([0.0;thist[1:end-1]],ahist,xlabel=\"\\$(g/D)^{0.5}t \\$\",ylabel=\"\\$a/g\\$\",legend=false)#,ylims=(-0.5,0))\n",
    "scatter!(xa,ya,linestyle=:dot,markersize=1)\n",
    "\n",
    "plot(pp,pv,pa)"
   ]
  },
  {
   "cell_type": "markdown",
   "metadata": {},
   "source": [
    "## <span style=\"color:blue\"> Save Data </span>"
   ]
  },
  {
   "cell_type": "markdown",
   "metadata": {},
   "source": [
    "#### Save all current data related to plotting to a .jld file"
   ]
  },
  {
   "cell_type": "code",
   "execution_count": 32,
   "metadata": {},
   "outputs": [],
   "source": [
    "using JLD\n",
    "save(filename*\".jld\",\n",
    "    \"bd\", bd,    \n",
    "    \"bdhist\", bdhist,\n",
    "    \"xg\", xg,\n",
    "    \"yg\", yg,\n",
    "    \"whist\", whist,\n",
    "    \"vshist\", vshist,\n",
    "    \"thist\", thist,\n",
    "    \"fx\", fx,\n",
    "    \"fy\", fy,\n",
    "    \"Δt\", Δt,\n",
    "    \"w\", w,\n",
    "    \"qJ\", qJ,\n",
    "    \"v\", v\n",
    ")"
   ]
  },
  {
   "cell_type": "markdown",
   "metadata": {},
   "source": [
    "#### Use the following block to extract data"
   ]
  },
  {
   "cell_type": "code",
   "execution_count": 33,
   "metadata": {},
   "outputs": [],
   "source": [
    "# using JLD\n",
    "\n",
    "# d = load(filename*\".jld\")\n",
    "# thist = d[\"thist\"]\n",
    "# fx = d[\"fx\"]\n",
    "# fy = d[\"fy\"]\n",
    "# xg = d[\"xg\"]\n",
    "# yg = d[\"yg\"]\n",
    "# vshist = d[\"vshist\"]\n",
    "# whist = d[\"whist\"]\n",
    "# bd = d[\"bd\"]\n",
    "# bdhist = d[\"bdhist\"]\n",
    "# Δt = d[\"Δt\"]\n",
    "# w = d[\"w\"]\n",
    "# qJ = d[\"qJ\"]\n",
    "# v = d[\"v\"]\n",
    "\n",
    "# @get bd (bs,js,sys);"
   ]
  }
 ],
 "metadata": {
  "@webio": {
   "lastCommId": null,
   "lastKernelId": null
  },
  "kernelspec": {
   "display_name": "Julia 1.0.4",
   "language": "julia",
   "name": "julia-1.0"
  },
  "language_info": {
   "file_extension": ".jl",
   "mimetype": "application/julia",
   "name": "julia",
   "version": "1.0.4"
  }
 },
 "nbformat": 4,
 "nbformat_minor": 2
}
