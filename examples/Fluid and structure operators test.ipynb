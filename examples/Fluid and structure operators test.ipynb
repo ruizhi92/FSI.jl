{
 "cells": [
  {
   "cell_type": "markdown",
   "metadata": {},
   "source": [
    "# Fluid and structure operators test"
   ]
  },
  {
   "cell_type": "code",
   "execution_count": 1,
   "metadata": {},
   "outputs": [],
   "source": [
    "include(\"../src/FSI.jl\")\n",
    "using FSI"
   ]
  },
  {
   "cell_type": "code",
   "execution_count": 2,
   "metadata": {},
   "outputs": [],
   "source": [
    "using Plots\n",
    "pyplot()\n",
    "clibrary(:colorbrewer)\n",
    "default(grid = false)"
   ]
  },
  {
   "cell_type": "markdown",
   "metadata": {},
   "source": [
    "## <span style=\"color:blue\"> Set up rigid body with Dyn3d"
   ]
  },
  {
   "cell_type": "markdown",
   "metadata": {},
   "source": [
    "#### Include any joint-body setup script from Dyn3d"
   ]
  },
  {
   "cell_type": "code",
   "execution_count": 3,
   "metadata": {},
   "outputs": [
    {
     "name": "stdout",
     "output_type": "stream",
     "text": [
      "Config info set up.\n"
     ]
    }
   ],
   "source": [
    "include(Pkg.dir(\"Dyn3d\")*\"/src/config_files/2dSwim.jl\")"
   ]
  },
  {
   "cell_type": "markdown",
   "metadata": {},
   "source": [
    "#### Build joint-body chain"
   ]
  },
  {
   "cell_type": "code",
   "execution_count": 4,
   "metadata": {},
   "outputs": [
    {
     "data": {
      "text/plain": []
     },
     "execution_count": 4,
     "metadata": {},
     "output_type": "execute_result"
    }
   ],
   "source": [
    "bs, js, bsys = BuildChain(config_bodys, config_joints, config_system)\n",
    "bd = BodyDyn(bs, js, bsys)"
   ]
  },
  {
   "cell_type": "markdown",
   "metadata": {},
   "source": [
    "#### Initialize rigid body system state to complete body-joint information"
   ]
  },
  {
   "cell_type": "code",
   "execution_count": 5,
   "metadata": {},
   "outputs": [
    {
     "name": "stdout",
     "output_type": "stream",
     "text": [
      "This is a 6 body-joint system, system is un-mounted from space"
     ]
    },
    {
     "data": {
      "text/plain": [
       "(, Dyn3d.ConstructSystem.Soln{Float64}(0.0, 0.001, [0.0, 0.0, 0.0, 0.0, 0.0, 0.0, 0.0, 0.0, 0.773466, 0.0  …  0.60165, 0.0, 0.0, 0.0, 0.0, 0.0, 0.504844, 0.0, 0.0, 0.0], [0.0, 0.0, 0.0, 0.0, 0.0, 0.0, 0.0, 0.0, 0.0, 0.0  …  0.0, 0.0, 0.0, 0.0, 0.0, 0.0, 0.0, 0.0, 0.0, 0.0], Float64[], Float64[]))"
      ]
     },
     "execution_count": 5,
     "metadata": {},
     "output_type": "execute_result"
    },
    {
     "name": "stdout",
     "output_type": "stream",
     "text": [
      "This is a 6 body-joint system, system is un-mounted from space"
     ]
    }
   ],
   "source": [
    "bd, soln₀ = InitSystem!(bd)"
   ]
  },
  {
   "cell_type": "markdown",
   "metadata": {},
   "source": [
    "#### Initialize u and λ container"
   ]
  },
  {
   "cell_type": "code",
   "execution_count": 6,
   "metadata": {},
   "outputs": [],
   "source": [
    "@get bd (bs, js, sys)\n",
    "\n",
    "qJ_dim = sys.ndof\n",
    "λ_dim = sys.ncdof_HERK\n",
    "u = zeros(qJ_dim)\n",
    "λ = zeros(λ_dim);"
   ]
  },
  {
   "cell_type": "markdown",
   "metadata": {},
   "source": [
    "#### Get body verts for plotting"
   ]
  },
  {
   "cell_type": "code",
   "execution_count": 7,
   "metadata": {},
   "outputs": [],
   "source": [
    "bs, js, sys = UpdatePosition!(bs, js, sys, soln₀.qJ)\n",
    "vs₀ = VertsHistory(sys.nbody, bs);"
   ]
  },
  {
   "cell_type": "markdown",
   "metadata": {},
   "source": [
    "#### Plot body only"
   ]
  },
  {
   "cell_type": "code",
   "execution_count": 8,
   "metadata": {},
   "outputs": [],
   "source": [
    "# p = plot()\n",
    "# for i = 1:sys.nbody\n",
    "#     plot!(p,vs₀[i,2:3,1], vs₀[i,2:3,2],linewidth=2)\n",
    "# end\n",
    "# plot!(xlims=(0,3), ylims=(0,2))"
   ]
  },
  {
   "cell_type": "markdown",
   "metadata": {},
   "source": [
    "## <span style=\"color:blue\"> Set up fluid with Whirl </span>"
   ]
  },
  {
   "cell_type": "markdown",
   "metadata": {},
   "source": [
    "#### Set the flow parameters"
   ]
  },
  {
   "cell_type": "code",
   "execution_count": 9,
   "metadata": {},
   "outputs": [
    {
     "data": {
      "text/plain": [
       "(1.0, 0.0)"
      ]
     },
     "execution_count": 9,
     "metadata": {},
     "output_type": "execute_result"
    }
   ],
   "source": [
    "Re = 200 # Reynolds number\n",
    "U = 1.0 # Free stream velocity\n",
    "U∞ = (U, 0.0)"
   ]
  },
  {
   "cell_type": "markdown",
   "metadata": {},
   "source": [
    "#### Set the domain grid"
   ]
  },
  {
   "cell_type": "code",
   "execution_count": 10,
   "metadata": {},
   "outputs": [
    {
     "data": {
      "text/plain": [
       "(-0.01:0.02:3.0100000000000002, -0.01:0.02:2.0100000000000002)"
      ]
     },
     "execution_count": 10,
     "metadata": {},
     "output_type": "execute_result"
    }
   ],
   "source": [
    "nx = 152; ny = 102;\n",
    "Ly = 2.0;\n",
    "Δx = Ly/(ny-2);\n",
    "w₀ = Nodes(Dual,(nx,ny))\n",
    "xg, yg = coordinates(w₀,dx=Δx)"
   ]
  },
  {
   "cell_type": "markdown",
   "metadata": {},
   "source": [
    "#### Set up fluid initial conditions"
   ]
  },
  {
   "cell_type": "code",
   "execution_count": 11,
   "metadata": {},
   "outputs": [],
   "source": [
    "w₀ .= 0.0;"
   ]
  },
  {
   "cell_type": "markdown",
   "metadata": {},
   "source": [
    "## <span style=\"color:blue\"> Create fluid-body interface </span>"
   ]
  },
  {
   "cell_type": "markdown",
   "metadata": {},
   "source": [
    "#### Genrate body grid points and get linear velocity on them"
   ]
  },
  {
   "cell_type": "code",
   "execution_count": 12,
   "metadata": {
    "scrolled": true
   },
   "outputs": [],
   "source": [
    "# bgs short for body grid system\n",
    "bgs = GenerateBodyGrid(bd; np=DetermineNP(nbody, Δx))\n",
    "bgs = CutOut2d(bd,bgs);"
   ]
  },
  {
   "cell_type": "markdown",
   "metadata": {},
   "source": [
    "#### Get body points initial coordinates for fluids"
   ]
  },
  {
   "cell_type": "code",
   "execution_count": 13,
   "metadata": {},
   "outputs": [],
   "source": [
    "bgs = AcquireBodyGridKinematics(bd,bgs)\n",
    "coord_init = hcat(bgs[1].q_i...)'[:,[1,2]]\n",
    "for i = 2:length(bgs)\n",
    "    coord_init = [coord_init[1:end-1,:]; hcat(bgs[i].q_i...)'[:,[1,2]]]\n",
    "end"
   ]
  },
  {
   "cell_type": "markdown",
   "metadata": {},
   "source": [
    "#### Set up body grid points and force container in fluid"
   ]
  },
  {
   "cell_type": "code",
   "execution_count": 14,
   "metadata": {},
   "outputs": [],
   "source": [
    "X̃ = VectorData(coord_init)\n",
    "f = VectorData(X̃);"
   ]
  },
  {
   "cell_type": "markdown",
   "metadata": {},
   "source": [
    "#### Create fluidstruct structure"
   ]
  },
  {
   "cell_type": "code",
   "execution_count": 15,
   "metadata": {},
   "outputs": [
    {
     "data": {
      "text/plain": [
       "49"
      ]
     },
     "execution_count": 15,
     "metadata": {},
     "output_type": "execute_result"
    }
   ],
   "source": [
    "Δt = 0.01\n",
    "t = Δt\n",
    "fsys = Systems.FluidStruct((nx,ny),Re,Δx,Δt,U∞ = U∞, X̃ = X̃, rk=RK31)\n",
    "N = length(X̃)÷2"
   ]
  },
  {
   "cell_type": "markdown",
   "metadata": {},
   "source": [
    "## <span style=\"color:blue\"> Create operators in saddle point system </span>"
   ]
  },
  {
   "cell_type": "markdown",
   "metadata": {},
   "source": [
    "#### Integrating factor not depending on time"
   ]
  },
  {
   "cell_type": "code",
   "execution_count": 16,
   "metadata": {},
   "outputs": [
    {
     "data": {
      "text/plain": [
       "Integrating factor with parameter 0.01 on a (nx = 152, ny = 102) grid"
      ]
     },
     "execution_count": 16,
     "metadata": {},
     "output_type": "execute_result"
    }
   ],
   "source": [
    "dc = 1.0\n",
    "H = plan_intfact(dc*Δt,w₀)"
   ]
  },
  {
   "cell_type": "markdown",
   "metadata": {},
   "source": [
    "#### Operators at time t_i-1"
   ]
  },
  {
   "cell_type": "code",
   "execution_count": 17,
   "metadata": {},
   "outputs": [],
   "source": [
    "# Body operators\n",
    "Mᵢ₋₁ = M⁻¹(bd)\n",
    "fᵢ₋₁ = F(bd)\n",
    "G₁ᵀᵢ₋₁ = G₁ᵀ(bd)\n",
    "\n",
    "# Fluid operators\n",
    "regop = Regularize(fsys.X̃,fsys.Δx;issymmetric=true)\n",
    "Hmat, _ = RegularizationMatrix(regop,VectorData{N}(),Edges{Primal,nx,ny}())\n",
    "fsys.Hmat = Hmat\n",
    "B₁ᵀᵢ₋₁ = f -> B₁ᵀ(f,fsys)\n",
    "\n",
    "# FSI operators\n",
    "T₁ᵀᵢ₋₁ = f -> T₁ᵀ(bd,bgs,f,Δx);"
   ]
  },
  {
   "cell_type": "markdown",
   "metadata": {},
   "source": [
    "#### Integrate joints qJ and update bs and js in time marching"
   ]
  },
  {
   "cell_type": "code",
   "execution_count": 18,
   "metadata": {},
   "outputs": [],
   "source": [
    "qJ = deepcopy(soln₀.qJ)\n",
    "vJ = deepcopy(qJ)\n",
    "\n",
    "# get vJ from v to update qJ\n",
    "bd, vJ = UpV(bd, soln₀.v)\n",
    "dc = 0.5\n",
    "qJ += Δt*0.5*vJ\n",
    "\n",
    "# use new qJ to update system position b.x_i\n",
    "bd = UpP(bd, qJ);"
   ]
  },
  {
   "cell_type": "markdown",
   "metadata": {},
   "source": [
    "#### Operators at time t_i with updated body coordinates"
   ]
  },
  {
   "cell_type": "code",
   "execution_count": 19,
   "metadata": {},
   "outputs": [],
   "source": [
    "# Body operators\n",
    "G₂ᵢ = G₂(bd)\n",
    "gtiᵢ = gti(bd, t)\n",
    "\n",
    "# Update current body points coordinates and fill in fsys.X̃\n",
    "fsys.X̃ = getX̃(bd, bgs)\n",
    "\n",
    "# Fluid operators\n",
    "regop = Regularize(fsys.X̃,fsys.Δx;issymmetric=true)\n",
    "_, Emat = RegularizationMatrix(regop,VectorData{N}(),Edges{Primal,nx,ny}())\n",
    "fsys.Emat = Emat\n",
    "B₂ᵢ = w -> B₂(w,fsys)\n",
    "\n",
    "# FSI operators\n",
    "T₂ᵢ = u -> T₂(bd,bgs,u);"
   ]
  },
  {
   "cell_type": "markdown",
   "metadata": {},
   "source": [
    "## <span style=\"color:blue\"> Fill operators into saddle point system </span>"
   ]
  },
  {
   "cell_type": "code",
   "execution_count": 20,
   "metadata": {},
   "outputs": [
    {
     "data": {
      "text/plain": [
       "Saddle system with 98 constraints on fluid and 33 constraints on body\n",
       "   Fluid state of type Whirl.Fields.Nodes{Whirl.Fields.Dual,152,102}\n",
       "   Fluid force of type Whirl.Fields.VectorData{49}\n",
       "   Body state of type Array{Float64,1}\n",
       "   Joint force of type Array{Float64,1}\n"
      ]
     },
     "execution_count": 20,
     "metadata": {},
     "output_type": "execute_result"
    }
   ],
   "source": [
    "S = SaddleSystem((w₀,u,f,λ),\n",
    "             (H, B₁ᵀᵢ₋₁, B₂ᵢ),\n",
    "             (Mᵢ₋₁, G₁ᵀᵢ₋₁, G₂ᵢ),\n",
    "             (T₁ᵀᵢ₋₁, T₂ᵢ))"
   ]
  },
  {
   "cell_type": "markdown",
   "metadata": {},
   "source": [
    "#### Test all operators"
   ]
  },
  {
   "cell_type": "code",
   "execution_count": 21,
   "metadata": {},
   "outputs": [],
   "source": [
    "S.A⁻¹(w₀)\n",
    "S.B₂(w₀)\n",
    "S.T₂(u)\n",
    "S.M⁻¹(u)\n",
    "S.G₂(u)\n",
    "S.A⁻¹B₁ᵀ(f)\n",
    "S.M⁻¹T₁ᵀ(f)\n",
    "S.M⁻¹G₁ᵀ(λ);"
   ]
  },
  {
   "cell_type": "markdown",
   "metadata": {},
   "source": [
    "#### Assign right hand side"
   ]
  },
  {
   "cell_type": "code",
   "execution_count": 22,
   "metadata": {},
   "outputs": [],
   "source": [
    "rw₀ = deepcopy(w₀)\n",
    "rw₀.data .= rand(Float64,nx,ny)\n",
    "ru = rand(Float64,6*bd.sys.nbody)\n",
    "rf = VectorData(rand(Float64,N,2))\n",
    "rλ = rand(size(λ))\n",
    "\n",
    "rhs = (rw₀, ru, rf, rλ);"
   ]
  },
  {
   "cell_type": "markdown",
   "metadata": {},
   "source": [
    "#### Solve the system"
   ]
  },
  {
   "cell_type": "code",
   "execution_count": 23,
   "metadata": {},
   "outputs": [
    {
     "data": {
      "text/plain": [
       "(Whirl.Fields.Dual nodes in a (nx = 152, ny = 102) cell grid\n",
       "  Number of Whirl.Fields.Dual nodes: (nx = 152, ny = 102), [59.6786, 587.218, 1579.53, 177.635, -180.688, -15.9672, 329.839, 538.987, 1587.73, 294.904  …  1522.53, 672.416, -194.596, -217.462, -463.32, 631.159, 1441.29, 681.27, -237.484, -231.278], 49 points of vector-valued data\n",
       ", [1.9436, 0.634196, 6.49899, 2.36562, 0.107887, 0.120326, -0.647391, -0.497937, 5.68769, 2.29654  …  0.608073, -1.07839, 0.133612, 2.27811, 0.296066, -0.923468, 0.0617427, -0.448369, 0.431017, 1.20205])"
      ]
     },
     "execution_count": 23,
     "metadata": {},
     "output_type": "execute_result"
    }
   ],
   "source": [
    "w₀, u, f, λ = S\\rhs;"
   ]
  },
  {
   "cell_type": "markdown",
   "metadata": {},
   "source": [
    "## <span style=\"color:blue\"> Plot </span>"
   ]
  },
  {
   "cell_type": "code",
   "execution_count": 24,
   "metadata": {},
   "outputs": [],
   "source": [
    "bs, js, sys = UpdatePosition!(bd.bs, bd.js, bd.sys, qJ)\n",
    "vshist = VertsHistory(bd.sys.nbody, bs);"
   ]
  },
  {
   "cell_type": "code",
   "execution_count": 25,
   "metadata": {},
   "outputs": [
    {
     "data": {
      "image/png": "[encoded data removed]"
     },
     "execution_count": 25,
     "metadata": {},
     "output_type": "execute_result"
    },
    {
     "name": "stderr",
     "output_type": "stream",
     "text": [
      "/home/julia/JuliaPro-0.6.2.2/JuliaPro/pkgs-0.6.2.2/v0.6/Conda/deps/usr/lib/python2.7/site-packages/matplotlib/contour.py:1004: UserWarning: The following kwargs were not used by contour: 'label'\n",
      "  s)\n"
     ]
    }
   ],
   "source": [
    "p = plot(xg,yg,w₀)\n",
    "for i = 1:bd.sys.nbody\n",
    "    plot!(p,vshist[i,2:3,1], vshist[i,2:3,2],linewidth=2,linecolor=\"grey\")\n",
    "end\n",
    "p"
   ]
  },
  {
   "cell_type": "code",
   "execution_count": null,
   "metadata": {},
   "outputs": [],
   "source": []
  }
 ],
 "metadata": {
  "kernelspec": {
   "display_name": "Julia 0.6.2",
   "language": "julia",
   "name": "julia-0.6"
  },
  "language_info": {
   "file_extension": ".jl",
   "mimetype": "application/julia",
   "name": "julia",
   "version": "0.6.2"
  }
 },
 "nbformat": 4,
 "nbformat_minor": 2
}
