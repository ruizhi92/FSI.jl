{
 "cells": [
  {
   "cell_type": "markdown",
   "metadata": {},
   "source": [
    "# Fluid and structure operators test"
   ]
  },
  {
   "cell_type": "code",
   "execution_count": 1,
   "metadata": {},
   "outputs": [],
   "source": [
    "include(\"../src/FSI.jl\")\n",
    "using FSI"
   ]
  },
  {
   "cell_type": "code",
   "execution_count": 2,
   "metadata": {},
   "outputs": [],
   "source": [
    "using Plots\n",
    "pyplot()\n",
    "clibrary(:colorbrewer)\n",
    "default(grid = false)"
   ]
  },
  {
   "cell_type": "markdown",
   "metadata": {},
   "source": [
    "## <span style=\"color:blue\"> Set up rigid body with Dyn3d"
   ]
  },
  {
   "cell_type": "markdown",
   "metadata": {},
   "source": [
    "#### Include any joint-body setup script from Dyn3d"
   ]
  },
  {
   "cell_type": "code",
   "execution_count": 3,
   "metadata": {},
   "outputs": [
    {
     "name": "stdout",
     "output_type": "stream",
     "text": [
      "Config info set up.\n"
     ]
    }
   ],
   "source": [
    "include(Pkg.dir(\"Dyn3d\")*\"/src/config_files/2dFall.jl\")"
   ]
  },
  {
   "cell_type": "markdown",
   "metadata": {},
   "source": [
    "#### Build joint-body chain"
   ]
  },
  {
   "cell_type": "code",
   "execution_count": 4,
   "metadata": {},
   "outputs": [
    {
     "data": {
      "text/plain": []
     },
     "execution_count": 4,
     "metadata": {},
     "output_type": "execute_result"
    },
    {
     "name": "stdout",
     "output_type": "stream",
     "text": [
      "This is a 1 body-joint system, system is fixed in space"
     ]
    }
   ],
   "source": [
    "bs, js, bsys = BuildChain(config_bodys, config_joints, config_system)\n",
    "bd = BodyDyn(bs, js, bsys)"
   ]
  },
  {
   "cell_type": "markdown",
   "metadata": {},
   "source": [
    "#### Initialize rigid body system state to complete body-joint information"
   ]
  },
  {
   "cell_type": "code",
   "execution_count": 5,
   "metadata": {},
   "outputs": [
    {
     "data": {
      "text/plain": [
       "(, Dyn3d.ConstructSystem.Soln{Float64}(0.0, 0.001, [0.0, 0.0, 0.0, 0.0, 0.0, 0.0], [0.0, 0.0, 0.0, 0.0, 0.0, 0.0], Float64[], Float64[]))"
      ]
     },
     "execution_count": 5,
     "metadata": {},
     "output_type": "execute_result"
    },
    {
     "name": "stdout",
     "output_type": "stream",
     "text": [
      "This is a 1 body-joint system, system is fixed in space"
     ]
    }
   ],
   "source": [
    "bd, soln₀ = InitSystem!(bd)"
   ]
  },
  {
   "cell_type": "markdown",
   "metadata": {},
   "source": [
    "#### Initialize u and λ container"
   ]
  },
  {
   "cell_type": "code",
   "execution_count": 6,
   "metadata": {},
   "outputs": [],
   "source": [
    "@get bd (bs, js, sys)\n",
    "\n",
    "qJ_dim = sys.ndof\n",
    "λ_dim = sys.ncdof_HERK\n",
    "u = zeros(qJ_dim)\n",
    "λ = zeros(λ_dim);"
   ]
  },
  {
   "cell_type": "markdown",
   "metadata": {},
   "source": [
    "#### Get body verts for plotting"
   ]
  },
  {
   "cell_type": "code",
   "execution_count": 7,
   "metadata": {},
   "outputs": [],
   "source": [
    "bs, js, sys = UpdatePosition!(bs, js, sys, soln₀.qJ)\n",
    "vs₀ = VertsHistory(sys.nbody, bs);"
   ]
  },
  {
   "cell_type": "markdown",
   "metadata": {},
   "source": [
    "#### Plot body only"
   ]
  },
  {
   "cell_type": "code",
   "execution_count": 8,
   "metadata": {},
   "outputs": [],
   "source": [
    "# p = plot()\n",
    "# for i = 1:sys.nbody\n",
    "#     plot!(p,vs₀[i,2:3,1], vs₀[i,2:3,2],linewidth=2)\n",
    "# end\n",
    "# plot!(xlims=(0,3), ylims=(0,2))"
   ]
  },
  {
   "cell_type": "markdown",
   "metadata": {},
   "source": [
    "## <span style=\"color:blue\"> Set up fluid with Whirl </span>"
   ]
  },
  {
   "cell_type": "markdown",
   "metadata": {},
   "source": [
    "#### Set the flow parameters"
   ]
  },
  {
   "cell_type": "code",
   "execution_count": 9,
   "metadata": {},
   "outputs": [
    {
     "data": {
      "text/plain": [
       "(1.0, 0.0)"
      ]
     },
     "execution_count": 9,
     "metadata": {},
     "output_type": "execute_result"
    }
   ],
   "source": [
    "Re = 200 # Reynolds number\n",
    "U = 1.0 # Free stream velocity\n",
    "U∞ = (U, 0.0)"
   ]
  },
  {
   "cell_type": "markdown",
   "metadata": {},
   "source": [
    "#### Set the domain grid"
   ]
  },
  {
   "cell_type": "code",
   "execution_count": 10,
   "metadata": {},
   "outputs": [
    {
     "data": {
      "text/plain": [
       "(-0.01:0.02:3.0100000000000002, -0.01:0.02:2.0100000000000002)"
      ]
     },
     "execution_count": 10,
     "metadata": {},
     "output_type": "execute_result"
    }
   ],
   "source": [
    "nx = 152; ny = 102;\n",
    "Ly = 2.0;\n",
    "Δx = Ly/(ny-2);\n",
    "w₀ = Nodes(Dual,(nx,ny))\n",
    "xg, yg = coordinates(w₀,dx=Δx)"
   ]
  },
  {
   "cell_type": "markdown",
   "metadata": {},
   "source": [
    "#### Set up fluid initial conditions"
   ]
  },
  {
   "cell_type": "code",
   "execution_count": 11,
   "metadata": {},
   "outputs": [],
   "source": [
    "w₀ .= 0.0;"
   ]
  },
  {
   "cell_type": "markdown",
   "metadata": {},
   "source": [
    "## <span style=\"color:blue\"> Create fluid-body interface </span>"
   ]
  },
  {
   "cell_type": "markdown",
   "metadata": {},
   "source": [
    "#### Genrate body grid points and get linear velocity on them"
   ]
  },
  {
   "cell_type": "code",
   "execution_count": 12,
   "metadata": {
    "scrolled": true
   },
   "outputs": [],
   "source": [
    "# bgs short for body grid system\n",
    "bgs = GenerateBodyGrid(bd; np=DetermineNP(nbody, Δx))\n",
    "bgs = CutOut2d(bd,bgs);"
   ]
  },
  {
   "cell_type": "markdown",
   "metadata": {},
   "source": [
    "#### Get body points initial coordinates for fluids"
   ]
  },
  {
   "cell_type": "code",
   "execution_count": 13,
   "metadata": {},
   "outputs": [],
   "source": [
    "bgs = AcquireBodyGridKinematics(bd,bgs)\n",
    "coord_init = hcat(bgs[1].q_i...)'[:,[1,2]]\n",
    "for i = 2:length(bgs)\n",
    "    coord_init = [coord_init[1:end-1,:]; hcat(bgs[i].q_i...)'[:,[1,2]]]\n",
    "end"
   ]
  },
  {
   "cell_type": "markdown",
   "metadata": {},
   "source": [
    "#### Set up body grid points and force container in fluid"
   ]
  },
  {
   "cell_type": "code",
   "execution_count": 14,
   "metadata": {},
   "outputs": [],
   "source": [
    "X̃ = VectorData(coord_init)\n",
    "f = VectorData(X̃);"
   ]
  },
  {
   "cell_type": "markdown",
   "metadata": {},
   "source": [
    "#### Create fluidstruct structure"
   ]
  },
  {
   "cell_type": "code",
   "execution_count": 15,
   "metadata": {},
   "outputs": [
    {
     "data": {
      "text/plain": [
       "51"
      ]
     },
     "execution_count": 15,
     "metadata": {},
     "output_type": "execute_result"
    }
   ],
   "source": [
    "Δt = 0.01\n",
    "t = Δt\n",
    "fsys = Systems.FluidStruct((nx,ny),Re,Δx,Δt,U∞ = U∞, X̃ = X̃, rk=RK31)\n",
    "N = length(X̃)÷2"
   ]
  },
  {
   "cell_type": "markdown",
   "metadata": {},
   "source": [
    "## <span style=\"color:blue\"> Create operators in saddle point system </span>"
   ]
  },
  {
   "cell_type": "markdown",
   "metadata": {},
   "source": [
    "#### Integrating factor not depending on time"
   ]
  },
  {
   "cell_type": "code",
   "execution_count": 16,
   "metadata": {},
   "outputs": [
    {
     "data": {
      "text/plain": [
       "Integrating factor with parameter 0.01 on a (nx = 152, ny = 102) grid"
      ]
     },
     "execution_count": 16,
     "metadata": {},
     "output_type": "execute_result"
    }
   ],
   "source": [
    "dc = 1.0\n",
    "H = plan_intfact(dc*Δt,w₀)"
   ]
  },
  {
   "cell_type": "markdown",
   "metadata": {},
   "source": [
    "#### Operators at time t_i-1"
   ]
  },
  {
   "cell_type": "code",
   "execution_count": 17,
   "metadata": {},
   "outputs": [],
   "source": [
    "# Body operators\n",
    "Mᵢ₋₁ = M⁻¹(bd)\n",
    "Fᵢ₋₁ = F(bd)\n",
    "G₁ᵀᵢ₋₁ = G₁ᵀ(bd)\n",
    "\n",
    "# Fluid operators\n",
    "B₁ᵀᵢ₋₁ = f -> B₁ᵀ(f,X̃,fsys)\n",
    "\n",
    "# FSI operators\n",
    "T₁ᵀᵢ₋₁ = f -> T₁ᵀ(bd,bgs,f,Δx);"
   ]
  },
  {
   "cell_type": "markdown",
   "metadata": {},
   "source": [
    "#### Integrate joints qJ and update bs and js in time marching"
   ]
  },
  {
   "cell_type": "code",
   "execution_count": 18,
   "metadata": {},
   "outputs": [],
   "source": [
    "qJ = deepcopy(soln₀.qJ)\n",
    "vJ = deepcopy(qJ)\n",
    "\n",
    "# get vJ from v to update qJ\n",
    "bd, vJ = UpV(bd, soln₀.v)\n",
    "dc = 0.5\n",
    "qJ += Δt*0.5*vJ\n",
    "\n",
    "# use new qJ to update system position b.x_i\n",
    "bd = UpP(bd, qJ);"
   ]
  },
  {
   "cell_type": "markdown",
   "metadata": {},
   "source": [
    "#### Operators at time t_i with updated body coordinates"
   ]
  },
  {
   "cell_type": "code",
   "execution_count": 19,
   "metadata": {},
   "outputs": [],
   "source": [
    "# Body operators\n",
    "G₂ᵢ = G₂(bd)\n",
    "gtiᵢ = gti(bd, t)\n",
    "\n",
    "# Update current body points coordinates and fill in fsys.X̃\n",
    "X̃ = getX̃(bd, bgs)\n",
    "\n",
    "# Fluid operators\n",
    "B₂ᵢ = w -> B₂(w,X̃,fsys)\n",
    "\n",
    "# FSI operators\n",
    "T₂ᵢ = u -> T₂(bd,bgs,u);"
   ]
  },
  {
   "cell_type": "markdown",
   "metadata": {},
   "source": [
    "## <span style=\"color:blue\"> Fill operators into saddle point system </span>"
   ]
  },
  {
   "cell_type": "code",
   "execution_count": 20,
   "metadata": {},
   "outputs": [
    {
     "data": {
      "text/plain": [
       "Saddle system with 102 constraints on fluid and 5 constraints on body\n",
       "   Fluid state of type Whirl.Fields.Nodes{Whirl.Fields.Dual,152,102}\n",
       "   Fluid force of type Whirl.Fields.VectorData{51}\n",
       "   Body state of type Array{Float64,1}\n",
       "   Joint force of type Array{Float64,1}\n"
      ]
     },
     "execution_count": 20,
     "metadata": {},
     "output_type": "execute_result"
    }
   ],
   "source": [
    "S = SaddleSystem((w₀,u,f,λ),\n",
    "             (H, B₁ᵀᵢ₋₁, B₂ᵢ),\n",
    "             (Mᵢ₋₁, G₁ᵀᵢ₋₁, G₂ᵢ),\n",
    "             (T₁ᵀᵢ₋₁, T₂ᵢ))"
   ]
  },
  {
   "cell_type": "markdown",
   "metadata": {},
   "source": [
    "#### Test all operators"
   ]
  },
  {
   "cell_type": "code",
   "execution_count": 21,
   "metadata": {},
   "outputs": [],
   "source": [
    "S.A⁻¹(w₀)\n",
    "S.B₂(w₀)\n",
    "S.T₂(u)\n",
    "S.M⁻¹(u)\n",
    "S.G₂(u)\n",
    "S.A⁻¹B₁ᵀ(f)\n",
    "S.M⁻¹T₁ᵀ(f)\n",
    "S.M⁻¹G₁ᵀ(λ);"
   ]
  },
  {
   "cell_type": "markdown",
   "metadata": {},
   "source": [
    "#### Assign right hand side"
   ]
  },
  {
   "cell_type": "code",
   "execution_count": 22,
   "metadata": {},
   "outputs": [],
   "source": [
    "# rw₀ = deepcopy(w₀)\n",
    "# rw₀.data .= rand(Float64,nx,ny)\n",
    "# ru = rand(Float64,6*bd.sys.nbody)\n",
    "# rf = VectorData(rand(Float64,N,2))\n",
    "# rλ = rand(size(λ))\n",
    "\n",
    "# rhs = (rw₀, ru, rf, rλ);"
   ]
  },
  {
   "cell_type": "code",
   "execution_count": 23,
   "metadata": {},
   "outputs": [],
   "source": [
    "rw₀ = deepcopy(w₀)\n",
    "rw₀.data .= 0.0\n",
    "ru = ones(Float64,6*bd.sys.nbody)\n",
    "rf = deepcopy(f)\n",
    "rλ =zeros(size(λ))\n",
    "\n",
    "rhs = (rw₀, ru, rf, rλ);"
   ]
  },
  {
   "cell_type": "markdown",
   "metadata": {},
   "source": [
    "#### Solve the system"
   ]
  },
  {
   "cell_type": "code",
   "execution_count": 24,
   "metadata": {},
   "outputs": [
    {
     "name": "stdout",
     "output_type": "stream",
     "text": [
      " 25.875404 seconds (400.14 M allocations: 72.983 GiB, 18.14% gc time)\n",
      " 28.296687 seconds (429.17 M allocations: 78.221 GiB, 17.76% gc time)\n"
     ]
    }
   ],
   "source": [
    "@time w₀, u, f, λ = S\\rhs;"
   ]
  },
  {
   "cell_type": "markdown",
   "metadata": {},
   "source": [
    "## <span style=\"color:blue\"> Plot </span>"
   ]
  },
  {
   "cell_type": "code",
   "execution_count": 25,
   "metadata": {},
   "outputs": [],
   "source": [
    "bs, js, sys = UpdatePosition!(bd.bs, bd.js, bd.sys, qJ)\n",
    "vshist = VertsHistory(bd.sys.nbody, bs);"
   ]
  },
  {
   "cell_type": "code",
   "execution_count": 26,
   "metadata": {},
   "outputs": [
    {
     "data": {
      "text/html": [
       "<img src=\"data:image/png;base64,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\" />"
      ]
     },
     "execution_count": 26,
     "metadata": {},
     "output_type": "execute_result"
    }
   ],
   "source": [
    "p = plot(xg,yg,w₀)\n",
    "for i = 1:bd.sys.nbody\n",
    "    plot!(p,vshist[i,2:3,1], vshist[i,2:3,2],linewidth=2,linecolor=\"grey\")\n",
    "end\n",
    "p"
   ]
  },
  {
   "cell_type": "code",
   "execution_count": 27,
   "metadata": {},
   "outputs": [
    {
     "data": {
      "text/plain": [
       "51-element Array{Float64,1}:\n",
       " -1.44245 \n",
       " -5.34774 \n",
       " -0.967484\n",
       " -1.80281 \n",
       " -1.44987 \n",
       " -1.40859 \n",
       " -1.36465 \n",
       " -1.30818 \n",
       " -1.28653 \n",
       " -1.26145 \n",
       " -1.24218 \n",
       " -1.22436 \n",
       " -1.20291 \n",
       "  ⋮       \n",
       "  0.203765\n",
       "  0.31682 \n",
       "  0.445009\n",
       "  0.595292\n",
       "  0.764057\n",
       "  0.945215\n",
       "  1.19782 \n",
       "  1.45173 \n",
       "  1.66499 \n",
       "  2.16674 \n",
       "  2.31128 \n",
       "  4.0015  "
      ]
     },
     "execution_count": 27,
     "metadata": {},
     "output_type": "execute_result"
    }
   ],
   "source": [
    "w₀[50:100,51]"
   ]
  }
 ],
 "metadata": {
  "kernelspec": {
   "display_name": "Julia 0.6.2",
   "language": "julia",
   "name": "julia-0.6"
  },
  "language_info": {
   "file_extension": ".jl",
   "mimetype": "application/julia",
   "name": "julia",
   "version": "0.6.2"
  }
 },
 "nbformat": 4,
 "nbformat_minor": 2
}
