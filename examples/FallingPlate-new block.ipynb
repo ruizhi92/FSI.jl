{
 "cells": [
  {
   "cell_type": "markdown",
   "metadata": {},
   "source": [
    "## This is a FSI problem of 1-D flate plate falling in quiscent flow."
   ]
  },
  {
   "cell_type": "code",
   "execution_count": 34,
   "metadata": {},
   "outputs": [],
   "source": [
    "using Pkg\n",
    "Pkg.activate(\"..\")\n",
    "using FSI"
   ]
  },
  {
   "cell_type": "code",
   "execution_count": 35,
   "metadata": {
    "scrolled": false
   },
   "outputs": [],
   "source": [
    "using Revise\n",
    "using BSON: @save, @load\n",
    "\n",
    "using Plots\n",
    "pyplot()\n",
    "clibrary(:colorcet)\n",
    "\n",
    "default(grid = false)"
   ]
  },
  {
   "cell_type": "code",
   "execution_count": 36,
   "metadata": {},
   "outputs": [],
   "source": [
    "filename = \"FallingPlate\";"
   ]
  },
  {
   "cell_type": "markdown",
   "metadata": {},
   "source": [
    "## <span style=\"color:blue\"> Set up rigid body with Dyn3d"
   ]
  },
  {
   "cell_type": "markdown",
   "metadata": {},
   "source": [
    "#### Include any joint-body setup script from Dyn3d"
   ]
  },
  {
   "cell_type": "code",
   "execution_count": 67,
   "metadata": {},
   "outputs": [
    {
     "data": {
      "text/plain": [
       " joint type = custom_prismatic_in_y\n",
       " joint position in parent body coord = [0.0, 0.0, 0.0, 0.5, 4.5, 0.0]\n",
       " joint position in child body coord = [0.0, 0.0, 0.0, 0.0, 0.0, 0.0]\n",
       " joint unconstrained dof = 5, under passive motion\n",
       " initial unconstrained dof position = [0.0]\n"
      ]
     },
     "execution_count": 67,
     "metadata": {},
     "output_type": "execute_result"
    }
   ],
   "source": [
    "# problem dimension\n",
    "ndim = 2\n",
    "# numerical params\n",
    "tf = 6\n",
    "dt = 1e-3\n",
    "scheme = \"Liska\"\n",
    "st = 3\n",
    "tol = 1e-4\n",
    "num_params = NumParams(tf, dt, scheme, st, tol)\n",
    "# gravity\n",
    "gravity = [0., -1.0, 0.]\n",
    "\n",
    "# set up system config info\n",
    "config_system = ConfigSystem(ndim, gravity, num_params)\n",
    "\n",
    "# set up bodys\n",
    "nbody = 1\n",
    "config_body = ConfigBody(nbody, 4,\n",
    "   [0. 0.; 1. 0.; 1. 1.0/nbody; 0. 1.0/nbody], 2.0)\n",
    "config_bodys = fill(config_body, nbody)\n",
    "\n",
    "# set up joints\n",
    "njoint = nbody\n",
    "\n",
    "config_joints = Vector{ConfigJoint}(undef,njoint)\n",
    "\n",
    "# set the first passive joint with no stiff and damp\n",
    "dof_1 = Dof(5, \"passive\", 0., 0., Motions())\n",
    "\n",
    "config_joints[1] = ConfigJoint(njoint, \"custom_prismatic_in_y\",\n",
    "    [0.,0.,0.,0.5,4.5,0.], zeros(Float64,6), 0, [dof_1], [0.])"
   ]
  },
  {
   "cell_type": "markdown",
   "metadata": {},
   "source": [
    "#### Build joint-body chain"
   ]
  },
  {
   "cell_type": "code",
   "execution_count": 68,
   "metadata": {},
   "outputs": [
    {
     "data": {
      "text/plain": []
     },
     "execution_count": 68,
     "metadata": {},
     "output_type": "execute_result"
    },
    {
     "name": "stdout",
     "output_type": "stream",
     "text": [
      "This is a 1 body-joint system, system is un-mounted from space"
     ]
    }
   ],
   "source": [
    "bs, js, bsys = BuildChain(config_bodys, config_joints, config_system)\n",
    "bd = BodyDyn(bs, js, bsys)"
   ]
  },
  {
   "cell_type": "markdown",
   "metadata": {},
   "source": [
    "#### Initialize rigid body system state to complete body-joint information"
   ]
  },
  {
   "cell_type": "code",
   "execution_count": 69,
   "metadata": {},
   "outputs": [],
   "source": [
    "bd, soln₀ = InitSystem!(bd);"
   ]
  },
  {
   "cell_type": "markdown",
   "metadata": {},
   "source": [
    "#### Initialize u and λ container"
   ]
  },
  {
   "cell_type": "code",
   "execution_count": 70,
   "metadata": {},
   "outputs": [],
   "source": [
    "qJ = soln₀.qJ\n",
    "v = soln₀.v\n",
    "λ_dim = bd.sys.ncdof_HERK\n",
    "λ = zeros(Float64,λ_dim);"
   ]
  },
  {
   "cell_type": "markdown",
   "metadata": {},
   "source": [
    "#### Get body verts for plotting"
   ]
  },
  {
   "cell_type": "code",
   "execution_count": 71,
   "metadata": {},
   "outputs": [],
   "source": [
    "@get bd (bs, js, sys)\n",
    "bs, js, sys = UpdatePosition!(bs, js, sys, soln₀.qJ)\n",
    "vs₀ = VertsHistory(sys.nbody, bs);"
   ]
  },
  {
   "cell_type": "markdown",
   "metadata": {},
   "source": [
    "#### Plot body only"
   ]
  },
  {
   "cell_type": "code",
   "execution_count": 72,
   "metadata": {
    "scrolled": false
   },
   "outputs": [
    {
     "data": {
      "image/png": "[encoded data removed]"
     },
     "execution_count": 72,
     "metadata": {},
     "output_type": "execute_result"
    }
   ],
   "source": [
    "p = plot()\n",
    "for i = 1:sys.nbody\n",
    "    plot!(p,vs₀[i,2:3,1], vs₀[i,2:3,2],linewidth=2)\n",
    "end\n",
    "plot!(xlims=(0,2), ylims=(0,5),ratio=1)"
   ]
  },
  {
   "cell_type": "markdown",
   "metadata": {},
   "source": [
    "## <span style=\"color:blue\"> Set up fluid with Whirl </span>"
   ]
  },
  {
   "cell_type": "markdown",
   "metadata": {},
   "source": [
    "#### Set the flow parameters"
   ]
  },
  {
   "cell_type": "code",
   "execution_count": 73,
   "metadata": {},
   "outputs": [
    {
     "data": {
      "text/plain": [
       "(0.0, 0.0)"
      ]
     },
     "execution_count": 73,
     "metadata": {},
     "output_type": "execute_result"
    }
   ],
   "source": [
    "Re = 200 # Reynolds number\n",
    "U = 0.0 # Free stream velocity\n",
    "U∞ = (0.0, U)"
   ]
  },
  {
   "cell_type": "markdown",
   "metadata": {},
   "source": [
    "#### Set the domain grid"
   ]
  },
  {
   "cell_type": "code",
   "execution_count": 74,
   "metadata": {},
   "outputs": [
    {
     "data": {
      "text/plain": [
       "25704"
      ]
     },
     "execution_count": 74,
     "metadata": {},
     "output_type": "execute_result"
    }
   ],
   "source": [
    "102*252"
   ]
  },
  {
   "cell_type": "code",
   "execution_count": 75,
   "metadata": {},
   "outputs": [
    {
     "data": {
      "text/plain": [
       "(-0.01:0.02:2.0100000000000002, -0.01:0.02:5.01)"
      ]
     },
     "execution_count": 75,
     "metadata": {},
     "output_type": "execute_result"
    }
   ],
   "source": [
    "nx = 102; ny = 252;\n",
    "Ly = 5.0;\n",
    "Δx = Ly/(ny-2);\n",
    "\n",
    "Δt = min(0.5*Δx,0.5*Δx^2*Re)\n",
    "\n",
    "w₀ = Nodes(Dual,(nx,ny))\n",
    "xg, yg = coordinates(w₀,dx=Δx)"
   ]
  },
  {
   "cell_type": "markdown",
   "metadata": {},
   "source": [
    "#### Set up fluid initial conditions"
   ]
  },
  {
   "cell_type": "code",
   "execution_count": 76,
   "metadata": {},
   "outputs": [],
   "source": [
    "w₀ .= 0.0;\n",
    "w = deepcopy(w₀);"
   ]
  },
  {
   "cell_type": "markdown",
   "metadata": {},
   "source": [
    "## <span style=\"color:blue\"> Create fluid-body interface </span>"
   ]
  },
  {
   "cell_type": "markdown",
   "metadata": {},
   "source": [
    "#### Body in fluid plane"
   ]
  },
  {
   "cell_type": "code",
   "execution_count": 77,
   "metadata": {},
   "outputs": [],
   "source": [
    "plane = [1,2];"
   ]
  },
  {
   "cell_type": "markdown",
   "metadata": {},
   "source": [
    "#### Genrate body grid points and get linear velocity on them"
   ]
  },
  {
   "cell_type": "code",
   "execution_count": 78,
   "metadata": {
    "scrolled": true
   },
   "outputs": [],
   "source": [
    "bgs = GenerateBodyGrid(bd; np=DetermineNP(nbody, Δx))\n",
    "bgs = CutOut2d(bd,bgs);"
   ]
  },
  {
   "cell_type": "markdown",
   "metadata": {},
   "source": [
    "#### Get body points initial coordinates for fluids"
   ]
  },
  {
   "cell_type": "code",
   "execution_count": 79,
   "metadata": {},
   "outputs": [],
   "source": [
    "bgs = AcquireBodyGridKinematics(bd,bgs);"
   ]
  },
  {
   "cell_type": "markdown",
   "metadata": {},
   "source": [
    "#### Set up body grid points and force container in fluid"
   ]
  },
  {
   "cell_type": "code",
   "execution_count": 80,
   "metadata": {},
   "outputs": [],
   "source": [
    "X̃ = BodyGridToVectorData(bgs,\"coord\";plane=plane)\n",
    "f = VectorData(X̃);"
   ]
  },
  {
   "cell_type": "markdown",
   "metadata": {},
   "source": [
    "#### Create fluidstruct structure"
   ]
  },
  {
   "cell_type": "code",
   "execution_count": 81,
   "metadata": {},
   "outputs": [
    {
     "data": {
      "text/plain": [
       "51"
      ]
     },
     "execution_count": 81,
     "metadata": {},
     "output_type": "execute_result"
    }
   ],
   "source": [
    "tf = 450Δt\n",
    "T = Δt:Δt:tf\n",
    "fsys = FluidStruct((nx,ny),Re,Δx,Δt,U∞ = U∞, X̃ = X̃, rk=RK31)\n",
    "N = length(X̃)÷2"
   ]
  },
  {
   "cell_type": "markdown",
   "metadata": {},
   "source": [
    "## <span style=\"color:blue\"> Create ifherk object </span>"
   ]
  },
  {
   "cell_type": "markdown",
   "metadata": {},
   "source": [
    "#### pretend that this thin body has finite volume for buoyancy"
   ]
  },
  {
   "cell_type": "code",
   "execution_count": 82,
   "metadata": {
    "scrolled": true
   },
   "outputs": [
    {
     "name": "stdout",
     "output_type": "stream",
     "text": [
      "  2.016528 seconds (6.85 M allocations: 670.930 MiB, 9.85% gc time)\n"
     ]
    },
    {
     "data": {
      "text/plain": [
       "Stage-3+ IF-HERK integrator with\n",
       "   Time step size 0.01\n"
      ]
     },
     "execution_count": 82,
     "metadata": {},
     "output_type": "execute_result"
    }
   ],
   "source": [
    "@time ifherk_coupled = IFHERK_coupled(fsys.Δt,bd,bgs,(w₀,qJ,v,f,λ),\n",
    "                ((t,u) -> Systems.plan_intfact(t,u,fsys), B₁ᵀ, B₂),\n",
    "                (M, G₁ᵀ, G₂, UpP, UpV),\n",
    "                ((bd,bgs,f) -> T₁ᵀ(bd,bgs,f,fsys.Δx;plane=plane),\n",
    "                 (bd,bgs,u) -> T₂(bd,bgs,u;plane=plane),\n",
    "                 (bd,bgs) -> getX̃(bd,bgs;plane=plane)),\n",
    "                ((w,t) -> FSI.r₁(w,t,fsys), F, w -> U_inf(w,fsys), gti),\n",
    "                fsys, tol=1e-3,rk=TimeMarching.RK31)"
   ]
  },
  {
   "cell_type": "code",
   "execution_count": 83,
   "metadata": {},
   "outputs": [],
   "source": [
    "fx = Float64[]\n",
    "fy = Float64[]\n",
    "thist = []\n",
    "t = 0.0\n",
    "whist = []\n",
    "bdhist = BodyDyn[];"
   ]
  },
  {
   "cell_type": "markdown",
   "metadata": {},
   "source": [
    "## <span style=\"color:blue\"> TimeMarching! </span>"
   ]
  },
  {
   "cell_type": "code",
   "execution_count": 84,
   "metadata": {
    "scrolled": true
   },
   "outputs": [
    {
     "name": "stdout",
     "output_type": "stream",
     "text": [
      "  2.438082 seconds (6.67 M allocations: 673.252 MiB, 4.10% gc time)\n",
      "next time unit is 0.01\n",
      "data saved at time 0.01\n",
      "  1.207858 seconds (4.05 M allocations: 574.444 MiB, 5.93% gc time)\n",
      "next time unit is 0.02\n",
      "  1.208087 seconds (4.05 M allocations: 574.691 MiB, 5.94% gc time)\n",
      "next time unit is 0.03\n",
      "  1.277688 seconds (4.05 M allocations: 574.935 MiB, 5.51% gc time)\n",
      "next time unit is 0.04\n",
      "  1.147539 seconds (4.05 M allocations: 574.938 MiB, 5.75% gc time)\n",
      "next time unit is 0.05\n",
      "  1.133123 seconds (4.05 M allocations: 575.029 MiB, 5.81% gc time)\n",
      "next time unit is 0.06\n",
      "  1.175428 seconds (4.05 M allocations: 575.003 MiB, 5.58% gc time)\n",
      "next time unit is 0.07\n",
      "  1.140627 seconds (4.05 M allocations: 574.912 MiB, 5.98% gc time)\n",
      "next time unit is 0.08\n",
      "  1.127846 seconds (4.05 M allocations: 575.029 MiB, 5.78% gc time)\n",
      "next time unit is 0.09\n",
      "  1.157514 seconds (4.05 M allocations: 575.012 MiB, 5.73% gc time)\n",
      "next time unit is 0.1\n",
      "  1.136409 seconds (4.05 M allocations: 574.919 MiB, 5.80% gc time)\n",
      "next time unit is 0.11\n",
      "  1.195900 seconds (4.05 M allocations: 575.029 MiB, 5.60% gc time)\n",
      "next time unit is 0.12\n",
      "  1.117709 seconds (4.05 M allocations: 575.029 MiB, 6.21% gc time)\n",
      "next time unit is 0.13\n",
      "  1.230644 seconds (4.05 M allocations: 574.847 MiB, 13.21% gc time)\n",
      "next time unit is 0.14\n",
      "  1.157910 seconds (4.05 M allocations: 574.938 MiB, 5.40% gc time)\n",
      "next time unit is 0.15\n",
      "  1.136557 seconds (4.05 M allocations: 575.029 MiB, 5.48% gc time)\n",
      "next time unit is 0.16\n",
      "  1.130497 seconds (4.05 M allocations: 574.799 MiB, 5.55% gc time)\n",
      "next time unit is 0.17\n",
      "  1.173125 seconds (4.05 M allocations: 574.847 MiB, 5.71% gc time)\n",
      "next time unit is 0.18\n",
      "  1.133160 seconds (4.05 M allocations: 574.933 MiB, 5.56% gc time)\n",
      "next time unit is 0.19\n",
      "  1.171297 seconds (4.05 M allocations: 575.024 MiB, 5.64% gc time)\n",
      "next time unit is 0.2\n",
      "  1.139889 seconds (4.05 M allocations: 574.901 MiB, 5.55% gc time)\n",
      "next time unit is 0.21\n",
      "  1.186210 seconds (4.05 M allocations: 574.921 MiB, 5.31% gc time)\n",
      "next time unit is 0.22\n",
      "  1.145474 seconds (4.05 M allocations: 575.029 MiB, 5.79% gc time)\n",
      "next time unit is 0.23\n",
      "  1.159658 seconds (4.05 M allocations: 574.847 MiB, 5.46% gc time)\n",
      "next time unit is 0.24\n",
      "  1.186163 seconds (4.05 M allocations: 574.938 MiB, 5.50% gc time)\n",
      "next time unit is 0.25\n",
      "  1.113645 seconds (4.05 M allocations: 575.029 MiB, 5.73% gc time)\n",
      "next time unit is 0.26\n",
      "  1.144503 seconds (4.05 M allocations: 574.828 MiB, 5.66% gc time)\n",
      "next time unit is 0.27\n",
      "  1.120941 seconds (4.05 M allocations: 574.922 MiB, 5.82% gc time)\n",
      "next time unit is 0.28\n",
      "  1.146076 seconds (4.05 M allocations: 575.000 MiB, 5.83% gc time)\n",
      "next time unit is 0.29\n",
      "  1.147535 seconds (4.05 M allocations: 574.847 MiB, 5.52% gc time)\n",
      "next time unit is 0.3\n",
      "  1.139514 seconds (4.05 M allocations: 574.891 MiB, 5.66% gc time)\n",
      "next time unit is 0.31\n",
      "  1.248197 seconds (4.05 M allocations: 575.029 MiB, 12.43% gc time)\n",
      "next time unit is 0.32\n",
      "  1.137054 seconds (4.05 M allocations: 574.847 MiB, 5.54% gc time)\n",
      "next time unit is 0.33\n",
      "  1.182570 seconds (4.05 M allocations: 574.938 MiB, 5.52% gc time)\n",
      "next time unit is 0.34\n",
      "  1.143876 seconds (4.05 M allocations: 574.917 MiB, 5.48% gc time)\n",
      "next time unit is 0.35\n",
      "  1.135961 seconds (4.05 M allocations: 574.823 MiB, 5.55% gc time)\n",
      "next time unit is 0.36\n",
      "  1.142097 seconds (4.05 M allocations: 574.938 MiB, 5.52% gc time)\n",
      "next time unit is 0.37\n",
      "  1.145331 seconds (4.05 M allocations: 575.029 MiB, 5.64% gc time)\n",
      "next time unit is 0.38\n",
      "  1.139663 seconds (4.05 M allocations: 574.847 MiB, 5.80% gc time)\n",
      "next time unit is 0.39\n",
      "  1.184826 seconds (4.05 M allocations: 575.029 MiB, 5.48% gc time)\n",
      "next time unit is 0.4\n",
      "  1.166873 seconds (4.05 M allocations: 574.926 MiB, 5.49% gc time)\n",
      "next time unit is 0.41\n",
      "  1.140102 seconds (4.05 M allocations: 575.013 MiB, 5.77% gc time)\n",
      "next time unit is 0.42\n",
      "  1.251559 seconds (4.05 M allocations: 574.832 MiB, 5.47% gc time)\n",
      "next time unit is 0.43\n",
      "  1.178179 seconds (4.05 M allocations: 574.938 MiB, 5.85% gc time)\n",
      "next time unit is 0.44\n",
      "  1.168521 seconds (4.05 M allocations: 574.980 MiB, 5.57% gc time)\n",
      "next time unit is 0.45\n",
      "  1.186746 seconds (4.05 M allocations: 574.821 MiB, 5.44% gc time)\n",
      "next time unit is 0.46\n",
      "  1.152648 seconds (4.05 M allocations: 575.014 MiB, 5.50% gc time)\n",
      "next time unit is 0.47\n",
      "  1.139923 seconds (4.05 M allocations: 574.796 MiB, 5.68% gc time)\n",
      "next time unit is 0.48\n",
      "  1.170362 seconds (4.05 M allocations: 574.915 MiB, 5.82% gc time)\n",
      "next time unit is 0.49\n",
      "  1.230246 seconds (4.05 M allocations: 575.028 MiB, 12.67% gc time)\n",
      "next time unit is 0.5\n",
      "  1.179909 seconds (4.05 M allocations: 574.903 MiB, 5.37% gc time)\n",
      "next time unit is 0.51\n",
      "  1.184977 seconds (4.05 M allocations: 574.908 MiB, 5.36% gc time)\n",
      "next time unit is 0.52\n",
      "  1.139491 seconds (4.05 M allocations: 574.847 MiB, 5.60% gc time)\n",
      "next time unit is 0.53\n",
      "  1.156528 seconds (4.05 M allocations: 575.029 MiB, 5.69% gc time)\n",
      "next time unit is 0.54\n",
      "  1.173466 seconds (4.05 M allocations: 574.847 MiB, 5.49% gc time)\n",
      "next time unit is 0.55\n",
      "  1.132409 seconds (4.05 M allocations: 575.029 MiB, 5.65% gc time)\n",
      "next time unit is 0.56\n",
      "  1.171665 seconds (4.05 M allocations: 574.766 MiB, 5.53% gc time)\n",
      "next time unit is 0.57\n",
      "  1.143889 seconds (4.05 M allocations: 574.999 MiB, 5.57% gc time)\n",
      "next time unit is 0.58\n",
      "  1.173995 seconds (4.05 M allocations: 574.892 MiB, 5.69% gc time)\n",
      "next time unit is 0.59\n",
      "  1.100119 seconds (4.05 M allocations: 575.029 MiB, 5.75% gc time)\n",
      "next time unit is 0.6\n",
      "  1.149034 seconds (4.05 M allocations: 574.801 MiB, 5.66% gc time)\n",
      "next time unit is 0.61\n",
      "  1.117590 seconds (4.05 M allocations: 575.029 MiB, 5.70% gc time)\n",
      "next time unit is 0.62\n",
      "  1.164270 seconds (4.05 M allocations: 574.766 MiB, 5.66% gc time)\n",
      "next time unit is 0.63\n",
      "  1.133490 seconds (4.05 M allocations: 575.029 MiB, 5.97% gc time)\n",
      "next time unit is 0.64\n",
      "  1.218805 seconds (4.05 M allocations: 574.847 MiB, 5.52% gc time)\n",
      "next time unit is 0.65\n",
      "  1.222966 seconds (4.05 M allocations: 575.029 MiB, 5.82% gc time)\n",
      "next time unit is 0.66\n",
      "  1.167513 seconds (4.05 M allocations: 574.847 MiB, 5.77% gc time)\n",
      "next time unit is 0.67\n",
      "  1.285054 seconds (4.05 M allocations: 574.981 MiB, 13.10% gc time)\n",
      "next time unit is 0.68\n",
      "  1.190194 seconds (4.05 M allocations: 574.847 MiB, 5.66% gc time)\n",
      "next time unit is 0.69\n",
      "  1.164682 seconds (4.05 M allocations: 575.029 MiB, 5.40% gc time)\n",
      "next time unit is 0.7\n",
      "  1.169248 seconds (4.05 M allocations: 574.818 MiB, 5.65% gc time)\n",
      "next time unit is 0.71\n",
      "  1.132782 seconds (4.05 M allocations: 575.029 MiB, 5.78% gc time)\n",
      "next time unit is 0.72\n",
      "  1.183699 seconds (4.05 M allocations: 574.938 MiB, 5.61% gc time)\n",
      "next time unit is 0.73\n",
      "  1.195717 seconds (4.05 M allocations: 575.029 MiB, 5.69% gc time)\n",
      "next time unit is 0.74\n",
      "  1.171644 seconds (4.05 M allocations: 574.847 MiB, 5.71% gc time)\n",
      "next time unit is 0.75\n",
      "  1.146036 seconds (4.05 M allocations: 575.029 MiB, 5.67% gc time)\n",
      "next time unit is 0.76\n",
      "  1.179923 seconds (4.05 M allocations: 574.938 MiB, 5.53% gc time)\n",
      "next time unit is 0.77\n",
      "  1.130317 seconds (4.05 M allocations: 574.938 MiB, 5.73% gc time)\n",
      "next time unit is 0.78\n",
      "  1.151650 seconds (4.05 M allocations: 575.029 MiB, 6.05% gc time)\n",
      "next time unit is 0.79\n",
      "  1.213997 seconds (4.05 M allocations: 574.938 MiB, 5.60% gc time)\n",
      "next time unit is 0.8\n",
      "  1.149685 seconds (4.05 M allocations: 575.029 MiB, 5.70% gc time)\n",
      "next time unit is 0.81\n",
      "  1.122866 seconds (4.05 M allocations: 574.833 MiB, 5.68% gc time)\n",
      "next time unit is 0.82\n",
      "  1.176770 seconds (4.05 M allocations: 575.029 MiB, 5.65% gc time)\n",
      "next time unit is 0.83\n",
      "  1.115016 seconds (4.05 M allocations: 574.847 MiB, 5.99% gc time)\n",
      "next time unit is 0.84\n",
      "  1.253152 seconds (4.05 M allocations: 575.029 MiB, 12.69% gc time)\n",
      "next time unit is 0.85\n",
      "  1.203912 seconds (4.05 M allocations: 574.836 MiB, 5.32% gc time)\n",
      "next time unit is 0.86\n",
      "  1.179351 seconds (4.05 M allocations: 575.029 MiB, 5.46% gc time)\n",
      "next time unit is 0.87\n",
      "  1.154845 seconds (4.05 M allocations: 574.847 MiB, 5.55% gc time)\n",
      "next time unit is 0.88\n",
      "  1.207552 seconds (4.05 M allocations: 575.029 MiB, 5.71% gc time)\n",
      "next time unit is 0.89\n",
      "  1.173278 seconds (4.05 M allocations: 575.029 MiB, 5.60% gc time)\n",
      "next time unit is 0.9\n"
     ]
    },
    {
     "name": "stdout",
     "output_type": "stream",
     "text": [
      "  1.151028 seconds (4.05 M allocations: 574.847 MiB, 5.58% gc time)\n",
      "next time unit is 0.91\n",
      "  1.126051 seconds (4.05 M allocations: 575.029 MiB, 5.67% gc time)\n",
      "next time unit is 0.92\n",
      "  1.164801 seconds (4.05 M allocations: 574.847 MiB, 5.67% gc time)\n",
      "next time unit is 0.93\n",
      "  1.136559 seconds (4.05 M allocations: 575.029 MiB, 5.98% gc time)\n",
      "next time unit is 0.94\n",
      "  1.146506 seconds (4.05 M allocations: 574.938 MiB, 5.49% gc time)\n",
      "next time unit is 0.95\n",
      "  1.182961 seconds (4.05 M allocations: 574.938 MiB, 5.45% gc time)\n",
      "next time unit is 0.96\n",
      "  1.135644 seconds (4.05 M allocations: 575.029 MiB, 5.60% gc time)\n",
      "next time unit is 0.97\n",
      "  1.168363 seconds (4.05 M allocations: 574.938 MiB, 5.74% gc time)\n",
      "next time unit is 0.98\n",
      "  1.176401 seconds (4.05 M allocations: 575.028 MiB, 5.82% gc time)\n",
      "next time unit is 0.99\n",
      "  1.134791 seconds (4.05 M allocations: 574.937 MiB, 5.67% gc time)\n",
      "next time unit is 1.0\n",
      "  1.112562 seconds (4.05 M allocations: 575.026 MiB, 5.79% gc time)\n",
      "next time unit is 1.01\n",
      "  1.154392 seconds (4.05 M allocations: 574.924 MiB, 5.60% gc time)\n",
      "next time unit is 1.02\n",
      "  1.248611 seconds (4.05 M allocations: 575.029 MiB, 12.74% gc time)\n",
      "next time unit is 1.03\n",
      "  1.157111 seconds (4.05 M allocations: 574.938 MiB, 5.76% gc time)\n",
      "next time unit is 1.04\n",
      "  1.134110 seconds (4.05 M allocations: 574.983 MiB, 5.60% gc time)\n",
      "next time unit is 1.05\n",
      "  1.194574 seconds (4.05 M allocations: 574.929 MiB, 5.55% gc time)\n",
      "next time unit is 1.06\n",
      "  1.197307 seconds (4.05 M allocations: 575.020 MiB, 6.04% gc time)\n",
      "next time unit is 1.07\n",
      "  1.226852 seconds (4.05 M allocations: 574.938 MiB, 5.55% gc time)\n",
      "next time unit is 1.08\n",
      "  1.185790 seconds (4.05 M allocations: 575.029 MiB, 5.82% gc time)\n",
      "next time unit is 1.09\n",
      "  1.164289 seconds (4.05 M allocations: 574.938 MiB, 5.55% gc time)\n",
      "next time unit is 1.1\n",
      "  1.143727 seconds (4.05 M allocations: 575.001 MiB, 5.63% gc time)\n",
      "next time unit is 1.11\n",
      "  1.265555 seconds (4.05 M allocations: 574.922 MiB, 5.57% gc time)\n",
      "next time unit is 1.12\n",
      "  1.145582 seconds (4.05 M allocations: 574.987 MiB, 5.84% gc time)\n",
      "next time unit is 1.13\n",
      "  1.142472 seconds (4.05 M allocations: 574.922 MiB, 5.85% gc time)\n",
      "next time unit is 1.14\n",
      "  1.132870 seconds (4.05 M allocations: 575.010 MiB, 5.71% gc time)\n",
      "next time unit is 1.15\n",
      "  1.149345 seconds (4.05 M allocations: 574.936 MiB, 5.77% gc time)\n",
      "next time unit is 1.16\n",
      "  1.180003 seconds (4.05 M allocations: 575.029 MiB, 5.66% gc time)\n",
      "next time unit is 1.17\n",
      "  1.141416 seconds (4.05 M allocations: 574.938 MiB, 5.72% gc time)\n",
      "next time unit is 1.18\n",
      "  1.144817 seconds (4.05 M allocations: 575.029 MiB, 5.88% gc time)\n",
      "next time unit is 1.19\n",
      "  1.129339 seconds (4.05 M allocations: 574.938 MiB, 5.78% gc time)\n",
      "next time unit is 1.2\n",
      "  1.285840 seconds (4.05 M allocations: 575.009 MiB, 12.52% gc time)\n",
      "next time unit is 1.21\n",
      "  1.205837 seconds (4.05 M allocations: 574.927 MiB, 5.48% gc time)\n",
      "next time unit is 1.22\n",
      "  1.151253 seconds (4.05 M allocations: 575.029 MiB, 5.53% gc time)\n",
      "next time unit is 1.23\n",
      "  1.170372 seconds (4.05 M allocations: 574.938 MiB, 5.65% gc time)\n",
      "next time unit is 1.24\n",
      "  1.170076 seconds (4.05 M allocations: 575.029 MiB, 5.43% gc time)\n",
      "next time unit is 1.25\n",
      "  1.152508 seconds (4.05 M allocations: 574.938 MiB, 5.69% gc time)\n",
      "next time unit is 1.26\n",
      "  1.164297 seconds (4.05 M allocations: 575.029 MiB, 5.56% gc time)\n",
      "next time unit is 1.27\n",
      "  1.153541 seconds (4.05 M allocations: 574.938 MiB, 5.54% gc time)\n",
      "next time unit is 1.28\n",
      "  1.146559 seconds (4.05 M allocations: 574.847 MiB, 5.74% gc time)\n",
      "next time unit is 1.29\n",
      "  1.115882 seconds (4.05 M allocations: 574.847 MiB, 5.68% gc time)\n",
      "next time unit is 1.3\n",
      "  1.145734 seconds (4.05 M allocations: 574.847 MiB, 5.68% gc time)\n",
      "next time unit is 1.31\n",
      "  1.169177 seconds (4.05 M allocations: 574.938 MiB, 5.49% gc time)\n",
      "next time unit is 1.32\n",
      "  1.111636 seconds (4.05 M allocations: 574.847 MiB, 5.88% gc time)\n",
      "next time unit is 1.33\n",
      "  1.157173 seconds (4.05 M allocations: 574.938 MiB, 5.75% gc time)\n",
      "next time unit is 1.34\n",
      "  1.123513 seconds (4.05 M allocations: 575.029 MiB, 5.71% gc time)\n",
      "next time unit is 1.35\n",
      "  1.102462 seconds (4.05 M allocations: 574.938 MiB, 5.81% gc time)\n",
      "next time unit is 1.36\n",
      "  1.135067 seconds (4.05 M allocations: 575.029 MiB, 5.73% gc time)\n",
      "next time unit is 1.37\n",
      "  1.127233 seconds (4.05 M allocations: 574.938 MiB, 5.74% gc time)\n",
      "next time unit is 1.38\n",
      "  1.280187 seconds (4.05 M allocations: 575.029 MiB, 12.55% gc time)\n",
      "next time unit is 1.39\n",
      "  1.170996 seconds (4.05 M allocations: 574.938 MiB, 5.36% gc time)\n",
      "next time unit is 1.4\n",
      "  1.130345 seconds (4.05 M allocations: 574.938 MiB, 5.63% gc time)\n",
      "next time unit is 1.41\n",
      "  1.130906 seconds (4.05 M allocations: 575.029 MiB, 5.66% gc time)\n",
      "next time unit is 1.42\n",
      "  1.119232 seconds (4.05 M allocations: 574.847 MiB, 5.67% gc time)\n",
      "next time unit is 1.43\n",
      "  1.128998 seconds (4.05 M allocations: 574.847 MiB, 5.79% gc time)\n",
      "next time unit is 1.44\n",
      "  1.183602 seconds (4.05 M allocations: 574.938 MiB, 5.36% gc time)\n",
      "next time unit is 1.45\n",
      "  1.183438 seconds (4.05 M allocations: 574.938 MiB, 5.52% gc time)\n",
      "next time unit is 1.46\n",
      "  1.172643 seconds (4.05 M allocations: 574.938 MiB, 5.63% gc time)\n",
      "next time unit is 1.47\n",
      "  1.203137 seconds (4.05 M allocations: 574.847 MiB, 5.60% gc time)\n",
      "next time unit is 1.48\n",
      "  1.136372 seconds (4.05 M allocations: 575.029 MiB, 5.96% gc time)\n",
      "next time unit is 1.49\n",
      "  1.209403 seconds (4.05 M allocations: 574.847 MiB, 5.69% gc time)\n",
      "next time unit is 1.5\n",
      "  1.152337 seconds (4.05 M allocations: 574.938 MiB, 5.70% gc time)\n",
      "next time unit is 1.51\n",
      "  1.136474 seconds (4.05 M allocations: 574.847 MiB, 5.68% gc time)\n",
      "next time unit is 1.52\n",
      "  1.119923 seconds (4.05 M allocations: 575.029 MiB, 5.82% gc time)\n",
      "next time unit is 1.53\n",
      "  1.136263 seconds (4.05 M allocations: 574.847 MiB, 5.85% gc time)\n",
      "next time unit is 1.54\n",
      "  1.185932 seconds (4.05 M allocations: 574.847 MiB, 5.42% gc time)\n",
      "next time unit is 1.55\n",
      "  1.223780 seconds (4.05 M allocations: 575.029 MiB, 12.94% gc time)\n",
      "next time unit is 1.56\n",
      "  1.157486 seconds (4.05 M allocations: 574.847 MiB, 5.43% gc time)\n",
      "next time unit is 1.57\n",
      "  1.130183 seconds (4.05 M allocations: 574.938 MiB, 5.67% gc time)\n",
      "next time unit is 1.58\n",
      "  1.189008 seconds (4.05 M allocations: 575.029 MiB, 5.56% gc time)\n",
      "next time unit is 1.59\n",
      "  1.170569 seconds (4.05 M allocations: 575.029 MiB, 5.42% gc time)\n",
      "next time unit is 1.6\n",
      "  1.142680 seconds (4.05 M allocations: 574.938 MiB, 5.67% gc time)\n",
      "next time unit is 1.61\n",
      "  1.121866 seconds (4.05 M allocations: 574.938 MiB, 5.76% gc time)\n",
      "next time unit is 1.62\n",
      "  1.124325 seconds (4.05 M allocations: 575.029 MiB, 5.69% gc time)\n",
      "next time unit is 1.63\n",
      "  1.172353 seconds (4.05 M allocations: 574.938 MiB, 5.65% gc time)\n",
      "next time unit is 1.64\n",
      "  1.152475 seconds (4.05 M allocations: 574.938 MiB, 5.75% gc time)\n",
      "next time unit is 1.65\n",
      "  1.193991 seconds (4.05 M allocations: 575.029 MiB, 5.77% gc time)\n",
      "next time unit is 1.66\n",
      "  1.191588 seconds (4.05 M allocations: 574.938 MiB, 5.47% gc time)\n",
      "next time unit is 1.67\n",
      "  1.182892 seconds (4.05 M allocations: 575.029 MiB, 5.73% gc time)\n",
      "next time unit is 1.68\n",
      "  1.178772 seconds (4.05 M allocations: 575.029 MiB, 5.72% gc time)\n",
      "next time unit is 1.69\n",
      "  1.196933 seconds (4.05 M allocations: 574.938 MiB, 5.57% gc time)\n",
      "next time unit is 1.7\n",
      "  1.158376 seconds (4.05 M allocations: 575.029 MiB, 5.72% gc time)\n",
      "next time unit is 1.71\n",
      "  1.174894 seconds (4.05 M allocations: 575.029 MiB, 5.55% gc time)\n",
      "next time unit is 1.72\n",
      "  1.144629 seconds (4.05 M allocations: 574.938 MiB, 5.74% gc time)\n",
      "next time unit is 1.73\n",
      "  1.232027 seconds (4.05 M allocations: 575.029 MiB, 13.12% gc time)\n",
      "next time unit is 1.74\n",
      "  1.134724 seconds (4.05 M allocations: 574.938 MiB, 5.59% gc time)\n",
      "next time unit is 1.75\n",
      "  1.195615 seconds (4.05 M allocations: 575.029 MiB, 5.59% gc time)\n",
      "next time unit is 1.76\n",
      "  1.163130 seconds (4.05 M allocations: 574.938 MiB, 5.58% gc time)\n",
      "next time unit is 1.77\n",
      "  1.205940 seconds (4.05 M allocations: 575.029 MiB, 5.50% gc time)\n",
      "next time unit is 1.78\n",
      "  1.157080 seconds (4.05 M allocations: 574.938 MiB, 5.84% gc time)\n",
      "next time unit is 1.79\n",
      "  1.159615 seconds (4.05 M allocations: 575.029 MiB, 5.60% gc time)\n",
      "next time unit is 1.8\n",
      "  1.157095 seconds (4.05 M allocations: 575.029 MiB, 5.56% gc time)\n",
      "next time unit is 1.81\n"
     ]
    },
    {
     "name": "stdout",
     "output_type": "stream",
     "text": [
      "  1.119329 seconds (4.05 M allocations: 574.938 MiB, 5.71% gc time)\n",
      "next time unit is 1.82\n",
      "  1.202389 seconds (4.05 M allocations: 575.029 MiB, 5.51% gc time)\n",
      "next time unit is 1.83\n",
      "  1.451536 seconds (4.05 M allocations: 574.938 MiB, 5.68% gc time)\n",
      "next time unit is 1.84\n",
      "  1.294008 seconds (4.05 M allocations: 575.029 MiB, 5.52% gc time)\n",
      "next time unit is 1.85\n",
      "  1.274916 seconds (4.05 M allocations: 574.938 MiB, 5.71% gc time)\n",
      "next time unit is 1.86\n",
      "  1.250384 seconds (4.05 M allocations: 575.029 MiB, 5.58% gc time)\n",
      "next time unit is 1.87\n",
      "  1.269791 seconds (4.05 M allocations: 574.938 MiB, 5.71% gc time)\n",
      "next time unit is 1.88\n",
      "  1.267345 seconds (4.05 M allocations: 575.029 MiB, 5.80% gc time)\n",
      "next time unit is 1.89\n",
      "  1.210824 seconds (4.05 M allocations: 574.938 MiB, 5.93% gc time)\n",
      "next time unit is 1.9\n",
      "  1.438669 seconds (4.05 M allocations: 575.029 MiB, 5.38% gc time)\n",
      "next time unit is 1.91\n",
      "  1.465407 seconds (4.05 M allocations: 574.938 MiB, 13.72% gc time)\n",
      "next time unit is 1.92\n",
      "  1.264661 seconds (4.05 M allocations: 575.029 MiB, 5.66% gc time)\n",
      "next time unit is 1.93\n",
      "  1.228701 seconds (4.05 M allocations: 574.938 MiB, 5.71% gc time)\n",
      "next time unit is 1.94\n",
      "  1.236471 seconds (4.05 M allocations: 575.029 MiB, 5.43% gc time)\n",
      "next time unit is 1.95\n",
      "  1.154842 seconds (4.05 M allocations: 574.938 MiB, 5.64% gc time)\n",
      "next time unit is 1.96\n",
      "  1.204115 seconds (4.05 M allocations: 575.029 MiB, 5.51% gc time)\n",
      "next time unit is 1.97\n",
      "  1.307889 seconds (4.05 M allocations: 574.938 MiB, 5.40% gc time)\n",
      "next time unit is 1.98\n",
      "  1.272320 seconds (4.05 M allocations: 575.029 MiB, 5.58% gc time)\n",
      "next time unit is 1.99\n",
      "  1.168524 seconds (4.05 M allocations: 574.938 MiB, 5.85% gc time)\n",
      "next time unit is 2.0\n",
      "  1.153048 seconds (4.05 M allocations: 575.029 MiB, 5.66% gc time)\n",
      "next time unit is 2.01\n",
      "data saved at time 2.01\n",
      "  1.375105 seconds (4.05 M allocations: 574.938 MiB, 13.44% gc time)\n",
      "next time unit is 2.02\n",
      "  1.193771 seconds (4.05 M allocations: 575.029 MiB, 5.65% gc time)\n",
      "next time unit is 2.03\n",
      "  1.185441 seconds (4.05 M allocations: 574.938 MiB, 5.65% gc time)\n",
      "next time unit is 2.04\n",
      "  1.137224 seconds (4.05 M allocations: 575.029 MiB, 5.80% gc time)\n",
      "next time unit is 2.05\n",
      "  1.121606 seconds (4.05 M allocations: 574.938 MiB, 5.91% gc time)\n",
      "next time unit is 2.06\n",
      "  1.198403 seconds (4.05 M allocations: 575.029 MiB, 5.67% gc time)\n",
      "next time unit is 2.07\n",
      "  1.145986 seconds (4.05 M allocations: 574.938 MiB, 5.78% gc time)\n",
      "next time unit is 2.08\n",
      "  1.153115 seconds (4.05 M allocations: 575.029 MiB, 5.71% gc time)\n",
      "next time unit is 2.09\n",
      "  1.160887 seconds (4.05 M allocations: 574.938 MiB, 5.66% gc time)\n",
      "next time unit is 2.1\n",
      "  1.153307 seconds (4.05 M allocations: 575.029 MiB, 6.05% gc time)\n",
      "next time unit is 2.11\n",
      "  1.115286 seconds (4.05 M allocations: 574.938 MiB, 5.87% gc time)\n",
      "next time unit is 2.12\n",
      "  1.157085 seconds (4.05 M allocations: 575.029 MiB, 5.69% gc time)\n",
      "next time unit is 2.13\n",
      "  1.157417 seconds (4.05 M allocations: 574.938 MiB, 5.80% gc time)\n",
      "next time unit is 2.14\n",
      "  1.142187 seconds (4.05 M allocations: 575.029 MiB, 5.83% gc time)\n",
      "next time unit is 2.15\n",
      "  1.174889 seconds (4.05 M allocations: 574.938 MiB, 6.14% gc time)\n",
      "next time unit is 2.16\n",
      "  1.202660 seconds (4.05 M allocations: 575.029 MiB, 5.73% gc time)\n",
      "next time unit is 2.17\n",
      "  1.148215 seconds (4.05 M allocations: 574.938 MiB, 5.82% gc time)\n",
      "next time unit is 2.18\n",
      "  1.266448 seconds (4.05 M allocations: 575.029 MiB, 12.96% gc time)\n",
      "next time unit is 2.19\n",
      "  1.174084 seconds (4.05 M allocations: 574.938 MiB, 5.45% gc time)\n",
      "next time unit is 2.2\n",
      "  1.183210 seconds (4.05 M allocations: 575.029 MiB, 5.69% gc time)\n",
      "next time unit is 2.21\n",
      "  1.141366 seconds (4.05 M allocations: 574.938 MiB, 5.62% gc time)\n",
      "next time unit is 2.22\n",
      "  1.146674 seconds (4.05 M allocations: 575.029 MiB, 5.50% gc time)\n",
      "next time unit is 2.23\n",
      "  1.176740 seconds (4.05 M allocations: 574.938 MiB, 5.52% gc time)\n",
      "next time unit is 2.24\n",
      "  1.182140 seconds (4.05 M allocations: 575.029 MiB, 5.75% gc time)\n",
      "next time unit is 2.25\n",
      "  1.190265 seconds (4.05 M allocations: 574.938 MiB, 5.68% gc time)\n",
      "next time unit is 2.26\n",
      "  1.214411 seconds (4.05 M allocations: 575.029 MiB, 5.44% gc time)\n",
      "next time unit is 2.27\n",
      "  1.145883 seconds (4.05 M allocations: 574.938 MiB, 5.81% gc time)\n",
      "next time unit is 2.28\n",
      "  1.191360 seconds (4.05 M allocations: 575.029 MiB, 5.77% gc time)\n",
      "next time unit is 2.29\n",
      "  1.137233 seconds (4.05 M allocations: 574.938 MiB, 5.67% gc time)\n",
      "next time unit is 2.3\n",
      "  1.174826 seconds (4.05 M allocations: 575.029 MiB, 5.86% gc time)\n",
      "next time unit is 2.31\n",
      "  1.156771 seconds (4.05 M allocations: 574.938 MiB, 5.63% gc time)\n",
      "next time unit is 2.32\n",
      "  1.177134 seconds (4.05 M allocations: 575.029 MiB, 5.50% gc time)\n",
      "next time unit is 2.33\n",
      "  1.147580 seconds (4.05 M allocations: 574.938 MiB, 5.82% gc time)\n",
      "next time unit is 2.34\n",
      "  1.115325 seconds (4.05 M allocations: 575.029 MiB, 5.84% gc time)\n",
      "next time unit is 2.35\n",
      "  1.146790 seconds (4.05 M allocations: 574.938 MiB, 5.97% gc time)\n",
      "next time unit is 2.36\n",
      "  1.283565 seconds (4.05 M allocations: 575.029 MiB, 12.39% gc time)\n",
      "next time unit is 2.37\n",
      "  1.182563 seconds (4.05 M allocations: 574.938 MiB, 5.56% gc time)\n",
      "next time unit is 2.38\n",
      "  1.130851 seconds (4.05 M allocations: 575.029 MiB, 5.80% gc time)\n",
      "next time unit is 2.39\n",
      "  1.197872 seconds (4.05 M allocations: 574.938 MiB, 5.60% gc time)\n",
      "next time unit is 2.4\n",
      "  1.139207 seconds (4.05 M allocations: 575.029 MiB, 6.03% gc time)\n",
      "next time unit is 2.41\n",
      "  1.156173 seconds (4.05 M allocations: 574.938 MiB, 5.66% gc time)\n",
      "next time unit is 2.42\n",
      "  1.126447 seconds (4.05 M allocations: 575.029 MiB, 5.79% gc time)\n",
      "next time unit is 2.43\n",
      "  1.247510 seconds (4.05 M allocations: 574.938 MiB, 5.77% gc time)\n",
      "next time unit is 2.44\n",
      "  1.147825 seconds (4.05 M allocations: 575.029 MiB, 5.69% gc time)\n",
      "next time unit is 2.45\n",
      "  1.105153 seconds (4.05 M allocations: 574.938 MiB, 6.09% gc time)\n",
      "next time unit is 2.46\n",
      "  1.141986 seconds (4.05 M allocations: 575.029 MiB, 5.65% gc time)\n",
      "next time unit is 2.47\n",
      "  1.159191 seconds (4.05 M allocations: 574.938 MiB, 5.75% gc time)\n",
      "next time unit is 2.48\n",
      "  1.136993 seconds (4.05 M allocations: 575.029 MiB, 5.85% gc time)\n",
      "next time unit is 2.49\n",
      "  1.147532 seconds (4.05 M allocations: 574.938 MiB, 5.69% gc time)\n",
      "next time unit is 2.5\n",
      "  1.139200 seconds (4.05 M allocations: 575.029 MiB, 6.09% gc time)\n",
      "next time unit is 2.51\n",
      "  1.119369 seconds (4.05 M allocations: 574.938 MiB, 5.81% gc time)\n",
      "next time unit is 2.52\n",
      "  1.179877 seconds (4.05 M allocations: 575.029 MiB, 5.51% gc time)\n",
      "next time unit is 2.53\n",
      "  1.187907 seconds (4.05 M allocations: 574.938 MiB, 5.57% gc time)\n",
      "next time unit is 2.54\n",
      "  1.287227 seconds (4.05 M allocations: 575.029 MiB, 12.48% gc time)\n",
      "next time unit is 2.55\n",
      "  1.224465 seconds (4.05 M allocations: 574.938 MiB, 5.78% gc time)\n",
      "next time unit is 2.56\n",
      "  1.167635 seconds (4.05 M allocations: 575.029 MiB, 5.65% gc time)\n",
      "next time unit is 2.57\n",
      "  1.191796 seconds (4.05 M allocations: 574.938 MiB, 5.57% gc time)\n",
      "next time unit is 2.58\n",
      "  1.169238 seconds (4.05 M allocations: 575.029 MiB, 5.53% gc time)\n",
      "next time unit is 2.59\n",
      "  1.120096 seconds (4.05 M allocations: 574.938 MiB, 5.77% gc time)\n",
      "next time unit is 2.6\n",
      "  1.182764 seconds (4.05 M allocations: 575.029 MiB, 5.76% gc time)\n",
      "next time unit is 2.61\n",
      "  1.122765 seconds (4.05 M allocations: 574.938 MiB, 5.85% gc time)\n",
      "next time unit is 2.62\n",
      "  1.120485 seconds (4.05 M allocations: 575.029 MiB, 5.77% gc time)\n",
      "next time unit is 2.63\n",
      "  1.131492 seconds (4.05 M allocations: 574.938 MiB, 5.70% gc time)\n",
      "next time unit is 2.64\n",
      "  1.167612 seconds (4.05 M allocations: 575.029 MiB, 5.61% gc time)\n",
      "next time unit is 2.65\n",
      "  1.139304 seconds (4.05 M allocations: 574.938 MiB, 5.89% gc time)\n",
      "next time unit is 2.66\n",
      "  1.122278 seconds (4.05 M allocations: 575.029 MiB, 5.77% gc time)\n",
      "next time unit is 2.67\n",
      "  1.136708 seconds (4.05 M allocations: 574.938 MiB, 5.71% gc time)\n",
      "next time unit is 2.68\n",
      "  1.120988 seconds (4.05 M allocations: 575.029 MiB, 5.76% gc time)\n",
      "next time unit is 2.69\n",
      "  1.147281 seconds (4.05 M allocations: 574.938 MiB, 5.70% gc time)\n",
      "next time unit is 2.7\n",
      "  1.168848 seconds (4.05 M allocations: 575.029 MiB, 5.88% gc time)\n",
      "next time unit is 2.71\n"
     ]
    },
    {
     "name": "stdout",
     "output_type": "stream",
     "text": [
      "  1.131875 seconds (4.05 M allocations: 574.938 MiB, 5.75% gc time)\n",
      "next time unit is 2.72\n",
      "  1.254890 seconds (4.05 M allocations: 575.029 MiB, 12.68% gc time)\n",
      "next time unit is 2.73\n",
      "  1.129679 seconds (4.05 M allocations: 574.938 MiB, 5.68% gc time)\n",
      "next time unit is 2.74\n",
      "  1.122295 seconds (4.05 M allocations: 575.029 MiB, 5.74% gc time)\n",
      "next time unit is 2.75\n",
      "  1.157777 seconds (4.05 M allocations: 574.938 MiB, 5.74% gc time)\n",
      "next time unit is 2.76\n",
      "  1.144033 seconds (4.05 M allocations: 575.029 MiB, 5.63% gc time)\n",
      "next time unit is 2.77\n",
      "  1.157019 seconds (4.05 M allocations: 574.938 MiB, 5.64% gc time)\n",
      "next time unit is 2.78\n",
      "  1.143620 seconds (4.05 M allocations: 575.029 MiB, 5.70% gc time)\n",
      "next time unit is 2.79\n",
      "  1.159200 seconds (4.05 M allocations: 574.938 MiB, 5.78% gc time)\n",
      "next time unit is 2.8\n",
      "  1.151652 seconds (4.05 M allocations: 575.029 MiB, 5.99% gc time)\n",
      "next time unit is 2.81\n",
      "  1.128507 seconds (4.05 M allocations: 574.938 MiB, 5.72% gc time)\n",
      "next time unit is 2.82\n",
      "  1.124717 seconds (4.05 M allocations: 575.029 MiB, 5.74% gc time)\n",
      "next time unit is 2.83\n",
      "  1.184581 seconds (4.05 M allocations: 574.938 MiB, 5.74% gc time)\n",
      "next time unit is 2.84\n",
      "  1.133832 seconds (4.05 M allocations: 575.029 MiB, 5.76% gc time)\n",
      "next time unit is 2.85\n",
      "  1.114173 seconds (4.05 M allocations: 574.938 MiB, 6.03% gc time)\n",
      "next time unit is 2.86\n",
      "  1.103321 seconds (4.05 M allocations: 575.029 MiB, 5.86% gc time)\n",
      "next time unit is 2.87\n",
      "  1.218939 seconds (4.05 M allocations: 574.938 MiB, 5.62% gc time)\n",
      "next time unit is 2.88\n",
      "  1.156803 seconds (4.05 M allocations: 575.029 MiB, 5.74% gc time)\n",
      "next time unit is 2.89\n",
      "  1.166189 seconds (4.05 M allocations: 574.938 MiB, 5.72% gc time)\n",
      "next time unit is 2.9\n",
      "  1.283209 seconds (4.05 M allocations: 575.029 MiB, 12.46% gc time)\n",
      "next time unit is 2.91\n",
      "  1.163578 seconds (4.05 M allocations: 574.938 MiB, 5.48% gc time)\n",
      "next time unit is 2.92\n",
      "  1.152224 seconds (4.05 M allocations: 575.029 MiB, 5.55% gc time)\n",
      "next time unit is 2.93\n",
      "  1.148099 seconds (4.05 M allocations: 574.938 MiB, 5.60% gc time)\n",
      "next time unit is 2.94\n",
      "  1.152442 seconds (4.05 M allocations: 575.029 MiB, 5.59% gc time)\n",
      "next time unit is 2.95\n",
      "  1.153625 seconds (4.05 M allocations: 574.938 MiB, 5.77% gc time)\n",
      "next time unit is 2.96\n",
      "  1.128911 seconds (4.05 M allocations: 575.029 MiB, 5.67% gc time)\n",
      "next time unit is 2.97\n",
      "  1.166090 seconds (4.05 M allocations: 575.029 MiB, 5.49% gc time)\n",
      "next time unit is 2.98\n",
      "  1.175222 seconds (4.05 M allocations: 574.938 MiB, 5.45% gc time)\n",
      "next time unit is 2.99\n",
      "  1.147041 seconds (4.05 M allocations: 575.029 MiB, 5.64% gc time)\n",
      "next time unit is 3.0\n",
      "  1.139560 seconds (4.05 M allocations: 574.938 MiB, 5.91% gc time)\n",
      "next time unit is 3.01\n",
      "  1.118793 seconds (4.05 M allocations: 575.029 MiB, 5.79% gc time)\n",
      "next time unit is 3.02\n",
      "  1.125765 seconds (4.05 M allocations: 575.029 MiB, 5.84% gc time)\n",
      "next time unit is 3.03\n",
      "  1.148514 seconds (4.05 M allocations: 574.938 MiB, 5.80% gc time)\n",
      "next time unit is 3.04\n",
      "  1.158859 seconds (4.05 M allocations: 575.029 MiB, 5.69% gc time)\n",
      "next time unit is 3.05\n",
      "  1.164896 seconds (4.05 M allocations: 574.938 MiB, 5.96% gc time)\n",
      "next time unit is 3.06\n",
      "  1.190976 seconds (4.05 M allocations: 575.029 MiB, 5.58% gc time)\n",
      "next time unit is 3.07\n",
      "  1.244510 seconds (4.05 M allocations: 574.938 MiB, 12.87% gc time)\n",
      "next time unit is 3.08\n",
      "  1.200988 seconds (4.05 M allocations: 575.029 MiB, 5.36% gc time)\n",
      "next time unit is 3.09\n",
      "  1.202705 seconds (4.05 M allocations: 575.029 MiB, 5.49% gc time)\n",
      "next time unit is 3.1\n",
      "  1.177765 seconds (4.05 M allocations: 574.938 MiB, 5.68% gc time)\n",
      "next time unit is 3.11\n",
      "  1.137380 seconds (4.05 M allocations: 575.029 MiB, 5.74% gc time)\n",
      "next time unit is 3.12\n",
      "  1.178581 seconds (4.05 M allocations: 574.938 MiB, 5.45% gc time)\n",
      "next time unit is 3.13\n",
      "  1.167756 seconds (4.05 M allocations: 575.029 MiB, 5.52% gc time)\n",
      "next time unit is 3.14\n",
      "  1.172416 seconds (4.05 M allocations: 574.938 MiB, 5.74% gc time)\n",
      "next time unit is 3.15\n",
      "  1.166563 seconds (4.05 M allocations: 575.029 MiB, 5.83% gc time)\n",
      "next time unit is 3.16\n",
      "  1.175464 seconds (4.05 M allocations: 574.938 MiB, 5.59% gc time)\n",
      "next time unit is 3.17\n",
      "  1.149371 seconds (4.05 M allocations: 575.029 MiB, 5.69% gc time)\n",
      "next time unit is 3.18\n",
      "  1.129406 seconds (4.05 M allocations: 575.029 MiB, 5.74% gc time)\n",
      "next time unit is 3.19\n",
      "  1.176036 seconds (4.05 M allocations: 574.938 MiB, 5.61% gc time)\n",
      "next time unit is 3.2\n",
      "  1.155309 seconds (4.05 M allocations: 575.029 MiB, 5.87% gc time)\n",
      "next time unit is 3.21\n",
      "  1.128031 seconds (4.05 M allocations: 574.938 MiB, 5.84% gc time)\n",
      "next time unit is 3.22\n",
      "  1.160891 seconds (4.05 M allocations: 575.029 MiB, 5.81% gc time)\n",
      "next time unit is 3.23\n",
      "  1.138365 seconds (4.05 M allocations: 574.938 MiB, 5.82% gc time)\n",
      "next time unit is 3.24\n",
      "  1.135757 seconds (4.05 M allocations: 575.029 MiB, 5.92% gc time)\n",
      "next time unit is 3.25\n",
      "  1.250758 seconds (4.05 M allocations: 575.029 MiB, 12.93% gc time)\n",
      "next time unit is 3.26\n",
      "  1.142002 seconds (4.05 M allocations: 574.938 MiB, 5.64% gc time)\n",
      "next time unit is 3.27\n",
      "  1.167577 seconds (4.05 M allocations: 575.029 MiB, 5.65% gc time)\n",
      "next time unit is 3.28\n",
      "  1.156175 seconds (4.05 M allocations: 574.938 MiB, 5.72% gc time)\n",
      "next time unit is 3.29\n",
      "  1.169664 seconds (4.05 M allocations: 575.029 MiB, 5.66% gc time)\n",
      "next time unit is 3.3\n",
      "  1.166116 seconds (4.05 M allocations: 575.029 MiB, 5.78% gc time)\n",
      "next time unit is 3.31\n",
      "  1.138092 seconds (4.05 M allocations: 574.938 MiB, 5.77% gc time)\n",
      "next time unit is 3.32\n",
      "  1.180202 seconds (4.05 M allocations: 575.029 MiB, 5.53% gc time)\n",
      "next time unit is 3.33\n",
      "  1.149459 seconds (4.05 M allocations: 574.938 MiB, 5.70% gc time)\n",
      "next time unit is 3.34\n",
      "  1.171260 seconds (4.05 M allocations: 575.029 MiB, 5.62% gc time)\n",
      "next time unit is 3.35\n",
      "  1.177937 seconds (4.05 M allocations: 574.938 MiB, 5.82% gc time)\n",
      "next time unit is 3.36\n",
      "  1.136577 seconds (4.05 M allocations: 575.029 MiB, 5.74% gc time)\n",
      "next time unit is 3.37\n",
      "  1.167145 seconds (4.05 M allocations: 575.029 MiB, 5.63% gc time)\n",
      "next time unit is 3.38\n",
      "  1.122042 seconds (4.05 M allocations: 574.938 MiB, 5.80% gc time)\n",
      "next time unit is 3.39\n",
      "  1.153392 seconds (4.05 M allocations: 575.029 MiB, 5.70% gc time)\n",
      "next time unit is 3.4\n",
      "  1.156836 seconds (4.05 M allocations: 574.938 MiB, 5.89% gc time)\n",
      "next time unit is 3.41\n",
      "  1.178112 seconds (4.05 M allocations: 575.029 MiB, 5.46% gc time)\n",
      "next time unit is 3.42\n",
      "  1.160057 seconds (4.05 M allocations: 574.938 MiB, 5.68% gc time)\n",
      "next time unit is 3.43\n",
      "  1.253464 seconds (4.05 M allocations: 575.029 MiB, 12.70% gc time)\n",
      "next time unit is 3.44\n",
      "  1.150393 seconds (4.05 M allocations: 575.029 MiB, 5.60% gc time)\n",
      "next time unit is 3.45\n",
      "  1.144014 seconds (4.05 M allocations: 574.938 MiB, 5.87% gc time)\n",
      "next time unit is 3.46\n",
      "  1.131417 seconds (4.05 M allocations: 575.029 MiB, 5.72% gc time)\n",
      "next time unit is 3.47\n",
      "  1.189241 seconds (4.05 M allocations: 575.029 MiB, 5.45% gc time)\n",
      "next time unit is 3.48\n",
      "  1.153677 seconds (4.05 M allocations: 574.938 MiB, 5.53% gc time)\n",
      "next time unit is 3.49\n",
      "  1.162384 seconds (4.05 M allocations: 575.029 MiB, 5.59% gc time)\n",
      "next time unit is 3.5\n",
      "  1.204653 seconds (4.05 M allocations: 574.938 MiB, 5.56% gc time)\n",
      "next time unit is 3.51\n",
      "  1.170301 seconds (4.05 M allocations: 575.029 MiB, 5.53% gc time)\n",
      "next time unit is 3.52\n",
      "  1.142140 seconds (4.05 M allocations: 575.029 MiB, 5.68% gc time)\n",
      "next time unit is 3.53\n",
      "  1.191674 seconds (4.05 M allocations: 574.938 MiB, 5.46% gc time)\n",
      "next time unit is 3.54\n",
      "  1.192142 seconds (4.05 M allocations: 575.029 MiB, 5.62% gc time)\n",
      "next time unit is 3.55\n",
      "  1.127432 seconds (4.05 M allocations: 574.938 MiB, 5.94% gc time)\n",
      "next time unit is 3.56\n",
      "  1.135096 seconds (4.05 M allocations: 575.029 MiB, 5.73% gc time)\n",
      "next time unit is 3.57\n",
      "  1.169312 seconds (4.05 M allocations: 575.029 MiB, 5.51% gc time)\n",
      "next time unit is 3.58\n",
      "  1.146392 seconds (4.05 M allocations: 574.938 MiB, 5.69% gc time)\n",
      "next time unit is 3.59\n",
      "  1.128168 seconds (4.05 M allocations: 575.029 MiB, 5.78% gc time)\n",
      "next time unit is 3.6\n",
      "  1.180265 seconds (4.05 M allocations: 574.938 MiB, 5.77% gc time)\n",
      "next time unit is 3.61\n",
      "  1.231233 seconds (4.05 M allocations: 575.029 MiB, 12.82% gc time)\n",
      "next time unit is 3.62\n"
     ]
    },
    {
     "name": "stdout",
     "output_type": "stream",
     "text": [
      "  1.108786 seconds (4.05 M allocations: 575.029 MiB, 5.77% gc time)\n",
      "next time unit is 3.63\n",
      "  1.156557 seconds (4.05 M allocations: 574.938 MiB, 5.49% gc time)\n",
      "next time unit is 3.64\n",
      "  1.192646 seconds (4.05 M allocations: 575.029 MiB, 5.48% gc time)\n",
      "next time unit is 3.65\n",
      "  1.160223 seconds (4.05 M allocations: 574.938 MiB, 5.74% gc time)\n",
      "next time unit is 3.66\n",
      "  1.129037 seconds (4.05 M allocations: 575.029 MiB, 5.68% gc time)\n",
      "next time unit is 3.67\n",
      "  1.148422 seconds (4.05 M allocations: 575.029 MiB, 5.67% gc time)\n",
      "next time unit is 3.68\n",
      "  1.156196 seconds (4.05 M allocations: 574.938 MiB, 5.59% gc time)\n",
      "next time unit is 3.69\n",
      "  1.122992 seconds (4.05 M allocations: 575.029 MiB, 5.77% gc time)\n",
      "next time unit is 3.7\n",
      "  1.160392 seconds (4.05 M allocations: 574.938 MiB, 5.74% gc time)\n",
      "next time unit is 3.71\n",
      "  1.136810 seconds (4.05 M allocations: 575.029 MiB, 5.69% gc time)\n",
      "next time unit is 3.72\n",
      "  1.158916 seconds (4.05 M allocations: 575.029 MiB, 5.61% gc time)\n",
      "next time unit is 3.73\n",
      "  1.106724 seconds (4.05 M allocations: 574.938 MiB, 5.85% gc time)\n",
      "next time unit is 3.74\n",
      "  1.136785 seconds (4.05 M allocations: 575.029 MiB, 5.81% gc time)\n",
      "next time unit is 3.75\n",
      "  1.128463 seconds (4.05 M allocations: 574.938 MiB, 5.98% gc time)\n",
      "next time unit is 3.76\n",
      "  1.148313 seconds (4.05 M allocations: 575.029 MiB, 5.67% gc time)\n",
      "next time unit is 3.77\n",
      "  1.177234 seconds (4.05 M allocations: 575.029 MiB, 5.53% gc time)\n",
      "next time unit is 3.78\n",
      "  1.240291 seconds (4.05 M allocations: 574.938 MiB, 12.81% gc time)\n",
      "next time unit is 3.79\n",
      "  1.166394 seconds (4.05 M allocations: 575.029 MiB, 5.57% gc time)\n",
      "next time unit is 3.8\n",
      "  1.151258 seconds (4.05 M allocations: 575.029 MiB, 5.75% gc time)\n",
      "next time unit is 3.81\n",
      "  1.134812 seconds (4.05 M allocations: 574.938 MiB, 5.70% gc time)\n",
      "next time unit is 3.82\n",
      "  1.165011 seconds (4.05 M allocations: 575.029 MiB, 5.52% gc time)\n",
      "next time unit is 3.83\n",
      "  1.167058 seconds (4.05 M allocations: 574.938 MiB, 5.95% gc time)\n",
      "next time unit is 3.84\n",
      "  1.140395 seconds (4.05 M allocations: 575.029 MiB, 5.71% gc time)\n",
      "next time unit is 3.85\n",
      "  1.139482 seconds (4.05 M allocations: 575.029 MiB, 6.04% gc time)\n",
      "next time unit is 3.86\n",
      "  1.201562 seconds (4.05 M allocations: 574.938 MiB, 5.67% gc time)\n",
      "next time unit is 3.87\n",
      "  1.214140 seconds (4.05 M allocations: 575.029 MiB, 5.49% gc time)\n",
      "next time unit is 3.88\n",
      "  1.185904 seconds (4.05 M allocations: 574.938 MiB, 5.84% gc time)\n",
      "next time unit is 3.89\n",
      "  1.186700 seconds (4.05 M allocations: 575.029 MiB, 5.81% gc time)\n",
      "next time unit is 3.9\n",
      "  1.205690 seconds (4.05 M allocations: 575.029 MiB, 5.91% gc time)\n",
      "next time unit is 3.91\n",
      "  1.174777 seconds (4.05 M allocations: 574.938 MiB, 5.70% gc time)\n",
      "next time unit is 3.92\n",
      "  1.240561 seconds (4.05 M allocations: 575.029 MiB, 6.00% gc time)\n",
      "next time unit is 3.93\n",
      "  1.164014 seconds (4.05 M allocations: 575.029 MiB, 5.70% gc time)\n",
      "next time unit is 3.94\n",
      "  1.178396 seconds (4.05 M allocations: 574.938 MiB, 5.67% gc time)\n",
      "next time unit is 3.95\n",
      "  1.247382 seconds (4.05 M allocations: 575.029 MiB, 5.60% gc time)\n",
      "next time unit is 3.96\n",
      "  1.311671 seconds (4.05 M allocations: 574.938 MiB, 12.98% gc time)\n",
      "next time unit is 3.97\n",
      "  1.212390 seconds (4.05 M allocations: 575.029 MiB, 5.46% gc time)\n",
      "next time unit is 3.98\n",
      "  1.200559 seconds (4.05 M allocations: 575.029 MiB, 5.44% gc time)\n",
      "next time unit is 3.99\n",
      "  1.177208 seconds (4.05 M allocations: 574.938 MiB, 5.48% gc time)\n",
      "next time unit is 4.0\n",
      "  1.139388 seconds (4.05 M allocations: 575.029 MiB, 5.93% gc time)\n",
      "next time unit is 4.01\n",
      "data saved at time 4.01\n",
      "  1.399248 seconds (4.05 M allocations: 575.029 MiB, 15.56% gc time)\n",
      "next time unit is 4.02\n",
      "  1.165381 seconds (4.05 M allocations: 574.938 MiB, 5.98% gc time)\n",
      "next time unit is 4.03\n",
      "  1.202231 seconds (4.05 M allocations: 575.029 MiB, 6.06% gc time)\n",
      "next time unit is 4.04\n",
      "  1.162860 seconds (4.05 M allocations: 574.938 MiB, 6.14% gc time)\n",
      "next time unit is 4.05\n",
      "  1.166300 seconds (4.05 M allocations: 575.029 MiB, 6.22% gc time)\n",
      "next time unit is 4.06\n",
      "  1.258079 seconds (4.05 M allocations: 575.029 MiB, 5.68% gc time)\n",
      "next time unit is 4.07\n",
      "  1.193312 seconds (4.05 M allocations: 574.938 MiB, 5.90% gc time)\n",
      "next time unit is 4.08\n",
      "  1.162953 seconds (4.05 M allocations: 575.029 MiB, 6.00% gc time)\n",
      "next time unit is 4.09\n",
      "  1.138167 seconds (4.05 M allocations: 575.029 MiB, 6.19% gc time)\n",
      "next time unit is 4.1\n",
      "  1.172953 seconds (4.05 M allocations: 574.938 MiB, 6.46% gc time)\n",
      "next time unit is 4.11\n",
      "  1.203892 seconds (4.05 M allocations: 575.029 MiB, 5.82% gc time)\n",
      "next time unit is 4.12\n",
      "  1.143979 seconds (4.05 M allocations: 574.938 MiB, 6.12% gc time)\n",
      "next time unit is 4.13\n",
      "  1.188315 seconds (4.05 M allocations: 575.029 MiB, 5.89% gc time)\n",
      "next time unit is 4.14\n",
      "  1.145739 seconds (4.05 M allocations: 575.029 MiB, 6.06% gc time)\n",
      "next time unit is 4.15\n",
      "  1.144559 seconds (4.05 M allocations: 574.938 MiB, 6.41% gc time)\n",
      "next time unit is 4.16\n",
      "  1.121663 seconds (4.05 M allocations: 575.029 MiB, 6.23% gc time)\n",
      "next time unit is 4.17\n",
      "  1.100154 seconds (4.05 M allocations: 575.029 MiB, 6.34% gc time)\n",
      "next time unit is 4.18\n",
      "  1.217835 seconds (4.05 M allocations: 574.938 MiB, 14.06% gc time)\n",
      "next time unit is 4.19\n",
      "  1.171163 seconds (4.05 M allocations: 575.029 MiB, 5.49% gc time)\n",
      "next time unit is 4.2\n",
      "  1.141859 seconds (4.05 M allocations: 575.029 MiB, 5.97% gc time)\n",
      "next time unit is 4.21\n",
      "  1.136176 seconds (4.05 M allocations: 574.938 MiB, 5.66% gc time)\n",
      "next time unit is 4.22\n",
      "  1.149318 seconds (4.05 M allocations: 575.029 MiB, 5.60% gc time)\n",
      "next time unit is 4.23\n",
      "  1.145785 seconds (4.05 M allocations: 575.029 MiB, 5.61% gc time)\n",
      "next time unit is 4.24\n",
      "  1.172403 seconds (4.05 M allocations: 574.938 MiB, 5.55% gc time)\n",
      "next time unit is 4.25\n",
      "  1.201687 seconds (4.05 M allocations: 575.029 MiB, 5.74% gc time)\n",
      "next time unit is 4.26\n",
      "  1.131807 seconds (4.05 M allocations: 574.938 MiB, 5.82% gc time)\n",
      "next time unit is 4.27\n",
      "  1.137207 seconds (4.05 M allocations: 575.029 MiB, 5.78% gc time)\n",
      "next time unit is 4.28\n",
      "  1.147155 seconds (4.05 M allocations: 575.029 MiB, 5.59% gc time)\n",
      "next time unit is 4.29\n",
      "  1.158433 seconds (4.05 M allocations: 574.938 MiB, 5.66% gc time)\n",
      "next time unit is 4.3\n",
      "  1.147117 seconds (4.05 M allocations: 575.029 MiB, 5.84% gc time)\n",
      "next time unit is 4.31\n",
      "  1.131526 seconds (4.05 M allocations: 575.029 MiB, 5.71% gc time)\n",
      "next time unit is 4.32\n",
      "  1.134302 seconds (4.05 M allocations: 574.938 MiB, 5.80% gc time)\n",
      "next time unit is 4.33\n",
      "  1.131743 seconds (4.05 M allocations: 575.029 MiB, 5.75% gc time)\n",
      "next time unit is 4.34\n",
      "  1.140965 seconds (4.05 M allocations: 575.029 MiB, 5.78% gc time)\n",
      "next time unit is 4.35\n",
      "  1.111796 seconds (4.05 M allocations: 574.938 MiB, 6.20% gc time)\n",
      "next time unit is 4.36\n",
      "  1.248533 seconds (4.05 M allocations: 575.029 MiB, 12.91% gc time)\n",
      "next time unit is 4.37\n",
      "  1.113015 seconds (4.05 M allocations: 575.029 MiB, 5.75% gc time)\n",
      "next time unit is 4.38\n",
      "  1.166602 seconds (4.05 M allocations: 574.938 MiB, 5.45% gc time)\n",
      "next time unit is 4.39\n",
      "  1.178027 seconds (4.05 M allocations: 575.029 MiB, 5.61% gc time)\n",
      "next time unit is 4.4\n",
      "  1.153971 seconds (4.05 M allocations: 575.029 MiB, 5.88% gc time)\n",
      "next time unit is 4.41\n",
      "  1.165029 seconds (4.05 M allocations: 574.938 MiB, 5.62% gc time)\n",
      "next time unit is 4.42\n",
      "  1.164810 seconds (4.05 M allocations: 575.029 MiB, 5.64% gc time)\n",
      "next time unit is 4.43\n",
      "  1.157846 seconds (4.05 M allocations: 575.029 MiB, 5.57% gc time)\n",
      "next time unit is 4.44\n",
      "  1.171432 seconds (4.05 M allocations: 574.938 MiB, 5.58% gc time)\n",
      "next time unit is 4.45\n",
      "  1.154878 seconds (4.05 M allocations: 575.029 MiB, 5.83% gc time)\n",
      "next time unit is 4.46\n",
      "  1.125169 seconds (4.05 M allocations: 574.938 MiB, 5.75% gc time)\n",
      "next time unit is 4.47\n",
      "  1.114125 seconds (4.05 M allocations: 575.029 MiB, 5.83% gc time)\n",
      "next time unit is 4.48\n",
      "  1.156143 seconds (4.05 M allocations: 575.029 MiB, 5.63% gc time)\n",
      "next time unit is 4.49\n",
      "  1.173737 seconds (4.05 M allocations: 574.938 MiB, 5.58% gc time)\n",
      "next time unit is 4.5\n",
      "546.435256 seconds (2.10 G allocations: 265.619 GiB, 6.91% gc time)\n"
     ]
    }
   ],
   "source": [
    "@time for ti in T\n",
    "    \n",
    "    @time global t, (w, f), (qJ, v, λ), bd = ifherk_coupled(t, w, qJ, v, bd,fsys)\n",
    "    \n",
    "    push!(thist,t-Δt)\n",
    "    push!(fx,sum(f.u)*Δx^2)\n",
    "    push!(fy,sum(f.v)*Δx^2)\n",
    "    push!(whist,deepcopy(w))\n",
    "    push!(bdhist,deepcopy(bd))\n",
    "    println(\"next time unit is $(round(t,digits=3))\")\n",
    "    \n",
    "    if mod(round(Int,ti/Δt),200) == 1  \n",
    "        @save filename*\".bson\" bd bdhist xg yg whist thist fx fy Δt w qJ v\n",
    "        println(\"data saved at time \", ti)\n",
    "    end\n",
    "end"
   ]
  },
  {
   "cell_type": "markdown",
   "metadata": {},
   "source": [
    "## <span style=\"color:blue\"> Plot </span>"
   ]
  },
  {
   "cell_type": "markdown",
   "metadata": {},
   "source": [
    "#### Set contour levels and fps"
   ]
  },
  {
   "cell_type": "code",
   "execution_count": 85,
   "metadata": {},
   "outputs": [],
   "source": [
    "contour_levels = range(0.2*minimum(w.data),stop=0.2*maximum(w.data),length=40)\n",
    "sample_freq = 3\n",
    "fps = 25;"
   ]
  },
  {
   "cell_type": "markdown",
   "metadata": {},
   "source": [
    "#### Get body verts history"
   ]
  },
  {
   "cell_type": "code",
   "execution_count": 86,
   "metadata": {},
   "outputs": [],
   "source": [
    "vshist = []\n",
    "for i = 1:length(bdhist)\n",
    "    @get bdhist[i] (bs, js, sys)\n",
    "    push!(vshist, VertsHistory(sys.nbody, bs))\n",
    "end"
   ]
  },
  {
   "cell_type": "markdown",
   "metadata": {},
   "source": [
    "#### Plot first and last time field"
   ]
  },
  {
   "cell_type": "code",
   "execution_count": 87,
   "metadata": {},
   "outputs": [
    {
     "data": {
      "image/png": "[encoded data removed]"
     },
     "execution_count": 87,
     "metadata": {},
     "output_type": "execute_result"
    }
   ],
   "source": [
    "p = plot(xg,yg,whist[1],levels=contour_levels,color=:bluesreds)\n",
    "for i = 1:bd.sys.nbody\n",
    "    plot!(p,vshist[1][i,2:3,1], vshist[1][i,2:3,2],linewidth=2,linecolor=\"black\")\n",
    "end\n",
    "p"
   ]
  },
  {
   "cell_type": "code",
   "execution_count": 88,
   "metadata": {},
   "outputs": [
    {
     "data": {
      "image/png": "[encoded data removed]"
     },
     "execution_count": 88,
     "metadata": {},
     "output_type": "execute_result"
    }
   ],
   "source": [
    "p = plot(xg,yg,whist[end],levels=contour_levels,color=:coolwarm)\n",
    "\n",
    "for i = 1:bd.sys.nbody\n",
    "    plot!(p,vshist[end][i,2:3,1], vshist[end][i,2:3,2],linewidth=2,linecolor=\"black\")\n",
    "end\n",
    "# savefig(p,\"plate.eps\")\n",
    "p"
   ]
  },
  {
   "cell_type": "markdown",
   "metadata": {},
   "source": [
    "#### Body position begining and end"
   ]
  },
  {
   "cell_type": "code",
   "execution_count": 89,
   "metadata": {},
   "outputs": [
    {
     "data": {
      "image/png": "[encoded data removed]"
     },
     "execution_count": 89,
     "metadata": {},
     "output_type": "execute_result"
    }
   ],
   "source": [
    "pb = plot()\n",
    "for i = 1:sys.nbody\n",
    "    plot!(pb,vshist[1][i,2:3,1], vshist[1][i,2:3,2],linewidth=2,linecolor=\"black\",label=\"begin\")\n",
    "end\n",
    "for i = 1:sys.nbody\n",
    "    plot!(pb,vshist[end][i,2:3,1], vshist[end][i,2:3,2],linewidth=2,linecolor=\"red\",label=\"end\")\n",
    "end\n",
    "plot!(pb,xlims=(xg[1],xg[end]), ylims=(yg[1],yg[end]),ratio=1,legend=false)\n",
    "pb"
   ]
  },
  {
   "cell_type": "markdown",
   "metadata": {},
   "source": [
    "#### Make gif"
   ]
  },
  {
   "cell_type": "code",
   "execution_count": 90,
   "metadata": {},
   "outputs": [
    {
     "data": {
      "image/png": "[encoded data removed]",
      "text/plain": [
       "PyPlot.Figure(PyObject <matplotlib.figure.Figure object at 0x7fb1485164a8>)"
      ]
     },
     "metadata": {},
     "output_type": "display_data"
    },
    {
     "name": "stderr",
     "output_type": "stream",
     "text": [
      "┌ Info: Saved animation to \n",
      "│   fn = /mnt/g/Research/FSI.jl/examples/FallingPlate.gif\n",
      "└ @ Plots /home/fs/.julia/packages/Plots/oiirH/src/animation.jl:90\n"
     ]
    },
    {
     "data": {
      "text/html": [
       "<img src=\"FallingPlate.gif\" />"
      ],
      "text/plain": [
       "Plots.AnimatedGif(\"/mnt/g/Research/FSI.jl/examples/FallingPlate.gif\")"
      ]
     },
     "execution_count": 90,
     "metadata": {},
     "output_type": "execute_result"
    }
   ],
   "source": [
    "anim = @animate for j = 1:sample_freq:length(whist)\n",
    "    plot(xg,yg,whist[j],levels=contour_levels,color=:coolwarm)\n",
    "    for i = 1:sys.nbody\n",
    "        plot!(vshist[j][i,2:3,1], vshist[j][i,2:3,2],linewidth=2,linecolor=\"black\")\n",
    "    end\n",
    "end\n",
    "\n",
    "gif(anim, filename*\".gif\", fps = fps)"
   ]
  },
  {
   "cell_type": "markdown",
   "metadata": {},
   "source": [
    "#### Get position, velocity and acceleration in time"
   ]
  },
  {
   "cell_type": "code",
   "execution_count": 91,
   "metadata": {},
   "outputs": [],
   "source": [
    "vhist = [0.0]\n",
    "phist = [0.0]\n",
    "\n",
    "for i in 1:length(bdhist)\n",
    "    push!(vhist,bdhist[i].bs[1].v[5])\n",
    "    push!(phist,bdhist[i].bs[1].x_i[2]-bdhist[1].bs[1].x_i[2])    \n",
    "end\n",
    "\n",
    "ahist = []\n",
    "for i in 1:length(vhist)-1\n",
    "    push!(ahist,(vhist[i+1]-vhist[i])/Δt)\n",
    "end"
   ]
  },
  {
   "cell_type": "code",
   "execution_count": 92,
   "metadata": {},
   "outputs": [
    {
     "data": {
      "image/png": "[encoded data removed]"
     },
     "execution_count": 92,
     "metadata": {},
     "output_type": "execute_result"
    }
   ],
   "source": [
    "pp = plot([0.0;thist],phist,xlabel=\"\\$(g/D)^{0.5}t \\$\",ylabel=\"\\$y/D\\$\",legend=false)\n",
    "pv = plot([0.0;thist],vhist,xlabel=\"\\$(g/D)^{0.5}t \\$\",ylabel=\"\\$v/(gD)^{0.5}\\$\",legend=false)\n",
    "pa = plot([0.0;thist[1:end-1]],ahist,xlabel=\"\\$(g/D)^{0.5}t \\$\",ylabel=\"\\$a/g\\$\",legend=false)\n",
    "\n",
    "plot(pp,pv,pa)"
   ]
  },
  {
   "cell_type": "code",
   "execution_count": 93,
   "metadata": {},
   "outputs": [
    {
     "data": {
      "text/plain": [
       "5-element Array{Any,1}:\n",
       " -0.6796823428664687\n",
       " -0.675868059102475 \n",
       " -0.6725135159578011\n",
       " -0.6695126595623824\n",
       " -0.6667707252074103"
      ]
     },
     "execution_count": 93,
     "metadata": {},
     "output_type": "execute_result"
    }
   ],
   "source": [
    "ahist[1:5]"
   ]
  },
  {
   "cell_type": "markdown",
   "metadata": {},
   "source": [
    "#### Lift and drag coefficients"
   ]
  },
  {
   "cell_type": "code",
   "execution_count": 94,
   "metadata": {},
   "outputs": [
    {
     "data": {
      "image/png": "[encoded data removed]"
     },
     "execution_count": 94,
     "metadata": {},
     "output_type": "execute_result"
    }
   ],
   "source": [
    "px = plot(thist,2*fx,ylim=(-1,1),xlabel=\"Convective time\",ylabel=\"\\$C_D\\$\",legend=false)\n",
    "py = plot(thist,2*fy,ylim=(0,5),xlabel=\"Convective time\",ylabel=\"\\$C_L\\$\",legend=false)\n",
    "plot(px,py)"
   ]
  },
  {
   "cell_type": "markdown",
   "metadata": {},
   "source": [
    "## <span style=\"color:blue\"> Save Data </span>"
   ]
  },
  {
   "cell_type": "markdown",
   "metadata": {},
   "source": [
    "#### Save all current data related to plotting to a .jld file"
   ]
  },
  {
   "cell_type": "code",
   "execution_count": 95,
   "metadata": {},
   "outputs": [],
   "source": [
    "@save filename*\".bson\" bd bdhist xg yg whist vshist thist fx fy Δt w qJ v t f"
   ]
  },
  {
   "cell_type": "markdown",
   "metadata": {},
   "source": [
    "#### Use the following block to extract data"
   ]
  },
  {
   "cell_type": "code",
   "execution_count": 96,
   "metadata": {},
   "outputs": [],
   "source": [
    "# using Dyn3d\n",
    "# using ViscousFlow\n",
    "\n",
    "# @load filename*\".bson\" bd bdhist xg yg whist vshist thist fx fy Δt w qJ v t f\n",
    "# @get bd (bs,js,sys);"
   ]
  }
 ],
 "metadata": {
  "@webio": {
   "lastCommId": null,
   "lastKernelId": null
  },
  "kernelspec": {
   "display_name": "Julia 1.0.4",
   "language": "julia",
   "name": "julia-1.0"
  },
  "language_info": {
   "file_extension": ".jl",
   "mimetype": "application/julia",
   "name": "julia",
   "version": "1.0.4"
  }
 },
 "nbformat": 4,
 "nbformat_minor": 2
}
