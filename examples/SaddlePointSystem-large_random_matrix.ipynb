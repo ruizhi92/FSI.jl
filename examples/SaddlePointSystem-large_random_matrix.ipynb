{
 "cells": [
  {
   "cell_type": "markdown",
   "metadata": {},
   "source": [
    "### Try to use LinearMap with ismutating=true, fail"
   ]
  },
  {
   "cell_type": "code",
   "execution_count": null,
   "metadata": {},
   "outputs": [],
   "source": [
    "using LinearMaps\n",
    "using IterativeSolvers"
   ]
  },
  {
   "cell_type": "code",
   "execution_count": null,
   "metadata": {},
   "outputs": [],
   "source": [
    "function g(y::AbstractVector,x::AbstractVector) \n",
    "    y = [1 2;3 5]*x\n",
    "    return y\n",
    "end\n",
    "\n",
    "S = LinearMap(g,2;ismutating=true)\n",
    "b = [4.0, 3.3]\n",
    "x = [2.0, 2.0]\n",
    "gmres!(x,S,b)"
   ]
  },
  {
   "cell_type": "markdown",
   "metadata": {},
   "source": [
    "### Try to use LinearMap with ismutating=false, works"
   ]
  },
  {
   "cell_type": "code",
   "execution_count": null,
   "metadata": {},
   "outputs": [],
   "source": [
    "function f(x::AbstractVector) \n",
    "    return [1 2;3 5]*x\n",
    "end\n",
    "\n",
    "S = LinearMap(f,2;ismutating=false)\n",
    "b = [4.0, 3.3]\n",
    "gmres(S,b)"
   ]
  },
  {
   "cell_type": "code",
   "execution_count": null,
   "metadata": {
    "scrolled": true
   },
   "outputs": [],
   "source": [
    "[1 2;3 5]\\[4.,3.3]"
   ]
  },
  {
   "cell_type": "markdown",
   "metadata": {},
   "source": [
    "### Construct block matrix with functions, works"
   ]
  },
  {
   "cell_type": "code",
   "execution_count": null,
   "metadata": {},
   "outputs": [],
   "source": [
    "m1 = [ 0.533442  0.367231  0.217876;\n",
    " 0.937095  0.838996  0.38914;\n",
    " 0.399906  0.409811  0.571862]\n",
    "m2 = [ 0.515455  0.912171;\n",
    " 0.197663  0.165777;\n",
    " 0.3626    0.735575]\n",
    "m3 = [ 0.763043  0.36013   0.779911; \n",
    " 0.676889  0.262959  0.0735239]\n",
    "m4 = [ 0.981832  0.695422;\n",
    " 0.906051  0.432737]\n",
    "b = [ 0.71537 \n",
    " 0.37217 \n",
    " 0.728864\n",
    " 0.72988 \n",
    " 0.881618]\n",
    "\n",
    "[m1 m2;m3 m4]\\b"
   ]
  },
  {
   "cell_type": "code",
   "execution_count": null,
   "metadata": {},
   "outputs": [],
   "source": [
    "function al(x::AbstractVector)\n",
    "\n",
    "m1 = [ 0.533442  0.367231  0.217876;\n",
    " 0.937095  0.838996  0.38914;\n",
    " 0.399906  0.409811  0.571862]\n",
    "m2 = [ 0.515455  0.912171;\n",
    " 0.197663  0.165777;\n",
    " 0.3626    0.735575]\n",
    "m3 = [ 0.763043  0.36013   0.779911; \n",
    " 0.676889  0.262959  0.0735239]\n",
    "m4 = [ 0.981832  0.695422;\n",
    " 0.906051  0.432737]\n",
    "\n",
    "    \n",
    "    function f(x::AbstractVector) \n",
    "        return m1*x\n",
    "    end\n",
    "    function g(x::AbstractVector) \n",
    "        return m2*x\n",
    "    end\n",
    "    function m(x::AbstractVector) \n",
    "        return m3*x\n",
    "    end\n",
    "    function n(x::AbstractVector) \n",
    "        return m4*x\n",
    "    end \n",
    "    \n",
    "    # has to do the matrix mul manually to return 1d output\n",
    "    out = zeros(5)\n",
    "    out[1:3] = f(x[1:3]) + g(x[4:5])\n",
    "    out[4:5] = m(x[1:3]) + n(x[4:5])\n",
    "    \n",
    "    return out\n",
    "end\n",
    "S = LinearMap(al,5;ismutating=false)    \n",
    "    \n",
    "b = [ 0.71537 \n",
    " 0.37217 \n",
    " 0.728864\n",
    " 0.72988 \n",
    " 0.881618]\n",
    "gmres(S,b)"
   ]
  },
  {
   "cell_type": "markdown",
   "metadata": {},
   "source": [
    "### Test SaddleSystem"
   ]
  },
  {
   "cell_type": "code",
   "execution_count": 7,
   "metadata": {},
   "outputs": [
    {
     "data": {
      "text/plain": [
       "116-element Array{Float64,1}:\n",
       "  10.9637 \n",
       "  -4.19658\n",
       "  -1.49447\n",
       "   1.15622\n",
       "  -1.4213 \n",
       "  10.6051 \n",
       "   5.11822\n",
       "  -1.10456\n",
       "  -8.40552\n",
       "  -6.19242\n",
       "  -2.77369\n",
       "   6.09046\n",
       "   7.9735 \n",
       "   ⋮      \n",
       " -25.77   \n",
       " -40.048  \n",
       "  61.0844 \n",
       " -35.9778 \n",
       "  19.4345 \n",
       " -23.011  \n",
       "  38.4719 \n",
       "  42.4842 \n",
       " -50.1064 \n",
       "  38.2913 \n",
       " -35.7336 \n",
       "  11.2997 "
      ]
     },
     "execution_count": 7,
     "metadata": {},
     "output_type": "execute_result"
    }
   ],
   "source": [
    "A = rand(80,80)\n",
    "A⁻¹ = inv(A)\n",
    "B₁ᵀ = rand(80,12)\n",
    "B₂ = rand(12,80)\n",
    "M = rand(12,12)\n",
    "M⁻¹ = inv(M)\n",
    "G₁ᵀ = rand(12,12)\n",
    "G₂ = rand(12,12)\n",
    "T₁ᵀ = rand(12,12)\n",
    "T₂ = rand(12,12)\n",
    "\n",
    "O32 = zeros(80,12)\n",
    "O23 = zeros(12,80)\n",
    "O22 = zeros(12,12)\n",
    "\n",
    "S = [A O32 B₁ᵀ O32; O23 M T₁ᵀ G₁ᵀ; B₂ -T₂ O22 O22; O23 G₂ O22 O22]\n",
    "\n",
    "rċ = rand(80)\n",
    "ru̇ = rand(12)\n",
    "rf = rand(12)\n",
    "rλ = rand(12)\n",
    "b = [rċ;ru̇;rf;rλ]\n",
    "\n",
    "S\\b"
   ]
  },
  {
   "cell_type": "code",
   "execution_count": 8,
   "metadata": {},
   "outputs": [
    {
     "data": {
      "text/plain": [
       "2.3833120458742235e-13"
      ]
     },
     "execution_count": 8,
     "metadata": {},
     "output_type": "execute_result"
    }
   ],
   "source": [
    "norm(S*(S\\b)-b)"
   ]
  },
  {
   "cell_type": "code",
   "execution_count": 9,
   "metadata": {},
   "outputs": [
    {
     "name": "stderr",
     "output_type": "stream",
     "text": [
      "WARNING: replacing module SaddlePointSystems\n",
      "WARNING: using SaddlePointSystems.SaddleSystem in module Main conflicts with an existing identifier.\n"
     ]
    }
   ],
   "source": [
    "include(\"../src/SaddlePointSystems.jl\")\n",
    "using SaddlePointSystems\n",
    "\n",
    "ċ = zeros(80)\n",
    "u̇ = zeros(12)\n",
    "f = zeros(12)\n",
    "λ = zeros(12)\n",
    "\n",
    "St = SaddleSystem((ċ, u̇, f, λ), (A⁻¹, B₁ᵀ, B₂),\n",
    "                  (M⁻¹, G₁ᵀ, G₂), (T₁ᵀ, T₂))\n",
    "\n",
    "bt = (rċ, ru̇, rf, rλ);"
   ]
  },
  {
   "cell_type": "code",
   "execution_count": 10,
   "metadata": {},
   "outputs": [
    {
     "data": {
      "text/plain": [
       "([0.369329, -0.697804, 0.732585, -0.201039, 0.641821, 0.576867, -0.19927, -0.0400248, -0.116001, -0.177289  …  0.644777, 0.839327, 0.266865, -0.294075, -0.72746, -0.704247, -0.114817, -1.1125, 0.728516, -0.912563], [0.212307, -0.605037, -0.647972, 0.502702, 0.603824, 0.655128, 0.380829, -0.361744, 0.100293, -0.443483, 0.809765, 0.683713], [-0.551856, -0.197221, 0.531107, 0.5343, 0.111864, -0.720829, -0.620866, -0.994125, 1.06497, -0.352837, -0.481323, 0.0834559], [0.162369, -0.499748, -0.221312, 0.546005, -0.16729, 1.70887, 0.726356, -0.468532, -0.953857, -0.330789, -0.54405, 0.969441])"
      ]
     },
     "execution_count": 10,
     "metadata": {},
     "output_type": "execute_result"
    }
   ],
   "source": [
    "aa,bb,cc,dd = St\\bt"
   ]
  },
  {
   "cell_type": "code",
   "execution_count": 11,
   "metadata": {},
   "outputs": [
    {
     "data": {
      "text/plain": [
       "0.5542617837526679"
      ]
     },
     "execution_count": 11,
     "metadata": {},
     "output_type": "execute_result"
    }
   ],
   "source": [
    "x = [aa;bb;cc;dd]\n",
    "norm(S*x-b)"
   ]
  },
  {
   "cell_type": "code",
   "execution_count": null,
   "metadata": {},
   "outputs": [],
   "source": []
  }
 ],
 "metadata": {
  "kernelspec": {
   "display_name": "Julia 0.6.2",
   "language": "julia",
   "name": "julia-0.6"
  },
  "language_info": {
   "file_extension": ".jl",
   "mimetype": "application/julia",
   "name": "julia",
   "version": "0.6.2"
  }
 },
 "nbformat": 4,
 "nbformat_minor": 2
}
