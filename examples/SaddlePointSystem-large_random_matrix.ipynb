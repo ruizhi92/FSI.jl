{
 "cells": [
  {
   "cell_type": "markdown",
   "metadata": {},
   "source": [
    "### Try to use LinearMap with ismutating=true, fail"
   ]
  },
  {
   "cell_type": "code",
   "execution_count": null,
   "metadata": {},
   "outputs": [],
   "source": [
    "using LinearMaps\n",
    "using IterativeSolvers"
   ]
  },
  {
   "cell_type": "code",
   "execution_count": null,
   "metadata": {},
   "outputs": [],
   "source": [
    "function g(y::AbstractVector,x::AbstractVector) \n",
    "    y = [1 2;3 5]*x\n",
    "    return y\n",
    "end\n",
    "\n",
    "S = LinearMap(g,2;ismutating=true)\n",
    "b = [4.0, 3.3]\n",
    "x = [2.0, 2.0]\n",
    "gmres!(x,S,b)"
   ]
  },
  {
   "cell_type": "markdown",
   "metadata": {},
   "source": [
    "### Try to use LinearMap with ismutating=false, works"
   ]
  },
  {
   "cell_type": "code",
   "execution_count": null,
   "metadata": {},
   "outputs": [],
   "source": [
    "function f(x::AbstractVector) \n",
    "    return [1 2;3 5]*x\n",
    "end\n",
    "\n",
    "S = LinearMap(f,2;ismutating=false)\n",
    "b = [4.0, 3.3]\n",
    "gmres(S,b)"
   ]
  },
  {
   "cell_type": "code",
   "execution_count": null,
   "metadata": {
    "scrolled": true
   },
   "outputs": [],
   "source": [
    "[1 2;3 5]\\[4.,3.3]"
   ]
  },
  {
   "cell_type": "markdown",
   "metadata": {},
   "source": [
    "### Construct block matrix with functions, works"
   ]
  },
  {
   "cell_type": "code",
   "execution_count": null,
   "metadata": {},
   "outputs": [],
   "source": [
    "m1 = [ 0.533442  0.367231  0.217876;\n",
    " 0.937095  0.838996  0.38914;\n",
    " 0.399906  0.409811  0.571862]\n",
    "m2 = [ 0.515455  0.912171;\n",
    " 0.197663  0.165777;\n",
    " 0.3626    0.735575]\n",
    "m3 = [ 0.763043  0.36013   0.779911; \n",
    " 0.676889  0.262959  0.0735239]\n",
    "m4 = [ 0.981832  0.695422;\n",
    " 0.906051  0.432737]\n",
    "b = [ 0.71537 \n",
    " 0.37217 \n",
    " 0.728864\n",
    " 0.72988 \n",
    " 0.881618]\n",
    "\n",
    "[m1 m2;m3 m4]\\b"
   ]
  },
  {
   "cell_type": "code",
   "execution_count": null,
   "metadata": {},
   "outputs": [],
   "source": [
    "function al(x::AbstractVector)\n",
    "\n",
    "m1 = [ 0.533442  0.367231  0.217876;\n",
    " 0.937095  0.838996  0.38914;\n",
    " 0.399906  0.409811  0.571862]\n",
    "m2 = [ 0.515455  0.912171;\n",
    " 0.197663  0.165777;\n",
    " 0.3626    0.735575]\n",
    "m3 = [ 0.763043  0.36013   0.779911; \n",
    " 0.676889  0.262959  0.0735239]\n",
    "m4 = [ 0.981832  0.695422;\n",
    " 0.906051  0.432737]\n",
    "\n",
    "    \n",
    "    function f(x::AbstractVector) \n",
    "        return m1*x\n",
    "    end\n",
    "    function g(x::AbstractVector) \n",
    "        return m2*x\n",
    "    end\n",
    "    function m(x::AbstractVector) \n",
    "        return m3*x\n",
    "    end\n",
    "    function n(x::AbstractVector) \n",
    "        return m4*x\n",
    "    end \n",
    "    \n",
    "    # has to do the matrix mul manually to return 1d output\n",
    "    out = zeros(5)\n",
    "    out[1:3] = f(x[1:3]) + g(x[4:5])\n",
    "    out[4:5] = m(x[1:3]) + n(x[4:5])\n",
    "    \n",
    "    return out\n",
    "end\n",
    "S = LinearMap(al,5;ismutating=false)    \n",
    "    \n",
    "b = [ 0.71537 \n",
    " 0.37217 \n",
    " 0.728864\n",
    " 0.72988 \n",
    " 0.881618]\n",
    "gmres(S,b)"
   ]
  },
  {
   "cell_type": "markdown",
   "metadata": {},
   "source": [
    "### Test SaddleSystem"
   ]
  },
  {
   "cell_type": "code",
   "execution_count": 1,
   "metadata": {},
   "outputs": [],
   "source": [
    "include(\"../src/SaddlePointSystems.jl\")\n",
    "using SaddlePointSystems"
   ]
  },
  {
   "cell_type": "code",
   "execution_count": 2,
   "metadata": {},
   "outputs": [],
   "source": [
    "A = rand(80,80)\n",
    "A⁻¹ = inv(A)\n",
    "B₁ᵀ = rand(80,12)\n",
    "B₂ = rand(12,80)\n",
    "M = rand(12,12)\n",
    "M⁻¹ = inv(M)\n",
    "G₁ᵀ = rand(12,12)\n",
    "G₂ = rand(12,12)\n",
    "T₁ᵀ = rand(12,12)\n",
    "T₂ = rand(12,12)\n",
    "\n",
    "O32 = zeros(80,12)\n",
    "O23 = zeros(12,80)\n",
    "O22 = zeros(12,12)\n",
    "\n",
    "S = [A O32 B₁ᵀ O32; O23 M T₁ᵀ G₁ᵀ; B₂ -T₂ O22 O22; O23 G₂ O22 O22]\n",
    "\n",
    "rċ = rand(80)\n",
    "ru̇ = rand(12)\n",
    "rf = rand(12)\n",
    "rλ = rand(12)\n",
    "b = [rċ;ru̇;rf;rλ];"
   ]
  },
  {
   "cell_type": "code",
   "execution_count": 3,
   "metadata": {},
   "outputs": [
    {
     "name": "stdout",
     "output_type": "stream",
     "text": [
      "  0.770074 seconds (450.54 k allocations: 22.751 MiB, 1.22% gc time)\n"
     ]
    },
    {
     "data": {
      "text/plain": [
       "116-element Array{Float64,1}:\n",
       "   8.46438 \n",
       "  -2.76243 \n",
       " -10.2549  \n",
       " -10.2308  \n",
       "   3.90973 \n",
       "  13.7152  \n",
       "   6.13831 \n",
       "   0.651673\n",
       "  -3.1685  \n",
       "   3.6872  \n",
       "   6.65511 \n",
       "  -7.9352  \n",
       "  -6.82713 \n",
       "   ⋮       \n",
       "  13.3305  \n",
       " -38.1967  \n",
       "  -1.76671 \n",
       "   8.06871 \n",
       "  53.3821  \n",
       " -22.077   \n",
       " -27.3896  \n",
       " -12.5014  \n",
       "  49.3291  \n",
       " -16.325   \n",
       " -14.0624  \n",
       "  -1.6058  "
      ]
     },
     "execution_count": 3,
     "metadata": {},
     "output_type": "execute_result"
    }
   ],
   "source": [
    "@time S\\b"
   ]
  },
  {
   "cell_type": "code",
   "execution_count": 4,
   "metadata": {},
   "outputs": [
    {
     "data": {
      "text/plain": [
       "2.6943423061098805e-13"
      ]
     },
     "execution_count": 4,
     "metadata": {},
     "output_type": "execute_result"
    }
   ],
   "source": [
    "norm(S*(S\\b)-b)"
   ]
  },
  {
   "cell_type": "code",
   "execution_count": 5,
   "metadata": {},
   "outputs": [
    {
     "data": {
      "text/plain": [
       "true"
      ]
     },
     "execution_count": 5,
     "metadata": {},
     "output_type": "execute_result"
    }
   ],
   "source": [
    "rank(S) == 116"
   ]
  },
  {
   "cell_type": "code",
   "execution_count": 6,
   "metadata": {},
   "outputs": [
    {
     "name": "stdout",
     "output_type": "stream",
     "text": [
      "  2.614475 seconds (4.06 M allocations: 194.884 MiB, 2.24% gc time)\n",
      "  0.000110 seconds (126 allocations: 7.531 KiB)\n",
      "  0.000285 seconds (126 allocations: 7.531 KiB)\n",
      "  0.000062 seconds (126 allocations: 7.531 KiB)\n",
      "  0.000053 seconds (126 allocations: 7.531 KiB)\n",
      "  0.000044 seconds (126 allocations: 7.531 KiB)\n",
      "  0.000036 seconds (126 allocations: 7.531 KiB)\n",
      "  0.000035 seconds (126 allocations: 7.531 KiB)\n",
      "  0.000032 seconds (126 allocations: 7.531 KiB)\n",
      "  0.000032 seconds (126 allocations: 7.531 KiB)\n",
      "  0.000032 seconds (126 allocations: 7.531 KiB)\n",
      "  0.000039 seconds (126 allocations: 7.531 KiB)\n",
      "  0.000030 seconds (126 allocations: 7.531 KiB)\n",
      "  0.000032 seconds (126 allocations: 7.531 KiB)\n",
      "  0.000033 seconds (126 allocations: 7.531 KiB)\n",
      "  0.000029 seconds (126 allocations: 7.531 KiB)\n",
      "  0.000029 seconds (126 allocations: 7.531 KiB)\n",
      "  0.000033 seconds (126 allocations: 7.531 KiB)\n",
      "  0.000029 seconds (126 allocations: 7.531 KiB)\n",
      "  0.000033 seconds (126 allocations: 7.531 KiB)\n",
      "  0.000028 seconds (126 allocations: 7.531 KiB)\n",
      "  0.000028 seconds (126 allocations: 7.531 KiB)\n",
      "  0.000031 seconds (126 allocations: 7.531 KiB)\n",
      "  0.000028 seconds (126 allocations: 7.531 KiB)\n"
     ]
    }
   ],
   "source": [
    "ċ = zeros(80)\n",
    "u̇ = zeros(12)\n",
    "f = zeros(12)\n",
    "λ = zeros(12)\n",
    "\n",
    "St = SaddleSystem((ċ, u̇, f, λ), (A⁻¹, B₁ᵀ, B₂),\n",
    "                  (M⁻¹, G₁ᵀ, G₂), (x->T₁ᵀ*x, x->T₂*x))\n",
    "\n",
    "bt = (rċ, ru̇, rf, rλ);"
   ]
  },
  {
   "cell_type": "code",
   "execution_count": 7,
   "metadata": {},
   "outputs": [
    {
     "name": "stdout",
     "output_type": "stream",
     "text": [
      "  0.328337 seconds (152.50 k allocations: 7.521 MiB, 2.50% gc time)\n"
     ]
    },
    {
     "data": {
      "text/plain": [
       "([8.46438, -2.76243, -10.2549, -10.2308, 3.90973, 13.7152, 6.13831, 0.651673, -3.1685, 3.6872  …  -3.65509, -11.6134, -1.22999, 10.0879, 5.75357, 8.35732, -5.47727, 7.44171, 6.05012, 0.175919], [2.78267, 3.0264, 1.34898, -0.720454, -1.24274, -3.33729, 3.22079, -3.02026, -0.433406, 0.676699, -1.88255, 1.72172], [0.678006, -2.97102, -13.014, 0.565243, -4.87884, 13.4307, -4.19, 4.08066, -7.65534, -7.0742, 6.23931, 4.84731], [13.3305, -38.1967, -1.76671, 8.06871, 53.3821, -22.077, -27.3896, -12.5014, 49.3291, -16.325, -14.0624, -1.6058])"
      ]
     },
     "execution_count": 7,
     "metadata": {},
     "output_type": "execute_result"
    }
   ],
   "source": [
    "@time aa,bb,cc,dd = St\\bt"
   ]
  },
  {
   "cell_type": "code",
   "execution_count": 8,
   "metadata": {},
   "outputs": [
    {
     "data": {
      "text/plain": [
       "9.509459582923624e-13"
      ]
     },
     "execution_count": 8,
     "metadata": {},
     "output_type": "execute_result"
    }
   ],
   "source": [
    "x = [aa;bb;cc;dd]\n",
    "norm(S*x-b)"
   ]
  },
  {
   "cell_type": "code",
   "execution_count": null,
   "metadata": {},
   "outputs": [],
   "source": []
  }
 ],
 "metadata": {
  "kernelspec": {
   "display_name": "Julia 0.6.2",
   "language": "julia",
   "name": "julia-0.6"
  },
  "language_info": {
   "file_extension": ".jl",
   "mimetype": "application/julia",
   "name": "julia",
   "version": "0.6.2"
  }
 },
 "nbformat": 4,
 "nbformat_minor": 2
}
