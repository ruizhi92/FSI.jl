{
 "cells": [
  {
   "cell_type": "markdown",
   "metadata": {},
   "source": [
    "### Try to use LinearMap with ismutating=true, fail"
   ]
  },
  {
   "cell_type": "code",
   "execution_count": null,
   "metadata": {},
   "outputs": [],
   "source": [
    "using LinearMaps\n",
    "using IterativeSolvers"
   ]
  },
  {
   "cell_type": "code",
   "execution_count": null,
   "metadata": {},
   "outputs": [],
   "source": [
    "function g(y::AbstractVector,x::AbstractVector) \n",
    "    y = [1 2;3 5]*x\n",
    "    return y\n",
    "end\n",
    "\n",
    "S = LinearMap(g,2;ismutating=true)\n",
    "b = [4.0, 3.3]\n",
    "x = [2.0, 2.0]\n",
    "gmres!(x,S,b)"
   ]
  },
  {
   "cell_type": "markdown",
   "metadata": {},
   "source": [
    "### Try to use LinearMap with ismutating=false, works"
   ]
  },
  {
   "cell_type": "code",
   "execution_count": null,
   "metadata": {},
   "outputs": [],
   "source": [
    "function f(x::AbstractVector) \n",
    "    return [1 2;3 5]*x\n",
    "end\n",
    "\n",
    "S = LinearMap(f,2;ismutating=false)\n",
    "b = [4.0, 3.3]\n",
    "gmres(S,b)"
   ]
  },
  {
   "cell_type": "code",
   "execution_count": null,
   "metadata": {
    "scrolled": true
   },
   "outputs": [],
   "source": [
    "[1 2;3 5]\\[4.,3.3]"
   ]
  },
  {
   "cell_type": "markdown",
   "metadata": {},
   "source": [
    "### Construct block matrix with functions, works"
   ]
  },
  {
   "cell_type": "code",
   "execution_count": null,
   "metadata": {},
   "outputs": [],
   "source": [
    "m1 = [ 0.533442  0.367231  0.217876;\n",
    " 0.937095  0.838996  0.38914;\n",
    " 0.399906  0.409811  0.571862]\n",
    "m2 = [ 0.515455  0.912171;\n",
    " 0.197663  0.165777;\n",
    " 0.3626    0.735575]\n",
    "m3 = [ 0.763043  0.36013   0.779911; \n",
    " 0.676889  0.262959  0.0735239]\n",
    "m4 = [ 0.981832  0.695422;\n",
    " 0.906051  0.432737]\n",
    "b = [ 0.71537 \n",
    " 0.37217 \n",
    " 0.728864\n",
    " 0.72988 \n",
    " 0.881618]\n",
    "\n",
    "[m1 m2;m3 m4]\\b"
   ]
  },
  {
   "cell_type": "code",
   "execution_count": null,
   "metadata": {},
   "outputs": [],
   "source": [
    "function al(x::AbstractVector)\n",
    "\n",
    "m1 = [ 0.533442  0.367231  0.217876;\n",
    " 0.937095  0.838996  0.38914;\n",
    " 0.399906  0.409811  0.571862]\n",
    "m2 = [ 0.515455  0.912171;\n",
    " 0.197663  0.165777;\n",
    " 0.3626    0.735575]\n",
    "m3 = [ 0.763043  0.36013   0.779911; \n",
    " 0.676889  0.262959  0.0735239]\n",
    "m4 = [ 0.981832  0.695422;\n",
    " 0.906051  0.432737]\n",
    "\n",
    "    \n",
    "    function f(x::AbstractVector) \n",
    "        return m1*x\n",
    "    end\n",
    "    function g(x::AbstractVector) \n",
    "        return m2*x\n",
    "    end\n",
    "    function m(x::AbstractVector) \n",
    "        return m3*x\n",
    "    end\n",
    "    function n(x::AbstractVector) \n",
    "        return m4*x\n",
    "    end \n",
    "    \n",
    "    # has to do the matrix mul manually to return 1d output\n",
    "    out = zeros(5)\n",
    "    out[1:3] = f(x[1:3]) + g(x[4:5])\n",
    "    out[4:5] = m(x[1:3]) + n(x[4:5])\n",
    "    \n",
    "    return out\n",
    "end\n",
    "S = LinearMap(al,5;ismutating=false)    \n",
    "    \n",
    "b = [ 0.71537 \n",
    " 0.37217 \n",
    " 0.728864\n",
    " 0.72988 \n",
    " 0.881618]\n",
    "gmres(S,b)"
   ]
  },
  {
   "cell_type": "markdown",
   "metadata": {},
   "source": [
    "### Test SaddleSystem"
   ]
  },
  {
   "cell_type": "code",
   "execution_count": 1,
   "metadata": {},
   "outputs": [],
   "source": [
    "include(\"../src/SaddlePointSystems.jl\")\n",
    "using SaddlePointSystems"
   ]
  },
  {
   "cell_type": "code",
   "execution_count": 2,
   "metadata": {},
   "outputs": [
    {
     "data": {
      "text/plain": [
       "116-element Array{Float64,1}:\n",
       "   1.50932 \n",
       "   1.02995 \n",
       "  -3.08119 \n",
       "  -0.954666\n",
       "  -4.72321 \n",
       "  -3.66929 \n",
       "  -1.47647 \n",
       "   1.05003 \n",
       "   0.568912\n",
       "   0.383864\n",
       "   0.520295\n",
       "   2.43736 \n",
       "   1.10231 \n",
       "   ⋮       \n",
       " -63.1032  \n",
       " 102.057   \n",
       " -66.5229  \n",
       " -18.8791  \n",
       " -40.6985  \n",
       "  11.8923  \n",
       "  65.1501  \n",
       " -74.92    \n",
       "  -2.13936 \n",
       " -33.8822  \n",
       " 126.728   \n",
       "  45.4167  "
      ]
     },
     "execution_count": 2,
     "metadata": {},
     "output_type": "execute_result"
    }
   ],
   "source": [
    "A = rand(80,80)\n",
    "A⁻¹ = inv(A)\n",
    "B₁ᵀ = rand(80,12)\n",
    "B₂ = rand(12,80)\n",
    "M = rand(12,12)\n",
    "M⁻¹ = inv(M)\n",
    "G₁ᵀ = rand(12,12)\n",
    "G₂ = rand(12,12)\n",
    "T₁ᵀ = rand(12,12)\n",
    "T₂ = rand(12,12)\n",
    "\n",
    "O32 = zeros(80,12)\n",
    "O23 = zeros(12,80)\n",
    "O22 = zeros(12,12)\n",
    "\n",
    "S = [A O32 B₁ᵀ O32; O23 M T₁ᵀ G₁ᵀ; B₂ -T₂ O22 O22; O23 G₂ O22 O22]\n",
    "\n",
    "rċ = rand(80)\n",
    "ru̇ = rand(12)\n",
    "rf = rand(12)\n",
    "rλ = rand(12)\n",
    "b = [rċ;ru̇;rf;rλ]\n",
    "\n",
    "S\\b"
   ]
  },
  {
   "cell_type": "code",
   "execution_count": 3,
   "metadata": {},
   "outputs": [
    {
     "data": {
      "text/plain": [
       "1.6612005790442985e-13"
      ]
     },
     "execution_count": 3,
     "metadata": {},
     "output_type": "execute_result"
    }
   ],
   "source": [
    "norm(S*(S\\b)-b)"
   ]
  },
  {
   "cell_type": "code",
   "execution_count": 4,
   "metadata": {},
   "outputs": [
    {
     "data": {
      "text/plain": [
       "true"
      ]
     },
     "execution_count": 4,
     "metadata": {},
     "output_type": "execute_result"
    }
   ],
   "source": [
    "rank(S) == 116"
   ]
  },
  {
   "cell_type": "code",
   "execution_count": 5,
   "metadata": {},
   "outputs": [],
   "source": [
    "ċ = zeros(80)\n",
    "u̇ = zeros(12)\n",
    "f = zeros(12)\n",
    "λ = zeros(12)\n",
    "\n",
    "St = SaddleSystem((ċ, u̇, f, λ), (A⁻¹, B₁ᵀ, B₂),\n",
    "                  (M⁻¹, G₁ᵀ, G₂), (x->T₁ᵀ*x, x->T₂*x))\n",
    "\n",
    "bt = (rċ, ru̇, rf, rλ);"
   ]
  },
  {
   "cell_type": "code",
   "execution_count": 6,
   "metadata": {},
   "outputs": [
    {
     "data": {
      "text/plain": [
       "([0.726642, 0.618506, 0.724247, 0.38735, 0.470641, 0.731597, -0.505022, -0.495756, 0.128154, -0.0313404  …  -0.295983, 0.829808, -0.723865, -0.189682, -0.513348, -0.79321, 0.655941, -0.0661136, -0.124525, 0.15814], [-0.561615, -0.758761, 0.534764, 0.14125, 0.6064, -0.292093, 0.103801, 0.134363, 0.604613, 0.506219, -0.641787, 0.403854], [0.536129, -0.401146, -0.235803, 0.78067, 0.255255, 0.401419, -0.62165, -0.351508, 0.20378, -0.293128, -0.0152623, -1.10706], [-1.39898, -0.731414, 0.547435, 0.964782, 0.335464, 0.889258, -0.689853, 0.304351, 0.26564, 0.0126426, -0.336897, -0.433978])"
      ]
     },
     "execution_count": 6,
     "metadata": {},
     "output_type": "execute_result"
    }
   ],
   "source": [
    "aa,bb,cc,dd = St\\bt"
   ]
  },
  {
   "cell_type": "code",
   "execution_count": 7,
   "metadata": {},
   "outputs": [
    {
     "data": {
      "text/plain": [
       "1.3001905157452815"
      ]
     },
     "execution_count": 7,
     "metadata": {},
     "output_type": "execute_result"
    }
   ],
   "source": [
    "x = [aa;bb;cc;dd]\n",
    "norm(S*x-b)"
   ]
  },
  {
   "cell_type": "code",
   "execution_count": null,
   "metadata": {},
   "outputs": [],
   "source": []
  }
 ],
 "metadata": {
  "kernelspec": {
   "display_name": "Julia 0.6.2",
   "language": "julia",
   "name": "julia-0.6"
  },
  "language_info": {
   "file_extension": ".jl",
   "mimetype": "application/julia",
   "name": "julia",
   "version": "0.6.2"
  }
 },
 "nbformat": 4,
 "nbformat_minor": 2
}
