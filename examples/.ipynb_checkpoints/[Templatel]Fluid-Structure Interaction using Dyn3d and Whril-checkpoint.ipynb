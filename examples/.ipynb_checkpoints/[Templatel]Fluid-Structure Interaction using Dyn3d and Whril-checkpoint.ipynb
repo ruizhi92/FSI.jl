{
 "cells": [
  {
   "cell_type": "markdown",
   "metadata": {},
   "source": [
    "# Fluid-Structure Interaction using `Dyn3d` and `Whirl`"
   ]
  },
  {
   "cell_type": "markdown",
   "metadata": {},
   "source": [
    "## <span style=\"color:blue\"> Include Packages"
   ]
  },
  {
   "cell_type": "code",
   "execution_count": 1,
   "metadata": {},
   "outputs": [],
   "source": [
    "include(\"../src/FSI.jl\")\n",
    "using FSI"
   ]
  },
  {
   "cell_type": "code",
   "execution_count": 2,
   "metadata": {},
   "outputs": [],
   "source": [
    "using Plots\n",
    "pyplot()\n",
    "clibrary(:colorbrewer)\n",
    "default(grid = false)"
   ]
  },
  {
   "cell_type": "markdown",
   "metadata": {},
   "source": [
    "## <span style=\"color:blue\"> Set up rigid body with Dyn3d"
   ]
  },
  {
   "cell_type": "markdown",
   "metadata": {},
   "source": [
    "#### Include any joint-body setup script from Dyn3d"
   ]
  },
  {
   "cell_type": "code",
   "execution_count": 2,
   "metadata": {},
   "outputs": [
    {
     "name": "stdout",
     "output_type": "stream",
     "text": [
      "Config info set up.\n"
     ]
    }
   ],
   "source": [
    "include(Pkg.dir(\"Dyn3d\")*\"/src/config_files/2dFall.jl\")"
   ]
  },
  {
   "cell_type": "markdown",
   "metadata": {},
   "source": [
    "#### Build joint-body chain"
   ]
  },
  {
   "cell_type": "code",
   "execution_count": 3,
   "metadata": {},
   "outputs": [
    {
     "data": {
      "text/plain": []
     },
     "execution_count": 3,
     "metadata": {},
     "output_type": "execute_result"
    },
    {
     "name": "stdout",
     "output_type": "stream",
     "text": [
      "This is a 1 body-joint system, system is fixed in space"
     ]
    }
   ],
   "source": [
    "bs, js, bsys = BuildChain(config_bodys, config_joints, config_system)\n",
    "bd = BodyDyn(bs, js, bsys)"
   ]
  },
  {
   "cell_type": "markdown",
   "metadata": {},
   "source": [
    "#### Initialize rigid body system state"
   ]
  },
  {
   "cell_type": "code",
   "execution_count": 4,
   "metadata": {},
   "outputs": [],
   "source": [
    "# initialize system to complete body-joint information\n",
    "bd, soln = InitSystem!(bd)\n",
    "\n",
    "# initialize solution structure\n",
    "solns = (Soln)[]\n",
    "push!(solns, soln);"
   ]
  },
  {
   "cell_type": "markdown",
   "metadata": {},
   "source": [
    "#### Get body verts for plotting"
   ]
  },
  {
   "cell_type": "code",
   "execution_count": 5,
   "metadata": {},
   "outputs": [],
   "source": [
    "@get bd (bs, js, sys)\n",
    "bs, js, sys = UpdatePosition!(bs, js, sys, solns[1].qJ)\n",
    "vs₀ = VertsHistory(sys.nbody, bs);"
   ]
  },
  {
   "cell_type": "code",
   "execution_count": 7,
   "metadata": {},
   "outputs": [
    {
     "data": {
      "text/plain": [
       "Array{Dyn3d.ConstructSystem.SingleBody,1}"
      ]
     },
     "execution_count": 7,
     "metadata": {},
     "output_type": "execute_result"
    }
   ],
   "source": [
    "typeof(bs)"
   ]
  },
  {
   "cell_type": "code",
   "execution_count": 6,
   "metadata": {},
   "outputs": [
    {
     "ename": "LoadError",
     "evalue": "\u001b[91mMethodError: no method matching (::FSI.Systems.##6#7)()\u001b[0m\nClosest candidates are:\n  #6(\u001b[91m::Any\u001b[39m, \u001b[91m::Any\u001b[39m) at /media/ruizhi/Seagate Expansion Drive/Research/FSI.jl/src/systems/fluidstruct.jl:126\u001b[39m",
     "output_type": "error",
     "traceback": [
      "\u001b[91mMethodError: no method matching (::FSI.Systems.##6#7)()\u001b[0m\nClosest candidates are:\n  #6(\u001b[91m::Any\u001b[39m, \u001b[91m::Any\u001b[39m) at /media/ruizhi/Seagate Expansion Drive/Research/FSI.jl/src/systems/fluidstruct.jl:126\u001b[39m",
      "",
      "Stacktrace:",
      " [1] \u001b[1mG₁ᵀ\u001b[22m\u001b[22m\u001b[1m(\u001b[22m\u001b[22m::Array{Dyn3d.ConstructSystem.SingleBody,1}, ::Dyn3d.ConstructSystem.System\u001b[1m)\u001b[22m\u001b[22m at \u001b[1m/media/ruizhi/Seagate Expansion Drive/Research/FSI.jl/src/systems/fluidstruct.jl:125\u001b[22m\u001b[22m",
      " [2] \u001b[1minclude_string\u001b[22m\u001b[22m\u001b[1m(\u001b[22m\u001b[22m::String, ::String\u001b[1m)\u001b[22m\u001b[22m at \u001b[1m./loading.jl:522\u001b[22m\u001b[22m"
     ]
    }
   ],
   "source": [
    "G₁ᵀ(bs,sys)"
   ]
  },
  {
   "cell_type": "markdown",
   "metadata": {},
   "source": [
    "#### Plot body only"
   ]
  },
  {
   "cell_type": "code",
   "execution_count": 7,
   "metadata": {},
   "outputs": [
    {
     "data": {
      "image/png": "[encoded data removed]"
     },
     "execution_count": 7,
     "metadata": {},
     "output_type": "execute_result"
    }
   ],
   "source": [
    "p = plot()\n",
    "for i = 1:sys.nbody\n",
    "    plot!(p,vs₀[i,2:3,1], vs₀[i,2:3,2],linewidth=2)\n",
    "end\n",
    "plot!(xlims=(0,3), ylims=(0,2))"
   ]
  },
  {
   "cell_type": "markdown",
   "metadata": {},
   "source": [
    "## <span style=\"color:blue\"> Set up fluid with Whirl </span>"
   ]
  },
  {
   "cell_type": "markdown",
   "metadata": {},
   "source": [
    "#### Set the flow parameters"
   ]
  },
  {
   "cell_type": "code",
   "execution_count": 8,
   "metadata": {},
   "outputs": [
    {
     "data": {
      "text/plain": [
       "(1.0, 0.0)"
      ]
     },
     "execution_count": 8,
     "metadata": {},
     "output_type": "execute_result"
    }
   ],
   "source": [
    "Re = 200 # Reynolds number\n",
    "U = 1.0 # Free stream velocity\n",
    "U∞ = (U, 0.0)"
   ]
  },
  {
   "cell_type": "markdown",
   "metadata": {},
   "source": [
    "#### Set the domain grid and time step size"
   ]
  },
  {
   "cell_type": "code",
   "execution_count": 9,
   "metadata": {},
   "outputs": [
    {
     "data": {
      "text/plain": [
       "(-0.01:0.02:3.0100000000000002, -0.01:0.02:2.0100000000000002)"
      ]
     },
     "execution_count": 9,
     "metadata": {},
     "output_type": "execute_result"
    }
   ],
   "source": [
    "nx = 152; ny = 102;\n",
    "Ly = 2.0;\n",
    "Δx = Ly/(ny-2);\n",
    "Δt = min(0.5*Δx,0.5*Δx^2*Re)\n",
    "w₀ = Nodes(Dual,(nx,ny))\n",
    "xg, yg = coordinates(w₀,dx=Δx)"
   ]
  },
  {
   "cell_type": "markdown",
   "metadata": {},
   "source": [
    "#### Set up initial conditions"
   ]
  },
  {
   "cell_type": "code",
   "execution_count": 10,
   "metadata": {},
   "outputs": [],
   "source": [
    "t = 0.0\n",
    "tf = 50*Δt\n",
    "T = Δt:Δt:tf\n",
    "\n",
    "w₀ .= 0.0\n",
    "fx = Float64[]\n",
    "fy = Float64[]\n",
    "thist = []\n",
    "uhist = []\n",
    "tsample = 0.02;"
   ]
  },
  {
   "cell_type": "markdown",
   "metadata": {},
   "source": [
    "## <span style=\"color:blue\"> Create fluid-body interface </span>"
   ]
  },
  {
   "cell_type": "markdown",
   "metadata": {},
   "source": [
    "#### Genrate body grid points and get linear velocity on them"
   ]
  },
  {
   "cell_type": "code",
   "execution_count": 11,
   "metadata": {
    "scrolled": true
   },
   "outputs": [],
   "source": [
    "# bgs short for body grid system\n",
    "bgs = GenerateBodyGrid(bd; np=DetermineNP(nbody, Δx))\n",
    "bgs = CutOut2d(bd,bgs)\n",
    "bgs = AcquireBodyGridKinematics(bd,bgs)\n",
    "\n",
    "coord = hcat(bgs[1].q_i...)'[:,[1,2]]\n",
    "motion = hcat(bgs[1].v_i...)'[:,[1,2]]\n",
    "for i = 2:length(bgs)\n",
    "    coord = [coord[1:end-1,:]; hcat(bgs[i].q_i...)'[:,[1,2]]]\n",
    "    motion = [motion[1:end-1,:]; hcat(bgs[i].v_i...)'[:,[1,2]]]\n",
    "end"
   ]
  },
  {
   "cell_type": "markdown",
   "metadata": {},
   "source": [
    "#### Variable containers for all stages in IFHERK and HERKBody"
   ]
  },
  {
   "cell_type": "code",
   "execution_count": 12,
   "metadata": {},
   "outputs": [],
   "source": [
    "# Herk stages for both body and fluid solver\n",
    "NS = bd.sys.num_params.st\n",
    "if NS != 3 error(\"Dyn3d RK scheme not the same with Whirl\") end\n",
    "\n",
    "# Body kinematics container for ifherk input and herkbody output\n",
    "bkins = Vector{Array{Float64,2}}(NS)\n",
    "\n",
    "# Body force container for ifherk output(not integrated)\n",
    "fs = Vector{Array{Float64,2}}(NS)\n",
    "\n",
    "# Body force container for herkbody input(integrated)\n",
    "f_exis = [zeros(bd.sys.nbody,6) for i=1:NS]\n",
    "\n",
    "# All body info container\n",
    "bds = [bd for i=1:NS];"
   ]
  },
  {
   "cell_type": "markdown",
   "metadata": {},
   "source": [
    "#### Get body points initial coordinates for fluids"
   ]
  },
  {
   "cell_type": "code",
   "execution_count": 13,
   "metadata": {},
   "outputs": [],
   "source": [
    "bgs = AcquireBodyGridKinematics(bd,bgs)\n",
    "coord = hcat(bgs[1].q_i...)'[:,[1,2]]\n",
    "for i = 2:length(bgs)\n",
    "    coord = [coord[1:end-1,:]; hcat(bgs[i].q_i...)'[:,[1,2]]]\n",
    "end\n",
    "coord_init = coord;"
   ]
  },
  {
   "cell_type": "markdown",
   "metadata": {},
   "source": [
    "## <span style=\"color:blue\"> Set up integrators for Time Marching </span>"
   ]
  },
  {
   "cell_type": "markdown",
   "metadata": {},
   "source": [
    "#### Set up the Navier-Stokes  problem type"
   ]
  },
  {
   "cell_type": "code",
   "execution_count": 14,
   "metadata": {},
   "outputs": [
    {
     "data": {
      "text/plain": [
       "Navier-Stokes system on a grid of size 152 x 102"
      ]
     },
     "execution_count": 14,
     "metadata": {},
     "output_type": "execute_result"
    }
   ],
   "source": [
    "X̃ = VectorData(coord_init)\n",
    "fsys = Whirl.Systems.NavierStokes((nx,ny),Re,Δx,Δt,U∞ = U∞, X̃ = X̃,\n",
    "                                 isstore = true, isstatic = false)"
   ]
  },
  {
   "cell_type": "markdown",
   "metadata": {},
   "source": [
    "#### Constants for coupling"
   ]
  },
  {
   "cell_type": "code",
   "execution_count": 15,
   "metadata": {},
   "outputs": [
    {
     "data": {
      "text/plain": [
       "0.5"
      ]
     },
     "execution_count": 15,
     "metadata": {},
     "output_type": "execute_result"
    }
   ],
   "source": [
    "tol = 5e-4  # coupling tolerance\n",
    "ω = (config_bodys[1].ρ)/(1.0+config_bodys[1].ρ)  # relaxation parameter"
   ]
  },
  {
   "cell_type": "markdown",
   "metadata": {},
   "source": [
    "#### Create Body solver object of type HerkBody"
   ]
  },
  {
   "cell_type": "code",
   "execution_count": 16,
   "metadata": {},
   "outputs": [
    {
     "data": {
      "text/plain": [
       "Order-3 HERK time-marching function like object for Dyn3d\n"
      ]
     },
     "execution_count": 16,
     "metadata": {},
     "output_type": "execute_result"
    }
   ],
   "source": [
    "herkbody = Dyn3d.HERKBody(bd.sys.num_params,HERKFuncM, HERKFuncGT, HERKFuncG,\n",
    "            (HERKFuncf,HERKFuncgti),\n",
    "            (UpdatePosition!,UpdateVelocity!))"
   ]
  },
  {
   "cell_type": "markdown",
   "metadata": {},
   "source": [
    "#### Create Fluid solver object of type IFHERK"
   ]
  },
  {
   "cell_type": "code",
   "execution_count": 17,
   "metadata": {},
   "outputs": [
    {
     "data": {
      "text/plain": [
       "Order-3 IF-HERK for fs interaction integrator with\n",
       "   State of type Whirl.Fields.Nodes{Whirl.Fields.Dual,152,102}\n",
       "   Force of type Whirl.Fields.VectorData{51}\n",
       "   Time step size 0.01\n"
      ]
     },
     "execution_count": 17,
     "metadata": {},
     "output_type": "execute_result"
    }
   ],
   "source": [
    "u = w₀\n",
    "f = VectorData(X̃)\n",
    "fs = [[f.u f.v] for i=1:NS]\n",
    "\n",
    "# construct fluid solver with uniform constant free stream\n",
    "ifherk_sc2d = Whirl.IFHERK_sc2d(u,f,fsys.Δt,\n",
    "                (t,u) -> Systems.plan_intfact(t,u,fsys),\n",
    "                (u,t,coord) -> Whirl.plan_constraints(u,t,fsys,coord),\n",
    "                ((u,t) -> Whirl.r₁(u,t,fsys),\n",
    "                 (u,t,motion) -> Whirl.r₂(u,t,fsys,motion)),\n",
    "                coord_init,\n",
    "                tol=1e-3,rk=Whirl.TimeMarching.RK31,\n",
    "                isstored=true,isstaticconstraints=false)"
   ]
  },
  {
   "cell_type": "markdown",
   "metadata": {},
   "source": [
    "## <span style=\"color:blue\"> Time Marching! </span>"
   ]
  },
  {
   "cell_type": "markdown",
   "metadata": {},
   "source": [
    "#### Make timestep in Dyn3d the same with Whirl"
   ]
  },
  {
   "cell_type": "code",
   "execution_count": 18,
   "metadata": {},
   "outputs": [
    {
     "data": {
      "text/plain": [
       "51"
      ]
     },
     "execution_count": 18,
     "metadata": {},
     "output_type": "execute_result"
    }
   ],
   "source": [
    "soln.dt = Δt\n",
    "solns[1].dt = soln.dt\n",
    "\n",
    "# total number of body points in the fluid solver\n",
    "np_total = round(Int,length(f)/2)"
   ]
  },
  {
   "cell_type": "markdown",
   "metadata": {},
   "source": [
    "#### Proceed with normal coupling AFTER the first timestep"
   ]
  },
  {
   "cell_type": "code",
   "execution_count": 19,
   "metadata": {
    "scrolled": true
   },
   "outputs": [
    {
     "name": "stdout",
     "output_type": "stream",
     "text": [
      "time = 0.01 converged through 14 iterations\n",
      "time = 0.019999999999999997 converged through 14 iterations\n",
      "time = 0.03 converged through 9 iterations\n",
      "time = 0.04 converged through 9 iterations\n",
      "time = 0.05 converged through 9 iterations\n",
      "time = 0.05999999999999999 converged through 9 iterations\n",
      "time = 0.07 converged through 9 iterations\n",
      "time = 0.08 converged through 8 iterations\n",
      "time = 0.09 converged through 8 iterations\n",
      "time = 0.1 converged through 8 iterations\n",
      "time = 0.11 converged through 8 iterations\n",
      "time = 0.12000000000000001 converged through 8 iterations\n",
      "time = 0.13 converged through 8 iterations\n",
      "time = 0.14 converged through 8 iterations\n",
      "time = 0.15 converged through 8 iterations\n",
      "time = 0.16 converged through 8 iterations\n",
      "time = 0.17 converged through 8 iterations\n",
      "time = 0.18 converged through 8 iterations\n",
      "time = 0.19 converged through 8 iterations\n",
      "time = 0.2 converged through 8 iterations\n",
      "time = 0.21 converged through 8 iterations\n",
      "time = 0.22 converged through 8 iterations\n",
      "time = 0.23 converged through 8 iterations\n",
      "time = 0.24 converged through 8 iterations\n",
      "time = 0.25 converged through 8 iterations\n",
      "time = 0.26 converged through 8 iterations\n",
      "time = 0.27 converged through 8 iterations\n",
      "time = 0.28 converged through 8 iterations\n",
      "time = 0.29 converged through 8 iterations\n",
      "time = 0.3 converged through 2 iterations\n",
      "time = 0.31 converged through 8 iterations\n",
      "time = 0.32 converged through 2 iterations\n",
      "time = 0.33 converged through 8 iterations\n",
      "time = 0.34 converged through 8 iterations\n",
      "time = 0.35 converged through 8 iterations\n",
      "time = 0.36 converged through 8 iterations\n",
      "time = 0.37 converged through 2 iterations\n",
      "time = 0.38 converged through 2 iterations\n",
      "time = 0.39 converged through 8 iterations\n",
      "time = 0.4 converged through 7 iterations\n",
      "time = 0.41 converged through 2 iterations\n",
      "time = 0.42 converged through 8 iterations\n",
      "time = 0.43 converged through 8 iterations\n",
      "time = 0.44 converged through 2 iterations\n",
      "time = 0.45 converged through 8 iterations\n",
      "time = 0.46 converged through 7 iterations\n",
      "time = 0.47 converged through 7 iterations\n",
      "time = 0.48 converged through 7 iterations\n",
      "time = 0.49 converged through 2 iterations\n",
      "time = 0.5 converged through 8 iterations\n",
      "2681.598515 seconds (16.35 G allocations: 2.938 TiB, 15.10% gc time)\n"
     ]
    }
   ],
   "source": [
    "@time for t in T\n",
    "\n",
    "    iter = 1\n",
    "    fᵢ = fs.*Δx^2\n",
    "\n",
    "    # record body info\n",
    "    soln_buffer = deepcopy(soln)\n",
    "    bd_buffer = deepcopy(bd)\n",
    "    bgs_buffer = deepcopy(bgs)\n",
    "\n",
    "    # record fluid info\n",
    "    u_buffer = deepcopy(u)\n",
    "    t_buffer = t\n",
    "\n",
    "    # interation until coupled\n",
    "    while true\n",
    "\n",
    "        #--------------------------------------------------------\n",
    "        # get body state of the last timestep\n",
    "        soln = deepcopy(soln_buffer)\n",
    "        bd = deepcopy(bd_buffer)\n",
    "        bgs = deepcopy(bgs_buffer)\n",
    "\n",
    "        #--------------------------------------------------------\n",
    "        # integrate body forces from body points\n",
    "        for k = 1:NS\n",
    "            b_cnt = 1\n",
    "            ref = 0\n",
    "            for i = 1:np_total\n",
    "                # move to the next bgs if i exceed bgs[b_cnt].np\n",
    "                if i > ref + bgs[b_cnt].np\n",
    "                    ref += bgs[b_cnt].np\n",
    "                    b_cnt += 1        \n",
    "                end\n",
    "                bgs[b_cnt].f_ex3d[i-ref][[1,2]] = fᵢ[k][i,:]\n",
    "            end\n",
    "\n",
    "            # integrate total forces from all body points on a body\n",
    "            bgs = IntegrateBodyGridDynamics(bd,bgs)\n",
    "            for i = 1:bd.sys.nbody\n",
    "                f_exis[k][i,:] = bgs[i].f_ex6d\n",
    "            end\n",
    "        end\n",
    "        \n",
    "        #--------------------------------------------------------\n",
    "        # advance body solver for one step        \n",
    "        soln, bds = herkbody(soln, bd; _isfixedstep=true, _outputmode=true, f_exi=f_exis);\n",
    "\n",
    "        #--------------------------------------------------------\n",
    "        # acquire coord and motion(velocity) of body points for fluid computation\n",
    "        for k = 1:NS\n",
    "            bgs = AcquireBodyGridKinematics(bds[k],bgs)\n",
    "            coord = hcat(bgs[1].q_i...)'[:,[1,2]]\n",
    "            motion = hcat(bgs[1].v_i...)'[:,[1,2]]\n",
    "            for i = 2:length(bgs)\n",
    "                coord = [coord[1:end-1,:]; hcat(bgs[i].q_i...)'[:,[1,2]]]\n",
    "                motion = [motion[1:end-1,:]; hcat(bgs[i].v_i...)'[:,[1,2]]]\n",
    "            end\n",
    "            bkins[k] = [coord motion]\n",
    "        end\n",
    "        \n",
    "        #--------------------------------------------------------\n",
    "        # get fluid state of the last timestep\n",
    "        u = deepcopy(u_buffer)\n",
    "        t = t_buffer\n",
    "\n",
    "        #--------------------------------------------------------\n",
    "        # advance fluid solver for one step\n",
    "        t, u, f, fs = ifherk_sc2d(t,u,bkins)\n",
    "\n",
    "        #--------------------------------------------------------\n",
    "        # check if converge, use relaxation if not\n",
    "        ϵ = abs(sum(fs[NS]*Δx^2 - fᵢ[NS]))\n",
    "        if ϵ < tol break end\n",
    "\n",
    "#         println(\"proposed fy at last stage: \", sum(fᵢ[NS][:,2]))\n",
    "#         println(\"corrected fy at last stage: \", sum(fs[NS][:,2])*Δx^2)\n",
    "        \n",
    "        # if not converge, use relaxation\n",
    "        fᵢ = (1-ω)*fᵢ + ω*fs*Δx^2\n",
    "        \n",
    "#         println(\"relaxation fy at last stage: \", sum(fᵢ[NS][:,2]),\"\\n\")\n",
    "#         println(\"iteration \",iter,\", ϵ = \",ϵ)\n",
    "        iter += 1   \n",
    "        \n",
    "    end\n",
    "    \n",
    "    # converged for this timestep\n",
    "    print(\"time = \", t-Δt, \" converged through \", iter, \" iterations\\n\")\n",
    "    \n",
    "    # record converged bd for next step\n",
    "    bd = bds[NS]\n",
    "    \n",
    "    # record body solution for this timestep\n",
    "    push!(solns, soln)\n",
    "\n",
    "    # record fluid solution for this timestep\n",
    "    push!(thist,t)\n",
    "    push!(fx,sum(fᵢ[NS][:,1]))\n",
    "    push!(fy,sum(fᵢ[NS][:,2]))\n",
    "    push!(uhist,deepcopy(u))\n",
    "    \n",
    "end"
   ]
  },
  {
   "cell_type": "markdown",
   "metadata": {},
   "source": [
    "## <span style=\"color:blue\"> Plot </span>"
   ]
  },
  {
   "cell_type": "markdown",
   "metadata": {},
   "source": [
    "#### Set contour levels and gif name"
   ]
  },
  {
   "cell_type": "code",
   "execution_count": 30,
   "metadata": {},
   "outputs": [],
   "source": [
    "contour_levels = linspace(-0.2,0.2,30)\n",
    "gif_name = \"template_test.gif\"\n",
    "fps = 20;"
   ]
  },
  {
   "cell_type": "markdown",
   "metadata": {},
   "source": [
    "#### Get body verts history"
   ]
  },
  {
   "cell_type": "code",
   "execution_count": 21,
   "metadata": {},
   "outputs": [],
   "source": [
    "@get bd (bs, js, sys)\n",
    "vshist = []\n",
    "for i = 1:length(solns)\n",
    "    bs, js, sys = UpdatePosition!(bs, js, sys, solns[i].qJ)\n",
    "    push!(vshist, VertsHistory(sys.nbody, bs))\n",
    "end"
   ]
  },
  {
   "cell_type": "markdown",
   "metadata": {},
   "source": [
    "#### Plot first and last time field"
   ]
  },
  {
   "cell_type": "code",
   "execution_count": 22,
   "metadata": {},
   "outputs": [
    {
     "data": {
      "image/png": "[encoded data removed]"
     },
     "execution_count": 22,
     "metadata": {},
     "output_type": "execute_result"
    },
    {
     "name": "stderr",
     "output_type": "stream",
     "text": [
      "/home/julia/JuliaPro-0.6.2.2/JuliaPro/pkgs-0.6.2.2/v0.6/Conda/deps/usr/lib/python2.7/site-packages/matplotlib/contour.py:1004: UserWarning: The following kwargs were not used by contour: 'label'\n",
      "  s)\n"
     ]
    }
   ],
   "source": [
    "p1 = plot(xg,yg,uhist[1],levels=contour_levels)\n",
    "for i = 1:sys.nbody\n",
    "    plot!(p1,vshist[1][i,2:3,1], vshist[1][i,2:3,2],linewidth=2,linecolor=\"grey\")\n",
    "end\n",
    "p1"
   ]
  },
  {
   "cell_type": "code",
   "execution_count": 31,
   "metadata": {},
   "outputs": [
    {
     "data": {
      "image/png": "[encoded data removed]"
     },
     "execution_count": 31,
     "metadata": {},
     "output_type": "execute_result"
    }
   ],
   "source": [
    "p2 = plot(xg,yg,uhist[end],levels=contour_levels)\n",
    "for i = 1:sys.nbody\n",
    "    plot!(p2,vshist[end][i,2:3,1], vshist[end][i,2:3,2],linewidth=2,linecolor=\"grey\")\n",
    "end\n",
    "p2"
   ]
  },
  {
   "cell_type": "markdown",
   "metadata": {},
   "source": [
    "#### Body position at t=0 and t=tf"
   ]
  },
  {
   "cell_type": "code",
   "execution_count": 24,
   "metadata": {},
   "outputs": [
    {
     "data": {
      "image/png": "[encoded data removed]"
     },
     "execution_count": 24,
     "metadata": {},
     "output_type": "execute_result"
    }
   ],
   "source": [
    "pb = plot()\n",
    "for i = 1:sys.nbody\n",
    "    plot!(pb,vshist[1][i,2:3,1], vshist[1][i,2:3,2],linewidth=2,linecolor=\"grey\",label=\"begin\")\n",
    "end\n",
    "for i = 1:sys.nbody\n",
    "    plot!(pb,vshist[end][i,2:3,1], vshist[end][i,2:3,2],linewidth=2,linecolor=\"red\",label=\"end\")\n",
    "end\n",
    "plot!(pb,xlims=(0,3), ylims=(0,2))\n",
    "pb"
   ]
  },
  {
   "cell_type": "markdown",
   "metadata": {},
   "source": [
    "#### Make a gif"
   ]
  },
  {
   "cell_type": "code",
   "execution_count": 32,
   "metadata": {},
   "outputs": [
    {
     "name": "stderr",
     "output_type": "stream",
     "text": [
      "\u001b[1m\u001b[36mINFO: \u001b[39m\u001b[22m\u001b[36mSaved animation to /media/ruizhi/Seagate Expansion Drive/Research/Dyn3d.jl/notebook/movies/template_test.gif\n",
      "\u001b[39m"
     ]
    },
    {
     "data": {
      "text/html": [
       "<img src=\"movies/template_test.gif?0.6041032489842175>\" />"
      ],
      "text/plain": [
       "Plots.AnimatedGif(\"/media/ruizhi/Seagate Expansion Drive/Research/Dyn3d.jl/notebook/movies/template_test.gif\")"
      ]
     },
     "execution_count": 32,
     "metadata": {},
     "output_type": "execute_result"
    }
   ],
   "source": [
    "anim = @animate for j = 1:length(uhist)\n",
    "    plot(xg,yg,uhist[j],levels=contour_levels)\n",
    "    for i = 1:sys.nbody\n",
    "        plot!(vshist[j][i,2:3,1], vshist[j][i,2:3,2],linewidth=2,linecolor=\"grey\")\n",
    "    end\n",
    "end\n",
    "\n",
    "gif(anim, \"movies/\"*gif_name, fps = fps)"
   ]
  },
  {
   "cell_type": "code",
   "execution_count": 37,
   "metadata": {
    "scrolled": true
   },
   "outputs": [
    {
     "data": {
      "image/png": "[encoded data removed]"
     },
     "execution_count": 37,
     "metadata": {},
     "output_type": "execute_result"
    }
   ],
   "source": [
    "px = plot(thist,2*fx,ylim=(0.5,1.0),xlabel=\"Convective time\",ylabel=\"\\$C_D\\$\",legend=false)\n",
    "py = plot(thist,2*fy,ylim=(2.0,2.5),xlabel=\"Convective time\",ylabel=\"\\$C_L\\$\",legend=false)\n",
    "plot(px,py)"
   ]
  },
  {
   "cell_type": "markdown",
   "metadata": {},
   "source": [
    "## <span style=\"color:blue\"> Save Data </span>"
   ]
  },
  {
   "cell_type": "markdown",
   "metadata": {},
   "source": [
    "#### Save all current data related to plotting to a .jld file"
   ]
  },
  {
   "cell_type": "code",
   "execution_count": 27,
   "metadata": {},
   "outputs": [],
   "source": [
    "filename = \"template_test.jld\";"
   ]
  },
  {
   "cell_type": "code",
   "execution_count": 34,
   "metadata": {},
   "outputs": [],
   "source": [
    "using JLD\n",
    "\n",
    "save(\"saved_data/\"*filename,\n",
    "    \"bd\", bd,\n",
    "    \"xg\", xg,\n",
    "    \"yg\", yg,\n",
    "    \"uhist\", uhist,\n",
    "    \"vshist\", vshist,\n",
    "    \"thist\", thist,\n",
    "    \"fx\", fx,\n",
    "    \"fy\", fy,\n",
    "    \"solns\", solns\n",
    ")"
   ]
  },
  {
   "cell_type": "markdown",
   "metadata": {},
   "source": [
    "#### Use the following block to extract data when re-open this notebook"
   ]
  },
  {
   "cell_type": "code",
   "execution_count": 29,
   "metadata": {},
   "outputs": [],
   "source": [
    "# using Whirl, Dyn3d, Plots, JLD\n",
    "\n",
    "# pyplot()\n",
    "# clibrary(:colorbrewer)\n",
    "# default(grid = false)\n",
    "\n",
    "# d = load(\"saved_data/template_test.jld\")\n",
    "# thist = d[\"thist\"]\n",
    "# fx = d[\"fx\"]\n",
    "# fy = d[\"fy\"]\n",
    "# xg = d[\"xg\"]\n",
    "# yg = d[\"yg\"]\n",
    "# vshist = d[\"vshist\"]\n",
    "# solns = d[\"solns\"]\n",
    "# uhist = d[\"uhist\"]\n",
    "# bd = d[\"bd\"]\n",
    "\n",
    "# @get bd (bs,js,sys);"
   ]
  }
 ],
 "metadata": {
  "kernelspec": {
   "display_name": "Julia 0.6.2",
   "language": "julia",
   "name": "julia-0.6"
  },
  "language_info": {
   "file_extension": ".jl",
   "mimetype": "application/julia",
   "name": "julia",
   "version": "0.6.2"
  }
 },
 "nbformat": 4,
 "nbformat_minor": 2
}
