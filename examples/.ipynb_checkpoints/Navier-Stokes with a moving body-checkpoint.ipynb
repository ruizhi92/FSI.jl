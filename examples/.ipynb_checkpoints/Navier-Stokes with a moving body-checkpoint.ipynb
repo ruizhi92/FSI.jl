{
 "cells": [
  {
   "cell_type": "markdown",
   "metadata": {},
   "source": [
    "# Navier-Stokes with a pivot-fixed falling flat plate \n",
    "## Using `Whirl` and `Dyn3d`"
   ]
  },
  {
   "cell_type": "code",
   "execution_count": 1,
   "metadata": {},
   "outputs": [],
   "source": [
    "include(joinpath(Pkg.dir(\"Whirl\"), \"src/Whirl.jl\"))\n",
    "using Whirl\n",
    "\n",
    "include(Pkg.dir(\"Dyn3d\")*\"/src/Dyn3d.jl\")\n",
    "using Dyn3d"
   ]
  },
  {
   "cell_type": "code",
   "execution_count": 2,
   "metadata": {},
   "outputs": [],
   "source": [
    "using Plots\n",
    "pyplot()\n",
    "clibrary(:colorbrewer)\n",
    "default(grid = false)"
   ]
  },
  {
   "cell_type": "markdown",
   "metadata": {},
   "source": [
    "## <span style=\"color:blue\"> Set up rigid body with Dyn3d"
   ]
  },
  {
   "cell_type": "code",
   "execution_count": 3,
   "metadata": {},
   "outputs": [
    {
     "name": "stdout",
     "output_type": "stream",
     "text": [
      "Config info set up.\n"
     ]
    }
   ],
   "source": [
    "include(Pkg.dir(\"Dyn3d\")*\"/src/config_files/2dFall.jl\")"
   ]
  },
  {
   "cell_type": "markdown",
   "metadata": {},
   "source": [
    "#### Build joint-body chain"
   ]
  },
  {
   "cell_type": "code",
   "execution_count": 4,
   "metadata": {},
   "outputs": [
    {
     "data": {
      "text/plain": []
     },
     "execution_count": 4,
     "metadata": {},
     "output_type": "execute_result"
    },
    {
     "name": "stdout",
     "output_type": "stream",
     "text": [
      "This is a 1 body-joint system.\n",
      "System is fixed in space\n"
     ]
    }
   ],
   "source": [
    "# build joint-body chain\n",
    "bodys, joints, system = BuildChain(config_bodys, config_joints, \n",
    "                                   config_system)\n",
    "bd = BodyDyn(bodys, joints, system)"
   ]
  },
  {
   "cell_type": "markdown",
   "metadata": {},
   "source": [
    "#### Initialize rigid body system state"
   ]
  },
  {
   "cell_type": "code",
   "execution_count": 5,
   "metadata": {},
   "outputs": [],
   "source": [
    "# init system\n",
    "bd, soln = InitSystem!(bd)\n",
    "\n",
    "# init soln structure\n",
    "solns = (Soln)[]\n",
    "push!(solns, soln)\n",
    "\n",
    "# init VertsHistory struct\n",
    "vs = []\n",
    "push!(vs, VertsHistory(system.nbody, bd.bs))\n",
    "\n",
    "nothing"
   ]
  },
  {
   "cell_type": "markdown",
   "metadata": {},
   "source": [
    "#### Set up HERKBody object"
   ]
  },
  {
   "cell_type": "code",
   "execution_count": 6,
   "metadata": {},
   "outputs": [
    {
     "data": {
      "text/plain": [
       "Order-3 HERK integrator.\n"
      ]
     },
     "execution_count": 6,
     "metadata": {},
     "output_type": "execute_result"
    }
   ],
   "source": [
    "herkbody = Dyn3d.HERKBody(system.num_params,HERKFuncM, HERKFuncGT, HERKFuncG,\n",
    "                (HERKFuncf,HERKFuncgti), (UpdatePosition!,UpdateVelocity!))"
   ]
  },
  {
   "cell_type": "markdown",
   "metadata": {},
   "source": [
    "#### Genrate body grid points and get linear velocity on in"
   ]
  },
  {
   "cell_type": "code",
   "execution_count": 7,
   "metadata": {
    "scrolled": true
   },
   "outputs": [],
   "source": [
    "# generate body points and fit it into 2d, which each items choose [1,3] for 2d cases in [x,y]\n",
    "bgs = GenerateBodyGrid(bd; np=201)\n",
    "bgs = CutOut2d(bd,bgs)\n",
    "bgs = AcquireBodyGridKinematics(bd,bgs)\n",
    "\n",
    "# generate the format for fluid interface\n",
    "coord = hcat(bgs[1].q_i...)'[:,[1,2]]\n",
    "motion = hcat(bgs[1].v_i...)'[:,[1,2]];"
   ]
  },
  {
   "cell_type": "code",
   "execution_count": 8,
   "metadata": {},
   "outputs": [
    {
     "data": {
      "text/html": [
       "<img src=\"data:image/png;base64,iVBORw0KGgoAAAANSUhEUgAAAlgAAAGQCAYAAAByNR6YAAAABHNCSVQICAgIfAhkiAAAAAlwSFlzAAAPYQAAD2EBqD+naQAAADl0RVh0U29mdHdhcmUAbWF0cGxvdGxpYiB2ZXJzaW9uIDIuMS4xLCBodHRwOi8vbWF0cGxvdGxpYi5vcmcvAOZPmwAAFF9JREFUeJzt3W9olffd+PHPidFUmYnYqtUlMaSaOpgzBhzSOpGBc/gglmmLha6zLBppnQ/2oH1Q2irbtAwRCj+cbemkoyDsZ1sRuzLcUOa4oaw4OyhUjb9mSdY4mb+aOKaZ3jn3g9LczUyqbT75Y3y94GDOyXXl+gRO4d3ruvI9hWKxWAwAANKUjPYAAADjzYCBdeXKlXjggQeirq4uFi1aFCtXroyWlpYBf8Dhw4djwYIFMX/+/Pje974X3d3dwzowAMBYN+gZrE2bNsWpU6fivffeizVr1kRTU9N12/zzn/+MH/7wh3Hw4ME4c+ZMzJkzJ37yk58M68AAAGPdgIF1xx13xOrVq6NQKERExNKlS6O1tfW67d5+++1YvHhxLFiwICIiHn/88di/f//wTQsAcAsovZmNXnjhhVizZs11r7e1tcXcuXP7ntfU1ERnZ2dcu3YtSkv7/+hisRj/+Mc/YtKkSX3hFhFRVlYWZWVlX3Z+AIAx54Y3ue/YsSNaWlpi586dQzrQpUuXYubMmTFt2rSoqKjoewz15wIAjDWfewZr165d8cYbb8Tvfve7mDJlynXfr66ujiNHjvQ9b21tjdmzZ1939uqz2tvbo7y8vO+5s1cAwHgz6Bms3bt3x/79++PIkSMxbdq0Abf57ne/GydOnIgPPvggIiL27NkT69ev/9wDlpeX93sILABgvCkMtNBoR0dHVFVVRW1tbUydOjUiPjnT9M4778Szzz4bc+bMic2bN0dExKFDh+LJJ5+Ma9euxde//vV49dVXo6Ki4roDdXd3R0VFRXR1dfU7gwUAMN4MGFjDQWABwO3h0qVL0dnZGb29vaM9ypBMmDAh5s6dG5MmTfrC+97UXxECANxIb29v7Ny5M958883RHiXNlClTYv/+/fHVr371C+3nDBYAkOJnP/tZHDx4MH70ox/F4sWLY+LEiaM90pBcuXIlnnnmmZg9e3bs3bs3Skpu/hMGncECAIasu7s73nzzzdi6dWs8+uijoz1Omi1btsTTTz8dFy5ciBkzZtz0fj7sGQAYsnPnzkVExOLFi0d5klyVlZUREfHxxx9/of0EFgAwZJ/e0H6rXxb8TxMmTIiI+MI37AssAOC20traGitWrIiKioqor68flmO4BwsASNVbLMaFKyNzrDvviCj5zGcc34zy8vL46U9/Gl1dXfH0008Py1wCCwBIdeFKxMzXro3Isc4/UhozJg/8vV27dsXp06fjpZdeioiIixcvxrx58+L06dOxbNmyOHbs2LDN5RIhADAuNTU1xcGDB+PixYsREbFv375Ys2ZNTJ8+fdiPLbAAgHFp2rRpsW7duvjlL38ZxWIxfvGLX8SWLVtG5NguEQIA49bWrVujsbExvva1r8WMGTNGbBkJgQUApLrzjk/ujRqpY32eBQsWRG1tbWzatCl+/vOfj8hMEQILAEhWUigMeuP5aNi4cWNs2bIl1q1bFxER//rXv6Kuri56enqiq6srKisr4/vf/37s3Lkz7ZgCCwAY144ePRqPP/543yKoU6ZMiY6OjmE9psACAMaljz76KL797W/H9OnT47e//e2IHltgAQDj0pw5c+KDDz4YlWNbpgEAIJnAAgCG7NMPRb5yZYQ+I2eEXL16NSIiSkq+WDK5RAgADNncuXNjypQp8eyzz8YTTzwRlZWVfdF1q7p69Wq8/PLLMWnSpJgzZ84X2rdQLBaLwzRXP93d3VFRURFdXV1RXl4+EocEAEbQ3/72t9i+fXucOHFitEdJM2nSpNi9e3csXbr0C+0nsACANL29vXHhwoX4+OOPo7e3d7THGZKSkpKYM2dOfOUrX/nC+7pECACkKSkpiRkzZsSMGTNGe5RR5SZ3AIBkAgsAIJnAAgBIJrAAAJIJLACAZAILACCZwAIASCawAACSCSwAgGQCCwAgmcACAEgmsAAAkgksAIBkAgsAIJnAAgBIJrAAAJIJLACAZAILACCZwAIASCawAACSCSwAgGQCCwAgmcACAEgmsAAAkgksAIBkAgsAIJnAAgBIJrAAAJIJLACAZAILACCZwAIASCawAACSCSwAgGQCCwAgmcACAEgmsAAAkgksAIBkAgsAIJnAAgBIJrAAAJIJLACAZAILACCZwAIASCawAACSCSwAgGQCCwAgmcACAEgmsAAAkgksAIBkAgsAIJnAAgBIJrAAAJIJLACAZAILACCZwAIASCawAACSCSwAgGQCCwAgmcACAEgmsAAAkgksAIBkAgsAIJnAAgBINmBgbd26NWpqaqJQKMTJkycH3PHYsWMxefLkqK+v73tcvnx5WIcFALgVlA704rp16+LJJ5+MZcuWfe7O995776ABBgBwuxowsJYvXz7ScwAAjBtDugfr7Nmz0dDQEEuWLIk9e/bc1D7d3d39Hj09PUMZAQBgzBnwDNbNaGhoiI6OjqioqIiOjo5YvXp13HXXXfHQQw997n5VVVX9nj/33HOxbdu2LzsGAMCY86UDq7y8vO/rysrKePjhh+P48eM3DKz29vZ++5aVlX3ZEQAAxqQvfYmws7Mzent7IyLi0qVLcfjw4Vi8ePEN9ysvL+/3EFgAwHgzYGA1NzdHZWVldHR0xKpVq2LevHkREdHU1BSHDh2KiIjXX389Fi5cGIsWLYqlS5fGypUr47HHHhu5yQEAxqhCsVgsjsSBuru7o6KiIrq6uvpdIgQAGG+s5A4AkExgAQAkE1gAAMkEFgBAMoEFAJBMYAEAJBNYAADJBBYAQDKBBQCQTGABACQTWAAAyQQWAEAygQUAkExgAQAkE1gAAMkEFgBAMoEFAJBMYAEAJBNYAADJBBYAQDKBBQCQTGABACQTWAAAyQQWAEAygQUAkExgAQAkE1gAAMkEFgBAMoEFAJBMYAEAJBNYAADJBBYAQDKBBQCQTGABACQTWAAAyQQWAEAygQUAkExgAQAkE1gAAMkEFgBAMoEFAJBMYAEAJBNYAADJBBYAQDKBBQCQTGABACQTWAAAyQQWAEAygQUAkExgAQAkE1gAAMkEFgBAMoEFAJBMYAEAJBNYAADJBBYAQDKBBQCQTGABACQTWAAAyQQWAEAygQUAkExgAQAkE1gAAMkEFgBAMoEFAJBMYAEAJBNYAADJBBYAQDKBBQCQTGABACQTWAAAyQQWAEAygQUAkExgAQAkE1gAAMkEFgBAMoEFAJBMYAEAJBNYAADJBBYAQDKBBQCQTGABACQTWAAAyQQWAEAygQUAkExgAQAkGzCwtm7dGjU1NVEoFOLkyZOD7vzKK6/E/Pnz45577omNGzfG1atXh21QAIBbRaFYLBb/88U//OEPUVtbG8uWLYuDBw9GfX39dTt++OGHcf/998eJEydi1qxZsWbNmli1alU88cQTAx6ou7s7KioqoqurK8rLy/N/ExhD/ru3GP+/Z7SngJE1vSxiQklhtMeAMaF0oBeXL19+wx0PHDgQjY2Ncffdd0dExObNm2PHjh2DBhbcLv7v/+uNLf/133H+8mhPAiNr5uSI/3PfhHiw1t0n8KX/K2hra4u5c+f2Pa+pqYm2trYb7tfd3d3v0dPjf/MZXzYeF1fcns5f/uT9D4zCTe5VVVVRUVHR99i5c+dIjwAAMKwGvER4M6qrq+Ps2bN9z1tbW6O6uvqG+7W3t/e7B6usrOzLjgBj0svfmuASIbelTy8RAkMIrLVr18ayZcti27ZtMWvWrNi7d2+sX7/+hvuVl5e7yZ1x7cHakvheTcFN7tx23OQO/2vAwGpubo633norzp07F6tWrYqpU6dGS0tLNDU1RWNjYzQ2NkZtbW1s37497r///oiIWLFiRTQ3N4/o8DBWTSgpxIzJoz0FAKNlwGUahoNlGgCA24W/pQUASCawAACSCSwAgGQCCwAgmcACAEgmsAAAkgksAIBkAgsAIJnAAgBIJrAAAJIJLACAZAILACCZwAIASCawAACSCSwAgGQCCwAgmcACAEgmsAAAkgksAIBkAgsAIJnAAgBIJrAAAJIJLACAZAILACCZwAIASCawAACSCSwAgGQCCwAgmcACAEgmsAAAkgksAIBkAgsAIJnAAgBIJrAAAJIJLACAZAILACCZwAIASCawAACSCSwAgGQCCwAgmcACAEgmsAAAkgksAIBkAgsAIJnAAgBIJrAAAJIJLACAZAILACCZwAIASCawAACSCSwAgGQCCwAgmcACAEgmsAAAkgksAIBkAgsAIJnAAgBIJrAAAJIJLACAZAILACCZwAIASCawAACSCSwAgGQCCwAgmcACAEgmsAAAkgksAIBkAgsAIJnAAgBIJrAAAJIJLACAZAILACCZwAIASCawAACSCSwAgGQCCwAgmcACAEgmsAAAkgksAIBkAgsAIJnAAgBIJrAAAJIJLACAZAILACCZwAIASDZoYJ05cybuu+++qKuriyVLlsT7779/3TbHjh2LyZMnR319fd/j8uXLwzowAMBYVzrYN5qbm2PTpk2xYcOGOHDgQGzYsCH+9Kc/XbfdvffeGydPnhzWIQEAbiUDnsE6f/58vPvuu/HII49ERMTatWujvb09WlpaRnQ4AIBb0YCB1d7eHrNnz47S0k9OcBUKhaiuro62trbrtj179mw0NDTEkiVLYs+ePTc8YHd3d79HT0/PEH8FAICxZdBLhDejoaEhOjo6oqKiIjo6OmL16tVx1113xUMPPTToPlVVVf2eP/fcc7Ft27ahjAEAMKYMGFhVVVXR2dkZ165di9LS0igWi9HW1hbV1dX9tisvL+/7urKyMh5++OE4fvz45wZWe3t7v/3KysqG+jsAAIwpA14inDlzZjQ0NMRrr70WERGvv/56VFZWxrx58/pt19nZGb29vRERcenSpTh8+HAsXrz4cw9YXl7e7yGwAIDxZtBlGl588cV48cUXo66uLp5//vnYt29fREQ0NTXFoUOHIuKT8Fq4cGEsWrQoli5dGitXrozHHntsZCYHABijCsVisTgSB+ru7o6Kioro6urqd4kQAGC8sZI7AEAygQUAkExgAQAkE1gAAMkEFgBAMoEFAJBMYAEAJBNYAADJBBYAQDKBBQCQTGABACQTWAAAyQQWAEAygQUAkExgAQAkE1gAAMkEFgBAMoEFAJBMYAEAJBNYAADJBBYAQDKBBQCQTGABACQTWAAAyQQWAEAygQUAkExgAQAkE1gAAMkEFgBAMoEFAJBMYAEAJBNYAADJBBYAQDKBBQCQTGABACQTWAAAyQQWAEAygQUAkExgAQAkE1gAAMkEFgBAMoEFAJBMYAEAJBNYAADJBBYAQDKBBQCQTGABACQTWAAAyQQWAEAygQUAkExgAQAkE1gAAMkEFgBAMoEFAJBMYAEAJBNYAADJBBYAQDKBBQCQTGABACQTWAAAyQQWAEAygQUAkExgAQAkE1gAAMkEFgBAMoEFAJBMYAEAJBNYAADJBBYAQDKBBQCQTGABACQTWAAAyQQWAEAygQUAkExgAQAkE1gAAMkEFgBAMoEFAJBMYAEAJBNYAADJBBYAQDKBBQCQTGABACQTWAAAyUYssHp6evr9C+NZT09PbNu2zfud24b3PLebG73nBw2sM2fOxH333Rd1dXWxZMmSeP/99wfc7pVXXon58+fHPffcExs3boyrV68OOshn/4XxrKenJ7Zv3+79zm3De57bzY3e84MGVnNzc2zatClOnz4dTz31VGzYsOG6bT788MN45pln4vjx49HS0hJ///vf46WXXkobHgDgVjRgYJ0/fz7efffdeOSRRyIiYu3atdHe3h4tLS39tjtw4EA0NjbG3XffHYVCITZv3hz79+8f/qkBAMaw0oFebG9vj9mzZ0dp6SffLhQKUV1dHW1tbTFv3ry+7dra2mLu3Ll9z2tqaqKtrW3AAxWLxYiI6Ozs7Pd6WVlZlJWVDe23gDGmu7u7378w3nnPc7v59L3+ad/8pwEDazh8em/WN7/5zZE6JIy6qqqq0R4BRpT3PLebf//73wO+PmBgVVVVRWdnZ1y7di1KS0ujWCxGW1tbVFdX99uuuro6zp492/e8tbX1um0+VVNTE2fPno2JEydGoVDoe90ZLADgVjV16tQBXx8wsGbOnBkNDQ3x2muvxYYNG+L111+PysrKfpcHIz65N2vZsmWxbdu2mDVrVuzduzfWr18/4IFKSkqitrZ2iL8GAMDYVygOcvHw1KlTsWHDhrhw4UKUl5fHvn37YuHChdHU1BSNjY3R2NgYEREvv/xyPP/88xERsWLFiti7d29MnDhx5H4DAIAxZtDAAgDgyxmRldxvdtFSGA+2bt0aNTU1USgU4uTJk6M9DgyrK1euxAMPPBB1dXWxaNGiWLly5XVL+sB4853vfCe+8Y1vRH19fXzrW9+KP//5z9dtMyKBdTOLlsJ4sW7duvjjH//YbwkTGM82bdoUp06divfeey/WrFkTTU1Noz0SDKtf//rX8Ze//CVOnjwZP/7xjwfsmmEPrJtdtBTGi+XLl0dlZeVojwEj4o477ojVq1f3/XX40qVLo7W1dXSHgmE2bdq0vq+7urr6rY7wqWFfB+tmFy0F4Nb3wgsvxJo1a0Z7DBh2jz76aBw9ejQiIn7zm99c9/0RW2gUgPFtx44d0dLSEr///e9HexQYdr/61a8iIuLVV1+Np5566rrIGvZLhJ9dtDQiBl20FIBb165du+KNN96It99+O6ZMmTLa48CI+cEPfhBHjx6NCxcu9Ht92APrs4uWRsSgi5YCcGvavXt37N+/P44cOdLv3hQYjy5evBgfffRR3/ODBw/GnXfeGdOnT++33YisgzXYoqUwHjU3N8dbb70V586dizvvvDOmTp3qjzoYtzo6OqKqqipqa2v7PjKkrKws3nnnnVGeDIbHX//613jwwQfj8uXLUVJSEjNmzIhdu3ZFfX19v+0sNAoAkGxE1sECALidCCwAgGQCCwAg2f8ARcls2WdyEbYAAAAASUVORK5CYII=\" />"
      ]
     },
     "execution_count": 8,
     "metadata": {},
     "output_type": "execute_result"
    }
   ],
   "source": [
    "v = isdefined(:plot_dir) ? plot_dir : system.ndim==2 ? (1,2) : (1,2,3)\n",
    "p = plot(vs[1][1,:,1],vs[1][1,:,2], linewidth=3, aspect_ratio=:equal)        \n",
    "plot!(xlims=(0,3), ylims=(0,2))"
   ]
  },
  {
   "cell_type": "markdown",
   "metadata": {},
   "source": [
    "## <span style=\"color:blue\"> Set up fluid solver with Whirl </span>"
   ]
  },
  {
   "cell_type": "markdown",
   "metadata": {},
   "source": [
    "Set the flow parameters"
   ]
  },
  {
   "cell_type": "code",
   "execution_count": 9,
   "metadata": {},
   "outputs": [],
   "source": [
    "Re = 200; # Reynolds number\n",
    "U = 0.0; # Free stream velocity\n",
    "U∞ = (U,0.0);"
   ]
  },
  {
   "cell_type": "markdown",
   "metadata": {},
   "source": [
    "Set the domain size and time step size"
   ]
  },
  {
   "cell_type": "code",
   "execution_count": 10,
   "metadata": {},
   "outputs": [
    {
     "data": {
      "text/plain": [
       "(-0.01:0.02:3.0100000000000002, -0.01:0.02:2.0100000000000002)"
      ]
     },
     "execution_count": 10,
     "metadata": {},
     "output_type": "execute_result"
    }
   ],
   "source": [
    "nx = 152; ny = 102;\n",
    "Ly = 2.0;\n",
    "Δx = Ly/(ny-2);\n",
    "Δt = min(0.5*Δx,0.5*Δx^2*Re)\n",
    "w₀ = Nodes(Dual,(nx,ny));\n",
    "xg, yg = coordinates(w₀,dx=Δx)"
   ]
  },
  {
   "cell_type": "markdown",
   "metadata": {},
   "source": [
    "#### Set up the Navier-Stokes  problem type"
   ]
  },
  {
   "cell_type": "code",
   "execution_count": 11,
   "metadata": {},
   "outputs": [
    {
     "data": {
      "text/plain": [
       "Navier-Stokes system on a grid of size 152 x 102"
      ]
     },
     "execution_count": 11,
     "metadata": {},
     "output_type": "execute_result"
    }
   ],
   "source": [
    "X̃ = VectorData(coord)\n",
    "sys = Systems.NavierStokes((nx,ny),Re,Δx,Δt,U∞ = U∞, X̃ = X̃, isstore = true, isstatic = false)"
   ]
  },
  {
   "cell_type": "markdown",
   "metadata": {},
   "source": [
    "#### Set up initial conditions"
   ]
  },
  {
   "cell_type": "code",
   "execution_count": 12,
   "metadata": {},
   "outputs": [],
   "source": [
    "t = 0.0\n",
    "w₀ .= 0.0\n",
    "tf = 2.0\n",
    "T = Δt:Δt:tf\n",
    "fx = Float64[]\n",
    "fy = Float64[]\n",
    "thist = []\n",
    "uhist = []\n",
    "tsample = 0.02;"
   ]
  },
  {
   "cell_type": "markdown",
   "metadata": {},
   "source": [
    "## <span style=\"color:blue\"> Demonstration of one-step no iteration </span>"
   ]
  },
  {
   "cell_type": "code",
   "execution_count": 13,
   "metadata": {},
   "outputs": [],
   "source": [
    "# # integrate fluid force for each body\n",
    "# for i = 1:bgs[1].np\n",
    "#     bgs[1].f_ex3d[i][1] = f[1].u[i]\n",
    "#     bgs[1].f_ex3d[i][3] = f[1].v[i]\n",
    "# end\n",
    "# bgs = IntegrateBodyGridDynamics(bd,bgs)\n",
    "# f_exi = zeros(bd.sys.nbody,6)\n",
    "# for i = 1:bd.sys.nbody\n",
    "#     f_exi[i,:] = bgs[i].f_ex6d\n",
    "# end\n",
    "# f_exi\n",
    "\n",
    "# # run body solver\n",
    "# herk = HERKBody(system.num_params,HERKFuncM, HERKFuncGT, HERKFuncG,\n",
    "#                 (HERKFuncf,HERKFuncgti),\n",
    "#                 (UpdatePosition!,UpdateVelocity!))\n",
    "# soln, bd = herkbody(soln, bd; _isfixedstep=true, f_exi=f_exi);\n",
    "\n",
    "# # get body points coord and motion\n",
    "# bgs = AcquireBodyGridKinematics(bd,bgs)\n",
    "# motion = hcat(bgs[1].v_i...)'[:,[1,2]]\n",
    "# coord = hcat(bgs[1].q_i...)'[:,[1,2]];\n",
    "\n",
    "# # create ifherk object\n",
    "# u = (w₀,[coord motion][:])\n",
    "# nc = length(u[2])\n",
    "# # uniform constant free stream\n",
    "# ifherk = Whirl.IFHERK(u,f,sys.Δt,\n",
    "#                 ((t,u) -> Systems.plan_intfact(t,u,sys),\n",
    "#                  (t,u) -> eye(nc)),\n",
    "#                 (u,t) -> Whirl.plan_constraints(u,t,sys),\n",
    "#                 ((u,t) -> Whirl.r₁(u,t,sys),\n",
    "#                  (u,t) -> Whirl.r₂(u,t,sys)),\n",
    "#                 tol=1e-3,rk=Whirl.TimeMarching.RK31,\n",
    "#                 isstored=true,isstaticconstraints=false)\n",
    "\n",
    "# # run fluid solver\n",
    "# t, u, f = ifherk(t,u)\n",
    "# push!(thist,t)\n",
    "# push!(fx,sum(f[1].u)*Δx^2)\n",
    "# push!(fy,sum(f[1].v)*Δx^2)\n",
    "# push!(uhist,u)\n",
    "\n",
    "# # fx\n",
    "# # fy"
   ]
  },
  {
   "cell_type": "markdown",
   "metadata": {},
   "source": [
    "## <span style=\"color:blue\"> Preparation for Time Marching </span>"
   ]
  },
  {
   "cell_type": "markdown",
   "metadata": {},
   "source": [
    "#### Constants for coupling"
   ]
  },
  {
   "cell_type": "code",
   "execution_count": 14,
   "metadata": {},
   "outputs": [
    {
     "data": {
      "text/plain": [
       "0.5"
      ]
     },
     "execution_count": 14,
     "metadata": {},
     "output_type": "execute_result"
    }
   ],
   "source": [
    "tol = 5e-4\n",
    "soln.dt = Δt\n",
    "ω = (config_bodys[1].ρ)/(1.0+config_bodys[1].ρ)"
   ]
  },
  {
   "cell_type": "markdown",
   "metadata": {},
   "source": [
    "#### Helper function to convert VectorData type"
   ]
  },
  {
   "cell_type": "code",
   "execution_count": 15,
   "metadata": {},
   "outputs": [
    {
     "data": {
      "text/plain": [
       "* (generic function with 285 methods)"
      ]
     },
     "execution_count": 15,
     "metadata": {},
     "output_type": "execute_result"
    }
   ],
   "source": [
    "import Base: +,*\n",
    "function (+)(a::VectorData, b::VectorData)\n",
    "    c = VectorData(a)\n",
    "    c.u .= a.u .+ b.u\n",
    "    c.v .= a.v .+ b.v\n",
    "    return c\n",
    "end\n",
    "\n",
    "function (*)(ω::T, a::VectorData) where T<: Real\n",
    "    c = VectorData(a)\n",
    "    c.u .= ω.*a.u\n",
    "    c.v .= ω.*a.v\n",
    "    return c\n",
    "end\n",
    "\n",
    "function (*)(a::VectorData,ω::T) where T<: Real\n",
    "    c = VectorData(a)\n",
    "    c.u .= ω.*a.u\n",
    "    c.v .= ω.*a.v\n",
    "    return c\n",
    "end"
   ]
  },
  {
   "cell_type": "markdown",
   "metadata": {},
   "source": [
    "#### Create Body solver object of type HerkBody"
   ]
  },
  {
   "cell_type": "code",
   "execution_count": 16,
   "metadata": {},
   "outputs": [
    {
     "data": {
      "text/plain": [
       "Order-3 HERK integrator.\n"
      ]
     },
     "execution_count": 16,
     "metadata": {},
     "output_type": "execute_result"
    }
   ],
   "source": [
    "# construct body solver\n",
    "herk = HERKBody(system.num_params,HERKFuncM, HERKFuncGT, HERKFuncG,\n",
    "            (HERKFuncf,HERKFuncgti),\n",
    "            (UpdatePosition!,UpdateVelocity!))"
   ]
  },
  {
   "cell_type": "markdown",
   "metadata": {},
   "source": [
    "#### Create Fluid solver object of type IFHERK"
   ]
  },
  {
   "cell_type": "code",
   "execution_count": 17,
   "metadata": {},
   "outputs": [
    {
     "data": {
      "text/plain": [
       "Order-3 IF-HERK integrator with\n",
       "   State of type Tuple{Whirl.Fields.Nodes{Whirl.Fields.Dual,152,102},Array{Float64,1}}\n",
       "   Force of type Tuple{Whirl.Fields.VectorData{51},Array{Float64,1}}\n",
       "   Time step size 0.01\n"
      ]
     },
     "execution_count": 17,
     "metadata": {},
     "output_type": "execute_result"
    }
   ],
   "source": [
    "u = (w₀,[coord motion][:])\n",
    "f = (VectorData(X̃),Vector{Float64}())\n",
    "\n",
    "# number of constraints (4*body points)\n",
    "nc = length(u[2])\n",
    "\n",
    "# construct fluid solver with uniform constant free stream\n",
    "ifherk = Whirl.IFHERK(u,f,sys.Δt,\n",
    "                ((t,u) -> Systems.plan_intfact(t,u,sys),\n",
    "                 (t,u) -> eye(nc)),\n",
    "                (u,t) -> Whirl.plan_constraints(u,t,sys),\n",
    "                ((u,t) -> Whirl.r₁(u,t,sys),\n",
    "                 (u,t) -> Whirl.r₂(u,t,sys)),\n",
    "                tol=1e-3,rk=Whirl.TimeMarching.RK31,\n",
    "                isstored=true,isstaticconstraints=false)"
   ]
  },
  {
   "cell_type": "markdown",
   "metadata": {},
   "source": [
    "## <span style=\"color:blue\"> Time Marching! </span>"
   ]
  },
  {
   "cell_type": "code",
   "execution_count": 18,
   "metadata": {},
   "outputs": [
    {
     "name": "stdout",
     "output_type": "stream",
     "text": [
      "time = 0.02 converged through 6 iterations\n",
      "time = 0.03 converged through 1 iterations\n",
      "time = 0.04 converged through 1 iterations\n",
      "time = 0.05 converged through 1 iterations\n",
      "time = 0.060000000000000005 converged through 1 iterations\n",
      "time = 0.06999999999999999 converged through 1 iterations\n",
      "time = 0.08 converged through 1 iterations\n",
      "time = 0.09 converged through 1 iterations\n",
      "time = 0.09999999999999999 converged through 1 iterations\n",
      "time = 0.11 converged through 1 iterations\n",
      "time = 0.12 converged through 1 iterations\n",
      "time = 0.13 converged through 1 iterations\n",
      "time = 0.14 converged through 1 iterations\n",
      "time = 0.15000000000000002 converged through 1 iterations\n",
      "time = 0.16 converged through 1 iterations\n",
      "time = 0.17 converged through 1 iterations\n",
      "time = 0.18000000000000002 converged through 1 iterations\n",
      "time = 0.19 converged through 1 iterations\n",
      "time = 0.2 converged through 1 iterations\n",
      "time = 0.21000000000000002 converged through 1 iterations\n",
      "time = 0.22 converged through 1 iterations\n",
      "time = 0.23 converged through 1 iterations\n",
      "time = 0.24000000000000002 converged through 1 iterations\n",
      "time = 0.25 converged through 1 iterations\n",
      "time = 0.26 converged through 1 iterations\n",
      "time = 0.27 converged through 1 iterations\n",
      "time = 0.28 converged through 1 iterations\n",
      "time = 0.29000000000000004 converged through 1 iterations\n",
      "time = 0.3 converged through 1 iterations\n",
      "time = 0.31 converged through 1 iterations\n",
      "time = 0.32 converged through 1 iterations\n",
      "time = 0.33 converged through 1 iterations\n",
      "time = 0.34 converged through 1 iterations\n",
      "time = 0.35000000000000003 converged through 1 iterations\n",
      "time = 0.36 converged through 1 iterations\n",
      "time = 0.37 converged through 1 iterations\n",
      "time = 0.38 converged through 1 iterations\n",
      "time = 0.39 converged through 1 iterations\n",
      "time = 0.4 converged through 1 iterations\n",
      "time = 0.41000000000000003 converged through 1 iterations\n",
      "time = 0.42 converged through 1 iterations\n",
      "time = 0.43 converged through 1 iterations\n",
      "time = 0.44 converged through 1 iterations\n",
      "time = 0.45 converged through 1 iterations\n",
      "time = 0.46 converged through 1 iterations\n",
      "time = 0.47000000000000003 converged through 1 iterations\n",
      "time = 0.48 converged through 1 iterations\n",
      "time = 0.49 converged through 1 iterations\n",
      "time = 0.5 converged through 1 iterations\n",
      "time = 0.51 converged through 1 iterations\n",
      "time = 0.52 converged through 1 iterations\n",
      "time = 0.53 converged through 1 iterations\n",
      "time = 0.54 converged through 1 iterations\n",
      "time = 0.55 converged through 1 iterations\n",
      "time = 0.56 converged through 1 iterations\n",
      "time = 0.5700000000000001 converged through 1 iterations\n",
      "time = 0.58 converged through 1 iterations\n",
      "time = 0.59 converged through 1 iterations\n",
      "time = 0.6 converged through 1 iterations\n",
      "time = 0.61 converged through 1 iterations\n",
      "time = 0.62 converged through 1 iterations\n",
      "time = 0.63 converged through 1 iterations\n",
      "time = 0.64 converged through 1 iterations\n",
      "time = 0.65 converged through 1 iterations\n",
      "time = 0.66 converged through 1 iterations\n",
      "time = 0.67 converged through 1 iterations\n",
      "time = 0.68 converged through 1 iterations\n",
      "time = 0.6900000000000001 converged through 1 iterations\n",
      "time = 0.7 converged through 1 iterations\n",
      "time = 0.71 converged through 1 iterations\n",
      "time = 0.72 converged through 1 iterations\n",
      "time = 0.73 converged through 1 iterations\n",
      "time = 0.74 converged through 1 iterations\n",
      "time = 0.75 converged through 1 iterations\n",
      "time = 0.76 converged through 1 iterations\n",
      "time = 0.77 converged through 1 iterations\n",
      "time = 0.78 converged through 1 iterations\n",
      "time = 0.79 converged through 1 iterations\n",
      "time = 0.8 converged through 1 iterations\n",
      "time = 0.81 converged through 1 iterations\n",
      "time = 0.8200000000000001 converged through 1 iterations\n",
      "time = 0.83 converged through 1 iterations\n",
      "time = 0.84 converged through 1 iterations\n",
      "time = 0.85 converged through 1 iterations\n",
      "time = 0.86 converged through 1 iterations\n",
      "time = 0.87 converged through 1 iterations\n",
      "time = 0.88 converged through 1 iterations\n",
      "time = 0.89 converged through 1 iterations\n",
      "time = 0.9 converged through 1 iterations\n",
      "time = 0.91 converged through 1 iterations\n",
      "time = 0.92 converged through 1 iterations\n",
      "time = 0.93 converged through 1 iterations\n",
      "time = 0.9400000000000001 converged through 1 iterations\n",
      "time = 0.95 converged through 1 iterations\n",
      "time = 0.96 converged through 1 iterations\n",
      "time = 0.97 converged through 1 iterations\n",
      "time = 0.98 converged through 1 iterations\n",
      "time = 0.99 converged through 1 iterations\n",
      "time = 1.0 converged through 1 iterations\n",
      "time = 1.01 converged through 1 iterations\n",
      "time = 1.02 converged through 1 iterations\n",
      "time = 1.03 converged through 1 iterations\n",
      "time = 1.04 converged through 1 iterations\n",
      "time = 1.05 converged through 1 iterations\n",
      "time = 1.06 converged through 1 iterations\n",
      "time = 1.07 converged through 1 iterations\n",
      "time = 1.08 converged through 1 iterations\n",
      "time = 1.09 converged through 1 iterations\n",
      "time = 1.1 converged through 1 iterations\n",
      "time = 1.11 converged through 1 iterations\n",
      "time = 1.12 converged through 1 iterations\n",
      "time = 1.1300000000000001 converged through 1 iterations\n",
      "time = 1.14 converged through 1 iterations\n",
      "time = 1.15 converged through 1 iterations\n",
      "time = 1.16 converged through 1 iterations\n",
      "time = 1.17 converged through 1 iterations\n",
      "time = 1.18 converged through 1 iterations\n",
      "time = 1.19 converged through 1 iterations\n",
      "time = 1.2 converged through 1 iterations\n",
      "time = 1.21 converged through 1 iterations\n",
      "time = 1.22 converged through 1 iterations\n",
      "time = 1.23 converged through 1 iterations\n",
      "time = 1.24 converged through 1 iterations\n",
      "time = 1.25 converged through 1 iterations\n",
      "time = 1.26 converged through 1 iterations\n",
      "time = 1.27 converged through 1 iterations\n",
      "time = 1.28 converged through 1 iterations\n",
      "time = 1.29 converged through 1 iterations\n",
      "time = 1.3 converged through 1 iterations\n",
      "time = 1.31 converged through 1 iterations\n",
      "time = 1.32 converged through 1 iterations\n",
      "time = 1.33 converged through 1 iterations\n",
      "time = 1.34 converged through 1 iterations\n",
      "time = 1.35 converged through 1 iterations\n",
      "time = 1.36 converged through 1 iterations\n",
      "time = 1.37 converged through 1 iterations\n",
      "time = 1.3800000000000001 converged through 1 iterations\n",
      "time = 1.39 converged through 1 iterations\n",
      "time = 1.4 converged through 1 iterations\n",
      "time = 1.41 converged through 1 iterations\n",
      "time = 1.42 converged through 1 iterations\n",
      "time = 1.43 converged through 1 iterations\n",
      "time = 1.44 converged through 1 iterations\n",
      "time = 1.45 converged through 1 iterations\n",
      "time = 1.46 converged through 1 iterations\n",
      "time = 1.47 converged through 1 iterations\n",
      "time = 1.48 converged through 1 iterations\n",
      "time = 1.49 converged through 1 iterations\n",
      "time = 1.5 converged through 1 iterations\n",
      "time = 1.51 converged through 1 iterations\n",
      "time = 1.52 converged through 1 iterations\n",
      "time = 1.53 converged through 1 iterations\n",
      "time = 1.54 converged through 1 iterations\n",
      "time = 1.55 converged through 1 iterations\n",
      "time = 1.56 converged through 1 iterations\n",
      "time = 1.57 converged through 1 iterations\n",
      "time = 1.58 converged through 1 iterations\n",
      "time = 1.59 converged through 1 iterations\n",
      "time = 1.6 converged through 1 iterations\n",
      "time = 1.61 converged through 1 iterations\n",
      "time = 1.62 converged through 1 iterations\n",
      "time = 1.6300000000000001 converged through 1 iterations\n",
      "time = 1.64 converged through 2 iterations\n",
      "time = 1.65 converged through 2 iterations\n",
      "time = 1.66 converged through 1 iterations\n",
      "time = 1.67 converged through 1 iterations\n",
      "time = 1.68 converged through 1 iterations\n",
      "time = 1.69 converged through 1 iterations\n",
      "time = 1.7 converged through 1 iterations\n",
      "time = 1.71 converged through 1 iterations\n",
      "time = 1.72 converged through 1 iterations\n",
      "time = 1.73 converged through 1 iterations\n",
      "time = 1.74 converged through 1 iterations\n",
      "time = 1.75 converged through 1 iterations\n",
      "time = 1.76 converged through 1 iterations\n",
      "time = 1.77 converged through 1 iterations\n",
      "time = 1.78 converged through 1 iterations\n",
      "time = 1.79 converged through 1 iterations\n",
      "time = 1.8 converged through 1 iterations\n",
      "time = 1.81 converged through 1 iterations\n",
      "time = 1.82 converged through 1 iterations\n",
      "time = 1.83 converged through 1 iterations\n",
      "time = 1.84 converged through 1 iterations\n",
      "time = 1.85 converged through 1 iterations\n",
      "time = 1.86 converged through 1 iterations\n"
     ]
    },
    {
     "name": "stdout",
     "output_type": "stream",
     "text": [
      "time = 1.87 converged through 1 iterations\n",
      "time = 1.8800000000000001 converged through 1 iterations\n",
      "time = 1.89 converged through 1 iterations\n",
      "time = 1.9 converged through 1 iterations\n",
      "time = 1.91 converged through 1 iterations\n",
      "time = 1.92 converged through 1 iterations\n",
      "time = 1.93 converged through 1 iterations\n",
      "time = 1.94 converged through 1 iterations\n",
      "time = 1.95 converged through 1 iterations\n",
      "time = 1.96 converged through 1 iterations\n",
      "time = 1.97 converged through 1 iterations\n",
      "time = 1.98 converged through 1 iterations\n",
      "time = 1.99 converged through 1 iterations\n",
      "time = 2.0 converged through 1 iterations\n",
      "time = 2.01 converged through 1 iterations\n",
      "1003.394068 seconds (9.12 G allocations: 1.639 TiB, 14.80% gc time)\n",
      "solution completed through time t = 2.01\n"
     ]
    }
   ],
   "source": [
    "@time for t in T\n",
    "\n",
    "    cnt = 1\n",
    "    fᵢ = -1*f[1]*Δx^2\n",
    "\n",
    "    # record body info\n",
    "    soln_buffer = deepcopy(soln)\n",
    "    bd_buffer = deepcopy(bd)\n",
    "    bgs_buffer = deepcopy(bgs)\n",
    "\n",
    "    # record fluid info\n",
    "    u_buffer = deepcopy(u)\n",
    "    t_buffer = t\n",
    "\n",
    "    while true\n",
    "\n",
    "        # get body state of the last timestep\n",
    "        soln = deepcopy(soln_buffer)\n",
    "        bd = deepcopy(bd_buffer)\n",
    "        bgs = deepcopy(bgs_buffer)\n",
    "\n",
    "        # integrate body force for body solver\n",
    "        for i = 1:bgs[1].np\n",
    "            bgs[1].f_ex3d[i][1] = fᵢ.u[i]\n",
    "            bgs[1].f_ex3d[i][3] = fᵢ.v[i]\n",
    "        end\n",
    "        bgs = IntegrateBodyGridDynamics(bd,bgs)\n",
    "        f_exi = zeros(bd.sys.nbody,6)\n",
    "        for i = 1:bd.sys.nbody\n",
    "            f_exi[i,:] = bgs[i].f_ex6d\n",
    "        end\n",
    "\n",
    "        # advance body solver for one step\n",
    "        soln, bd = herkbody(soln, bd; _isfixedstep=true, f_exi=f_exi);\n",
    "\n",
    "        # acquire vel and coord of body points for fluid computation\n",
    "        bgs = AcquireBodyGridKinematics(bd,bgs)\n",
    "        coord = hcat(bgs[1].q_i...)'[:,[1,2]]\n",
    "        motion = hcat(bgs[1].v_i...)'[:,[1,2]]\n",
    "\n",
    "        # get fluid state of the last timestep\n",
    "        u = deepcopy(u_buffer)\n",
    "        t = t_buffer\n",
    "\n",
    "        # advance fluid solver for one step\n",
    "        u = (u[1],[coord motion][:])\n",
    "        t, u, f = ifherk(t,u)\n",
    "\n",
    "        # check if converge\n",
    "        ϵ = norm(-1*f[1]*Δx^2 - fᵢ)\n",
    "        if ϵ < tol break end\n",
    "\n",
    "#         println(\"proposed fy:\", sum(fᵢ.v))\n",bWOTXb9Meb8YnS50q5ldWQHtpj/Hwnx4ajbmAbNz3OdeNV/1HZad1/wg7KgPWn8H8TqIV3glqxz1QJXcD3S8knXe/7utAFKwvT17fUREbkQKWHL9mYG9BcyrGqIvotwLZBBvmv1ccRry3ZDe5oEgOwD5fmhsw4qJqu/qXmi94VPK01Wzu+WmXoN0iYeJMgISmDrpQzstrnqusmoUQ0bZzrGmB5dirEM2VjA5mnBoD9R/6qN8cvef01h8genmV6k+b5D3/8E/5T957f+iWLKa48cyTh7POH3SmByNaI0nNMcSWpMR3fGSYrRLMVaNjJjoYpN5FbI60Mmg2/WzE7NsNmTl0yFrtApZJ6pAtRNq66H1PJas92pV+/uQ3uPLsZ0f+WsbqkGkdgLKHec+iRBXIfpodUC1iMjNSQFLbgDjwASE1Re/mrWh3OMzr84cKJpVoxqSjdVS4QuQrMTild53lSz0XYWdN6F/K0w8A43NMPkqpEuhuR/SRT6GoTUKJFio5kVlWdXQ7suC1swoT3coxjoUoxmTIwmH90bkG+/mA1/5Zz6F/V02sGoxj73wVe7/ym8wOhFx4ljGyMmC8ZFAa9yDVmsioTsJxVhGMd6hHO9STnZ8lMRUtwpZHa9kdbMqZLU8UBYGeddDVjTkje8hgc5+D6fN57DafR5su9uh9jBg0Hnevx/RQt98UO6F8sR5nsF0FetFn5ElInITUsCS688OA3VgwcWvV+4BIojWn/G5k1COQO1O3zXY3en9V333+fvlmO8anPqRHwnTOuwDRPOu3747DrXFMHXQm9qj/moq+3jV2J5h3QzrVBPZx7uUU13K8Yz2eOD0sZijx+An/+q336UX58LWf/qj/NzuP6NcuJSR4zmnT+WMj0JzLKY1EdOajOk2I4qxnHKi69PlJ7uUTa/C+XLheUJWblAEP2exe9Kn2ndGfXNBNuGHXLdfxup3QPdNP0y7dh+Ux6E47A8uWgthIRSvVg30ZwgxhPvxkPWcf1/PGmsvIvLep4Al15d1gaNVT9XFdg62oTxQ/eKumqfNvPcqmuujAsoOdN6AdD1GBK2XoL4Zuof8vMHaej97r2+jL3mlyyCf8L6rZBjap6E9Xh3EHLySk1VnCHZybKpL2cooJ3M6k4HJkZSTx4yH/o/Hr0nl6nzq84d47KU/YuB993H6lIesiVGjNR7RmYxpT0Z02xH5eE452a2WCqdDVoa1MuhWlbosO2O5sICyeg06JyDu96XD4qQvCRaTVYVrPrSf9dEM8TKvJlrm38v4LiC7wFJhv4essA7YV1Wzutf41RMRefdoTINcX3ageucSU9tnqldrZz9XHPHqVf2DVWP7q/75+p3QfB4IUNsEo9+Axp0w+bz3W0294cfhTO7ypcHmUWi3IR7AsgkPankBeY51cw9XzQybyiincroTxsRIwujJmInQYMXHHzzPA7524lrKx//f/4ln/tkfsO+rf+ktbSQeMg2w6QJRQYKHmAg/lXD6f1iB2YBoBAJTwBwPsyFAZwTSQaDmIy76NkF3F9b/IKH7iu8yrN0D7Scge93fDw2ItkC5HcIyiN5WoQwRsB6YB/YK2DPA1nNHPMh7nlkJdKpLF8jxgzJz/G8iQKguVS/kzKUO9BGCfl3Je4v+xsr1YyU++2r5xQdPWg7lwar36szq1Q6IFkG82CeyZ3ugfhdmXejuhv6HoP1GdZs+yE/7eIbWoapnawCmDkE814+PaY7MzLnySxfLCj9fcCqjbOXk4zlTp1MmTsWcOJrx8Wf+93f/dboMIQTe93v/hKH1y3j5N/6tT58oY8wizt7Ld6mQ5RfDCKEJNKBe92W9vOnVqXQI2rs8pDZfwPo2ErrbIR6C9HYf9hovg3gRRKt9IKwd5cJLwEP4cNkTwCSggPVe5VN/mnhf5RT+/ZwEzledjPDZINMz4qr/DVDiwevt9139HDMADOJ/b+YQwsVnzIlcLwpYch2NAF2vblyMHQUKiM6ocpWnwEah9kH/uLsTiH2QaPMFPycvXQkTP/Q5TpMv+9Lg1BvQtxYmdkB9NUQTMHUUQj+WDPjSFyVYgWVltTxYXVo53Sk/+mZspKRcvobGkkv0jV1jt//az9E8MsKuf/1nhMiDVwjRTH0qRBAoIGQQBaIILAoQ+8chAoJVOStAaAEF1Pog7fPzDRmD2lzoHoV0IbT3YPUVhNYz0PgJD73d56DvY1UFLL1wj5VNgr0OTEK4E8KSa/AqSS+Z5cAp/Od5BK9SwWwYWgY0mK5EQQ1ILrqs7kGtADI8nLWAdvV2AjiKh7EIs7l4eF9ACP09fnYi75wCllw/dhSvVgxe/HrlIQgLzh5MmU8fy7LIe3e6u6G2CbPC+6wad0PrNU8UFvsg0fomb8jOW5DMhcl9VfWqgNaYV6+yvNo52MHyArqlnznYLsinSrqdhOZ44NSpgr///L9+F1+cd27b//BfcurlNxn73vN+iHSUEEWRh6sIQjCYymcCVRkioulAFQX/xRciLEy/n0PoAAa1hhcYuiNQWwDZKUjnQ/cwls4jtL8P/R+Gzvch2+mbD4iZXQaqWFHNwtoPNKp+rPOM6LCqoqEqxQ3HbAI4BBzDw9Ac/IirecDcq1rS8/A1vUTYAIbf9rULvEI2BpwEdgFvYjYALAeWEHQck1xnClhyfVgOnICw/hLN7U2wET9QeFo56cfi1LZV/UG7gRJqm6Gz06+TrobJv/SgNfUy9G2AqVehbw1M7ILaSggTMHkEqGHpkIewMvcz+7ISshLLCsp2TtnMyTqBzlTEqRMld/3ePydt1N/FF+idCyHw0a//K/7qvs8wcfwocVwQxQlRfEbIigpClBGiQBQiLPZwNRuwAkQxFkpCVEAU49UEg9ocsAS6p/zcwuy0T3/PJ7E49UpWusZnk0XDQOSHeJenIcz1+7Hn8GrEoqpydZ4AZfvB3qzeB8JHfFyEXDdmGR6ojuCVpBqwClhGuIaT+X1ZcKi6rKqqaKfxytabwC7MFgFLgfnXbROK3Nr0r5VcJyN4VeNShzofBBIIS2c/Vxzwz8Urq16svZCuxkLdq1e1ddB9y68bz/Xg1Hc7FK9DssQntU8dgPpyaE1BZ9KHbJJCUVWwitKXCDsF1i0pWiVZJ6Y9GRhrx2z8zz/2rrwqvRLXa3ziyS/xFxv/IRPjJVFcEMUxUQiEKCZERggesogDxIEoDhBHWMgIUQRRBlGE5YEQckjn+GHY+RTEHRi43XdopoPemG5eHbS4IHT3+c7D7rM+/DWOoPgR0A/RsqqRvQucqI5IuttnlZ2ldsb7Q4B+SV4Pvlw3gvdLnqw+Ox+4G1+Wu/6b0b1atghYhFkHD4DHgJeBPsyW4yHwxvxPkdycrv9PhtyabATov/h5dGZVc/uysysc+SFvog6xV0XKCa9YZYe9ulXf4JPa6+ugvRuS+dDa54Gquc/7hiz3g52TIYgbvmTVmagOQ65ahkqrglZBUQSKLCLrBOY9dO8VPdWyLGmPjL+DF+nqNBbP495/+V/RahY0pwpazZJWM6LbCmStmKwdUbQMm/JxDdasdkxmfmg0eXW4dYlXjgzojEHZ9i+QzPP30xXQPQD97/eZWfkUFvqx/LTP1CpLn59VAETe9F6cBG6HsBWogb1xbp9WWArRR6vLg1omvA58GfBFPKg0gQ3ABwnhXkJYdEOEq7cLoU4Ia4GHgPvxJct9wA8w2+GbYESugfP+dHz+859n7dq1hBB46aWXLnjjP/qjP2LTpk1s2LCBX/mVXyHLsgteV2SGGd4Ue4kjZewE0IGwavZz5TjYhB8uDJC9BaEO8RLo7IB4ni/zFeMetFp7vJm9exDSxR4IuuNQXwad09CdwEIKtWGIUp9/lRd+VE5eVkuFRpkF8izQacOmz/3sFT3dA//o78PXP8vxzzzKUw9+ktM73rqi21+NO/6bnyNZtJBWs6Q5WdJulnRagawd0WnFdNsRRaukbBU+E6vlc79mDrcucii6PuW+MwZFdbxNqHlwiof9c/EQjP01xMuhtga6R6CMsTCA5VN+YHYZec9W1gZiKF7wQbFsxneaHZp53GYlZicwewWz5zF7C7vQ0Tpm1RLkK1A+BeWPwY5ortZVMGtj9hrwLL40fA/wECGsJoTaxW98g/ANHsOEcDvwIXwkyDHgh5jtq/q4RN495w1Yn/rUp/je977HmjUXPnh37969/OZv/iZPPfUUu3bt4tixY/zhH/7hu/ZA5WZS7QgKlwhY5SFg8Ozm5/wgkPpgSys9YKWrMWtDdqg6lHiX/8LPRoHSA0JUh/ZItevtKFjkfUNZ0z/fbflutyL3qpUFyEusNMqsrHJGoNUqWPZTW6/o2a78tbupv28LC/7BRu75QJMd/9k/uWYVrSiJ+cD/+t/SbllVwSp9VbQKWd12RN4Ofnh1K6dsVkcCdQssz33XYFFghWFlycycIiugtRcaG6G9D+Y+Bn1boPkMUIdkmW8oyI5WoSyGfNQn6Id+79tins83K3cBS8F2+cwsOwn8AHgFH90wBuzGfzGePPdJ2mtgL+EHhk8vO24He8p3KcplMysw2ws8jfc0bQEeJISF7+k+phASQlgDvB9vgt8L/AizI9USqEjvnbcH65FHHrnkDb/2ta/x2GOPsXSp98Z87nOf47d+67f41V/91d4+QrkJTZ8/N/fCV7HSf9FG62ab4M2gOOhVkhBDfhSsA+la6O7366SrYfJpaNwOrd1QXwmdA9C3Dsa3Q6P6X2zzKNQWQRj12U7dKa+wlGVVEQnVW8CqiQUBojhQZt7PdCmvv/46L7zwAguaEZtXdFjZ7VA0jWazpDZ87WY9Lf/oNiyKKQojy4y8a2TdiLgbvC8rNohKQjW6IcSBMoKoet0D008+YKFDmN7ZxzHIFvv3IB/1uVjt7R6CQxfSvuq2ERbiarAoXoEMwxDfCbSheN4nxocGhON4/wz47sPEK5TMqT5++26y0x7ArVv9uRFI8P871vAdaHIpHjKOAHvwitVKYN1VD/f0AaNNjBYefjtVj1RZXaZnX1Xfa+KqQtYg0PC3PdzY4DsLN2G2An+urwMHMdtICPN69nVE4Cqa3Pfv339WhWvt2rXs37//krcbHz/7f+71ep16XY2HtxQ7BQxcYrjoaSD3MQwznxv3Ruqk6oHKDnqzdDQPus9DstTPHrQOJIuh+zQMvg+mdvuylRV+3Et9EbT3Q5JDOuBLgmT+Z+azdajGc1YTCwgxRAnU0oiRl3ax+OE7Lvk0n3jiCUZGRthFg6cPQ19YxtJGHwN/byndLKOvCmm7/+8n6Fs8/K5NhA8hkA7NgWzSf50ZmAUsjyhCjW6zSRT8F11SdLBuQVTN/YoGaoR2Rujvgzk5oV7DshzKPm+En3oFkoa/ntkuiAcgLghJv+9KDAlE1Rwum/5lCoR51XE5g8AjYMd9udDGgO5sb0+I8KGVcbXb0P/OeCB4EzhYXW/m2WIsA9YSQt/ZL4SdqP7unfHLPcwHlt7S/V0eeF4DRoElwPp3vCPQrINxArNRjAl86ffM3roUn4cVARGhWkSxmanuRdUjdcZtrI/AsC/3MRcYvureL5+XdRdmo/jfoxcxWwxs0XgH6Zlrvotw1apVZ338xS9+kccff/xaPwy5XqzE+68ucTSOncArEGcuDx7ClwcX+f3kByFd51vH86PQ/6A3W4e6nzGIVf9OB8jHIV0AzUNQX+q/+KeOYPGAh6wsx8cHWPVL/Yx/4GMfyBnFRlKLOPw3z15WwLr//vt54oknZpYg2pawb8EioGD77/wOa9asYeXQAkb/+/+F2niHH9LH/f/zr7PuF3/ysl/Oy1WfP4gdm2R6SnteQJEHonZOvHAB3fZpzDLK3EiynGR6uOpURhhIiQZyom6GDTQIfb50aFEg9E9vEHgDQglpg1CbgyUpEEGYrlEY0+NOg9X8+1s8B9Ht0H6ScyZ3hwiiGoTC7zcaxZet7sCYB7zmPVrMw9PVdHgrCBwnhKNVlWKt/8K0MbAfA/34L/kqRNsbwC6wFRBWe2/ZeZgdxY9ruUjV9T3Il1xfx1/DrVdcxfG/25OUdgzjBB6GAQYJDBLCsur9fqB+WcHI79OHixpNzCYwxjDbje+USAi2iBAWE1hwVYEohLmYPcDseIdnMLtD1SzpiXccsFavXs3u3btnPt63bx+rV6++5O0OHDjA0NDsL01Vr241E0AOYeHFr1ae8uuc2fdRHKl2D0aQn6gqVSshPwIYpKug9QTUVkDnLV+y6h6B2lJo7YfGOp/anrehbwmM7fNlwVDzkNVu+dJgCD7NHCAEQhoRJzlJrWR4YWD3H/8Zrc/9pzQWX7yH7AMf+ABbt27l+X/+GQ4Oz2NPMo8s9h+5sizZu3cve9kLv3Q//aebDOwZ4Ynf+Df8o4/dT9/88wzdvApz1ixh8tgRyqLEyggrSsoyoihjsrE2pVlVTSghBKI+iNMAaVVhyA3rFoRONQurNEgiSGKIY7A2pP2EJIU4mZ5o6s/VfPOLVdO7jX5C6PpSYfkjSKolvXJm+6Y/6LJqUo9rfj5k3A/2Mn5GYrO6zxPnebaDBNrAAaCJ2Rowr3QFMjxgJdXbDt4T+JbvLA23nXNvXuHZXn30U+/0W3BD8QbvN/HRCwuA2y+7ed3MMEYwO169/i0gIbCQENZUb995I7z3etWBulesZjoESmCC0k5gHMfsCBAINp8QlhBY8o6+rn+9ZZjNw7/PL2K2Cq/k3bqVTbl67zhg/cIv/AIf+tCHePzxx1myZAlf+cpX+PSnP33J2w0NDZ0VsORWM4r3W1xkersVwMTZuwet40uE8Sb/uDgBpL5rsLMHogGveOQnfWJ784fQfydMVMNFp/ZXvTxAZ9ynkAN0JyCd5zsI45r3DmGEKMJqdUJSEBoJyUBJPfddR5vujPje+/4hD3/nf2Nw3cWP+Wk0GnS/O8GdC0ZYcDJm/b//Ejt37mTnzp2Mjo7OXK85r5/m/f1w/0p+/4//kE2bNrFlyxbWr19PrXb1u7Z+8mv/kpd+84/Y///8NcVYTjczQpQQxTlmJdGckvpAQVovSeclpBvnEi8cgFrsASgOBKuqC3EfRBEkK7CJU5AXhMKgyLAi840CaZ+vqUZR1csVPG+ZVeFnNQSj5Ahl3Jnps5nu+vLr4f1eBkSb/Db2Y2B0pi8u4kK/AFfi4ekEcKq6Yz+bcfbQYfCz7JbjldIz+rssx6sxNQJ1jIfhgl/rvcWHcv4Yf35bgOWX1cBulmMcorT9+MiGPgKLfFzDNZiH5fc/TByGgY2YtarlyGOUth14nWALCWEtgXlX3JQfQh9mW/Fgvgc4jdnd13SAqtxcgp1nC8VnP/tZvvWtb3H06FEWLFjA4OAgu3bt4jOf+QyPPfYYjz32GABf/epX+e3f/m0AfuInfoKvfOUrpOn5y7Xj4+MMDw8zNjamgHUrK1/GzxXcdpHrjEDxNCQfnN1BmB/2nqq+RyHqh6kn/Tds/yPY2Ld8XEBtDYz9fzD0KJz6K5j7cTj5LZizFUafgf67YGovTByHgQ0wcRBrjlThrAHNUZgYwdpd30nXzrFmVu2wyyjGMrIp6HQi2uMxe3cYtuEOPvzn/4ra4MWb1k++sIN592wgTjxImBknTpxgx44d7Ny5k4MHD573dnEcs379ejZv3szmzZt78rMz8uPdPPtP/y3Za6+yen0f9X5jaFGHgQVGvLBOumke0ZqlhHmDPsE9eKO7FQVMtiBaAPW5sOLDMHUMdv8l9CWQ1qCeEvrqUKt7yErqkKTQNwRxCqFOiBvAICULycqXyMs2M71ZAASSKCUONaKQVMcibvOQXbzgO0CnG+2j6UpZ8EZ6IIRhCPdgvImfX7cFsxGMgxjdmUpdoABSQtiMH60yXSppVpWy5hmPKQLmQdgIYeCqvwfXi09ifxk/Zubey1ryNOtS2l6MA/jrtoQorMaPwzl/iDErMCYobRxjvApDVZM7/p+YWYFADQ+zNUJoEBgkCkPVMuOllwC99+t4Ff4mgWGisI7A4ne0+9FsEg+hBXD3Tbc0LL1zsWxz3oB1rR+E3CLMfOs8KyFaf+HrFdXW/eRjszvPuj/2JcLGo76MNPGXUL8Dq22E038G/Q/5TrbObui7D8a+A0MfhZG/hsZdMPUmvrSUwsgb0LcKig42ug+KCOoLoDMFo8exdtsDVifHWjnWzinbhY8xmMrIWoGsE9GejDl9LOLIgYyhj/8EH/zj/+4dvzSTk5O8+eab7Ny5k927d19wptyyZcvYvHkzW7ZsYenSpVe1df6NP/h3nPryV1mwJLB4XYfGhn7STfOJVi8jrFgJjeGqmlgpMmiOYRPjkKcwPuobA8oSa2f+fUliv9RrhIEG9PUT+mrQPxcGFxLSPixKsJCSWZNO0aTg3HlVETFJqBFHdZKQEoWUUOSEsuOjHqaHkk73zE0vS0ZpFeRqWKhXVZdhSjtIQY4HhBoRVr12gYiYEBYAdxFoViMfYgh34UGgqnjZQXw5bDmELbN/N98jzNp4aGgD9xHOd/bjWdcvMA5Smh9FFVhDFFadu3mAKoQxSmkjlHYcm9kpDIE53oMV6gTqVZg68++tYXQxOmBd77tiipmNJgwQhYVELCAKcy96oLMvX57EbC/GaWCAKGyuli2v7GfFm+1fxXc9byaEFVd0e7k1XCzb6KgcuYbaQMZ5D/U9k4377rIzf4GVI145AR82Sg7xQshPAwbJQmjthHSpLxMmcyEfgXiON7jXF8P4Puivgl02CWn1OIpq92BIzv53P0RelSkTghWEbIoojYhyiHNI68acQZg3P+XIX/1HDv3Nx1jx997ZTsCBgQG2bt3K1q1bybKMvXv3ziwlTkxMzFzvyJEjHDlyhCeffJKhoaGZyta6detIkiv7cb7tv/4k//5Lf8Zge9KzSSMhNGrQV/fnHaIqyFT/B4tiSFJCmsJAAxbP8z5xSl/KyzOfm5Xn/n6WQbsNnQ50ulBm2OAiQn0QS0LVB1Se97EZJSUlEVa938UiI0Q1QpL6t6mEYAVYUY2OMF/aK6tlTJuo7qva8FB9La+gpDNfyS+jwG6MarMDGdiL1aiA6REC04/1BLAOODdo3IhmRzC8iT+PbYSLVOE8pByoglWXwAqisOmcY2ZKm6S0oxR2BGN6uTslCouIWU0UhqsK1JX/mvFwN4XZOCWnKO04Bft8aZgBorCUOCw5ZykwhEBgEYRFmI1S2A5KewGYS8RGorDgsh9DCDXM7sNftx3VoNsN7+l5YHJtKWDJNTQ99PESSyw2yVnn0pl5qEqr/0EW1T/m8TB09gHBDxUuRnxqe2ufH4+TnYJkAXRGvWJVdoBqd1regtr0DrTqa0zPZJj5uqWHhemjYwz/5V3NW5q+Sa0vMDg35u/+wW/yiWf+kLlbLr3Z42LSNJ0JTmbGkSNH2LlzJzt27ODo0aMz1xsfH+e5/5+9Nw+y5LrOO3/n3puZb6utq6qrq/dG740dBIiNoECC4gJSkimaWhiUHJJl2bQlhcczoxlPyBEOz4zt8Sg89kia8IwkW5ZsjUKMkUSKFCXuBAlQDaCBBtCN3ve9q7r2t2bee+aPm/W6GgQBciYMy2QdBLrqvcr3Xr7MfC+//M73fef553n++edJkoQdO3awa9cudu7cSb3+neVs/dDRP2DuxAVe+sQ/Ye2p80zsXaS6cxq3/Qpm3ShUsihcdwZRRWUjMrYX3+jiDQQt6PkOvdDFiCUxKVYSHBbXXsQ0b0DehdzDwPvgxp+htSUkq5GmNZwbpMATtCD0wQ5YSXHydkRyCl4FzQkhp/AdAooVCxissVhJSUxyU7Nl9gHrkfBNkBaG2EY0auLM6BX7WKggspkInk5DmfkVQYlHaSMkRNA1VLIYw685TlpEF1pGdCnWgeRWg8Z/pooC/aNE5+4ksPMNAY9qC6+HgNkSWN12C2Ok6vF6Aa9nS+BqMKzFyj0YGYlsVfm+VXOCLhB0sWTPclR7KMvsrClz0my5HyoIVYzUSxA1CDKILR3Hqt2bYEvP4/UkkOFkC1a2fgsAFBnG8naUaYKeJOjzqK7DyHcu6I/Hym5Uq8BJoEB19yrIWq3vqFYB1mq9hdUkHnJv4BzVEJdbScdrk6jbKhmnMF9mKKXg56OGStugOdg1kL8Itd1xHmFlMzTPgdl+8/ldA7pTgInCdpZbTub12z5auuaComJR71E1qI/nUOeEWtVQy3L+7KG/w4de+G0G30T8/p2WiLB+/XrWr1/P448/zvz8fJ/ZOnPmDN7HFl6e5xw5coQjR44AMQ5luZU4NvbG7ZHhnZv4gS/+Zv/2qd//POf/4a9z284zjO4Sko0D2HUNzO6tIGcosgo38gWWCs+NjnBpKeFK21CxgeG0xUCqDKWeDTUYG91C1pqDzhIsHkVvTMH8dBTOJwkmTcmyGqR1SKvgUjStEkSBgwQdJgSP9zktf4OWL1AFawQnMQw1kZSKa5CZGtY4hBwJh9AwDz7vC+dFDGJsDKKXMpFeAsIYQQ8BdZQGQW8AzQjGcKVIXxHaRCH8SJnr1QM9QxzxYyiHLZZVIc7tm/jPBrRUbxDzrQxwF/IGzt2brNVxIMXI/bewPao9vJ6l0DNAD8M6nNmNYRwRVz6+SRFO4/U6QWdROiteIUVISmCzzB4GFIVQoHRii7BfFiPDGBnGyhhW1iKSYVmPlfW40sno9RKFnqLQkxhZj5PbMCsuzpYZLWEM5QpBj+L1aQx7MSsHyL9JiWxGNSFGWhRllMN/WS3i1XrraxVgrdZbV9ok6qDe6IRTBhOuZLBCma1jyvvCfGSvAPxsdBIWM+UyA3Hgsx2Kmiy7N7aNtHxNn4OrgYZ4kjXllayGEly9HsAq/1FQH0AFLZcTiRpulxoGhyxhruCzD61sBJYAACAASURBVPw8H3z2/2TwtvXf9SZ6sxoaGuKBBx7ggQceoNvtcvr06T7garVuirIvXLjAhQsX+NKXvsTIyEgfbG3evBn7Jin02z/2XrZ/7L105hZ59rGfYMuOBYa2zDEwPoLZuJ6m9Zyeh/OLFc4tGc4sCItLCc4FBuuekUwZyxI2Nzy3r7nG2toQ1foajO9h3Tb0xhV06gb0om5LjUWGBpCBOlSqSGMNZmgdwSh5uEzPt2gXTeZ7MJcnmBgqT2oCzig128FTEGxOSh0nJ6LGKgSk6EZx/nIal3GIdYhx0eXoFNX9IJ6AR3Wm1GotV4HXLk6SaGbUE4g0QdeCvkIEVWMge4nMZgtogp4HPUx0pN3HWx1kGkXarxLdure/IWOj2iXoIZRphE1RsyTLZowcr2coSh2WlU1YuQ0jDVQDQacowlV8uILSAgQja3BmC0YGEBnE0FjxfJEZBPMtAEU1RKClS3idI+gcPlyl4FT5vONYGceZ9fG5GcXIKE73lKzaGXp6EcMkzux8HaC1HmGUoK8S9CVUr2Jk33fBZk2i6oi6rJdLh+H3hrN0tf7T1CrAWq23sFrE9skbVKmbuUWnpUvcwnyFRXAlePHzMZbBz8dltDw5SkoEaq9xIIWiZK3gFsbKJuXcvfIqWoAkg1zBBpbP6jHVXTHiMc5iMyXxgWrNoGoREebnunz23p/lnn/2CXb9zQ9gs/80w3GzLGPv3r3s3buXEAKXLl3quxKnpm7mQ83OzrJ//372799PpVK5pZVYqXx7HVFleIB3vvJZjvzaJ5n9w99m14bTZONrsGqxon2gY0sjn0jcbNH1B0YiDF3sLXIhn48QRyAfnaC2dh2jmaNq6mQ2wS7MIK3ZqN2au4r4HDM0iTEWQTDGIOKxomg/WPTma0k5I9FrTsBH16MFY2sYsVgxMdoseCSUTJN6CDUwTW6u+beW9O9fBgRJqTlKibrC6dK88dpnMMRRPW8dgxUBzHliu7MGfHsAEVmnKwQ9AhiM3IeR8fJvy8DqNOCxsgUnO4GUoNN0/GG8XgMKhCrWrMPKOgxrCCwSdI4izBL0AoFm6fIriIGyy74qASyCQ6SKoYpIDSMNrKwhMbch4gjaxIereL1KHo6Sh8MYhrBmE85sxEgNJ9uxug2vF/F6gl54CsMEzuyJrcblV5QMwz0oVwn6Kl6/ieWu7zhYVGQc1buJZoFDJchaZbJW6/VrFWCt1ltYHWKo4RuUNoFKFJz372uVLcFyPmBogalHy7m2wQ5Afj2OadH2a55wef6dlmxV6D+3iEFDCciSGvRuxJOuWBgYQfIAaiF0MUEIEjBBsL6H+kCiJoYfhigGVwxiBGMEO1/w8n/367z4P/wmu//eh7njv/1xsuH/f/Z+3+1x7enDLJ2/RlKv4hoVXL2KdRHhZMC9azbz7r/9LubKVuKxY8c4d+7czTT5TodDhw5x6NAhjDFs3ryZ3bt3s2vXLtasef3g1L2/+FH4xY/ii4LD//DXqZ38Le768Dj33n87xbaNdIww75fohkARFK+KCExkCUPZh/nD03/GmUXDjTZcvp5y/WgGTpnc1WP7ZIdtgy3uHvXcOb6FSrsZB3C7fcjsVTK3QFYbpuEGGDSBvNImrGCYFHCSULH34LlKL1yJsvhQ0A1dvAacGJwkWHE4k1F1Daw4RAuQYcTcBcULWOmg4rC4kmWNTcKbo5PqiOwlztN7pbw/rIALUgL6jMgc7fzWiAFV4BpR07XMmFoiEKt9V0xXzLOa5iZoUW4Ox95MDMp8/ZO/qifoKyjXEG7qklSVoJfJ9TCQl8BqO5BR6AUKf5LAPMIgidmFkQlAKcIluuEoXmeIDJUg1DFSx8ooIhkirtSzLRsGQjkiJydou9R/XScPp8u/C0aGcDKBMxvIzG1AwOtVinCRPLxKHg5hZSOp3V0uuxmrGwl6iaIEWlZ24GRnn22KbNYkwjBeX8brcxh2IGz7jrRVImtQvZMIsl5F9fZVTdZqvW6txjSs1ltT6kG/Glsp8gats+IFoAD39pv3dZ6JTFP2EIQ2LH0aqu9ApQYLfwoD74fWS/E10q0w90UYfh9M/ykMvxum/gIGHoD5V4BBsBlMvQyj96HXX4xjcoa2w9QxaC6glTEIFp25ijZbaDtHe4HQKeL4mHaB7wSK3JJ3DHkHip6h1xZ6bUO3o7SagXbL02kr3W6g1xOydaOMvX0v69/7APWN47Su3KB9ZYb21RnEWSqjg2Sjg6QjMYRVC08oPM1L05z/o6eYP3QKawLORRDnHLhESJyQVQ2VqiGtQHMxML8o1O+9k3v++d8l2zLOyZMnOX78OCdOnKDb7b7elmd8fLzfStywYQPGvPmV+dk/+jJX/9d/xc6Hewx9aDdm+23o8DqWKhAoOHC1w288O8j1IynjpzrUmjmuUBDwVuhkjtmJCtV7PR++b4n3b1QmbAO7MAWz0/FFup2o2Uor0eFYHUCyOiQVNK0TSkzS7C3QC026IWe2CzNdSx4MmQnUkkDFKnUHA65C1Q2S2RpGQcIGND/Wj36QZbODcWg/ld4hYlG5F9WDBDplsrj2/xNMKdLOENqI1IntuRJY6yJxNM8Cy+DsW6sCDICsBcZfF3BF9+Ul4BwRqC2zb6Z8/K43zW3y4RDKFYzc2dciBW1ShFcITGGYJDG3AxW8XqTnD6G0sTJBYnYAdQo9T+7PEVhESLEyjjVjWEZK7+civi9yjwyWUqBaIFhEkpK9yjAygJVBjAxiGADaeJ3B6wxFuIrSQajgzAZSsw1r1qCaU4Tz5OF4uW6TJHYPtmSjVD2FnsTrCYQ6ibkbI7deRMQ25ymU0whjGLnrO8rdio+dIrYL1wF7VkHW92mtxjSs1l+BWj6pv4m1XZtgXsOkaAvM2vh7aMafpg6+1GbZgXi/GwXfiu3BUApsl/OSgo8ZSWFZa0X8GXJIykgI34FsAKkMonNXwPcgSZF0EHqKkXmCicyDCTlGFZdGN6FqIFWDSECM7YvfsyzQ6QjdjlLM3+D6577OlT99ilKbjhiD2NK55pVQeJYveaT8x1rBJVCvG5LEkSSQZYYkNSQJVOqGSk1JMsU6GB41DC8Icydf4Wvv/Dl6knHvr/4iH/mpj+C95/z58/1W4uzsbH8zT01NMTU1xdNPP02tVus7Gbdv3/5t0+S3/ui72fqjcXzM/g/+LHv3/TnVByaovPf9LCQF+6dTpg7W2Hp0FudXXMspuEJpFDn10znTi1X+olZjIGmzc2SW9YMVqkN7yAA3dRlmb8D1KVhoxsHTjSpSryFDI5jx2/DOUmiXtu8x3bHM9Cw32o5ChbpT2t5TcUrHe6DdxySpqWLsRSBDuk3wBUqIZJC1iE1jxpZxsbWsz6NSENTfwqTFtxSAJYRuqddqIvI8qo8g5KDPxTfOUAmglqso2+ALRJa3Q5zFCfCu1zFevFgu6/hu5weqLpWA4ipG7uiDqyKcp9BXgIzEPIBhAq/XyMNfEnQ2ghfzMIEmXX+cQq8AlsRsIJU9BM3xOkvXn8LrHMttQEM9giZpRDZYXGSOUYQCJSdolzxcoNt3GVOyUaM4M0rV7QZ6FOESebhIHk5hZITUbCUxW3BmWwn2jtMpvoKVTaT2dozUSGQ3VifJw0v0wtNY2Y6TPX1mT8RgZSdBRwj6El6fxfK21836em3FduFeotYtAXZ8x/thtb4/ahVgrdZbVMthkm+mR+oQ2yUrSjv0x9zoskaqAuE60VZfiYBKKjGKwWQROIkjBucst3yWr/LLkhi3QLYiULM+Dj5AdxEqQ4iroq1mdL4VeQRoRpDUxsEp6tGgqBfQ5ef2IA5jA9YJzhmcC+SF4gslz5WwDDY0ciCoQmIQm0bxvWp8LR8wVkhSg0uFxCppZkkyg3OCc0qaKjZRTBIfZxxUasqgtxS50m7lHP5vfpWXfvnXuftf/AK3/cS72bZtG+973/uYnp7ug60LFy70N02r1eLgwYMcPHgQay3btm3rs1vfjoF+8LP/lm6zxfEPf4Qd+hdUn/xB9g52+epkTvNiQq1VYLyWmVXRyRcMeGdYGkvZMbZIO4ffPValKIQQeoQAtWQNd44Ps3M8Z33DMO4a1Hs96CzGoNMrJzBrt5CaKrnpUrOBthGqLpAHITGKM0oqgYoLZNbgpEZQT9cvAhLhQOawUontwzLv3fhoFRXS6CQVj4gp87mWW4dlLAGKwRHn8lG2pDYBPZQZkPGyhd0CPcVNLRLcbBXWyiBOQ5zX+XqsyFbiDMEZ4ty8rfAG7a3IHk2XswOvAxWM3I6RDSXLcwiv57GyGSe3A56ufxqv1zGyhsw8hGeWVvF1lHYJbm5HKcjDZTpaitCJDJQzg6W+KydokzxcL7PH/C3rJbgyuT3DyiCJbMCQgkAILbzO0CvOAIqVYRKziap9GJUOuT9Dxx+k418mNTtI7W6c20wRzpKHI7SLSzizndTsxsggqXkHXk9R6FGCTpOY+yLoW976MobwIF4P4HV/CbLevKUvsq5Mxz+Bag15I3Z+tb7varVFuFpvTekU6Msgj5UC9NdbpoDiC2DvBlN+UWmA9qcgvRfcVuidhs5zMPBRtHMIOkeRkR9Dp38XandDPg/dS1DZDgvPQ+MBmPk6NO6GhaM33YkzJ2DsXvTS12FoH3RmYOYsDO+GmdPo4hwM3YYuzqA3rqI9IB1EOz3C0hLa7KDNLkVPCbmhyGO6u88NPhfyrlD0hDyHvAd5VymKgC8gzwNeheA1grNlrLXi5/K5UgSMFdIEkorDmsiMJTWLs4IzgbTiMZnBGc/Qxz7O/O//B4ociq6wtAB5TwlBCR6KQul1Ax1vqe3Zydaf+gATP3AP9U1rabVanDhxgmPHjr1hmvy6dev6uq3Jyclve2LPu11e+rn/nm2bT1P92MPMrVvPczM5XzqT0iwSsszjrGIt7B0O/PCWd/Lxf3+A+guetOuxRcCWQDRPDYvDGe0dlp37mvz0HR3uH11LRkAWp9DKe2D+UzA8SUgqeGPIQw8veWzglUGkRhxVu4OAoe0P4dXj1dMpPF2vpEbInMGJw0lC1Q6S2rWY0I2A3NwPxYuozPWV/bq8o1gWxFuiW/ZOIrPxl0QGV/ptxXLv9rfVzW24POh4DBgnZm99ex1VFLSfIWob993S3gp6haDnoJ+qPoiRjQgbIoukbXrhAMo8Tu7Emc0EnadTfBOlIDX3oXTo+kMoPZxsxcgAebhAodcAh5NJRFK8LpKH6X40g5EBDDWMpHF76IoDGuLFiICooOIJ2oqZWeV4IqFCaiZJzFqEBK/X6YVLRF3YGBW7Dyuj5OEUvXACgNTsJLO7AEseTpCH4wgpmX0btmTAg86RhxdQOji5A2duzaxT7eD1ANDByn3fETsYj63jRNB7z3fFKK7Wf/m12iJcrb8CtcxgvdEht9xGXJmT1bv1Pu0SQxxNZK1MFr/gtBdZrpBHoXEobjJUffZKY6vHd8CtaAEkVZibgdpasDayV4Mbo0WuOQ0uRYYm0PmZOK+w8JAmiM1wvUDR7GAjD0XU1ZTtBwsmMVgXJURFYfGFkniDFvGkr8ZGuW+haL89GFmRKAOyWImrZZzgMovFk1YdJuTYTDBWqO3dTXHlEo33P8nip/8EZxJ0ao7aQHT5mQSSRKMD0gnGFhhzBP7iVdpfigNgVCG7LKwzO/lrf/QvOH/5Ul8ovzJN/urVq1y9epWvfe1rDAwM9Jmtba9Jk0+yjPt/73/r366qsuPX/g13HfkkG35uF9x5D2FwhFcXZrjaSfifn/86o09bKp3IdCy7DgGqbU+13SJchaW/NPyjvaO868k5fmJXwW3DE9jT/zEaDS5dQrpdXJLiKgkyMAyDw0ilgWYNQloBpmh1Z2n5Ngs9ZabruNHJWCoMNRsYSAMDScFg2mUobdPQDlW7BqtN6H4D0fnYci6z08TE/zFp3FEEkAXgKCprUO2gbAXmUWZKxkNuBVVaQagQXXUpIlPARcChugWRLeXxnwMXQHOkZIVUdhFdg8+VrrYBgl4k6OFyRMwdoMMEruF1CeUlCB0C84AlNY9gZCQK1f3zGBok5g664RBB57CyESvDdMMpQjiGYQ2Z2UehC3TCOaDAMk4i61EUr4sUfo44qua1tcwiv5bNykjMKKnZhCUDCnKdolucBSA1G6ja+xEMvXCcZvEURgao2H3U3QfIwwl64Th5OEVm7yIxe3BmC11/gI7/BonuJDH7MDJMat5JoYcp9CU0zOPk9hUtwwqWtxP0RbwewHIfIq9v/uivuwiqO4ku6VdQvZ83GuezWt8/tQqwVustqhxwr6MnWVH99t8KgKUlwFpmvbQDpnLzb5KVJx0isNKibA0G4pVz2cIRE9uAJoXeQpmFVWpobAp5E4Y2x78BMjCGTp2M7aGxzehiCa6qdcxAjbC4gM4vQM9jXAo1A93lk24AsUhiMD3FiMZWYS54b/BFIGDxvbK9aAzSyGK70HtC7jGJi9qsogDvcbUUE3Jc1WGCklQM0vO4WgVbqZGfPUW6ZRNX/9bHsMOjhBtz2ASMie1DmwZcolinGKsYp4hof4RfJE4ctZHAwOUTPHXHR3jk6d9j5wc/yJNPPsnVq1f7rcQrV670d8/i4iIHDhzgwIEDJEnC9u3b+xEQjcatLRYR4fZ//AngE/Q6HY596EfZ9rhl3994P+3U8OrxNazvLtzc9QLBCCqCBsUGxSikeWD8ZJsXz9YYa7TZMzTNmtG1jGcJa7ZUcZ0etjUfDQtLi8jiAuosUq9i1t5GqA/htUfLKwuFYyF3LOSWboCgFmMEI3F9M1OQmhbOpGAqmNTHVlDRi5lqGiB4VH2MgVAbNVsqYGdBZ1ECysn4nlTxFFEU3he6K9BGiQ7YqN+6HZHr9Ef46IaYJaXHianx9JeNn4MaUZd1GtW7CHoMsIhsQxjBc4JCj8X9wEgJJDaXDkFDt3ieQs9jWItiaftnEIZJzO30wml64QxOJrFmnG64RLd4sXQIjhG0Qy9cRfUykGBlEJEh0CEUT9Be6Ra8mdQvpJjlGZPEeBOvOUVxjlBqsZysITU7MOLIwxSL4WsICRW7i5rdQx7O0ir2Y2SAqr2HunuSXniZjn+ePJylYu+jYt9BEU7QC4fx4TqZewgjdRK5GwlDFHoI1TaJua+f1SWSYHhbCbJewPJAfD9vUJERvAM4wE2QtZqR9f1eqwBrtd6aUk9snbxRLYuGV7h4+rlWbsXtlb+XjAF8e8YqFGCqUZ+VNGDpLGTj0J2HbOTm46vDMH04sldaQHcRWbsTbc5CcwYZ3wStFnrjOnhBxidhbgazsIQWgq0NEjVkHojASyiQsjVlOgWJzShaOVQqFJ0eoVdEaU9FEGtBHRoUsQZCIHQLJAhpzUGvwFaiV825AKq4wRo6N40dG6E4e4LqQ4/SO34UawokFfDL4Arc7ffC+Vdx23aip14mfeAxwivfwL7nJwnPfyrqiyqBEVdwV+o58IM/xaIbZcff+zF2/MyTTE5O8vjjj7OwsNAPNz19+vQtafJHjx7l6NGjAGzcuLHPbo2Pj9/SSkwrFe784p/RWWpy7qd+nLv++eP8rXcq//7UEPUrPZJewHjFhJsn5WDib4UzXN9V5dFNLb5yLOMzSw2KwuCbivZgcNKyaVLYNDzIriHPe8brNIou9FowexHba1NvjBDcLEZzLD0sjraPafSNJFB3gXoSqLuEzGzC6wLeL/bjLpSAOIczKVYsws2sLVEb9VZsB44j3ECwkZcUjW0xlpVfK1uDy4lbgshxoiFkDTBRpqUXRBRX7R9jlML6mDC/s1xWsLwNr68S9DmgjjCJYR2B66Tmvj7D4sMMXf8cQTuIjJHrFdCUxOwg1yk6/iCWMYxM0AkXUQ2lS69CERZAm4gMoAxS6BJBc+BGycYl8fMp5qY+sXRuCILXgNBB6RG0iUjctk4GScqpDR1/DqWFlQap2YUIdPwJ2v5VMrOVqn2EXM/SLL6OlVGq7l4Ss41OcYBm8QVSs5fM7sOYtXSL/bSLr1CxD2HNGM5sRbRKHg7QC39Jat7ezwwTsRjuxevzJZP19jfVZIkkJch6njhWZ/cbLr9a3/u1CrBW6y2q7wZguW9/X5+hgmWm6PU0LYiNoE6S+NomhdCLY3LyRWjshtnDUJuMswrTgdgSVA8jW+Hic9BYB1kG16aQ8a1orwfNG8joeky7RZidgqyGjKTYxSWK1sItIMuLh0opPLeCBI3dTR8g8Vjr8FK2BY1HEnsrw1d41CsigqsKWDAmx2YWocAOVaG9iBuqIb5H5Y59FC88hckqJNs20b14CfEe65T0kXeTrpugc+pg1BPtuotw5FncYz9MOPjnGBuQikMDaGZpVAruqOS0F6fwf/4bnP30/0G3Be2moZU7mNzGe/7RzzH81/86p0+f5tixY5w4cYJms9lf/YsXL3Lx4kW+/OUvMzw83AdbW7Zs6afJVxp1dv/xZwD4cVV2z/xXbH/7Zcz7HmB+zVoOzAW+ec1waabCfMvS6zjGRjv89G1tPvl0RuNrPUa6XUwAUUU0kkdzRrhhLPurGb/zbvjl9/S4f2w9abcJ5n7SM3/A2Ogko5UBtg5UCcNCoYrKcuhCwGBwpga6h8XiSxTaI6in46FVgBOlngipcVhJSE2Vim1grWKYA8mQsBbx18BIGZDKzX2s5YXA60nYdBSRbSwH7sbMq4OoLqJlWK+WAEuYwMj217SlahiGgbTkjU6VgM6Sh8Mk5n7ycIw8HEEYQHH4MI0zG/DM0wlHMIzgzDa6/hQaLImZpBeu0wvXMLKGoEKhi2iYx8gQqoMU2sKHLtBF6WHISl3YSuY6prkHen2GWgScDJCY+N46frqMZkip2E1YMXT8CZSczG4lMSN0w1m6xRkqdic19066/jBL+RfJzC5q7t30wgl64VW8zlB1D1J1j9Px++n4r5NyH4nZEgdGm4fphWfphWdIzcMszzQUsVjuxetzJch68E3dhSINVHcAx1EdQW5xi67W91utAqzVeovqOwBYupzpY15zH9xMZPcr2KwSOPV9GisdgqXOw5SPM2Xb0WYRpGWD0J2NAvepF2BwG7SmoqPQWfBdZOIe9PxzMLQ+zsmbOots2IXOTUF7ATO2ntBcQJsLSK2Gc55ioQRZ0kXaXbReh6IHVpFCIROkUNQWWJtiQhS6o71oHEuW9WUhnlSzgEhcbayBIsfVKmizjRsZIUxdwY1uRFrz+EtnqL3vh9EiJz9+BCc5OKXy8LsQ7dL5zO+T/cCTFM98huyJH8GfPUg4+jSibaTukGocmIwqdkhJJmGgkiBVi1TTCECzpOz0dAkX/yWtP7xMd79h/UMf4Id/9b++JU3++vXr/d0xNzfHs88+y7PPPkuWZezYsYPdu3ezY8cOqtXoGhUR7v3tf9V/TANYt8bzwP/+IcZ+8d10N2zjyOINvnE94/ANqD+VU29GAB4EgjMEK5gixDZqrqR5D/9p4R8dHuPDH5/l49sT6sVzOFXCmePo9TlILCZLSBt1ZGwNUh2CSh1tjBGM0s6/QbNos5jDXM+y0LO0C4szSiPxNFxgKG0xkLQptEvFDpAaMHoACTORQe11Sxy1IvbelL3Z5dv93w3INDEhfgSVeMIOuoCSo1qUjcUoKBcuYPQSRiYxsoeoBTqMSGR7hR6q4wTpYHQWr1cgHCIPJzCygTxcjq1NbNkKnKBi76Htj9ItrpGYSXK9Qbs4G7Va2iOUoCroAD2/hLKAlQECNXIVihCBU3QPLoeqLn9Oddm3WToyEzLbQLF0QwcfFhCBip3ASUbXTxFok5p1ZHaYnr9A15+jYndQsdtp+1fp+vPU3f0kbKXjD5KHy9SSh6mZMdrFfpr5F6i5R6jYd9DzB+n5A6gukpjbS1fkI/TCN0uQ9cgKkJWWbOD+FUzWm+VkbQBmgaOoDiBSfZPlV+t7tVYB1mq9RXVT/P2my9ziSlsWw5bgbDlpPd7g1sv/sj0YyrT2UNwEVqZ8jCkPeZsBiqQDaG8exu+Hc1+C0Tth9hQMrAffjqNVxjajp/Yja3egrTloLyCbdqEXTwAJsnYdeu0yUhnCaaBYXMQOjEA+i6YCVSE4C0VA6g66imQWKhkm9Ai9UvRcMUhq47qGgNq8vMBXXCaYWpWw2MOkBjEVtDlPtmUj4eoFkr13Qnue3lc+1d8ayegwGENx4CtIY4jax3+B/Gt/ggwO4w98CVkzghZLmKpDKg6pZkhtGO21IO+AI/7NWahE+zzJzZOLdZb6AxNs5Tpnn/0cn71zPw/93j/miSee4IknnmB2dvaWNPkQYiu22+1y+PBhDh8+jIiwZcuWfubW6OitSf/WWiZ/7XNMHzqF+59+iXt/8iF07Xp+80oVl98M6jQKkgeML0/fIgQLtmwzDk53Obto+MZ0j5r1DKyZZM16w/C+lJqtYkPAdlpIew46C9BZQDpNzOhmfPD4oPSCpVChCJGNKgIUQShU6Kmh0IDXgqA5gRRkAbEu7k+bIhpAQwQXK83b+prjWFZ8FpgFbtCf0Vke5ysHI2s520+5hrIBYQ7oEYJH6RIIqF4uebkC1YAPxxEZIA/nERoUzOFkjLp7FDDMdD+DkRpCnU5xHqVOHqILDzLy0CHoAkiVnnflazSjozAIXs1NOLVs3Oi/RSn/A2uiW7Ptc0JYQCReiFXdAF3fpa1TGDFU7CQ+9FjwR0nMEBW7nW5xgY6couZuR7XLUvE0iVlHPXkXneIllvIvULF3UnPvoe2/SbP4MlX3EKm9FxMG6IVXSrfk3RgZKEHWM/TC/hJkLWuyKn2QFfQwhrvfMFQ0it73AvuJTNZdqyGk36e1CrBW6y2q14Kh16vXA2Gvaf/d8kVV5kX1AVfZEtS8FML7m4L4ZYDVb8GVP5cBV1KNDsTGOri8HzY9Die/hGx6AL1+BOqjUKvD9Blk8170/BFkfDNmQc+6mAAAIABJREFU4QZh4QYyuQm9chFpDEeQ1Z7HjY5QzC/iBmsUc0vY4RpePTYJmOFadA1KD5MJUq0hWVauZ9k2qlm020FbTSRv40bXookSFmdINm9Ar19CwgCVu+6mOHoQu3UX9b/7K4i1hJlp/PRVdGEWSRP06lm6f/hrSGMQa/L4WvkSpppAapHExpDUkY1I6EJvETpTiDOw+0fgwheRXT8Ck/ejF74K578U25cVR/3+cbYUV6mdnOHyL/19Dk8r2Tse487/8ed58MEHefDBB+l0OrekyXc6kX1RVc6ePcvZs2f5/Oc/z9jYWL+VuHHjxn6a/Ngd2+GffZbT/9cnWf/iv+V/+eUP8JlfGeAPPj1AciaQtTwuj8xVZNhiSlWwwtxYhZ0/prS6wu88X2dx0dG5IjQu5OQ1S9gK6zYXbFlr+JEtDe4ZnyDRgPSaSHuEhm1h01Earkkny2lmBR0fCb26g9QKiREqZoDMrsOYCoEZfNAYSBqK2Jwzrgy2tJhysLhZ0RKWWz4fFZBhYARYC6xHOIVwGRXFUCEsJ88zjJHbEBkptVpr8KFJL5xF1dPPmtdQ6sBKE4jOIQxR6DSp2UrNPYTSY6bzaQByP1OCMEOhXXwweOJIqJ63BBQhkHvBE3VWIkLuC8JyNtjNuLeV+Go55xWrgheQ8pkFQ2JSuj7gdQkjQsUO0vbzQJvUDKMkLOYnSMwwmVlHM3+FxIxQd2+n7Q+x0PsiDfcIyiQd/zJBF6nZd9IJB2gX36Ri30Zqd4I4ev5FQEjNXRhpkJoH6YVnyMNzJObBFe7CBoY7CHoQ5TzCFt6o4n7YBbxCHGc0/obLr9b3Zq0CrNV6i+o7AVjfZUnpwpKV7NYywCpp+f7fysHPvgnJIOSzUBmH7jRUJ6A9DZVR6M2XwaN5BDv1YeguIJseQY8/hex8FD3xNDI8EXOIjMGsnSRcvYC5bS/h9KvI4ChOZwhZgjU5OIFUkeEGOjWNaTgkE4rWEtYFSCuYehpbgKqo94i1iLFoVkWtR9tNtDVHsnYsZgUtzpDdcRf+7FH8hSUqH/go4fIpOr/5T751O7kEt+c+snf/CP7AF5BKJb6nWoakgiQG0gQGBmDuaIwgqA5ETdimR5A9P4TOHkKXriDGIWN3olcOImNbCCefQapQf2CCbHIhvofEINkL6B/8PM22p1gsaF/PkXOGyWwT9//Cz+B3r+sL5WdmZvqrOj09zfT0NM888wy1Wo2dO3f20+SzLOO2n/8o8FEAfhp4f+sQ0//0V9jyYyP4Jx7hrEl4YVo5Nme5OpuSusCHtnS43k7449+tM3q9w1i3g/OlXgvgdGwxnrGGX9kwwn0fmeFv7wtsGBwnXTyHuXGORlKhkdbAZajL0Goajw8TdXOKIuIw1OjqDIXv4kNBHtp0Qy8CLBGcOIw4nETdljEO0wdcy7yOwUgH0auIXAOuINxb2jYE0eVmoyk/Uk2Qc8AQql16fj+5nybXLoovA0SUoAHB4KSOM6MgjjxcILN7qNr7AM9878sE7VBoF6VG7pcovCNXxZNQhBwB8uDwZThv7gWv9F1zPS83/YIKiinXPfS/AZYHgzsVgkjptIwGDpGEvIi5YZlt0PUx7b3q1uAVuvk0VbcWQWgWZ6jYDSgdFvJnqLl9BO2yWHy1dBs+TMvvJ2iTmnsMIaXjn0fpkdk9oEovHAQoQdYQiXmAPOwn15dIuKfPPhmZQHUzQY8hDPFm44hiltkoMYR0zaqr8PuwVoNGV+utqfAykVG699sv409COAfJEzfvK85C70Wo/rX4rdx6ChCoPYYufhlQaLwbpn8bGu+IQaOtIzDyPrj2f8PEx+Hi78DYD8L0fqhvhaWr5dgcC50baGUdzB2Hod1w7QUYvQeu7IeR2+HqyzC0Hb1xCpUG+B7abENWR6+cRSZ2Ek4fgvFthPNHkQ17CacOwZr16MVzsHYTxZUrSG2AoJYwO4MMriF48LOzgCADQ5BW49V+4Qm9LpKmmCSJgMUX6NwN8DlmeA1udA3h2gVASO96GzTn8CdfwazfSvqej2AqVcLiHCzOokvzMD+FP3EQeh1kbBw6c0g1w1QyJFWkZpGqQxKDjG+DhYuQpFCpQXU0tlM7sxGErijZ81F002Pon/wdyCwM1pGhARhoQJqByyIIdlls185cQy9epThxle7ReQ5/Q3j7/s8yOzt7S5r8630lWWvZunVrn90aGnp92/zc2Stc/6WfZcvHJ+DB+3khq3GllfJvvthg7Z8vYpcnJwnU1tbp9gryxRzjA6Z82YXBlPqPKb90/xLbB6s0vCW5cgY9dR68j2J1Z5HxNcjQIFKtQX0NDIyjIrSLBXqhTce3aBbKQu5QoGIDFRvIDCTGYE2CkzQCrZIpMWJL1kSwJBgZxkgTtAK0kVBEALzcZhSD2rTMC7PkoUcemuShQ64dwvKEghVlxGAkxWCouXupuH34sMhi/g06xWU8niIYfEjoaY8iJORBia3BmEMX1ND1PVQthZYDvkkICnnwKwCWYCSysloqx1RjRIgIpGJxxuHpIXgSSUisxWsbJ47MVih0kdRU4v1hkYobwtEj0KLuNuDDNcRY6m4LXX8CJ2uouu20/Es4GaTu7qNV7Eckpe7eRRHO0Quvkpo9ZPZOinCaXniJxOwitXfEr6JwiVxfwMlunNnV33aqAa/PAl2sPPKmeizVFvAssBGR1VE634u1GjS6Wn8F6v8re7XcQilzrbC3RjeETtQ89JmrrMzKKh1VoQluEIp5SEehdwOqkzD7Mow/BjMvIxMPo1efgU3vgwtfhYFJOLcUxe3nn4bBtXDxecz2+wiHv4BseQA9+jRmzyOEV76G2X434cQL2F1vwx9/AbN1N+HccczmbejMDK6ewvAoev4kbs0IWm2gly/gUpDRtVBtxHZhq0XozGN6XcgtUh/AuBoyUEfWDKIz12KyvHZJdu1Fpy7iX/o6dstuKh/6ODp1nuKT/zrmM/U3n0E27cLuexu6MIVOnUUqKaaagQ2QWkgdJA7q9Qii1u2FuZMwujvmhbVvxPu3fxBpTKC1CZh6Bb12EM58HqmnkQGrVCDNEJeAsagIYmwp6HaQVWB4ALexC62CO59oceQ9T7LzU/8Pjz76KI8++ui3pMn3elEs7b3n1KlTnDp1is997nNMTEz00+TXr1/fZxmGt04y/OnPEULgm0/+Te7/RMaZdz5EpVLgncH0IsIyCp1r0fH42i9BLdmVZ6cqvDoXGE4KJgbGmXx4HXVrqdgqiYl5ZK4oInhEYekG1FYmry9zTtq/dWuD+80+EwLUgAGWs6+CWeE0lfj8kf2JzryVLfZv9/xCRmo20XAPI+JoFa+w0HuOIhTkGnN0PUruPYUaggpeFWcyiuDpek+hEYRFJyH4YPGqBIWgJs7nLN/CcivTyE3tFRJHEbVFsVLgRBAx5KK4UCAiBDF47QCCFUcvb5KYCrkv6GibuhtlKb9CahtkkrKYH6XhdlOEyyzlBxlI7qftX2Gp2E8jeQftfD/N/MsMpO9BJKHrX0IkjUwWgV54BZE6idmGNRsIYYlCj2F0DUbGyk1usNyN12cIegQrd73xHpQaqluAs6hOEgeAr9b3S60CrNV6i6rMpXrDWg5eXFkr9FXEYbFxnhsgKWgZTCklsLJDEYCZLL5msQDJCOQzUFkLsy/A2nvh+jegti62Do2LLE13GuqTMHsMxvbB1edh8zvg3NeRbY+hZ7+O3PEk+spnkF2Posefxtz9HsJLX8DseZBwdD/2tjvw545gtuxAFxZBcszEesK5kyRrx9HaMMW5U9hqilm7ARWLv3YVWksIEt9tWr7fzhx05tBZxUysx27agmjAnz9GOPky7s4HsHc9QDj2PMXnfw+Z2Ix78qcxjUG0tRDB2NWzhHOHCTfOIhMbkMxhapX+ppTUROYqsUjII7iaOY7s+xiy+TEA9PrL6I0j8XbSgMP/ES59EybugcF7Ihjzs0jiwEpfeCNU4wDuIgaTqoaYgD8ygN3QRRop2xtNrvzURzh5bZLKxnUM3r2b9R94iLs++lG895w9e7YvlF9YuBlCeu3aNa5du8ZTTz1Fo9G4JU0+SRKMMTz65/8uHkH/8t/xH+p/zPV//YP80QXla99oICegslggYYW3zQpze1J+8ocLnjoPn3pukLxnCC2FeQWjpBMwMt5l7UiLe9cWPL4+ZySrUHF1spDg7A9S6f0FqRulZgsGXM5o0kHxMVtJbGwCmgQjFluyOyLmZgYW0b0mVBDpAZMgtxHCUQq9RMATNJQidsVIZMNEEkTq1JN30i1eohfOEXS5RbgMwiCVbdSTRyh0msXu0/T8NG0f6Abpi/aDUmquFEuFru/Q9U2KYOgUhl5/WfDlz0A5PhP6AGvlJ34l0LQmftpFwIiSSmx3WoHURG1aMBEIGyzLEx2spLSKpVKX1QQMIgVFaNJItrFUHKNiN5IAC/nT1N099PQci72nGEweo1XsZzH/EgPJe1Dt0fUvI1RIzA4CS/T8QQwNrBnHyS6CTtMLL5KZH1iRkVXFsJegrxB0bX9g9revzcAVYjbW3W+y7Gp9L9UqwFqtt6iEbwVPr63XAVi36KsA3AoGK+3n6GDKQc+uZK60DXYA/AIka6B9Dob3RQ1WVjrVikXI1sDiGVizD6ZfRtY/jJ78FOz9OBz8Ldj6Xrj4l5BVIanA4gVkYg86dQzZeh965hnk9sfRw1/F3P8BwotfxExuIdy4HoXWO+4iHH8Bs3kbpHX09Ku4RgWZ2IJ2uxRXz2LyHFJBanWoNpA0g6Coj4MMtbkAM5cIC9ew67eS7LkLlmbRV5/BpxXs3e/APPZD6LUz+K9/Et+LAFQGR2HtRuyetxEuH4O5K5hGLYKrMvdKEoNYYrBpYwTmzyD3fQJZe+fNfdArs61shr70W3D9ZbjzbyC+iZ7+M3ClhsuW7IpYyG4DCmifie1YnyMo6hxkGWZiGBktsBuH2LCjzXoB2VDAxnm0sR9/7NOECxeZPHqddP88mza8l7G///N93dbly5f7q7e0tMQLL7zACy+8gHOunya/a9cuGo0GO//BzwA/wyDwD8ZyPvjHv0Fl+gtMfmQCfuBhOvUq00XOjW7AuTYzrcC5r44xcbGJK0JsH5aHpQqoEWaM8KeNKn/40ADve/sST6yfYmO9ykjnK9hiCWn1sFqQYkoAn8aEdyl1WyzH5y//XGablnVVQhwP1UP1Aj5M0dOzFL5DwJczFHN8CDjjSE0VJwNYO4UPl3F2HmsGyqHLEWAVISfXDjlnWejN0w3XCQqtIrBUGLre4JESHxt8iJ9GJ4KRGs28Rc8LHS/0PP8ve28eHed5Xnn+nvdbakFhB7GRAPd9kUhR1GrLsizJsrzvS+LESRyn4yVJO+0k031mJj2nk0zS2bqTTNx2MknsxHYcO7YkW95kWZIlSpS4iPtOgiAIgNiBWr/lfeaPtwBSkiXlTLrV7QT3HBwUPtYBUfUV8N26z33uJVbXi56o+1AgsZCq68WGK/rdlUeoGHELAp5AIAKiRGLx68kVqXVKkfUMYpXACFYtgQmoJTGKwUiK1Zi830g5maHBb2E2Ok9DsIxqMoJvCuT9DZSSA+T9rcR6iZn4BzQGr6aS7GEufoiCfwdKlWr6NEayhOYarBappk+Rk9sx0kBodlCzjxDbAwTm+gWlVOhBuIzVo7hk/KvrvZ73J0y8epXOIVTHkboatoh/+VgkWIt4hXB1Ds6LYN60fnXb8cJLdJ5UBVdlY4VcqdfJ1rsJ6xJ8Wq6PBmch7IbZZ116O0A6B2EblC5A81qYPoksvQsd2482r3D3qU5A83IY+D6suhPOfAfZ+n50z18gW96BHhoESZG2fnT4ELL+FvTwdzDbXoM9tgfT1ATNS7En92D6V6PqoRdOIB3tmLZl2PERGB/GF5CeHii0uAtxvS4Hz7jxmhHQXqiV0fEhGDmFjvmYddvxbn+r81+d2oM98gjSvQL/1rci2RxanMAOnUSHjmLDHKa9GyYHwTeIlzjlKhtCLuPCVH0gnkNu+CTSsuq55yWpgPjo0S/A2BG49udhZDc6ddxlhgWBi3IIMo5IiAcmh7TejkbDMLcH0sH6KTb1cWQesRZVxe/rha5l2LalzCVTpMQEjasorNxKsPk8uZsu0n3mIBc+/G3Wfep3uO3DH2Zubu45afJJ4l4fSZJw4sQJTpxwtTBLly5dULc6Ozvxg4DNv/3LwC8Dbovx6Ad/gy67n2t+8x7OtRV48HJI7/kiYfzCNwSiuHT8VAmnamQfTrgvbSe5aYo7ltaYCgboDJopiMFUIzSuQq0K9eT3hWLKsAF8R7rE+Atm+XoBZZ2MTaHqYTUi0ksktkZMjdTGJGqJ6jERgcaoWCwpoc2g8qwz0hPg1bO1FDDGxyYpEVUSHSW1CZVUKaeGcmJIdN4H5pP1mphJZlz8gqRUEmEucnVCNQtx6ohUrBDbeRVLSeuK1hWCxXMI1nwNkcEpV55AYAQjSsYTPKvExh1P1eIJWGOIjcWqIdaIrJelnFTJennKSYmMV6CUzJDz2yjHw2S8VhfbEJ+lIdhAOTlE3t9CqpeZix+lKbydcvwExeT7NPp3olqlnDxBQ3AHWe8GKsnDVJPd5PzbEckRmGuJ7dOkOoAv7u+DiGDYRKqPY/UonryEtxRwhvdW4DSq7YuxDf9KsEiwFvEK4YUFry/E/MsxvXJ73kS6QKoyV0iVyYG64EW8PCRT4NXrLNL6aLA2Ag1bWagW8fJQHoTGVTB7GnrvgctPQbYF/BxMHIKeG5wXa/0HYN+fwNIbIVOAkX3I6teiR7+ObH8PuufvkKXb0KgCk6cxO9+CfeY+zPJt6NQEeuEA3pZbsRdPwcwY3uadqBrsib1gFbN6A9K8BGo1bGkWpkfRmYm6iblORzN5pKER6VqG6e13hGtqFHvhIOnAAcyydfg774JsFh0+Q/rUVyFNoKEF07cBs3EXOnAISpOYpavRyQEk9JGGBshkXMhomkK2EXpveiG5Amhd5VTDS3uQDe+EeBadOAr5ZgjziNbAU9y8LXY/eNjjTlfYA+1vQS9/Bewo2AqELkjVjX8FzYaOeAGCwVA3eqt1kkY2g7esg+Uf8rj4R7/Ovu+/hy3/7n1cd911XHfddcRxvJAmf/LkyeekyQ8NDTE0NMTDDz9Mc3Pzgm9rxYoVeJ7rwNv5ud8BYP9H/j0bPjDC9t61PNWZp2ms5up66gnx80xhYaQoMNcc0tpeoSubYjFMJzBZnSNRxRiPIJvHyzXQHBqWZJrJejmMWgxXXWCvDhmF+hsN454fWY7oHL4MYkkxpC6mQWNXviNKIIKHVx+lOTN5qhFRWiGp/34kmmCxWNU6S5xXm4SC30MlGSVR8CXDziXvYDaaYH/tO1zTdgeHpw4yWp5yypWyoF65HDBeMCqM6yoWeuW5knlSVR8NesYpY968kuUJlUQJPcE3SsZAbJRAIPGUwBrwBKNmYdToCVhVRBICyVFNS2RME5Et4pssGdNEMT5DU7CFcnKYgn8dlrMU4900+a9mLnmIcvpUfdPwISrxbhqC15H1b6SSPExkj5DxtuFJN1b6SfQonnYuJOaLhBg2YPUgqpO8VCm0y8ZahesqXIxt+NeCRYK1iFcIPi9PsOY3curF0C84hiNYpHWf1byRvQymAOkFxASoaXCm9qAdikchrP8xq41Cvh/KF6Dleph4BrKt4DfA5GHougFGnoKtH4XhJ5HqKNp9HZz+Bmx+Nzzzadj6Xpjqh5MPIjf/LPr4ZzD912OHz6BnHsG75T2ke74GLd2YG96M3fsgki3g7Xgd6dlD6NQwZtlKF15amsUOHIHKXP0pCjA9PZBvdAQkrkFURctz6MBBd31vbEN6V+HfeA+kEfbicdK9D4DnY5Zvwb/lHWAT9NJx9Nxe1PMwyzehY2fQ4mWkIYvkcq53Oy0h+Tw0LoHaBPS/Bk2q4GWe8w5bmlegTcuheAltXwf7/hhaVkBlBIljNz7NZF0IaaYFtAS51QAuyiIeh8xSqF4AEjAptKwCGyNpGXxXmmyiGmGQx2qCLxmkVnJqZuBjMhmkt52+D/k0PfBFpj/2JZIaRBWYGhdKDf1s//hP88Z/+0aGh4cXyNbo6OjC45iZmVlIkw/D8Dlp8vl8nu2f/k8ArPuPf8Lfv34vyS03MJIqR6YsT496jM1miFIhScFaYdPSKncsm6Y1r5RTj6agncGZIn93xHDhUsH1fteX/Vraaty1scSt3ZN05AxZr0DgZfFNgPe8TCzBgPQhrETEx/PA2OX4spdUay5bC1vfEEwRfDzjuVQqjQhlF6X4WS5Xhygm5qqxnk/Gs7RmUjK+c3tlvXb6CvfgyQ8YrpwnsjUOTX6Lnrzbpjs7e5pzM5NMRkI1rY8DrYtliOtfx3WiFSfiQkZjwdr5geD8SE2dOGfqI0Lf4hkl8OoT5hRCI9SsGxtGHoSekjUQqxIaZ+c31qBqCU1AJYnwTUAliRE/4/pBifBNiNiYisZkvAbmklMU/A0Uk70Ugl1U08OU0n11YvUYNWkl599MKf4u1XQfOX8XodlCZA/iSzee6cSXTaR6mdgerOdjzT+ubuA8qZ7A48aXCSBtRrUZGGSRYP3rwGJMwyJeGeh50AtgXv3i97HTkO4G/xbmO9jQGCoPQHg9+MucYbr8KBTehGoMM1+HxrucYjX3KHT8NEzcB14D5DbC5X+Anp+G4a9AboUzwV9+CFZ/Ao78Hiy9B0ojMHkENn4E3fvbyJp3oFPnYOIIXPtx2P3b0PcqqNVg4FHY9TH0yU9D81Louxl9/LPI2tvQycvopUPI5tdjTz4NM6OYDa/GTo+j556F5k7Msk3YyRHswFGn0OSbMV0rIDM/2kzRJHYKjuddNTqybkw4NYpOOdO4tC9F+jdjGlugOosdOATTo+CHyPKtSGMzOnoKpkeQ3tUwcxHyOUQjJBtAQwuSViCbgc5tMHnIha2KAS8L+SXIjl9CjI9On0NLYzD6pNsolAgyBcTT+hWy/vNm2yHsrGeNjTpyhXUEOJoCr811P5oWkNiNdb0Yck2QbcLmm12mlCqmNAXlKSjNonHqfHiJRbNZpLmDtNBG6ntuOcACSYxUi9jTR6k9coJLj1a41LuL/M+/iRMnTnD+/PmFNPmrISL09/cvjBKfnyY/fWaIs7/1adrm9tD5mmaCbX2kG7ZSbcgQaYVUEy7MeTw96vOPjzbS9kSVTJReCYLC+bYmOnLkblfesKXMjiURrRml4PtkvDy+CTHGqVBGfDzxEekHliL2OMqkWxNJaq56ad6n5QVo4PoGU5tQS0tUkwqD5RoDcyEzkaGUQCmBairkPaUnp3TnE1qzsLzxRqJ0hGJymiiFUuIRWYMvBSarJS5XPMaqwmRUJ1b2ivcqTiFNhSQ27nNiiGP3oVae9xwrxlOMUTyjeL7iee7D9y1+oISekvHcYqsvLvkj40NYV7RydXUrNELGM3gmJusFGInxTUrez6NaJutn8ETJej4QkfHcm7u810XNDtAYXE853UfO24AnearpIRr824CEarqHrLeLwCynmv4Q1Tly/utcQr2OEts9BHItnum78qdNp0h1D0Y2YaSPl4LqGC58dMc/IUdrET8OWIxpWMT/AvCA5Hn+qufh6nHgwl183FymbmafN5NqFUyju21LV26nc+A3uwt7UDeTxuOQ6YbaMHRsdRfqaAwalsPMMei6HUZ3QzQJbZvRoUdg48/AyNNweR+y6h709P2w65MweQoO/i2y68PoE38Cxkdu+En0qb9BVr8K2u9FDz6AWXk9bHgVdu994Id4t7wTOz2OPfEEWIu38XqksQNNEvTyIDpxCi1O1Vf+n+dWE4O0diFtSzGrrkHCXS6Pa/QceuwHLkCytQdZeS2m0IJOXkDP7UMvWWTpeggFZi8ivWth/BTS3Op8U7UpWLYDJo5DmHWPZcP7Ia2g02dgdC968L/B+vcgLSuhPIJOn4aWfkhKSFpyXiEv6/xEuX6IB8FfBeVDkFsP+Q2ucqj4NIRL3YhQq5COuB7JsB10qn5OLSZNnAcpjuqjUoH6KA8JnGepsQMal5BKQmxdx58GGYJMMybfjNmcxWvI0d94hNzDezj/ob284W//iMK73/2cNPlKxS0DqCoDAwMMDAzw3e9+l/b29gWy1dfXR8vqpez4iysBrlG5wv43/izbPxyQe9tbqWiNubjM3pEA/6glX0l4AazSMVbh7NE2DnTXWFbw8UyKb2KMqbrdwYWy6XrcqF6sJ7cnTgmzCSRV99ws5GB5IM3geRhxZvC5pMJUNWQ68igmUIyhnDjVKbJCYJTAcyG4Z+d2Y4DEGsqJUIp9R8iiKuM1j6lIiGzdrK5COVXSFKKqT5IIUWSoVDxqFZ808ZwxPr2iYLnTKk658h25Mp4jVL6fEoQW31eCICUIlSBMCX0l5zt1LLKOaKWeU7AyisvcEqmrWSlZz0cVylRo8BuoJCUagjyVtEbW84lSZ5SvpFNkTBfF+ACFYDvldB+N/qsJzDLKyW6awjcS6Aqq6T5800nGu45K8hBRepiMvwNPukhlKbEewWj3QgaWSCuivVg97czv8lKX1Q5cy+Y54OV8W4v4ccciwVrEK4QAFrJ6XuxlN99UX71ySMQZ2LV+TK6MBcVrQyXnSFW21x1Pp8HvgPJJt1noNTpileuD4jEIWpxPq3gKWrfA4P3Q/3aX5j76JNJ/J3rgD5G58+jy18HAd9Gdvwoje+HI5+G6D8MPfxfOfBu55ZfQx//Y9RXe9LPons9BUzfm1p/B7vkicBTvxrdhL1/A7v1HyDbiXXcX6mXRwWPYQw85v1S+GdO5DFm5CbINziiOujGhjaFWQaeG0ZHj6GDVka/mJcjSjXhrdwIWvXwGPfkoNo2Qjn7MjnshKaFnnoDGTqR7FYyfRpb0QXXKBVb2bIeVJTwbAAAgAElEQVSJY7DidU6Z6rkJ6b7OPc1Lb0WXbENPfRV96rfQ/tfC0A/daK88iOTbHbkKAyc3aOoiMzJLnUcu6EZa7wRAy0fduWneBWNfhcbNkOl16tzUQxA0uvOsWu/rS91oEambwgOn9gF4AeDCV43vY0jq6/0BYnOIqaJBFlnSRbCzQvvsMfKtFSZ/4+McZQ2vevBP2bx5M9ZaBgcHF0aJExMTCy+5iYkJdu/eze7du8nlcgtp8mvWrCGTyRDmc9z0/b+jMjHFhXe/j+X/8WY2r1jJa/pqfHlXyOTjWbLlBC91SpwoWCNMdmVZtq3Irs6EnnxCSwA5L0sgGQx+PfwziyFBWAEsRzkIzKLiwlFrvuu1TOtl4EqCl85g9MqYsSlopiM3Q2xhrOoRiJAxSmwh60F3TultyOBLTMa0MV2d5dycMFIRirFQSqBcE8RzoqQvQn+hgxMzY6xr7GbfxQnKFY9a1aNa8SlP+1Ce96k54jfvWxOrdeIoJIEQ+Qb1PCQDfp1Qeb4ShimZbEImY4hCSxSmZEIl5znlzOI2GhPjVC4hJTDz1T2WnBeQpDElShT8RsrxHA1BnihNCaRGYDpI7CiBaQYM1XSQUFZQTJ6kObyHxD5MOdlD3ruRxI5QTZ8l799EaDYS2YMEugYjTQSykZoOk+o5fLkSQGpkNakOo1ysn7sfDefF6geOolpEpPCi913Ejz8WCdYiXiGE9c8RL/qyEw8IrpCphePZq7KvMoBxvisArwnsjLuPZCCZhmAJkDrTe6YHohFo3QooVIegcY0jWMs/BBe/AVOHoOsmOP91WP4maN+GXvgOXPtJl+x+8suw9afgqd+Dsw/C9b8IT/w+XHoSefUn0cf+EGyCufPXsU/8N/TZL+Pd+lPo8Ens3q9ASw/enR/Bjg9hj/4AakWkZx1m1xtcdEOlBKUZtDQF44NoecYpNX6mnqjeAJ0rMCu3IUEISQ2dvIgO7ceefRy8AFm6CbPzzeAJevFZ9Og3Id+KrLoeRo9AuYasuREu7kHaeusXwirk2lzPYlJBlt363Ke9czu0bULPfxsGvuuUpWgCCj2uaqieOI7fAGGze77b3wRTDzjlah62ChIiuRVoth+S8Xom2Q8guxzsWP314bvZk2o97dM4EuZnHIGDenekImmMF2QQLwcInmzAmCWgu91IM2xAurvJ3FglXDtDYaZG79AAkx+/Gy/v43WEdHXkaTg8RcszOdp++3/jMjVOnjzJhQsXFtLkK5UKBw8e5ODBgxhjWLFixYJRvqW9lXX3fYvxZ08y9vZP8NbbAt5/9xYqb9/EaJpwoWi5VPK4VDa0hMqt3RW68hlyfjO+8ReUXEXxxAdCjGSAFoS1iCSuPNpG1JIKs/E04zWlkoj7SD1qqdCeKbGsYGkIDJ4ENAWvJV84THd2hBo10lSJLFRTsCr4HjT7qxksn2CkNM3xGZ8jY8L4dIZqxadW9YmqBvGUzs4KXR1wsTTDNa39PH5+mLk5n0oloFzySSagcapKtpwsrApaEUcsLZjUInWCFYceaeCRBEISesQZj3LoIxkIsh61mkcmk7qPrCHJOKKVDdW9LAJI/PmcLSXnG0xdyENTGoKQxEYUk7m6klUh9ATPNFFOhmkMVlBJz9EYbKaWHiX0dyB6mVLyFDlvJ+X0hyRmmIy3jWq6h8SuxjeriO0ZovQQWf8WRHJ4spxEz+DpiquysfKI9mD1PELfy9TidAJngAvAppe43yJ+3LFIsBbxCuF5ZvUXRQaoPffQcxQsceZ2nSdYjZBMuXeGfiukU857BW40GHbDzBNubOgVnNG6sA6mD7goh+b1MHUA1v4cDD4Io7uR5a9H9/0eMvYMbHgvuv+/InMDsPWn0AOfQRqXwXU/iz7zGVC7QLL0mc9ibvkwevRb2Cc+gyy/Hu/1v4o9+A3s438JhXbMjrtcWOfIGezpp2CuXj8TZCHXhBSakY5Op2wlEcRVtDIOl08wn2hEpoD0rsNccw+SyaKVKfTSEfTQ1904sX870rcVnTwLg3uQ3i3u+Rt6xt2ePAlr74YLD8HOT8DZ+6B9E5J7YT6P+BlkzZvR3hvR89+AmVNIbdJVw3jq0uBt1V31Grc7hcmW3ThwHmnpSul2y6tg5G9h+oeQWwnxEIT1iAqpJ/XbCCFATc4Z4n3jIjlI3ahYxI0TrcV4AUoTRlqAnBNJjQ9BBsk2wMo+ZGU/xg8IvAxhWw/TyQwDxRoXSxna7o7Y0dJM7uw36P3WfnoeLXOy1E/X73+UU6dOcfr06YU0eWstZ8+e5ezZswtp8vOjxK0PPejSx63l3H/4M4KnH2DnLp/cdV2Y1X1INgfTikw6076090GuGTzfJd4vZGJZkFFUG0jsJRI7STmeZLRSZaAYcqnsMx0JMxHMxc5X1ZHxWN2orGiKWNZQxecxQj9Pa9CJl1j3qydCbC2X48vMxMrl6jGmqj6HJz2OjPqcP9NMNGEIailBlJKvRiS+YXCswFRPwsqllsfGhynO+RSLIZVJj8x4RNtkjcJchJ+6LkHqShu4kFC36OgIljVgPUMcCHHGp5b1iTI+cdYjyvnEOeNuZ1KiKCXJJ2QSIU1TbNZigZyKK9H2ACy+uRIDgSTk/YDUCqWkRIOfJ7YxqjM0+EsoJudpDPqZi4/R6K+llOynKbiFUvokoekjMP2Uk2doDO7Fkw6qyV4agrsIvS3U0qdI7Sie6cKXtaQ6SKInCWTLwsvcyCpSvYQyhND/on/hRAyqy4CzqK5+yQytRfx4Y5FgLeIVwtUK1ktAclfI09XH7NhVXzeALbrbpgnSAac4eK0QX0JMFvUaIb4M2XrEQDwGueVQPg+ttzo/z9xxaNsBZz8P1THovAlGn4CeW6FzJ3rhu8jO34CeG9HTX0Ou/xSsvgc99XXkmp9Brv+II1lxBXntb6BPfRZ95HeRbe+CZTvQA/+AXtiHrL8DuebNcP4Z7LGHICojnWvwNt/q6nhShaiMVmahMotWi0iYd7lSfghhDsk3IZ7vNgTnRtGRE+jhQ45wFTqQZduQLXdDNIeefhQdfRa6NiBb3wjnH3FxClveDCcfgJWvcTEU/a9BysNocQhZ+/aXPi9JCSaPIIVOZ7iPZ8AvQNhUL6muQNMNUNzrntt6TAPgCJZGaFpEwi60+WYnO5T3QX4TxOdwsfIBCz01hO4YcxD2uUgOk3F+u+SCGyemCUiAmAroWVSucV9L6oqyvQAJs87TFGQg10JioGqrTMYBsRomqwEVLdHQt57Mzkm6K6dpvniecz//61z78V/m7Z/61HPS5GdmZhYe1nya/GOPPeYCTdeuZf369Wz6zY8QBB8DoDZbZM+HfpOW6d10rVWyPSF+dx5/4yVk5SqkpQcTZFHPRyQF8er+uzNA7OIWNKJsDdXUJahHFuL6ZwuUUqGYQDn2qNqUlJiaLZFqgKchqSakNqJqa4xVYS7ySFUoxYZiIlQrPnHFw7OKZ8FLFaPgp4qpKbWqx+h0TLWaoTQTEAzU6B+eIYwsxro9wWxDiOcJtWpCEju1MQg9Co0ZmltzjF8uUZypQpIS1kBLCYlviENDLetTbgyp5QNqOZ8o54zySWyIsgm5nEE1wWZS3MTxSglQtr4NKWh9STmhEASARzkpk/NDxDRTTCZoDDooJ+PkvFaq6Ri+tFJOjpH1NlJK9tMa3kvRjlCzR8h6Oygl3yW2ZwnMGoy0E9kjZKUTkQy+rCbRU/i6BhH35kGkAdFurA7UVayXyrrqxfmwRuElyNgifryxSLAW8QohxF05qy99N2kAe/mFx/T8FYO81wRJff3eawFid+ENlkD1GGojd4GPRqDpZnfhrl6A/CooHnFG68Z1MHMIVn4YwlYY2w3L7oXLT8LQ95Hl96ATh9CzX0PWvh2dPo0e+SvY/nGoTKAH/xrZ+THkpk+gT/0ZHPw88qpfgRMPoge+AD3bMK/7dzC4D3voPjj9iFO0XvdxtDyDXjyIPfsUFK9SsDIFJNuEZBqcf6pSg7gC1Tk0Kte73QSae5Hu9ciWu5Egg04PohcPoOcfBRMgK29EutaiI8/CqQeh91ok3+TIVe91MHEQWlZC93b02T+D/juQ1rUvOBVqY5g4hI48BTOnXfFzbRLybZDtAjvrtjfDTud70whKB6FxF2LCK9+ocSdMDMPYl9DWu5HmG9HJbzpF0ctCEtSVqbxT2gQ37jXWvWYyvUjWqZJa3gdpUF+IqHu/6MQF0Q6AJE4Rmk9MN54bI3oheAGeBOS8DK1BhChkPCXjNbgR5tIegq1zeEsrbOybZeobf8jRP/9jRicDlv/iB7n7E59gbGxswbc1NDS08BCLxSL79+9n//79+L7PqlWrFtLkb/7K7wEwcegs+9/7MVZsnqHl/ByZ7VN4G5ejPSuQTAH1grrnLLNQq5PxcoguI8iPU/AqtGUMs7FPKRJmYiFOYUnW0l+I6WlQ8r5H4HVSjUbZO1nhYilgoiaMV4TJUkhvk2VzmxL6kA/g+g4h79XIBFOMTWTrI0KPcs3DBEJ7V8T1Kxr5/mGlMmVoHiyzZLSMnypqhFWbOvmZn7+e/hUvngE1jzhOGboww76nB3n4O6eYnawQxJZsJSVbSSgVAqqFkFo1oBp5JA2GODEkSeICSy0o6XMWQCyC+IonhkSUCChLRNYz5Pw8URphdYbGoJ1KWiQjCeoVSPQCWX8ztfQIWVmD4FFJj5HxNlJND5H1NhKYfmrpMQKzktBspJr+kFRH8KUHT1aS6GkSPU8gV8bhIstQfQaYxgWL/miIBKi2AZdZJFj/crEY07CIVw72CWAJmBdezBeQXgB7FPy7WCi1TUegthuyd7vxYHQKqgeg8R2oLcPMV6HwWpfiPvUVaH4DxBMw8xh0fxjG7wes8wed/y/Q8VqnfF38Eqz8OZg9C0Pfhi2fhLF9cPE7sO2TMHMGPfUlZOOHIGhC9/0xtG+CTT8J+/4cpk4j1/wshE3o7j9yF/PtHwJrsXv+EmqzyIpbYPVr4eKzzi81OwK5VqRvB9KxEnKtaKUIlem6ejXnqmm8AAlcPY+GDUi+BfE9NI1g6iI6dhKmnJJDrgVZdi0sWYukZfTcozB7CZr7kP7r4dLTrrB587vg0hOQVuG6j8KBP3VRDNd+zD3Xo0+hpWGIZiGagfJltwHYtArp2gnDjzg/VDwBDa0ujVxLbkG09Q437otGofMDiAmec1o1LcPUtyG65FSr8hFovg3Kz0B2jVOxshuRdAQa3wSVJ8GWUWsgvuhGhOIt1CGJFzrlzFPwlgIWFQWm3PZhVIZq0aXQm4wbXeYKpH5IKZ5hKppmOhKynqWvYQl5DdHpIRgbhjhBowgtVtCZEna8SHypRDKVYK2iCaQRXBwOONm6itotW7g4NbaQJv989Pb2LowST//aZ/AOPEnn0pS2FSn5ba34O1Yh/SuRTMEpln4GwhyI5xoE1SASowrWJqQ2cV2EakEsRnw3IgciLZLUDN+8GPH3exuZPh+QG0tonI7I1BKquYDiLp87dlVY2Qy9+QKeN0kxEsYqhkoiThGL4VLFbR6WJgqcOpBhyWCR1qkKYuGam/r4t5+67Z+VSD5+uciD9x3j+w+eIE2VJBDK+YBKIaRaCKjmfCgYMjlLvhBRaIzJ5VOy2YSGEAq+i3HIelDwlbxvyJh50qwEXkLOC8j4rr806xtyfhOql2kM+ojtMAW/j8heoiG4hkq6n5bgDZSSRwlMHzl/M8X4QTLeNkKzjmr6KJCS9W5HRIjtYVK9SMa8bmFzUFVJ9TGEFjzz0kXQqiPAUeDmBRVsET9+WIxpWMT/IsjyT1KwUKCMW2eeP4a7mJN35AjrxoSm0akZ6RQEve52Mlb3AFmXxZTth5nHnaKRWw6lU9DzLpfqPnMYOm6F4YdgbA90vRpGnoDBb8Oa9zkF5/SXke2/imz+afTQZ+HM/bD9F+DQX6H7P41seg9y+/+J7v8rR7RW3Ibc/X/BwG70+Dfg/BNI307MLR8GDHr2CXTkCHry++6xGh9yLRDm3ShPDNgKWh6tE4U5NC5fqcpt6kY618K6O5wyNTOIDu2HwcdQMbB0B7L5rTB1Gk5/05nSb/yYC0ytjMOuX4FTX3Fjts0/7cZpQ4+g5+6DfJczrOeWIK3rYckOl211/r56flUBGpc5f5sK5JZBNOiM7nNnoOV1LyBXAOLl0fa3wNyTUNxXV7wqjtj5bRCfryuT5+uuZd/FdeRvgai+tFAP1sSOsdBR6SzP9dvzo2VxhEOkXjtjwPfrqpDgez4FP0tgKvjGx4jLGpMgC529IPVYCNQFvVaLBMUyxLGruQlcn2JHpcrWkwNUn/pHhg7BkVork9vWMbu0kWKpuPDYL126xKVLl/jBD35A8/ZmsuFWWg6fY/1skZ7ZaZrLJwh3JbCqTrLmldogW+8FTACDF1cxI6fxRkdZkHSyGaSrG8k2YbMFKmr53kjCF55qpvC9Ch1XpdoDZGo1Cg9FfPNiM5vumOM1fXO0ZIT2TMr2VkGMEmnCXM3y9YEcT5zMUHk8ZcXYJJmay/Z65we38+a3b+Gfi47OAj/5c9fztndv4w9+62HOHB+jcS4ijCx+bPEjSyUJqCYGJURVsLbeFFA/7wtJ8QBY8N25FwTfhNTSGEtEzg9RDSnF4zQGbVSSSXzjkaj7PqmdxZMmSuk+st5mKul+smwiMCuJ0uOEZtVVKtYovnTjyypSPU+qg/iy0v0cIhj6sXoS1fUv46/qqP/kY8BL52ct4scTiwRrEa8gskDxpe8yv7asxSu3pQHnnp0DbwmYZnfcziBeE+q1QTLhzKN+h/Ne5ba6MVNtCLKrYfpRqA5CYT2MfbuuzGyBmYOw5DZovw7G90DXq6DvLjj7DzB3I7Lm3ej+30dP/i2y+eeRde9ET34ZCfJw7c+hx/8BPfpFWD4GN34CGXgMPfz3cPkIsvFtcM/vwNlH0DMPw4XfgoYOZPlNmFf9AtqwBJkdRifOo5VpF0sel1w8gwjS1A1Bzo0Mm3rcaI4UpgfQy8fh2FfR2hz4WaT3WthwD+RbXRjq/s9CkIe190ChAw58BsKCU67OPwgzZ5FtvwBhE3bgQRj8Hiy9DbPyzc85HZpU4eRfw/RJaN8IxbMuFqOwHKKLgIWwF2Yfd2PZ3PoXP7VioOlmNLPCqUoz34DsBkeOvZZ6rlA9jsE0QXzOjRpzm5/7jeb+kYUgWlLc+HkCJ6XBwjqb8cB6Lt/LeK6nBcGTgNDL1Hvx6gQLz1UlwULUgIpBMvn6sp9AEqNhiGTykG2GNMErFMgvaWHFsgF6Tk9QHtnN1EHhTLmR0b4lTK/ooNRwZaNsZmaGmWU5Rpdt4kyasmxumvWjE2y6OEmhMQ/d9TGhDUnShOn4MjFxvQgnIOhcit/VjxHDghNJBCv1pPPYQ9U6MmJ+tLqkwsIGY6LCZBRwYsrn98+GTI2H1EaVcMzSMh7RWK3SbN0zaj3h1/6PO9iyredHft//vyg0Zfjff+f1PPHIWT77X3cjlQSTKn6cYlKlkgbU8BECF1hqFNcslDynKtszYFJFxPnCvBTyQYgRQ5RUUa9GY9BGzUZ4lMn5K6mkZ2gOtlJJj9Ic3koxeYK8dw1CSC09QdbbSGzPEttBArMSIy0k9hy+6UYkj6HLESxWLjweYSlwCuUSctXx50PER7UVV52zSLD+JWKRYC3ilYM0gF5+mbDRDBCCzgHd9WMGpBG0bjA2WWd8Tych6HNqSHTO/VvQDZWjOO9OH9QuQOMut0VYOQ3Nr4Lx77oKnbadMLXHebE6b3EEa+xJR7Iu73GxDVs+gaz/AHr40+iF72KW3w1JBT37AGJ8ZMO7IN+JHvt7mD0Pmz+AvPY30YN/h+79DDR0Ievvhdf/J2TiDDrwBHrqIfTo/c7Q3NSDtC5Hcq2QbQO/x/mFkipERagV0elRuPAYFMdwipcHbauQ1bfDkg0uJHTkoFOo5oYh145seS/atRlO3Q8D34alN8G6t8LRz9XJ1UegZRV68gswthdZcS8svf05p0Kr43DiryGegzUfgKGvQ9MKR1qJIbvMjfyadkL5WWi98580MpJML1o56hSq7EaY+w5kVlz9P0OwDGr761uGV12kbK0eOuviGhyagUvAKtAB3CaecYTb812g6VXhj0ZcWrovziDtCJZBghD1+yG73RG7ZBpmH3DKIkAaO69UYQkaZgFFGloxhVbC9laCbRM0zJVpnyyx8nIJOztAMneWyUs+58I2BhrauJhtxtZH34nncb6lnfO0850TyrJJw/o1JdatzdKyNGQyGuXMXMps7FNJDGNlODEVUYkMqUKSCp4omztTVjZbWjIJzYHlLf3X09+wl/vXhhw800h1AhiD3ExKdYlh46uKvLFvEusZ8p7H7kHl1F/6NMzV6NKay6+af7oFtCnkU5+6jS1bul/23P5zcPNtq9hybQ+/+WvfYmykiLEWLwUvsRQFquLVlxjqy8SiCKkjWOJS3n2BwAqpCHGqVCTGqiXneXgmTzWtYqRMc9BFORkmYwpEdg7BI7YzeNJINT1OxltDNT1B1tuKJ13E9jyhtwpflhPZg6jWEMngmaXEdi9WS5i60i4SILoEq8MYeXGC5dCOK4COF4JLF/EvB4sEaxGvIPI4xSHCxTG8CKTu7bkaptmZqufhtTnlAxzBqh5xfqygG8r7XeBoph9mHnbBl7k1UDoOra+D/BqYO4K07EIL62ByD7Rsh47rYfQxp2ateAsc/lMY+h7Sdzf0341e+BaabUdW3IXaBD1zP5THkfXvQhqXooc/jz7+W8jqu5EbfhFmh9Dj96P7/hKOfQ3tvQ5ZcTNc+35kdgiduuDUqKkLMHbSkaqkCmkMftYpTmEDZJuQ3h2umqepF4IsMnUOnTgBz/4VVCadWtV9LWx8B4RZdPBRNwYM8si1Pwf5DvTAn0F1HLnmF6CpHz36FzBzBln/AWTJjoWnVtMaXH4ahh5ykRKb/g1cfsx5m9JpKKyC6AI073A+LS8HmHr+2MtDVaFyBMIVQOy2RoNeFkq8wXntvCUQX3gewaq/Bub9eVB/LfkupJQlwDhIgJrAHTNBvQRcr1I7knrncT0eQcRVDNUuuuqk7DWIvxxtfAPMfdORLONjC+3UNKIajSGAb7IEzR34TV3IqhRjY0xUw4+rUC1BVKZQqdJfKkO5QrV4mXMTPidnMpyey1NJnbqlCINjyuDYLN/bPUtz60Wal2WYbm1iUDIcPNFAcMDSNFlzm3uqCyTosWzAP67KsvKGCluXpmT69nJj7zK2t9eId5RdlpYqqaZUSYitJbLCwYkcX9prsF9JaaxGqEDqGyQ0NLfnefO9G3j93S+uSP6PQFNzjv/7T97Cn/7+o+zbPYgpRoi1TnUjQ038hVNvzHy/YYoRCIzgC/iiGBQjhkBdaG9iU8pxiYynNAStlNMivlTJ+yuopGdp9NdRSY7RGOyglO4l52+B9BhReprQrKSSPkmqs/hmGZE9SGIHCbw1GDoBD6tDmKuCR0V6Ud2P6hwijS/xiDuBU7gxYe//oGd1Ef+zsEiwFvEKou6losRLEiwaXCr41TBNEA9ftUnYCrWT7mu/fmFPxtyFGnH3zfbBjEJt0JUPz+2FaNgliY98Fa1dhrZdcOHzUDoL3bfD5LMw/D2k/63osjvh4nfQplXQ9zqoTaGnvghegFn1BjTXjh7/IloeRbb+DHLLf0DPfBM98yAMPYmsfxtyw0cd0Tr/Axh6Bj3zXQga0PY1SOsqWHotsvFeyDQ5Y7u4MltsCrVZ91EeR6cvwMgzcHwAoqKjCs190Hsd0rUFbexFRvej574Bc0PQ0I1seg/adS164SE4+jfQuBTZ8SsQ5NFDfw6VUTf2bFkD4Az0Iz+E4UfBRtB+LfTfC4Nfh5kT0HkdzB4Erxf8Fkdws30uYDToeJmKkKsQXYR0BhpfBdF5p1r63c6HdTWCPqjur3vt6uNiO3fl3xf+vxhHrC4DOdyocL5eJ+f+XazbUqTmlA/1MaL1+9XrmMSDIAdpDSp7wBtAcjvQwl1Q+h4UWomIqaQzxHUy6CIQQjwJ8HyXxu5l8njiOQIXlZFa2Y1+ayXyUcSmUplNcYy1KRenLCfHfE5d9hifudKTODMVMzMVA0XyeGydyVOt5KjEeaw1boESEIWGYkz+YEx0RHg853P/igZ23jnCxzYZlg6exF4aJ52cQ2dqNL3/Xi6i7B8TvnEiQ/K1hIZqihX4s79+F41N//PN1r5v+KVfew3f/NoRvvRX+8iVE1RAjaHoCVXjuU5Dzzo1yyi+sfgJGAFP3GdjLSatZ8B74HsBnmSoJEUCk5ALuyglw2RMA4lGKAlWk/p48ByhWUk1PUFT8CaEDHF6hqy/HU+6SfQCAWsQ8THSTaqX8LmKYNEBBFgdxnsJgiWSqY8JR1kkWP/ysEiwFvEKYv7iNwe8xFq3FEAvORPvwtvVVlyX4Zzz33gdwOG6D6sFNY0QjyDhctTvhGgIyW1ynqzqWWi5020Zlk9Ay6tdGfTsAei409XsjD8Gy38Keu6Aiw+gbduh9zaYOwenvwBbPoaseSdqI/T452GDID03QH4Jeugv0af/M7Lpg5h1b0F7dqInv4Ye+CzkO5FVdyFb3wvbfgKmB2D0IDp2HD39bYifm/mlxncjwOR5YavZVtcBuPK1SOsKaFvrSND4UfTCwzB+zBncl2xB1r8DbVkFo8/AM38AcRFZ/Wboew1Mn0SP/Dl4GWTLLyCN/U5RmjrsjOxJGTpvgJ7bXMbVxQccuVr5Xhj/PhTWQOU8tN7k+gXbX+8+Z1f9k14BqhYqz4LfDl4nlHZD2Of8WfOjv/lzHqyA2gkoPVwfnba7eA7TiFNC84Bx0Q6mC3QYZ3RvAinhLqxBfSmiAtIBVBEsnjA/XEKYJ2HGBZumGQjaIR6B4jcRyaN+gxs71itppP4zCgZDBqDtETsAACAASURBVEERDUFcBpTWv7OIcWZ7MXVPV9YZ7q3F83yWLw1ZnmnkTj9gYjrm5LkKx8/OcnGwyPx+d0BKS/McNM+hCv39y9m8eaNLk29p4W8+t49vP3AcP7YUijENh2OGj3n8asaj0nQNqQ/qg/qG4DcsmXKMHyvGRpTbsmQrKZ5VPvrBL2M9ITWC5H1yDSFRNSGJLWotb3jbRj74zmv/Sef5vwfe8NbNtLTm+PQfPk6unJD6NVJfKHmGWuDh+36909BS8yyhuExa3wiZetOUGg9VQUmJ0xTVOTKeEJgWojTCSBXfrKSaDlDwV1BJT5HxVlJLz9EUvJbIniFlgsD0E9tBMnoNvllGLX0aq2WM5PGkl1iHsDqHqZMpEYPoEpRxuIp4/Wh0AGdQTV8mAX4RP25YJFiLeOUgAlpw6tRLWXWkviVICai/+zOtOKP7hLtgeu3u63TMZWEF3e6CCBAug8pB12eXWwXFA4BCfh2UTkLLbdC0Dab3QvtrYMmrYfCLUD7nxoSTB2DwPtjwi7DmvXD4T+Dk52Hzv0HWvQ9VRU98DvgJpOMauP5X0cP/L7r/v6BdO5E1b8Fc91F0+hx67jvo4c/Dya878rNkC6y+E7PhzY7YVKdgdshFM6SxI002gaDBGakzTZBrQzKNaHUaZgfRyZNw+n4oDrnnoHU1svl90LXD9fgNPQbH/gaNy7BkG7LmreDn3Jbg8A+hdSOy7n1I0IBGM85rNnUUWjdB/xuRrCO/OvqY86X1vQWIXD1O40qIg7oiFLqk/HTOGd1fBqoKxSfcZmfz3a7iyM5BcH39DhUXKLrwOgggfytEJ9x5js+4436/W4IwIU4VLQLLcZHlsfPrMV737c05cqZngSbcKEaAEI9WYBqhHeQirmY5cDEJySwU3gLpBKQjSDKEAr4JCUy2Pl6E0HST8VYT2f0Y0w7M1clXetUDt2BySPf7YfLriM46n12YI802kpLiiU97TripB667JWZ8Zpw9R2c5cTKmMlyuKzHuV2hwcIDBwQG+9a1v0dnZybp16/jdP7iN3t5ePv+FAzx4/3H8Wkq+nJAv/+joiHn3Wstkla0f72X358ZpmI0wVglihZmIZCbC4FYIFPje5w9x8MRl/vO/v+tlz/V/L9x82yqOHxnlB985Tb4Uk/qGJDRUgpCq7+N5liBwhdEVLyXwILZQSdQpWdZV+EhqEbEEEuCbLJGNEEo0Bx1EtgikiBRI7Vk8s4WaLbulARqI0gtkvdVE9hSpjuFJN2BI7SWMtwbDEtyYcGSBYAGItKF6CdVooVLnR6MV9/duhpd847mIHzssEqxFvMJowm3NvATmN8R0rn6xxI2DpNkZ2/2V7muvrR7JsNaNmGqnnA8r7IPy3npEwyqY2wO1i9CwEYr7oXoemq6FqSdh7ig0XQPZHhh7DJavhL43w4k/h8uPI12vRtf+BBz9f+DsV2H1u5H170dPCnr8b9BldyDLX4/s+CUYfgo9cx/6/7H33sGR5Ned5+f9MrMsvEc32k7bMT2eM8NxtKITSYkUrUitdmXXxEqruIiLjYuT7h/t7m3sreK0G3fSyYcoit6IHPohZzhe43vaTHvf6EbDm0JVZebv3R8vCwV0A91NN4aBbwQCqKqsrMysROW3vu/7vu/Jl2DTO2HtvbibfwedHUZPPw6je9EzT5ia0boOyr2WQ1XqzXKPSiwwz/oszJ5Gx6Ys2HT6pJULAfLt0L0T2fwO6NlpiteF3ej+v4fxl81zNHgnMnSfKV/Dj6OnvmNjfTa+F9beBwg68s9w8gEjKlt/FTqvt3gDX4fhh8x31X8/lAfhxKegdSdUDkPr9aYElndYQj5cFcGi8jxUX4bW+5DcEDq/G4ggyrrSfDUr6S1C0AHFO7LzoW4eMNcG1e8bAZOWrONUQNuzc6sTOAbhmmbiP3kasR8iEY48yiSmqPYDp4FCNq1mDqiDjpvSJgo6iRDjJCByObtLFZii7p9HKCAEKAWMXDUIVkZl0gpMfRXCGKJO0nyZqq9SqZ+npjE5CSmFLeRcCyC0tpS4/aaE0oaQ/eN9HDxUo/pyzGB1nFyuSZpGRkYYGRnh0UcfpVwus3XrVv7o/7iFzZs3853vH+Zb3z/GfDWmVktJE09/fwu/+oHruOWmtXzi458hqnse/sI4yb0lhtYntBcSXjpSYu7lgKjiSfIOX4bcuKf3RIWRp8/zm//rV/nL//P9V36/f0r49d+5g0MvX+DMySlKs3WSMCB1jloUEkUh8/OeIPC40JMPNPNhWYek94I6wWuAy8rvlXiWXOAphSVSIuJ0mHLYQ92P4aSFJB1FKFD3x4mC9dTToxSDWxHKxP4UYdhPIP0kejorEwY46SPVYUKaGX9Cd3YGjCFcrvOyjH05mGCVYP18YZVgreKVhbSCnrIOspW6ZiQCCpkPa9GFO+iC9Pyi230QHzUfVpR1OMXDkNtsF+r6KSi/AYJ2qB6G9rdA1AOze5De96GlLTD1tKlZPfdZ8OjcUaTlGrTvLhh+CG3fiZTXoJs+CEc+Y8rDxvcj2z4OpUH0xDfRmZNmFF9zF/TeiB77Bnr4n+DE99C19yBr78Ht+CDwQbQyBqN70KkTUBmF8UNobYplEZUh3wHFThi6G2lbD23rjTSlNRjfjx76IlzYbapX+2YbedN/m23nhRfQfX8J1TEYuANZ/04k14rOj8Cxr8DMUei9Dda/GwmtU04rZ+D45y1odPCt0H0LHPsrS25v2Qhjh+3v+ZegfL2Z1cPObOjyytD66Ww0zq1IISuZ1E9Abm2zLKJzTa/VsudFDsK+LCcrBiLzTfnRzJt3LZaXFdljzkF4OySPgnSA5I0YUUZIMuoTZiZkZwSe87YOV4bakxgBS0EKtgxKIDlLgWCAwK3HSTtCgdg/gxBgJLkGyEKZDxfY3MagCIVWYmrU/AyVtE6sQioxzs2BOHKugJOAYphnfXmeepon3lpgd0uZhx8dYuuBC7S2zlLqmKdYaubKzc3N8cILL/DCCy8QBAGbN2/m1z9safLLhTv/5//6Tv7w979Bz5l54gs1Dm0pErWneA+51hRaIUdqVdgOSM46cnVP7eD0Jev6WcIFjv/tj9/B7//ml9BqQrESk+RNyarmA8IoJM574ppSjRIiBzkvVBM1w7s3T9Z8EqOBJx8IToo4KVJJLlAMckCRanqa9uh6qulBSuG2rEz4VmrsJ2WUyK0j9kdRvZXQraWWPoPXKk4KBAwS8xyq80j2JUGkAFpGdRxkZYIlIpkPa+KVOaCreMWwSrBW8QqjMT5iAuugWQHSCXrRB47rheSoKQyubKpVfT/4CSToQoMeqJ9C8teg+Q1QO2YEq7gN5l605PCWXTDxAzSZgc474czfw9wBaNlhoZnnv4OWfgsG3gLTB+Hop9Htv4P03IRqAke/aIGXmz6ArHsrtK5HD3wKfeG/w9aPIJ07LCtr6H709A/h1EPoie+h3dchfTdC13Zk/f1LKqSa1i0aXL39AOTKSwI71SdWEhzdjY6/DOMHbDta1iAb3wEDtyOFTjSZh3NPoGcfsUT2zmuRnb+OlAdRH6OnvwNnH7YBy9v/FdJhZEc1hZHHYPj7RqB2/BvId5lyJQJrPwBn/xHK2y36Iuq2rsGJY5bMfhmoJlYajAahZB4eTSaywdw3NnbQ1Klw6PKnD2DqUFailBxGthrqV2T8RteCP435/mbBXU9zHmYRGMHxRkSCrLGghYUMLmm1hHhfg2gLBBuBSfC7ERyBizLiNEMgfdnzY5y0k+gRnG5AZS7LEgjtB0ACJNqC6nAWFRERuhqoqS6OAFC8pgTSS+TO0VWI2aB1Yp+nngj+rlmOJj2sOZYnOu8JwoRid5UNm4U0HSeObZh6mqYcOnSIQ4cO8cADDzA4OMj27dvZtm0bAwMDiAgbN3az6R3rOPTgGaK6Z2DfRZ27F7+PQBIIa+742cY1LIeW1jz/6t/cyZ//yaMU5mNqhYCoEFKr5ogLjlrVkcsJ9VhIAqWeQi5o9IwKiuIVnEQEEqAo1XSWQDyh6yb2FUQUJUSpE0g7ngrmpItI/AUi10/dv4zXaZxYY43XUZwM4aQbFLxOECxSYYV2lKshpKbsq+pPlI6/itcWVgnWKl5ZSAG0aORJLkewOsCfMxLRUDiCXsx3NQJuU2Z0jyAZNnUrtw7mXzKykN9k5ahkzLxXs09D9ZiVCScfgdmXkI43osVNMP64lbsG3g3H/hLGnkB670U3fdxKhSe+iG76GNJ7GyoBHPmcDV2+5kNIx1a46Q/Qg59G9/4F2rEN2fRepLwG2fZBdPO74ewT6Mjz6L6/B0Bb1kDbRvM6FbL8KxcBakTDJzB5CK2Oo/PjUDkPM6fAx3axbtuIbHkf9OxCit1mHJ86jD/5LRjdbces71Zk7f1IacAiJc4/AWd+YEOb19wPa968QOB05iicfiAbeH03DL4VcSF6/nswfwY2fNJCWpNJ6HsnXPgKdNxtnjdftSDXZaCq1jE4/xKks9C2KCerfszIUbTWbvtpILX38UrQODtHokx1wjLSFpcX3Qbwx23skgyYh69BXokQsTmHIlnGFW1YWGmYnaPjUHxP03CfnrLHEASPuawqpHoc0Taq6Q/JB7cCSdbdqObhCQIb5IxC4WaI1iP10wShzUWMnCPIzM1h4/3AUwh3EaT9pPocPcVZ6r5OLc0TOGXgfTPsO1jEPe7pGK+Sng/Zdx6QIrmOGjffWaY6d56ZmWbH5fDwMMPDwzz00EO0tbUtjO7533/rHsJ/HfKf/vpRnv/+6WUPd+Nyv/UNffzxv3/Lld+fnxHuum8jn//U84yOzlGoxNSLIfF8SL0QkMsFxHFKmjiqaUo+gNgr86l5scKM7HqFWloj1YR8oBSiNlIFr+O0hL3EfgIhwmsVCIj1LIHrJfEjFIIdgJDqBXJuC0ILqY4SMoRIAaGEZ5xgkeou0obqOVT9QmPE8mjFCH6FZrf1Kl7vWCVYq3gVcBVyuOsEr9mFM7voSgSuC/x5YJNd/MJ+I1j56zKC9byVCaM11v5fO4a03I5G/VA5gBS3ouVrYfYltP0O6LobznwK5g4gLTvQ7jth7FG0/Tqk0INu/BAc/RScexgG34z03JyRrM9AWjOSlW+H638Xxvegx76OPv/f0b7bkKE3I6V+WP8WZP1b0No0TBxAxw/A9El05AXr2lsJUdnIV7EH6b0R2jdZ1IKLjLzMnMSfewwuvGAlvUIPMvRmGLgTybUZsRp5Cs5839Ss7hth6G1IoQcArU/CmW/B5F4or4ftv4uU1piJf/QxGH8S+t5uo3NOfRnKWy2SAZ/52Z61kl60lCirplY6nN9vJvawG9regoSd2eNqBCu3oVkeTMeBLH7jiogbBygr3eWzcvIiZUVKIP0WbBtkWU7isvJho1NrioVxTLQCp1HaMhKYGsmiG/Qc+LN2PmXqmYjgtItED+LYCIDXBAhQqhkpcagoEoQg3aaGiRnsnQiBC4k0R0pCoEb0nLSBJghtBE6IpA3vEvqL89TTOlGQY00JNtxa4fBm2HuwjeSo0nWmSrESoxNFnvymJ8738V/+64c4duwIBw4c4Ny5cwuHZnp6mmeeeYZnnnmGKIrYsmUL775lG7/3kfdSLr92L+4iwr/+g3v44//4bQrzCfW5mFohpFaNqOcDatWAXN4T5Tx1r+S94D0kqsReqfoEl3rygScAnOQR8swnk+ScHftqepJyMEDdnyPnBqj7M+TdEFW/D3AE0kWiF8ixhUB6SP3owukk0oXX8aXbzDINO8uicR7OsEqwfn6wSrBW8cpD2rMYhsa3/eXQis2jG2OJ8TPoh/hgM8IhHIDqsxZS6dqthT8+aSbq/EaoHUHLt0FpO0w9gqZz0HIjzL4IlYNIeSda3Ajjj6LlbdBzL0zvg+EH0PWfQNq3owNvgXPfR4v9SMe1SPcuNMjB4c/CS3+KbvkY0roBum+wTrxzT6CnvouOPI22X4MM3AXdNyD5NivlDdy+sDua1KA2YaqVNEIvHeTbkXBpJpH6FGZP4sf2wugL9ryoFXpuQHpvg9b15udIqujwD61jMJ6B7l2w9q1I0YiQplULVB153DxBGz4InTc2De5n/wlmXobuu6HzNhj+rL1PPe+Akc9bZ6YrWDJ+ceuSkoYRv0egdgTyW6D4Zgh7l5Y9khEr8y4OEE1H7P27mjRrrWfnUVbyk7ZLc9MAguvN17WgUgFEiCaotGIEK1PQKC36PQbkwR8G3QtUjOQ760IUEUTbEapAitfJxoZh52wjCt3b+7lQ6k3tcUqgFQIJCCSH4MgF6/B6Aa9VhJjY70VECYKUiDz5IGaglJAL6iRq3q5bepX5TWPMxsJ41XF0Snjqay30Ha6Qq3n+7M/28J//87t405vexNTUFAcPHuTgwYMcO3aMNDUTfhzH7N+/n/379wOwbt26BXWrp6fnNVeu2razj03bejh6aJRcLSWqp9TqEXHsiGNHmghJKsReiT3UVCmogErWlBDiACeCkxw1P4+TGCctNt6RGHEt1NPD5IPbqKTPUwp2ATFeZwikm9ifAcC5LpL0OKqJ5WHRScKZi9QqI1XKDHIZgiUSoZrHiNgqfl6wSrBW8SqgYbidZsWuGXH2rV9HYVFnDq4P2Ad+3EqE4SCgkAwj0UY0tx5qh9GStwt89YB1Exa328Dnyn6k9Ta0sAGmn0FLO6D7fjj9dzCzB2nbhQ6+B07+A0w+B523wsD9UD0PJ76Auo8jbVuQjh3oDb9nGVn7/hxd9wsweJ/NvFtzDwzcCWO70eEn0AOfApez8mH7ZmjbDOU1iAuQMAvZvAiqHq2Ow/wFmDuLTh2GqaMW4xCWoOdGpOcmM7ZnH+ZaHTfFauQpKyf23AQD95mKRubjGnsGzv3AIiH67ob+e5HAQl81noRTn4f6OAx9CGndjo4/BtXTsOZjFtKajEP3L0D1BPgKlHYu3fDK81A7DK1vRlYoHVI/YspX2J/trM+aE7Zc8czJdjQ7RzICKi1WTr4YCx6txYiw4cmdwLlLPS/SanlabhD8iay8eJORPz2emeRbs4yrGk578MxQDH4RzyheazgZQjlnWViCme3Taag9Avk3gsbZHMHm6zpppRjuopI8jtc69fQg+eDG5maJI3LQnvcISjl0REFEJHlCyRMFedI05fNdE/x/X+xk07OTnD7Q7NZtb2/n9ttv5/bbb6der3PkyJEFwlWpNFXUU6dOcerUKR588EE6OzsXyNb69esJgtdGRtM737eT//e/PUJUT4nqnjBOSZKANAlIEodPHIn3eIXUW6kwdkoR872JeFQ9qU9JpULOCU4KxL4CuIxoJTgpYmlptt+pTuGkHeUgqgku+xwz4tWJExvUrcwtkCmRELSA6szit3sFFIH5n9FRW8WrgVWCtYpXAWVMV78MwQIztad7TLFoXChdBxCZ4hH02EgV15mVBTdCbgNU90JyzkzVrgVqB5HcfWhxK1T2oi23QNvtMPIFqJ1EChvQlh0w/gjashMpb0I7boaRB9HyJiTXhW74IBz7DBz9FLrxw6Zk5TvQnb8NZ74Hp74NYy8Z0WrfhrgQem9Bem9B54ZhfC86cRA9/g1T7hA0KpsClWs1QpnGRox8zTr/fNaO73Lmu1r/dmjfAi3Nzjv1CTr+ko22mT4MQd6CQgfuRnLt2TIxjD1vsQv1Kei62XxWObtAqKoNvR550F5r479ECn1o9TRMPGahooUhOP8ZyK+1WYJjX4eoD4l6Ft4urR5e1Cm4gi/Lz0HtKBR3NYlNegGoN/1YV0Lmj1n4+JIWYP4KimgDIUaw+oGTwBSq7TSToTLyLx0QXpOVBRuQbLku4AyQt9wsmUdlEu/PIrTipItUG9sX2NPCFoinoPowUMviHJrX3FD6rSONThKdRoFa+hK5YAd1XgKMpwWquGyGopEBj+JJs9E53QWlY1NM/aWAQjVl94tneeaFM3zvgUMEcYp3wn3v3sbv/MYb2LlzJ957zpw5w4EDBzh48CAXLlxY2NuJiQmeeuopnnrqKQqFAlu2bGHXrl1s3broC8+rgJtvW2uTjRJPVE8JEiWpm3KVxI40hcRbHhY4UvWkCnWfUk08oooGKYKSCyB0Lag66ukYxbAD7xshv/bupFQQCqQ6QeSsCWNxqKhnhoDOBVKlzLK4HGj3X2HIPbDQkLGKnxusEqxVvPIQAW3L/FWXWy67eOsoyJrmc4M+8CNA1r0WroF6VjYMuo1U1U8g0Rq0sBXm96Atd0H5Bph/2XKwCpusC27qaShsgK774ORf2u3ON0Lf22DuOJz+PLrh15Egj276GJz4Ihz7LLr+l5Dum02xWvcOtGM7nPwmHPgbaN2Irnsn0rrRNrk8COVBZN3bsm7AU2Zcr8+g8QzUZwA1ZcqF4PJIfxcUe6HUB/nOJQZZVY9OH4XRZ2F8L6RVaN0Imz8EXTcggZFRI1bPwvkfQjwLHdfD5k8gxf7muqrn4Nw3zczedh30vwMJS1kZ8WuWct95tw14rg9D7y+h6bx1Erbf01xPPAIzP4T81oVOwWUxv9vKgIUdzfvi01bGc1fjv8IIlhRoDgxv+FfmsMHPl0OIRSh0YCTtObLwq+zxCPsCMNU855a+ONCFyIksqXsEoZXE70OZJZRrjThqztYvmqW6zxmZTuaxaco260bEEWgrleQxfHYhV2KMPOWop/sAU9kEG2gMgDQ645SUFNE6gYS0RikDfTVOdhcYPDPH//VHDy7stQ+EIFUe/9oBHvnGQf7q0x8lnw9Zt24d69at421vexvj4+MLytbx48ezshpUq1X27NnDnj17+OhHP8r27a/sjMLFyBci1m3q4vixcaJaSlj31OpKXHckiSNNnJEtVfNiqWSzGCFVJcVntFRxkkPIkWgdJzGhtBHrFI7QBjhTIvXjBNJJqhMUxBRbr9MErhOhiC6Up3NAhOrsRZ9rrShnrmLPilgQ7ip+XrBKsFbxKqEDOMXCbMHlIEWgzUztbnEeVj/Un2teaKO1UN8LyXkkGkRzGyx0tPQGKGzLAi6PIsXtaDQAcy8gxc1o+50w+jW0ehIprEc7boeJx9HyNiTXg677MBz/Gzj7FXToQ9ZZt/FDlvJ+8ktoMgt9d9tYjNaN6LW/a2NlTn0b9v0ZWl4LPbdC941IZMZVcSG0bbIfrqJqkMH8Vydg8iCM74bauMUo9L8Rem5a8FcBNqx59GmLXUjmoOtG6L8PKfQuWmYeRh+1Qdf5HtjwSaS0wR6Lp2H4c1aO7HsvoDD5sBHSwiaY220rKWQzDNXDzENmZm+9Z0XfjqlXR6B4UzPZWhWS0xCtX/k8uGRFF/mqGn9rpdlVuCJCoIJIgOqdmGJQwchZP1DAFKrzy5ybAUbE2gCHkEMkwdFHqseBIoGYwiH0oJxGNbASU1CEdB7CwLpoF8FTQ6lTDu8lckPMJ89S9yfND5TlakmmWdm6HaF0oEyhCEpC6q1vMRco3eWUvWvy9Jyv4DzMl0PGNufZdEeVI88WWLvHPFrPPHmSu++3EUef+8JuHvnhMf7Hn76fO++8kzvvvJNqtcrhw4c5cOAAhw8fplq10uxrwZd18xuGOHF0nCBJcanHeVAvpKmQesGnRqoaJvfFUQ1e7a1VFUIpoiixzpMXQHIk6TTFoI1UZwjEfoeujdgPIxkhswgHEGnBa+NvQSihF5X5REqo1q5iFE4eSFZH5vwcYZVgreLVgXSBHsO6Zi4NQVyAGwB/5KK4hgEsrmHYUt1dhxmQkxNWFsxfY2XC+LTNJoyGoLrffFgtt8DEN9D6OShugdwgTD6C9n/clJq5gzDyTXTtryL5XnTtB+DUZ+HCD6DvrZZ5tO79pjad/Q7MHEHXfwDJZd1nHTvQ9m1GhC78M5z8Opx8AG3fCi0boGUIykNIeIVgzngGKuegMmyK19QhU6rCMnTuhJ4PQevGpQbzeNZG21x40shR103Qdy9S6G4u42MYfxrGHrdj2vsm6L6zWXKsnYfhL9ixXvsJJGpHp56C+gj0f9SM8JX9UNiIBBmxic+Zx6jjfZe/MMzvsxJeYZH64SeNKIdXWR4Ei3QI+hfdkXUGNrxZl0WjRAgieeyi1n3RMv2gp4BJmrltjedqVijswPwyJUQh796KDY424uhkO6lO4angsmR3CULwIcgsC8OoEYQUJSTRUXKyPjvPF/uzBKcRziWEPkGA9vybmE/2UPcn8epBUnxWPmzPQbHPM9VVBFWmbyyxdccUa9s85zY4Zk/k6KpVeXn/CG+8bxO/87tfpnp+DgH+7794kt/7rTsBKBQKXH/99Wzfvp2P/8vPs/Y64X/55L0MDV1NVtnPFmuH2s3FpuBSRbzHe4f32QxClQVNUtVIlqgQiENwICmB2FxJr4mphuqsg5Y4KwlWCKSIZx5HH16NOAkFNDvXhDxKc26okF94rIlGs0qNZjPFcmj4BWOana6reD1jlWCt4lVCG/YhMs7lCVY/+INZmTC7qEoeXA8kZ7OxOWIKSO1lKCQ2/DnoMbN1bgMUd8L0d9H4gikwQQfMPod0vRvtuBdGPpd1FG5He98NZ/8Bpp6DjtuQli1o31th5HtorhfpyLxDa34BbdkMJ78EL/9PdN17kc4bbPPEQecO6NxhpGfsBZv1d/Yh81cBGrVCWDRlIyxaeTOZN5UjqTTjG1wEpTUwcA90bIfy2kvydHTulJGqyb2AM9Ws754FDxZk0QmTL9pQ62QOOm+BnnuQsJmcrpWjcO6rkOuCgV9BwjJavwBTT0DbbUh+0I5hMgptdzQ3oH7KZgiGvawE9VWoHYLCtcjiTsHkgm1zcDHJWWlFKTaHcJEPSAS7iF0FwZIg88BdDm1Y9MMIyMUEC4ygdWRlwkFUTgHXNZsNtI5SIZCbSPUJPA5HHSiDmwPNs0DycNmMvLXU0oMUgp00/WALG22ZpRqiorSEkhERJwAAIABJREFUtxK5Llx0K/XaaSCXdR96nEBLDrq6q5ztL4NCV1cNBCqJEMcOQjNyHzk4yic+9A+EiZJm5cMnv3tkgWABHDk5wh/+h+9QSpXRp4Wh//jqkyuAnj47b51XAq9IqjYWxzsb7pxFNKg0lSsVycbaKA6x0TlA4usEDgJXRGnMfMyT6gyRW0vixzPDe4xqjEgeT0PNK+B9cxKDSB6vS31UskCwqlwdwarTJGWreD1jlWCt4tWBONBOi2GQjZdZsAwUs27CRapFsAbi3U0DfLQeanuMdEXrrYOw8lRzNqErQ3U/0nof2nIzTP0ATSaQwhBa2ARTj6GlLUhxCG27BcYfRsvXIFEndN0BtVEY/jrqQqTNvF/StgXd8e+sZHj8c+j4CzD4NqTUHIshUYuRo4F7rJRWHYXZ01biS+eNVCXzZk7PtTdJV7EHSoOQ71o2oFB9DBMvmWJVOQO5Tljzdui6ZYk6pqowvQcuPGQm67ZrofdNSK5r0boSGH/E/GelzdD/PsTlLIF97NsQdUL7Xbbw3F5rLMhvaK6/fhJy6y5fOqpaDMAS7xVkw7q7m+rkldDwu8hFpFwKoFfTgRWyZBDzchABzeYT6hBII5eosY2NLsSjCG0oSTZvzghm3T+GMkvOvREnN+L1GZRORGZBO0AmF72YlRq9n0BwVJLGuJ1Fm4PpXE4ERcgvqH2Co4NEzxNIC6rzKErBQVtrwrk+i3MoFjwiMJ9Amjpc6FCBM0cnCIBqMWDsjXn6H5onjP2S1/7DP/gOQWoEzKXKv/+TB/jT//CeqzjOP1t0dtk57rwiXgk8pKn53byXhVJg6jVTs5RU1UqDCx2cDq8pnhpOjQj5LMRWJMSnc7iwiNf5hUBa+7uAqn1RMgVrMbHPc+ms1axLdyEfbSU0vnjEl11qFa8frBKsVbx6kB7Ql5d2CV6yjFg0gz8H7tqmJybMCFZyGqLNln8V9ED9qBGs3EaoPAPVg0jpJrR4Lcw9m2Vi7bAB0DPPQOfboeNeOPf3MPMitN1isQ2VI1YqXPMxK4sNvsuUjzNfRn0N6bjZNi8soRs/YurR8PfgwP+DdlwPg29Z4nmyXXFQ7LOfHxM6PwLjz8HYc0bQWrfA5k9A29aLjPAKc0eNWFWHoXU7rPsokl+6TVo9CyMPQDIFXfdDx+3N9Uw+CvEoDHwMkRBNZ6GyD1rf0FwmGYN0ClruZCWoxlA7APmtiFv0zVy9ZWLlf4SutHQcy5a62GuV5+pa3DND++W8fwCyyUi97gVusy8EC+vP01QYPFDI5s31ZiUmUzDq/kkidxvCZpRjqA4hcgG4BvQIDiv7eZ+gojgKxP5ktpURYRb34DMPkUVDCKlOE2oP0/VHqfszGFmYQzXFCZRCpb3k6e6r4lMhyqesaSlxdnqeNBa7jGcNkXHkGH1bmX97/ySfezQiqC0lny4jV9MDebrOVDl94LWR06QXi3wLDzR/jEw1i61eLV0fbb7vniahFAkWFCxrMkgQwux3I2W/cV/mu7qIsNtjS4+hRTUIDdVyZSxWSFfx84BVgrWKVxG9wAFgBLhM6UH6gRNZ12FHdl/BfDjpCSNYYL+r/wx+BnGtaH6zmd2LN5hyMvc8zO9HyrdaVMP0o2jr7WZob7kBpp9AyzuRoIj2vdtm7008Cl332ofvmvdbjMHwA2haR7qtTCYi0Hk92rETxl+A4R/A/v+Btmy0zr2Oa03J+jGg6qFyFqb2weR+U9KCog1h7rkdyV9aWtPKCRh5COZP2XzFDb+GlNYvXcbXYeIJmHwK8v0w9OtIblHkwuxemHkOOt6E5DLlcOYZ2//yruaKaoesPHi5iIXqftAYChfNLPQTQP0iP9UV4C9Yt+HFipdE2bidK6HxPM9lfS4SAteBPmNeQbkmU89KIKHxE80jUkW0E6WR4G0kLHK3kfrTxP5pQrkBiFDqmDNoGBGHYzNO92ZkJ8GjBNJmF2mtUQhvoZ7uRnUUEY8wBRrgtUotPUY1OY7STs61Ensbc+PEUY6U7jyMd9ZQL3xw+w7uX7OVf/fg10mSYGkFUiAXQRg2eYf3inOLvH0izXDx2lKF69XCfMXCZlUEFcE3vltkm73AnfWi31gzwKIbi+xujTBSQCUjWw1CvkDTaMRj2FOs8aGZp5YNB78ETe/fymjsxBUU1lW8brBKsFbx6kFyWZlwBORyBKsTiEDPY92HGYINUH8K/JQpGtE6qD5vY1gKuyC/HWoHoX4SyW9Ci9tgfh9a2gXl62zUy8zTpmK13wVzL5tq0/12pLge7boPxn9o3quWHaZkDbwLggKMfNdS4XvvXzB2iwTQfSvauQsmdsPEHpvxd/rraHkdFAeh2A+FPisHurx5rCQwU3o8A8msZVXND1vpr3K2GS7atgPWvhNaNy8ZBA2ZYlU5AWOPwdwxKAzAuo9C+ZpLk9Zn98LYw+Dnoese6LhjiTldp5+2eY3lG6DVlDpNpjP16g7EZTEQmkL1CBSWqmdLtisZtWiGwk4kuGgESHIeCK/ef5WOWmNDtGuZByOurrTS2M4rECzIypCbQI+CdmO5bYtLk0WsI7ET1WFUE3yWxC20ErlbSXQ3ie7OugvPo9qPyDiQx8kGAjmNMoXDgdbxzKNAMboLJwUK4RuYqT9AIK1Z0GWR1E8zEz+Hp4DXOSrpFDnXg9dJBE/OKV0F6CynpCpcqE5weHqEWt2hieC8Llj1VSAIPIGAd9apODdbo7Uty+nKCEjQbcTDvUbElUrF3mtdnNfaIIUrCJMKC2pg8z5t3lLJdrgBb4b4RStV0uy+zKt1yflkUyovHdoc2P/L5URTMf8YvDZI7Cp+cqwSrFW8upC+rExYY2mo4+JlnKlYfhjctubX02AAyFn3YG6XqQ7RBoiPQf56JOxEw34zv+c3QfEGm483/zJSugFtvR2mHkZbbkKiXjO8TzxoMQ2FDdBxJ9QvwMgDaNSJ5PvtQ7PvLWhQhJHvw9wJdO0vIbnORZsbQfetRraSCkzttxDQ2aMWn3DJB6i79L5cB5TWwsCboLwOyutW7NDT+TO2LZUTkO+Dtb8Crdsv8URpPAEj34LqSShvh+43I9FiI7xa2v30P5uJvf2NzXVMP5GpVzc0V1g/aZ17heVLfKopzD5iA5yLN1+6QHIewj5YgZwtXZmH+vM2izLcvMwCPyrBSml6Xi6HjcAY6B6gztJsrAJQQbDtUcbtPAaEIiKOkBtRTWwosOTQhbiFGrCHQNYAcyR4HHnQGvngNiK3DoDEn0OZQymbl0jrVDlJQp3Yp6SaJx/0UffjqCaoBkTOyoTdBWE2hn2TZ3n2wjnSOLIJU0v2T3CB2hmYPXDu/MwCwQLjHX1bY6pPgEtWqs29spiaMKXQZ+qVwtIdk0U/l8Wi/VlMrsQe0yW3G8sLzcHhFxOsYOlyC1hJ2boYV7vcKl4PWCVYq3iV0QccBIaxi9kKcGsgPQ06QXP4s4NwfRbPcJ0pQblrID4MyRlTtArXwuwP0HgEifoseLSyGy3uhNK1luk09Qja/cvQsgsqB2HsO+jgryEuj/a+y0bHnPsSuvbXkDDLs+q+Cy2thzNfhmN/gQ68C2m/4ZLNlrC0QLYgM5TXxiCehrSWJbfHZnKP2iBqgagVCa7cRaSVUzD2BMwehHwvDH0YWrZeSqx8YqXAyScgaIHBjyClpcda1cPEQzD7AnTcj7Tduuh1DkL1EHS8fUG9AqDyEkQDSLhCGn91P/hZaHvzpeRQ62ZwL9xyxf0EIDlm3YP5tyzvncpKNVf0Vl118lhjcQFusFIhLcDgogcVu8AWs98VRFrN/0MFodWykaSMaKPTrHFBXgdMITJqfitiEhRHnrp/kcD1I+SpJs8DLdRTC2NVnSHxcyReSNIIkTz1ZJqUGo4CnhgXKIXA4hpElLlYqDmPC3Rh92URsfCpkGZddgCzs/VLDsMHb0z4BxxB8tpQV156cdgUqUDwTtDA4ZzinMc5U6WcQJCRLBEIRQicy5LwG8uEi4+ERXdo4/EcVtZrEirzWPlFJeqLiVZjbcudZ69+ftgqXllcxVfHVaziZwiJgJ6s/He55bqAEmRekwWEG4AY0mwWXdCRmd0P2+1oyDKyqvvsdukmU13m99tFv+0eqJ+1IFIRm7PnqzD5Q3tZF8HgBywe4PxXzLvU2KTiWtj0W9CyDc5+FT35j6YmXW43XIgU+5G2rUjn9ZYG3/sGpOtGpHUTUui9LLmyFPf96PG/gRN/B/UxGHwfbPotpHXbpeSqcgxO/zVMPA7tt8O637iUXCUzNsR59kXofNtScpXOwtTDplIVtzXvj8+bQb14KakErHtzfjfktyNhx6ULJOcBzWZJXgFah3g/BBuXMbc3sFhJuBr8CEqM5EHuALn1Iu9XSjPPqoRqpTkuZcnw6TqmltVpKh1bELkNuAFHEScRobiMG3rq6R5SHSHVaVKdQqRM4idJfUzqI7zmSBTm0jnm0jpCH548qVrRKhdAMYRCAPkAigFEkSKBLhApAFElTZ0dtezu2ZlLCdYtnQ51EPjXhoJ1cN8I6iANHT4MrMsxUOuJcYo4JRAIxEqhAgTiFl3wbD8CcQQSWeOoxrhMc1D1OMlnmVg5kEashs2ybHR6Ng3ti88/Waaj9kc5bq+NY7yKnxyrCtYqXn1Ir3VrNZLZl11GwK0FfxR0Z0bMMPLkOiE52QyrzG2B+SchnUKCdrRwLVSeRNNpJGjLVKwX0eIOm0OYXw/Tj6OFjUjYjnbcZ6XC4lakuBEJ29CBX4azn4Xhz6ODv4I4K2dKkIe1v4S2bocLD8Pxv0HLm6H3PqT408sM0uo5mxc4vc98WqUNMPQRaNmybDyCxtMw9qAFpxbWwcAHlpjYF5abPwpj37Lyat+HkEJzm1UVJh60xzruX/o6lT0QtENu/SXrtMefMzJSvHH5x5OzRpZcefnHFyN+GVDI7bzMQldpXv9xVYRlZxw2y4ySDeq1oNECnmmcrkGZxesEjY9aIQVaEObAH0IYz4pJDic5AuqWzK4nSdOZ7FIbEfsJVIMskLRO3SfUfUDouimH3cQ6RSWeRbMLfeSUvBOKQTbs2Ath6JvV2EXX8IVwzszDVJm/lGCVchFeEtxrgGB5r4ycncGLkIaO1IEGgnOeILCZjSKakaammmUlP81++8xPFWW5bDW81nGSNQFIipDHa4xIZJ2wYH9nxBrIlC236H+jYYy/GBeXDFfCqsr184RVBWsVrwF0Yx8sI5dfzA0BHvzZpfcHGyzGwWfhnOGQEbX6Qbud32y3q3vsdulm88rMZ6pW2z2WRD77gt1u2QX5dTD+XQvIBKSwFtZ8xDxZZz9n42gWQdp2wubfhrW/bOW/43+LHv0LdPRRtD7OjwpVj86fRUcfQ4/9FRz7S5jaC63XwsbfQDZ8Emldphyoik6/AKf+Cqpnoe8XYc3HLiFXqmoJ7Re+Avk1MPDJJeQKgNnnLES0461L4hU0mYT6cShevzy5SyYtLqN40wIRXbqAh2TYojauBF+B5ChE21Ym38CiZvwrr/OnhhpNH1dpoXXf0UGqh6n5b1L3D6HM4BaytGpAi/kOqQDbEN+C4BEChAJCDlUh8RfwWif2M0ARr0rdV4k9xJrDk2MumWCkephQOtnU+h5UjUxEzpF3pmCZiqXkIiUIUvNaLXrbFEgXXf9nLioRisJUvU4aOkRhevpq4jB+dji0f4Q09aSByxQsBwHmJXPegkSd2pChReVBUFJNSDXBa0KqMYgnyMizhbU2wmJjHEWUKo48noa3Lmdho4tiG5bqFCnLX1ZXIl4X42qJ2CpeD1hVsFbx6kMi69LS8yArKCJgF1jpB38C3KLZdeE6iPfahTh3febF2mbBo/nrEFdCC9fB/HNo4QYkaEULO03FKuxAoi60vAtmn0FL25GgBe3+BRj+FIx+C+19v3lpCmvRwY/A8Gdh+LPo4IeXlPNEHLRdh7butAyqqd0w+hhceAjN91ocQr7H/FJhK2YOyT500zmoT0I8aWW/yknLuZIIyptg6N5MrVr5Q1rrYzD6XZg/Aa27oPstprBdvFw6b6pV9dilZvbGMtUTMPMktNyKFC56TyovWjTDCuZ2qi9lYaRbln88zczgV0OwkkNACOE1V172qvDTUWBM0agAFrgqUkb1JKqeyO0i1a7s/nYcbXg9jmKxDubZOgOyHfwM6DhCGYhwEuMyjUTxeFKEHImfIfaOOA2INcR7IfYxm1rvQzXlxOyTTNQsQ0sAkYR8GGbjYLx1JuZTcgVPkguyMqF5sgRIvCyUDpNFPitrrFOOzyVUWorkayl/9F8e4k/+07t+Ksfxx8FXv/CSJbBHQpwPSEPBhWrdkKF5zYIAAmdkM+8EyQzsdmw8IoqS4LVOzuURKYPY0HUnRVKdIR+sJdVpAmnF66yRXwlR5nHZIHoLD1305aNRUrwE8dIJBiviaonYKl4PWCVYq3htQAasU0srLBnkezHcekj/+SKzewjhRkiOQ7TDbue2QG0/1A9A4WYb+lzdaxf/8huhfBNUD0LlBWi5A1rfAPMHYeqHaOe7rFTY82648GWYehw67raXKgyiaz5q5cKzn0b734/klsYMiDho2QItWyxxffawEa7aBfvbrzTSRTKjewd03grlzVBce8XBr+prMP44TD1jxG3ww0hp0/LL1s7C6NdBE+j9ZaR46XJaOwXj37C09tY7lj6WTtkIovIdFqB48XPTGVO3SretvN3JWfM1BSuY45sbkjUwbFuhRPeT4CdVCRqm9Ya/rIyRtwoiLYSylBCqTmIm+WnI6BPaCn5vtkAAkiA01COPqserJ/XzJD5H3afE6ki8J/EB3flr6M5vRkQoR90cnvoBInVEzH8UOU8+KGVJ455yBPlCykwuaGZeYWN4Em1SzyRtdrGpCOJh75Rjfoej4zEYPjLxEx67Hx+z0zX2vTBMGhi5SiL7iXJKGChhqASBEmYerFwgmTpoZMumDzYbDBM/jwQ5QskDMyB1IjpI9QKBtBH7M4SuB6+zOLEsO9V5nCtmf1ezmZYN1OEigqWaYsTp8gTLMriuIj5kFa8brBKsVbxG0IMN7D0HslwbfgbpAopmdneLLtDhZlM7kpMWOCoR5LYawcpdax2BF6tYpRuaXqygHW2/Hya+ZUSrtB0pbkLb74GpR9FcH1IyxUbyA+iaj8P5r8Dpv0N734m0Xrv85roI2nbaD9mHaDJripU2Yqc9BCWI2q9IphbDMq32wdgPsuHOd0P7GxC3DPFRteDQyR/agOue9yBh66XL1c7A+AOQH4Kud12qmFVeNCWxuOOS5wJGYiV/+XT25LSZ268UzxAfsd/h8mTx1cUUdiHN8qKyGXPWPbg0VNYunNNIY9STVrDxT+OABxkEP5ZdVyVLg1eUNCNZjlhjKw16ENqJHHTlt/DY+b9jR8eb6Cls5NrO93J2bi8nZncTSEA5KpF6pS1XQpmjJVQKxZjJQg6/jILV4JzxRQqW88q+C46tN80z/YQQxa9ejMAPvnMQrxDnHHEuIMk5NDJ/WYNcBYES2MhFrDPQyFVOAvJhSD5IiVxK6BSo47VKIGWgRKqzRK6TxJ/DSRmvcwTSSuyPE0grqmkWGNt4v6sLfwOo1pdRsBrxIVdSsC7uSFzF6x2r7+QqXhuQAJs1eHZRxsxyywm4daDD1l3WgCtBsNZIVuP5uewi3/BiFbYbOZjPvFalG+15s0+aGba4BYpbTcVKs4GtbbfbfWPfQuOml0ryvTD0L6C8DUa+ho5+L/umeoXdFEGiVqQwgBQHkeIapDiE5Lp+NHI1fxrO/D2MfB0KQ7D+N5HON65ArhIY/zZMPgytt0D/h5YnV/GokatoICNXS7dHkzFT/Uo3Lq9e+aqpW4Wdyz4OmNfNz5hP7rI7qJbSH65nxXy0pU/Ifv/s/SuqHhgDOheVVvNA3kbmXIIKYKZpw+KOQs3U2MZ6dOE1bEixJ9EUryFKkVzQTc3PsLntPkQCcq5E6mNiP8+hqQc5N2/kKgpCYj+LiCfRafKB0paDUjHFF8wcDpA6IQjt/yUN7L6zZ2cWttyHgijsfrqFWBxxziEevve9gz+tw3nVqM7HfPXzL+GdEOcC4nxIEgougiD0hFFKFCou9EQuU6sEIifkxFmcHilOhMAF5FwRJ45EK0BMPugk9hME2fnmsjDWQNpIdRInbQuDnBueOtVKNgjaoNiswou2HGDR+78SGimuq7rHzwtWCdYqXjuQdZgJ+AqRDS67OPtTS++Ptps6kGZRDq5gpcL6IdC6XfSLN0L9GJqM2e2WO8zIXTf/Cu33Gdmb/EEzjbn7HRC2wYWvommlubkuB33vgZ63w9TzcOqv0bnDzXEbPwNofRQ992U4+w9GJNd8FBn4JSRsW375dA7Ofx7mDkD3u5DO+5clchpPwNg/QdgOXe++hCCZWvaExWAUl1frqB0E5Arq1VkggPAK43H8mHWVBusuv1zzCdnvK5HUpUTmR4VqHXgRmGVxJpaIIPSijFzy/iuN+X1ZxIRk+y4xNvqpmpVAiyhB1uFm5MoomJmzY1+jEs/QW9hGS9RHe66fN/R9mJaok70T/0Q1naQUtRO4BEdMMQhxUiMXeIqhpxwqpWJKUIZqMaSWd9RKEYViSs4ptbJdDk6dmVrY9g1bexCgeNAzNZvj3DpT5/72L575sY7fT4KvfXEP9VpKHDnqhZB6ISDJB0Q5T5RLiXLeyFWohA6iwPxXoQDiQVM8dRKdR7WGE08xaEcEUj9DJCXIyolCjlTnsf7OApAQum58lmcWSDuqcebHsv89Ux7nMj9dE7oww7LI5dH4wng1Xq1VvB6wSrBW8dqBtADdoCdZeZorWS7RIPiTS9Uu1w6uH+JDzefndgB+UUfhFot2qDyXPb7RsrJmn0A1QVwROt4MtROW+k5GpHreB74GI180k3hjU0SQ9ltg6NcsxPPcF80AX7sCSfwRoOrRuYPo2c9k3YHDRuyG/gVS3LDy82rn4NynIZmG/g8j5eVjDjQehbEvGSHteu/SMNEGakchPgctdy5rtLexOQcgf83Sgc4XIzlr5OpKnqr0lHnx3BV8Ws0nZL+v9JH243cbWrbV0xi5uhmRpdsm0ofNIrx4IPIcRvwapUMPshE4A24nBDeiEoPU8dokWIrHK6gWsVKkw5PQW9i+sOax6hH2T34DJwGB1En9OOWwhcAlmQ8pJh8o+cAIVjlSCqWE+VJIrZSjWgrJ5Tyhg7jNocDsVLND9vf/7V0AlGfrJLGjvqZgqlEtZWL8lRv8PF+p882v7sM7oV4IqRVC4lyAy0OUT4kiTy7yhJGpVzkHgah1FC540hzhQhaWJ/azhC4k51qN7OItrFVniFwviV4glG48pugF0mmZZBQRyeHV7hdpqMF1IEUu8ZDOw0IcxOXQKCWuMPh+Fa87rBKsVby2IOuxC9gVjLTBRqBqnq3FiLaBToPPCI4rQG6zqStaN3JQugWSYTQ+awpVy10WB1B50TahsAmK2817lVhgpESd0PcrkM7ChS+ZsXzxZuf7Yc1HYeCDkMzA6b9Fz3wanX5pSTjp1UJV0dp5dPwROPnncO7Llvje94uw4beR1uUjEhaeP7sHzn/GvF0DH0fyywd6ajwOo182ctj9y0hwaYOB+nlTr3IbkdwKpb36cdB5G6q94kbVbJ7glboH1VsSfzC0qHR2BagFPF55+WWCoK5m9ToFPIuVAm9HpPOSZYQuIEAvUmBV54DyotLRHJbknsOmGBwGoqzEPId6v6hECKmacTqQFgLJUQq7mY1HODD5bY7O/JBi2IrqFIWgRDks4XWWcljCSZ1iGFIIHPnAU4qUcg6KxZhaS45qMaRaishHRrCkI6MetWape2CwDS8Qxp6xkTw+galO24/f++2vENdfmeGE//g3z5LEnnrOUSuGZnDPB4R5NXKVsw7CKFTyjgUPViFw5F1APgiJAkcxLFAIigQSAEqiM+RdGRBSnSIfDJL4USLXS6wjRK6XVMcRCjgp4HUSJ6ZEeuyzwTXCZbHy4SUKVsNzd0VcrVdrFa8XrBKsVbzG0AmUQU9ffjFpA+mB9MhStct1m+oRv7xIxdoJqHUVgo3QCfug8jSqHgnbobTLDO/JpC3Tfp+Rs4lvmocJLEuq74MWpXDhq9YhuHiTRJDyFlj3G0aExMGFb8Dx/4kOfwmdfBqdP7FEAWtAfQ2tnjVCNvqgkarTfwtTz0Jxg6lVQ59EWq9b2d9ERswmH4Hx70DLddD/0WX9VoD5zMa/BkEZut+PBJdeBMwc/5jdaL17xdelegDCQeT/Z+/NYyy5rjPP37n3xvLibblU1sLaSFaRFIuLqKIoUqQobtosS7S73fK0AWMgw4bdmAVooIFxY3oAa4CG0T2YvwYzNgzMjKc9Buxxm+NpS7KshRQlShQpkuK+V5Es1r5lVm5vi4h75o8bmVnJysp8WVqaReUHPGTVyxsRL98WX5zzne+zK7i2L2BY93Z/DsirrMlh8V4/oothoYW4XmJwkDApuH8FjU2AiEXYhtd3gxhaFa+nUc5WI/6WMMxxqIpbuZFgoZCjlHjMeRUsj/pQZVM8kakDnlIHvDH9TV4993X6fpbMZRR+itTGwDTKHIktEOmTWKHuGowkE0zUdpIapWYhrZXkNUO3EVPWDJELppy18QJvwOTLq3saW2yplIc8pgPTOxp0MweF59/8q6//XFviAD/58WG+9+0DlFbo1xz9mmOQOiSFOCmJopIoLkP1ylbtQQORgFSGoiGncUDuO4iUxDYltU1K7SCSk9oJcj1NbEbxdLHSripZV1D4Uzgzgaqn0LM4E6aGvZ9EaC1+Hr3OEJRb7xlyYPaC+1ZGj+V5hhu43LGhptvA+wsiwHbQoJtCVimXm71QPlFNHm5b2j66Hvo/DFUsuzV4NiXXBYIV70VMHc1ug5mvQ/91SK8PETq9t2CfdGeRAAAgAElEQVT2++jIF8LU4divwOm/henvw8j9YffxZnTzr8Oph+DM36ObvnCBmaaIgeYN0LwBzadh9qXgTTX5/WCPAKhELI5wIaH9uADXhuyqIKCv7Rpa/K5+AGe/Cd03YeST0Lz1olUu9T04+7VQ+dn04MXbev23QnWqdX9on660r+JMqEw17lv9ARbHqzbuKjYcAP40wTnywirRxZEz3JX/wlfe8AQrVKDOATes6kMGYOQqSj2K1xdQBtV2IxhZ0KVdAzwJ/AClCTJOqF7NoNrHk+N1oUW4hMyNM5ufxEmNge+wrXYDU/0Q95TaEmcktMQwFKqIH2BtAvQptU/hS5z1JBaSxKOJIS8ETQRrPaowOpbjjeDeE+h8y207ePEHh9h0qstHf203//JXPsRv/Jtv4g7PcPLwDP/Xnz3J7/yLO4Z+PteDyTPz/K//0/fxEnRj3UZMvxZRZDZox+KStBb0V0kSMhidgDNK6oTECKkREguxMVgKvAbX9siMgDQYlGdoxbsZeItQICSVbsoRyQQd/QE1+9FKfzXAymYASj2LNUsGvp5zFeE6L5BHPTCLyBCebwSPtNUq0xu4vLBBsDbwPsRWQtvkOAtGjivCjIKvqliydak9ZCZCJSt/NWiyRCC+DgYHof8i1O5A3DiaXAPd59D4SsTU0NYn4dzXoPtimJSLJtCRe+Hcw2i0BanfAIAk29GJX4fTX4WTf41O/Hqogq0AidrBPoG7wpdtPgn9U8GmYfEUqqFFF49DNLayBmoN6OAknPl62O+mLy5aSqy41g/g7FehnIVN/xSxK19dq+/A3OOQXIUkq1hn9F4D04Bo+yoPUAPBioawXCjPgNm0to3Dsv3nMJSR48Ka9VSwjlbbTay5UiRDdDvKEaCFkVsRxhdPmiI1VG8HJgnk62QgVlrgCYHV1Rzhsv1mbjMir7Iju4XCdzjdf57IxFjpERmDlQJnQv3EaHAz91pS6gwgJHYMZwahwuM8kkCeW2wS4mUUGGkUnI4tUVFw9PAU23cGgvsv/uB2/qsfHKIx0+cnf/cq//Xrp5mPLVE7oT3Z49F/fJO9105w9/0/KzPYgCIv+eP/4VsUhaeXWbqNKFSvapa45knTkiQtSRJPFHtiqyF30S2I23UxMscIWCNkUR0jwSQ291O0k+0Mylm8zlGzOxj4IyR2JwP/LrHZTqmTgBLJVgoNAxpWxlDtocxiZaklrnpu0YB0CZ3qtVy5irwcPWAV/eIGLjtstAg38P6DVCczPbq6ZQOAuRqYBT193vZVFcufg/LY0j6TGyE/BOXZcF/tI4CBztPVkq0hvHj+GbQI4/aSXQ/ZjTD9vUBiFg6R7oKt/zxUpE781bLfXfTPEoPEm5DmPmTkNmTkY9Xt9tD6S7ZeGrmaewlO/HWo9m397dXJlfrg9VVMhbZgNH7Rtcw9AQg07rz4/nwvVLiSa1ev7vipoMFaqz2oWnlCXZibuDqGrWAtWE3may08D6eBrWtWrxZgzQ1YuQcrd2Bk0wUVCZEaItsRuQG4C08LxeK1S+n7wIUVrLn8IJndxPHujzjdf57YOCJTEltPZDQIuI3DmojIWGIDTgrq0SY21z5BYseJxBMLxLEnTjykQpSUWIHCQyNRumm45v7rv3ph8diNZsJnHrwe44PYfeqNSQzQr0d0s4jSCP/7//I4/89/+MnPrF1YFJ5/90ff4dSJOQaJpZcl9Oox/dRhahCnoS2YpqFFmESepNJdGaPVcyIkxuCMYMQDObmfxRlL6pogJegcqd1MoadJ7ASFThHbbRR6hsTsJNfjCBlGmhT+JFY2IWIp9QwARsLnR3WAModheYv8YrqsldFlg2B9sLBBsDbw/oTsJnzhrEFcZCyMuvsDy7VYdqKaKHx5iaRFV4UWVe9ZUA1tseyjwbZhcDSsqd8aQoxnHl3ytWrfDdEmmPrHYHuwcOhoHLb8VrBwOPk3aOfNn9mfPwzUD9DJ71R6q32w9Z8HMf5qmPkR9A/D6OeQePPF9z04EtqDjdsv2hoEoP8ma1ozQKW/smBXIXQAOgeUYFbRcq2ICx20V4RIWKf9NZcuYcH7e3iIpGu2elS7eH0R1bMEQ4bgBq9VHp1gEIGx5Ga65QngHJkdJzURsTFEZoATwYnBGouTCCsWaxIiU8cZKPxpEtNionYnShB/Wwm5fS5WjAnkai43JA7Oba3hBZ5/arkG8sF/egMCeCP4yFAaoVOPmGsndOqO0gr/8Hcv84f/zd8zO3OxpILhECpX3+SNV05RRIZu5ug2HL2awzcsSeaJk5JaVhBX2quaqzIXDaTLpgjDVGFiIzJXxxlH4Wcx5NTdFgb+DLHJECJU50L+oOaAITI7GJSHiO0ulD6lniKqLGIKfwxDG1NNDPrqAu+9FawwHJG+x+19pfdCSah2DaPV2sDlgg2CtYH3J6QJbAJ9Zw3LBglaLJ2G6qpyEfGNoPNQvF2tNZDuDxWs4lC15mpwW6HzZAhxFQfNe6A8B/PPVIewMPYrgaid/ftlE4RiM9j8JUh3w5mvome+sRgQ/fOEdt+G4/8B5l+B0QeQsU+vKn4H0M5rMP8stO66MF/w/HV+ALM/gOiKi+cJUlXD+q+HFuJKoc7nozgVSO9aejIfJrMwK/t6XfzB9Ic0JIUwCbgegrVgDPqzgeqA0r9GqY+hnAXZimoPr11EFlrNtgoeFiKTsbvxz8jcNpTTVUuwixXBia3IlcNUBMugKH0MEYaI6cHTdPLjSz7hEtqE1nqc85Re6JVgDDBhKCIDuefEsZnFx/yNv38VBQaxZRA7NLH8swf2Mr+lxrmJjJmRhEFsOHF0hv/2d/6WH//o0CU9N0Ve8m//+29y4LUzFJFhvhHRaSV0GzFF05FkJUlakGUFaVoSJyVpHLRXiSO0CK2QWkPNOhJrK8f2PqXOk9iE1DYotYMTT2xGyP1xMnc1vfIgNXc9A/82sdmB10mUHrG5ity/W70WO1AtKfUE1iy1xEtOITQRWX4xokwjrCwfWI6FC7cNgvVBwoYGawPvX8hVoE8RqlirTJTJJpB2qGLJpvO0WC2wu8JEodsV2oRuc3AR770AbjsiEVq/A6a/Ct3nQ4ZetAmt74f5p9F4BxJfEaJ1xh+EM/8vTH4dHX9wkdCIidBNXwxkZ+q7cPwwOvbZVT2qLhVadmDqUei8BukuGPsS4tau9mjvEJx7BLLrof7h1RfP/zjkJY786upVmPxwsLdIVrFmCA8aytOhRbvmA50jEJphydIC+uvYZr0EK+anJViqBcohVCdRpgCDkT2gO8n1MYQWqmer6lWEkGPEYTDM5S9hxNGItmGN0iveqciVwRqHlRDqbCRioQJmUDAFxhf0/Ql8/tqS170JZMo6RQx4FTqFIEDaKplvxIxM9vh3X/kOV109xqnjsxw9PH2eg7qlMPAfXzyENg1zNmWQhOm+5lSPWqfgf/v33+cvRmv8y399D3uvW1u7BkHQ/u+/8h2OH5lZTq7qMYO6Jal70qyglhVkWdBeJXGYjIxtELbHiyHPikjQoiXWkdoEIwMKP0sWjSBmhH55krFkH53yZZyk5JQk9gp6+Qu03M30/dsYaWNllH75E5xsRSSh8McJxqNXVK+t4vUUVpab4gaB+wwiw2jTquSIoVqJG7hcsFHB2sD7F9IiGI++tboWSwTMNaDnQE8t/110PVBAfl60R3pLmFDsvxI2ty2o3Qy9V8NEHIT/R1fAzCOLbUGJxmHsCzA4CVPfWaY3ERGkcQNs+y/BjcHph9DTX0UH76mqXSLU99Fzj8Ox/xN678DY52DiN4YjV/lk0F0lO6F93+r+WfmpIFpv3IbYNYS5vdfBTSBuDTPQchIoA7ldC34eTH14/ysIBI5y9YnTZUhZiC/5+ay/EF4P4vUtwGLkOqzcjZE9KGdQOiiCkbFqeq3SiYmppgJnmez/gHODJxiUR3DG4MRhTYyVqCJXMVZSDBYhwhCHYxEhRHSK46CCUoUe2/B5MqIUXpgvwCvU6jnTYwmlFSZPzfP0k4d59/A0hYT8v0FiKZxAzKI9QtzyFBOOcxM1Tl/R4NxoSj82TJ/r8m//9T/y4nPHVn1uVJWHv/E6/+oP/o7jR2YYxJa5ZrxIrvoNS9xQ0lpBrVaQ1orKub2kXrUGo6o1mJggcE+sJbURiXV4HVDoPLFxpK5J309WGrYGA3+cxGxl4N8mtVfT9+8gJDjZRO4Pk5ir8cxS6iSRCVXf0h9DqCOL/ldThOnC96YThGBvYZh29yyQrSsuawPvf2wQrA28vyF7GE6LtanyxXqtOuFWMBm4a0NGoa+uEk0dkn0hCLqsDE3TG8COwdwPg6O7GGjdFy73Zx6prkYJhp2jn4HeAZh57AJRr7hW8Moa/1wgYif+Aj3z9UsmWlp20Zmn4Nj/ATNPQeMm2PZlpLFvqHFu9b2QL2ibMPrZVYXaIQ7nifA8pCu7vi89rmkoTgT7i7VQniXYLgxxotEeyDCmjOdjgfwMWcGSWthmrQGKRTSBzqIf2qUgeGFtxZr9GNm9qMkp9C2EcVT7iw7gRlKs1IACocvW9NfZWvsCo/EtpDYL7UAjWBGsGKxkWEkQKTHGBAIliqlO1l4Lch1Q+DDPZgDnQryMdYr30CmgX0K9XjKYiJgdSek0IjqNOFSSGjFzrZi5dkJ/xFFrFcRpQS3LabVyWqN9ojHojiZMbakzNZHRzRwl8D9/5WH+5v9+lnNTy/3ffOk58Ppp/sf/7hv8xZ/9mFyhm1nmmzHz7Zj5ZsygZUmanlqWk2X5YmswSUoaUSBXqYOaVTInpMYQGyESxUi/MluNqbmMQuexFNTcKHl5ika0g0InqbltlDpLzV1Lr3yTmruBgT8AGGK7h7x8G4hxZjuqJYUexZmdi5+/Uo8BaWU0e97fp2cITaJhWoTBzmMDHyxstAg38P6GNEGr+By2XryyIQL2Q1D8METo2PPsAKJroXwXBi9A8vEl24b8Xeg+DfUHEDFo4y6Y/jp0noH67ZV1wwPBumH+x9AIXj9S24P6e2H6UVCPtu9ZRnZEBOr70Ow6mH8Zpp8MRCsah9oeqF0N8bYVCZKqhkDk7lvQOQD9I4RJvpug9bGLmoauhDAx+K3Q7pv4zbUnFPsHg1aq/fm1J+b6bwbNUzxEG7Q8HcTtw0zhaTdYbKwHC4L1oTVYNQLV6DOcw/aCHmwGGDa6ZwmqfYIX0pXL7vd6DmUKJ7dS8GMMocJnJKu8t0qMpEwO/hNAqKyYFkoHu1CxkogQz2KwsqVyHV8ggmWI20EpvKFUQTV4r4kJHwMxinqhX0ow6Iw89U0556ZqRAOPVm9RNcIgNpSjluZIQZblxIlHpBLKF4IxyryJ6RvLEtntkfZKvvbQS3z9oZfYtqPFrXfs4sDrpznw2mmKPNhSBDF7RC9z9Oox3cyhTUOaeZJa0Fxl9SLYMsQljRiySndVs9CITDVF6LEGIqPUXExkQLWHYKlH4xR6hrokVYvwXWr2SgblO2Fi0B9FsKTmGmbzr5PYPQgRuT9EbIIfXeGPEtqDO6vXVin1OFYu/DwrpxE2rflZCvmW86xqSbOByxIbBGsD73/IbtCfAGcJTtgXW9cMQdD+YPi54IskFqKbYPAklCeCVYBYSD8KnYdDGHRyHWJH0OxW6PwYjXYg8XYk2oLWb4f5J9Bo86IflNRvRMUEXZPm6MgDF3yRilho3IzW90H37UCa5l6EmR8DBrVZcFE3WfBxKmehqKboMJDuhNEHINuD2PVpM1QVpr8XJgbHvnhRn66l9QXMP1XF4axuiqhaQP8AJHvXbmmoh+L0cJUuCARr3RWsBT3VsCPuC0anw0aYZAR37UskWARbEGE5cSz1HaBWiaA9Uk1BGurkehYrTaxp4mQbIpZ+eYiSU1hJsZXeSihwZgREEaYw4ikxSDX1qHi8h0IFz1KLMHIlubVYq5ReyP1C61BpNAtOTqT0FozFw4PHJUqzNaDZzEmzMjjAG48YKHLB2uA5JRLRwwbCK+BnBri8xOWeo0dnOPa3L6ESSFsRW4pI6NciOo2IQc0xqDlMQ6jVizAtWCuo14OgPa4qV1lVuUosZE5wskCsoB5FJFZQ7QGeZjxCqXMUfpJ2vJOBf4eR6Fq65RvU7BXMFYdoRrczUzxKZm+i0GMoAxJ7HYUeR+kRmfC5L/xhDCMYWWgPTgM9jCzXiAZSPYPIxYdJllClR2xUsD5w2CBYG7gMMAK0QQ8C46vrc8xe8McCybLnia/tNjCbIX++mmZz4DZBfE0wH3VXhDZach3kR2D+h6j7YrAoqN0QKjsz30dHWkgUSJ5k+1BxMPVtQNGRT614tSriILsGsmuqybvjkJ8OpqBlZ0l3FG8F1wTbgnTH2pN5q2Huaei8DCP3rzoxuIjuy0Gw3vjY2msHh4OGLbl27bV+lhB7M4SvlQavouErUQvbDQg2CsN+nSXV+g6wdrVMRFBtsXQiXOfD0w6QXDCq73UWI+OL75mFMGCRDKSHky0M/BGUgsKfJpItRLKX3L+L4LFSx5oWyDRObgDeRFTCx0PlvONA6QXV8FcbAeMUaxVrPUaojCHAWiVJPK3xHkVhMSa0wAWC5qmRk6QltbQkjgL/csbQLUpMFQUpAiyQLBK8NUT9AlcoblBiSo+3htIJeWQpY0uvir8pMkuceZJaTpKUZPXzpgUTv6i5SlwQttdcqFpFNmiv6lGEYYBqQc3FxNbRLyepR00MhtKfIrVb6BYHqEcfolO+SGx2MNAjoXplr2Mu/zaR2YmhQa98EivjWDOC13lKPU5sbl58bks9DCSY9xBv5QTBamMYgf9Zgv5qwwPrg4YNgrWB9z9EgGtAnya4u69SYZE0mI/6A1UVq7G0j/gW6H0nTBXG1URbcnNwGO89Cdn9oVVYvytMFc4/jjbuDyfY5t1Qfh1mvoWOPLjofi61a1EktOI0R0c+vWorTsRAuj3cfk7Qzqsw+yQ0b0eyfWuv9wPovADpdUHwvxYGbwVx+zBry2DYih2m8nOpYbc54IYXxosBrQcLj6G19OPAW6iWlyBELlkpX06IQIvgmUWCah8jLZRZEns9veJVnGxCyWm5+yh1lr5/GSt1jDigj5EErU7w/rw9L0BD6iFa3axUQvCkRMsi5PfFJZGBj0zsZqbf58flSVShLM1iC1BEg99UrSSLtCI2lZ7LBEOJMi3xKnhfOav4mK46vBVcHuEKj81LjFe8CGVsKZyhiIQitdgaZJW3VRCzB61VlJTUqmMuaa6gHglWfOV9JWQuQuhjjSdzGSI5aJdGNEruJxlNtpGXJ4mMUGpKJJbcd6lHn2CmeJi6u41cD+OZp2HvpdATlDpJ5j4JQO7fBCKcCa081YJSj2DlygsurLweRZhA1hi8CNrO08DP7/tgA//5sCFy38DlAWkDW0IVay2xsbkKSKF8dbmHlqlD9CEoDoCfrvbrIP1YEGIPXg93mRrU74L8KPReDvdJBO3PAAamvxlIycJDq10DY78a9FJn/hYtlvyDftEIdgzfhWwfND463Ebdl8Jzmn1k7f37LuTHgn/YMCgnwTQZKsZGK4I19DTgAgrWT8oylryHhsEY4Lm0KlbV8n0vJAJyRAQjIyjTRGYXhT9KYq7FmU2I5tTdzXTLZ+n7lyqjyz5G6hhp4HUSKztW0PPpef8SfPVfA6HaU7m5tzODc8pYmtGOM35/3z3sm2hTb+TUGzmNZk6jNaDdzhltFYylykiitGKlHim1SHG2oOagHkGShIpTvZFTb+akLU/RcvSaURCvt2Lmmwnz7Zi5dkS3HVG2LcmIp97KaTRyWq0BjWZOVg+i9maitOKw/ywK5KoZGWIJ2YqpM4FcSY/YQt1leO2QWktia4Fcxbvol0doxXsZ+OO0opvplK/QiD5Cz7+GkQap2UOveInYXIWRFv3yJaxswsoWVPsU/hCR2bNoz1JqsGuwslw7pTpD0NwNQ5rOEd6/w1lZbODywgbB2sDlA9kDFKBrmBiKDe1BPXOhbYPbC1KHwXNL5MtNBNF7/6VgMApIvB3SG6H7LJqfCPeZDNqfDS29mYcXJwsBJL0SNn0pTDCe+Ru0v/po+s8D2j9a2THsgva9Q04Z9kP2Yu364XReg3cAGU7cDoFgDVW9gsUK1lCZgudh6BzC8yB1YH51E9tlqBNai5PrOw4QiNnKFSyt/LWMjFDqFJHsQXD0y+eouztBCjrFEzgzTjP6HEIPKyOonsOaTYgUWNmxuE9FFydbl36GNqES/K+cgTjSoGeqwViaUfqSs705jnem+OS2vWxpOlqNknbmGasp4zVlPFFGU2U0gdEEWhE0I6g7qLlQYarHIcYmSTxZFkha1iyIWh4zAuWoYzBq8aOWeESpj+Y0RnIazQHNVp9Gc0BWr7yuUk8jImiuIkidUrNKM5IQhWOhVhmKivSoOUvqEkqdoxE1UXKsycncGIPyCHW3i15xkJq9ioE/iJU2TsYZ+CM03Efp+zdQBtTczRR6DK9TJPZGRITcHwBY1GIFcfs7GCYW3dwXX209CsTIanrRRZwhvK+GH17ZwOWDjRbhBi4fSA10F3AIdHtoB1507RaQCShfIcTpnCd4jz8C/cdCJSuqIl6Sm0KrsPsjqH86VLZqt0BxFua+j7Z+FbF1xI2irU/B9Ddg7gdo4+6lIN9oDJ34Ekz+A5z9T2j7LshuGoro/LTQ3iGY+gZEW9e0Y1iG7itB+5TdvPZaCPqraGuIGVrzQWmoFEY7114L59lrrLcF51n/tWKDQOgGDGPvEHRYYwS9zBqxQBfAVI/xPftkpDIf7eHMDnL/OqUeIXW30S1+CKXQcPdVAnZHt3wSr3Mk5kMU+gaWMQqOIdRY/pxd+H4TCSsiURIjZBF4LelqSVFA3TleO3eYN6YPA+AERqIgGl8w8EwtRBKE5dZAbGJULZ2yjxWlVMWrUKqCFqiGt4AxSlkK3ocpRvWCsR5nFReVxLHHRZ44Du3KuDIPTSp/q6Q6dmwgtUJiwBpPbISacwg9EmtIbITXeepRk0JnqbsGSg8rPYypYeihxhKbGt3yEKPJZ5nLf0hkrsAyQqf8Eam9HiGlVzyPlS04sxnVHrk/QGSuXtTRec6gnMOZ5ZpF1RLlGMLOIaYHlUCwLsyr3MAHAxd9B7z55pvceeedXHvttdx22228/PLLF6x59NFHqdVq3HLLLYu3bre7wt42sIGfEWQ34IL56KrrBOwNQB70WOfDbgK3B/JXlqJZxELt46E61Xu+2oWBxt3hd3OPLmYTSnwFND8JvTdg7vHlhqMmhfFfg/o+mP4+TH51WX7hzwPafSt4XcXbYfwLiBmumqOah/Zgel2ozq213vdDpuDQhClYDWCH8QGCpbbWpRTW13uCWqgYzK5jm00EP6zOOo/lgAvb2la2AkKpJzDSxsluBv41nExQc3dS6HEG/jVKPct88TAg1N2nUboY2ohZmGQbVDYNn0a1RmhJsnjSNlKNAFglMQtVJw3VIQcNJ2ROiCtH9LoT0khpxEojUkZiaFdr27Gh7oSaBSser10210aJJMTVpJXwvJ7oorVCo5nTaFQ/mwMazQGt1oBme0CzlZPVi1Dpqhe0UqXhQlUstASVzCoNJ9QcZM4QV+SrGccY+iRWyFyyRK78LA3XotR5MltHGVB3Ewz0FK3oJrrlqzTcbfTLAyglDXcX3fLHGKmT2psY+DdR5kndLQAM/BuAEJkwCauqFP51hJFFa40FKCeBAnNeVfHimCd4uK032HwDlwsu+k32B3/wB/z+7/8+b7zxBn/4h3/Il7/85RXXXXfddTz33HOLt1ptvSPWG9jAOiAO5ErgeHUCX21tDcwe8IdA33MijW4AyWDwzJLhpB2B9MOQHwiThFSEqXFPMCTtPLlIpiS9BhqfgN6rMP/kcpIlFmnfA2NfhPwMnP4rtHvgAlPSnwW083qoXKVXw9jn18wjXIbua2ECL7tpuPX5UUAhHubkQfDzghCwPRQWqjzrJUuX8rymBOKzHoI1RvjKXJ9pbBDFlyvcH2MYx+txACJ7PZCT+zeJzPaKZJ2gX75AbPZSd5/CSJNST2LN1qpytRQ0DB6tIleWPyMaJgdhsRJVr9p5WRT0TIkN7be0ujUctBy0YshcIFf1KJCvmlNS63HiSaxjun+WzFlqTkhcIFqZg1YNsixMAmaNnHo9aKwa55OqRkGjUdCqKe1KZ9WoiFX9PKJVcxKmB60QGyVzhsh4YqtkLqXUOVrxKIWfpRWPkes07XgzuZ5lJL6WbnmAdvRROsXzJGYn1mT0/Ts0ojsp9RiFniZzt6Pk9MtXiM0erLTx2qHwbxGZaxYF66F6NYUz111QefJ6BGFs0TR2dZwh1BXXCGjfwGWLFQnWqVOnePrpp/nt3/5tAH7jN36Dw4cPc+DAgZWWb2ADv2DsAFLQN9fW0JirgAzKl5Y7d4uF+Fbw5yB/fen+aC+47dB9KlSzAHGboH5H8H7qvbq0i9qHoHFnqAJ1nrng0JLuhonfgviKoI06+3foYA1H+iGhfoCeexjOfRtq18HoZ9Y13aZaBO1VsnftSJwF5EfBjiFmSE8uP0OY7hv2oqt6LYdtb/40EAGaFxLvVTdZOBmu15U/iNlXIthGtuE5i2oPIxmR2UvuX6fwR4nMFWTuPjJ3P6m7BRGL10lCLMu2Sui+g0JfpF8+Ru6fZmlesHrMVWR0cHcHZz2xgWYcqlitKBCm2JTUHDQd1COtfkLdBsJTjz0jsaOVxDSjmJozJNaTWkNiDUiJk1AhSxaCl43SSqCWltSzkkajoN4oaNRzmo2Cds0zkgRi1XDVY4qU5mJlLfhd1aq2YFpZMSSuJHMR0KUeZZQ6TzNqk/sp2vE4A3+GdryNXnmY0fhG5ouXqLvryP0hRBz16MPMF0+QmD1EMk6neJbY7CEyW+iVzyEYEnsDAIPyZcARmRB6HiiW1h0AACAASURBVKpXbyC0Me8RpqvOAlPIUNUrCNODY8O38zdw2WHFV/bw4cNs27YN56owWxF27drFu+++e8HagwcPsn//fm677Tb+5E/+ZM0DzszMLLv1++sJXd3ABqhsqK8l6GHWitAxYG8CPQf+7eW/s2PgPgTFa1WcC+HEW7stVMq6jy/qgiTZG+J0uk+jg6XPgdT2Qf1j0HkOnf/JhdE5tgajvxKqWb4HZ/4jOvVNtLg0TyUgCOhP/zV0D0D7fljB5HRN9N4MvlfZLcMdUxXyExBtG/4Yfm6duYILtuHrrEjJyi24tdEimIeuBxPAucpIcljUCaTnwoqrle2AodB3AIjMPqxsp18+Se4P4cw4ziy1kAo9ipBiJFQ9IrkZJx9GpIbnNFBDKz2WVHajRsCKEhklMRoE6RZGYsicJ7ElqfWBzCxUjRZusacdGzLniWxO3SVsybbTjJrUowSRHpmLabp0kQRlFlKrZJGQ2DAB2IzDz3YM7Uok34gCqWpG0IiVug3/bsZC5qDmDDULmbPExpM5hzN5Ra56ZC5BtUM9qgVrhWg0kKtoK/3yXUaTD9MtXya1VyD0KHSSdnw3s/kPMNKi4W5jvngMIzUydyt5+S6Ff5fUfqQKdT5BqYeJ7U2LHmWeEyiTOPOhFapXBwnGse/NJLwQgYzNsmqI/QYue/xUIvf9+/dz5MgR2u02R44c4fOf/zybNm3iN3/zNy+6zc6dy/Ubf/RHf8RXvvKVn+ZhbOCXETIBuhn0DWBs9dF+Mwp6Nfg3wUwQQqQrRNeBPwWDpyG9P4jhJYHsTph/BHrPQe3WsLa2H8o5mHsMbX02VLYAyW4OE4Wdp0H7aP2OC6Nz0t1osjO05WaehO5fovGOYKdQu3rN1p6qwuA4dF4N+4i3wvivrenQvvK+PHSeh+Tq4bf3s8Fl3a198lg6UCcQrKGx8JwNmxG4ALe2dceKh2uFiVTtrT4wsQwTwOuE6sNwlQqponaUGYTG8t9JhJVdlHoIp9cgYknsbQxKx6B8BjTHmT14naTQoxT+EM7sWhqsEIuTXcAuVD298kcIReXZPgjmoUZwokQGsshQaknhLdYvOYwKC55WEBvBmJLYGKx4UitYE+MkVKuslIynW3hn9nWacZtu0adb5DSjFBig6nHWUHqpdFqG3AeX9wU9mKBYA4kIYoLw3oriJAjbjQSC5bUkdQKU1KOUwveJTYRSktg6UIbtTESpM7SjLfT9McaSj9ApXiIy48RSo+cPMhJ/ik7xAkrJSPwA3eJ5Sp2lGX0WZUC3fAZndhLZ3ajmDMpnMbK5en7D56bwr2KYwMp7tFc6i3ISIzcMebFzDIgZxuh2A5cvVvxW37lzJ8ePH6coCpxzqCrvvvsuu3Ytd4RutZZOVDt27OC3fuu3eOyxx1YlWIcPH162XZL8FG7VG/jlhlwL+kRoFcoNq681e8GfhuIFcHcutaHEQPxR6D0SrBvij1YC+XFIPwK9Z8COQnx1mCRr3AUz34LZR9DW55cMR+u3oCaGucfB99HmJ1eIzjGQ7UNr14bqU+cVOPctmE7QZDu4cYjGwVWaDN8Lt+IsdF6Hcjq4zbfuhPqHL7210KuCr7PPDL9NcRIQcJvXXLoI3wmu+UNj4e9Zr6YqtODWj/MzBocjWCJRNU14iqEJlkSgteCPJBea5Fq5klLfptSjOAnkKbYfQXzEwL/AwL9GIEsJzuwkNh+6YB/VkfA6VWm7YlBBRLAorsrpKylIreAjjyssiCy1MUSx4omMYIwnrsiPk4IsauIkxkhMt5xhLj/LSDLKzGAaMIwkTWYGHSKjpM4AllKD9qv0GsYSVVHRQPqEcBwJaxIjgBIbwVYGpjVrKPGkVqtaXJe6Sym0Szseo1eeoe5G8TqNkzo1N0q/PMZ4cgvzxQvEZhM1O0GnfIlWdA8D/y6FnmUk/hUKf5KBP0jm7sBKm07xPQRHzYaLqYF/BWVQVbMWQp3fRZknMrde8MwvVa9Wj5mCqj3PCRhi0nADlzdWJFibN29m//79/OVf/iVf/vKXeeihh9ixYwd79+5dtu748eNs2bIFYwyzs7N87Wtf43d/93dXPWCr1VpGsDawgUuGJMBe0NdArwBZRSwqFtzNUDwepgrteTEvph5c3gdPQzkB7spwf7QniNt7zwShthtHxKHN+2DmGzD7cKhkVZYFUtuHSgKzjwZX99Z9K1amQnTOhyD7EFpMQec1GJyEzkvgV5jClQjSPZDdB/H2n2qkW9VD93mIdyNuHbl6+SmwI2sHRp8P34FoGLHvAhZONhcKwleFxEAeNHbrOWFJCpqAToOsgziyGXg1hAgPWfkKlgwre2gZaWDYEqwX9ApEHCJCZG5EpIHXOZxsq2J1Lv7aKx2C7USKEIdKkQSyZL3gxFAiRFZIVbGmJNSTdHEPUVW1ElFqNsGIpdQe0KPvZ0GVHfVb6cfbOTT3PM4kRCZhZjCNMzGps/iiwIil8AoOStWqolY9FwKxsVgJVhGRERLrKHVALIbYWjw9UgfgUB3QiBoM/DSRTUlJGfgpRuItdMvjNKNtCDPk5VnGkpuZK54jtdtIzWY65XM03O2UnKXvD9KM7gFyOsWTxGYvid1Dr3ieUs+QuXsQiSn9KQp/kNjchJFQgVXtU+hrWNmJkeVVX9XpdVavThCqtOtot2/gssRF+xJ/9md/xpe//GX++I//mFarxZ//+Z8D8Hu/93s8+OCDPPjggzz00EP86Z/+Kc45iqLgS1/6Er/zO7/zC3vwG9hAiM05FkgWt69+gpUWmGvAvxFajOY8QuZ2QnkGBs+H+007nAnS/cHLqfuD4I9lMsTU0OanYOYfYfY7aPMzi8RD0j2oRDDzMJz7B7T9qVUtEMSNQuvji//Xcj6EPqNg0kACTPKzu9LtHwzTfc3717ddeTYYsg6LxVzBdRCyBTKq661GLYjoeywFOQ+LEdbvzr7QJjwBXDnUFiJbUD2O6hwijQt+78wNDPyjFPoGkeyrthEiuWroR+V14e+wVXC0AFHV+vMktsCaOuR9sIJ9r15QwIkQGYfSw5g+rWgrmWtjgHq0jan+Yd6df5LMbqIdTzCXn6NbzLK5tpXT3dOIcXgLVgx9Qj6hVianstgehNRaRBSvJYYwFVh6EMmpuQivgmqXZtxmUJ5D6dFOxukVZ0jdCIkofX+K8WQP3eItYtuiFe9mvniOzO7Bia3I1W2ozNMrX6Ph7sJJi9n8YSKzjczdxqB8h4F/ncTeUnle9emXT4XWoFkqKOT+RUBwcv2y5ywYjr4ONJAh4m6COfEhYAuy7lDzDVxuEP15zI6vgJmZGdrtNtPT0xsVrA38bKGzoE+BXBVuq65VKJ8A7YP7xNJJHYKgvfc9oID0viVzUt+F+W+Habj6fYvbaDEFs98MPk/NTy0KYQE0PwUz3wEE2p9B3H9+rYWqh6mHwLaR9vDtQdUCpv4KstuRdIiAZwDfh7n/D2p3QTTkVJX2oPsNSD4Odh3iX52H4vtgbwOzTk8hPRJ0fHJPqHIOu5m+AkwDdwxVUVT1lPpdhF1Ys7JRaeHfpNDXic3dF1RJ1oLXOXrFY0CEYhFSBv4oHkvpuwx8j36pFN5TaoP5vEfxnm/+YEZqSFyGUFBqZ3E+wUpMqTlbavup2a0cnHmEmhtnenAO1DFXzFF3Y8zlPfplgVdHvxygsBjTcz7BSmyMFSi1hxFIXYpBKbWLM46arTHws1hjyVyTQTlFbGvUXYtOcYzMTVCzKd3yEA13JUb69P0xmtFNeH+WXE/Siu6m5Ay98nUa7i5is4XZ/NsYadKMHqDUc3SKR4nMblIbYqX65Y8odYqaux9TEaBSj5H7Z4hkP9YsJ1FeT+H1WYzsx8jaFyCqx4FXgdsRWY8+cQPvV6zGbTYawBu4/CFNYBfoO0FYvepaAfthYBBc3pf9zkLysUC+Bs8uTbOZGmSfqCpZTyzaPYgbheYDUEzB7JIRKYBEm2Hk10IVauqraH+NeJ9fBPpvBx3XEJmDy1BMAho0YsNCq6zGdUXY/LQVrEsxOR4h1Fem17ndtup4w20nYhC2ohy/qB+alT0IDXL//LL30lpQ7VXkypK6uwCPiMXKKAaLMsBQ4IySuVGszFOPIhLnSWx1q/4d2YLIeGquxkh8BZvT69ldv4urGvezOb2Zk91nONN7lp2NjzGbH2NLeiWFzjGebqbUAYYejSjFmh4155ff7PL/p05JHSTWYyWn5hw157CSY42nFbdxUqA6z0iyFUuXfnmKseQqhCn6/gSj8U0UepxcJxlL7qH0Ryh0ktH4c5Scple+TtN9gthewVz+CCIpjehelD7d4nGsjJHa/YgIhT9IqSdI7K2L5Ep1QO5fwrAF8x79nKrH6xvB92oIs9Dwuh8hWDNskKtfBmwQrA18MCBXAQnoy8v9rlZcm4G9HvQo+KPLf2caEO+H8miI0lmAHQtO78Ux6C/lGIqbCO224iTMfW85ybJ1GPlCMOac+TY699Sy/MJfJFQLmH8K4p1ItM5g2XIKkGDEOjSqqb51ESwbbuuyQKBqC2egc+vbDggWChHoejMGRwjC+OEzJ41sB7oop1b8vYghMregzFLoKyuuWQmlnkHpkrq7MFJDiPHaxZkJvM4HobtpEpsUZY7UxUSmILOGZpRVtwYNl1KzHiszwAzKLHP5G5zqPcbRzj8w8EfYXb+PbjnJmd5PGE+u5nT/FUaTrXSLSYQOrWQE6BIbX/lkQSOKyJwhdZ50gdBZaEQp7bhJ6ixWBjjjacdjNKIMr7NYUcbS7USmoF+eZCS5kmY0Qq88SCPaSTveRad8gdiOMRLfynz+I5SS0eRzdP2L9Mo3aUZ3E5kJZgffAgzN6H6gZD5/FLDU3J2IWEp/ioF/EWf24kyonqoquX8W8ETm5gsqlcrbQAcjFxqOrowpgjXDkEkIG7jssZFFuIEPBsQCN4A+Q9A4rNEqlB0gk1C+DDIC519Ruu3gr4X8JTAtsJU1QbQddH8QvUsdkhCdIdFWtHEfzD0Kc99FG/cuittFIrT1QDD1nH8K8uNB/D6suefPCp0Xg+i8/rn1b1ueC23FdbTQLsmVXaQSnl9CJUqaoOv1tKqOqeMET7W9a60+bzNBdQdwENW9iy7fq28zgugYXg8ibF7xpGxkBCc3UOiLGD+ONWtPpS0811JNQlqziX75KqndT09eJJGd9MpDgCe1o5QqqJ4mlQmMpCw07kQskanjJEMQnMmouV0o0C/PcKLzXSb7T7CrcTfHO88wl7/FWLKbyf