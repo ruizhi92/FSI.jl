{
 "cells": [
  {
   "cell_type": "markdown",
   "metadata": {},
   "source": [
    "### Try to use LinearMap with ismutating=true, fail"
   ]
  },
  {
   "cell_type": "code",
   "execution_count": 1,
   "metadata": {},
   "outputs": [],
   "source": [
    "using LinearMaps\n",
    "using IterativeSolvers"
   ]
  },
  {
   "cell_type": "code",
   "execution_count": null,
   "metadata": {},
   "outputs": [],
   "source": [
    "function g(y::AbstractVector,x::AbstractVector) \n",
    "    y = [1 2;3 5]*x\n",
    "    return y\n",
    "end\n",
    "\n",
    "S = LinearMap(g,2;ismutating=true)\n",
    "b = [4.0, 3.3]\n",
    "x = [2.0, 2.0]\n",
    "gmres!(x,S,b)"
   ]
  },
  {
   "cell_type": "markdown",
   "metadata": {},
   "source": [
    "### Try to use LinearMap with ismutating=false, works"
   ]
  },
  {
   "cell_type": "code",
   "execution_count": null,
   "metadata": {},
   "outputs": [],
   "source": [
    "function f(x::AbstractVector) \n",
    "    return [1 2;3 5]*x\n",
    "end\n",
    "\n",
    "S = LinearMap(f,2;ismutating=false)\n",
    "b = [4.0, 3.3]\n",
    "gmres(S,b)"
   ]
  },
  {
   "cell_type": "code",
   "execution_count": null,
   "metadata": {
    "scrolled": true
   },
   "outputs": [],
   "source": [
    "[1 2;3 5]\\[4.,3.3]"
   ]
  },
  {
   "cell_type": "markdown",
   "metadata": {},
   "source": [
    "### Construct block matrix with functions, works"
   ]
  },
  {
   "cell_type": "code",
   "execution_count": 2,
   "metadata": {},
   "outputs": [
    {
     "data": {
      "text/plain": [
       "5-element Array{Float64,1}:\n",
       " -3.04027  \n",
       "  3.57518  \n",
       " -0.57145  \n",
       "  2.26216  \n",
       " -0.0189356"
      ]
     },
     "execution_count": 2,
     "metadata": {},
     "output_type": "execute_result"
    }
   ],
   "source": [
    "m1 = [ 0.533442  0.367231  0.217876;\n",
    " 0.937095  0.838996  0.38914;\n",
    " 0.399906  0.409811  0.571862]\n",
    "m2 = [ 0.515455  0.912171;\n",
    " 0.197663  0.165777;\n",
    " 0.3626    0.735575]\n",
    "m3 = [ 0.763043  0.36013   0.779911; \n",
    " 0.676889  0.262959  0.0735239]\n",
    "m4 = [ 0.981832  0.695422;\n",
    " 0.906051  0.432737]\n",
    "b = [ 0.71537 \n",
    " 0.37217 \n",
    " 0.728864\n",
    " 0.72988 \n",
    " 0.881618]\n",
    "\n",
    "[m1 m2;m3 m4]\\b"
   ]
  },
  {
   "cell_type": "code",
   "execution_count": 3,
   "metadata": {},
   "outputs": [
    {
     "data": {
      "text/plain": [
       "5-element Array{Float64,1}:\n",
       " -3.04027  \n",
       "  3.57518  \n",
       " -0.57145  \n",
       "  2.26216  \n",
       " -0.0189356"
      ]
     },
     "execution_count": 3,
     "metadata": {},
     "output_type": "execute_result"
    }
   ],
   "source": [
    "function al(x::AbstractVector)\n",
    "\n",
    "m1 = [ 0.533442  0.367231  0.217876;\n",
    " 0.937095  0.838996  0.38914;\n",
    " 0.399906  0.409811  0.571862]\n",
    "m2 = [ 0.515455  0.912171;\n",
    " 0.197663  0.165777;\n",
    " 0.3626    0.735575]\n",
    "m3 = [ 0.763043  0.36013   0.779911; \n",
    " 0.676889  0.262959  0.0735239]\n",
    "m4 = [ 0.981832  0.695422;\n",
    " 0.906051  0.432737]\n",
    "\n",
    "    \n",
    "    function f(x::AbstractVector) \n",
    "        return m1*x\n",
    "    end\n",
    "    function g(x::AbstractVector) \n",
    "        return m2*x\n",
    "    end\n",
    "    function m(x::AbstractVector) \n",
    "        return m3*x\n",
    "    end\n",
    "    function n(x::AbstractVector) \n",
    "        return m4*x\n",
    "    end \n",
    "    \n",
    "    # has to do the matrix mul manually to return 1d output\n",
    "    out = zeros(5)\n",
    "    out[1:3] = f(x[1:3]) + g(x[4:5])\n",
    "    out[4:5] = m(x[1:3]) + n(x[4:5])\n",
    "    \n",
    "    return out\n",
    "end\n",
    "S = LinearMap(al,5;ismutating=false)    \n",
    "    \n",
    "b = [ 0.71537 \n",
    " 0.37217 \n",
    " 0.728864\n",
    " 0.72988 \n",
    " 0.881618]\n",
    "gmres(S,b)"
   ]
  },
  {
   "cell_type": "code",
   "execution_count": 4,
   "metadata": {},
   "outputs": [
    {
     "ename": "LoadError",
     "evalue": "\u001b[91mMethodError: objects of type LinearMaps.FunctionMap{Float64,#al,Void} are not callable\u001b[39m",
     "output_type": "error",
     "traceback": [
      "\u001b[91mMethodError: objects of type LinearMaps.FunctionMap{Float64,#al,Void} are not callable\u001b[39m",
      "",
      "Stacktrace:",
      " [1] \u001b[1minclude_string\u001b[22m\u001b[22m\u001b[1m(\u001b[22m\u001b[22m::String, ::String\u001b[1m)\u001b[22m\u001b[22m at \u001b[1m./loading.jl:522\u001b[22m\u001b[22m"
     ]
    }
   ],
   "source": [
    "S(1.)"
   ]
  },
  {
   "cell_type": "markdown",
   "metadata": {},
   "source": [
    "### Test SaddleSystem"
   ]
  },
  {
   "cell_type": "code",
   "execution_count": 9,
   "metadata": {},
   "outputs": [
    {
     "data": {
      "text/plain": [
       "9-element Array{Float64,1}:\n",
       "     16.7859  \n",
       "      9.14589 \n",
       "     -6.52367 \n",
       "      7.39727 \n",
       "     -2.23714 \n",
       "     -0.466523\n",
       "    -19.1561  \n",
       " -18266.2     \n",
       "  27223.9     "
      ]
     },
     "execution_count": 9,
     "metadata": {},
     "output_type": "execute_result"
    }
   ],
   "source": [
    "A = rand(3,3)\n",
    "A⁻¹ = inv(A)\n",
    "B₁ᵀ = rand(3,2)\n",
    "B₂ = rand(2,3)\n",
    "M = 1000*rand(2,2)\n",
    "M⁻¹ = inv(M)\n",
    "G₁ᵀ = rand(2,2)\n",
    "G₂ = rand(2,2)\n",
    "T₁ᵀ = rand(2,2)\n",
    "T₂ = rand(2,2)\n",
    "\n",
    "O32 = zeros(3,2)\n",
    "O23 = zeros(2,3)\n",
    "O22 = zeros(2,2)\n",
    "\n",
    "S = [A O32 B₁ᵀ O32; O23 M T₁ᵀ G₁ᵀ; B₂ -T₂ O22 O22; O23 G₂ O22 O22]\n",
    "\n",
    "rċ = rand(3)\n",
    "ru̇ = rand(2)\n",
    "rf = rand(2)\n",
    "rλ = rand(2)\n",
    "b = [rċ;ru̇;rf;rλ]\n",
    "\n",
    "S\\b"
   ]
  },
  {
   "cell_type": "code",
   "execution_count": 14,
   "metadata": {},
   "outputs": [
    {
     "data": {
      "text/plain": [
       "true"
      ]
     },
     "execution_count": 14,
     "metadata": {},
     "output_type": "execute_result"
    }
   ],
   "source": [
    "rank(S) == 3+2+2+2"
   ]
  },
  {
   "cell_type": "code",
   "execution_count": 10,
   "metadata": {},
   "outputs": [
    {
     "name": "stderr",
     "output_type": "stream",
     "text": [
      "WARNING: replacing module SaddlePointSystems\n",
      "WARNING: using SaddlePointSystems.SaddleSystem in module Main conflicts with an existing identifier.\n"
     ]
    }
   ],
   "source": [
    "include(\"../src/SaddlePointSystems.jl\")\n",
    "using SaddlePointSystems\n",
    "\n",
    "ċ = zeros(3)\n",
    "u̇ = zeros(2)\n",
    "f = zeros(2)\n",
    "λ = zeros(2)\n",
    "\n",
    "St = SaddleSystem((ċ, u̇, f, λ), (A⁻¹, B₁ᵀ, B₂),\n",
    "                  (M⁻¹, G₁ᵀ, G₂), (T₁ᵀ, T₂))\n",
    "\n",
    "bt = (rċ, ru̇, rf, rλ);"
   ]
  },
  {
   "cell_type": "code",
   "execution_count": 11,
   "metadata": {},
   "outputs": [
    {
     "data": {
      "text/plain": [
       "([16.7859, 9.14589, -6.52367], [7.39727, -2.23714], [-0.466523, -19.1561], [-18266.2, 27223.9])"
      ]
     },
     "execution_count": 11,
     "metadata": {},
     "output_type": "execute_result"
    }
   ],
   "source": [
    "aa,bb,cc,dd = St\\bt"
   ]
  },
  {
   "cell_type": "code",
   "execution_count": 12,
   "metadata": {},
   "outputs": [
    {
     "data": {
      "text/plain": [
       "1.0827947865225866e-11"
      ]
     },
     "execution_count": 12,
     "metadata": {},
     "output_type": "execute_result"
    }
   ],
   "source": [
    "x = [aa;bb;cc;dd]\n",
    "norm(S*x-b)"
   ]
  },
  {
   "cell_type": "code",
   "execution_count": null,
   "metadata": {},
   "outputs": [],
   "source": []
  }
 ],
 "metadata": {
  "kernelspec": {
   "display_name": "Julia 0.6.2",
   "language": "julia",
   "name": "julia-0.6"
  },
  "language_info": {
   "file_extension": ".jl",
   "mimetype": "application/julia",
   "name": "julia",
   "version": "0.6.2"
  }
 },
 "nbformat": 4,
 "nbformat_minor": 2
}
