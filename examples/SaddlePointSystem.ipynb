{
 "cells": [
  {
   "cell_type": "markdown",
   "metadata": {},
   "source": [
    "### Try to use LinearMap with ismutating=true, fail"
   ]
  },
  {
   "cell_type": "code",
   "execution_count": null,
   "metadata": {},
   "outputs": [],
   "source": [
    "using LinearMaps\n",
    "using IterativeSolvers"
   ]
  },
  {
   "cell_type": "code",
   "execution_count": null,
   "metadata": {},
   "outputs": [],
   "source": [
    "function g(y::AbstractVector,x::AbstractVector) \n",
    "    y = [1 2;3 5]*x\n",
    "    return y\n",
    "end\n",
    "\n",
    "S = LinearMap(g,2;ismutating=true)\n",
    "b = [4.0, 3.3]\n",
    "x = [2.0, 2.0]\n",
    "gmres!(x,S,b)"
   ]
  },
  {
   "cell_type": "markdown",
   "metadata": {},
   "source": [
    "### Try to use LinearMap with ismutating=false, works"
   ]
  },
  {
   "cell_type": "code",
   "execution_count": null,
   "metadata": {},
   "outputs": [],
   "source": [
    "function f(x::AbstractVector) \n",
    "    return [1 2;3 5]*x\n",
    "end\n",
    "\n",
    "S = LinearMap(f,2;ismutating=false)\n",
    "b = [4.0, 3.3]\n",
    "gmres(S,b)"
   ]
  },
  {
   "cell_type": "code",
   "execution_count": null,
   "metadata": {
    "scrolled": true
   },
   "outputs": [],
   "source": [
    "[1 2;3 5]\\[4.,3.3]"
   ]
  },
  {
   "cell_type": "markdown",
   "metadata": {},
   "source": [
    "### Construct LinearMap with AbstractMatrix type"
   ]
  },
  {
   "cell_type": "code",
   "execution_count": null,
   "metadata": {},
   "outputs": [],
   "source": [
    "[1 2;3 5]*[1 1.5;2 2]"
   ]
  },
  {
   "cell_type": "code",
   "execution_count": null,
   "metadata": {},
   "outputs": [],
   "source": [
    "function f(x::AbstractMatrix,b::Int,c::Float64) \n",
    "    return [1 2;3 5]*x\n",
    "end\n",
    "\n",
    "S = LinearMap(f([1 1.5;2 2],999,-888.0))\n",
    "b = [4.0, 3.3]\n",
    "gmres(S,b)"
   ]
  },
  {
   "cell_type": "code",
   "execution_count": null,
   "metadata": {
    "scrolled": true
   },
   "outputs": [],
   "source": [
    "[5 5.5;13 14.5]\\[4.,3.3]"
   ]
  },
  {
   "cell_type": "markdown",
   "metadata": {},
   "source": [
    "### Construct block matrix with functions, works"
   ]
  },
  {
   "cell_type": "code",
   "execution_count": null,
   "metadata": {},
   "outputs": [],
   "source": [
    "m1 = [ 0.533442  0.367231  0.217876;\n",
    " 0.937095  0.838996  0.38914;\n",
    " 0.399906  0.409811  0.571862]\n",
    "m2 = [ 0.515455  0.912171;\n",
    " 0.197663  0.165777;\n",
    " 0.3626    0.735575]\n",
    "m3 = [ 0.763043  0.36013   0.779911; \n",
    " 0.676889  0.262959  0.0735239]\n",
    "m4 = [ 0.981832  0.695422;\n",
    " 0.906051  0.432737]\n",
    "b = [ 0.71537 \n",
    " 0.37217 \n",
    " 0.728864\n",
    " 0.72988 \n",
    " 0.881618]\n",
    "\n",
    "[m1 m2;m3 m4]\\b"
   ]
  },
  {
   "cell_type": "code",
   "execution_count": null,
   "metadata": {},
   "outputs": [],
   "source": [
    "function al(x::AbstractVector)\n",
    "\n",
    "m1 = [ 0.533442  0.367231  0.217876;\n",
    " 0.937095  0.838996  0.38914;\n",
    " 0.399906  0.409811  0.571862]\n",
    "m2 = [ 0.515455  0.912171;\n",
    " 0.197663  0.165777;\n",
    " 0.3626    0.735575]\n",
    "m3 = [ 0.763043  0.36013   0.779911; \n",
    " 0.676889  0.262959  0.0735239]\n",
    "m4 = [ 0.981832  0.695422;\n",
    " 0.906051  0.432737]\n",
    "\n",
    "    \n",
    "    function f(x::AbstractVector) \n",
    "        return m1*x\n",
    "    end\n",
    "    function g(x::AbstractVector) \n",
    "        return m2*x\n",
    "    end\n",
    "    function m(x::AbstractVector) \n",
    "        return m3*x\n",
    "    end\n",
    "    function n(x::AbstractVector) \n",
    "        return m4*x\n",
    "    end \n",
    "    \n",
    "    # has to do the matrix mul manually to return 1d output\n",
    "    out = zeros(5)\n",
    "    out[1:3] = f(x[1:3]) + g(x[4:5])\n",
    "    out[4:5] = m(x[1:3]) + n(x[4:5])\n",
    "    \n",
    "    return out\n",
    "end\n",
    "S = LinearMap(al,5;ismutating=false)    \n",
    "    \n",
    "b = [ 0.71537 \n",
    " 0.37217 \n",
    " 0.728864\n",
    " 0.72988 \n",
    " 0.881618]\n",
    "gmres(S,b)"
   ]
  },
  {
   "cell_type": "markdown",
   "metadata": {},
   "source": [
    "### Construct block matrix with mixed LinearMap and FunctionMap,  works"
   ]
  },
  {
   "cell_type": "code",
   "execution_count": null,
   "metadata": {},
   "outputs": [],
   "source": [
    "m1 = [ 0.533442  0.367231  0.217876;\n",
    " 0.937095  0.838996  0.38914;\n",
    " 0.399906  0.409811  0.571862]\n",
    "m2 = [ 0.515455  0.912171;\n",
    " 0.197663  0.165777;\n",
    " 0.3626    0.735575]\n",
    "m3 = [ 0.763043  0.36013   0.779911; \n",
    " 0.676889  0.262959  0.0735239]\n",
    "m4 = [5 5.5;13 14.5]\n",
    "b = [ 0.71537 \n",
    " 0.37217 \n",
    " 0.728864\n",
    " 0.72988 \n",
    " 0.881618]\n",
    "\n",
    "[m1 m2;m3 m4]\\b"
   ]
  },
  {
   "cell_type": "code",
   "execution_count": null,
   "metadata": {},
   "outputs": [],
   "source": [
    "function al(x::AbstractVector)\n",
    "\n",
    "m1 = [ 0.533442  0.367231  0.217876;\n",
    " 0.937095  0.838996  0.38914;\n",
    " 0.399906  0.409811  0.571862]\n",
    "m2 = [ 0.515455  0.912171;\n",
    " 0.197663  0.165777;\n",
    " 0.3626    0.735575]\n",
    "m3 = [ 0.763043  0.36013   0.779911; \n",
    " 0.676889  0.262959  0.0735239]\n",
    "\n",
    "    \n",
    "    function f(x::AbstractVector) \n",
    "        return m1*x\n",
    "    end\n",
    "    function g(x::AbstractVector) \n",
    "        return m2*x\n",
    "    end\n",
    "    function m(x::AbstractVector) \n",
    "        return m3*x\n",
    "    end\n",
    "    function n(x::AbstractMatrix,b::Int,c::Float64) \n",
    "        return [1 2;3 5]*x\n",
    "    end\n",
    "    \n",
    "    # has to do the matrix mul manually to return 1d output\n",
    "    out = zeros(5)\n",
    "    out[1:3] = f(x[1:3]) + g(x[4:5])\n",
    "    out[4:5] = m(x[1:3]) + n([1 1.5;2 2],999,-888.0)*x[4:5]\n",
    "    \n",
    "    return out\n",
    "end\n",
    "S = LinearMap(al,5;ismutating=false)    \n",
    "    \n",
    "b = [ 0.71537 \n",
    " 0.37217 \n",
    " 0.728864\n",
    " 0.72988 \n",
    " 0.881618]\n",
    "gmres(S,b)"
   ]
  },
  {
   "cell_type": "markdown",
   "metadata": {},
   "source": [
    "### Test SaddleSystem"
   ]
  },
  {
   "cell_type": "code",
   "execution_count": 1,
   "metadata": {},
   "outputs": [
    {
     "data": {
      "text/plain": [
       "9-element Array{Float64,1}:\n",
       "  8.3471  \n",
       " -0.111231\n",
       " -7.15676 \n",
       " -1.41866 \n",
       "  0.99259 \n",
       " -0.49312 \n",
       " -0.682496\n",
       "  1.89277 \n",
       "  0.848666"
      ]
     },
     "execution_count": 1,
     "metadata": {},
     "output_type": "execute_result"
    }
   ],
   "source": [
    "A = rand(3,3)\n",
    "A⁻¹ = inv(A)\n",
    "B₁ᵀ = rand(3,2)\n",
    "B₂ = rand(2,3)\n",
    "M = rand(2,2)\n",
    "M⁻¹ = inv(M)\n",
    "G₁ᵀ = rand(2,2)\n",
    "G₂ = rand(2,2)\n",
    "T₁ᵀ = rand(2,2)\n",
    "T₂ = rand(2,2)\n",
    "\n",
    "O32 = zeros(3,2)\n",
    "O23 = zeros(2,3)\n",
    "O22 = zeros(2,2)\n",
    "\n",
    "S = [A O32 B₁ᵀ O32; O23 M T₁ᵀ G₁ᵀ; B₂ -T₂ O22 O22; O23 G₂ O22 O22]\n",
    "\n",
    "rċ = rand(3)\n",
    "ru̇ = rand(2)\n",
    "rf = rand(2)\n",
    "rλ = rand(2)\n",
    "b = [rċ;ru̇;rf;rλ]\n",
    "\n",
    "S\\b"
   ]
  },
  {
   "cell_type": "code",
   "execution_count": 2,
   "metadata": {},
   "outputs": [
    {
     "data": {
      "text/plain": [
       "true"
      ]
     },
     "execution_count": 2,
     "metadata": {},
     "output_type": "execute_result"
    }
   ],
   "source": [
    "rank(S) == 3+2+2+2"
   ]
  },
  {
   "cell_type": "code",
   "execution_count": 3,
   "metadata": {},
   "outputs": [
    {
     "name": "stdout",
     "output_type": "stream",
     "text": [
      "Array{Float64,2}\n",
      "[-2.77876 -1.96904 7.18238; -9.78865 4.87915 3.5504; 11.0211 -1.15794 -10.0755]\n",
      "1\n",
      "2\n",
      "3\n",
      "4\n",
      "5\n",
      "6\n",
      "7\n",
      "8\n",
      "SaddlePointSystems.##2#3{NTuple{8,Array{Float64,2}}}\n",
      "----------\n",
      "SaddlePointSystems.##2#3{NTuple{8,Array{Float64,2}}}\n",
      "SaddlePointSystems.#2\n"
     ]
    }
   ],
   "source": [
    "include(\"../src/SaddlePointSystems.jl\")\n",
    "using SaddlePointSystems\n",
    "\n",
    "ċ = zeros(3)\n",
    "u̇ = zeros(2)\n",
    "f = zeros(2)\n",
    "λ = zeros(2)\n",
    "\n",
    "St = SaddleSystem((ċ, u̇, f, λ), (A⁻¹, B₁ᵀ, B₂),\n",
    "                  (M⁻¹, G₁ᵀ, G₂), (T₁ᵀ, T₂))\n",
    "\n",
    "bt = (rċ, ru̇, rf, rλ);"
   ]
  },
  {
   "cell_type": "code",
   "execution_count": null,
   "metadata": {},
   "outputs": [],
   "source": [
    "aa,bb,cc,dd = St\\bt"
   ]
  },
  {
   "cell_type": "code",
   "execution_count": null,
   "metadata": {},
   "outputs": [],
   "source": [
    "x = [aa;bb;cc;dd]\n",
    "norm(S*x-b)"
   ]
  },
  {
   "cell_type": "code",
   "execution_count": null,
   "metadata": {},
   "outputs": [],
   "source": []
  }
 ],
 "metadata": {
  "kernelspec": {
   "display_name": "Julia 0.6.2",
   "language": "julia",
   "name": "julia-0.6"
  },
  "language_info": {
   "file_extension": ".jl",
   "mimetype": "application/julia",
   "name": "julia",
   "version": "0.6.2"
  }
 },
 "nbformat": 4,
 "nbformat_minor": 2
}
