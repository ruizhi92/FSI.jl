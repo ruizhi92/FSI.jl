{
 "cells": [
  {
   "cell_type": "markdown",
   "metadata": {},
   "source": [
    "# FSI problem"
   ]
  },
  {
   "cell_type": "code",
   "execution_count": 1,
   "metadata": {},
   "outputs": [],
   "source": [
    "using Pkg\n",
    "Pkg.activate(\"..\")\n",
    "using FSI"
   ]
  },
  {
   "cell_type": "code",
   "execution_count": 2,
   "metadata": {},
   "outputs": [],
   "source": [
    "using Revise\n",
    "using Plots\n",
    "pyplot()\n",
    "clibrary(:colorbrewer)\n",
    "default(grid = false)"
   ]
  },
  {
   "cell_type": "code",
   "execution_count": 3,
   "metadata": {},
   "outputs": [],
   "source": [
    "filename = \"FallingCylinder\";"
   ]
  },
  {
   "cell_type": "markdown",
   "metadata": {},
   "source": [
    "## <span style=\"color:blue\"> Set up rigid body with Dyn3d"
   ]
  },
  {
   "cell_type": "markdown",
   "metadata": {},
   "source": [
    "#### Include any joint-body setup script from Dyn3d"
   ]
  },
  {
   "cell_type": "code",
   "execution_count": 109,
   "metadata": {},
   "outputs": [
    {
     "data": {
      "text/plain": [
       "2.5477707006369426"
      ]
     },
     "execution_count": 109,
     "metadata": {},
     "output_type": "execute_result"
    }
   ],
   "source": [
    "2*2/1.57"
   ]
  },
  {
   "cell_type": "code",
   "execution_count": 110,
   "metadata": {},
   "outputs": [
    {
     "data": {
      "text/plain": [
       " joint type = custom_prismatic_in_z\n",
       " joint position in parent body coord = [0.0, 0.0, 0.0, 1.0, 0.0, 2.0]\n",
       " joint position in child body coord = [0.0, 0.0, 0.0, 0.0, 0.0, 0.0]\n",
       " joint unconstrained dof = 6, under passive motion\n",
       " initial unconstrained dof position = [0.0]\n"
      ]
     },
     "execution_count": 110,
     "metadata": {},
     "output_type": "execute_result"
    }
   ],
   "source": [
    "ndim = 2\n",
    "# numerical params\n",
    "tf = 1.0\n",
    "dt = 1e-3\n",
    "scheme = \"Liska\"\n",
    "st = 3\n",
    "tol = 1e-4\n",
    "num_params = NumParams(tf, dt, scheme, st, tol)\n",
    "# gravity\n",
    "gravity = [0., 0.0, -1.0]\n",
    "\n",
    "# set up system config info\n",
    "config_system = ConfigSystem(ndim, gravity, num_params)\n",
    "\n",
    "# set up bodys\n",
    "function circle(z₀::Vector{Float64}, r::Float64, n::Int)\n",
    "    # z₀ for circle center location, r for radius and n for # of points on circle\n",
    "    verts = zeros(n,2)\n",
    "    for i = 1:n\n",
    "        verts[i,:] = [r*cos(2π/(n)*(i-1)) + z₀[1], r*sin(2π/(n)*(i-1)) + z₀[2]]\n",
    "    end\n",
    "    return verts\n",
    "end\n",
    "\n",
    "nbody = 1\n",
    "nverts = 157\n",
    "verts = circle([0.,0.], 0.5, nverts)\n",
    "config_body = ConfigBody(nbody, nverts, verts, 2.55)\n",
    "config_bodys = fill(config_body, nbody)\n",
    "\n",
    "# set up joints\n",
    "njoint = nbody\n",
    "config_joints = Vector{ConfigJoint}(undef,njoint)\n",
    "\n",
    "# set the first passive joint with no stiff and damp\n",
    "dofₚ = Dof(6, \"passive\", 0., 0., Motions())\n",
    "config_joints[1] = ConfigJoint(njoint, \"custom_prismatic_in_z\",\n",
    "    [0.0,0.0,0.0,1.0,0.0,2.0], zeros(Float64,6), 0, [dofₚ], [0.0])"
   ]
  },
  {
   "cell_type": "markdown",
   "metadata": {},
   "source": [
    "#### Build joint-body chain"
   ]
  },
  {
   "cell_type": "code",
   "execution_count": 111,
   "metadata": {},
   "outputs": [
    {
     "data": {
      "text/plain": []
     },
     "execution_count": 111,
     "metadata": {},
     "output_type": "execute_result"
    },
    {
     "name": "stdout",
     "output_type": "stream",
     "text": [
      "This is a 1 body-joint system, system is un-mounted from space"
     ]
    }
   ],
   "source": [
    "bs, js, bsys = BuildChain(config_bodys, config_joints, config_system)\n",
    "bd = BodyDyn(bs, js, bsys)"
   ]
  },
  {
   "cell_type": "markdown",
   "metadata": {},
   "source": [
    "#### Initialize rigid body system state to complete body-joint information"
   ]
  },
  {
   "cell_type": "code",
   "execution_count": 112,
   "metadata": {},
   "outputs": [
    {
     "data": {
      "text/plain": [
       "(, Soln{Float64}(0.0, 0.001, [0.0, 0.0, 0.0, 0.0, 0.0, 0.0], [0.0, 0.0, 0.0, 0.0, 0.0, 0.0], Float64[], Float64[]))"
      ]
     },
     "execution_count": 112,
     "metadata": {},
     "output_type": "execute_result"
    },
    {
     "name": "stdout",
     "output_type": "stream",
     "text": [
      "This is a 1 body-joint system, system is un-mounted from space"
     ]
    }
   ],
   "source": [
    "bd, soln₀ = InitSystem!(bd)"
   ]
  },
  {
   "cell_type": "markdown",
   "metadata": {},
   "source": [
    "#### Initialize u and λ container"
   ]
  },
  {
   "cell_type": "code",
   "execution_count": 113,
   "metadata": {},
   "outputs": [],
   "source": [
    "qJ = soln₀.qJ\n",
    "v = soln₀.v\n",
    "λ_dim = bd.sys.ncdof_HERK\n",
    "λ = zeros(Float64,λ_dim);"
   ]
  },
  {
   "cell_type": "markdown",
   "metadata": {},
   "source": [
    "#### Get body verts for plotting"
   ]
  },
  {
   "cell_type": "code",
   "execution_count": 114,
   "metadata": {},
   "outputs": [],
   "source": [
    "@get bd (bs, js, sys)\n",
    "bs, js, sys = UpdatePosition!(bs, js, sys, soln₀.qJ)\n",
    "vs₀ = VertsHistory(sys.nbody, bs);"
   ]
  },
  {
   "cell_type": "markdown",
   "metadata": {},
   "source": [
    "#### Plot body only"
   ]
  },
  {
   "cell_type": "code",
   "execution_count": 115,
   "metadata": {},
   "outputs": [
    {
     "data": {
      "image/png": "[encoded data removed]"
     },
     "execution_count": 115,
     "metadata": {},
     "output_type": "execute_result"
    }
   ],
   "source": [
    "p = plot()\n",
    "for i = 1:sys.nbody\n",
    "    plot!(p,vs₀[i,[1:nverts;1],1], vs₀[i,[1:nverts;1],3],linewidth=2,linecolor=\"black\",fill=true)\n",
    "end\n",
    "plot!(xlims=(0,2), ylims=(0,3),ratio=1)"
   ]
  },
  {
   "cell_type": "markdown",
   "metadata": {},
   "source": [
    "## <span style=\"color:blue\"> Set up fluid with Whirl </span>"
   ]
  },
  {
   "cell_type": "markdown",
   "metadata": {},
   "source": [
    "#### Set the flow parameters"
   ]
  },
  {
   "cell_type": "code",
   "execution_count": 116,
   "metadata": {},
   "outputs": [
    {
     "data": {
      "text/plain": [
       "(0.0, 0.0)"
      ]
     },
     "execution_count": 116,
     "metadata": {},
     "output_type": "execute_result"
    }
   ],
   "source": [
    "Re = 200 # Reynolds number\n",
    "U = 0.0 # Free stream velocity\n",
    "U∞ = (0.0, U)\n",
    "# U∞ = (U, 0.0)"
   ]
  },
  {
   "cell_type": "markdown",
   "metadata": {},
   "source": [
    "#### Set the domain grid"
   ]
  },
  {
   "cell_type": "code",
   "execution_count": 117,
   "metadata": {},
   "outputs": [
    {
     "data": {
      "text/plain": [
       "(-0.01:0.02:2.0100000000000002, -0.01:0.02:3.0100000000000002)"
      ]
     },
     "execution_count": 117,
     "metadata": {},
     "output_type": "execute_result"
    }
   ],
   "source": [
    "nx = 102; ny = 152;\n",
    "Ly = 3.0;\n",
    "Δx = Ly/(ny-2);\n",
    "Δt = min(0.5*Δx,0.5*Δx^2*Re)\n",
    "w₀ = Nodes(Dual,(nx,ny))\n",
    "xg, yg = coordinates(w₀,dx=Δx)"
   ]
  },
  {
   "cell_type": "markdown",
   "metadata": {},
   "source": [
    "#### Set up fluid initial conditions"
   ]
  },
  {
   "cell_type": "code",
   "execution_count": 118,
   "metadata": {},
   "outputs": [],
   "source": [
    "w₀ .= 0.0;\n",
    "w = deepcopy(w₀);"
   ]
  },
  {
   "cell_type": "markdown",
   "metadata": {},
   "source": [
    "## <span style=\"color:blue\"> Create fluid-body interface </span>"
   ]
  },
  {
   "cell_type": "markdown",
   "metadata": {},
   "source": [
    "#### Genrate body grid points and get linear velocity on them"
   ]
  },
  {
   "cell_type": "code",
   "execution_count": 119,
   "metadata": {
    "scrolled": true
   },
   "outputs": [],
   "source": [
    "# bgs short for body grid system\n",
    "bgs = GenerateBodyGrid(bd; np=DetermineNP(nbody, Δx));"
   ]
  },
  {
   "cell_type": "markdown",
   "metadata": {},
   "source": [
    "#### Get body points initial coordinates for fluids"
   ]
  },
  {
   "cell_type": "code",
   "execution_count": 120,
   "metadata": {},
   "outputs": [],
   "source": [
    "bgs = AcquireBodyGridKinematics(bd,bgs)\n",
    "coord_init = hcat(bgs[1].q_i...)'[:,[1,3]]\n",
    "for i = 2:length(bgs)\n",
    "    coord_init = [coord_init[1:end-1,:]; hcat(bgs[i].q_i...)'[:,[1,3]]]\n",
    "end"
   ]
  },
  {
   "cell_type": "markdown",
   "metadata": {},
   "source": [
    "#### Set up body grid points and force container in fluid"
   ]
  },
  {
   "cell_type": "code",
   "execution_count": 121,
   "metadata": {},
   "outputs": [],
   "source": [
    "X̃ = VectorData(coord_init)\n",
    "f = VectorData(X̃);"
   ]
  },
  {
   "cell_type": "markdown",
   "metadata": {},
   "source": [
    "#### Create fluidstruct structure"
   ]
  },
  {
   "cell_type": "code",
   "execution_count": 122,
   "metadata": {},
   "outputs": [
    {
     "data": {
      "text/plain": [
       "0.01"
      ]
     },
     "execution_count": 122,
     "metadata": {},
     "output_type": "execute_result"
    }
   ],
   "source": [
    "tf = 200Δt\n",
    "T = Δt:Δt:tf\n",
    "fsys = FluidStruct((nx,ny),Re,Δx,Δt,U∞ = U∞, X̃ = X̃, rk=RK31)\n",
    "N = length(X̃)÷2\n",
    "Δt"
   ]
  },
  {
   "cell_type": "markdown",
   "metadata": {},
   "source": [
    "## <span style=\"color:blue\"> Create ifherk object </span>"
   ]
  },
  {
   "cell_type": "code",
   "execution_count": 123,
   "metadata": {},
   "outputs": [],
   "source": [
    "function TimeMarching.F(bd::BodyDyn)\n",
    "    f_exi = zeros(Float64,bd.sys.nbody,6)\n",
    "    return HERKFuncf(bd.bs, bd.js, bd.sys, f_exi, \"cylinder\", config_body.ρ)\n",
    "end"
   ]
  },
  {
   "cell_type": "code",
   "execution_count": 124,
   "metadata": {},
   "outputs": [
    {
     "name": "stdout",
     "output_type": "stream",
     "text": [
      " 19.692142 seconds (189.75 M allocations: 6.178 GiB, 6.77% gc time)\n"
     ]
    },
    {
     "data": {
      "text/plain": [
       "Stage-3+ IF-HERK integrator with\n",
       "   Time step size 0.01\n"
      ]
     },
     "execution_count": 124,
     "metadata": {},
     "output_type": "execute_result"
    }
   ],
   "source": [
    "@time ifherk_coupled = IFHERK_coupled(fsys.Δt,bd,bgs,(w₀,qJ,v,f,λ),\n",
    "                ((t,u) -> Systems.plan_intfact(t,u,fsys), B₁ᵀ, B₂),\n",
    "                (M⁻¹, G₁ᵀ, G₂, UpP, UpV),\n",
    "                ((bd,bgs,f) -> T₁ᵀ(bd,bgs,f,fsys.Δx,\"cylinder\"),\n",
    "                 (bd,bgs,u) -> T₂(bd,bgs,u,\"cylinder\"),\n",
    "                 (bd,bgs) -> getX̃(bd,bgs,\"cylinder\")),\n",
    "                ((w,t) -> r₁(w,t,fsys), F, w -> U_inf(w,fsys), gti),\n",
    "                fsys, tol=1e-3,rk=TimeMarching.RK31)"
   ]
  },
  {
   "cell_type": "code",
   "execution_count": 125,
   "metadata": {},
   "outputs": [],
   "source": [
    "fx = Float64[]\n",
    "fy = Float64[]\n",
    "t = 0.0\n",
    "thist = []\n",
    "whist = []\n",
    "bdhist = BodyDyn[];"
   ]
  },
  {
   "cell_type": "markdown",
   "metadata": {},
   "source": [
    "## <span style=\"color:blue\"> TimeMarching! </span>"
   ]
  },
  {
   "cell_type": "code",
   "execution_count": 126,
   "metadata": {
    "scrolled": true
   },
   "outputs": [
    {
     "name": "stdout",
     "output_type": "stream",
     "text": [
      " 19.536524 seconds (188.52 M allocations: 6.116 GiB, 6.72% gc time)\n",
      "next time unit is 0.01\n",
      " 18.967904 seconds (187.63 M allocations: 6.076 GiB, 6.83% gc time)\n",
      "next time unit is 0.02\n",
      " 18.956982 seconds (187.63 M allocations: 6.076 GiB, 6.85% gc time)\n",
      "next time unit is 0.03\n",
      " 19.068221 seconds (187.63 M allocations: 6.076 GiB, 6.87% gc time)\n",
      "next time unit is 0.04\n",
      " 18.943951 seconds (187.63 M allocations: 6.076 GiB, 7.34% gc time)\n",
      "next time unit is 0.05\n",
      " 19.438184 seconds (187.63 M allocations: 6.076 GiB, 6.98% gc time)\n",
      "next time unit is 0.060000000000000005\n",
      " 19.786981 seconds (187.63 M allocations: 6.076 GiB, 6.92% gc time)\n",
      "next time unit is 0.07\n",
      " 18.862925 seconds (187.63 M allocations: 6.076 GiB, 7.01% gc time)\n",
      "next time unit is 0.08\n",
      " 19.367480 seconds (187.63 M allocations: 6.076 GiB, 7.03% gc time)\n",
      "next time unit is 0.09\n",
      " 20.569241 seconds (187.63 M allocations: 6.076 GiB, 7.06% gc time)\n",
      "next time unit is 0.09999999999999999\n",
      " 19.933707 seconds (187.63 M allocations: 6.076 GiB, 7.60% gc time)\n",
      "next time unit is 0.10999999999999999\n",
      " 19.828048 seconds (187.63 M allocations: 6.076 GiB, 6.94% gc time)\n",
      "next time unit is 0.11999999999999998\n",
      " 20.017900 seconds (187.63 M allocations: 6.076 GiB, 6.80% gc time)\n",
      "next time unit is 0.12999999999999998\n",
      " 19.917331 seconds (187.63 M allocations: 6.076 GiB, 7.01% gc time)\n",
      "next time unit is 0.13999999999999999\n",
      " 20.116902 seconds (187.63 M allocations: 6.076 GiB, 6.96% gc time)\n",
      "next time unit is 0.15\n",
      " 20.217949 seconds (187.63 M allocations: 6.076 GiB, 6.84% gc time)\n",
      "next time unit is 0.16\n",
      " 19.932997 seconds (187.63 M allocations: 6.076 GiB, 6.89% gc time)\n",
      "next time unit is 0.17\n",
      " 20.151572 seconds (187.63 M allocations: 6.076 GiB, 7.32% gc time)\n",
      "next time unit is 0.18000000000000002\n",
      " 19.979768 seconds (187.63 M allocations: 6.076 GiB, 6.89% gc time)\n",
      "next time unit is 0.19000000000000003\n",
      " 20.077593 seconds (187.63 M allocations: 6.076 GiB, 6.86% gc time)\n",
      "next time unit is 0.20000000000000004\n",
      " 19.694010 seconds (187.63 M allocations: 6.076 GiB, 6.92% gc time)\n",
      "next time unit is 0.21000000000000005\n",
      " 20.057484 seconds (187.63 M allocations: 6.076 GiB, 6.93% gc time)\n",
      "next time unit is 0.22000000000000006\n",
      " 19.915586 seconds (187.63 M allocations: 6.076 GiB, 6.94% gc time)\n",
      "next time unit is 0.23000000000000007\n",
      " 19.810210 seconds (187.63 M allocations: 6.076 GiB, 6.97% gc time)\n",
      "next time unit is 0.24000000000000007\n",
      " 19.942097 seconds (187.63 M allocations: 6.076 GiB, 7.40% gc time)\n",
      "next time unit is 0.25000000000000006\n",
      " 19.990566 seconds (187.63 M allocations: 6.076 GiB, 6.88% gc time)\n",
      "next time unit is 0.26000000000000006\n",
      " 19.874874 seconds (187.63 M allocations: 6.076 GiB, 6.93% gc time)\n",
      "next time unit is 0.2700000000000001\n",
      " 20.038361 seconds (187.63 M allocations: 6.076 GiB, 6.86% gc time)\n",
      "next time unit is 0.2800000000000001\n",
      " 19.801462 seconds (187.63 M allocations: 6.076 GiB, 6.95% gc time)\n",
      "next time unit is 0.2900000000000001\n",
      " 19.683482 seconds (187.63 M allocations: 6.076 GiB, 6.95% gc time)\n",
      "next time unit is 0.3000000000000001\n",
      " 19.942070 seconds (187.63 M allocations: 6.076 GiB, 7.50% gc time)\n",
      "next time unit is 0.3100000000000001\n",
      " 19.675483 seconds (187.63 M allocations: 6.076 GiB, 6.96% gc time)\n",
      "next time unit is 0.3200000000000001\n",
      " 19.602746 seconds (187.63 M allocations: 6.076 GiB, 7.02% gc time)\n",
      "next time unit is 0.3300000000000001\n",
      " 19.890096 seconds (187.63 M allocations: 6.076 GiB, 6.89% gc time)\n",
      "next time unit is 0.34000000000000014\n",
      " 19.830471 seconds (187.63 M allocations: 6.076 GiB, 6.95% gc time)\n",
      "next time unit is 0.35000000000000014\n",
      " 19.753007 seconds (187.63 M allocations: 6.076 GiB, 6.94% gc time)\n",
      "next time unit is 0.36000000000000015\n",
      " 20.018094 seconds (187.63 M allocations: 6.076 GiB, 6.92% gc time)\n",
      "next time unit is 0.37000000000000016\n",
      " 19.754714 seconds (187.63 M allocations: 6.076 GiB, 7.48% gc time)\n",
      "next time unit is 0.38000000000000017\n",
      " 19.655251 seconds (187.63 M allocations: 6.076 GiB, 6.90% gc time)\n",
      "next time unit is 0.3900000000000002\n",
      " 19.940369 seconds (187.63 M allocations: 6.076 GiB, 6.85% gc time)\n",
      "next time unit is 0.4000000000000002\n",
      " 19.906478 seconds (187.63 M allocations: 6.076 GiB, 6.93% gc time)\n",
      "next time unit is 0.4100000000000002\n",
      " 19.823637 seconds (187.63 M allocations: 6.076 GiB, 6.96% gc time)\n",
      "next time unit is 0.4200000000000002\n",
      " 19.989965 seconds (187.63 M allocations: 6.076 GiB, 6.92% gc time)\n",
      "next time unit is 0.4300000000000002\n",
      " 19.869239 seconds (187.63 M allocations: 6.076 GiB, 6.95% gc time)\n",
      "next time unit is 0.4400000000000002\n",
      " 19.840365 seconds (187.63 M allocations: 6.076 GiB, 7.39% gc time)\n",
      "next time unit is 0.45000000000000023\n",
      " 20.024400 seconds (187.63 M allocations: 6.076 GiB, 6.95% gc time)\n",
      "next time unit is 0.46000000000000024\n",
      " 19.901364 seconds (187.63 M allocations: 6.076 GiB, 6.89% gc time)\n",
      "next time unit is 0.47000000000000025\n",
      " 19.751631 seconds (187.63 M allocations: 6.076 GiB, 6.99% gc time)\n",
      "next time unit is 0.48000000000000026\n",
      " 19.884066 seconds (187.63 M allocations: 6.076 GiB, 6.92% gc time)\n",
      "next time unit is 0.49000000000000027\n",
      " 19.790627 seconds (187.63 M allocations: 6.076 GiB, 6.96% gc time)\n",
      "next time unit is 0.5000000000000002\n",
      " 19.855678 seconds (187.63 M allocations: 6.076 GiB, 7.38% gc time)\n",
      "next time unit is 0.5100000000000002\n",
      " 19.957587 seconds (187.63 M allocations: 6.076 GiB, 6.92% gc time)\n",
      "next time unit is 0.5200000000000002\n",
      " 19.747394 seconds (187.63 M allocations: 6.076 GiB, 6.89% gc time)\n",
      "next time unit is 0.5300000000000002\n",
      " 19.674458 seconds (187.63 M allocations: 6.076 GiB, 6.99% gc time)\n",
      "next time unit is 0.5400000000000003\n",
      " 20.316301 seconds (187.63 M allocations: 6.076 GiB, 6.92% gc time)\n",
      "next time unit is 0.5500000000000003\n",
      " 19.719436 seconds (187.63 M allocations: 6.076 GiB, 7.03% gc time)\n",
      "next time unit is 0.5600000000000003\n",
      " 18.778523 seconds (187.63 M allocations: 6.076 GiB, 6.99% gc time)\n",
      "next time unit is 0.5700000000000003\n",
      " 19.027544 seconds (187.63 M allocations: 6.076 GiB, 7.30% gc time)\n",
      "next time unit is 0.5800000000000003\n",
      " 18.700440 seconds (187.63 M allocations: 6.076 GiB, 6.89% gc time)\n",
      "next time unit is 0.5900000000000003\n",
      " 18.982228 seconds (187.63 M allocations: 6.076 GiB, 6.91% gc time)\n",
      "next time unit is 0.6000000000000003\n",
      " 18.866670 seconds (187.63 M allocations: 6.076 GiB, 6.86% gc time)\n",
      "next time unit is 0.6100000000000003\n",
      " 18.848614 seconds (187.63 M allocations: 6.076 GiB, 6.91% gc time)\n",
      "next time unit is 0.6200000000000003\n",
      " 18.942862 seconds (187.63 M allocations: 6.076 GiB, 6.87% gc time)\n",
      "next time unit is 0.6300000000000003\n",
      " 18.983134 seconds (187.63 M allocations: 6.076 GiB, 6.90% gc time)\n",
      "next time unit is 0.6400000000000003\n",
      " 19.174762 seconds (187.63 M allocations: 6.076 GiB, 7.40% gc time)\n",
      "next time unit is 0.6500000000000004\n",
      " 18.816030 seconds (187.63 M allocations: 6.076 GiB, 6.84% gc time)\n",
      "next time unit is 0.6600000000000004\n",
      " 18.911062 seconds (187.63 M allocations: 6.076 GiB, 6.94% gc time)\n",
      "next time unit is 0.6700000000000004\n",
      " 18.933587 seconds (187.63 M allocations: 6.076 GiB, 6.97% gc time)\n",
      "next time unit is 0.6800000000000004\n",
      " 19.069561 seconds (187.63 M allocations: 6.076 GiB, 6.93% gc time)\n",
      "next time unit is 0.6900000000000004\n",
      " 19.087209 seconds (187.63 M allocations: 6.076 GiB, 7.05% gc time)\n",
      "next time unit is 0.7000000000000004\n",
      " 19.055224 seconds (187.63 M allocations: 6.076 GiB, 7.42% gc time)\n",
      "next time unit is 0.7100000000000004\n",
      " 18.991979 seconds (187.63 M allocations: 6.076 GiB, 6.86% gc time)\n",
      "next time unit is 0.7200000000000004\n",
      " 18.924657 seconds (187.63 M allocations: 6.076 GiB, 6.97% gc time)\n",
      "next time unit is 0.7300000000000004\n",
      " 19.044740 seconds (187.63 M allocations: 6.076 GiB, 6.89% gc time)\n",
      "next time unit is 0.7400000000000004\n",
      " 19.115126 seconds (187.63 M allocations: 6.076 GiB, 7.03% gc time)\n",
      "next time unit is 0.7500000000000004\n",
      " 18.974873 seconds (187.63 M allocations: 6.076 GiB, 6.94% gc time)\n",
      "next time unit is 0.7600000000000005\n",
      " 19.740323 seconds (187.63 M allocations: 6.076 GiB, 6.99% gc time)\n",
      "next time unit is 0.7700000000000005\n",
      " 19.231527 seconds (187.63 M allocations: 6.076 GiB, 7.50% gc time)\n",
      "next time unit is 0.7800000000000005\n",
      " 20.184415 seconds (187.63 M allocations: 6.076 GiB, 6.98% gc time)\n",
      "next time unit is 0.7900000000000005\n",
      " 19.944413 seconds (187.63 M allocations: 6.076 GiB, 7.04% gc time)\n",
      "next time unit is 0.8000000000000005\n"
     ]
    },
    {
     "name": "stdout",
     "output_type": "stream",
     "text": [
      " 20.202782 seconds (187.63 M allocations: 6.076 GiB, 7.15% gc time)\n",
      "next time unit is 0.8100000000000005\n",
      " 19.776386 seconds (187.63 M allocations: 6.076 GiB, 6.91% gc time)\n",
      "next time unit is 0.8200000000000005\n",
      " 20.355059 seconds (187.63 M allocations: 6.076 GiB, 6.85% gc time)\n",
      "next time unit is 0.8300000000000005\n",
      " 21.465554 seconds (187.63 M allocations: 6.076 GiB, 6.94% gc time)\n",
      "next time unit is 0.8400000000000005\n",
      " 19.963320 seconds (187.63 M allocations: 6.076 GiB, 7.32% gc time)\n",
      "next time unit is 0.8500000000000005\n",
      " 20.063284 seconds (187.63 M allocations: 6.076 GiB, 6.96% gc time)\n",
      "next time unit is 0.8600000000000005\n",
      " 19.942621 seconds (187.63 M allocations: 6.076 GiB, 6.80% gc time)\n",
      "next time unit is 0.8700000000000006\n",
      " 19.595995 seconds (187.63 M allocations: 6.076 GiB, 6.87% gc time)\n",
      "next time unit is 0.8800000000000006\n",
      " 19.915552 seconds (187.63 M allocations: 6.076 GiB, 6.83% gc time)\n",
      "next time unit is 0.8900000000000006\n",
      " 19.745739 seconds (187.63 M allocations: 6.076 GiB, 7.16% gc time)\n",
      "next time unit is 0.9000000000000006\n",
      " 19.942137 seconds (187.63 M allocations: 6.076 GiB, 7.29% gc time)\n",
      "next time unit is 0.9100000000000006\n",
      " 19.920000 seconds (187.63 M allocations: 6.076 GiB, 6.80% gc time)\n",
      "next time unit is 0.9200000000000006\n",
      " 19.789631 seconds (187.63 M allocations: 6.076 GiB, 6.98% gc time)\n",
      "next time unit is 0.9300000000000006\n",
      " 19.754379 seconds (187.63 M allocations: 6.076 GiB, 6.88% gc time)\n",
      "next time unit is 0.9400000000000006\n",
      " 19.947164 seconds (187.63 M allocations: 6.076 GiB, 6.86% gc time)\n",
      "next time unit is 0.9500000000000006\n",
      " 19.756053 seconds (187.63 M allocations: 6.076 GiB, 6.84% gc time)\n",
      "next time unit is 0.9600000000000006\n",
      " 19.951102 seconds (187.63 M allocations: 6.076 GiB, 7.13% gc time)\n",
      "next time unit is 0.9700000000000006\n",
      " 20.102069 seconds (187.63 M allocations: 6.076 GiB, 7.30% gc time)\n",
      "next time unit is 0.9800000000000006\n",
      " 19.885318 seconds (187.63 M allocations: 6.076 GiB, 6.76% gc time)\n",
      "next time unit is 0.9900000000000007\n",
      " 19.787631 seconds (187.63 M allocations: 6.076 GiB, 6.90% gc time)\n",
      "next time unit is 1.0000000000000007\n",
      " 19.825444 seconds (187.63 M allocations: 6.076 GiB, 7.00% gc time)\n",
      "next time unit is 1.0100000000000007\n",
      " 19.812872 seconds (187.63 M allocations: 6.076 GiB, 6.77% gc time)\n",
      "next time unit is 1.0200000000000007\n",
      " 19.572092 seconds (187.63 M allocations: 6.076 GiB, 6.88% gc time)\n",
      "next time unit is 1.0300000000000007\n",
      " 19.863577 seconds (187.63 M allocations: 6.076 GiB, 7.04% gc time)\n",
      "next time unit is 1.0400000000000007\n",
      " 19.777655 seconds (187.63 M allocations: 6.076 GiB, 7.29% gc time)\n",
      "next time unit is 1.0500000000000007\n",
      " 19.817160 seconds (187.63 M allocations: 6.076 GiB, 6.81% gc time)\n",
      "next time unit is 1.0600000000000007\n",
      " 20.309024 seconds (187.63 M allocations: 6.076 GiB, 6.87% gc time)\n",
      "next time unit is 1.0700000000000007\n",
      " 20.382575 seconds (187.63 M allocations: 6.076 GiB, 7.01% gc time)\n",
      "next time unit is 1.0800000000000007\n",
      " 20.128747 seconds (187.63 M allocations: 6.076 GiB, 6.93% gc time)\n",
      "next time unit is 1.0900000000000007\n",
      " 20.200452 seconds (187.63 M allocations: 6.076 GiB, 6.85% gc time)\n",
      "next time unit is 1.1000000000000008\n",
      " 20.128244 seconds (187.63 M allocations: 6.076 GiB, 7.59% gc time)\n",
      "next time unit is 1.1100000000000008\n",
      " 19.679464 seconds (187.63 M allocations: 6.076 GiB, 6.84% gc time)\n",
      "next time unit is 1.1200000000000008\n",
      " 20.013724 seconds (187.63 M allocations: 6.076 GiB, 6.71% gc time)\n",
      "next time unit is 1.1300000000000008\n",
      " 19.941787 seconds (187.63 M allocations: 6.076 GiB, 6.93% gc time)\n",
      "next time unit is 1.1400000000000008\n",
      " 19.669222 seconds (187.63 M allocations: 6.076 GiB, 6.92% gc time)\n",
      "next time unit is 1.1500000000000008\n",
      " 19.846687 seconds (187.63 M allocations: 6.076 GiB, 6.78% gc time)\n",
      "next time unit is 1.1600000000000008\n",
      " 20.089703 seconds (187.63 M allocations: 6.076 GiB, 6.87% gc time)\n",
      "next time unit is 1.1700000000000008\n",
      " 20.136928 seconds (187.63 M allocations: 6.076 GiB, 7.55% gc time)\n",
      "next time unit is 1.1800000000000008\n",
      " 20.042371 seconds (187.63 M allocations: 6.076 GiB, 6.70% gc time)\n",
      "next time unit is 1.1900000000000008\n",
      " 19.875152 seconds (187.63 M allocations: 6.076 GiB, 6.74% gc time)\n",
      "next time unit is 1.2000000000000008\n",
      " 19.853573 seconds (187.63 M allocations: 6.076 GiB, 6.93% gc time)\n",
      "next time unit is 1.2100000000000009\n",
      " 19.732260 seconds (187.63 M allocations: 6.076 GiB, 7.03% gc time)\n",
      "next time unit is 1.2200000000000009\n",
      " 19.775416 seconds (187.63 M allocations: 6.076 GiB, 6.83% gc time)\n",
      "next time unit is 1.2300000000000009\n",
      " 19.825474 seconds (187.63 M allocations: 6.076 GiB, 6.91% gc time)\n",
      "next time unit is 1.2400000000000009\n",
      " 20.094549 seconds (187.63 M allocations: 6.076 GiB, 7.46% gc time)\n",
      "next time unit is 1.2500000000000009\n",
      " 19.898484 seconds (187.63 M allocations: 6.076 GiB, 6.71% gc time)\n",
      "next time unit is 1.260000000000001\n",
      " 19.831845 seconds (187.63 M allocations: 6.076 GiB, 6.80% gc time)\n",
      "next time unit is 1.270000000000001\n",
      " 19.993865 seconds (187.63 M allocations: 6.076 GiB, 7.07% gc time)\n",
      "next time unit is 1.280000000000001\n",
      " 19.952441 seconds (187.63 M allocations: 6.076 GiB, 6.85% gc time)\n",
      "next time unit is 1.290000000000001\n",
      " 19.772339 seconds (187.63 M allocations: 6.076 GiB, 6.83% gc time)\n",
      "next time unit is 1.300000000000001\n",
      " 20.394430 seconds (187.63 M allocations: 6.076 GiB, 7.40% gc time)\n",
      "next time unit is 1.310000000000001\n",
      " 19.881018 seconds (187.63 M allocations: 6.076 GiB, 7.01% gc time)\n",
      "next time unit is 1.320000000000001\n",
      " 19.732220 seconds (187.63 M allocations: 6.076 GiB, 6.85% gc time)\n",
      "next time unit is 1.330000000000001\n",
      " 19.537676 seconds (187.63 M allocations: 6.076 GiB, 6.89% gc time)\n",
      "next time unit is 1.340000000000001\n",
      " 19.884757 seconds (187.63 M allocations: 6.076 GiB, 7.01% gc time)\n",
      "next time unit is 1.350000000000001\n",
      " 19.657699 seconds (187.63 M allocations: 6.076 GiB, 6.90% gc time)\n",
      "next time unit is 1.360000000000001\n",
      " 19.768697 seconds (187.63 M allocations: 6.076 GiB, 6.84% gc time)\n",
      "next time unit is 1.370000000000001\n",
      " 20.009628 seconds (187.63 M allocations: 6.076 GiB, 7.38% gc time)\n",
      "next time unit is 1.380000000000001\n",
      " 19.945134 seconds (187.63 M allocations: 6.076 GiB, 7.01% gc time)\n",
      "next time unit is 1.390000000000001\n",
      " 19.675139 seconds (187.63 M allocations: 6.076 GiB, 6.82% gc time)\n",
      "next time unit is 1.400000000000001\n",
      " 19.995623 seconds (187.63 M allocations: 6.076 GiB, 6.84% gc time)\n",
      "next time unit is 1.410000000000001\n",
      " 20.823776 seconds (187.63 M allocations: 6.076 GiB, 7.13% gc time)\n",
      "next time unit is 1.420000000000001\n",
      " 19.938725 seconds (187.63 M allocations: 6.076 GiB, 6.88% gc time)\n",
      "next time unit is 1.430000000000001\n",
      " 19.988702 seconds (187.63 M allocations: 6.076 GiB, 6.80% gc time)\n",
      "next time unit is 1.440000000000001\n",
      " 20.207259 seconds (187.63 M allocations: 6.076 GiB, 7.40% gc time)\n",
      "next time unit is 1.450000000000001\n",
      " 19.903553 seconds (187.63 M allocations: 6.076 GiB, 6.99% gc time)\n",
      "next time unit is 1.460000000000001\n",
      " 19.826158 seconds (187.63 M allocations: 6.076 GiB, 6.83% gc time)\n",
      "next time unit is 1.470000000000001\n",
      " 19.821453 seconds (187.63 M allocations: 6.076 GiB, 6.79% gc time)\n",
      "next time unit is 1.480000000000001\n",
      " 20.298970 seconds (187.63 M allocations: 6.076 GiB, 7.18% gc time)\n",
      "next time unit is 1.490000000000001\n",
      " 19.877127 seconds (187.63 M allocations: 6.076 GiB, 6.83% gc time)\n",
      "next time unit is 1.500000000000001\n",
      " 20.111585 seconds (187.63 M allocations: 6.076 GiB, 7.30% gc time)\n",
      "next time unit is 1.5100000000000011\n",
      " 19.922532 seconds (187.63 M allocations: 6.076 GiB, 6.90% gc time)\n",
      "next time unit is 1.5200000000000011\n",
      " 19.774985 seconds (187.63 M allocations: 6.076 GiB, 7.00% gc time)\n",
      "next time unit is 1.5300000000000011\n",
      " 19.827432 seconds (187.63 M allocations: 6.076 GiB, 6.76% gc time)\n",
      "next time unit is 1.5400000000000011\n",
      " 19.894724 seconds (187.63 M allocations: 6.076 GiB, 6.81% gc time)\n",
      "next time unit is 1.5500000000000012\n",
      " 20.141953 seconds (187.63 M allocations: 6.076 GiB, 6.90% gc time)\n",
      "next time unit is 1.5600000000000012\n",
      " 19.710253 seconds (187.63 M allocations: 6.076 GiB, 6.89% gc time)\n",
      "next time unit is 1.5700000000000012\n",
      " 19.727287 seconds (187.63 M allocations: 6.076 GiB, 7.35% gc time)\n",
      "next time unit is 1.5800000000000012\n",
      " 19.878262 seconds (187.63 M allocations: 6.076 GiB, 6.92% gc time)\n",
      "next time unit is 1.5900000000000012\n"
     ]
    },
    {
     "name": "stdout",
     "output_type": "stream",
     "text": [
      " 19.739242 seconds (187.63 M allocations: 6.076 GiB, 6.97% gc time)\n",
      "next time unit is 1.6000000000000012\n",
      " 19.634796 seconds (187.63 M allocations: 6.076 GiB, 6.84% gc time)\n",
      "next time unit is 1.6100000000000012\n",
      " 20.031322 seconds (187.63 M allocations: 6.076 GiB, 6.75% gc time)\n",
      "next time unit is 1.6200000000000012\n",
      " 19.985900 seconds (187.63 M allocations: 6.076 GiB, 7.10% gc time)\n",
      "next time unit is 1.6300000000000012\n",
      " 20.018963 seconds (187.63 M allocations: 6.076 GiB, 6.84% gc time)\n",
      "next time unit is 1.6400000000000012\n",
      " 19.883771 seconds (187.63 M allocations: 6.076 GiB, 7.25% gc time)\n",
      "next time unit is 1.6500000000000012\n",
      " 20.008609 seconds (187.63 M allocations: 6.076 GiB, 6.98% gc time)\n",
      "next time unit is 1.6600000000000013\n",
      " 19.907225 seconds (187.63 M allocations: 6.076 GiB, 6.86% gc time)\n",
      "next time unit is 1.6700000000000013\n",
      " 19.873537 seconds (187.63 M allocations: 6.076 GiB, 6.83% gc time)\n",
      "next time unit is 1.6800000000000013\n",
      " 19.891081 seconds (187.63 M allocations: 6.076 GiB, 6.84% gc time)\n",
      "next time unit is 1.6900000000000013\n",
      " 20.065167 seconds (187.63 M allocations: 6.076 GiB, 7.16% gc time)\n",
      "next time unit is 1.7000000000000013\n",
      " 19.750171 seconds (187.63 M allocations: 6.076 GiB, 7.39% gc time)\n",
      "next time unit is 1.7100000000000013\n",
      " 19.591000 seconds (187.63 M allocations: 6.076 GiB, 6.77% gc time)\n",
      "next time unit is 1.7200000000000013\n",
      " 19.858127 seconds (187.63 M allocations: 6.076 GiB, 7.00% gc time)\n",
      "next time unit is 1.7300000000000013\n",
      " 19.767054 seconds (187.63 M allocations: 6.076 GiB, 6.91% gc time)\n",
      "next time unit is 1.7400000000000013\n",
      " 19.180880 seconds (187.63 M allocations: 6.076 GiB, 6.88% gc time)\n",
      "next time unit is 1.7500000000000013\n",
      " 19.584647 seconds (187.63 M allocations: 6.076 GiB, 6.78% gc time)\n",
      "next time unit is 1.7600000000000013\n",
      " 19.416987 seconds (187.63 M allocations: 6.076 GiB, 7.13% gc time)\n",
      "next time unit is 1.7700000000000014\n",
      " 19.574704 seconds (187.63 M allocations: 6.076 GiB, 7.29% gc time)\n",
      "next time unit is 1.7800000000000014\n",
      " 19.441397 seconds (187.63 M allocations: 6.076 GiB, 6.79% gc time)\n",
      "next time unit is 1.7900000000000014\n",
      " 19.756881 seconds (187.63 M allocations: 6.076 GiB, 7.02% gc time)\n",
      "next time unit is 1.8000000000000014\n",
      " 19.550523 seconds (187.63 M allocations: 6.076 GiB, 6.87% gc time)\n",
      "next time unit is 1.8100000000000014\n",
      " 19.532460 seconds (187.63 M allocations: 6.076 GiB, 6.84% gc time)\n",
      "next time unit is 1.8200000000000014\n",
      " 19.457803 seconds (187.63 M allocations: 6.076 GiB, 6.94% gc time)\n",
      "next time unit is 1.8300000000000014\n",
      " 19.583467 seconds (187.63 M allocations: 6.076 GiB, 7.10% gc time)\n",
      "next time unit is 1.8400000000000014\n",
      " 19.479075 seconds (187.63 M allocations: 6.076 GiB, 7.32% gc time)\n",
      "next time unit is 1.8500000000000014\n",
      " 19.540640 seconds (187.63 M allocations: 6.076 GiB, 6.82% gc time)\n",
      "next time unit is 1.8600000000000014\n",
      " 19.437399 seconds (187.63 M allocations: 6.076 GiB, 7.07% gc time)\n",
      "next time unit is 1.8700000000000014\n",
      " 19.414492 seconds (187.63 M allocations: 6.076 GiB, 6.84% gc time)\n",
      "next time unit is 1.8800000000000014\n",
      " 19.482646 seconds (187.63 M allocations: 6.076 GiB, 6.84% gc time)\n",
      "next time unit is 1.8900000000000015\n",
      " 19.453849 seconds (187.63 M allocations: 6.076 GiB, 7.03% gc time)\n",
      "next time unit is 1.9000000000000015\n",
      " 19.719611 seconds (187.63 M allocations: 6.076 GiB, 7.43% gc time)\n",
      "next time unit is 1.9100000000000015\n",
      " 19.482666 seconds (187.63 M allocations: 6.076 GiB, 6.84% gc time)\n",
      "next time unit is 1.9200000000000015\n",
      " 19.467810 seconds (187.63 M allocations: 6.076 GiB, 6.79% gc time)\n",
      "next time unit is 1.9300000000000015\n",
      " 19.578922 seconds (187.63 M allocations: 6.076 GiB, 7.05% gc time)\n",
      "next time unit is 1.9400000000000015\n",
      " 19.474050 seconds (187.63 M allocations: 6.076 GiB, 6.92% gc time)\n",
      "next time unit is 1.9500000000000015\n",
      " 19.369733 seconds (187.63 M allocations: 6.076 GiB, 6.89% gc time)\n",
      "next time unit is 1.9600000000000015\n",
      " 19.251629 seconds (187.63 M allocations: 6.076 GiB, 7.05% gc time)\n",
      "next time unit is 1.9700000000000015\n",
      " 20.221162 seconds (187.63 M allocations: 6.076 GiB, 7.50% gc time)\n",
      "next time unit is 1.9800000000000015\n",
      " 19.382654 seconds (187.63 M allocations: 6.076 GiB, 7.08% gc time)\n",
      "next time unit is 1.9900000000000015\n",
      " 18.671603 seconds (187.63 M allocations: 6.076 GiB, 6.90% gc time)\n",
      "next time unit is 2.0000000000000013\n",
      "3947.833749 seconds (37.53 G allocations: 1.187 TiB, 6.99% gc time)\n"
     ]
    }
   ],
   "source": [
    "@time for ti in T\n",
    "    \n",
    "    @time global t, (w, f), (qJ, v, λ), bd = ifherk_coupled(t, w, qJ, v, bd,fsys)\n",
    "    \n",
    "    push!(thist,t-Δt)\n",
    "    push!(fx,sum(f.u)*Δx^2)\n",
    "    push!(fy,sum(f.v)*Δx^2)\n",
    "    push!(whist,deepcopy(w))\n",
    "    push!(bdhist,deepcopy(bd))\n",
    "    println(\"next time unit is \",t)\n",
    "end"
   ]
  },
  {
   "cell_type": "markdown",
   "metadata": {},
   "source": [
    "## <span style=\"color:blue\"> Plot </span>"
   ]
  },
  {
   "cell_type": "markdown",
   "metadata": {},
   "source": [
    "#### Set contour levels and fps"
   ]
  },
  {
   "cell_type": "code",
   "execution_count": 127,
   "metadata": {},
   "outputs": [],
   "source": [
    "contour_levels = range(-0.2,stop=0.2,length=50)\n",
    "sample_freq = 1\n",
    "fps = 25;"
   ]
  },
  {
   "cell_type": "markdown",
   "metadata": {},
   "source": [
    "#### Get body verts history"
   ]
  },
  {
   "cell_type": "code",
   "execution_count": 128,
   "metadata": {},
   "outputs": [],
   "source": [
    "# get verts info based on this regular grid solution\n",
    "vshist = []\n",
    "for i = 1:length(bdhist)\n",
    "    push!(vshist, VertsHistory(bdhist[i].sys.nbody, bdhist[i].bs))\n",
    "end"
   ]
  },
  {
   "cell_type": "markdown",
   "metadata": {},
   "source": [
    "#### Plot first and last time field"
   ]
  },
  {
   "cell_type": "code",
   "execution_count": 129,
   "metadata": {},
   "outputs": [
    {
     "data": {
      "image/png": "[encoded data removed]"
     },
     "execution_count": 129,
     "metadata": {},
     "output_type": "execute_result"
    }
   ],
   "source": [
    "p = plot(xg,yg,whist[1],levels=contour_levels)\n",
    "for i = 1:bd.sys.nbody\n",
    "    plot!(p,vshist[1][i,[1:nverts;1],1], vshist[1][i,[1:nverts;1],3],linewidth=2,linecolor=\"black\", fill=true)\n",
    "end\n",
    "p"
   ]
  },
  {
   "cell_type": "code",
   "execution_count": 130,
   "metadata": {},
   "outputs": [
    {
     "data": {
      "image/png": "[encoded data removed]"
     },
     "execution_count": 130,
     "metadata": {},
     "output_type": "execute_result"
    }
   ],
   "source": [
    "p = plot(xg,yg,whist[end],levels=contour_levels)\n",
    "for i = 1:bd.sys.nbody\n",
    "    plot!(p,vshist[end][i,[1:nverts;1],1], vshist[end][i,[1:nverts;1],3],linewidth=2,linecolor=\"black\", fill=true)\n",
    "end\n",
    "# savefig(p,\"plate.eps\")\n",
    "p"
   ]
  },
  {
   "cell_type": "markdown",
   "metadata": {},
   "source": [
    "#### Body position begining and end"
   ]
  },
  {
   "cell_type": "code",
   "execution_count": 131,
   "metadata": {},
   "outputs": [
    {
     "data": {
      "image/png": "[encoded data removed]"
     },
     "execution_count": 131,
     "metadata": {},
     "output_type": "execute_result"
    }
   ],
   "source": [
    "pb = plot()\n",
    "for i = 1:sys.nbody\n",
    "    plot!(pb,vshist[1][i,[1:nverts;1],1], vshist[1][i,[1:nverts;1],3],linewidth=2,linecolor=\"grey\",label=\"begin\",fill=true)\n",
    "end\n",
    "for i = 1:sys.nbody\n",
    "    plot!(pb,vshist[end][i,[1:nverts;1],1], vshist[end][i,[1:nverts;1],3],linewidth=2,linecolor=\"red\",label=\"end\",fill=true)\n",
    "end\n",
    "plot!(pb,xlims=(xg[1],xg[end]), ylims=(yg[1],yg[end]),ratio=1)\n",
    "pb"
   ]
  },
  {
   "cell_type": "markdown",
   "metadata": {},
   "source": [
    "#### Make gif"
   ]
  },
  {
   "cell_type": "code",
   "execution_count": 132,
   "metadata": {},
   "outputs": [
    {
     "data": {
      "image/png": "[encoded data removed]",
      "text/plain": [
       "PyPlot.Figure(PyObject <matplotlib.figure.Figure object at 0x7fb5aa64d1d0>)"
      ]
     },
     "metadata": {},
     "output_type": "display_data"
    },
    {
     "name": "stderr",
     "output_type": "stream",
     "text": [
      "┌ Info: Saved animation to \n",
      "│   fn = /mnt/g/Research/FSI.jl/examples/FallingCylinder.gif\n",
      "└ @ Plots /home/fs/.julia/packages/Plots/oiirH/src/animation.jl:90\n"
     ]
    },
    {
     "data": {
      "text/html": [
       "<img src=\"FallingCylinder.gif\" />"
      ],
      "text/plain": [
       "Plots.AnimatedGif(\"/mnt/g/Research/FSI.jl/examples/FallingCylinder.gif\")"
      ]
     },
     "execution_count": 132,
     "metadata": {},
     "output_type": "execute_result"
    }
   ],
   "source": [
    "anim = @animate for j = 1:sample_freq:length(whist)\n",
    "    plot(xg,yg,whist[j],levels=contour_levels)\n",
    "    for i = 1:sys.nbody\n",
    "        plot!(vshist[j][i,[1:nverts;1],1], vshist[j][i,[1:nverts;1],3],linewidth=2,linecolor=\"black\",fill=true)\n",
    "    end\n",
    "end\n",
    "\n",
    "gif(anim, filename*\".gif\", fps = fps)"
   ]
  },
  {
   "cell_type": "markdown",
   "metadata": {},
   "source": [
    "#### Get cylinder position and velocity in time"
   ]
  },
  {
   "cell_type": "code",
   "execution_count": 133,
   "metadata": {},
   "outputs": [],
   "source": [
    "vhist = [0.0]\n",
    "phist = [0.0]\n",
    "\n",
    "for i in 1:length(bdhist)\n",
    "    push!(vhist,bdhist[i].bs[1].v[6])\n",
    "    push!(phist,bdhist[i].bs[1].x_i[3]-bdhist[1].bs[1].x_i[3])    \n",
    "end\n",
    "\n",
    "ahist = []\n",
    "for i in 1:length(vhist)-1\n",
    "    push!(ahist,(vhist[i+1]-vhist[i])/Δt)\n",
    "end"
   ]
  },
  {
   "cell_type": "markdown",
   "metadata": {},
   "source": [
    "#### Plot"
   ]
  },
  {
   "cell_type": "code",
   "execution_count": 134,
   "metadata": {},
   "outputs": [
    {
     "data": {
      "image/png": "[encoded data removed]"
     },
     "execution_count": 134,
     "metadata": {},
     "output_type": "execute_result"
    }
   ],
   "source": [
    "pp = plot([0.0;thist],phist,xlabel=\"\\$(g/D)^{0.5}t \\$\",ylabel=\"\\$y/D\\$\",legend=false,ylims=(-25,0))\n",
    "pv = plot([0.0;thist],vhist,xlabel=\"\\$(g/D)^{0.5}t \\$\",ylabel=\"\\$v/(gD)^{0.5}\\$\",legend=false,ylims=(-2,0))\n",
    "pa = plot([0.0;thist[1:end-1]],ahist,xlabel=\"\\$(g/D)^{0.5}t \\$\",ylabel=\"\\$a/g\\$\",legend=false,ylims=(-0.5,0))\n",
    "\n",
    "plot(pp,pv,pa)"
   ]
  },
  {
   "cell_type": "code",
   "execution_count": 135,
   "metadata": {},
   "outputs": [
    {
     "data": {
      "text/plain": [
       "200-element Array{Any,1}:\n",
       " -0.3313400219234709 \n",
       " -0.3296420044094896 \n",
       " -0.32824447259257855\n",
       " -0.3270481611999299 \n",
       " -0.3259935419468641 \n",
       " -0.32504340618248473\n",
       " -0.32417275534482454\n",
       " -0.3233647528643288 \n",
       " -0.3226037631088582 \n",
       " -0.32188185024301025\n",
       " -0.3211905282846386 \n",
       " -0.3205245085081798 \n",
       " -0.3198791222140826 \n",
       "  ⋮                  \n",
       " -0.2669045897514599 \n",
       " -0.2641503652045518 \n",
       " -0.2633314573374457 \n",
       " -0.2594890499303282 \n",
       " -0.26490329818256164\n",
       " -0.2625551875120813 \n",
       " -0.2628617740608741 \n",
       " -0.2658926366185477 \n",
       " -0.2616708015621638 \n",
       " -0.260397137322399  \n",
       " -0.25530908922168916\n",
       " -0.26248552414446236"
      ]
     },
     "execution_count": 135,
     "metadata": {},
     "output_type": "execute_result"
    }
   ],
   "source": [
    "ahist"
   ]
  },
  {
   "cell_type": "markdown",
   "metadata": {},
   "source": [
    "#### fluid force"
   ]
  },
  {
   "cell_type": "code",
   "execution_count": 136,
   "metadata": {},
   "outputs": [
    {
     "data": {
      "image/png": "[encoded data removed]"
     },
     "execution_count": 136,
     "metadata": {},
     "output_type": "execute_result"
    }
   ],
   "source": [
    "px = plot(thist,fx,ylim=(-1,1),xlabel=\"Convective time\",ylabel=\"\\$C_D\\$\",legend=false)\n",
    "py = plot(thist,fy,ylim=(0,1),xlabel=\"Convective time\",ylabel=\"\\$C_L\\$\",legend=false)\n",
    "plot(px,py)"
   ]
  },
  {
   "cell_type": "code",
   "execution_count": 139,
   "metadata": {},
   "outputs": [
    {
     "data": {
      "image/png": "[encoded data removed]"
     },
     "execution_count": 139,
     "metadata": {},
     "output_type": "execute_result"
    }
   ],
   "source": [
    "using CSV\n",
    "\n",
    "pdata = CSV.read(\"local_run/validation/csv/position.csv\",header=false)\n",
    "xp = [pdata[i,1] for i in 1:length(pdata[1])]\n",
    "yp = [pdata[i,2] for i in 1:length(pdata[2])]\n",
    "\n",
    "vdata = CSV.read(\"local_run/validation/csv/velocity.csv\",header=false)\n",
    "xv = [vdata[i,1] for i in 1:length(vdata[1])]\n",
    "yv = [vdata[i,2] for i in 1:length(vdata[2])]\n",
    "\n",
    "adata = CSV.read(\"local_run/validation/csv/acceleration.csv\",header=false)\n",
    "xa = [adata[i,1] for i in 1:length(adata[1])]\n",
    "ya = [adata[i,2] for i in 1:length(adata[2])];\n",
    "\n",
    "pp = plot([0.0;thist],phist,xlabel=\"\\$(g/D)^{0.5}t \\$\",ylabel=\"\\$y/D\\$\",legend=false)#,ylims=(-25,0))\n",
    "scatter!(pp,xp,yp,linestyle=:dot,markersize=1)\n",
    "pv = plot([0.0;thist],vhist,xlabel=\"\\$(g/D)^{0.5}t \\$\",ylabel=\"\\$v/(gD)^{0.5}\\$\",legend=false)#,ylims=(-2,0))\n",
    "scatter!(xv,yv,linestyle=:dot,markersize=1)\n",
    "pa = plot([0.0;thist[1:end-1]],ahist,xlabel=\"\\$(g/D)^{0.5}t \\$\",ylabel=\"\\$a/g\\$\",legend=false)#,ylims=(-0.5,0))\n",
    "scatter!(xa,ya,linestyle=:dot,markersize=1)\n",
    "\n",
    "plot(pp,pv,pa)"
   ]
  },
  {
   "cell_type": "markdown",
   "metadata": {},
   "source": [
    "## <span style=\"color:blue\"> Save Data </span>"
   ]
  },
  {
   "cell_type": "markdown",
   "metadata": {},
   "source": [
    "#### Save all current data related to plotting to a .jld file"
   ]
  },
  {
   "cell_type": "code",
   "execution_count": 137,
   "metadata": {},
   "outputs": [],
   "source": [
    "using JLD\n",
    "save(filename*\".jld\",\n",
    "    \"bd\", bd,    \n",
    "    \"bdhist\", bdhist,\n",
    "    \"xg\", xg,\n",
    "    \"yg\", yg,\n",
    "    \"whist\", whist,\n",
    "    \"vshist\", vshist,\n",
    "    \"thist\", thist,\n",
    "    \"fx\", fx,\n",
    "    \"fy\", fy,\n",
    "    \"Δt\", Δt,\n",
    "    \"w\", w,\n",
    "    \"qJ\", qJ,\n",
    "    \"v\", v\n",
    ")"
   ]
  },
  {
   "cell_type": "markdown",
   "metadata": {},
   "source": [
    "#### Use the following block to extract data"
   ]
  },
  {
   "cell_type": "code",
   "execution_count": 138,
   "metadata": {},
   "outputs": [],
   "source": [
    "# using JLD\n",
    "\n",
    "# d = load(filename*\".jld\")\n",
    "# thist = d[\"thist\"]\n",
    "# fx = d[\"fx\"]\n",
    "# fy = d[\"fy\"]\n",
    "# xg = d[\"xg\"]\n",
    "# yg = d[\"yg\"]\n",
    "# vshist = d[\"vshist\"]\n",
    "# whist = d[\"whist\"]\n",
    "# bd = d[\"bd\"]\n",
    "# bdhist = d[\"bdhist\"]\n",
    "# Δt = d[\"Δt\"]\n",
    "# w = d[\"w\"]\n",
    "# qJ = d[\"qJ\"]\n",
    "# v = d[\"v\"]\n",
    "\n",
    "# @get bd (bs,js,sys);"
   ]
  }
 ],
 "metadata": {
  "@webio": {
   "lastCommId": null,
   "lastKernelId": null
  },
  "kernelspec": {
   "display_name": "Julia 1.0.4",
   "language": "julia",
   "name": "julia-1.0"
  },
  "language_info": {
   "file_extension": ".jl",
   "mimetype": "application/julia",
   "name": "julia",
   "version": "1.0.4"
  }
 },
 "nbformat": 4,
 "nbformat_minor": 2
}
