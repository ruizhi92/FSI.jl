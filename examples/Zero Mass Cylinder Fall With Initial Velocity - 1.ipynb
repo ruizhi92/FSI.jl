{
 "cells": [
  {
   "cell_type": "markdown",
   "metadata": {},
   "source": [
    "## This is a FSI problem of 2D cylinder with active motion in a quiescent flow\n",
    "\n",
    "Considering the fictitious fluid inside the cylinder due to immersed boundary method, also considering buoyancy.\n",
    "\n",
    "To keep consistency between *Dyn3d* and *ViscousFlow*, the cylinder is setup in z-x coordinates, so gravity should also be set in z direction"
   ]
  },
  {
   "cell_type": "markdown",
   "metadata": {},
   "source": [
    "Here we first actively drag the cylinder down to accelerate to v = 1 in the fluid, then make it passive. Make sure that time inteval is chosen properly so that velocity is 0 at the end(which is what we want for passive neutrally-buoyant cylinder)"
   ]
  },
  {
   "cell_type": "code",
   "execution_count": 1,
   "metadata": {},
   "outputs": [
    {
     "name": "stderr",
     "output_type": "stream",
     "text": [
      "┌ Info: Recompiling stale cache file /home/fs/.julia/compiled/v1.0/FSI/t27zx.ji for FSI [39fdbc7a-862a-11e9-015b-61723af7393f]\n",
      "└ @ Base loading.jl:1190\n"
     ]
    }
   ],
   "source": [
    "using Pkg\n",
    "Pkg.activate(\"..\")\n",
    "using FSI"
   ]
  },
  {
   "cell_type": "code",
   "execution_count": 2,
   "metadata": {},
   "outputs": [],
   "source": [
    "using Revise\n",
    "using BSON: @save, @load\n",
    "\n",
    "using Plots\n",
    "pyplot()\n",
    "clibrary(:colorbrewer)\n",
    "default(grid = false)"
   ]
  },
  {
   "cell_type": "code",
   "execution_count": 3,
   "metadata": {},
   "outputs": [],
   "source": [
    "filename = \"Zero Mass Cylinder Fall With Initial Velocity - 1\";"
   ]
  },
  {
   "cell_type": "markdown",
   "metadata": {},
   "source": [
    "## <span style=\"color:blue\"> Set up rigid body with Dyn3d"
   ]
  },
  {
   "cell_type": "markdown",
   "metadata": {},
   "source": [
    "#### Include any joint-body setup script from Dyn3d"
   ]
  },
  {
   "cell_type": "code",
   "execution_count": 4,
   "metadata": {},
   "outputs": [
    {
     "data": {
      "text/plain": [
       " joint type = custom_prismatic_in_z\n",
       " joint position in parent body coord = [0.0, 0.0, 0.0, 2.0, 0.0, 3.2]\n",
       " joint position in child body coord = [0.0, 0.0, 0.0, 0.0, 0.0, 0.0]\n",
       " joint unconstrained dof = 6, under active velocity_linear motion\n",
       " initial unconstrained dof position = [0.0]\n",
       " initial unconstrained dof velocity = [0.0]\n"
      ]
     },
     "execution_count": 4,
     "metadata": {},
     "output_type": "execute_result"
    }
   ],
   "source": [
    "ndim = 2\n",
    "# numerical params\n",
    "tf = 1.0\n",
    "dt = 1e-3\n",
    "scheme = \"Liska\"\n",
    "st = 3\n",
    "tol = 1e-4\n",
    "num_params = NumParams(tf, dt, scheme, st, tol)\n",
    "# gravity\n",
    "gravity = [0., 0.0, -1.0]\n",
    "\n",
    "# set up system config info\n",
    "config_system = ConfigSystem(ndim, gravity, num_params)\n",
    "\n",
    "# set up bodys\n",
    "function circle(z₀::Vector{Float64}, r::Float64, n::Int)\n",
    "    # z₀ for circle center location, r for radius and n for # of points on circle\n",
    "    verts = zeros(n,2)\n",
    "    for i = 1:n\n",
    "        verts[i,:] = [r*cos(2π/(n)*(i-1)) + z₀[1], r*sin(2π/(n)*(i-1)) + z₀[2]]\n",
    "    end\n",
    "    return verts\n",
    "end\n",
    "\n",
    "nbody = 1\n",
    "nverts = 157\n",
    "verts = circle([0.,0.], 0.5, nverts)\n",
    "config_body = ConfigBody(nbody, nverts, verts, 0.0)\n",
    "config_bodys = fill(config_body, nbody)\n",
    "\n",
    "# set up joints\n",
    "njoint = nbody\n",
    "config_joints = Vector{ConfigJoint}(undef,njoint)\n",
    "\n",
    "# set the first passive joint with no stiff and damp\n",
    "dofₐ = Dof(6, \"active\", 0., 0., Motions(\"velocity_linear\",[0.0,0.0,-1.0]))\n",
    "config_joints[1] = ConfigJoint(njoint, \"custom_prismatic_in_z\",\n",
    "    [0.0,0.0,0.0,2.0,0.0,3.2], zeros(Float64,6), 0, [dofₐ], [0.0],[0.0])"
   ]
  },
  {
   "cell_type": "markdown",
   "metadata": {},
   "source": [
    "#### Build joint-body chain"
   ]
  },
  {
   "cell_type": "code",
   "execution_count": 5,
   "metadata": {},
   "outputs": [
    {
     "data": {
      "text/plain": []
     },
     "execution_count": 5,
     "metadata": {},
     "output_type": "execute_result"
    },
    {
     "name": "stdout",
     "output_type": "stream",
     "text": [
      "This is a 1 body-joint system, system is un-mounted from space"
     ]
    }
   ],
   "source": [
    "bs, js, bsys = BuildChain(config_bodys, config_joints, config_system)\n",
    "bd = BodyDyn(bs, js, bsys)"
   ]
  },
  {
   "cell_type": "markdown",
   "metadata": {},
   "source": [
    "#### Initialize rigid body system state to complete body-joint information"
   ]
  },
  {
   "cell_type": "code",
   "execution_count": 6,
   "metadata": {},
   "outputs": [],
   "source": [
    "bd, soln₀ = InitSystem!(bd;influid=true);"
   ]
  },
  {
   "cell_type": "markdown",
   "metadata": {},
   "source": [
    "#### Initialize u and λ container"
   ]
  },
  {
   "cell_type": "code",
   "execution_count": 7,
   "metadata": {},
   "outputs": [],
   "source": [
    "qJ = soln₀.qJ\n",
    "v = soln₀.v\n",
    "λ_dim = bd.sys.ncdof_HERK\n",
    "λ = zeros(Float64,λ_dim);"
   ]
  },
  {
   "cell_type": "markdown",
   "metadata": {},
   "source": [
    "#### Get body verts for plotting"
   ]
  },
  {
   "cell_type": "code",
   "execution_count": 8,
   "metadata": {},
   "outputs": [],
   "source": [
    "@get bd (bs, js, sys)\n",
    "bs, js, sys = UpdatePosition!(bs, js, sys, soln₀.qJ)\n",
    "vs₀ = VertsHistory(sys.nbody, bs);"
   ]
  },
  {
   "cell_type": "markdown",
   "metadata": {},
   "source": [
    "#### Plot body only"
   ]
  },
  {
   "cell_type": "code",
   "execution_count": 9,
   "metadata": {},
   "outputs": [
    {
     "data": {
      "image/png": "[encoded data removed]"
     },
     "execution_count": 9,
     "metadata": {},
     "output_type": "execute_result"
    }
   ],
   "source": [
    "p = plot()\n",
    "for i = 1:sys.nbody\n",
    "    plot!(p,vs₀[i,[1:nverts;1],1], vs₀[i,[1:nverts;1],3],linewidth=2,linecolor=\"black\",fill=true)\n",
    "end\n",
    "plot!(xlims=(0,4), ylims=(0,8),ratio=1)\n",
    "# plot!(xlims=(0,2), ylims=(0,3),ratio=1)"
   ]
  },
  {
   "cell_type": "markdown",
   "metadata": {},
   "source": [
    "## <span style=\"color:blue\"> Set up fluid with Whirl </span>"
   ]
  },
  {
   "cell_type": "markdown",
   "metadata": {},
   "source": [
    "#### Set the flow parameters"
   ]
  },
  {
   "cell_type": "code",
   "execution_count": 10,
   "metadata": {},
   "outputs": [
    {
     "data": {
      "text/plain": [
       "(0.0, 0.0)"
      ]
     },
     "execution_count": 10,
     "metadata": {},
     "output_type": "execute_result"
    }
   ],
   "source": [
    "Re = 200 # Reynolds number\n",
    "U = 0.0 # Free stream velocity\n",
    "U∞ = (0.0, U)"
   ]
  },
  {
   "cell_type": "markdown",
   "metadata": {},
   "source": [
    "#### Set the domain grid"
   ]
  },
  {
   "cell_type": "code",
   "execution_count": 11,
   "metadata": {},
   "outputs": [
    {
     "data": {
      "text/plain": [
       "(-0.01:0.02:4.01, -0.01:0.02:8.01)"
      ]
     },
     "execution_count": 11,
     "metadata": {},
     "output_type": "execute_result"
    }
   ],
   "source": [
    "nx = 202; ny = 402;\n",
    "Ly = 8.0;\n",
    "# nx = 102; ny = 152;\n",
    "# Ly = 3.0;\n",
    "Δx = Ly/(ny-2);\n",
    "\n",
    "Δt = min(0.5*Δx,0.5*Δx^2*Re)\n",
    "\n",
    "w₀ = Nodes(Dual,(nx,ny))\n",
    "xg, yg = coordinates(w₀,dx=Δx)"
   ]
  },
  {
   "cell_type": "markdown",
   "metadata": {},
   "source": [
    "#### Set up fluid initial conditions"
   ]
  },
  {
   "cell_type": "code",
   "execution_count": 12,
   "metadata": {},
   "outputs": [],
   "source": [
    "w₀ .= 0.0;\n",
    "w = deepcopy(w₀);"
   ]
  },
  {
   "cell_type": "markdown",
   "metadata": {},
   "source": [
    "## <span style=\"color:blue\"> Create fluid-body interface </span>"
   ]
  },
  {
   "cell_type": "markdown",
   "metadata": {},
   "source": [
    "#### Body in fluid plane"
   ]
  },
  {
   "cell_type": "code",
   "execution_count": 13,
   "metadata": {},
   "outputs": [],
   "source": [
    "plane = [1,3];"
   ]
  },
  {
   "cell_type": "markdown",
   "metadata": {},
   "source": [
    "#### Genrate body grid points and get linear velocity on them"
   ]
  },
  {
   "cell_type": "code",
   "execution_count": 14,
   "metadata": {
    "scrolled": true
   },
   "outputs": [],
   "source": [
    "bgs = GenerateBodyGrid(bd; np=DetermineNP(nbody, Δx));"
   ]
  },
  {
   "cell_type": "markdown",
   "metadata": {},
   "source": [
    "#### Get body points initial coordinates for fluids"
   ]
  },
  {
   "cell_type": "code",
   "execution_count": 15,
   "metadata": {},
   "outputs": [],
   "source": [
    "bgs = AcquireBodyGridKinematics(bd,bgs);"
   ]
  },
  {
   "cell_type": "markdown",
   "metadata": {},
   "source": [
    "#### Set up body grid points and force container in fluid"
   ]
  },
  {
   "cell_type": "code",
   "execution_count": 16,
   "metadata": {},
   "outputs": [],
   "source": [
    "X̃ = BodyGridToVectorData(bgs,\"coord\";plane=plane)\n",
    "f = VectorData(X̃);"
   ]
  },
  {
   "cell_type": "markdown",
   "metadata": {},
   "source": [
    "#### Create fluidstruct structure"
   ]
  },
  {
   "cell_type": "code",
   "execution_count": 17,
   "metadata": {},
   "outputs": [
    {
     "data": {
      "text/plain": [
       "0.01"
      ]
     },
     "execution_count": 17,
     "metadata": {},
     "output_type": "execute_result"
    }
   ],
   "source": [
    "tf = 100Δt\n",
    "T = Δt:Δt:tf\n",
    "fsys = FluidStruct((nx,ny),Re,Δx,Δt,U∞ = U∞, X̃ = X̃, rk=RK31)\n",
    "N = length(X̃)÷2\n",
    "Δt"
   ]
  },
  {
   "cell_type": "markdown",
   "metadata": {},
   "source": [
    "## <span style=\"color:blue\"> Create ifherk object </span>"
   ]
  },
  {
   "cell_type": "code",
   "execution_count": 18,
   "metadata": {
    "scrolled": false
   },
   "outputs": [
    {
     "name": "stdout",
     "output_type": "stream",
     "text": [
      " 32.526985 seconds (64.45 M allocations: 6.378 GiB, 3.61% gc time)\n"
     ]
    },
    {
     "data": {
      "text/plain": [
       "Stage-3+ IF-HERK integrator with\n",
       "   Time step size 0.01\n"
      ]
     },
     "execution_count": 18,
     "metadata": {},
     "output_type": "execute_result"
    }
   ],
   "source": [
    "@time ifherk_coupled = IFHERK_coupled(fsys.Δt,bd,bgs,(w₀,qJ,v,f,λ),\n",
    "                ((t,u) -> Systems.plan_intfact(t,u,fsys), B₁ᵀ, B₂),\n",
    "                (M, G₁ᵀ, G₂, UpP, UpV),\n",
    "                ((bd,bgs,f) -> T₁ᵀ(bd,bgs,f,fsys.Δx;plane=plane),\n",
    "                 (bd,bgs,u) -> T₂(bd,bgs,u;plane=plane),\n",
    "                 (bd,bgs) -> getX̃(bd,bgs;plane=plane)),\n",
    "                ((w,t) -> FSI.r₁(w,t,fsys), bd -> F(bd,config_body.ρ), w -> U_inf(w,fsys), gti),\n",
    "                fsys, tol=1e-3, rk=TimeMarching.RK31, bodydim=2, ρb=config_body.ρ)"
   ]
  },
  {
   "cell_type": "code",
   "execution_count": 19,
   "metadata": {},
   "outputs": [],
   "source": [
    "fx = Float64[]\n",
    "fy = Float64[]\n",
    "t = 0.0\n",
    "thist = []\n",
    "whist = []\n",
    "bdhist = BodyDyn[];"
   ]
  },
  {
   "cell_type": "markdown",
   "metadata": {},
   "source": [
    "## <span style=\"color:blue\"> TimeMarching! </span>"
   ]
  },
  {
   "cell_type": "code",
   "execution_count": 20,
   "metadata": {
    "scrolled": true
   },
   "outputs": [
    {
     "name": "stdout",
     "output_type": "stream",
     "text": [
      " 27.099018 seconds (43.87 M allocations: 5.460 GiB, 2.67% gc time)\n",
      "next time unit is 0.01\n",
      "data saved at time 0.01\n",
      " 24.263757 seconds (38.09 M allocations: 5.195 GiB, 2.42% gc time)\n",
      "next time unit is 0.02\n",
      " 25.036450 seconds (38.09 M allocations: 5.195 GiB, 1.93% gc time)\n",
      "next time unit is 0.03\n",
      " 24.167082 seconds (38.09 M allocations: 5.195 GiB, 2.00% gc time)\n",
      "next time unit is 0.04\n",
      " 24.450796 seconds (38.09 M allocations: 5.195 GiB, 2.35% gc time)\n",
      "next time unit is 0.05\n",
      " 23.629519 seconds (38.09 M allocations: 5.195 GiB, 2.00% gc time)\n",
      "next time unit is 0.06\n",
      " 24.627847 seconds (38.09 M allocations: 5.195 GiB, 2.33% gc time)\n",
      "next time unit is 0.07\n",
      " 23.838726 seconds (38.09 M allocations: 5.195 GiB, 1.98% gc time)\n",
      "next time unit is 0.08\n",
      " 23.944819 seconds (38.09 M allocations: 5.195 GiB, 2.36% gc time)\n",
      "next time unit is 0.09\n",
      " 23.766078 seconds (38.09 M allocations: 5.195 GiB, 1.99% gc time)\n",
      "next time unit is 0.1\n",
      " 23.751985 seconds (38.09 M allocations: 5.195 GiB, 2.37% gc time)\n",
      "next time unit is 0.11\n",
      " 23.752497 seconds (38.09 M allocations: 5.195 GiB, 1.98% gc time)\n",
      "next time unit is 0.12\n",
      " 23.852507 seconds (38.09 M allocations: 5.195 GiB, 2.39% gc time)\n",
      "next time unit is 0.13\n",
      " 23.582353 seconds (38.09 M allocations: 5.195 GiB, 1.99% gc time)\n",
      "next time unit is 0.14\n",
      " 25.199595 seconds (38.09 M allocations: 5.195 GiB, 1.96% gc time)\n",
      "next time unit is 0.15\n",
      " 24.703084 seconds (38.09 M allocations: 5.195 GiB, 2.35% gc time)\n",
      "next time unit is 0.16\n",
      " 24.204317 seconds (38.09 M allocations: 5.195 GiB, 1.98% gc time)\n",
      "next time unit is 0.17\n",
      " 24.232930 seconds (38.09 M allocations: 5.195 GiB, 2.36% gc time)\n",
      "next time unit is 0.18\n",
      " 24.209170 seconds (38.09 M allocations: 5.195 GiB, 1.98% gc time)\n",
      "next time unit is 0.19\n",
      " 24.029727 seconds (38.09 M allocations: 5.195 GiB, 2.34% gc time)\n",
      "next time unit is 0.2\n",
      " 24.109280 seconds (38.09 M allocations: 5.195 GiB, 1.98% gc time)\n",
      "next time unit is 0.21\n",
      " 24.011674 seconds (38.09 M allocations: 5.195 GiB, 2.35% gc time)\n",
      "next time unit is 0.22\n",
      " 24.876892 seconds (38.09 M allocations: 5.195 GiB, 1.96% gc time)\n",
      "next time unit is 0.23\n",
      " 27.402072 seconds (38.09 M allocations: 5.195 GiB, 1.87% gc time)\n",
      "next time unit is 0.24\n",
      " 27.886401 seconds (38.09 M allocations: 5.195 GiB, 2.27% gc time)\n",
      "next time unit is 0.25\n",
      " 27.786432 seconds (38.09 M allocations: 5.195 GiB, 1.89% gc time)\n",
      "next time unit is 0.26\n",
      " 27.476406 seconds (38.09 M allocations: 5.195 GiB, 2.26% gc time)\n",
      "next time unit is 0.27\n",
      " 27.167823 seconds (38.09 M allocations: 5.195 GiB, 1.92% gc time)\n",
      "next time unit is 0.28\n",
      " 27.264785 seconds (38.09 M allocations: 5.195 GiB, 2.27% gc time)\n",
      "next time unit is 0.29\n",
      " 27.497000 seconds (38.09 M allocations: 5.195 GiB, 1.89% gc time)\n",
      "next time unit is 0.3\n",
      " 28.010330 seconds (38.09 M allocations: 5.195 GiB, 2.33% gc time)\n",
      "next time unit is 0.31\n",
      " 28.615557 seconds (38.09 M allocations: 5.195 GiB, 1.92% gc time)\n",
      "next time unit is 0.32\n",
      " 30.112229 seconds (38.09 M allocations: 5.195 GiB, 2.28% gc time)\n",
      "next time unit is 0.33\n",
      " 29.448805 seconds (38.09 M allocations: 5.195 GiB, 1.92% gc time)\n",
      "next time unit is 0.34\n",
      " 29.542713 seconds (38.09 M allocations: 5.195 GiB, 1.84% gc time)\n",
      "next time unit is 0.35\n",
      " 29.788959 seconds (38.09 M allocations: 5.195 GiB, 2.26% gc time)\n",
      "next time unit is 0.36\n",
      " 31.706303 seconds (38.09 M allocations: 5.195 GiB, 1.93% gc time)\n",
      "next time unit is 0.37\n",
      " 31.312161 seconds (38.09 M allocations: 5.195 GiB, 2.26% gc time)\n",
      "next time unit is 0.38\n",
      " 31.263948 seconds (38.09 M allocations: 5.195 GiB, 1.88% gc time)\n",
      "next time unit is 0.39\n",
      " 31.138631 seconds (38.09 M allocations: 5.195 GiB, 2.34% gc time)\n",
      "next time unit is 0.4\n",
      " 31.216416 seconds (38.09 M allocations: 5.195 GiB, 1.92% gc time)\n",
      "next time unit is 0.41\n",
      " 31.205714 seconds (38.09 M allocations: 5.195 GiB, 2.27% gc time)\n",
      "next time unit is 0.42\n",
      " 31.382393 seconds (38.09 M allocations: 5.195 GiB, 1.96% gc time)\n",
      "next time unit is 0.43\n",
      " 31.861639 seconds (38.09 M allocations: 5.195 GiB, 2.33% gc time)\n",
      "next time unit is 0.44\n",
      " 31.881789 seconds (38.09 M allocations: 5.195 GiB, 1.91% gc time)\n",
      "next time unit is 0.45\n",
      " 32.144467 seconds (38.09 M allocations: 5.195 GiB, 1.94% gc time)\n",
      "next time unit is 0.46\n",
      " 32.783162 seconds (38.09 M allocations: 5.195 GiB, 2.27% gc time)\n",
      "next time unit is 0.47\n",
      " 32.143825 seconds (38.09 M allocations: 5.195 GiB, 1.96% gc time)\n",
      "next time unit is 0.48\n",
      " 31.701608 seconds (38.09 M allocations: 5.195 GiB, 2.32% gc time)\n",
      "next time unit is 0.49\n",
      " 35.022308 seconds (38.09 M allocations: 5.195 GiB, 1.83% gc time)\n",
      "next time unit is 0.5\n",
      " 32.174884 seconds (38.09 M allocations: 5.195 GiB, 2.39% gc time)\n",
      "next time unit is 0.51\n",
      " 31.368713 seconds (38.09 M allocations: 5.195 GiB, 1.89% gc time)\n",
      "next time unit is 0.52\n",
      " 31.951885 seconds (38.09 M allocations: 5.195 GiB, 2.30% gc time)\n",
      "next time unit is 0.53\n",
      " 32.143576 seconds (38.09 M allocations: 5.195 GiB, 1.87% gc time)\n",
      "next time unit is 0.54\n",
      " 31.462170 seconds (38.09 M allocations: 5.195 GiB, 2.34% gc time)\n",
      "next time unit is 0.55\n",
      " 32.535019 seconds (38.09 M allocations: 5.195 GiB, 1.93% gc time)\n",
      "next time unit is 0.56\n",
      " 31.635596 seconds (38.09 M allocations: 5.195 GiB, 1.86% gc time)\n",
      "next time unit is 0.57\n",
      " 29.742364 seconds (38.09 M allocations: 5.195 GiB, 2.23% gc time)\n",
      "next time unit is 0.58\n",
      " 30.173359 seconds (38.09 M allocations: 5.195 GiB, 1.88% gc time)\n",
      "next time unit is 0.59\n",
      " 29.617841 seconds (38.09 M allocations: 5.195 GiB, 2.35% gc time)\n",
      "next time unit is 0.6\n",
      " 28.614103 seconds (38.09 M allocations: 5.195 GiB, 1.92% gc time)\n",
      "next time unit is 0.61\n",
      " 29.945829 seconds (38.09 M allocations: 5.195 GiB, 2.34% gc time)\n",
      "next time unit is 0.62\n",
      " 30.734188 seconds (38.09 M allocations: 5.195 GiB, 1.91% gc time)\n",
      "next time unit is 0.63\n",
      " 31.009544 seconds (38.09 M allocations: 5.195 GiB, 2.42% gc time)\n",
      "next time unit is 0.64\n",
      " 30.828756 seconds (38.09 M allocations: 5.195 GiB, 1.95% gc time)\n",
      "next time unit is 0.65\n",
      " 31.278052 seconds (38.09 M allocations: 5.195 GiB, 2.38% gc time)\n",
      "next time unit is 0.66\n",
      " 31.060381 seconds (38.09 M allocations: 5.195 GiB, 1.93% gc time)\n",
      "next time unit is 0.67\n",
      " 31.351419 seconds (38.09 M allocations: 5.195 GiB, 1.88% gc time)\n",
      "next time unit is 0.68\n",
      " 30.434630 seconds (38.09 M allocations: 5.195 GiB, 2.31% gc time)\n",
      "next time unit is 0.69\n",
      " 30.341896 seconds (38.09 M allocations: 5.195 GiB, 1.93% gc time)\n",
      "next time unit is 0.7\n",
      " 30.949690 seconds (38.09 M allocations: 5.195 GiB, 2.27% gc time)\n",
      "next time unit is 0.71\n",
      " 31.567750 seconds (38.09 M allocations: 5.195 GiB, 1.89% gc time)\n",
      "next time unit is 0.72\n",
      " 30.592436 seconds (38.09 M allocations: 5.195 GiB, 2.33% gc time)\n",
      "next time unit is 0.73\n",
      " 31.772066 seconds (38.09 M allocations: 5.195 GiB, 1.96% gc time)\n",
      "next time unit is 0.74\n",
      " 31.784587 seconds (38.09 M allocations: 5.195 GiB, 2.30% gc time)\n",
      "next time unit is 0.75\n",
      " 30.950778 seconds (38.09 M allocations: 5.195 GiB, 1.89% gc time)\n",
      "next time unit is 0.76\n",
      " 28.793175 seconds (38.09 M allocations: 5.195 GiB, 2.25% gc time)\n",
      "next time unit is 0.77\n",
      " 28.872129 seconds (38.09 M allocations: 5.195 GiB, 1.85% gc time)\n",
      "next time unit is 0.78\n",
      " 28.946838 seconds (38.09 M allocations: 5.195 GiB, 1.92% gc time)\n",
      "next time unit is 0.79\n",
      " 29.083555 seconds (38.09 M allocations: 5.195 GiB, 2.26% gc time)\n",
      "next time unit is 0.8\n",
      " 29.456863 seconds (38.09 M allocations: 5.195 GiB, 1.92% gc time)\n",
      "next time unit is 0.81\n",
      " 30.903435 seconds (38.09 M allocations: 5.195 GiB, 2.40% gc time)\n",
      "next time unit is 0.82\n",
      " 31.050887 seconds (38.09 M allocations: 5.195 GiB, 1.92% gc time)\n",
      "next time unit is 0.83\n",
      " 31.359017 seconds (38.09 M allocations: 5.195 GiB, 2.35% gc time)\n",
      "next time unit is 0.84\n",
      " 31.623266 seconds (38.09 M allocations: 5.195 GiB, 1.86% gc time)\n",
      "next time unit is 0.85\n",
      " 32.341577 seconds (38.09 M allocations: 5.195 GiB, 2.27% gc time)\n",
      "next time unit is 0.86\n",
      " 31.744349 seconds (38.09 M allocations: 5.195 GiB, 1.97% gc time)\n",
      "next time unit is 0.87\n",
      " 31.526231 seconds (38.09 M allocations: 5.195 GiB, 1.92% gc time)\n",
      "next time unit is 0.88\n",
      " 31.892324 seconds (38.09 M allocations: 5.195 GiB, 2.23% gc time)\n",
      "next time unit is 0.89\n",
      " 31.803713 seconds (38.09 M allocations: 5.195 GiB, 1.92% gc time)\n",
      "next time unit is 0.9\n",
      " 32.477160 seconds (38.09 M allocations: 5.195 GiB, 2.32% gc time)\n",
      "next time unit is 0.91\n"
     ]
    },
    {
     "name": "stdout",
     "output_type": "stream",
     "text": [
      " 31.921287 seconds (38.09 M allocations: 5.195 GiB, 2.00% gc time)\n",
      "next time unit is 0.92\n",
      " 31.908206 seconds (38.09 M allocations: 5.195 GiB, 2.36% gc time)\n",
      "next time unit is 0.93\n",
      " 32.093392 seconds (38.09 M allocations: 5.195 GiB, 1.98% gc time)\n",
      "next time unit is 0.94\n",
      " 32.205571 seconds (38.09 M allocations: 5.195 GiB, 2.35% gc time)\n",
      "next time unit is 0.95\n",
      " 32.495001 seconds (38.09 M allocations: 5.195 GiB, 1.93% gc time)\n",
      "next time unit is 0.96\n",
      " 32.508416 seconds (38.09 M allocations: 5.195 GiB, 2.37% gc time)\n",
      "next time unit is 0.97\n",
      " 33.157551 seconds (38.09 M allocations: 5.195 GiB, 1.87% gc time)\n",
      "next time unit is 0.98\n",
      " 32.224776 seconds (38.09 M allocations: 5.195 GiB, 1.91% gc time)\n",
      "next time unit is 0.99\n",
      " 32.627133 seconds (38.09 M allocations: 5.195 GiB, 2.32% gc time)\n",
      "next time unit is 1.0\n",
      "2936.004637 seconds (3.82 G allocations: 520.203 GiB, 2.11% gc time)\n"
     ]
    }
   ],
   "source": [
    "@time for ti in T\n",
    "\n",
    "    @time global t, (w, f), (qJ, v, λ), bd = ifherk_coupled(t, w, qJ, v, bd,fsys)\n",
    "    \n",
    "    push!(thist,t-Δt)\n",
    "    push!(fx,sum(f.u)*Δx^2)\n",
    "    push!(fy,sum(f.v)*Δx^2)\n",
    "    push!(whist,deepcopy(w))\n",
    "    push!(bdhist,deepcopy(bd))\n",
    "    println(\"next time unit is $(round(t,digits=3))\")\n",
    "    \n",
    "    if mod(round(Int,ti/Δt),200) == 1  \n",
    "        @save filename*\".bson\" bd bdhist xg yg whist thist fx fy Δt w qJ v\n",
    "        println(\"data saved at time \", ti)\n",
    "    end\n",
    "end"
   ]
  },
  {
   "cell_type": "code",
   "execution_count": 21,
   "metadata": {},
   "outputs": [
    {
     "data": {
      "text/plain": [
       "6-element Array{Float64,1}:\n",
       "  0.0                  \n",
       "  0.0                  \n",
       "  0.0                  \n",
       " -1.825251079275806e-23\n",
       "  0.0                  \n",
       " -0.5                  "
      ]
     },
     "execution_count": 21,
     "metadata": {},
     "output_type": "execute_result"
    }
   ],
   "source": [
    "qJ"
   ]
  },
  {
   "cell_type": "code",
   "execution_count": 22,
   "metadata": {},
   "outputs": [
    {
     "data": {
      "text/plain": [
       "6-element Array{Float64,1}:\n",
       "  0.0                  \n",
       "  0.0                  \n",
       "  0.0                  \n",
       "  3.217144412214416e-23\n",
       "  0.0                  \n",
       " -1.0000000000000007   "
      ]
     },
     "execution_count": 22,
     "metadata": {},
     "output_type": "execute_result"
    }
   ],
   "source": [
    "v"
   ]
  },
  {
   "cell_type": "markdown",
   "metadata": {},
   "source": [
    "## <span style=\"color:blue\"> Plot </span>"
   ]
  },
  {
   "cell_type": "markdown",
   "metadata": {},
   "source": [
    "#### Set contour levels and fps"
   ]
  },
  {
   "cell_type": "code",
   "execution_count": 23,
   "metadata": {},
   "outputs": [],
   "source": [
    "contour_levels = range(minimum(w.data),stop=maximum(w.data),length=40)\n",
    "sample_freq = 5\n",
    "fps = 25;"
   ]
  },
  {
   "cell_type": "markdown",
   "metadata": {},
   "source": [
    "#### Get body verts history"
   ]
  },
  {
   "cell_type": "code",
   "execution_count": 24,
   "metadata": {},
   "outputs": [],
   "source": [
    "vshist = []\n",
    "for i = 1:length(bdhist)\n",
    "    push!(vshist, VertsHistory(bdhist[i].sys.nbody, bdhist[i].bs))\n",
    "end\n",
    "fb = [1:nverts;1];"
   ]
  },
  {
   "cell_type": "markdown",
   "metadata": {},
   "source": [
    "#### Plot first and last time field"
   ]
  },
  {
   "cell_type": "code",
   "execution_count": 25,
   "metadata": {},
   "outputs": [
    {
     "data": {
      "image/png": "[encoded data removed]"
     },
     "execution_count": 25,
     "metadata": {},
     "output_type": "execute_result"
    }
   ],
   "source": [
    "p = plot(xg,yg,whist[1],levels=contour_levels)\n",
    "for i = 1:bd.sys.nbody\n",
    "    plot!(p,vshist[1][i,fb,1], vshist[1][i,fb,plane[2]],linewidth=2,linecolor=\"black\", fill=true)\n",
    "end\n",
    "p"
   ]
  },
  {
   "cell_type": "code",
   "execution_count": 26,
   "metadata": {},
   "outputs": [
    {
     "data": {
      "image/png": "[encoded data removed]"
     },
     "execution_count": 26,
     "metadata": {},
     "output_type": "execute_result"
    }
   ],
   "source": [
    "p = plot(xg,yg,whist[end],levels=contour_levels)\n",
    "for i = 1:bd.sys.nbody\n",
    "    plot!(p,vshist[end][i,fb,1], vshist[end][i,fb,plane[2]],linewidth=2,linecolor=\"black\", fill=true)\n",
    "end\n",
    "# savefig(p,\"plate.eps\")\n",
    "p"
   ]
  },
  {
   "cell_type": "markdown",
   "metadata": {},
   "source": [
    "#### Body position begining and end"
   ]
  },
  {
   "cell_type": "code",
   "execution_count": 27,
   "metadata": {},
   "outputs": [
    {
     "data": {
      "image/png": "[encoded data removed]"
     },
     "execution_count": 27,
     "metadata": {},
     "output_type": "execute_result"
    }
   ],
   "source": [
    "pb = plot()\n",
    "for i = 1:sys.nbody\n",
    "    plot!(pb,vshist[1][i,fb,1], vshist[1][i,fb,plane[2]],linewidth=2,linecolor=\"grey\",label=\"begin\",fill=true)\n",
    "end\n",
    "for i = 1:sys.nbody\n",
    "    plot!(pb,vshist[end][i,fb,1], vshist[end][i,fb,plane[2]],linewidth=2,linecolor=\"red\",label=\"end\",fill=true)\n",
    "end\n",
    "plot!(pb,xlims=(xg[1],xg[end]), ylims=(yg[1],yg[end]),ratio=1)\n",
    "pb"
   ]
  },
  {
   "cell_type": "markdown",
   "metadata": {},
   "source": [
    "#### Make gif"
   ]
  },
  {
   "cell_type": "code",
   "execution_count": 28,
   "metadata": {},
   "outputs": [
    {
     "data": {
      "image/png": "[encoded data removed]",
      "text/plain": [
       "PyPlot.Figure(PyObject <matplotlib.figure.Figure object at 0x7f79863e5940>)"
      ]
     },
     "metadata": {},
     "output_type": "display_data"
    },
    {
     "name": "stderr",
     "output_type": "stream",
     "text": [
      "┌ Info: Saved animation to \n",
      "│   fn = /mnt/g/Research/FSI.jl/examples/Zero Mass Cylinder Fall With Initial Velocity - 1.gif\n",
      "└ @ Plots /home/fs/.julia/packages/Plots/oiirH/src/animation.jl:90\n"
     ]
    },
    {
     "data": {
      "text/html": [
       "<img src=\"Zero Mass Cylinder Fall With Initial Velocity - 1.gif\" />"
      ],
      "text/plain": [
       "Plots.AnimatedGif(\"/mnt/g/Research/FSI.jl/examples/Zero Mass Cylinder Fall With Initial Velocity - 1.gif\")"
      ]
     },
     "execution_count": 28,
     "metadata": {},
     "output_type": "execute_result"
    }
   ],
   "source": [
    "anim = @animate for j = 1:sample_freq:length(whist)\n",
    "    plot(xg,yg,whist[j],levels=contour_levels)\n",
    "    for i = 1:sys.nbody\n",
    "        plot!(vshist[j][i,fb,1], vshist[j][i,fb,plane[2]],linewidth=2,linecolor=\"black\",fill=true)\n",
    "    end\n",
    "end\n",
    "\n",
    "gif(anim, filename*\".gif\", fps = fps)"
   ]
  },
  {
   "cell_type": "markdown",
   "metadata": {},
   "source": [
    "#### Get cylinder position and velocity in time"
   ]
  },
  {
   "cell_type": "code",
   "execution_count": 29,
   "metadata": {},
   "outputs": [],
   "source": [
    "vhist = [0.0]\n",
    "phist = [0.0]\n",
    "\n",
    "for i in 1:length(bdhist)\n",
    "    push!(vhist,bdhist[i].bs[1].v[6])\n",
    "    push!(phist,bdhist[i].bs[1].x_i[3]-bdhist[1].bs[1].x_i[3])    \n",
    "end\n",
    "\n",
    "ahist = []\n",
    "for i in 1:length(vhist)-1\n",
    "    push!(ahist,(vhist[i+1]-vhist[i])/Δt)\n",
    "end"
   ]
  },
  {
   "cell_type": "markdown",
   "metadata": {},
   "source": [
    "#### Plot cylinder position, velocity, acceleration"
   ]
  },
  {
   "cell_type": "code",
   "execution_count": 30,
   "metadata": {},
   "outputs": [
    {
     "data": {
      "image/png": "[encoded data removed]"
     },
     "execution_count": 30,
     "metadata": {},
     "output_type": "execute_result"
    }
   ],
   "source": [
    "pp = plot([0.0;thist],phist,xlabel=\"\\$(g/D)^{0.5}t \\$\",ylabel=\"\\$y/D\\$\",legend=false,ylims=(-25,0))\n",
    "pv = plot([0.0;thist],vhist,xlabel=\"\\$(g/D)^{0.5}t \\$\",ylabel=\"\\$v/(gD)^{0.5}\\$\",legend=false,ylims=(-2,0))\n",
    "pa = plot([0.0;thist[1:end-1]],ahist,xlabel=\"\\$(g/D)^{0.5}t \\$\",ylabel=\"\\$a/g\\$\",legend=false,ylims=(-0.5,0))\n",
    "\n",
    "plot(pp,pv,pa)"
   ]
  },
  {
   "cell_type": "markdown",
   "metadata": {},
   "source": [
    "#### Lift and drag coefficients"
   ]
  },
  {
   "cell_type": "code",
   "execution_count": 31,
   "metadata": {
    "scrolled": false
   },
   "outputs": [
    {
     "data": {
      "image/png": "[encoded data removed]"
     },
     "execution_count": 31,
     "metadata": {},
     "output_type": "execute_result"
    }
   ],
   "source": [
    "px = plot(thist,2*fx,ylim=(-1,1),xlabel=\"Convective time\",ylabel=\"\\$C_D\\$\",legend=false)\n",
    "py = plot(thist,2*fy,ylim=(-20,20),xlabel=\"Convective time\",ylabel=\"\\$C_L\\$\",legend=false)\n",
    "plot(px,py)"
   ]
  },
  {
   "cell_type": "markdown",
   "metadata": {},
   "source": [
    "## <span style=\"color:blue\"> Save Data </span>"
   ]
  },
  {
   "cell_type": "markdown",
   "metadata": {},
   "source": [
    "#### Save all current data .bson file"
   ]
  },
  {
   "cell_type": "code",
   "execution_count": 32,
   "metadata": {},
   "outputs": [],
   "source": [
    "@save filename*\".bson\" w qJ v"
   ]
  },
  {
   "cell_type": "markdown",
   "metadata": {},
   "source": [
    "#### Use the following block to extract data"
   ]
  },
  {
   "cell_type": "code",
   "execution_count": 33,
   "metadata": {},
   "outputs": [],
   "source": [
    "# using Dyn3d\n",
    "# using ViscousFlow\n",
    "\n",
    "# @load filename*\".bson\" bd bdhist xg yg whist vshist thist fx fy Δt w qJ v t f\n",
    "# @get bd (bs,js,sys);"
   ]
  },
  {
   "cell_type": "code",
   "execution_count": null,
   "metadata": {},
   "outputs": [],
   "source": []
  }
 ],
 "metadata": {
  "@webio": {
   "lastCommId": null,
   "lastKernelId": null
  },
  "kernelspec": {
   "display_name": "Julia 1.0.4",
   "language": "julia",
   "name": "julia-1.0"
  },
  "language_info": {
   "file_extension": ".jl",
   "mimetype": "application/julia",
   "name": "julia",
   "version": "1.0.4"
  }
 },
 "nbformat": 4,
 "nbformat_minor": 2
}
