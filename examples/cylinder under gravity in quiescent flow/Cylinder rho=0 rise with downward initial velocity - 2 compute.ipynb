{
 "cells": [
  {
   "cell_type": "markdown",
   "metadata": {},
   "source": [
    "## This is a FSI problem of 2D cylinder falling in a quiescent flow\n",
    "\n",
    "Considering the fictitious fluid inside the cylinder due to immersed boundary method, also considering buoyancy.\n",
    "\n",
    "To keep consistency between *Dyn3d* and *ViscousFlow*, the cylinder is setup in z-x coordinates, so gravity should also be set in z direction"
   ]
  },
  {
   "cell_type": "code",
   "execution_count": 1,
   "metadata": {},
   "outputs": [],
   "source": [
    "using Revise\n",
    "using BSON: @save, @load\n",
    "\n",
    "using Plots\n",
    "pyplot()\n",
    "default(grid = false)"
   ]
  },
  {
   "cell_type": "code",
   "execution_count": 2,
   "metadata": {},
   "outputs": [],
   "source": [
    "using Pkg\n",
    "Pkg.activate(\"../..\")\n",
    "using FSInteraction"
   ]
  },
  {
   "cell_type": "code",
   "execution_count": 3,
   "metadata": {},
   "outputs": [],
   "source": [
    "filename = \"RisingCylinder_rho=0_2\";"
   ]
  },
  {
   "cell_type": "markdown",
   "metadata": {},
   "source": [
    "## Load initial condition from outside files"
   ]
  },
  {
   "cell_type": "code",
   "execution_count": 4,
   "metadata": {},
   "outputs": [],
   "source": [
    "using ViscousFlow\n",
    "@load \"RisingCylinder_rho=0_1.bson\" w qJ v"
   ]
  },
  {
   "cell_type": "code",
   "execution_count": 5,
   "metadata": {},
   "outputs": [
    {
     "data": {
      "text/plain": [
       "6-element Array{Float64,1}:\n",
       "  0.0                  \n",
       "  0.0                  \n",
       "  0.0                  \n",
       " -1.825251079275806e-23\n",
       "  0.0                  \n",
       " -0.5                  "
      ]
     },
     "execution_count": 5,
     "metadata": {},
     "output_type": "execute_result"
    }
   ],
   "source": [
    "qJ"
   ]
  },
  {
   "cell_type": "code",
   "execution_count": 6,
   "metadata": {},
   "outputs": [
    {
     "data": {
      "text/plain": [
       "6-element Array{Float64,1}:\n",
       "  0.0                  \n",
       "  0.0                  \n",
       "  0.0                  \n",
       "  3.217144412214416e-23\n",
       "  0.0                  \n",
       " -1.0000000000000007   "
      ]
     },
     "execution_count": 6,
     "metadata": {},
     "output_type": "execute_result"
    }
   ],
   "source": [
    "v"
   ]
  },
  {
   "cell_type": "markdown",
   "metadata": {},
   "source": [
    "## <span style=\"color:blue\"> Set up rigid body with Dyn3d.jl"
   ]
  },
  {
   "cell_type": "markdown",
   "metadata": {},
   "source": [
    "#### Include any joint-body setup script from Dyn3d"
   ]
  },
  {
   "cell_type": "code",
   "execution_count": 7,
   "metadata": {},
   "outputs": [
    {
     "data": {
      "text/plain": [
       " joint type = custom_prismatic_in_z\n",
       " joint position in parent body coord = [0.0, 0.0, 0.0, 2.0, 0.0, 2.7]\n",
       " joint position in child body coord = [0.0, 0.0, 0.0, 0.0, 0.0, 0.0]\n",
       " joint unconstrained dof = 6, under passive motion\n",
       " initial unconstrained dof position = [0.0]\n",
       " initial unconstrained dof velocity = [-1.0]\n"
      ]
     },
     "execution_count": 7,
     "metadata": {},
     "output_type": "execute_result"
    }
   ],
   "source": [
    "ndim = 2\n",
    "# numerical params\n",
    "tf = 1.0\n",
    "dt = 1e-3\n",
    "scheme = \"Liska\"\n",
    "st = 3\n",
    "tol = 1e-4\n",
    "num_params = NumParams(tf, dt, scheme, st, tol)\n",
    "# gravity\n",
    "gravity = [0., 0.0, -1.0]\n",
    "\n",
    "# set up system config info\n",
    "config_system = ConfigSystem(ndim, gravity, num_params)\n",
    "\n",
    "# set up bodys\n",
    "function circle(z₀::Vector{Float64}, r::Float64, n::Int)\n",
    "    # z₀ for circle center location, r for radius and n for # of points on circle\n",
    "    verts = zeros(n,2)\n",
    "    for i = 1:n\n",
    "        verts[i,:] = [r*cos(2π/(n)*(i-1)) + z₀[1], r*sin(2π/(n)*(i-1)) + z₀[2]]\n",
    "    end\n",
    "    return verts\n",
    "end\n",
    "\n",
    "nbody = 1\n",
    "nverts = 157\n",
    "verts = circle([0.,0.], 0.5, nverts)\n",
    "config_body = ConfigBody(nbody, nverts, verts, 0.0)\n",
    "config_bodys = fill(config_body, nbody)\n",
    "\n",
    "# set up joints\n",
    "njoint = nbody\n",
    "config_joints = Vector{ConfigJoint}(undef,njoint)\n",
    "\n",
    "# set the first passive joint with no stiff and damp\n",
    "dofₚ = Dof(6, \"passive\", 0., 0., Motions())\n",
    "config_joints[1] = ConfigJoint(njoint, \"custom_prismatic_in_z\",\n",
    "    [0.0,0.0,0.0,2.0,0.0,3.2+qJ[6]], zeros(Float64,6), 0, [dofₚ], [0.0],[v[6]])"
   ]
  },
  {
   "cell_type": "markdown",
   "metadata": {},
   "source": [
    "#### Build joint-body chain"
   ]
  },
  {
   "cell_type": "code",
   "execution_count": 8,
   "metadata": {},
   "outputs": [
    {
     "data": {
      "text/plain": []
     },
     "execution_count": 8,
     "metadata": {},
     "output_type": "execute_result"
    },
    {
     "name": "stdout",
     "output_type": "stream",
     "text": [
      "This is a 1 body-joint system, system is un-mounted from space"
     ]
    }
   ],
   "source": [
    "bs, js, bsys = BuildChain(config_bodys, config_joints, config_system)\n",
    "bd = BodyDyn(bs, js, bsys)"
   ]
  },
  {
   "cell_type": "markdown",
   "metadata": {},
   "source": [
    "#### Initialize rigid body system state to complete body-joint information"
   ]
  },
  {
   "cell_type": "code",
   "execution_count": 9,
   "metadata": {},
   "outputs": [],
   "source": [
    "bd, soln₀ = InitSystem!(bd;influid=true);"
   ]
  },
  {
   "cell_type": "markdown",
   "metadata": {},
   "source": [
    "#### Initialize u and λ container"
   ]
  },
  {
   "cell_type": "code",
   "execution_count": 10,
   "metadata": {},
   "outputs": [],
   "source": [
    "qJ = soln₀.qJ\n",
    "v = soln₀.v\n",
    "λ_dim = bd.sys.ncdof_HERK\n",
    "λ = zeros(Float64,λ_dim);"
   ]
  },
  {
   "cell_type": "markdown",
   "metadata": {},
   "source": [
    "#### Get body verts for plotting"
   ]
  },
  {
   "cell_type": "code",
   "execution_count": 11,
   "metadata": {},
   "outputs": [],
   "source": [
    "@get bd (bs, js, sys)\n",
    "bs, js, sys = UpdatePosition!(bs, js, sys, soln₀.qJ)\n",
    "vs₀ = VertsHistory(sys.nbody, bs);"
   ]
  },
  {
   "cell_type": "markdown",
   "metadata": {},
   "source": [
    "#### Plot body only"
   ]
  },
  {
   "cell_type": "code",
   "execution_count": 12,
   "metadata": {},
   "outputs": [
    {
     "data": {
      "image/png": "[encoded data removed]"
     },
     "execution_count": 12,
     "metadata": {},
     "output_type": "execute_result"
    }
   ],
   "source": [
    "p = plot()\n",
    "for i = 1:sys.nbody\n",
    "    plot!(p,vs₀[i,[1:nverts;1],1], vs₀[i,[1:nverts;1],3],linewidth=2,linecolor=\"black\",fill=true)\n",
    "end\n",
    "plot!(xlims=(0,4), ylims=(0,8),ratio=1)\n",
    "# plot!(xlims=(0,2), ylims=(0,3),ratio=1)"
   ]
  },
  {
   "cell_type": "markdown",
   "metadata": {},
   "source": [
    "## <span style=\"color:blue\"> Set up fluid with ViscousFlow.jl </span>"
   ]
  },
  {
   "cell_type": "markdown",
   "metadata": {},
   "source": [
    "#### Set the flow parameters"
   ]
  },
  {
   "cell_type": "code",
   "execution_count": 13,
   "metadata": {},
   "outputs": [
    {
     "data": {
      "text/plain": [
       "(0.0, 0.0)"
      ]
     },
     "execution_count": 13,
     "metadata": {},
     "output_type": "execute_result"
    }
   ],
   "source": [
    "Re = 200 # Reynolds number\n",
    "U = 0.0 # Free stream velocity\n",
    "U∞ = (0.0, U)"
   ]
  },
  {
   "cell_type": "markdown",
   "metadata": {},
   "source": [
    "#### Set the domain grid"
   ]
  },
  {
   "cell_type": "code",
   "execution_count": 14,
   "metadata": {},
   "outputs": [
    {
     "data": {
      "text/plain": [
       "(-0.01:0.02:4.01, -0.01:0.02:8.01)"
      ]
     },
     "execution_count": 14,
     "metadata": {},
     "output_type": "execute_result"
    }
   ],
   "source": [
    "nx = 202; ny = 402;\n",
    "Ly = 8.0;\n",
    "# nx = 102; ny = 152;\n",
    "# Ly = 3.0;\n",
    "Δx = Ly/(ny-2);\n",
    "\n",
    "Δt = min(0.5*Δx,0.5*Δx^2*Re)\n",
    "\n",
    "w₀ = Nodes(Dual,(nx,ny))\n",
    "xg, yg = coordinates(w₀,dx=Δx)"
   ]
  },
  {
   "cell_type": "markdown",
   "metadata": {},
   "source": [
    "#### Set up fluid initial conditions - already set at the beginning"
   ]
  },
  {
   "cell_type": "code",
   "execution_count": 15,
   "metadata": {},
   "outputs": [],
   "source": [
    "# w₀ .= 0.0;\n",
    "# w = deepcopy(w₀);"
   ]
  },
  {
   "cell_type": "markdown",
   "metadata": {},
   "source": [
    "## <span style=\"color:blue\"> Create fluid-body interface </span>"
   ]
  },
  {
   "cell_type": "markdown",
   "metadata": {},
   "source": [
    "#### Body in fluid plane"
   ]
  },
  {
   "cell_type": "code",
   "execution_count": 16,
   "metadata": {},
   "outputs": [],
   "source": [
    "plane = [1,3];"
   ]
  },
  {
   "cell_type": "markdown",
   "metadata": {},
   "source": [
    "#### Genrate body grid points and get linear velocity on them"
   ]
  },
  {
   "cell_type": "code",
   "execution_count": 17,
   "metadata": {
    "scrolled": true
   },
   "outputs": [],
   "source": [
    "bgs = GenerateBodyGrid(bd; np=DetermineNP(nbody, Δx));"
   ]
  },
  {
   "cell_type": "markdown",
   "metadata": {},
   "source": [
    "#### Get body points initial coordinates for fluids"
   ]
  },
  {
   "cell_type": "code",
   "execution_count": 18,
   "metadata": {},
   "outputs": [],
   "source": [
    "bgs = AcquireBodyGridKinematics(bd,bgs);"
   ]
  },
  {
   "cell_type": "markdown",
   "metadata": {},
   "source": [
    "#### Set up body grid points and force container in fluid"
   ]
  },
  {
   "cell_type": "code",
   "execution_count": 19,
   "metadata": {},
   "outputs": [],
   "source": [
    "X̃ = BodyGridToVectorData(bgs,\"coord\";plane=plane)\n",
    "f = VectorData(X̃);"
   ]
  },
  {
   "cell_type": "markdown",
   "metadata": {},
   "source": [
    "#### Create fluidstruct structure"
   ]
  },
  {
   "cell_type": "code",
   "execution_count": 20,
   "metadata": {},
   "outputs": [
    {
     "data": {
      "text/plain": [
       "0.01"
      ]
     },
     "execution_count": 20,
     "metadata": {},
     "output_type": "execute_result"
    }
   ],
   "source": [
    "tf = 800Δt\n",
    "T = Δt:Δt:tf\n",
    "fsys = FluidStruct((nx,ny),Re,Δx,Δt,U∞ = U∞, X̃ = X̃, rk=RK31)\n",
    "N = length(X̃)÷2\n",
    "Δt"
   ]
  },
  {
   "cell_type": "markdown",
   "metadata": {},
   "source": [
    "## <span style=\"color:blue\"> Create ifherk object </span>"
   ]
  },
  {
   "cell_type": "code",
   "execution_count": 21,
   "metadata": {
    "scrolled": false
   },
   "outputs": [
    {
     "name": "stdout",
     "output_type": "stream",
     "text": [
      " 30.146490 seconds (64.51 M allocations: 6.378 GiB, 3.44% gc time)\n"
     ]
    },
    {
     "data": {
      "text/plain": [
       "Stage-3+ IF-HERK integrator with\n",
       "   Time step size 0.01\n"
      ]
     },
     "execution_count": 21,
     "metadata": {},
     "output_type": "execute_result"
    }
   ],
   "source": [
    "@time ifherk_coupled = IFHERK_coupled(fsys.Δt,bd,bgs,(w₀,qJ,v,f,λ),\n",
    "                ((t,u) -> Systems.plan_intfact(t,u,fsys), B₁ᵀ, B₂),\n",
    "                (M, G₁ᵀ, G₂, UpP, UpV),\n",
    "                ((bd,bgs,f) -> T₁ᵀ(bd,bgs,f,fsys.Δx;plane=plane),\n",
    "                 (bd,bgs,u) -> T₂(bd,bgs,u;plane=plane),\n",
    "                 (bd,bgs) -> getX̃(bd,bgs;plane=plane)),\n",
    "                ((w,t) -> FSInteraction.r₁(w,t,fsys), bd -> F(bd,config_body.ρ), w -> U_inf(w,fsys), gti),\n",
    "                fsys, tol=1e-3, rk=TimeMarching.RK31, bodydim=2, ρb=config_body.ρ)"
   ]
  },
  {
   "cell_type": "code",
   "execution_count": 22,
   "metadata": {},
   "outputs": [],
   "source": [
    "fx = Float64[]\n",
    "fy = Float64[]\n",
    "t = 0.0\n",
    "thist = []\n",
    "whist = []\n",
    "bdhist = BodyDyn[];"
   ]
  },
  {
   "cell_type": "markdown",
   "metadata": {},
   "source": [
    "## <span style=\"color:blue\"> TimeMarching! </span>"
   ]
  },
  {
   "cell_type": "code",
   "execution_count": null,
   "metadata": {},
   "outputs": [],
   "source": [
    "@time for ti in T\n",
    "\n",
    "    @time global t, (w, f), (qJ, v, λ), bd = ifherk_coupled(t, w, qJ, v, bd,fsys)\n",
    "    \n",
    "    push!(thist,t-Δt)\n",
    "    push!(fx,sum(f.u)*Δx^2)\n",
    "    push!(fy,sum(f.v)*Δx^2)\n",
    "    push!(whist,deepcopy(w))\n",
    "    push!(bdhist,deepcopy(bd))\n",
    "    println(\"next time unit is $(round(t,digits=3))\")\n",
    "\n",
    "end"
   ]
  },
  {
   "cell_type": "markdown",
   "metadata": {},
   "source": [
    "## <span style=\"color:blue\"> Plot </span>"
   ]
  },
  {
   "cell_type": "markdown",
   "metadata": {},
   "source": [
    "#### Set contour levels and fps"
   ]
  },
  {
   "cell_type": "code",
   "execution_count": 44,
   "metadata": {},
   "outputs": [],
   "source": [
    "contour_levels = range(0.5*minimum(w.data),stop=0.5*maximum(w.data),length=40)\n",
    "# contour_levels = range(-0.5,stop=0.5,length=40)\n",
    "sample_freq = 5\n",
    "fps = 25;"
   ]
  },
  {
   "cell_type": "markdown",
   "metadata": {},
   "source": [
    "#### Get body verts history"
   ]
  },
  {
   "cell_type": "code",
   "execution_count": 46,
   "metadata": {},
   "outputs": [],
   "source": [
    "vshist = []\n",
    "for i = 1:length(bdhist)\n",
    "    push!(vshist, VertsHistory(bdhist[i].sys.nbody, bdhist[i].bs))\n",
    "end\n",
    "fb = [1:nverts;1];"
   ]
  },
  {
   "cell_type": "markdown",
   "metadata": {},
   "source": [
    "#### Plot first and last time field"
   ]
  },
  {
   "cell_type": "code",
   "execution_count": 47,
   "metadata": {},
   "outputs": [
    {
     "data": {
      "image/png": "[encoded data removed]"
     },
     "execution_count": 47,
     "metadata": {},
     "output_type": "execute_result"
    }
   ],
   "source": [
    "p = plot(xg,yg,whist[1],levels=contour_levels,color=:RdBu_10)\n",
    "for i = 1:bd.sys.nbody\n",
    "    plot!(p,vshist[1][i,fb,1], vshist[1][i,fb,plane[2]],linewidth=2,linecolor=\"black\", fill=true)\n",
    "end\n",
    "p"
   ]
  },
  {
   "cell_type": "code",
   "execution_count": 48,
   "metadata": {},
   "outputs": [
    {
     "data": {
      "image/png": "[encoded data removed]"
     },
     "execution_count": 48,
     "metadata": {},
     "output_type": "execute_result"
    }
   ],
   "source": [
    "p = plot(xg,yg,whist[end],levels=contour_levels,color=:RdBu_10)\n",
    "for i = 1:bd.sys.nbody\n",
    "    plot!(p,vshist[end][i,fb,1], vshist[end][i,fb,plane[2]],linewidth=2,linecolor=\"black\", fill=true)\n",
    "end\n",
    "# savefig(p,\"plate.eps\")\n",
    "p"
   ]
  },
  {
   "cell_type": "markdown",
   "metadata": {},
   "source": [
    "#### Body position begining and end"
   ]
  },
  {
   "cell_type": "code",
   "execution_count": 31,
   "metadata": {},
   "outputs": [
    {
     "data": {
      "image/png": "[encoded data removed]"
     },
     "execution_count": 31,
     "metadata": {},
     "output_type": "execute_result"
    }
   ],
   "source": [
    "pb = plot()\n",
    "for i = 1:sys.nbody\n",
    "    plot!(pb,vshist[1][i,fb,1], vshist[1][i,fb,plane[2]],linewidth=2,linecolor=\"grey\",label=\"begin\",fill=true)\n",
    "end\n",
    "for i = 1:sys.nbody\n",
    "    plot!(pb,vshist[end][i,fb,1], vshist[end][i,fb,plane[2]],linewidth=2,linecolor=\"red\",label=\"end\",fill=true)\n",
    "end\n",
    "plot!(pb,xlims=(xg[1],xg[end]), ylims=(yg[1],yg[end]),ratio=1)\n",
    "pb"
   ]
  },
  {
   "cell_type": "markdown",
   "metadata": {},
   "source": [
    "#### Make gif"
   ]
  },
  {
   "cell_type": "code",
   "execution_count": 49,
   "metadata": {},
   "outputs": [
    {
     "data": {
      "image/png": "[encoded data removed]",
      "text/plain": [
       "PyPlot.Figure(PyObject <matplotlib.figure.Figure object at 0x7ffda16b11d0>)"
      ]
     },
     "metadata": {},
     "output_type": "display_data"
    },
    {
     "name": "stderr",
     "output_type": "stream",
     "text": [
      "┌ Info: Saved animation to \n",
      "│   fn = /mnt/g/Research/FSI.jl/examples/Zero Mass Cylinder Fall With Initial Velocity - 2.gif\n",
      "└ @ Plots /home/fs/.julia/packages/Plots/oiirH/src/animation.jl:90\n"
     ]
    },
    {
     "data": {
      "text/html": [
       "<img src=\"Zero Mass Cylinder Fall With Initial Velocity - 2.gif\" />"
      ],
      "text/plain": [
       "Plots.AnimatedGif(\"/mnt/g/Research/FSI.jl/examples/Zero Mass Cylinder Fall With Initial Velocity - 2.gif\")"
      ]
     },
     "execution_count": 49,
     "metadata": {},
     "output_type": "execute_result"
    }
   ],
   "source": [
    "anim = @animate for j = 1:sample_freq:length(whist)\n",
    "    plot(xg,yg,whist[j],levels=contour_levels,color=:RdBu_10)\n",
    "    for i = 1:sys.nbody\n",
    "        plot!(vshist[j][i,fb,1], vshist[j][i,fb,plane[2]],linewidth=2,linecolor=\"black\",fill=true)\n",
    "    end\n",
    "end\n",
    "\n",
    "gif(anim, filename*\".gif\", fps = fps)"
   ]
  },
  {
   "cell_type": "markdown",
   "metadata": {},
   "source": [
    "#### Get cylinder position and velocity in time"
   ]
  },
  {
   "cell_type": "code",
   "execution_count": 33,
   "metadata": {},
   "outputs": [],
   "source": [
    "vhist = [0.0]\n",
    "phist = [0.0]\n",
    "\n",
    "for i in 1:length(bdhist)\n",
    "    push!(vhist,bdhist[i].bs[1].v[6])\n",
    "    push!(phist,bdhist[i].bs[1].x_i[3]-bdhist[1].bs[1].x_i[3])    \n",
    "end\n",
    "\n",
    "ahist = []\n",
    "for i in 1:length(vhist)-1\n",
    "    push!(ahist,(vhist[i+1]-vhist[i])/Δt)\n",
    "end"
   ]
  },
  {
   "cell_type": "markdown",
   "metadata": {},
   "source": [
    "#### Plot cylinder position, velocity, acceleration"
   ]
  },
  {
   "cell_type": "code",
   "execution_count": 41,
   "metadata": {},
   "outputs": [
    {
     "data": {
      "image/png": "[encoded data removed]"
     },
     "execution_count": 41,
     "metadata": {},
     "output_type": "execute_result"
    }
   ],
   "source": [
    "pp = plot([0.0;thist],phist,xlabel=\"\\$(g/D)^{0.5}t \\$\",ylabel=\"\\$y/D\\$\",legend=false,xlims=(0,12),ylims=(-2,5))\n",
    "pv = plot([0.0;thist],vhist,xlabel=\"\\$(g/D)^{0.5}t \\$\",ylabel=\"\\$v/(gD)^{0.5}\\$\",legend=false,xlims=(0,12),ylims=(-1.2,2))\n",
    "pa = plot([0.0;thist[1:end-1]],ahist,xlabel=\"\\$(g/D)^{0.5}t \\$\",ylabel=\"\\$a/g\\$\",legend=false,xlims=(0,12),ylims=(0,1))\n",
    "\n",
    "plot(pp,pv,pa)"
   ]
  },
  {
   "cell_type": "code",
   "execution_count": 35,
   "metadata": {},
   "outputs": [
    {
     "data": {
      "text/plain": [
       "3-element Array{Any,1}:\n",
       " -99.17827170426925  \n",
       "   0.8080872945431805\n",
       "   0.7968246137213364"
      ]
     },
     "execution_count": 35,
     "metadata": {},
     "output_type": "execute_result"
    }
   ],
   "source": [
    "ahist[1:3]"
   ]
  },
  {
   "cell_type": "markdown",
   "metadata": {},
   "source": [
    "#### Lift and drag coefficients"
   ]
  },
  {
   "cell_type": "code",
   "execution_count": 51,
   "metadata": {},
   "outputs": [
    {
     "data": {
      "image/png": "[encoded data removed]"
     },
     "execution_count": 51,
     "metadata": {},
     "output_type": "execute_result"
    }
   ],
   "source": [
    "px = plot(thist,2*fx,ylim=(-1,1),xlabel=\"Convective time\",ylabel=\"\\$C_D\\$\",legend=false)\n",
    "py = plot(thist,2*fy,ylim=(-2,2),xlabel=\"Convective time\",ylabel=\"\\$C_L\\$\",legend=false)\n",
    "plot(px,py)"
   ]
  },
  {
   "cell_type": "markdown",
   "metadata": {},
   "source": [
    "## <span style=\"color:blue\"> Save Data </span>"
   ]
  },
  {
   "cell_type": "markdown",
   "metadata": {},
   "source": [
    "#### Save all current data .bson file"
   ]
  },
  {
   "cell_type": "code",
   "execution_count": 37,
   "metadata": {},
   "outputs": [],
   "source": [
    "@save filename*\".bson\" bd bdhist xg yg whist vshist thist fx fy Δt w qJ v t f"
   ]
  },
  {
   "cell_type": "markdown",
   "metadata": {},
   "source": [
    "#### Use the following block to extract data"
   ]
  },
  {
   "cell_type": "code",
   "execution_count": 38,
   "metadata": {},
   "outputs": [],
   "source": [
    "# using Dyn3d\n",
    "# using ViscousFlow\n",
    "\n",
    "# @load filename*\".bson\" bd bdhist xg yg whist vshist thist fx fy Δt w qJ v t f\n",
    "# @get bd (bs,js,sys);"
   ]
  },
  {
   "cell_type": "code",
   "execution_count": null,
   "metadata": {},
   "outputs": [],
   "source": []
  }
 ],
 "metadata": {
  "@webio": {
   "lastCommId": null,
   "lastKernelId": null
  },
  "kernelspec": {
   "display_name": "Julia 1.3.1",
   "language": "julia",
   "name": "julia-1.3"
  },
  "language_info": {
   "file_extension": ".jl",
   "mimetype": "application/julia",
   "name": "julia",
   "version": "1.3.1"
  }
 },
 "nbformat": 4,
 "nbformat_minor": 2
}
