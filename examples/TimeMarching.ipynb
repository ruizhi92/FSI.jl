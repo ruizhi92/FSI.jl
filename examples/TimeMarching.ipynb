{
 "cells": [
  {
   "cell_type": "markdown",
   "metadata": {},
   "source": [
    "# FSI TimeMarching test"
   ]
  },
  {
   "cell_type": "code",
   "execution_count": 4,
   "metadata": {},
   "outputs": [
    {
     "name": "stderr",
     "output_type": "stream",
     "text": [
      "WARNING: replacing module Dyn3d\n",
      "WARNING: replacing module Whirl\n"
     ]
    }
   ],
   "source": [
    "include(\"../src/FSI.jl\")\n",
    "using FSI"
   ]
  },
  {
   "cell_type": "code",
   "execution_count": 2,
   "metadata": {},
   "outputs": [],
   "source": [
    "using Revise\n",
    "using Plots\n",
    "pyplot()\n",
    "clibrary(:colorbrewer)\n",
    "default(grid = false)"
   ]
  },
  {
   "cell_type": "code",
   "execution_count": 3,
   "metadata": {},
   "outputs": [],
   "source": [
    "filename = \"FSI\";"
   ]
  },
  {
   "cell_type": "markdown",
   "metadata": {},
   "source": [
    "## <span style=\"color:blue\"> Set up rigid body with Dyn3d"
   ]
  },
  {
   "cell_type": "markdown",
   "metadata": {},
   "source": [
    "#### Include any joint-body setup script from Dyn3d"
   ]
  },
  {
   "cell_type": "code",
   "execution_count": 111,
   "metadata": {},
   "outputs": [
    {
     "data": {
      "text/plain": [
       " joint type = custom\n",
       " joint position in parent body coord = [0.0, 0.0, 0.0, 0.5, 0.5, 0.0]\n",
       " joint position in child body coord = [0.0, 0.0, 0.0, 0.0, 0.0, 0.0]\n",
       " joint unconstrained dof = 5, under passive motion\n",
       " initial unconstrained dof position = [0.0]\n"
      ]
     },
     "execution_count": 111,
     "metadata": {},
     "output_type": "execute_result"
    }
   ],
   "source": [
    "# include(Pkg.dir(\"Dyn3d\")*\"/src/config_files/2dFall.jl\")\n",
    "\n",
    "# problem dimension\n",
    "ndim = 2\n",
    "# numerical params\n",
    "tf = 6\n",
    "dt = 1e-3\n",
    "scheme = \"Liska\"\n",
    "st = 3\n",
    "tol = 1e-4\n",
    "num_params = NumParams(tf, dt, scheme, st, tol)\n",
    "# gravity\n",
    "gravity = [0., -1.0, 0.]\n",
    "\n",
    "# set up system config info\n",
    "config_system = ConfigSystem(ndim, gravity, num_params)\n",
    "\n",
    "# set up bodys\n",
    "nbody = 1\n",
    "config_body = ConfigBody(nbody, 4,\n",
    "   [0. 0.; 1. 0.; 1. 1./nbody; 0. 1./nbody], 1.0)\n",
    "config_bodys = fill(config_body, nbody)\n",
    "\n",
    "# set up joints\n",
    "njoint = nbody\n",
    "\n",
    "config_joints = Vector{ConfigJoint}(njoint)\n",
    "\n",
    "# set the first passive joint with no stiff and damp\n",
    "dof_1 = Dof(5, \"passive\", 0., 0., Motions())\n",
    "\n",
    "config_joints[1] = ConfigJoint(njoint, \"custom\",\n",
    "    [0.,0.,0.,0.5,0.5,0.], zeros(Float64,6), 0, [dof_1], [0.])"
   ]
  },
  {
   "cell_type": "markdown",
   "metadata": {},
   "source": [
    "#### Build joint-body chain"
   ]
  },
  {
   "cell_type": "code",
   "execution_count": 112,
   "metadata": {},
   "outputs": [
    {
     "data": {
      "text/plain": []
     },
     "execution_count": 112,
     "metadata": {},
     "output_type": "execute_result"
    }
   ],
   "source": [
    "bs, js, bsys = BuildChain(config_bodys, config_joints, config_system)\n",
    "bd = BodyDyn(bs, js, bsys)"
   ]
  },
  {
   "cell_type": "markdown",
   "metadata": {},
   "source": [
    "#### Initialize rigid body system state to complete body-joint information"
   ]
  },
  {
   "cell_type": "code",
   "execution_count": 113,
   "metadata": {},
   "outputs": [
    {
     "name": "stdout",
     "output_type": "stream",
     "text": [
      "This is a 1 body-joint system, system is fixed in space"
     ]
    },
    {
     "data": {
      "text/plain": [
       "(, Dyn3d.ConstructSystem.Soln{Float64}(0.0, 0.001, [0.0, 0.0, 0.0, 0.0, 0.0, 0.0], [0.0, 0.0, 0.0, 0.0, 0.0, 0.0], Float64[], Float64[]))"
      ]
     },
     "execution_count": 113,
     "metadata": {},
     "output_type": "execute_result"
    }
   ],
   "source": [
    "bd, soln₀ = InitSystem!(bd)"
   ]
  },
  {
   "cell_type": "markdown",
   "metadata": {},
   "source": [
    "#### Initialize u and λ container"
   ]
  },
  {
   "cell_type": "code",
   "execution_count": 114,
   "metadata": {},
   "outputs": [
    {
     "name": "stdout",
     "output_type": "stream",
     "text": [
      "This is a 1 body-joint system, system is fixed in space"
     ]
    }
   ],
   "source": [
    "qJ = soln₀.qJ\n",
    "v = soln₀.v\n",
    "λ_dim = bd.sys.ncdof_HERK\n",
    "λ = zeros(Float64,λ_dim);"
   ]
  },
  {
   "cell_type": "markdown",
   "metadata": {},
   "source": [
    "#### Get body verts for plotting"
   ]
  },
  {
   "cell_type": "code",
   "execution_count": 115,
   "metadata": {},
   "outputs": [],
   "source": [
    "@get bd (bs, js, sys)\n",
    "bs, js, sys = UpdatePosition!(bs, js, sys, soln₀.qJ)\n",
    "vs₀ = VertsHistory(sys.nbody, bs);"
   ]
  },
  {
   "cell_type": "markdown",
   "metadata": {},
   "source": [
    "#### Plot body only"
   ]
  },
  {
   "cell_type": "code",
   "execution_count": 116,
   "metadata": {},
   "outputs": [
    {
     "data": {
      "image/png": "[encoded data removed]"
     },
     "execution_count": 116,
     "metadata": {},
     "output_type": "execute_result"
    }
   ],
   "source": [
    "p = plot()\n",
    "for i = 1:sys.nbody\n",
    "    plot!(p,vs₀[i,2:3,1], vs₀[i,2:3,2],linewidth=2)\n",
    "end\n",
    "plot!(xlims=(0,2), ylims=(0,3))"
   ]
  },
  {
   "cell_type": "markdown",
   "metadata": {},
   "source": [
    "## <span style=\"color:blue\"> Set up fluid with Whirl </span>"
   ]
  },
  {
   "cell_type": "markdown",
   "metadata": {},
   "source": [
    "#### Set the flow parameters"
   ]
  },
  {
   "cell_type": "code",
   "execution_count": 117,
   "metadata": {},
   "outputs": [
    {
     "data": {
      "text/plain": [
       "(0.0, 1.0)"
      ]
     },
     "execution_count": 117,
     "metadata": {},
     "output_type": "execute_result"
    }
   ],
   "source": [
    "Re = 200 # Reynolds number\n",
    "U = 1.0 # Free stream velocity\n",
    "U∞ = (0.0, U)\n",
    "U∞ = (U, 0.0)"
   ]
  },
  {
   "cell_type": "markdown",
   "metadata": {},
   "source": [
    "#### Set the domain grid"
   ]
  },
  {
   "cell_type": "code",
   "execution_count": 118,
   "metadata": {},
   "outputs": [
    {
     "data": {
      "text/plain": [
       "(-0.01:0.02:2.0100000000000002, -0.01:0.02:3.0100000000000002)"
      ]
     },
     "execution_count": 118,
     "metadata": {},
     "output_type": "execute_result"
    }
   ],
   "source": [
    "nx = 102; ny = 152;\n",
    "Ly = 3.0;\n",
    "Δx = Ly/(ny-2);\n",
    "Δt = min(0.5*Δx,0.5*Δx^2*Re)\n",
    "w₀ = Nodes(Dual,(nx,ny))\n",
    "xg, yg = coordinates(w₀,dx=Δx)"
   ]
  },
  {
   "cell_type": "markdown",
   "metadata": {},
   "source": [
    "#### Set up fluid initial conditions"
   ]
  },
  {
   "cell_type": "code",
   "execution_count": 119,
   "metadata": {},
   "outputs": [],
   "source": [
    "w₀ .= 0.0;\n",
    "w = deepcopy(w₀);"
   ]
  },
  {
   "cell_type": "markdown",
   "metadata": {},
   "source": [
    "## <span style=\"color:blue\"> Create fluid-body interface </span>"
   ]
  },
  {
   "cell_type": "markdown",
   "metadata": {},
   "source": [
    "#### Genrate body grid points and get linear velocity on them"
   ]
  },
  {
   "cell_type": "code",
   "execution_count": 120,
   "metadata": {
    "scrolled": true
   },
   "outputs": [],
   "source": [
    "# bgs short for body grid system\n",
    "bgs = GenerateBodyGrid(bd; np=DetermineNP(nbody, Δx))\n",
    "bgs = CutOut2d(bd,bgs);"
   ]
  },
  {
   "cell_type": "markdown",
   "metadata": {},
   "source": [
    "#### Get body points initial coordinates for fluids"
   ]
  },
  {
   "cell_type": "code",
   "execution_count": 121,
   "metadata": {},
   "outputs": [],
   "source": [
    "bgs = AcquireBodyGridKinematics(bd,bgs)\n",
    "coord_init = hcat(bgs[1].q_i...)'[:,[1,2]]\n",
    "for i = 2:length(bgs)\n",
    "    coord_init = [coord_init[1:end-1,:]; hcat(bgs[i].q_i...)'[:,[1,2]]]\n",
    "end"
   ]
  },
  {
   "cell_type": "markdown",
   "metadata": {},
   "source": [
    "#### Set up body grid points and force container in fluid"
   ]
  },
  {
   "cell_type": "code",
   "execution_count": 122,
   "metadata": {},
   "outputs": [],
   "source": [
    "X̃ = VectorData(coord_init)\n",
    "f = VectorData(X̃);"
   ]
  },
  {
   "cell_type": "markdown",
   "metadata": {},
   "source": [
    "#### Create fluidstruct structure"
   ]
  },
  {
   "cell_type": "code",
   "execution_count": 123,
   "metadata": {},
   "outputs": [
    {
     "data": {
      "text/plain": [
       "51"
      ]
     },
     "execution_count": 123,
     "metadata": {},
     "output_type": "execute_result"
    }
   ],
   "source": [
    "tf = 200Δt\n",
    "T = Δt:Δt:tf\n",
    "fsys = FluidStruct((nx,ny),Re,Δx,Δt,U∞ = U∞, X̃ = X̃, rk=RK31)\n",
    "N = length(X̃)÷2"
   ]
  },
  {
   "cell_type": "markdown",
   "metadata": {},
   "source": [
    "## <span style=\"color:blue\"> Create ifherk object </span>"
   ]
  },
  {
   "cell_type": "code",
   "execution_count": 124,
   "metadata": {},
   "outputs": [
    {
     "name": "stdout",
     "output_type": "stream",
     "text": [
      " 13.320535 seconds (88.70 M allocations: 16.175 GiB, 23.19% gc time)\n"
     ]
    },
    {
     "data": {
      "text/plain": [
       "Stage-3+ IF-HERK integrator with\n",
       "   Time step size 0.01\n"
      ]
     },
     "execution_count": 124,
     "metadata": {},
     "output_type": "execute_result"
    }
   ],
   "source": [
    "@time ifherk_coupled = FSI.IFHERK_coupled(fsys.Δt,bd,bgs,(w₀,qJ,v,f,λ),\n",
    "                ((t,u) -> Systems.plan_intfact(t,u,fsys), B₁ᵀ, B₂),\n",
    "                (M⁻¹, G₁ᵀ, G₂, UpP, UpV),\n",
    "                ((bd,bgs,f) -> T₁ᵀ(bd,bgs,f,fsys.Δx), T₂, getX̃),\n",
    "                ((w,t) -> r₁(w,t,fsys), F, w -> U_inf(w,fsys), gti),\n",
    "                fsys, tol=1e-3,rk=Whirl.TimeMarching.RK31)"
   ]
  },
  {
   "cell_type": "code",
   "execution_count": 125,
   "metadata": {},
   "outputs": [],
   "source": [
    "fx = Float64[]\n",
    "fy = Float64[]\n",
    "thist = []\n",
    "whist = []\n",
    "bdhist = BodyDyn[];"
   ]
  },
  {
   "cell_type": "markdown",
   "metadata": {},
   "source": [
    "## <span style=\"color:blue\"> TimeMarching! </span>"
   ]
  },
  {
   "cell_type": "code",
   "execution_count": 126,
   "metadata": {
    "scrolled": true
   },
   "outputs": [
    {
     "name": "stdout",
     "output_type": "stream",
     "text": [
      " 12.466644 seconds (88.81 M allocations: 16.174 GiB, 22.37% gc time)\n",
      "next time unit is 0.02\n",
      " 11.483828 seconds (88.55 M allocations: 16.164 GiB, 24.12% gc time)\n",
      "next time unit is 0.03\n",
      " 11.576572 seconds (88.55 M allocations: 16.164 GiB, 24.03% gc time)\n",
      "next time unit is 0.04\n",
      " 11.600974 seconds (88.55 M allocations: 16.164 GiB, 24.88% gc time)\n",
      "next time unit is 0.05\n",
      " 11.419092 seconds (88.55 M allocations: 16.164 GiB, 23.88% gc time)\n",
      "next time unit is 0.060000000000000005\n",
      " 11.821202 seconds (88.55 M allocations: 16.164 GiB, 23.87% gc time)\n",
      "next time unit is 0.06999999999999999\n",
      " 12.425989 seconds (88.55 M allocations: 16.164 GiB, 23.13% gc time)\n",
      "next time unit is 0.08\n",
      " 11.588708 seconds (88.55 M allocations: 16.164 GiB, 24.03% gc time)\n",
      "next time unit is 0.09\n",
      " 11.209719 seconds (88.55 M allocations: 16.164 GiB, 22.80% gc time)\n",
      "next time unit is 0.09999999999999999\n",
      " 11.180626 seconds (88.55 M allocations: 16.164 GiB, 22.74% gc time)\n",
      "next time unit is 0.11\n",
      " 11.444463 seconds (88.55 M allocations: 16.164 GiB, 23.87% gc time)\n",
      "next time unit is 0.12\n",
      " 11.207375 seconds (88.55 M allocations: 16.164 GiB, 22.72% gc time)\n",
      "next time unit is 0.13\n",
      " 11.208427 seconds (88.55 M allocations: 16.164 GiB, 22.63% gc time)\n",
      "next time unit is 0.14\n",
      " 11.187389 seconds (88.55 M allocations: 16.164 GiB, 22.73% gc time)\n",
      "next time unit is 0.15000000000000002\n",
      " 11.361493 seconds (88.55 M allocations: 16.164 GiB, 23.75% gc time)\n",
      "next time unit is 0.16\n",
      " 11.150305 seconds (88.55 M allocations: 16.164 GiB, 22.78% gc time)\n",
      "next time unit is 0.17\n",
      " 11.188213 seconds (88.55 M allocations: 16.164 GiB, 22.80% gc time)\n",
      "next time unit is 0.18000000000000002\n",
      " 11.221298 seconds (88.55 M allocations: 16.164 GiB, 22.80% gc time)\n",
      "next time unit is 0.19\n",
      " 11.324879 seconds (88.55 M allocations: 16.164 GiB, 23.71% gc time)\n",
      "next time unit is 0.2\n",
      " 11.150588 seconds (88.55 M allocations: 16.164 GiB, 22.56% gc time)\n",
      "next time unit is 0.21000000000000002\n",
      " 11.181040 seconds (88.55 M allocations: 16.164 GiB, 22.65% gc time)\n",
      "next time unit is 0.22\n",
      " 11.335493 seconds (88.55 M allocations: 16.164 GiB, 22.46% gc time)\n",
      "next time unit is 0.23\n",
      " 11.300502 seconds (88.55 M allocations: 16.164 GiB, 23.70% gc time)\n",
      "next time unit is 0.24000000000000002\n",
      " 11.214077 seconds (88.55 M allocations: 16.164 GiB, 22.83% gc time)\n",
      "next time unit is 0.25\n",
      " 11.213678 seconds (88.55 M allocations: 16.164 GiB, 22.87% gc time)\n",
      "next time unit is 0.26\n",
      " 11.205420 seconds (88.55 M allocations: 16.164 GiB, 22.84% gc time)\n",
      "next time unit is 0.27\n",
      " 11.297523 seconds (88.55 M allocations: 16.164 GiB, 23.69% gc time)\n",
      "next time unit is 0.28\n",
      " 11.146723 seconds (88.55 M allocations: 16.164 GiB, 22.72% gc time)\n",
      "next time unit is 0.29000000000000004\n",
      " 11.254179 seconds (88.55 M allocations: 16.164 GiB, 22.68% gc time)\n",
      "next time unit is 0.3\n",
      " 11.398802 seconds (88.55 M allocations: 16.164 GiB, 23.87% gc time)\n",
      "next time unit is 0.31\n",
      " 11.101723 seconds (88.55 M allocations: 16.164 GiB, 22.44% gc time)\n",
      "next time unit is 0.32\n",
      " 11.198087 seconds (88.55 M allocations: 16.164 GiB, 22.40% gc time)\n",
      "next time unit is 0.33\n",
      " 11.274348 seconds (88.55 M allocations: 16.164 GiB, 22.80% gc time)\n",
      "next time unit is 0.34\n",
      " 11.388180 seconds (88.55 M allocations: 16.164 GiB, 23.78% gc time)\n",
      "next time unit is 0.35000000000000003\n",
      " 11.254172 seconds (88.55 M allocations: 16.164 GiB, 22.57% gc time)\n",
      "next time unit is 0.36\n",
      " 11.261931 seconds (88.55 M allocations: 16.164 GiB, 22.63% gc time)\n",
      "next time unit is 0.37\n",
      " 11.257182 seconds (88.55 M allocations: 16.164 GiB, 22.66% gc time)\n",
      "next time unit is 0.38\n",
      " 11.169927 seconds (88.55 M allocations: 16.164 GiB, 23.50% gc time)\n",
      "next time unit is 0.39\n",
      " 11.040987 seconds (88.55 M allocations: 16.164 GiB, 22.49% gc time)\n",
      "next time unit is 0.4\n",
      " 11.171726 seconds (88.55 M allocations: 16.164 GiB, 22.80% gc time)\n",
      "next time unit is 0.41000000000000003\n",
      " 11.223823 seconds (88.55 M allocations: 16.164 GiB, 22.95% gc time)\n",
      "next time unit is 0.42\n",
      " 11.339585 seconds (88.55 M allocations: 16.164 GiB, 23.86% gc time)\n",
      "next time unit is 0.43\n",
      " 11.268291 seconds (88.55 M allocations: 16.164 GiB, 22.84% gc time)\n",
      "next time unit is 0.44\n",
      " 11.206697 seconds (88.55 M allocations: 16.164 GiB, 22.80% gc time)\n",
      "next time unit is 0.45\n",
      " 11.227567 seconds (88.55 M allocations: 16.164 GiB, 22.92% gc time)\n",
      "next time unit is 0.46\n",
      " 11.332605 seconds (88.55 M allocations: 16.164 GiB, 23.86% gc time)\n",
      "next time unit is 0.47000000000000003\n",
      " 11.205682 seconds (88.55 M allocations: 16.164 GiB, 22.78% gc time)\n",
      "next time unit is 0.48\n",
      " 11.248477 seconds (88.55 M allocations: 16.164 GiB, 22.91% gc time)\n",
      "next time unit is 0.49\n",
      " 11.381636 seconds (88.55 M allocations: 16.164 GiB, 23.98% gc time)\n",
      "next time unit is 0.5\n",
      " 11.215415 seconds (88.55 M allocations: 16.164 GiB, 22.72% gc time)\n",
      "next time unit is 0.51\n",
      " 11.252658 seconds (88.55 M allocations: 16.164 GiB, 22.77% gc time)\n",
      "next time unit is 0.52\n",
      " 11.198218 seconds (88.55 M allocations: 16.164 GiB, 22.86% gc time)\n",
      "next time unit is 0.53\n",
      " 11.359039 seconds (88.55 M allocations: 16.164 GiB, 23.83% gc time)\n",
      "next time unit is 0.54\n",
      " 11.315535 seconds (88.55 M allocations: 16.164 GiB, 22.51% gc time)\n",
      "next time unit is 0.55\n",
      " 11.226644 seconds (88.55 M allocations: 16.164 GiB, 22.70% gc time)\n",
      "next time unit is 0.56\n",
      " 11.196367 seconds (88.55 M allocations: 16.164 GiB, 22.95% gc time)\n",
      "next time unit is 0.5700000000000001\n",
      " 11.374248 seconds (88.55 M allocations: 16.164 GiB, 23.85% gc time)\n",
      "next time unit is 0.58\n",
      " 11.170796 seconds (88.55 M allocations: 16.164 GiB, 22.69% gc time)\n",
      "next time unit is 0.59\n",
      " 11.100799 seconds (88.55 M allocations: 16.164 GiB, 22.42% gc time)\n",
      "next time unit is 0.6\n",
      " 11.093557 seconds (88.55 M allocations: 16.164 GiB, 22.53% gc time)\n",
      "next time unit is 0.61\n",
      " 11.289495 seconds (88.55 M allocations: 16.164 GiB, 23.70% gc time)\n",
      "next time unit is 0.62\n",
      " 11.281910 seconds (88.55 M allocations: 16.164 GiB, 22.63% gc time)\n",
      "next time unit is 0.63\n",
      " 11.157385 seconds (88.55 M allocations: 16.164 GiB, 22.72% gc time)\n",
      "next time unit is 0.64\n",
      " 11.089298 seconds (88.55 M allocations: 16.164 GiB, 22.75% gc time)\n",
      "next time unit is 0.65\n",
      " 11.408148 seconds (88.55 M allocations: 16.164 GiB, 23.68% gc time)\n",
      "next time unit is 0.66\n",
      " 11.201333 seconds (88.55 M allocations: 16.164 GiB, 22.78% gc time)\n",
      "next time unit is 0.67\n",
      " 11.231278 seconds (88.55 M allocations: 16.164 GiB, 22.85% gc time)\n",
      "next time unit is 0.68\n",
      " 11.404224 seconds (88.55 M allocations: 16.164 GiB, 23.96% gc time)\n",
      "next time unit is 0.6900000000000001\n",
      " 11.209082 seconds (88.55 M allocations: 16.164 GiB, 22.74% gc time)\n",
      "next time unit is 0.7\n",
      " 11.223255 seconds (88.55 M allocations: 16.164 GiB, 22.73% gc time)\n",
      "next time unit is 0.71\n",
      " 11.207333 seconds (88.55 M allocations: 16.164 GiB, 22.93% gc time)\n",
      "next time unit is 0.72\n",
      " 11.384773 seconds (88.55 M allocations: 16.164 GiB, 23.85% gc time)\n",
      "next time unit is 0.73\n",
      " 11.217817 seconds (88.55 M allocations: 16.164 GiB, 22.70% gc time)\n",
      "next time unit is 0.74\n",
      " 11.226354 seconds (88.55 M allocations: 16.164 GiB, 22.85% gc time)\n",
      "next time unit is 0.75\n",
      " 11.344043 seconds (88.55 M allocations: 16.164 GiB, 22.61% gc time)\n",
      "next time unit is 0.76\n",
      " 11.372051 seconds (88.55 M allocations: 16.164 GiB, 23.67% gc time)\n",
      "next time unit is 0.77\n",
      " 11.185986 seconds (88.55 M allocations: 16.164 GiB, 22.76% gc time)\n",
      "next time unit is 0.78\n",
      " 11.198988 seconds (88.55 M allocations: 16.164 GiB, 22.79% gc time)\n",
      "next time unit is 0.79\n",
      " 11.205302 seconds (88.55 M allocations: 16.164 GiB, 22.79% gc time)\n",
      "next time unit is 0.8\n",
      " 11.322450 seconds (88.55 M allocations: 16.164 GiB, 23.91% gc time)\n",
      "next time unit is 0.81\n",
      " 11.202542 seconds (88.55 M allocations: 16.164 GiB, 22.75% gc time)\n",
      "next time unit is 0.8200000000000001\n",
      " 11.214532 seconds (88.55 M allocations: 16.164 GiB, 22.87% gc time)\n",
      "next time unit is 0.83\n",
      " 11.265297 seconds (88.55 M allocations: 16.164 GiB, 22.92% gc time)\n",
      "next time unit is 0.84\n",
      " 11.368678 seconds (88.55 M allocations: 16.164 GiB, 23.84% gc time)\n",
      "next time unit is 0.85\n",
      " 11.212308 seconds (88.55 M allocations: 16.164 GiB, 22.96% gc time)\n",
      "next time unit is 0.86\n",
      " 11.332049 seconds (88.55 M allocations: 16.164 GiB, 22.85% gc time)\n",
      "next time unit is 0.87\n",
      " 11.256039 seconds (88.55 M allocations: 16.164 GiB, 22.87% gc time)\n",
      "next time unit is 0.88\n"
     ]
    },
    {
     "name": "stdout",
     "output_type": "stream",
     "text": [
      " 11.360213 seconds (88.55 M allocations: 16.164 GiB, 23.85% gc time)\n",
      "next time unit is 0.89\n",
      " 11.243371 seconds (88.55 M allocations: 16.164 GiB, 22.76% gc time)\n",
      "next time unit is 0.9\n",
      " 11.120831 seconds (88.55 M allocations: 16.164 GiB, 22.56% gc time)\n",
      "next time unit is 0.91\n",
      " 11.265502 seconds (88.55 M allocations: 16.164 GiB, 23.63% gc time)\n",
      "next time unit is 0.92\n",
      " 11.176584 seconds (88.55 M allocations: 16.164 GiB, 22.71% gc time)\n",
      "next time unit is 0.93\n",
      " 11.216295 seconds (88.55 M allocations: 16.164 GiB, 22.80% gc time)\n",
      "next time unit is 0.9400000000000001\n",
      " 11.269545 seconds (88.55 M allocations: 16.164 GiB, 22.92% gc time)\n",
      "next time unit is 0.95\n",
      " 11.319867 seconds (88.55 M allocations: 16.164 GiB, 23.72% gc time)\n",
      "next time unit is 0.96\n",
      " 11.046534 seconds (88.55 M allocations: 16.164 GiB, 22.41% gc time)\n",
      "next time unit is 0.97\n",
      " 11.174776 seconds (88.55 M allocations: 16.164 GiB, 22.41% gc time)\n",
      "next time unit is 0.98\n",
      " 11.065130 seconds (88.55 M allocations: 16.164 GiB, 22.55% gc time)\n",
      "next time unit is 0.99\n",
      " 11.285654 seconds (88.55 M allocations: 16.164 GiB, 23.72% gc time)\n",
      "next time unit is 1.0\n",
      " 11.199405 seconds (88.55 M allocations: 16.164 GiB, 22.87% gc time)\n",
      "next time unit is 1.01\n",
      " 11.204748 seconds (88.55 M allocations: 16.164 GiB, 22.85% gc time)\n",
      "next time unit is 1.02\n",
      " 11.295918 seconds (88.55 M allocations: 16.164 GiB, 22.80% gc time)\n",
      "next time unit is 1.03\n",
      " 11.393485 seconds (88.55 M allocations: 16.164 GiB, 24.18% gc time)\n",
      "next time unit is 1.04\n",
      " 11.367463 seconds (88.55 M allocations: 16.164 GiB, 23.71% gc time)\n",
      "next time unit is 1.05\n",
      " 11.385738 seconds (88.55 M allocations: 16.164 GiB, 23.85% gc time)\n",
      "next time unit is 1.06\n",
      " 11.532263 seconds (88.55 M allocations: 16.164 GiB, 25.04% gc time)\n",
      "next time unit is 1.07\n",
      " 11.380042 seconds (88.55 M allocations: 16.164 GiB, 23.56% gc time)\n",
      "next time unit is 1.08\n",
      " 11.458233 seconds (88.55 M allocations: 16.164 GiB, 24.06% gc time)\n",
      "next time unit is 1.09\n",
      " 11.418316 seconds (88.55 M allocations: 16.164 GiB, 24.05% gc time)\n",
      "next time unit is 1.1\n",
      " 11.669926 seconds (88.55 M allocations: 16.164 GiB, 25.15% gc time)\n",
      "next time unit is 1.11\n",
      " 11.540819 seconds (88.55 M allocations: 16.164 GiB, 23.88% gc time)\n",
      "next time unit is 1.12\n",
      " 11.494514 seconds (88.55 M allocations: 16.164 GiB, 24.01% gc time)\n",
      "next time unit is 1.1300000000000001\n",
      " 11.517214 seconds (88.55 M allocations: 16.164 GiB, 24.16% gc time)\n",
      "next time unit is 1.14\n",
      " 11.623963 seconds (88.55 M allocations: 16.164 GiB, 25.14% gc time)\n",
      "next time unit is 1.15\n",
      " 11.261012 seconds (88.55 M allocations: 16.164 GiB, 23.11% gc time)\n",
      "next time unit is 1.16\n",
      " 11.205730 seconds (88.55 M allocations: 16.164 GiB, 22.98% gc time)\n",
      "next time unit is 1.17\n",
      " 11.476367 seconds (88.55 M allocations: 16.164 GiB, 24.27% gc time)\n",
      "next time unit is 1.18\n",
      " 11.636906 seconds (88.55 M allocations: 16.164 GiB, 24.64% gc time)\n",
      "next time unit is 1.19\n",
      " 11.347216 seconds (88.55 M allocations: 16.164 GiB, 23.69% gc time)\n",
      "next time unit is 1.2\n",
      " 11.345543 seconds (88.55 M allocations: 16.164 GiB, 23.80% gc time)\n",
      "next time unit is 1.21\n",
      " 11.382134 seconds (88.55 M allocations: 16.164 GiB, 23.93% gc time)\n",
      "next time unit is 1.22\n",
      " 11.459032 seconds (88.55 M allocations: 16.164 GiB, 24.87% gc time)\n",
      "next time unit is 1.23\n",
      " 11.321301 seconds (88.55 M allocations: 16.164 GiB, 23.78% gc time)\n",
      "next time unit is 1.24\n",
      " 11.384211 seconds (88.55 M allocations: 16.164 GiB, 23.94% gc time)\n",
      "next time unit is 1.25\n",
      " 11.516737 seconds (88.55 M allocations: 16.164 GiB, 24.69% gc time)\n",
      "next time unit is 1.26\n",
      " 11.247761 seconds (88.55 M allocations: 16.164 GiB, 22.74% gc time)\n",
      "next time unit is 1.27\n",
      " 11.202478 seconds (88.55 M allocations: 16.164 GiB, 22.90% gc time)\n",
      "next time unit is 1.28\n",
      " 11.311917 seconds (88.55 M allocations: 16.164 GiB, 22.74% gc time)\n",
      "next time unit is 1.29\n",
      " 11.274867 seconds (88.55 M allocations: 16.164 GiB, 23.69% gc time)\n",
      "next time unit is 1.3\n",
      " 11.162629 seconds (88.55 M allocations: 16.164 GiB, 22.80% gc time)\n",
      "next time unit is 1.31\n",
      " 11.175585 seconds (88.55 M allocations: 16.164 GiB, 22.91% gc time)\n",
      "next time unit is 1.32\n",
      " 11.210476 seconds (88.55 M allocations: 16.164 GiB, 23.02% gc time)\n",
      "next time unit is 1.33\n",
      " 11.310438 seconds (88.55 M allocations: 16.164 GiB, 23.62% gc time)\n",
      "next time unit is 1.34\n",
      " 11.237856 seconds (88.55 M allocations: 16.164 GiB, 22.63% gc time)\n",
      "next time unit is 1.35\n",
      " 11.223301 seconds (88.55 M allocations: 16.164 GiB, 22.91% gc time)\n",
      "next time unit is 1.36\n",
      " 11.228006 seconds (88.55 M allocations: 16.164 GiB, 22.97% gc time)\n",
      "next time unit is 1.37\n",
      " 11.348620 seconds (88.55 M allocations: 16.164 GiB, 23.85% gc time)\n",
      "next time unit is 1.3800000000000001\n",
      " 11.181653 seconds (88.55 M allocations: 16.164 GiB, 22.94% gc time)\n",
      "next time unit is 1.39\n",
      " 11.365431 seconds (88.55 M allocations: 16.164 GiB, 22.83% gc time)\n",
      "next time unit is 1.4\n",
      " 11.205892 seconds (88.55 M allocations: 16.164 GiB, 23.01% gc time)\n",
      "next time unit is 1.41\n",
      " 11.315676 seconds (88.55 M allocations: 16.164 GiB, 24.00% gc time)\n",
      "next time unit is 1.42\n",
      " 11.226076 seconds (88.55 M allocations: 16.164 GiB, 22.81% gc time)\n",
      "next time unit is 1.43\n",
      " 11.205418 seconds (88.55 M allocations: 16.164 GiB, 22.96% gc time)\n",
      "next time unit is 1.44\n",
      " 11.249635 seconds (88.55 M allocations: 16.164 GiB, 22.93% gc time)\n",
      "next time unit is 1.45\n",
      " 11.331918 seconds (88.55 M allocations: 16.164 GiB, 23.94% gc time)\n",
      "next time unit is 1.46\n",
      " 11.180979 seconds (88.55 M allocations: 16.164 GiB, 22.86% gc time)\n",
      "next time unit is 1.47\n",
      " 11.217681 seconds (88.55 M allocations: 16.164 GiB, 22.92% gc time)\n",
      "next time unit is 1.48\n",
      " 11.382841 seconds (88.55 M allocations: 16.164 GiB, 23.96% gc time)\n",
      "next time unit is 1.49\n",
      " 11.178604 seconds (88.55 M allocations: 16.164 GiB, 22.89% gc time)\n",
      "next time unit is 1.5\n",
      " 11.331031 seconds (88.55 M allocations: 16.164 GiB, 22.85% gc time)\n",
      "next time unit is 1.51\n",
      " 11.241290 seconds (88.55 M allocations: 16.164 GiB, 22.83% gc time)\n",
      "next time unit is 1.52\n",
      " 11.489492 seconds (88.55 M allocations: 16.164 GiB, 23.89% gc time)\n",
      "next time unit is 1.53\n",
      " 11.227116 seconds (88.55 M allocations: 16.164 GiB, 22.77% gc time)\n",
      "next time unit is 1.54\n",
      " 11.207401 seconds (88.55 M allocations: 16.164 GiB, 22.83% gc time)\n",
      "next time unit is 1.55\n",
      " 11.402156 seconds (88.55 M allocations: 16.164 GiB, 23.31% gc time)\n",
      "next time unit is 1.56\n",
      " 11.631906 seconds (88.55 M allocations: 16.164 GiB, 24.79% gc time)\n",
      "next time unit is 1.57\n",
      " 11.502553 seconds (88.55 M allocations: 16.164 GiB, 24.05% gc time)\n",
      "next time unit is 1.58\n",
      " 11.306880 seconds (88.55 M allocations: 16.164 GiB, 23.37% gc time)\n",
      "next time unit is 1.59\n",
      " 11.092321 seconds (88.55 M allocations: 16.164 GiB, 22.56% gc time)\n",
      "next time unit is 1.6\n",
      " 11.398754 seconds (88.55 M allocations: 16.164 GiB, 23.67% gc time)\n",
      "next time unit is 1.61\n",
      " 11.459021 seconds (88.55 M allocations: 16.164 GiB, 24.09% gc time)\n",
      "next time unit is 1.62\n",
      " 11.353206 seconds (88.55 M allocations: 16.164 GiB, 23.98% gc time)\n",
      "next time unit is 1.6300000000000001\n",
      " 11.560070 seconds (88.55 M allocations: 16.164 GiB, 25.12% gc time)\n",
      "next time unit is 1.64\n",
      " 11.111898 seconds (88.55 M allocations: 16.164 GiB, 22.67% gc time)\n",
      "next time unit is 1.65\n",
      " 11.028852 seconds (88.55 M allocations: 16.164 GiB, 22.59% gc time)\n",
      "next time unit is 1.66\n",
      " 11.096557 seconds (88.55 M allocations: 16.164 GiB, 22.63% gc time)\n",
      "next time unit is 1.67\n",
      " 11.299252 seconds (88.55 M allocations: 16.164 GiB, 23.73% gc time)\n",
      "next time unit is 1.68\n",
      " 11.199993 seconds (88.55 M allocations: 16.164 GiB, 22.87% gc time)\n",
      "next time unit is 1.69\n",
      " 11.214960 seconds (88.55 M allocations: 16.164 GiB, 22.82% gc time)\n",
      "next time unit is 1.7\n",
      " 11.216117 seconds (88.55 M allocations: 16.164 GiB, 22.94% gc time)\n",
      "next time unit is 1.71\n",
      " 11.485212 seconds (88.55 M allocations: 16.164 GiB, 23.94% gc time)\n",
      "next time unit is 1.72\n",
      " 11.248046 seconds (88.55 M allocations: 16.164 GiB, 22.85% gc time)\n",
      "next time unit is 1.73\n",
      " 11.236562 seconds (88.55 M allocations: 16.164 GiB, 22.96% gc time)\n",
      "next time unit is 1.74\n",
      " 11.274944 seconds (88.55 M allocations: 16.164 GiB, 23.00% gc time)\n",
      "next time unit is 1.75\n",
      " 11.450319 seconds (88.55 M allocations: 16.164 GiB, 23.79% gc time)\n",
      "next time unit is 1.76\n",
      " 11.238419 seconds (88.55 M allocations: 16.164 GiB, 22.84% gc time)\n",
      "next time unit is 1.77\n"
     ]
    },
    {
     "name": "stdout",
     "output_type": "stream",
     "text": [
      " 11.246693 seconds (88.55 M allocations: 16.164 GiB, 22.98% gc time)\n",
      "next time unit is 1.78\n",
      " 11.262553 seconds (88.55 M allocations: 16.164 GiB, 22.71% gc time)\n",
      "next time unit is 1.79\n",
      " 11.221262 seconds (88.55 M allocations: 16.164 GiB, 23.60% gc time)\n",
      "next time unit is 1.8\n",
      " 11.246495 seconds (88.55 M allocations: 16.164 GiB, 22.92% gc time)\n",
      "next time unit is 1.81\n",
      " 11.319691 seconds (88.55 M allocations: 16.164 GiB, 22.90% gc time)\n",
      "next time unit is 1.82\n",
      " 11.467674 seconds (88.55 M allocations: 16.164 GiB, 24.07% gc time)\n",
      "next time unit is 1.83\n",
      " 11.017392 seconds (88.55 M allocations: 16.164 GiB, 22.49% gc time)\n",
      "next time unit is 1.84\n",
      " 11.055899 seconds (88.55 M allocations: 16.164 GiB, 22.65% gc time)\n",
      "next time unit is 1.85\n",
      " 11.088040 seconds (88.55 M allocations: 16.164 GiB, 22.75% gc time)\n",
      "next time unit is 1.86\n",
      " 11.326810 seconds (88.55 M allocations: 16.164 GiB, 23.96% gc time)\n",
      "next time unit is 1.87\n",
      " 11.227250 seconds (88.55 M allocations: 16.164 GiB, 22.85% gc time)\n",
      "next time unit is 1.8800000000000001\n",
      " 11.226771 seconds (88.55 M allocations: 16.164 GiB, 22.83% gc time)\n",
      "next time unit is 1.89\n",
      " 11.248669 seconds (88.55 M allocations: 16.164 GiB, 22.97% gc time)\n",
      "next time unit is 1.9\n",
      " 11.477689 seconds (88.55 M allocations: 16.164 GiB, 23.81% gc time)\n",
      "next time unit is 1.91\n",
      " 11.231004 seconds (88.55 M allocations: 16.164 GiB, 22.79% gc time)\n",
      "next time unit is 1.92\n",
      " 11.367303 seconds (88.55 M allocations: 16.164 GiB, 22.89% gc time)\n",
      "next time unit is 1.93\n",
      " 11.249100 seconds (88.55 M allocations: 16.164 GiB, 23.06% gc time)\n",
      "next time unit is 1.94\n",
      " 11.271080 seconds (88.55 M allocations: 16.164 GiB, 23.74% gc time)\n",
      "next time unit is 1.95\n",
      " 11.099253 seconds (88.55 M allocations: 16.164 GiB, 22.43% gc time)\n",
      "next time unit is 1.96\n",
      " 11.065515 seconds (88.55 M allocations: 16.164 GiB, 22.67% gc time)\n",
      "next time unit is 1.97\n",
      " 11.083744 seconds (88.55 M allocations: 16.164 GiB, 22.67% gc time)\n",
      "next time unit is 1.98\n",
      " 11.270695 seconds (88.55 M allocations: 16.164 GiB, 23.58% gc time)\n",
      "next time unit is 1.99\n",
      " 11.242971 seconds (88.55 M allocations: 16.164 GiB, 22.89% gc time)\n",
      "next time unit is 2.0\n",
      " 11.232505 seconds (88.55 M allocations: 16.164 GiB, 22.92% gc time)\n",
      "next time unit is 2.01\n",
      "2259.203213 seconds (17.71 G allocations: 3.157 TiB, 23.23% gc time)\n"
     ]
    }
   ],
   "source": [
    "@time for t in T\n",
    "    \n",
    "    @time t, (w, f), (qJ, v, λ), bd = ifherk_coupled(t, w, qJ, v, bd,fsys)\n",
    "#     t, (w, f), (qJ, v, λ), bd = ifherk_coupled(t, w, qJ, v, bd,fsys)\n",
    "    \n",
    "    push!(thist,t)\n",
    "    push!(fx,sum(f.u)*Δx^2)\n",
    "    push!(fy,sum(f.v)*Δx^2)\n",
    "    push!(whist,deepcopy(w))\n",
    "    push!(bdhist,deepcopy(bd))\n",
    "    println(\"next time unit is \",t)\n",
    "end"
   ]
  },
  {
   "cell_type": "markdown",
   "metadata": {},
   "source": [
    "## <span style=\"color:blue\"> Plot </span>"
   ]
  },
  {
   "cell_type": "markdown",
   "metadata": {},
   "source": [
    "#### Set contour levels and fps"
   ]
  },
  {
   "cell_type": "code",
   "execution_count": 11,
   "metadata": {},
   "outputs": [],
   "source": [
    "contour_levels = linspace(-0.2,0.2,50)\n",
    "sample_freq = 2\n",
    "fps = 25;"
   ]
  },
  {
   "cell_type": "markdown",
   "metadata": {},
   "source": [
    "#### Get body verts history"
   ]
  },
  {
   "cell_type": "code",
   "execution_count": 127,
   "metadata": {},
   "outputs": [],
   "source": [
    "# get verts info based on this regular grid solution\n",
    "vshist = []\n",
    "for i = 1:length(bdhist)\n",
    "    @get bdhist[i] (bs, js, sys)\n",
    "    push!(vshist, VertsHistory(sys.nbody, bs))\n",
    "end"
   ]
  },
  {
   "cell_type": "markdown",
   "metadata": {},
   "source": [
    "#### Plot first and last time field"
   ]
  },
  {
   "cell_type": "code",
   "execution_count": 136,
   "metadata": {},
   "outputs": [
    {
     "data": {
      "image/png": "[encoded data removed]"
     },
     "execution_count": 136,
     "metadata": {},
     "output_type": "execute_result"
    }
   ],
   "source": [
    "p = plot(xg,yg,whist[1],levels=contour_levels)\n",
    "for i = 1:bd.sys.nbody\n",
    "    plot!(p,vshist[1][i,2:3,1], vshist[1][i,2:3,2],linewidth=2,linecolor=\"black\")\n",
    "end\n",
    "p"
   ]
  },
  {
   "cell_type": "code",
   "execution_count": 8,
   "metadata": {},
   "outputs": [
    {
     "data": {
      "text/html": [
       "<img src=\"data:image/png;base64,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\" />"
      ]
     },
     "execution_count": 8,
     "metadata": {},
     "output_type": "execute_result"
    }
   ],
   "source": [
    "p = plot(xg,yg,whist[end],levels=contour_levels)\n",
    "for i = 1:bd.sys.nbody\n",
    "    plot!(p,vshist[end][i,2:3,1], vshist[end][i,2:3,2],linewidth=2,linecolor=\"black\")\n",
    "end\n",
    "savefig(p,\"plate.eps\")\n",
    "p"
   ]
  },
  {
   "cell_type": "markdown",
   "metadata": {},
   "source": [
    "#### Body position begining and end"
   ]
  },
  {
   "cell_type": "code",
   "execution_count": 130,
   "metadata": {},
   "outputs": [
    {
     "data": {
      "image/png": "[encoded data removed]"
     },
     "execution_count": 130,
     "metadata": {},
     "output_type": "execute_result"
    }
   ],
   "source": [
    "pb = plot()\n",
    "for i = 1:sys.nbody\n",
    "    plot!(pb,vshist[1][i,2:3,1], vshist[1][i,2:3,2],linewidth=2,linecolor=\"grey\",label=\"begin\")\n",
    "end\n",
    "for i = 1:sys.nbody\n",
    "    plot!(pb,vshist[end][i,2:3,1], vshist[end][i,2:3,2],linewidth=2,linecolor=\"red\",label=\"end\")\n",
    "end\n",
    "plot!(pb,xlims=(xg[1],xg[end]), ylims=(yg[1],yg[end]))\n",
    "pb"
   ]
  },
  {
   "cell_type": "markdown",
   "metadata": {},
   "source": [
    "#### Make gif"
   ]
  },
  {
   "cell_type": "code",
   "execution_count": 12,
   "metadata": {},
   "outputs": [
    {
     "name": "stderr",
     "output_type": "stream",
     "text": [
      "\u001b[1m\u001b[36mINFO: \u001b[39m\u001b[22m\u001b[36mSaved animation to /mnt/d/tmp/FSI.jl/examples/local_run/FSI.gif\n",
      "\u001b[39m"
     ]
    },
    {
     "data": {
      "text/html": [
       "<img src=\"FSI.gif?0.8239453085627653>\" />"
      ],
      "text/plain": [
       "Plots.AnimatedGif(\"/mnt/d/tmp/FSI.jl/examples/local_run/FSI.gif\")"
      ]
     },
     "execution_count": 12,
     "metadata": {},
     "output_type": "execute_result"
    }
   ],
   "source": [
    "anim = @animate for j = 1:length(whist)\n",
    "    plot(xg,yg,whist[j],levels=contour_levels)\n",
    "    for i = 1:sys.nbody\n",
    "        plot!(vshist[j][i,2:3,1], vshist[j][i,2:3,2],linewidth=2,linecolor=\"black\")\n",
    "    end\n",
    "end\n",
    "\n",
    "gif(anim, filename*\".gif\", fps = fps)"
   ]
  },
  {
   "cell_type": "code",
   "execution_count": 132,
   "metadata": {},
   "outputs": [
    {
     "data": {
      "image/png": "[encoded data removed]"
     },
     "execution_count": 132,
     "metadata": {},
     "output_type": "execute_result"
    }
   ],
   "source": [
    "px = plot(thist,2*fx,ylim=(-1,1),xlabel=\"Convective time\",ylabel=\"\\$C_D\\$\",legend=false)\n",
    "py = plot(thist,2*fy,ylim=(0,2),xlabel=\"Convective time\",ylabel=\"\\$C_L\\$\",legend=false)\n",
    "plot(px,py)"
   ]
  },
  {
   "cell_type": "markdown",
   "metadata": {},
   "source": [
    "## <span style=\"color:blue\"> Save Data </span>"
   ]
  },
  {
   "cell_type": "markdown",
   "metadata": {},
   "source": [
    "#### Save all current data related to plotting to a .jld file"
   ]
  },
  {
   "cell_type": "code",
   "execution_count": 133,
   "metadata": {},
   "outputs": [],
   "source": [
    "using JLD\n",
    "save(filename*\".jld\",\n",
    "    \"bd\", bd,    \n",
    "    \"bdhist\", bdhist,\n",
    "    \"xg\", xg,\n",
    "    \"yg\", yg,\n",
    "    \"whist\", whist,\n",
    "    \"vshist\", vshist,\n",
    "    \"thist\", thist,\n",
    "    \"fx\", fx,\n",
    "    \"fy\", fy,\n",
    ")"
   ]
  },
  {
   "cell_type": "markdown",
   "metadata": {},
   "source": [
    "#### Use the following block to extract data"
   ]
  },
  {
   "cell_type": "code",
   "execution_count": 5,
   "metadata": {},
   "outputs": [],
   "source": [
    "# using JLD\n",
    "\n",
    "# d = load(filename*\".jld\")\n",
    "# thist = d[\"thist\"]\n",
    "# fx = d[\"fx\"]\n",
    "# fy = d[\"fy\"]\n",
    "# xg = d[\"xg\"]\n",
    "# yg = d[\"yg\"]\n",
    "# vshist = d[\"vshist\"]\n",
    "# whist = d[\"whist\"]\n",
    "# bd = d[\"bd\"]\n",
    "# bdhist = d[\"bdhist\"]\n",
    "\n",
    "# @get bd (bs,js,sys);"
   ]
  }
 ],
 "metadata": {
  "kernelspec": {
   "display_name": "Julia 0.6.2",
   "language": "julia",
   "name": "julia-0.6"
  },
  "language_info": {
   "file_extension": ".jl",
   "mimetype": "application/julia",
   "name": "julia",
   "version": "0.6.2"
  }
 },
 "nbformat": 4,
 "nbformat_minor": 2
}
