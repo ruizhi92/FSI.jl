{
 "cells": [
  {
   "cell_type": "markdown",
   "metadata": {},
   "source": [
    "# FSI TimeMarching test"
   ]
  },
  {
   "cell_type": "code",
   "execution_count": 1,
   "metadata": {},
   "outputs": [],
   "source": [
    "include(\"../src/FSI.jl\")\n",
    "using FSI"
   ]
  },
  {
   "cell_type": "code",
   "execution_count": 109,
   "metadata": {},
   "outputs": [],
   "source": [
    "using Plots\n",
    "pyplot()\n",
    "clibrary(:colorbrewer)\n",
    "default(grid = false)"
   ]
  },
  {
   "cell_type": "code",
   "execution_count": 110,
   "metadata": {},
   "outputs": [],
   "source": [
    "filename = \"FSI_2dFreeFall\";"
   ]
  },
  {
   "cell_type": "markdown",
   "metadata": {},
   "source": [
    "## <span style=\"color:blue\"> Set up rigid body with Dyn3d"
   ]
  },
  {
   "cell_type": "markdown",
   "metadata": {},
   "source": [
    "#### Include any joint-body setup script from Dyn3d"
   ]
  },
  {
   "cell_type": "code",
   "execution_count": 111,
   "metadata": {},
   "outputs": [
    {
     "data": {
      "text/plain": [
       " joint type = custom\n",
       " joint position in parent body coord = [0.0, 0.0, 0.0, 0.5, 0.5, 0.0]\n",
       " joint position in child body coord = [0.0, 0.0, 0.0, 0.0, 0.0, 0.0]\n",
       " joint unconstrained dof = 5, under passive motion\n",
       " initial unconstrained dof position = [0.0]\n"
      ]
     },
     "execution_count": 111,
     "metadata": {},
     "output_type": "execute_result"
    }
   ],
   "source": [
    "# include(Pkg.dir(\"Dyn3d\")*\"/src/config_files/2dFall.jl\")\n",
    "\n",
    "# problem dimension\n",
    "ndim = 2\n",
    "# numerical params\n",
    "tf = 6\n",
    "dt = 1e-3\n",
    "scheme = \"Liska\"\n",
    "st = 3\n",
    "tol = 1e-4\n",
    "num_params = NumParams(tf, dt, scheme, st, tol)\n",
    "# gravity\n",
    "gravity = [0., -1.0, 0.]\n",
    "\n",
    "# set up system config info\n",
    "config_system = ConfigSystem(ndim, gravity, num_params)\n",
    "\n",
    "# set up bodys\n",
    "nbody = 1\n",
    "config_body = ConfigBody(nbody, 4,\n",
    "   [0. 0.; 1. 0.; 1. 1./nbody; 0. 1./nbody], 1.0)\n",
    "config_bodys = fill(config_body, nbody)\n",
    "\n",
    "# set up joints\n",
    "njoint = nbody\n",
    "\n",
    "config_joints = Vector{ConfigJoint}(njoint)\n",
    "\n",
    "# set the first passive joint with no stiff and damp\n",
    "dof_1 = Dof(5, \"passive\", 0., 0., Motions())\n",
    "\n",
    "config_joints[1] = ConfigJoint(njoint, \"custom\",\n",
    "    [0.,0.,0.,0.5,0.5,0.], zeros(Float64,6), 0, [dof_1], [0.])"
   ]
  },
  {
   "cell_type": "markdown",
   "metadata": {},
   "source": [
    "#### Build joint-body chain"
   ]
  },
  {
   "cell_type": "code",
   "execution_count": 112,
   "metadata": {},
   "outputs": [
    {
     "data": {
      "text/plain": []
     },
     "execution_count": 112,
     "metadata": {},
     "output_type": "execute_result"
    }
   ],
   "source": [
    "bs, js, bsys = BuildChain(config_bodys, config_joints, config_system)\n",
    "bd = BodyDyn(bs, js, bsys)"
   ]
  },
  {
   "cell_type": "markdown",
   "metadata": {},
   "source": [
    "#### Initialize rigid body system state to complete body-joint information"
   ]
  },
  {
   "cell_type": "code",
   "execution_count": 113,
   "metadata": {},
   "outputs": [
    {
     "name": "stdout",
     "output_type": "stream",
     "text": [
      "This is a 1 body-joint system, system is fixed in space"
     ]
    },
    {
     "data": {
      "text/plain": [
       "(, Dyn3d.ConstructSystem.Soln{Float64}(0.0, 0.001, [0.0, 0.0, 0.0, 0.0, 0.0, 0.0], [0.0, 0.0, 0.0, 0.0, 0.0, 0.0], Float64[], Float64[]))"
      ]
     },
     "execution_count": 113,
     "metadata": {},
     "output_type": "execute_result"
    }
   ],
   "source": [
    "bd, soln₀ = InitSystem!(bd)"
   ]
  },
  {
   "cell_type": "markdown",
   "metadata": {},
   "source": [
    "#### Initialize u and λ container"
   ]
  },
  {
   "cell_type": "code",
   "execution_count": 114,
   "metadata": {},
   "outputs": [
    {
     "name": "stdout",
     "output_type": "stream",
     "text": [
      "This is a 1 body-joint system, system is fixed in space"
     ]
    }
   ],
   "source": [
    "qJ = soln₀.qJ\n",
    "v = soln₀.v\n",
    "λ_dim = bd.sys.ncdof_HERK\n",
    "λ = zeros(Float64,λ_dim);"
   ]
  },
  {
   "cell_type": "markdown",
   "metadata": {},
   "source": [
    "#### Get body verts for plotting"
   ]
  },
  {
   "cell_type": "code",
   "execution_count": 115,
   "metadata": {},
   "outputs": [],
   "source": [
    "@get bd (bs, js, sys)\n",
    "bs, js, sys = UpdatePosition!(bs, js, sys, soln₀.qJ)\n",
    "vs₀ = VertsHistory(sys.nbody, bs);"
   ]
  },
  {
   "cell_type": "markdown",
   "metadata": {},
   "source": [
    "#### Plot body only"
   ]
  },
  {
   "cell_type": "code",
   "execution_count": 116,
   "metadata": {},
   "outputs": [
    {
     "data": {
      "image/png": "[encoded data removed]"
     },
     "execution_count": 116,
     "metadata": {},
     "output_type": "execute_result"
    }
   ],
   "source": [
    "p = plot()\n",
    "for i = 1:sys.nbody\n",
    "    plot!(p,vs₀[i,2:3,1], vs₀[i,2:3,2],linewidth=2)\n",
    "end\n",
    "plot!(xlims=(0,2), ylims=(0,3))"
   ]
  },
  {
   "cell_type": "markdown",
   "metadata": {},
   "source": [
    "## <span style=\"color:blue\"> Set up fluid with Whirl </span>"
   ]
  },
  {
   "cell_type": "markdown",
   "metadata": {},
   "source": [
    "#### Set the flow parameters"
   ]
  },
  {
   "cell_type": "code",
   "execution_count": 117,
   "metadata": {},
   "outputs": [
    {
     "data": {
      "text/plain": [
       "(0.0, 1.0)"
      ]
     },
     "execution_count": 117,
     "metadata": {},
     "output_type": "execute_result"
    }
   ],
   "source": [
    "Re = 200 # Reynolds number\n",
    "U = 1.0 # Free stream velocity\n",
    "U∞ = (0.0, U)\n",
    "U∞ = (U, 0.0)"
   ]
  },
  {
   "cell_type": "markdown",
   "metadata": {},
   "source": [
    "#### Set the domain grid"
   ]
  },
  {
   "cell_type": "code",
   "execution_count": 118,
   "metadata": {},
   "outputs": [
    {
     "data": {
      "text/plain": [
       "(-0.01:0.02:2.0100000000000002, -0.01:0.02:3.0100000000000002)"
      ]
     },
     "execution_count": 118,
     "metadata": {},
     "output_type": "execute_result"
    }
   ],
   "source": [
    "nx = 102; ny = 152;\n",
    "Ly = 3.0;\n",
    "Δx = Ly/(ny-2);\n",
    "Δt = min(0.5*Δx,0.5*Δx^2*Re)\n",
    "w₀ = Nodes(Dual,(nx,ny))\n",
    "xg, yg = coordinates(w₀,dx=Δx)"
   ]
  },
  {
   "cell_type": "markdown",
   "metadata": {},
   "source": [
    "#### Set up fluid initial conditions"
   ]
  },
  {
   "cell_type": "code",
   "execution_count": 119,
   "metadata": {},
   "outputs": [],
   "source": [
    "w₀ .= 0.0;\n",
    "w = deepcopy(w₀);"
   ]
  },
  {
   "cell_type": "markdown",
   "metadata": {},
   "source": [
    "## <span style=\"color:blue\"> Create fluid-body interface </span>"
   ]
  },
  {
   "cell_type": "markdown",
   "metadata": {},
   "source": [
    "#### Genrate body grid points and get linear velocity on them"
   ]
  },
  {
   "cell_type": "code",
   "execution_count": 120,
   "metadata": {
    "scrolled": true
   },
   "outputs": [],
   "source": [
    "# bgs short for body grid system\n",
    "bgs = GenerateBodyGrid(bd; np=DetermineNP(nbody, Δx))\n",
    "bgs = CutOut2d(bd,bgs);"
   ]
  },
  {
   "cell_type": "markdown",
   "metadata": {},
   "source": [
    "#### Get body points initial coordinates for fluids"
   ]
  },
  {
   "cell_type": "code",
   "execution_count": 121,
   "metadata": {},
   "outputs": [],
   "source": [
    "bgs = AcquireBodyGridKinematics(bd,bgs)\n",
    "coord_init = hcat(bgs[1].q_i...)'[:,[1,2]]\n",
    "for i = 2:length(bgs)\n",
    "    coord_init = [coord_init[1:end-1,:]; hcat(bgs[i].q_i...)'[:,[1,2]]]\n",
    "end"
   ]
  },
  {
   "cell_type": "markdown",
   "metadata": {},
   "source": [
    "#### Set up body grid points and force container in fluid"
   ]
  },
  {
   "cell_type": "code",
   "execution_count": 122,
   "metadata": {},
   "outputs": [],
   "source": [
    "X̃ = VectorData(coord_init)\n",
    "f = VectorData(X̃);"
   ]
  },
  {
   "cell_type": "markdown",
   "metadata": {},
   "source": [
    "#### Create fluidstruct structure"
   ]
  },
  {
   "cell_type": "code",
   "execution_count": 123,
   "metadata": {},
   "outputs": [
    {
     "data": {
      "text/plain": [
       "51"
      ]
     },
     "execution_count": 123,
     "metadata": {},
     "output_type": "execute_result"
    }
   ],
   "source": [
    "tf = 200Δt\n",
    "T = Δt:Δt:tf\n",
    "fsys = FluidStruct((nx,ny),Re,Δx,Δt,U∞ = U∞, X̃ = X̃, rk=RK31)\n",
    "N = length(X̃)÷2"
   ]
  },
  {
   "cell_type": "markdown",
   "metadata": {},
   "source": [
    "## <span style=\"color:blue\"> Create ifherk object </span>"
   ]
  },
  {
   "cell_type": "code",
   "execution_count": 124,
   "metadata": {},
   "outputs": [
    {
     "name": "stdout",
     "output_type": "stream",
     "text": [
      " 13.320535 seconds (88.70 M allocations: 16.175 GiB, 23.19% gc time)\n"
     ]
    },
    {
     "data": {
      "text/plain": [
       "Stage-3+ IF-HERK integrator with\n",
       "   Time step size 0.01\n"
      ]
     },
     "execution_count": 124,
     "metadata": {},
     "output_type": "execute_result"
    }
   ],
   "source": [
    "@time ifherk_coupled = FSI.IFHERK_coupled(fsys.Δt,bd,bgs,(w₀,qJ,v,f,λ),\n",
    "                ((t,u) -> Systems.plan_intfact(t,u,fsys), B₁ᵀ, B₂),\n",
    "                (M⁻¹, G₁ᵀ, G₂, UpP, UpV),\n",
    "                ((bd,bgs,f) -> T₁ᵀ(bd,bgs,f,fsys.Δx), T₂, getX̃),\n",
    "                ((w,t) -> r₁(w,t,fsys), F, w -> U_inf(w,fsys), gti),\n",
    "                fsys, tol=1e-3,rk=Whirl.TimeMarching.RK31)"
   ]
  },
  {
   "cell_type": "code",
   "execution_count": 125,
   "metadata": {},
   "outputs": [],
   "source": [
    "fx = Float64[]\n",
    "fy = Float64[]\n",
    "thist = []\n",
    "whist = []\n",
    "bdhist = BodyDyn[];"
   ]
  },
  {
   "cell_type": "markdown",
   "metadata": {},
   "source": [
    "## <span style=\"color:blue\"> TimeMarching! </span>"
   ]
  },
  {
   "cell_type": "code",
   "execution_count": 126,
   "metadata": {
    "scrolled": true
   },
   "outputs": [
    {
     "name": "stdout",
     "output_type": "stream",
     "text": [
      " 12.466644 seconds (88.81 M allocations: 16.174 GiB, 22.37% gc time)\n",
      "next time unit is 0.02\n",
      " 11.483828 seconds (88.55 M allocations: 16.164 GiB, 24.12% gc time)\n",
      "next time unit is 0.03\n",
      " 11.576572 seconds (88.55 M allocations: 16.164 GiB, 24.03% gc time)\n",
      "next time unit is 0.04\n",
      " 11.600974 seconds (88.55 M allocations: 16.164 GiB, 24.88% gc time)\n",
      "next time unit is 0.05\n",
      " 11.419092 seconds (88.55 M allocations: 16.164 GiB, 23.88% gc time)\n",
      "next time unit is 0.060000000000000005\n",
      " 11.821202 seconds (88.55 M allocations: 16.164 GiB, 23.87% gc time)\n",
      "next time unit is 0.06999999999999999\n",
      " 12.425989 seconds (88.55 M allocations: 16.164 GiB, 23.13% gc time)\n",
      "next time unit is 0.08\n",
      " 11.588708 seconds (88.55 M allocations: 16.164 GiB, 24.03% gc time)\n",
      "next time unit is 0.09\n",
      " 11.209719 seconds (88.55 M allocations: 16.164 GiB, 22.80% gc time)\n",
      "next time unit is 0.09999999999999999\n",
      " 11.180626 seconds (88.55 M allocations: 16.164 GiB, 22.74% gc time)\n",
      "next time unit is 0.11\n",
      " 11.444463 seconds (88.55 M allocations: 16.164 GiB, 23.87% gc time)\n",
      "next time unit is 0.12\n",
      " 11.207375 seconds (88.55 M allocations: 16.164 GiB, 22.72% gc time)\n",
      "next time unit is 0.13\n",
      " 11.208427 seconds (88.55 M allocations: 16.164 GiB, 22.63% gc time)\n",
      "next time unit is 0.14\n",
      " 11.187389 seconds (88.55 M allocations: 16.164 GiB, 22.73% gc time)\n",
      "next time unit is 0.15000000000000002\n",
      " 11.361493 seconds (88.55 M allocations: 16.164 GiB, 23.75% gc time)\n",
      "next time unit is 0.16\n",
      " 11.150305 seconds (88.55 M allocations: 16.164 GiB, 22.78% gc time)\n",
      "next time unit is 0.17\n",
      " 11.188213 seconds (88.55 M allocations: 16.164 GiB, 22.80% gc time)\n",
      "next time unit is 0.18000000000000002\n",
      " 11.221298 seconds (88.55 M allocations: 16.164 GiB, 22.80% gc time)\n",
      "next time unit is 0.19\n",
      " 11.324879 seconds (88.55 M allocations: 16.164 GiB, 23.71% gc time)\n",
      "next time unit is 0.2\n",
      " 11.150588 seconds (88.55 M allocations: 16.164 GiB, 22.56% gc time)\n",
      "next time unit is 0.21000000000000002\n",
      " 11.181040 seconds (88.55 M allocations: 16.164 GiB, 22.65% gc time)\n",
      "next time unit is 0.22\n",
      " 11.335493 seconds (88.55 M allocations: 16.164 GiB, 22.46% gc time)\n",
      "next time unit is 0.23\n",
      " 11.300502 seconds (88.55 M allocations: 16.164 GiB, 23.70% gc time)\n",
      "next time unit is 0.24000000000000002\n",
      " 11.214077 seconds (88.55 M allocations: 16.164 GiB, 22.83% gc time)\n",
      "next time unit is 0.25\n",
      " 11.213678 seconds (88.55 M allocations: 16.164 GiB, 22.87% gc time)\n",
      "next time unit is 0.26\n",
      " 11.205420 seconds (88.55 M allocations: 16.164 GiB, 22.84% gc time)\n",
      "next time unit is 0.27\n",
      " 11.297523 seconds (88.55 M allocations: 16.164 GiB, 23.69% gc time)\n",
      "next time unit is 0.28\n",
      " 11.146723 seconds (88.55 M allocations: 16.164 GiB, 22.72% gc time)\n",
      "next time unit is 0.29000000000000004\n",
      " 11.254179 seconds (88.55 M allocations: 16.164 GiB, 22.68% gc time)\n",
      "next time unit is 0.3\n",
      " 11.398802 seconds (88.55 M allocations: 16.164 GiB, 23.87% gc time)\n",
      "next time unit is 0.31\n",
      " 11.101723 seconds (88.55 M allocations: 16.164 GiB, 22.44% gc time)\n",
      "next time unit is 0.32\n",
      " 11.198087 seconds (88.55 M allocations: 16.164 GiB, 22.40% gc time)\n",
      "next time unit is 0.33\n",
      " 11.274348 seconds (88.55 M allocations: 16.164 GiB, 22.80% gc time)\n",
      "next time unit is 0.34\n",
      " 11.388180 seconds (88.55 M allocations: 16.164 GiB, 23.78% gc time)\n",
      "next time unit is 0.35000000000000003\n",
      " 11.254172 seconds (88.55 M allocations: 16.164 GiB, 22.57% gc time)\n",
      "next time unit is 0.36\n",
      " 11.261931 seconds (88.55 M allocations: 16.164 GiB, 22.63% gc time)\n",
      "next time unit is 0.37\n",
      " 11.257182 seconds (88.55 M allocations: 16.164 GiB, 22.66% gc time)\n",
      "next time unit is 0.38\n",
      " 11.169927 seconds (88.55 M allocations: 16.164 GiB, 23.50% gc time)\n",
      "next time unit is 0.39\n",
      " 11.040987 seconds (88.55 M allocations: 16.164 GiB, 22.49% gc time)\n",
      "next time unit is 0.4\n",
      " 11.171726 seconds (88.55 M allocations: 16.164 GiB, 22.80% gc time)\n",
      "next time unit is 0.41000000000000003\n",
      " 11.223823 seconds (88.55 M allocations: 16.164 GiB, 22.95% gc time)\n",
      "next time unit is 0.42\n",
      " 11.339585 seconds (88.55 M allocations: 16.164 GiB, 23.86% gc time)\n",
      "next time unit is 0.43\n",
      " 11.268291 seconds (88.55 M allocations: 16.164 GiB, 22.84% gc time)\n",
      "next time unit is 0.44\n",
      " 11.206697 seconds (88.55 M allocations: 16.164 GiB, 22.80% gc time)\n",
      "next time unit is 0.45\n",
      " 11.227567 seconds (88.55 M allocations: 16.164 GiB, 22.92% gc time)\n",
      "next time unit is 0.46\n",
      " 11.332605 seconds (88.55 M allocations: 16.164 GiB, 23.86% gc time)\n",
      "next time unit is 0.47000000000000003\n",
      " 11.205682 seconds (88.55 M allocations: 16.164 GiB, 22.78% gc time)\n",
      "next time unit is 0.48\n",
      " 11.248477 seconds (88.55 M allocations: 16.164 GiB, 22.91% gc time)\n",
      "next time unit is 0.49\n",
      " 11.381636 seconds (88.55 M allocations: 16.164 GiB, 23.98% gc time)\n",
      "next time unit is 0.5\n",
      " 11.215415 seconds (88.55 M allocations: 16.164 GiB, 22.72% gc time)\n",
      "next time unit is 0.51\n",
      " 11.252658 seconds (88.55 M allocations: 16.164 GiB, 22.77% gc time)\n",
      "next time unit is 0.52\n",
      " 11.198218 seconds (88.55 M allocations: 16.164 GiB, 22.86% gc time)\n",
      "next time unit is 0.53\n",
      " 11.359039 seconds (88.55 M allocations: 16.164 GiB, 23.83% gc time)\n",
      "next time unit is 0.54\n",
      " 11.315535 seconds (88.55 M allocations: 16.164 GiB, 22.51% gc time)\n",
      "next time unit is 0.55\n",
      " 11.226644 seconds (88.55 M allocations: 16.164 GiB, 22.70% gc time)\n",
      "next time unit is 0.56\n",
      " 11.196367 seconds (88.55 M allocations: 16.164 GiB, 22.95% gc time)\n",
      "next time unit is 0.5700000000000001\n",
      " 11.374248 seconds (88.55 M allocations: 16.164 GiB, 23.85% gc time)\n",
      "next time unit is 0.58\n",
      " 11.170796 seconds (88.55 M allocations: 16.164 GiB, 22.69% gc time)\n",
      "next time unit is 0.59\n",
      " 11.100799 seconds (88.55 M allocations: 16.164 GiB, 22.42% gc time)\n",
      "next time unit is 0.6\n",
      " 11.093557 seconds (88.55 M allocations: 16.164 GiB, 22.53% gc time)\n",
      "next time unit is 0.61\n",
      " 11.289495 seconds (88.55 M allocations: 16.164 GiB, 23.70% gc time)\n",
      "next time unit is 0.62\n",
      " 11.281910 seconds (88.55 M allocations: 16.164 GiB, 22.63% gc time)\n",
      "next time unit is 0.63\n",
      " 11.157385 seconds (88.55 M allocations: 16.164 GiB, 22.72% gc time)\n",
      "next time unit is 0.64\n",
      " 11.089298 seconds (88.55 M allocations: 16.164 GiB, 22.75% gc time)\n",
      "next time unit is 0.65\n",
      " 11.408148 seconds (88.55 M allocations: 16.164 GiB, 23.68% gc time)\n",
      "next time unit is 0.66\n",
      " 11.201333 seconds (88.55 M allocations: 16.164 GiB, 22.78% gc time)\n",
      "next time unit is 0.67\n",
      " 11.231278 seconds (88.55 M allocations: 16.164 GiB, 22.85% gc time)\n",
      "next time unit is 0.68\n",
      " 11.404224 seconds (88.55 M allocations: 16.164 GiB, 23.96% gc time)\n",
      "next time unit is 0.6900000000000001\n",
      " 11.209082 seconds (88.55 M allocations: 16.164 GiB, 22.74% gc time)\n",
      "next time unit is 0.7\n",
      " 11.223255 seconds (88.55 M allocations: 16.164 GiB, 22.73% gc time)\n",
      "next time unit is 0.71\n",
      " 11.207333 seconds (88.55 M allocations: 16.164 GiB, 22.93% gc time)\n",
      "next time unit is 0.72\n",
      " 11.384773 seconds (88.55 M allocations: 16.164 GiB, 23.85% gc time)\n",
      "next time unit is 0.73\n",
      " 11.217817 seconds (88.55 M allocations: 16.164 GiB, 22.70% gc time)\n",
      "next time unit is 0.74\n",
      " 11.226354 seconds (88.55 M allocations: 16.164 GiB, 22.85% gc time)\n",
      "next time unit is 0.75\n",
      " 11.344043 seconds (88.55 M allocations: 16.164 GiB, 22.61% gc time)\n",
      "next time unit is 0.76\n",
      " 11.372051 seconds (88.55 M allocations: 16.164 GiB, 23.67% gc time)\n",
      "next time unit is 0.77\n",
      " 11.185986 seconds (88.55 M allocations: 16.164 GiB, 22.76% gc time)\n",
      "next time unit is 0.78\n",
      " 11.198988 seconds (88.55 M allocations: 16.164 GiB, 22.79% gc time)\n",
      "next time unit is 0.79\n",
      " 11.205302 seconds (88.55 M allocations: 16.164 GiB, 22.79% gc time)\n",
      "next time unit is 0.8\n",
      " 11.322450 seconds (88.55 M allocations: 16.164 GiB, 23.91% gc time)\n",
      "next time unit is 0.81\n",
      " 11.202542 seconds (88.55 M allocations: 16.164 GiB, 22.75% gc time)\n",
      "next time unit is 0.8200000000000001\n",
      " 11.214532 seconds (88.55 M allocations: 16.164 GiB, 22.87% gc time)\n",
      "next time unit is 0.83\n",
      " 11.265297 seconds (88.55 M allocations: 16.164 GiB, 22.92% gc time)\n",
      "next time unit is 0.84\n",
      " 11.368678 seconds (88.55 M allocations: 16.164 GiB, 23.84% gc time)\n",
      "next time unit is 0.85\n",
      " 11.212308 seconds (88.55 M allocations: 16.164 GiB, 22.96% gc time)\n",
      "next time unit is 0.86\n",
      " 11.332049 seconds (88.55 M allocations: 16.164 GiB, 22.85% gc time)\n",
      "next time unit is 0.87\n",
      " 11.256039 seconds (88.55 M allocations: 16.164 GiB, 22.87% gc time)\n",
      "next time unit is 0.88\n"
     ]
    },
    {
     "name": "stdout",
     "output_type": "stream",
     "text": [
      " 11.360213 seconds (88.55 M allocations: 16.164 GiB, 23.85% gc time)\n",
      "next time unit is 0.89\n",
      " 11.243371 seconds (88.55 M allocations: 16.164 GiB, 22.76% gc time)\n",
      "next time unit is 0.9\n",
      " 11.120831 seconds (88.55 M allocations: 16.164 GiB, 22.56% gc time)\n",
      "next time unit is 0.91\n",
      " 11.265502 seconds (88.55 M allocations: 16.164 GiB, 23.63% gc time)\n",
      "next time unit is 0.92\n",
      " 11.176584 seconds (88.55 M allocations: 16.164 GiB, 22.71% gc time)\n",
      "next time unit is 0.93\n",
      " 11.216295 seconds (88.55 M allocations: 16.164 GiB, 22.80% gc time)\n",
      "next time unit is 0.9400000000000001\n",
      " 11.269545 seconds (88.55 M allocations: 16.164 GiB, 22.92% gc time)\n",
      "next time unit is 0.95\n",
      " 11.319867 seconds (88.55 M allocations: 16.164 GiB, 23.72% gc time)\n",
      "next time unit is 0.96\n",
      " 11.046534 seconds (88.55 M allocations: 16.164 GiB, 22.41% gc time)\n",
      "next time unit is 0.97\n",
      " 11.174776 seconds (88.55 M allocations: 16.164 GiB, 22.41% gc time)\n",
      "next time unit is 0.98\n",
      " 11.065130 seconds (88.55 M allocations: 16.164 GiB, 22.55% gc time)\n",
      "next time unit is 0.99\n",
      " 11.285654 seconds (88.55 M allocations: 16.164 GiB, 23.72% gc time)\n",
      "next time unit is 1.0\n",
      " 11.199405 seconds (88.55 M allocations: 16.164 GiB, 22.87% gc time)\n",
      "next time unit is 1.01\n",
      " 11.204748 seconds (88.55 M allocations: 16.164 GiB, 22.85% gc time)\n",
      "next time unit is 1.02\n",
      " 11.295918 seconds (88.55 M allocations: 16.164 GiB, 22.80% gc time)\n",
      "next time unit is 1.03\n",
      " 11.393485 seconds (88.55 M allocations: 16.164 GiB, 24.18% gc time)\n",
      "next time unit is 1.04\n",
      " 11.367463 seconds (88.55 M allocations: 16.164 GiB, 23.71% gc time)\n",
      "next time unit is 1.05\n",
      " 11.385738 seconds (88.55 M allocations: 16.164 GiB, 23.85% gc time)\n",
      "next time unit is 1.06\n",
      " 11.532263 seconds (88.55 M allocations: 16.164 GiB, 25.04% gc time)\n",
      "next time unit is 1.07\n",
      " 11.380042 seconds (88.55 M allocations: 16.164 GiB, 23.56% gc time)\n",
      "next time unit is 1.08\n",
      " 11.458233 seconds (88.55 M allocations: 16.164 GiB, 24.06% gc time)\n",
      "next time unit is 1.09\n",
      " 11.418316 seconds (88.55 M allocations: 16.164 GiB, 24.05% gc time)\n",
      "next time unit is 1.1\n",
      " 11.669926 seconds (88.55 M allocations: 16.164 GiB, 25.15% gc time)\n",
      "next time unit is 1.11\n",
      " 11.540819 seconds (88.55 M allocations: 16.164 GiB, 23.88% gc time)\n",
      "next time unit is 1.12\n",
      " 11.494514 seconds (88.55 M allocations: 16.164 GiB, 24.01% gc time)\n",
      "next time unit is 1.1300000000000001\n",
      " 11.517214 seconds (88.55 M allocations: 16.164 GiB, 24.16% gc time)\n",
      "next time unit is 1.14\n",
      " 11.623963 seconds (88.55 M allocations: 16.164 GiB, 25.14% gc time)\n",
      "next time unit is 1.15\n",
      " 11.261012 seconds (88.55 M allocations: 16.164 GiB, 23.11% gc time)\n",
      "next time unit is 1.16\n",
      " 11.205730 seconds (88.55 M allocations: 16.164 GiB, 22.98% gc time)\n",
      "next time unit is 1.17\n",
      " 11.476367 seconds (88.55 M allocations: 16.164 GiB, 24.27% gc time)\n",
      "next time unit is 1.18\n",
      " 11.636906 seconds (88.55 M allocations: 16.164 GiB, 24.64% gc time)\n",
      "next time unit is 1.19\n",
      " 11.347216 seconds (88.55 M allocations: 16.164 GiB, 23.69% gc time)\n",
      "next time unit is 1.2\n",
      " 11.345543 seconds (88.55 M allocations: 16.164 GiB, 23.80% gc time)\n",
      "next time unit is 1.21\n",
      " 11.382134 seconds (88.55 M allocations: 16.164 GiB, 23.93% gc time)\n",
      "next time unit is 1.22\n",
      " 11.459032 seconds (88.55 M allocations: 16.164 GiB, 24.87% gc time)\n",
      "next time unit is 1.23\n",
      " 11.321301 seconds (88.55 M allocations: 16.164 GiB, 23.78% gc time)\n",
      "next time unit is 1.24\n",
      " 11.384211 seconds (88.55 M allocations: 16.164 GiB, 23.94% gc time)\n",
      "next time unit is 1.25\n",
      " 11.516737 seconds (88.55 M allocations: 16.164 GiB, 24.69% gc time)\n",
      "next time unit is 1.26\n",
      " 11.247761 seconds (88.55 M allocations: 16.164 GiB, 22.74% gc time)\n",
      "next time unit is 1.27\n",
      " 11.202478 seconds (88.55 M allocations: 16.164 GiB, 22.90% gc time)\n",
      "next time unit is 1.28\n",
      " 11.311917 seconds (88.55 M allocations: 16.164 GiB, 22.74% gc time)\n",
      "next time unit is 1.29\n",
      " 11.274867 seconds (88.55 M allocations: 16.164 GiB, 23.69% gc time)\n",
      "next time unit is 1.3\n",
      " 11.162629 seconds (88.55 M allocations: 16.164 GiB, 22.80% gc time)\n",
      "next time unit is 1.31\n",
      " 11.175585 seconds (88.55 M allocations: 16.164 GiB, 22.91% gc time)\n",
      "next time unit is 1.32\n",
      " 11.210476 seconds (88.55 M allocations: 16.164 GiB, 23.02% gc time)\n",
      "next time unit is 1.33\n",
      " 11.310438 seconds (88.55 M allocations: 16.164 GiB, 23.62% gc time)\n",
      "next time unit is 1.34\n",
      " 11.237856 seconds (88.55 M allocations: 16.164 GiB, 22.63% gc time)\n",
      "next time unit is 1.35\n",
      " 11.223301 seconds (88.55 M allocations: 16.164 GiB, 22.91% gc time)\n",
      "next time unit is 1.36\n",
      " 11.228006 seconds (88.55 M allocations: 16.164 GiB, 22.97% gc time)\n",
      "next time unit is 1.37\n",
      " 11.348620 seconds (88.55 M allocations: 16.164 GiB, 23.85% gc time)\n",
      "next time unit is 1.3800000000000001\n",
      " 11.181653 seconds (88.55 M allocations: 16.164 GiB, 22.94% gc time)\n",
      "next time unit is 1.39\n",
      " 11.365431 seconds (88.55 M allocations: 16.164 GiB, 22.83% gc time)\n",
      "next time unit is 1.4\n",
      " 11.205892 seconds (88.55 M allocations: 16.164 GiB, 23.01% gc time)\n",
      "next time unit is 1.41\n",
      " 11.315676 seconds (88.55 M allocations: 16.164 GiB, 24.00% gc time)\n",
      "next time unit is 1.42\n",
      " 11.226076 seconds (88.55 M allocations: 16.164 GiB, 22.81% gc time)\n",
      "next time unit is 1.43\n",
      " 11.205418 seconds (88.55 M allocations: 16.164 GiB, 22.96% gc time)\n",
      "next time unit is 1.44\n",
      " 11.249635 seconds (88.55 M allocations: 16.164 GiB, 22.93% gc time)\n",
      "next time unit is 1.45\n",
      " 11.331918 seconds (88.55 M allocations: 16.164 GiB, 23.94% gc time)\n",
      "next time unit is 1.46\n",
      " 11.180979 seconds (88.55 M allocations: 16.164 GiB, 22.86% gc time)\n",
      "next time unit is 1.47\n",
      " 11.217681 seconds (88.55 M allocations: 16.164 GiB, 22.92% gc time)\n",
      "next time unit is 1.48\n",
      " 11.382841 seconds (88.55 M allocations: 16.164 GiB, 23.96% gc time)\n",
      "next time unit is 1.49\n",
      " 11.178604 seconds (88.55 M allocations: 16.164 GiB, 22.89% gc time)\n",
      "next time unit is 1.5\n",
      " 11.331031 seconds (88.55 M allocations: 16.164 GiB, 22.85% gc time)\n",
      "next time unit is 1.51\n",
      " 11.241290 seconds (88.55 M allocations: 16.164 GiB, 22.83% gc time)\n",
      "next time unit is 1.52\n",
      " 11.489492 seconds (88.55 M allocations: 16.164 GiB, 23.89% gc time)\n",
      "next time unit is 1.53\n",
      " 11.227116 seconds (88.55 M allocations: 16.164 GiB, 22.77% gc time)\n",
      "next time unit is 1.54\n",
      " 11.207401 seconds (88.55 M allocations: 16.164 GiB, 22.83% gc time)\n",
      "next time unit is 1.55\n",
      " 11.402156 seconds (88.55 M allocations: 16.164 GiB, 23.31% gc time)\n",
      "next time unit is 1.56\n",
      " 11.631906 seconds (88.55 M allocations: 16.164 GiB, 24.79% gc time)\n",
      "next time unit is 1.57\n",
      " 11.502553 seconds (88.55 M allocations: 16.164 GiB, 24.05% gc time)\n",
      "next time unit is 1.58\n",
      " 11.306880 seconds (88.55 M allocations: 16.164 GiB, 23.37% gc time)\n",
      "next time unit is 1.59\n",
      " 11.092321 seconds (88.55 M allocations: 16.164 GiB, 22.56% gc time)\n",
      "next time unit is 1.6\n",
      " 11.398754 seconds (88.55 M allocations: 16.164 GiB, 23.67% gc time)\n",
      "next time unit is 1.61\n",
      " 11.459021 seconds (88.55 M allocations: 16.164 GiB, 24.09% gc time)\n",
      "next time unit is 1.62\n",
      " 11.353206 seconds (88.55 M allocations: 16.164 GiB, 23.98% gc time)\n",
      "next time unit is 1.6300000000000001\n",
      " 11.560070 seconds (88.55 M allocations: 16.164 GiB, 25.12% gc time)\n",
      "next time unit is 1.64\n",
      " 11.111898 seconds (88.55 M allocations: 16.164 GiB, 22.67% gc time)\n",
      "next time unit is 1.65\n",
      " 11.028852 seconds (88.55 M allocations: 16.164 GiB, 22.59% gc time)\n",
      "next time unit is 1.66\n",
      " 11.096557 seconds (88.55 M allocations: 16.164 GiB, 22.63% gc time)\n",
      "next time unit is 1.67\n",
      " 11.299252 seconds (88.55 M allocations: 16.164 GiB, 23.73% gc time)\n",
      "next time unit is 1.68\n",
      " 11.199993 seconds (88.55 M allocations: 16.164 GiB, 22.87% gc time)\n",
      "next time unit is 1.69\n",
      " 11.214960 seconds (88.55 M allocations: 16.164 GiB, 22.82% gc time)\n",
      "next time unit is 1.7\n",
      " 11.216117 seconds (88.55 M allocations: 16.164 GiB, 22.94% gc time)\n",
      "next time unit is 1.71\n",
      " 11.485212 seconds (88.55 M allocations: 16.164 GiB, 23.94% gc time)\n",
      "next time unit is 1.72\n",
      " 11.248046 seconds (88.55 M allocations: 16.164 GiB, 22.85% gc time)\n",
      "next time unit is 1.73\n",
      " 11.236562 seconds (88.55 M allocations: 16.164 GiB, 22.96% gc time)\n",
      "next time unit is 1.74\n",
      " 11.274944 seconds (88.55 M allocations: 16.164 GiB, 23.00% gc time)\n",
      "next time unit is 1.75\n",
      " 11.450319 seconds (88.55 M allocations: 16.164 GiB, 23.79% gc time)\n",
      "next time unit is 1.76\n",
      " 11.238419 seconds (88.55 M allocations: 16.164 GiB, 22.84% gc time)\n",
      "next time unit is 1.77\n"
     ]
    },
    {
     "name": "stdout",
     "output_type": "stream",
     "text": [
      " 11.246693 seconds (88.55 M allocations: 16.164 GiB, 22.98% gc time)\n",
      "next time unit is 1.78\n",
      " 11.262553 seconds (88.55 M allocations: 16.164 GiB, 22.71% gc time)\n",
      "next time unit is 1.79\n",
      " 11.221262 seconds (88.55 M allocations: 16.164 GiB, 23.60% gc time)\n",
      "next time unit is 1.8\n",
      " 11.246495 seconds (88.55 M allocations: 16.164 GiB, 22.92% gc time)\n",
      "next time unit is 1.81\n",
      " 11.319691 seconds (88.55 M allocations: 16.164 GiB, 22.90% gc time)\n",
      "next time unit is 1.82\n",
      " 11.467674 seconds (88.55 M allocations: 16.164 GiB, 24.07% gc time)\n",
      "next time unit is 1.83\n",
      " 11.017392 seconds (88.55 M allocations: 16.164 GiB, 22.49% gc time)\n",
      "next time unit is 1.84\n",
      " 11.055899 seconds (88.55 M allocations: 16.164 GiB, 22.65% gc time)\n",
      "next time unit is 1.85\n",
      " 11.088040 seconds (88.55 M allocations: 16.164 GiB, 22.75% gc time)\n",
      "next time unit is 1.86\n",
      " 11.326810 seconds (88.55 M allocations: 16.164 GiB, 23.96% gc time)\n",
      "next time unit is 1.87\n",
      " 11.227250 seconds (88.55 M allocations: 16.164 GiB, 22.85% gc time)\n",
      "next time unit is 1.8800000000000001\n",
      " 11.226771 seconds (88.55 M allocations: 16.164 GiB, 22.83% gc time)\n",
      "next time unit is 1.89\n",
      " 11.248669 seconds (88.55 M allocations: 16.164 GiB, 22.97% gc time)\n",
      "next time unit is 1.9\n",
      " 11.477689 seconds (88.55 M allocations: 16.164 GiB, 23.81% gc time)\n",
      "next time unit is 1.91\n",
      " 11.231004 seconds (88.55 M allocations: 16.164 GiB, 22.79% gc time)\n",
      "next time unit is 1.92\n",
      " 11.367303 seconds (88.55 M allocations: 16.164 GiB, 22.89% gc time)\n",
      "next time unit is 1.93\n",
      " 11.249100 seconds (88.55 M allocations: 16.164 GiB, 23.06% gc time)\n",
      "next time unit is 1.94\n",
      " 11.271080 seconds (88.55 M allocations: 16.164 GiB, 23.74% gc time)\n",
      "next time unit is 1.95\n",
      " 11.099253 seconds (88.55 M allocations: 16.164 GiB, 22.43% gc time)\n",
      "next time unit is 1.96\n",
      " 11.065515 seconds (88.55 M allocations: 16.164 GiB, 22.67% gc time)\n",
      "next time unit is 1.97\n",
      " 11.083744 seconds (88.55 M allocations: 16.164 GiB, 22.67% gc time)\n",
      "next time unit is 1.98\n",
      " 11.270695 seconds (88.55 M allocations: 16.164 GiB, 23.58% gc time)\n",
      "next time unit is 1.99\n",
      " 11.242971 seconds (88.55 M allocations: 16.164 GiB, 22.89% gc time)\n",
      "next time unit is 2.0\n",
      " 11.232505 seconds (88.55 M allocations: 16.164 GiB, 22.92% gc time)\n",
      "next time unit is 2.01\n",
      "2259.203213 seconds (17.71 G allocations: 3.157 TiB, 23.23% gc time)\n"
     ]
    }
   ],
   "source": [
    "@time for t in T\n",
    "    \n",
    "    @time t, (w, f), (qJ, v, λ), bd = ifherk_coupled(t, w, qJ, v, bd,fsys)\n",
    "#     t, (w, f), (qJ, v, λ), bd = ifherk_coupled(t, w, qJ, v, bd,fsys)\n",
    "    \n",
    "    push!(thist,t)\n",
    "    push!(fx,sum(f.u)*Δx^2)\n",
    "    push!(fy,sum(f.v)*Δx^2)\n",
    "    push!(whist,deepcopy(w))\n",
    "    push!(bdhist,deepcopy(bd))\n",
    "    println(\"next time unit is \",t)\n",
    "end"
   ]
  },
  {
   "cell_type": "markdown",
   "metadata": {},
   "source": [
    "## <span style=\"color:blue\"> Plot </span>"
   ]
  },
  {
   "cell_type": "markdown",
   "metadata": {},
   "source": [
    "#### Get body verts history"
   ]
  },
  {
   "cell_type": "code",
   "execution_count": 127,
   "metadata": {},
   "outputs": [],
   "source": [
    "# get verts info based on this regular grid solution\n",
    "vshist = []\n",
    "for i = 1:length(bdhist)\n",
    "    @get bdhist[i] (bs, js, sys)\n",
    "    push!(vshist, VertsHistory(sys.nbody, bs))\n",
    "end"
   ]
  },
  {
   "cell_type": "markdown",
   "metadata": {},
   "source": [
    "#### Plot first and last time field"
   ]
  },
  {
   "cell_type": "code",
   "execution_count": 136,
   "metadata": {},
   "outputs": [
    {
     "data": {
      "image/png": "[encoded data removed]"
     },
     "execution_count": 136,
     "metadata": {},
     "output_type": "execute_result"
    }
   ],
   "source": [
    "p = plot(xg,yg,whist[1],levels=linspace(-0.2,0.2,30))\n",
    "for i = 1:bd.sys.nbody\n",
    "    plot!(p,vshist[1][i,2:3,1], vshist[1][i,2:3,2],linewidth=2,linecolor=\"grey\")\n",
    "end\n",
    "p"
   ]
  },
  {
   "cell_type": "code",
   "execution_count": 129,
   "metadata": {},
   "outputs": [
    {
     "data": {
      "image/png": "[encoded data removed]"
     },
     "execution_count": 129,
     "metadata": {},
     "output_type": "execute_result"
    }
   ],
   "source": [
    "p = plot(xg,yg,whist[end],levels=linspace(-0.2,0.2,30))\n",
    "for i = 1:bd.sys.nbody\n",
    "    plot!(p,vshist[end][i,2:3,1], vshist[end][i,2:3,2],linewidth=2,linecolor=\"grey\")\n",
    "end\n",
    "p"
   ]
  },
  {
   "cell_type": "markdown",
   "metadata": {},
   "source": [
    "#### Body position begining and end"
   ]
  },
  {
   "cell_type": "code",
   "execution_count": 130,
   "metadata": {},
   "outputs": [
    {
     "data": {
      "image/png": "[encoded data removed]"
     },
     "execution_count": 130,
     "metadata": {},
     "output_type": "execute_result"
    }
   ],
   "source": [
    "pb = plot()\n",
    "for i = 1:sys.nbody\n",
    "    plot!(pb,vshist[1][i,2:3,1], vshist[1][i,2:3,2],linewidth=2,linecolor=\"grey\",label=\"begin\")\n",
    "end\n",
    "for i = 1:sys.nbody\n",
    "    plot!(pb,vshist[end][i,2:3,1], vshist[end][i,2:3,2],linewidth=2,linecolor=\"red\",label=\"end\")\n",
    "end\n",
    "plot!(pb,xlims=(xg[1],xg[end]), ylims=(yg[1],yg[end]))\n",
    "pb"
   ]
  },
  {
   "cell_type": "markdown",
   "metadata": {},
   "source": [
    "#### Make gif"
   ]
  },
  {
   "cell_type": "code",
   "execution_count": 135,
   "metadata": {},
   "outputs": [
    {
     "name": "stderr",
     "output_type": "stream",
     "text": [
      "\u001b[1m\u001b[36mINFO: \u001b[39m\u001b[22m\u001b[36mSaved animation to /media/ruizhi/Seagate Expansion Drive/Research/FSI.jl/examples/FSI_2dFreeFall.gif\n",
      "\u001b[39m"
     ]
    },
    {
     "data": {
      "text/html": [
       "<img src=\"FSI_2dFreeFall.gif?0.5648077586024589>\" />"
      ],
      "text/plain": [
       "Plots.AnimatedGif(\"/media/ruizhi/Seagate Expansion Drive/Research/FSI.jl/examples/FSI_2dFreeFall.gif\")"
      ]
     },
     "execution_count": 135,
     "metadata": {},
     "output_type": "execute_result"
    }
   ],
   "source": [
    "anim = @animate for j = 1:length(whist)\n",
    "    plot(xg,yg,whist[j],levels=linspace(-0.2,0.2,30))\n",
    "    for i = 1:sys.nbody\n",
    "        plot!(vshist[j][i,2:3,1], vshist[j][i,2:3,2],linewidth=2,linecolor=\"grey\")\n",
    "    end\n",
    "end\n",
    "\n",
    "gif(anim, filename*\".gif\", fps = 40)"
   ]
  },
  {
   "cell_type": "code",
   "execution_count": 132,
   "metadata": {},
   "outputs": [
    {
     "data": {
      "image/png": "[encoded data removed]"
     },
     "execution_count": 132,
     "metadata": {},
     "output_type": "execute_result"
    }
   ],
   "source": [
    "px = plot(thist,2*fx,ylim=(-1,1),xlabel=\"Convective time\",ylabel=\"\\$C_D\\$\",legend=false)\n",
    "py = plot(thist,2*fy,ylim=(0,2),xlabel=\"Convective time\",ylabel=\"\\$C_L\\$\",legend=false)\n",
    "plot(px,py)"
   ]
  },
  {
   "cell_type": "markdown",
   "metadata": {},
   "source": [
    "## <span style=\"color:blue\"> Save Data </span>"
   ]
  },
  {
   "cell_type": "markdown",
   "metadata": {},
   "source": [
    "#### Save all current data related to plotting to a .jld file"
   ]
  },
  {
   "cell_type": "code",
   "execution_count": 133,
   "metadata": {},
   "outputs": [],
   "source": [
    "using JLD\n",
    "save(filename*\".jld\",\n",
    "    \"bd\", bd,    \n",
    "    \"bdhist\", bdhist,\n",
    "    \"xg\", xg,\n",
    "    \"yg\", yg,\n",
    "    \"whist\", whist,\n",
    "    \"vshist\", vshist,\n",
    "    \"thist\", thist,\n",
    "    \"fx\", fx,\n",
    "    \"fy\", fy,\n",
    ")"
   ]
  },
  {
   "cell_type": "markdown",
   "metadata": {},
   "source": [
    "#### Use the following block to extract data"
   ]
  },
  {
   "cell_type": "code",
   "execution_count": 134,
   "metadata": {},
   "outputs": [],
   "source": [
    "# using JLD\n",
    "\n",
    "# d = load(filename*\".jld\")\n",
    "# thist = d[\"thist\"]\n",
    "# fx = d[\"fx\"]\n",
    "# fy = d[\"fy\"]\n",
    "# xg = d[\"xg\"]\n",
    "# yg = d[\"yg\"]\n",
    "# vshist = d[\"vshist\"]\n",
    "# whist = d[\"whist\"]\n",
    "# bd = d[\"bd\"]\n",
    "# bdhist = d[\"bdhist\"]\n",
    "\n",
    "# @get bd (bs,js,sys);"
   ]
  }
 ],
 "metadata": {
  "kernelspec": {
   "display_name": "Julia 0.6.2",
   "language": "julia",
   "name": "julia-0.6"
  },
  "language_info": {
   "file_extension": ".jl",
   "mimetype": "application/julia",
   "name": "julia",
   "version": "0.6.2"
  }
 },
 "nbformat": 4,
 "nbformat_minor": 2
}
