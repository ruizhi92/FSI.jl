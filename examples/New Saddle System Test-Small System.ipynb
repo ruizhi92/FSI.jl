{
 "cells": [
  {
   "cell_type": "code",
   "execution_count": 1,
   "metadata": {
    "scrolled": false
   },
   "outputs": [
    {
     "name": "stderr",
     "output_type": "stream",
     "text": [
      "┌ Info: Recompiling stale cache file /home/fs/.julia/compiled/v1.0/FSI/t27zx.ji for FSI [39fdbc7a-862a-11e9-015b-61723af7393f]\n",
      "└ @ Base loading.jl:1190\n"
     ]
    }
   ],
   "source": [
    "using Revise\n",
    "\n",
    "using Pkg\n",
    "Pkg.activate(\"..\")\n",
    "using FSI\n",
    "\n",
    "using LinearAlgebra"
   ]
  },
  {
   "cell_type": "code",
   "execution_count": 2,
   "metadata": {},
   "outputs": [],
   "source": [
    "# construct a random block system\n",
    "A = rand(2,2)\n",
    "A⁻¹ = inv(A)\n",
    "B₁ᵀ = rand(2,2)\n",
    "B₂ = rand(2,2)\n",
    "M = rand(2,2)\n",
    "M⁻¹ = inv(M)\n",
    "G₁ᵀ = rand(2,2)\n",
    "G₂ = rand(2,2)\n",
    "T₁ᵀ = rand(2,2)\n",
    "T₂ = rand(2,2)\n",
    "O32 = zeros(2,2)\n",
    "O23 = zeros(2,2)\n",
    "O22 = zeros(2,2)\n",
    "# S = [A O32 B₁ᵀ O32; O23 M T₁ᵀ G₁ᵀ; B₂ -T₂ O22 O22; O23 G₂ O22 O22]\n",
    "S = [A B₁ᵀ O32 O32; B₂ O22 -T₂ O22; O23 T₁ᵀ M G₁ᵀ; O23 O22 G₂ O22]\n",
    "\n",
    "rċ = rand(2)\n",
    "rf = rand(2)\n",
    "ru̇ = rand(2)\n",
    "rλ = rand(2)\n",
    "b = [rċ;rf;ru̇;rλ];\n",
    "b1 = [rċ;rf]\n",
    "b2 = [ru̇;rλ];"
   ]
  },
  {
   "cell_type": "code",
   "execution_count": 3,
   "metadata": {
    "scrolled": false
   },
   "outputs": [
    {
     "data": {
      "text/plain": [
       "Saddle system with 2 constraints on fluid and 2 constraints on body\n",
       "   Fluid state of type Array{Float64,1}\n",
       "   Fluid force of type Array{Float64,1}\n",
       "   Body state of type Array{Float64,1}\n",
       "   Joint force of type Array{Float64,1}\n"
      ]
     },
     "execution_count": 3,
     "metadata": {},
     "output_type": "execute_result"
    }
   ],
   "source": [
    "# construct saddle point system\n",
    "ċ = zeros(2)\n",
    "f = zeros(2)\n",
    "u̇ = zeros(2)\n",
    "λ = zeros(2)\n",
    "St = SaddleSystem1d((ċ, f, u̇, λ), (A⁻¹, B₁ᵀ, B₂),\n",
    "                  (M, G₁ᵀ, G₂), (x->T₁ᵀ*x, x->T₂*x))"
   ]
  },
  {
   "cell_type": "code",
   "execution_count": 4,
   "metadata": {},
   "outputs": [
    {
     "data": {
      "text/plain": [
       "8-element Array{Float64,1}:\n",
       "  -0.24225919817874653\n",
       "   0.06659768237625463\n",
       "  -2.3570372557375325 \n",
       "   2.8050319134947452 \n",
       "   1.622365693468431  \n",
       "  -1.0662224678098442 \n",
       " -13.757887704711502  \n",
       "   7.511000633280043  "
      ]
     },
     "execution_count": 4,
     "metadata": {},
     "output_type": "execute_result"
    }
   ],
   "source": [
    "bt = (rċ, rf, ru̇, rλ);\n",
    "aa,bb,cc,dd = St\\bt\n",
    "x = [aa;bb;cc;dd]"
   ]
  },
  {
   "cell_type": "code",
   "execution_count": 5,
   "metadata": {},
   "outputs": [
    {
     "data": {
      "text/plain": [
       "8-element Array{Float64,1}:\n",
       "  -0.2422591981787409 \n",
       "   0.06659768237624987\n",
       "  -2.3570372557375334 \n",
       "   2.805031913494745  \n",
       "   1.622365693468431  \n",
       "  -1.0662224678098442 \n",
       " -13.757887704711504  \n",
       "   7.511000633280049  "
      ]
     },
     "execution_count": 5,
     "metadata": {},
     "output_type": "execute_result"
    }
   ],
   "source": [
    "S\\b"
   ]
  },
  {
   "cell_type": "markdown",
   "metadata": {},
   "source": [
    "### check step 1"
   ]
  },
  {
   "cell_type": "code",
   "execution_count": 6,
   "metadata": {},
   "outputs": [
    {
     "data": {
      "text/plain": [
       "4-element Array{Float64,1}:\n",
       "   0.573285065650858 \n",
       "   0.7952643222161414\n",
       " -13.245053911422001 \n",
       "  10.40930297665247  "
      ]
     },
     "execution_count": 6,
     "metadata": {},
     "output_type": "execute_result"
    }
   ],
   "source": [
    "x1 = [A B₁ᵀ;B₂ O22]\\b1\n",
    "# norm([A B₁ᵀ;B₂ O22]*x1 - [rċ;rf])"
   ]
  },
  {
   "cell_type": "code",
   "execution_count": 7,
   "metadata": {},
   "outputs": [
    {
     "data": {
      "text/plain": [
       "([0.573285, 0.795264], [-13.2451, 10.4093])"
      ]
     },
     "execution_count": 7,
     "metadata": {},
     "output_type": "execute_result"
    }
   ],
   "source": [
    "using ImportMacros\n",
    "@import ViscousFlow.SaddlePointSystems as Sad\n",
    "\n",
    "Sf = Sad.SaddleSystem((ċ,f),(A⁻¹,B₁ᵀ,B₂),tol=1e-3,\n",
    "            issymmetric=false,isposdef=true,store=true,precompile=true)\n",
    "qq,ww = Sf\\(b1[1:2], b1[3:4])"
   ]
  },
  {
   "cell_type": "markdown",
   "metadata": {},
   "source": [
    "### check step 2"
   ]
  },
  {
   "cell_type": "code",
   "execution_count": 8,
   "metadata": {},
   "outputs": [
    {
     "data": {
      "text/plain": [
       "2×2 Array{Float64,2}:\n",
       " 12.8929    0.410464\n",
       " -8.86261  -0.454672"
      ]
     },
     "execution_count": 8,
     "metadata": {},
     "output_type": "execute_result"
    }
   ],
   "source": [
    "inv(B₂*A⁻¹*B₁ᵀ)"
   ]
  },
  {
   "cell_type": "code",
   "execution_count": 9,
   "metadata": {},
   "outputs": [
    {
     "data": {
      "text/plain": [
       "4-element Array{Float64,1}:\n",
       "   1.6223656934684283\n",
       "  -1.0662224678098442\n",
       " -13.757887704711464 \n",
       "   7.511000633280021 "
      ]
     },
     "execution_count": 9,
     "metadata": {},
     "output_type": "execute_result"
    }
   ],
   "source": [
    "ee = [M-T₁ᵀ*inv(B₂*A⁻¹*B₁ᵀ)*T₂ G₁ᵀ;G₂ O22]\\[b2[1:2]-T₁ᵀ*ww;b2[3:4]]"
   ]
  },
  {
   "cell_type": "markdown",
   "metadata": {},
   "source": [
    "### check step 3"
   ]
  },
  {
   "cell_type": "code",
   "execution_count": 10,
   "metadata": {},
   "outputs": [
    {
     "data": {
      "text/plain": [
       "2-element Array{Float64,1}:\n",
       " -0.2422591981787403 \n",
       "  0.06659768237625352"
      ]
     },
     "execution_count": 10,
     "metadata": {},
     "output_type": "execute_result"
    }
   ],
   "source": [
    "ċ = qq + A⁻¹*B₁ᵀ*inv(B₂*A⁻¹*B₁ᵀ)*T₂*ee[1:2]"
   ]
  },
  {
   "cell_type": "code",
   "execution_count": 11,
   "metadata": {},
   "outputs": [
    {
     "data": {
      "text/plain": [
       "2-element Array{Float64,1}:\n",
       " 10.888016655684464\n",
       " -7.60427106315772 "
      ]
     },
     "execution_count": 11,
     "metadata": {},
     "output_type": "execute_result"
    }
   ],
   "source": [
    "f = f - inv(B₂*A⁻¹*B₁ᵀ)*T₂*ee[1:2]"
   ]
  }
 ],
 "metadata": {
  "@webio": {
   "lastCommId": null,
   "lastKernelId": null
  },
  "kernelspec": {
   "display_name": "Julia 1.0.4",
   "language": "julia",
   "name": "julia-1.0"
  },
  "language_info": {
   "file_extension": ".jl",
   "mimetype": "application/julia",
   "name": "julia",
   "version": "1.0.4"
  }
 },
 "nbformat": 4,
 "nbformat_minor": 2
}
