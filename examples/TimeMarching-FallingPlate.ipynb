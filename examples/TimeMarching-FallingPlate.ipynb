{
 "cells": [
  {
   "cell_type": "markdown",
   "metadata": {},
   "source": [
    "# FSI problem"
   ]
  },
  {
   "cell_type": "markdown",
   "metadata": {},
   "source": [
    "### This is a FSI problem of 1-D falling plate in quiscent flow."
   ]
  },
  {
   "cell_type": "code",
   "execution_count": 1,
   "metadata": {},
   "outputs": [],
   "source": [
    "using Pkg\n",
    "Pkg.activate(\"..\")\n",
    "using FSI"
   ]
  },
  {
   "cell_type": "code",
   "execution_count": 2,
   "metadata": {},
   "outputs": [],
   "source": [
    "using Revise\n",
    "using BSON: @save, @load\n",
    "\n",
    "using Plots\n",
    "pyplot()\n",
    "clibrary(:colorbrewer)\n",
    "default(grid = false)"
   ]
  },
  {
   "cell_type": "code",
   "execution_count": 3,
   "metadata": {},
   "outputs": [],
   "source": [
    "filename = \"FallingPlate\";"
   ]
  },
  {
   "cell_type": "markdown",
   "metadata": {},
   "source": [
    "## <span style=\"color:blue\"> Set up rigid body with Dyn3d"
   ]
  },
  {
   "cell_type": "markdown",
   "metadata": {},
   "source": [
    "#### Include any joint-body setup script from Dyn3d"
   ]
  },
  {
   "cell_type": "code",
   "execution_count": 4,
   "metadata": {},
   "outputs": [
    {
     "data": {
      "text/plain": [
       " joint type = custom_prismatic_in_y\n",
       " joint position in parent body coord = [0.0, 0.0, 0.0, 0.5, 2.5, 0.0]\n",
       " joint position in child body coord = [0.0, 0.0, 0.0, 0.0, 0.0, 0.0]\n",
       " joint unconstrained dof = 5, under passive motion\n",
       " initial unconstrained dof position = [0.0]\n"
      ]
     },
     "execution_count": 4,
     "metadata": {},
     "output_type": "execute_result"
    }
   ],
   "source": [
    "# problem dimension\n",
    "ndim = 2\n",
    "# numerical params\n",
    "tf = 6\n",
    "dt = 1e-3\n",
    "scheme = \"Liska\"\n",
    "st = 3\n",
    "tol = 1e-4\n",
    "num_params = NumParams(tf, dt, scheme, st, tol)\n",
    "# gravity\n",
    "gravity = [0., -1.0, 0.]\n",
    "\n",
    "# set up system config info\n",
    "config_system = ConfigSystem(ndim, gravity, num_params)\n",
    "\n",
    "# set up bodys\n",
    "nbody = 1\n",
    "config_body = ConfigBody(nbody, 4,\n",
    "   [0. 0.; 1. 0.; 1. 1.0/nbody; 0. 1.0/nbody], 2.0)\n",
    "config_bodys = fill(config_body, nbody)\n",
    "\n",
    "# set up joints\n",
    "njoint = nbody\n",
    "\n",
    "config_joints = Vector{ConfigJoint}(undef,njoint)\n",
    "\n",
    "# set the first passive joint with no stiff and damp\n",
    "dof_1 = Dof(5, \"passive\", 0., 0., Motions())\n",
    "\n",
    "config_joints[1] = ConfigJoint(njoint, \"custom_prismatic_in_y\",\n",
    "    [0.,0.,0.,0.5,2.5,0.], zeros(Float64,6), 0, [dof_1], [0.])"
   ]
  },
  {
   "cell_type": "markdown",
   "metadata": {},
   "source": [
    "#### Build joint-body chain"
   ]
  },
  {
   "cell_type": "code",
   "execution_count": 5,
   "metadata": {},
   "outputs": [
    {
     "data": {
      "text/plain": []
     },
     "execution_count": 5,
     "metadata": {},
     "output_type": "execute_result"
    },
    {
     "name": "stdout",
     "output_type": "stream",
     "text": [
      "This is a 1 body-joint system, system is un-mounted from space"
     ]
    }
   ],
   "source": [
    "bs, js, bsys = BuildChain(config_bodys, config_joints, config_system)\n",
    "bd = BodyDyn(bs, js, bsys)"
   ]
  },
  {
   "cell_type": "markdown",
   "metadata": {},
   "source": [
    "#### Initialize rigid body system state to complete body-joint information"
   ]
  },
  {
   "cell_type": "code",
   "execution_count": 6,
   "metadata": {},
   "outputs": [],
   "source": [
    "bd, soln₀ = InitSystem!(bd);"
   ]
  },
  {
   "cell_type": "markdown",
   "metadata": {},
   "source": [
    "#### Initialize u and λ container"
   ]
  },
  {
   "cell_type": "code",
   "execution_count": 7,
   "metadata": {},
   "outputs": [],
   "source": [
    "qJ = soln₀.qJ\n",
    "v = soln₀.v\n",
    "λ_dim = bd.sys.ncdof_HERK\n",
    "λ = zeros(Float64,λ_dim);"
   ]
  },
  {
   "cell_type": "markdown",
   "metadata": {},
   "source": [
    "#### Get body verts for plotting"
   ]
  },
  {
   "cell_type": "code",
   "execution_count": 8,
   "metadata": {},
   "outputs": [],
   "source": [
    "@get bd (bs, js, sys)\n",
    "bs, js, sys = UpdatePosition!(bs, js, sys, soln₀.qJ)\n",
    "vs₀ = VertsHistory(sys.nbody, bs);"
   ]
  },
  {
   "cell_type": "markdown",
   "metadata": {},
   "source": [
    "#### Plot body only"
   ]
  },
  {
   "cell_type": "code",
   "execution_count": 9,
   "metadata": {
    "scrolled": false
   },
   "outputs": [
    {
     "data": {
      "image/png": "[encoded data removed]"
     },
     "execution_count": 9,
     "metadata": {},
     "output_type": "execute_result"
    }
   ],
   "source": [
    "p = plot()\n",
    "for i = 1:sys.nbody\n",
    "    plot!(p,vs₀[i,2:3,1], vs₀[i,2:3,2],linewidth=2)\n",
    "end\n",
    "plot!(xlims=(0,2), ylims=(0,3))"
   ]
  },
  {
   "cell_type": "markdown",
   "metadata": {},
   "source": [
    "## <span style=\"color:blue\"> Set up fluid with Whirl </span>"
   ]
  },
  {
   "cell_type": "markdown",
   "metadata": {},
   "source": [
    "#### Set the flow parameters"
   ]
  },
  {
   "cell_type": "code",
   "execution_count": 10,
   "metadata": {},
   "outputs": [
    {
     "data": {
      "text/plain": [
       "(0.0, 0.0)"
      ]
     },
     "execution_count": 10,
     "metadata": {},
     "output_type": "execute_result"
    }
   ],
   "source": [
    "Re = 200 # Reynolds number\n",
    "U = 0.0 # Free stream velocity\n",
    "U∞ = (0.0, U)"
   ]
  },
  {
   "cell_type": "markdown",
   "metadata": {},
   "source": [
    "#### Set the domain grid"
   ]
  },
  {
   "cell_type": "code",
   "execution_count": 11,
   "metadata": {},
   "outputs": [
    {
     "data": {
      "text/plain": [
       "(-0.01:0.02:2.0100000000000002, -0.01:0.02:3.0100000000000002)"
      ]
     },
     "execution_count": 11,
     "metadata": {},
     "output_type": "execute_result"
    }
   ],
   "source": [
    "nx = 102; ny = 152;\n",
    "Ly = 3.0;\n",
    "Δx = Ly/(ny-2);\n",
    "Δt = min(0.5*Δx,0.5*Δx^2*Re)\n",
    "w₀ = Nodes(Dual,(nx,ny))\n",
    "xg, yg = coordinates(w₀,dx=Δx)"
   ]
  },
  {
   "cell_type": "markdown",
   "metadata": {},
   "source": [
    "#### Set up fluid initial conditions"
   ]
  },
  {
   "cell_type": "code",
   "execution_count": 12,
   "metadata": {},
   "outputs": [],
   "source": [
    "w₀ .= 0.0;\n",
    "w = deepcopy(w₀);"
   ]
  },
  {
   "cell_type": "markdown",
   "metadata": {},
   "source": [
    "## <span style=\"color:blue\"> Create fluid-body interface </span>"
   ]
  },
  {
   "cell_type": "markdown",
   "metadata": {},
   "source": [
    "#### Genrate body grid points and get linear velocity on them"
   ]
  },
  {
   "cell_type": "code",
   "execution_count": 13,
   "metadata": {
    "scrolled": true
   },
   "outputs": [],
   "source": [
    "# bgs short for body grid system\n",
    "bgs = GenerateBodyGrid(bd; np=DetermineNP(nbody, Δx))\n",
    "bgs = CutOut2d(bd,bgs);"
   ]
  },
  {
   "cell_type": "markdown",
   "metadata": {},
   "source": [
    "#### Get body points initial coordinates for fluids"
   ]
  },
  {
   "cell_type": "code",
   "execution_count": 14,
   "metadata": {},
   "outputs": [],
   "source": [
    "bgs = AcquireBodyGridKinematics(bd,bgs)\n",
    "coord_init = hcat(bgs[1].q_i...)'[:,[1,2]]\n",
    "for i = 2:length(bgs)\n",
    "    coord_init = [coord_init[1:end-1,:]; hcat(bgs[i].q_i...)'[:,[1,2]]]\n",
    "end"
   ]
  },
  {
   "cell_type": "markdown",
   "metadata": {},
   "source": [
    "#### Set up body grid points and force container in fluid"
   ]
  },
  {
   "cell_type": "code",
   "execution_count": 15,
   "metadata": {},
   "outputs": [],
   "source": [
    "X̃ = VectorData(coord_init)\n",
    "f = VectorData(X̃);"
   ]
  },
  {
   "cell_type": "markdown",
   "metadata": {},
   "source": [
    "#### Create fluidstruct structure"
   ]
  },
  {
   "cell_type": "code",
   "execution_count": 16,
   "metadata": {},
   "outputs": [
    {
     "data": {
      "text/plain": [
       "51"
      ]
     },
     "execution_count": 16,
     "metadata": {},
     "output_type": "execute_result"
    }
   ],
   "source": [
    "tf = 30Δt\n",
    "T = Δt:Δt:tf\n",
    "fsys = FluidStruct((nx,ny),Re,Δx,Δt,U∞ = U∞, X̃ = X̃, rk=RK31)\n",
    "N = length(X̃)÷2"
   ]
  },
  {
   "cell_type": "markdown",
   "metadata": {},
   "source": [
    "## <span style=\"color:blue\"> Create ifherk object </span>"
   ]
  },
  {
   "cell_type": "markdown",
   "metadata": {},
   "source": [
    "#### pretend that this thin body has finite volume for buoyancy"
   ]
  },
  {
   "cell_type": "code",
   "execution_count": 17,
   "metadata": {},
   "outputs": [],
   "source": [
    "function TimeMarching.F(bd::BodyDyn)\n",
    "    f_exi = zeros(Float64,bd.sys.nbody,6)\n",
    "    return HERKFuncf(bd.bs, bd.js, bd.sys, f_exi)\n",
    "end"
   ]
  },
  {
   "cell_type": "code",
   "execution_count": 18,
   "metadata": {},
   "outputs": [
    {
     "name": "stdout",
     "output_type": "stream",
     "text": [
      "  8.658943 seconds (73.81 M allocations: 2.457 GiB, 7.14% gc time)\n"
     ]
    },
    {
     "data": {
      "text/plain": [
       "Stage-3+ IF-HERK integrator with\n",
       "   Time step size 0.01\n"
      ]
     },
     "execution_count": 18,
     "metadata": {},
     "output_type": "execute_result"
    }
   ],
   "source": [
    "@time ifherk_coupled = FSI.IFHERK_coupled(fsys.Δt,bd,bgs,(w₀,qJ,v,f,λ),\n",
    "                ((t,u) -> Systems.plan_intfact(t,u,fsys), B₁ᵀ, B₂),\n",
    "                (M⁻¹, G₁ᵀ, G₂, UpP, UpV),\n",
    "                ((bd,bgs,f) -> T₁ᵀ(bd,bgs,f,fsys.Δx), (bd,bgs,u) -> T₂(bd,bgs,u), (bd,bgs) -> getX̃(bd,bgs)),\n",
    "                ((w,t) -> r₁(w,t,fsys), F, w -> U_inf(w,fsys), gti),\n",
    "                fsys, tol=1e-3,rk=TimeMarching.RK31)"
   ]
  },
  {
   "cell_type": "code",
   "execution_count": 19,
   "metadata": {},
   "outputs": [],
   "source": [
    "fx = Float64[]\n",
    "fy = Float64[]\n",
    "thist = []\n",
    "t = 0.0\n",
    "whist = []\n",
    "bdhist = BodyDyn[];"
   ]
  },
  {
   "cell_type": "markdown",
   "metadata": {},
   "source": [
    "## <span style=\"color:blue\"> TimeMarching! </span>"
   ]
  },
  {
   "cell_type": "code",
   "execution_count": 20,
   "metadata": {
    "scrolled": true
   },
   "outputs": [
    {
     "name": "stdout",
     "output_type": "stream",
     "text": [
      "  5.904773 seconds (61.33 M allocations: 1.868 GiB, 6.91% gc time)\n",
      "next time unit is 0.01\n",
      "data saved at time 0.01\n",
      "  4.533550 seconds (58.03 M allocations: 1.710 GiB, 9.07% gc time)\n",
      "next time unit is 0.02\n",
      "  4.335859 seconds (58.03 M allocations: 1.710 GiB, 6.51% gc time)\n",
      "next time unit is 0.03\n",
      "  4.312131 seconds (58.03 M allocations: 1.710 GiB, 6.57% gc time)\n",
      "next time unit is 0.04\n",
      "  4.329429 seconds (58.03 M allocations: 1.710 GiB, 6.57% gc time)\n",
      "next time unit is 0.05\n",
      "  4.360876 seconds (58.03 M allocations: 1.710 GiB, 6.63% gc time)\n",
      "next time unit is 0.06\n",
      "  4.363497 seconds (58.03 M allocations: 1.710 GiB, 6.67% gc time)\n",
      "next time unit is 0.07\n",
      "  4.477256 seconds (58.03 M allocations: 1.710 GiB, 6.79% gc time)\n",
      "next time unit is 0.08\n",
      "  4.420622 seconds (58.03 M allocations: 1.710 GiB, 6.76% gc time)\n",
      "next time unit is 0.09\n",
      "  4.740044 seconds (58.03 M allocations: 1.710 GiB, 6.61% gc time)\n",
      "next time unit is 0.1\n",
      "  4.335270 seconds (58.03 M allocations: 1.710 GiB, 6.75% gc time)\n",
      "next time unit is 0.11\n",
      "  4.344088 seconds (58.03 M allocations: 1.710 GiB, 6.69% gc time)\n",
      "next time unit is 0.12\n",
      "  4.671102 seconds (58.03 M allocations: 1.710 GiB, 8.54% gc time)\n",
      "next time unit is 0.13\n",
      "  4.566436 seconds (58.03 M allocations: 1.710 GiB, 6.50% gc time)\n",
      "next time unit is 0.14\n",
      "  4.575153 seconds (58.03 M allocations: 1.710 GiB, 6.63% gc time)\n",
      "next time unit is 0.15\n",
      "  4.563433 seconds (58.03 M allocations: 1.710 GiB, 6.67% gc time)\n",
      "next time unit is 0.16\n",
      "  4.561735 seconds (58.03 M allocations: 1.710 GiB, 6.62% gc time)\n",
      "next time unit is 0.17\n",
      "  4.575763 seconds (58.03 M allocations: 1.710 GiB, 6.78% gc time)\n",
      "next time unit is 0.18\n",
      "  4.585780 seconds (58.03 M allocations: 1.710 GiB, 6.65% gc time)\n",
      "next time unit is 0.19\n",
      "  4.582237 seconds (58.03 M allocations: 1.710 GiB, 6.72% gc time)\n",
      "next time unit is 0.2\n",
      "  4.542755 seconds (58.03 M allocations: 1.710 GiB, 6.78% gc time)\n",
      "next time unit is 0.21\n",
      "  4.614610 seconds (58.03 M allocations: 1.710 GiB, 6.88% gc time)\n",
      "next time unit is 0.22\n",
      "  4.650893 seconds (58.03 M allocations: 1.710 GiB, 6.82% gc time)\n",
      "next time unit is 0.23\n",
      "  4.665168 seconds (58.03 M allocations: 1.710 GiB, 6.76% gc time)\n",
      "next time unit is 0.24\n",
      "  4.734816 seconds (58.03 M allocations: 1.710 GiB, 8.42% gc time)\n",
      "next time unit is 0.25\n",
      "  4.616128 seconds (58.03 M allocations: 1.710 GiB, 6.63% gc time)\n",
      "next time unit is 0.26\n",
      "  4.554787 seconds (58.03 M allocations: 1.710 GiB, 6.50% gc time)\n",
      "next time unit is 0.27\n",
      "  4.489710 seconds (58.03 M allocations: 1.710 GiB, 6.62% gc time)\n",
      "next time unit is 0.28\n",
      "  4.601417 seconds (58.03 M allocations: 1.710 GiB, 6.72% gc time)\n",
      "next time unit is 0.29\n",
      "  4.570268 seconds (58.03 M allocations: 1.710 GiB, 6.80% gc time)\n",
      "next time unit is 0.3\n",
      "139.729537 seconds (1.75 G allocations: 51.809 GiB, 6.87% gc time)\n"
     ]
    }
   ],
   "source": [
    "@time for ti in T\n",
    "    \n",
    "    @time global t, (w, f), (qJ, v, λ), bd = ifherk_coupled(t, w, qJ, v, bd,fsys)\n",
    "    \n",
    "    push!(thist,t-Δt)\n",
    "    push!(fx,sum(f.u)*Δx^2)\n",
    "    push!(fy,sum(f.v)*Δx^2)\n",
    "    push!(whist,deepcopy(w))\n",
    "    push!(bdhist,deepcopy(bd))\n",
    "    println(\"next time unit is $(round(t,digits=3))\")\n",
    "    \n",
    "    if mod(ti/Δt,200) == 1  \n",
    "        @save filename*\".bson\" bd bdhist xg yg whist thist fx fy Δt w qJ v\n",
    "        println(\"data saved at time \", ti)\n",
    "    end\n",
    "end"
   ]
  },
  {
   "cell_type": "markdown",
   "metadata": {},
   "source": [
    "## <span style=\"color:blue\"> Plot </span>"
   ]
  },
  {
   "cell_type": "markdown",
   "metadata": {},
   "source": [
    "#### Set contour levels and fps"
   ]
  },
  {
   "cell_type": "code",
   "execution_count": 5,
   "metadata": {},
   "outputs": [],
   "source": [
    "contour_levels = range(-0.2,stop=0.2,length=40)\n",
    "sample_freq = 2\n",
    "fps = 25;"
   ]
  },
  {
   "cell_type": "markdown",
   "metadata": {},
   "source": [
    "#### Get body verts history"
   ]
  },
  {
   "cell_type": "code",
   "execution_count": 6,
   "metadata": {},
   "outputs": [],
   "source": [
    "# get verts info based on this regular grid solution\n",
    "vshist = []\n",
    "for i = 1:length(bdhist)\n",
    "    @get bdhist[i] (bs, js, sys)\n",
    "    push!(vshist, VertsHistory(sys.nbody, bs))\n",
    "end"
   ]
  },
  {
   "cell_type": "markdown",
   "metadata": {},
   "source": [
    "#### Plot first and last time field"
   ]
  },
  {
   "cell_type": "code",
   "execution_count": 7,
   "metadata": {},
   "outputs": [
    {
     "data": {
      "image/png": "[encoded data removed]"
     },
     "execution_count": 7,
     "metadata": {},
     "output_type": "execute_result"
    }
   ],
   "source": [
    "p = plot(xg,yg,whist[1],levels=contour_levels)\n",
    "for i = 1:bd.sys.nbody\n",
    "    plot!(p,vshist[1][i,2:3,1], vshist[1][i,2:3,2],linewidth=2,linecolor=\"black\")\n",
    "end\n",
    "p"
   ]
  },
  {
   "cell_type": "code",
   "execution_count": 8,
   "metadata": {},
   "outputs": [
    {
     "data": {
      "image/png": "[encoded data removed]"
     },
     "execution_count": 8,
     "metadata": {},
     "output_type": "execute_result"
    }
   ],
   "source": [
    "p = plot(xg,yg,whist[end],levels=contour_levels)\n",
    "for i = 1:bd.sys.nbody\n",
    "    plot!(p,vshist[end][i,2:3,1], vshist[end][i,2:3,2],linewidth=2,linecolor=\"black\")\n",
    "end\n",
    "# savefig(p,\"plate.eps\")\n",
    "p"
   ]
  },
  {
   "cell_type": "markdown",
   "metadata": {},
   "source": [
    "#### Body position begining and end"
   ]
  },
  {
   "cell_type": "code",
   "execution_count": 9,
   "metadata": {},
   "outputs": [
    {
     "data": {
      "image/png": "[encoded data removed]"
     },
     "execution_count": 9,
     "metadata": {},
     "output_type": "execute_result"
    }
   ],
   "source": [
    "pb = plot()\n",
    "for i = 1:sys.nbody\n",
    "    plot!(pb,vshist[1][i,2:3,1], vshist[1][i,2:3,2],linewidth=2,linecolor=\"grey\",label=\"begin\")\n",
    "end\n",
    "for i = 1:sys.nbody\n",
    "    plot!(pb,vshist[end][i,2:3,1], vshist[end][i,2:3,2],linewidth=2,linecolor=\"red\",label=\"end\")\n",
    "end\n",
    "plot!(pb,xlims=(xg[1],xg[end]), ylims=(yg[1],yg[end]))\n",
    "pb"
   ]
  },
  {
   "cell_type": "markdown",
   "metadata": {},
   "source": [
    "#### Make gif"
   ]
  },
  {
   "cell_type": "code",
   "execution_count": 10,
   "metadata": {},
   "outputs": [
    {
     "data": {
      "image/png": "[encoded data removed]",
      "text/plain": [
       "PyPlot.Figure(PyObject <matplotlib.figure.Figure object at 0x7ff2265b47f0>)"
      ]
     },
     "metadata": {},
     "output_type": "display_data"
    },
    {
     "name": "stderr",
     "output_type": "stream",
     "text": [
      "┌ Info: Saved animation to \n",
      "│   fn = /mnt/g/Research/FSI.jl/examples/FallingPlate.gif\n",
      "└ @ Plots /home/fs/.julia/packages/Plots/oiirH/src/animation.jl:90\n"
     ]
    },
    {
     "data": {
      "text/html": [
       "<img src=\"FallingPlate.gif\" />"
      ],
      "text/plain": [
       "Plots.AnimatedGif(\"/mnt/g/Research/FSI.jl/examples/FallingPlate.gif\")"
      ]
     },
     "execution_count": 10,
     "metadata": {},
     "output_type": "execute_result"
    }
   ],
   "source": [
    "anim = @animate for j = 1:sample_freq:length(whist)\n",
    "    plot(xg,yg,whist[j],levels=contour_levels)\n",
    "    for i = 1:sys.nbody\n",
    "        plot!(vshist[j][i,2:3,1], vshist[j][i,2:3,2],linewidth=2,linecolor=\"black\")\n",
    "    end\n",
    "end\n",
    "\n",
    "gif(anim, filename*\".gif\", fps = fps)"
   ]
  },
  {
   "cell_type": "markdown",
   "metadata": {},
   "source": [
    "#### Get position, velocity and acceleration in time"
   ]
  },
  {
   "cell_type": "code",
   "execution_count": 11,
   "metadata": {},
   "outputs": [],
   "source": [
    "vhist = [0.0]\n",
    "phist = [0.0]\n",
    "\n",
    "for i in 1:length(bdhist)\n",
    "    push!(vhist,bdhist[i].bs[1].v[5])\n",
    "    push!(phist,bdhist[i].bs[1].x_i[2]-bdhist[1].bs[1].x_i[2])    \n",
    "end\n",
    "\n",
    "ahist = []\n",
    "for i in 1:length(vhist)-1\n",
    "    push!(ahist,(vhist[i+1]-vhist[i])/Δt)\n",
    "end"
   ]
  },
  {
   "cell_type": "code",
   "execution_count": 12,
   "metadata": {},
   "outputs": [
    {
     "data": {
      "image/png": "[encoded data removed]"
     },
     "execution_count": 12,
     "metadata": {},
     "output_type": "execute_result"
    }
   ],
   "source": [
    "pp = plot([0.0;thist],phist,xlabel=\"\\$(g/D)^{0.5}t \\$\",ylabel=\"\\$y/D\\$\",legend=false,ylims=(-25,0))\n",
    "pv = plot([0.0;thist],vhist,xlabel=\"\\$(g/D)^{0.5}t \\$\",ylabel=\"\\$v/(gD)^{0.5}\\$\",legend=false,ylims=(-2,0))\n",
    "pa = plot([0.0;thist[1:end-1]],ahist,xlabel=\"\\$(g/D)^{0.5}t \\$\",ylabel=\"\\$a/g\\$\",legend=false,ylims=(-0.5,0))\n",
    "\n",
    "plot(pp,pv,pa)"
   ]
  },
  {
   "cell_type": "code",
   "execution_count": 13,
   "metadata": {},
   "outputs": [
    {
     "data": {
      "text/plain": [
       "5-element Array{Any,1}:\n",
       " -0.68376659669561  \n",
       " -0.6796889531931251\n",
       " -0.676124635946489 \n",
       " -0.672938974888982 \n",
       " -0.670037104842005 "
      ]
     },
     "execution_count": 13,
     "metadata": {},
     "output_type": "execute_result"
    }
   ],
   "source": [
    "ahist[1:5]"
   ]
  },
  {
   "cell_type": "markdown",
   "metadata": {},
   "source": [
    "#### Lift and drag coefficients"
   ]
  },
  {
   "cell_type": "code",
   "execution_count": 14,
   "metadata": {},
   "outputs": [
    {
     "data": {
      "image/png": "[encoded data removed]"
     },
     "execution_count": 14,
     "metadata": {},
     "output_type": "execute_result"
    }
   ],
   "source": [
    "px = plot(thist,2*fx,ylim=(-1,1),xlabel=\"Convective time\",ylabel=\"\\$C_D\\$\",legend=false)\n",
    "py = plot(thist,2*fy,ylim=(0,3),xlabel=\"Convective time\",ylabel=\"\\$C_L\\$\",legend=false)\n",
    "plot(px,py)"
   ]
  },
  {
   "cell_type": "markdown",
   "metadata": {},
   "source": [
    "## <span style=\"color:blue\"> Save Data </span>"
   ]
  },
  {
   "cell_type": "markdown",
   "metadata": {},
   "source": [
    "#### Save all current data related to plotting to a .jld file"
   ]
  },
  {
   "cell_type": "code",
   "execution_count": 15,
   "metadata": {},
   "outputs": [],
   "source": [
    "@save filename*\".bson\" bd bdhist xg yg whist vshist thist fx fy Δt w qJ v"
   ]
  },
  {
   "cell_type": "markdown",
   "metadata": {},
   "source": [
    "#### Use the following block to extract data"
   ]
  },
  {
   "cell_type": "code",
   "execution_count": 16,
   "metadata": {},
   "outputs": [],
   "source": [
    "# using Dyn3d\n",
    "# using ViscousFlow\n",
    "\n",
    "# @load filename*\".bson\" bd bdhist xg yg whist vshist thist fx fy Δt w qJ v\n",
    "# @get bd (bs,js,sys);"
   ]
  }
 ],
 "metadata": {
  "@webio": {
   "lastCommId": null,
   "lastKernelId": null
  },
  "kernelspec": {
   "display_name": "Julia 1.0.4",
   "language": "julia",
   "name": "julia-1.0"
  },
  "language_info": {
   "file_extension": ".jl",
   "mimetype": "application/julia",
   "name": "julia",
   "version": "1.0.4"
  }
 },
 "nbformat": 4,
 "nbformat_minor": 2
}
