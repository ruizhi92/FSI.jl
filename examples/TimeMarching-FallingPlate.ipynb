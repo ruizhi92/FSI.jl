{
 "cells": [
  {
   "cell_type": "code",
   "execution_count": 52,
   "metadata": {},
   "outputs": [
    {
     "data": {
      "text/plain": [
       "5-element Array{Float64,1}:\n",
       "  0.32054394550707777   \n",
       "  6.389356616289229e-17 \n",
       "  2.286677775194621e-15 \n",
       " -1.1796574441578926e-15\n",
       " -3.52524745728053e-17  "
      ]
     },
     "execution_count": 52,
     "metadata": {},
     "output_type": "execute_result"
    }
   ],
   "source": [
    "λ"
   ]
  },
  {
   "cell_type": "code",
   "execution_count": 100,
   "metadata": {},
   "outputs": [
    {
     "data": {
      "text/plain": [
       "51-element Array{Array{Float64,1},1}:\n",
       " [0.0, 0.0, 0.0] \n",
       " [0.02, 0.0, 0.0]\n",
       " [0.04, 0.0, 0.0]\n",
       " [0.06, 0.0, 0.0]\n",
       " [0.08, 0.0, 0.0]\n",
       " [0.1, 0.0, 0.0] \n",
       " [0.12, 0.0, 0.0]\n",
       " [0.14, 0.0, 0.0]\n",
       " [0.16, 0.0, 0.0]\n",
       " [0.18, 0.0, 0.0]\n",
       " [0.2, 0.0, 0.0] \n",
       " [0.22, 0.0, 0.0]\n",
       " [0.24, 0.0, 0.0]\n",
       " ⋮               \n",
       " [0.78, 0.0, 0.0]\n",
       " [0.8, 0.0, 0.0] \n",
       " [0.82, 0.0, 0.0]\n",
       " [0.84, 0.0, 0.0]\n",
       " [0.86, 0.0, 0.0]\n",
       " [0.88, 0.0, 0.0]\n",
       " [0.9, 0.0, 0.0] \n",
       " [0.92, 0.0, 0.0]\n",
       " [0.94, 0.0, 0.0]\n",
       " [0.96, 0.0, 0.0]\n",
       " [0.98, 0.0, 0.0]\n",
       " [1.0, 0.0, 0.0] "
      ]
     },
     "execution_count": 100,
     "metadata": {},
     "output_type": "execute_result"
    }
   ],
   "source": [
    "bgs[1].points"
   ]
  },
  {
   "cell_type": "code",
   "execution_count": 99,
   "metadata": {},
   "outputs": [
    {
     "data": {
      "text/plain": [
       "51-element Array{Array{Float64,1},1}:\n",
       " [-0.0429507, 0.0145659, 0.0] \n",
       " [0.0303025, 0.00521288, 0.0] \n",
       " [-0.0355198, 0.0122861, 0.0] \n",
       " [0.0283092, 0.0104284, 0.0]  \n",
       " [-0.0316127, 0.0122055, 0.0] \n",
       " [0.0261435, 0.011816, 0.0]   \n",
       " [-0.0283026, 0.0126792, 0.0] \n",
       " [0.0237302, 0.012344, 0.0]   \n",
       " [-0.025171, 0.0130069, 0.0]  \n",
       " [0.0212086, 0.0126063, 0.0]  \n",
       " [-0.0221162, 0.0131921, 0.0] \n",
       " [0.0186335, 0.0127462, 0.0]  \n",
       " [-0.0191037, 0.0132932, 0.0] \n",
       " ⋮                            \n",
       " [-0.0186335, 0.0127462, 0.0] \n",
       " [0.0221162, 0.0131921, 0.0]  \n",
       " [-0.0212086, 0.0126063, 0.0] \n",
       " [0.025171, 0.0130069, 0.0]   \n",
       " [-0.0237302, 0.012344, 0.0]  \n",
       " [0.0283026, 0.0126792, 0.0]  \n",
       " [-0.0261435, 0.011816, 0.0]  \n",
       " [0.0316127, 0.0122055, 0.0]  \n",
       " [-0.0283092, 0.0104284, 0.0] \n",
       " [0.0355198, 0.0122861, 0.0]  \n",
       " [-0.0303025, 0.00521288, 0.0]\n",
       " [0.0429507, 0.0145659, 0.0]  "
      ]
     },
     "execution_count": 99,
     "metadata": {},
     "output_type": "execute_result"
    }
   ],
   "source": [
    "bgs[1].f_ex3d"
   ]
  },
  {
   "cell_type": "code",
   "execution_count": 59,
   "metadata": {},
   "outputs": [],
   "source": [
    "v = (1,2,3)\n",
    "h = [1:bd.bs[1].nverts;1]\n",
    "    # push the verts of all body in the same time into a tuple\n",
    "    vs_total = []\n",
    "    for i = 1:length(thist)\n",
    "        vs_tmp = []\n",
    "        for k = 1:bd.sys.nbody\n",
    "            push!(vs_tmp,[vshist[i][k,h,v[1]],vshist[i][k,h,v[2]],vshist[i][k,h,v[3]]])\n",
    "        end\n",
    "        push!(vs_total,vs_tmp)\n",
    "    end       "
   ]
  },
  {
   "cell_type": "code",
   "execution_count": 65,
   "metadata": {},
   "outputs": [
    {
     "data": {
      "text/plain": [
       "200"
      ]
     },
     "execution_count": 65,
     "metadata": {},
     "output_type": "execute_result"
    }
   ],
   "source": [
    "length(thist) "
   ]
  },
  {
   "cell_type": "code",
   "execution_count": 96,
   "metadata": {},
   "outputs": [
    {
     "data": {
      "text/plain": [
       "4×3 Array{Float64,2}:\n",
       " 0.5  1.41796   4.99647e-22\n",
       " 0.5  1.41796   1.0        \n",
       " 1.5  1.41796   1.0        \n",
       " 1.5  1.41796  -3.80723e-20"
      ]
     },
     "execution_count": 96,
     "metadata": {},
     "output_type": "execute_result"
    }
   ],
   "source": [
    "bdhist[end].bs[1].verts_i"
   ]
  },
  {
   "cell_type": "code",
   "execution_count": 94,
   "metadata": {},
   "outputs": [
    {
     "data": {
      "text/plain": [
       "6-element Array{Float64,1}:\n",
       "  1.0546788319199741e-18\n",
       "  3.8571940076600984e-20\n",
       " -1.699461572479768e-18 \n",
       "  5.233350834499199e-22 \n",
       " -0.5820365409253601    \n",
       "  4.996466368800725e-22 "
      ]
     },
     "execution_count": 94,
     "metadata": {},
     "output_type": "execute_result"
    }
   ],
   "source": [
    "qJ"
   ]
  },
  {
   "cell_type": "code",
   "execution_count": 93,
   "metadata": {},
   "outputs": [
    {
     "data": {
      "image/png": "[encoded data removed]"
     },
     "execution_count": 93,
     "metadata": {},
     "output_type": "execute_result"
    }
   ],
   "source": [
    "i = 1\n",
    "camera_view = (0,80)\n",
    "h = [1:bd.bs[1].nverts;1]\n",
    "        p = plot()\n",
    "        for j in 1:bd.sys.nbody\n",
    "            plot!(vs_total[i][j][1],vs_total[i][j][2],vs_total[i][j][3], linewidth=3)\n",
    "        end    \n",
    "        plot!(xlims=(0,3), ylims=(0,2), zlims=(0,3), aspect_ratio=:equal, camera = camera_view)    "
   ]
  },
  {
   "cell_type": "markdown",
   "metadata": {},
   "source": [
    "# FSI problem"
   ]
  },
  {
   "cell_type": "code",
   "execution_count": 1,
   "metadata": {},
   "outputs": [],
   "source": [
    "using Pkg\n",
    "Pkg.activate(\"..\")\n",
    "using FSI"
   ]
  },
  {
   "cell_type": "code",
   "execution_count": 2,
   "metadata": {},
   "outputs": [],
   "source": [
    "using Revise\n",
    "using Plots\n",
    "pyplot()\n",
    "clibrary(:colorbrewer)\n",
    "default(grid = false)"
   ]
  },
  {
   "cell_type": "code",
   "execution_count": 3,
   "metadata": {},
   "outputs": [],
   "source": [
    "filename = \"FallingPlate\";"
   ]
  },
  {
   "cell_type": "markdown",
   "metadata": {},
   "source": [
    "## <span style=\"color:blue\"> Set up rigid body with Dyn3d"
   ]
  },
  {
   "cell_type": "markdown",
   "metadata": {},
   "source": [
    "#### Include any joint-body setup script from Dyn3d"
   ]
  },
  {
   "cell_type": "code",
   "execution_count": 4,
   "metadata": {},
   "outputs": [
    {
     "data": {
      "text/plain": [
       " joint type = custom_prismatic_in_y\n",
       " joint position in parent body coord = [0.0, 0.0, 0.0, 0.5, 2.0, 0.0]\n",
       " joint position in child body coord = [0.0, 0.0, 0.0, 0.0, 0.0, 0.0]\n",
       " joint unconstrained dof = 5, under passive motion\n",
       " initial unconstrained dof position = [0.0]\n"
      ]
     },
     "execution_count": 4,
     "metadata": {},
     "output_type": "execute_result"
    }
   ],
   "source": [
    "# problem dimension\n",
    "ndim = 2\n",
    "# numerical params\n",
    "tf = 6\n",
    "dt = 1e-3\n",
    "scheme = \"Liska\"\n",
    "st = 3\n",
    "tol = 1e-4\n",
    "num_params = NumParams(tf, dt, scheme, st, tol)\n",
    "# gravity\n",
    "gravity = [0., -1.0, 0.]\n",
    "\n",
    "# set up system config info\n",
    "config_system = ConfigSystem(ndim, gravity, num_params)\n",
    "\n",
    "# set up bodys\n",
    "nbody = 1\n",
    "config_body = ConfigBody(nbody, 4,\n",
    "   [0. 0.; 1. 0.; 1. 1.0/nbody; 0. 1.0/nbody], 2.0)\n",
    "config_bodys = fill(config_body, nbody)\n",
    "\n",
    "# set up joints\n",
    "njoint = nbody\n",
    "\n",
    "config_joints = Vector{ConfigJoint}(undef,njoint)\n",
    "\n",
    "# set the first passive joint with no stiff and damp\n",
    "dof_1 = Dof(5, \"passive\", 0., 0., Motions())\n",
    "\n",
    "config_joints[1] = ConfigJoint(njoint, \"custom_prismatic_in_y\",\n",
    "    [0.,0.,0.,0.5,2.0,0.], zeros(Float64,6), 0, [dof_1], [0.])"
   ]
  },
  {
   "cell_type": "markdown",
   "metadata": {},
   "source": [
    "#### Build joint-body chain"
   ]
  },
  {
   "cell_type": "code",
   "execution_count": 5,
   "metadata": {},
   "outputs": [
    {
     "data": {
      "text/plain": []
     },
     "execution_count": 5,
     "metadata": {},
     "output_type": "execute_result"
    },
    {
     "name": "stdout",
     "output_type": "stream",
     "text": [
      "This is a 1 body-joint system, system is un-mounted from space"
     ]
    }
   ],
   "source": [
    "bs, js, bsys = BuildChain(config_bodys, config_joints, config_system)\n",
    "bd = BodyDyn(bs, js, bsys)"
   ]
  },
  {
   "cell_type": "markdown",
   "metadata": {},
   "source": [
    "#### Initialize rigid body system state to complete body-joint information"
   ]
  },
  {
   "cell_type": "code",
   "execution_count": 6,
   "metadata": {},
   "outputs": [
    {
     "data": {
      "text/plain": [
       "(, Soln{Float64}(0.0, 0.001, [0.0, 0.0, 0.0, 0.0, 0.0, 0.0], [0.0, 0.0, 0.0, 0.0, 0.0, 0.0], Float64[], Float64[]))"
      ]
     },
     "execution_count": 6,
     "metadata": {},
     "output_type": "execute_result"
    },
    {
     "name": "stdout",
     "output_type": "stream",
     "text": [
      "This is a 1 body-joint system, system is un-mounted from space"
     ]
    }
   ],
   "source": [
    "bd, soln₀ = InitSystem!(bd)"
   ]
  },
  {
   "cell_type": "markdown",
   "metadata": {},
   "source": [
    "#### Initialize u and λ container"
   ]
  },
  {
   "cell_type": "code",
   "execution_count": 7,
   "metadata": {},
   "outputs": [],
   "source": [
    "qJ = soln₀.qJ\n",
    "v = soln₀.v\n",
    "λ_dim = bd.sys.ncdof_HERK\n",
    "λ = zeros(Float64,λ_dim);"
   ]
  },
  {
   "cell_type": "markdown",
   "metadata": {},
   "source": [
    "#### Get body verts for plotting"
   ]
  },
  {
   "cell_type": "code",
   "execution_count": 8,
   "metadata": {},
   "outputs": [],
   "source": [
    "@get bd (bs, js, sys)\n",
    "bs, js, sys = UpdatePosition!(bs, js, sys, soln₀.qJ)\n",
    "vs₀ = VertsHistory(sys.nbody, bs);"
   ]
  },
  {
   "cell_type": "markdown",
   "metadata": {},
   "source": [
    "#### Plot body only"
   ]
  },
  {
   "cell_type": "code",
   "execution_count": 9,
   "metadata": {
    "scrolled": false
   },
   "outputs": [
    {
     "data": {
      "image/png": "[encoded data removed]"
     },
     "execution_count": 9,
     "metadata": {},
     "output_type": "execute_result"
    }
   ],
   "source": [
    "p = plot()\n",
    "for i = 1:sys.nbody\n",
    "    plot!(p,vs₀[i,2:3,1], vs₀[i,2:3,2],linewidth=2)\n",
    "end\n",
    "plot!(xlims=(0,2), ylims=(0,3))"
   ]
  },
  {
   "cell_type": "markdown",
   "metadata": {},
   "source": [
    "## <span style=\"color:blue\"> Set up fluid with Whirl </span>"
   ]
  },
  {
   "cell_type": "markdown",
   "metadata": {},
   "source": [
    "#### Set the flow parameters"
   ]
  },
  {
   "cell_type": "code",
   "execution_count": 10,
   "metadata": {},
   "outputs": [
    {
     "data": {
      "text/plain": [
       "(0.0, 0.0)"
      ]
     },
     "execution_count": 10,
     "metadata": {},
     "output_type": "execute_result"
    }
   ],
   "source": [
    "Re = 200 # Reynolds number\n",
    "U = 0.0 # Free stream velocity\n",
    "U∞ = (0.0, U)"
   ]
  },
  {
   "cell_type": "markdown",
   "metadata": {},
   "source": [
    "#### Set the domain grid"
   ]
  },
  {
   "cell_type": "code",
   "execution_count": 11,
   "metadata": {},
   "outputs": [
    {
     "data": {
      "text/plain": [
       "(-0.01:0.02:2.0100000000000002, -0.01:0.02:3.0100000000000002)"
      ]
     },
     "execution_count": 11,
     "metadata": {},
     "output_type": "execute_result"
    }
   ],
   "source": [
    "nx = 102; ny = 152;\n",
    "Ly = 3.0;\n",
    "Δx = Ly/(ny-2);\n",
    "Δt = min(0.5*Δx,0.5*Δx^2*Re)\n",
    "w₀ = Nodes(Dual,(nx,ny))\n",
    "xg, yg = coordinates(w₀,dx=Δx)"
   ]
  },
  {
   "cell_type": "markdown",
   "metadata": {},
   "source": [
    "#### Set up fluid initial conditions"
   ]
  },
  {
   "cell_type": "code",
   "execution_count": 12,
   "metadata": {},
   "outputs": [],
   "source": [
    "w₀ .= 0.0;\n",
    "w = deepcopy(w₀);"
   ]
  },
  {
   "cell_type": "markdown",
   "metadata": {},
   "source": [
    "## <span style=\"color:blue\"> Create fluid-body interface </span>"
   ]
  },
  {
   "cell_type": "markdown",
   "metadata": {},
   "source": [
    "#### Genrate body grid points and get linear velocity on them"
   ]
  },
  {
   "cell_type": "code",
   "execution_count": 13,
   "metadata": {
    "scrolled": true
   },
   "outputs": [],
   "source": [
    "# bgs short for body grid system\n",
    "bgs = GenerateBodyGrid(bd; np=DetermineNP(nbody, Δx))\n",
    "bgs = CutOut2d(bd,bgs);"
   ]
  },
  {
   "cell_type": "markdown",
   "metadata": {},
   "source": [
    "#### Get body points initial coordinates for fluids"
   ]
  },
  {
   "cell_type": "code",
   "execution_count": 14,
   "metadata": {},
   "outputs": [],
   "source": [
    "bgs = AcquireBodyGridKinematics(bd,bgs)\n",
    "coord_init = hcat(bgs[1].q_i...)'[:,[1,2]]\n",
    "for i = 2:length(bgs)\n",
    "    coord_init = [coord_init[1:end-1,:]; hcat(bgs[i].q_i...)'[:,[1,2]]]\n",
    "end"
   ]
  },
  {
   "cell_type": "markdown",
   "metadata": {},
   "source": [
    "#### Set up body grid points and force container in fluid"
   ]
  },
  {
   "cell_type": "code",
   "execution_count": 15,
   "metadata": {},
   "outputs": [],
   "source": [
    "X̃ = VectorData(coord_init)\n",
    "f = VectorData(X̃);"
   ]
  },
  {
   "cell_type": "markdown",
   "metadata": {},
   "source": [
    "#### Create fluidstruct structure"
   ]
  },
  {
   "cell_type": "code",
   "execution_count": 16,
   "metadata": {},
   "outputs": [
    {
     "data": {
      "text/plain": [
       "51"
      ]
     },
     "execution_count": 16,
     "metadata": {},
     "output_type": "execute_result"
    }
   ],
   "source": [
    "tf = 200Δt\n",
    "T = Δt:Δt:tf\n",
    "fsys = FluidStruct((nx,ny),Re,Δx,Δt,U∞ = U∞, X̃ = X̃, rk=RK31)\n",
    "N = length(X̃)÷2"
   ]
  },
  {
   "cell_type": "markdown",
   "metadata": {},
   "source": [
    "## <span style=\"color:blue\"> Create ifherk object </span>"
   ]
  },
  {
   "cell_type": "markdown",
   "metadata": {},
   "source": [
    "#### pretend that this thin body has finite volume for buoyancy"
   ]
  },
  {
   "cell_type": "code",
   "execution_count": 17,
   "metadata": {},
   "outputs": [],
   "source": [
    "function TimeMarching.F(bd::BodyDyn)\n",
    "    f_exi = zeros(Float64,bd.sys.nbody,6)\n",
    "    return HERKFuncf(bd.bs, bd.js, bd.sys, f_exi, \"cylinder\", config_body.ρ)\n",
    "end"
   ]
  },
  {
   "cell_type": "code",
   "execution_count": 18,
   "metadata": {},
   "outputs": [
    {
     "name": "stdout",
     "output_type": "stream",
     "text": [
      "  8.576625 seconds (73.82 M allocations: 2.458 GiB, 7.02% gc time)\n"
     ]
    },
    {
     "data": {
      "text/plain": [
       "Stage-3+ IF-HERK integrator with\n",
       "   Time step size 0.01\n"
      ]
     },
     "execution_count": 18,
     "metadata": {},
     "output_type": "execute_result"
    }
   ],
   "source": [
    "@time ifherk_coupled = FSI.IFHERK_coupled(fsys.Δt,bd,bgs,(w₀,qJ,v,f,λ),\n",
    "                ((t,u) -> Systems.plan_intfact(t,u,fsys), B₁ᵀ, B₂),\n",
    "                (M⁻¹, G₁ᵀ, G₂, UpP, UpV),\n",
    "                ((bd,bgs,f) -> T₁ᵀ(bd,bgs,f,fsys.Δx), (bd,bgs,u) -> T₂(bd,bgs,u), (bd,bgs) -> getX̃(bd,bgs)),\n",
    "                ((w,t) -> r₁(w,t,fsys), F, w -> U_inf(w,fsys), gti),\n",
    "                fsys, tol=1e-3,rk=TimeMarching.RK31)"
   ]
  },
  {
   "cell_type": "code",
   "execution_count": 19,
   "metadata": {},
   "outputs": [],
   "source": [
    "fx = Float64[]\n",
    "fy = Float64[]\n",
    "thist = []\n",
    "t = 0.0\n",
    "whist = []\n",
    "bdhist = BodyDyn[];"
   ]
  },
  {
   "cell_type": "markdown",
   "metadata": {},
   "source": [
    "## <span style=\"color:blue\"> TimeMarching! </span>"
   ]
  },
  {
   "cell_type": "code",
   "execution_count": 20,
   "metadata": {
    "scrolled": true
   },
   "outputs": [
    {
     "name": "stdout",
     "output_type": "stream",
     "text": [
      "  5.858994 seconds (61.33 M allocations: 1.868 GiB, 7.07% gc time)\n",
      "next time unit is 0.01\n",
      "  4.377781 seconds (58.03 M allocations: 1.710 GiB, 8.98% gc time)\n",
      "next time unit is 0.02\n",
      "  4.230998 seconds (58.03 M allocations: 1.710 GiB, 6.44% gc time)\n",
      "next time unit is 0.03\n",
      "  4.249488 seconds (58.03 M allocations: 1.710 GiB, 6.53% gc time)\n",
      "next time unit is 0.04\n",
      "  4.307017 seconds (58.03 M allocations: 1.710 GiB, 6.63% gc time)\n",
      "next time unit is 0.05\n",
      "  4.272071 seconds (58.03 M allocations: 1.710 GiB, 6.55% gc time)\n",
      "next time unit is 0.060000000000000005\n",
      "  4.296345 seconds (58.03 M allocations: 1.710 GiB, 6.59% gc time)\n",
      "next time unit is 0.07\n",
      "  4.295588 seconds (58.03 M allocations: 1.710 GiB, 6.47% gc time)\n",
      "next time unit is 0.08\n",
      "  4.247868 seconds (58.03 M allocations: 1.710 GiB, 6.63% gc time)\n",
      "next time unit is 0.09\n",
      "  4.252598 seconds (58.03 M allocations: 1.710 GiB, 6.58% gc time)\n",
      "next time unit is 0.09999999999999999\n",
      "  4.235960 seconds (58.03 M allocations: 1.710 GiB, 6.74% gc time)\n",
      "next time unit is 0.10999999999999999\n",
      "  4.266550 seconds (58.03 M allocations: 1.710 GiB, 6.71% gc time)\n",
      "next time unit is 0.11999999999999998\n",
      "  4.366498 seconds (58.03 M allocations: 1.710 GiB, 8.49% gc time)\n",
      "next time unit is 0.12999999999999998\n",
      "  4.239080 seconds (58.03 M allocations: 1.710 GiB, 6.56% gc time)\n",
      "next time unit is 0.13999999999999999\n",
      "  4.347714 seconds (58.03 M allocations: 1.710 GiB, 6.50% gc time)\n",
      "next time unit is 0.15\n",
      "  4.249778 seconds (58.03 M allocations: 1.710 GiB, 6.53% gc time)\n",
      "next time unit is 0.16\n",
      "  4.262292 seconds (58.03 M allocations: 1.710 GiB, 6.49% gc time)\n",
      "next time unit is 0.17\n",
      "  4.301949 seconds (58.03 M allocations: 1.710 GiB, 6.54% gc time)\n",
      "next time unit is 0.18000000000000002\n",
      "  4.318785 seconds (58.03 M allocations: 1.710 GiB, 6.86% gc time)\n",
      "next time unit is 0.19000000000000003\n",
      "  4.937790 seconds (58.03 M allocations: 1.710 GiB, 6.67% gc time)\n",
      "next time unit is 0.20000000000000004\n",
      "  4.391654 seconds (58.03 M allocations: 1.710 GiB, 6.90% gc time)\n",
      "next time unit is 0.21000000000000005\n",
      "  4.276188 seconds (58.03 M allocations: 1.710 GiB, 6.72% gc time)\n",
      "next time unit is 0.22000000000000006\n",
      "  4.267407 seconds (58.03 M allocations: 1.710 GiB, 6.70% gc time)\n",
      "next time unit is 0.23000000000000007\n",
      "  4.264198 seconds (58.03 M allocations: 1.710 GiB, 6.70% gc time)\n",
      "next time unit is 0.24000000000000007\n",
      "  4.426046 seconds (58.03 M allocations: 1.710 GiB, 8.82% gc time)\n",
      "next time unit is 0.25000000000000006\n",
      "  4.291931 seconds (58.03 M allocations: 1.710 GiB, 6.52% gc time)\n",
      "next time unit is 0.26000000000000006\n",
      "  4.297474 seconds (58.03 M allocations: 1.710 GiB, 6.52% gc time)\n",
      "next time unit is 0.2700000000000001\n",
      "  4.270762 seconds (58.03 M allocations: 1.710 GiB, 6.49% gc time)\n",
      "next time unit is 0.2800000000000001\n",
      "  4.377429 seconds (58.03 M allocations: 1.710 GiB, 6.48% gc time)\n",
      "next time unit is 0.2900000000000001\n",
      "  4.281256 seconds (58.03 M allocations: 1.710 GiB, 6.76% gc time)\n",
      "next time unit is 0.3000000000000001\n",
      "  4.338095 seconds (58.03 M allocations: 1.710 GiB, 6.57% gc time)\n",
      "next time unit is 0.3100000000000001\n",
      "  4.286608 seconds (58.03 M allocations: 1.710 GiB, 6.81% gc time)\n",
      "next time unit is 0.3200000000000001\n",
      "  4.356258 seconds (58.03 M allocations: 1.710 GiB, 6.81% gc time)\n",
      "next time unit is 0.3300000000000001\n",
      "  4.279198 seconds (58.03 M allocations: 1.710 GiB, 6.74% gc time)\n",
      "next time unit is 0.34000000000000014\n",
      "  4.251435 seconds (58.03 M allocations: 1.710 GiB, 6.65% gc time)\n",
      "next time unit is 0.35000000000000014\n",
      "  4.441431 seconds (58.03 M allocations: 1.710 GiB, 8.46% gc time)\n",
      "next time unit is 0.36000000000000015\n",
      "  4.273446 seconds (58.03 M allocations: 1.710 GiB, 6.51% gc time)\n",
      "next time unit is 0.37000000000000016\n",
      "  4.273069 seconds (58.03 M allocations: 1.710 GiB, 6.53% gc time)\n",
      "next time unit is 0.38000000000000017\n",
      "  4.325025 seconds (58.03 M allocations: 1.710 GiB, 6.55% gc time)\n",
      "next time unit is 0.3900000000000002\n",
      "  4.306772 seconds (58.03 M allocations: 1.710 GiB, 6.68% gc time)\n",
      "next time unit is 0.4000000000000002\n",
      "  4.334221 seconds (58.03 M allocations: 1.710 GiB, 6.63% gc time)\n",
      "next time unit is 0.4100000000000002\n",
      "  4.297110 seconds (58.03 M allocations: 1.710 GiB, 6.65% gc time)\n",
      "next time unit is 0.4200000000000002\n",
      "  4.267008 seconds (58.03 M allocations: 1.710 GiB, 6.64% gc time)\n",
      "next time unit is 0.4300000000000002\n",
      "  4.493183 seconds (58.03 M allocations: 1.710 GiB, 6.75% gc time)\n",
      "next time unit is 0.4400000000000002\n",
      "  4.482100 seconds (58.03 M allocations: 1.710 GiB, 6.76% gc time)\n",
      "next time unit is 0.45000000000000023\n",
      "  4.435931 seconds (58.03 M allocations: 1.710 GiB, 6.79% gc time)\n",
      "next time unit is 0.46000000000000024\n",
      "  4.513498 seconds (58.03 M allocations: 1.710 GiB, 6.79% gc time)\n",
      "next time unit is 0.47000000000000025\n",
      "  4.632199 seconds (58.03 M allocations: 1.710 GiB, 8.79% gc time)\n",
      "next time unit is 0.48000000000000026\n",
      "  4.496014 seconds (58.03 M allocations: 1.710 GiB, 6.73% gc time)\n",
      "next time unit is 0.49000000000000027\n",
      "  4.428083 seconds (58.03 M allocations: 1.710 GiB, 6.75% gc time)\n",
      "next time unit is 0.5000000000000002\n",
      "  4.334544 seconds (58.03 M allocations: 1.710 GiB, 6.60% gc time)\n",
      "next time unit is 0.5100000000000002\n",
      "  4.299078 seconds (58.03 M allocations: 1.710 GiB, 6.56% gc time)\n",
      "next time unit is 0.5200000000000002\n",
      "  4.290552 seconds (58.03 M allocations: 1.710 GiB, 6.60% gc time)\n",
      "next time unit is 0.5300000000000002\n",
      "  4.232303 seconds (58.03 M allocations: 1.710 GiB, 6.56% gc time)\n",
      "next time unit is 0.5400000000000003\n",
      "  4.250549 seconds (58.03 M allocations: 1.710 GiB, 6.60% gc time)\n",
      "next time unit is 0.5500000000000003\n",
      "  4.222884 seconds (58.03 M allocations: 1.710 GiB, 6.61% gc time)\n",
      "next time unit is 0.5600000000000003\n",
      "  4.266187 seconds (58.03 M allocations: 1.710 GiB, 6.62% gc time)\n",
      "next time unit is 0.5700000000000003\n",
      "  4.253309 seconds (58.03 M allocations: 1.710 GiB, 6.62% gc time)\n",
      "next time unit is 0.5800000000000003\n",
      "  4.370246 seconds (58.03 M allocations: 1.710 GiB, 8.64% gc time)\n",
      "next time unit is 0.5900000000000003\n",
      "  4.263053 seconds (58.03 M allocations: 1.710 GiB, 6.61% gc time)\n",
      "next time unit is 0.6000000000000003\n",
      "  4.239600 seconds (58.03 M allocations: 1.710 GiB, 6.48% gc time)\n",
      "next time unit is 0.6100000000000003\n",
      "  4.292814 seconds (58.03 M allocations: 1.710 GiB, 6.70% gc time)\n",
      "next time unit is 0.6200000000000003\n",
      "  4.251574 seconds (58.03 M allocations: 1.710 GiB, 6.69% gc time)\n",
      "next time unit is 0.6300000000000003\n",
      "  4.260571 seconds (58.03 M allocations: 1.710 GiB, 6.59% gc time)\n",
      "next time unit is 0.6400000000000003\n",
      "  4.286653 seconds (58.03 M allocations: 1.710 GiB, 6.53% gc time)\n",
      "next time unit is 0.6500000000000004\n",
      "  4.303083 seconds (58.03 M allocations: 1.710 GiB, 6.85% gc time)\n",
      "next time unit is 0.6600000000000004\n",
      "  4.286632 seconds (58.03 M allocations: 1.710 GiB, 6.72% gc time)\n",
      "next time unit is 0.6700000000000004\n",
      "  4.222525 seconds (58.03 M allocations: 1.710 GiB, 6.61% gc time)\n",
      "next time unit is 0.6800000000000004\n",
      "  4.223664 seconds (58.03 M allocations: 1.710 GiB, 6.61% gc time)\n",
      "next time unit is 0.6900000000000004\n",
      "  4.274177 seconds (58.03 M allocations: 1.710 GiB, 6.63% gc time)\n",
      "next time unit is 0.7000000000000004\n",
      "  4.485115 seconds (58.03 M allocations: 1.710 GiB, 8.27% gc time)\n",
      "next time unit is 0.7100000000000004\n",
      "  4.272708 seconds (58.03 M allocations: 1.710 GiB, 6.39% gc time)\n",
      "next time unit is 0.7200000000000004\n",
      "  4.327679 seconds (58.03 M allocations: 1.710 GiB, 6.50% gc time)\n",
      "next time unit is 0.7300000000000004\n",
      "  4.289990 seconds (58.03 M allocations: 1.710 GiB, 6.54% gc time)\n",
      "next time unit is 0.7400000000000004\n",
      "  4.231174 seconds (58.03 M allocations: 1.710 GiB, 6.55% gc time)\n",
      "next time unit is 0.7500000000000004\n",
      "  4.313390 seconds (58.03 M allocations: 1.710 GiB, 6.54% gc time)\n",
      "next time unit is 0.7600000000000005\n",
      "  4.699120 seconds (58.03 M allocations: 1.710 GiB, 6.89% gc time)\n",
      "next time unit is 0.7700000000000005\n",
      "  4.396376 seconds (58.03 M allocations: 1.710 GiB, 6.86% gc time)\n",
      "next time unit is 0.7800000000000005\n",
      "  4.316486 seconds (58.03 M allocations: 1.710 GiB, 6.67% gc time)\n",
      "next time unit is 0.7900000000000005\n",
      "  4.332946 seconds (58.03 M allocations: 1.710 GiB, 6.83% gc time)\n",
      "next time unit is 0.8000000000000005\n"
     ]
    },
    {
     "name": "stdout",
     "output_type": "stream",
     "text": [
      "  4.252027 seconds (58.03 M allocations: 1.710 GiB, 6.75% gc time)\n",
      "next time unit is 0.8100000000000005\n",
      "  4.347891 seconds (58.03 M allocations: 1.710 GiB, 8.43% gc time)\n",
      "next time unit is 0.8200000000000005\n",
      "  4.242811 seconds (58.03 M allocations: 1.710 GiB, 6.49% gc time)\n",
      "next time unit is 0.8300000000000005\n",
      "  4.262841 seconds (58.03 M allocations: 1.710 GiB, 6.58% gc time)\n",
      "next time unit is 0.8400000000000005\n",
      "  4.237808 seconds (58.03 M allocations: 1.710 GiB, 6.55% gc time)\n",
      "next time unit is 0.8500000000000005\n",
      "  4.275960 seconds (58.03 M allocations: 1.710 GiB, 6.65% gc time)\n",
      "next time unit is 0.8600000000000005\n",
      "  4.267300 seconds (58.03 M allocations: 1.710 GiB, 6.74% gc time)\n",
      "next time unit is 0.8700000000000006\n",
      "  4.244904 seconds (58.03 M allocations: 1.710 GiB, 6.64% gc time)\n",
      "next time unit is 0.8800000000000006\n",
      "  4.225408 seconds (58.03 M allocations: 1.710 GiB, 6.68% gc time)\n",
      "next time unit is 0.8900000000000006\n",
      "  4.236978 seconds (58.03 M allocations: 1.710 GiB, 6.61% gc time)\n",
      "next time unit is 0.9000000000000006\n",
      "  4.235886 seconds (58.03 M allocations: 1.710 GiB, 6.68% gc time)\n",
      "next time unit is 0.9100000000000006\n",
      "  4.248910 seconds (58.03 M allocations: 1.710 GiB, 6.67% gc time)\n",
      "next time unit is 0.9200000000000006\n",
      "  4.245540 seconds (58.03 M allocations: 1.710 GiB, 6.74% gc time)\n",
      "next time unit is 0.9300000000000006\n",
      "  4.329791 seconds (58.03 M allocations: 1.710 GiB, 8.28% gc time)\n",
      "next time unit is 0.9400000000000006\n",
      "  4.240199 seconds (58.03 M allocations: 1.710 GiB, 6.50% gc time)\n",
      "next time unit is 0.9500000000000006\n",
      "  4.236836 seconds (58.03 M allocations: 1.710 GiB, 6.55% gc time)\n",
      "next time unit is 0.9600000000000006\n",
      "  4.244374 seconds (58.03 M allocations: 1.710 GiB, 6.63% gc time)\n",
      "next time unit is 0.9700000000000006\n",
      "  4.258532 seconds (58.03 M allocations: 1.710 GiB, 6.55% gc time)\n",
      "next time unit is 0.9800000000000006\n",
      "  4.244149 seconds (58.03 M allocations: 1.710 GiB, 6.58% gc time)\n",
      "next time unit is 0.9900000000000007\n",
      "  4.235177 seconds (58.03 M allocations: 1.710 GiB, 6.60% gc time)\n",
      "next time unit is 1.0000000000000007\n",
      "  4.247996 seconds (58.03 M allocations: 1.710 GiB, 6.62% gc time)\n",
      "next time unit is 1.0100000000000007\n",
      "  4.236062 seconds (58.03 M allocations: 1.710 GiB, 6.65% gc time)\n",
      "next time unit is 1.0200000000000007\n",
      "  4.222807 seconds (58.03 M allocations: 1.710 GiB, 6.64% gc time)\n",
      "next time unit is 1.0300000000000007\n",
      "  4.232012 seconds (58.03 M allocations: 1.710 GiB, 6.62% gc time)\n",
      "next time unit is 1.0400000000000007\n",
      "  4.328142 seconds (58.03 M allocations: 1.710 GiB, 8.36% gc time)\n",
      "next time unit is 1.0500000000000007\n",
      "  4.266489 seconds (58.03 M allocations: 1.710 GiB, 6.45% gc time)\n",
      "next time unit is 1.0600000000000007\n",
      "  4.250188 seconds (58.03 M allocations: 1.710 GiB, 6.51% gc time)\n",
      "next time unit is 1.0700000000000007\n",
      "  4.289919 seconds (58.03 M allocations: 1.710 GiB, 6.54% gc time)\n",
      "next time unit is 1.0800000000000007\n",
      "  4.299354 seconds (58.03 M allocations: 1.710 GiB, 6.49% gc time)\n",
      "next time unit is 1.0900000000000007\n",
      "  4.239117 seconds (58.03 M allocations: 1.710 GiB, 6.58% gc time)\n",
      "next time unit is 1.1000000000000008\n",
      "  4.226303 seconds (58.03 M allocations: 1.710 GiB, 6.58% gc time)\n",
      "next time unit is 1.1100000000000008\n",
      "  4.226432 seconds (58.03 M allocations: 1.710 GiB, 6.66% gc time)\n",
      "next time unit is 1.1200000000000008\n",
      "  4.227248 seconds (58.03 M allocations: 1.710 GiB, 6.63% gc time)\n",
      "next time unit is 1.1300000000000008\n",
      "  4.277364 seconds (58.03 M allocations: 1.710 GiB, 6.78% gc time)\n",
      "next time unit is 1.1400000000000008\n",
      "  4.366170 seconds (58.03 M allocations: 1.710 GiB, 6.84% gc time)\n",
      "next time unit is 1.1500000000000008\n",
      "  4.285649 seconds (58.03 M allocations: 1.710 GiB, 6.66% gc time)\n",
      "next time unit is 1.1600000000000008\n",
      "  4.616536 seconds (58.03 M allocations: 1.710 GiB, 8.29% gc time)\n",
      "next time unit is 1.1700000000000008\n",
      "  4.263568 seconds (58.03 M allocations: 1.710 GiB, 6.54% gc time)\n",
      "next time unit is 1.1800000000000008\n",
      "  4.305606 seconds (58.03 M allocations: 1.710 GiB, 6.61% gc time)\n",
      "next time unit is 1.1900000000000008\n",
      "  4.326308 seconds (58.03 M allocations: 1.710 GiB, 6.82% gc time)\n",
      "next time unit is 1.2000000000000008\n",
      "  4.272117 seconds (58.03 M allocations: 1.710 GiB, 6.64% gc time)\n",
      "next time unit is 1.2100000000000009\n",
      "  4.280599 seconds (58.03 M allocations: 1.710 GiB, 6.65% gc time)\n",
      "next time unit is 1.2200000000000009\n",
      "  4.279184 seconds (58.03 M allocations: 1.710 GiB, 6.60% gc time)\n",
      "next time unit is 1.2300000000000009\n",
      "  4.257277 seconds (58.03 M allocations: 1.710 GiB, 6.67% gc time)\n",
      "next time unit is 1.2400000000000009\n",
      "  4.247135 seconds (58.03 M allocations: 1.710 GiB, 6.69% gc time)\n",
      "next time unit is 1.2500000000000009\n",
      "  4.374915 seconds (58.03 M allocations: 1.710 GiB, 6.59% gc time)\n",
      "next time unit is 1.260000000000001\n",
      "  4.599514 seconds (58.03 M allocations: 1.710 GiB, 6.71% gc time)\n",
      "next time unit is 1.270000000000001\n",
      "  4.430544 seconds (58.03 M allocations: 1.710 GiB, 8.65% gc time)\n",
      "next time unit is 1.280000000000001\n",
      "  4.522043 seconds (58.03 M allocations: 1.710 GiB, 6.54% gc time)\n",
      "next time unit is 1.290000000000001\n",
      "  4.495552 seconds (58.03 M allocations: 1.710 GiB, 6.58% gc time)\n",
      "next time unit is 1.300000000000001\n",
      "  4.431460 seconds (58.03 M allocations: 1.710 GiB, 6.73% gc time)\n",
      "next time unit is 1.310000000000001\n",
      "  4.488854 seconds (58.03 M allocations: 1.710 GiB, 6.81% gc time)\n",
      "next time unit is 1.320000000000001\n",
      "  4.617021 seconds (58.03 M allocations: 1.710 GiB, 6.81% gc time)\n",
      "next time unit is 1.330000000000001\n",
      "  4.506957 seconds (58.03 M allocations: 1.710 GiB, 6.90% gc time)\n",
      "next time unit is 1.340000000000001\n",
      "  4.409368 seconds (58.03 M allocations: 1.710 GiB, 6.79% gc time)\n",
      "next time unit is 1.350000000000001\n",
      "  4.573628 seconds (58.03 M allocations: 1.710 GiB, 6.77% gc time)\n",
      "next time unit is 1.360000000000001\n",
      "  4.259574 seconds (58.03 M allocations: 1.710 GiB, 6.73% gc time)\n",
      "next time unit is 1.370000000000001\n",
      "  4.308891 seconds (58.03 M allocations: 1.710 GiB, 6.76% gc time)\n",
      "next time unit is 1.380000000000001\n",
      "  4.332024 seconds (58.03 M allocations: 1.710 GiB, 6.75% gc time)\n",
      "next time unit is 1.390000000000001\n",
      "  4.416008 seconds (58.03 M allocations: 1.710 GiB, 8.49% gc time)\n",
      "next time unit is 1.400000000000001\n",
      "  4.285150 seconds (58.03 M allocations: 1.710 GiB, 6.54% gc time)\n",
      "next time unit is 1.410000000000001\n",
      "  4.270200 seconds (58.03 M allocations: 1.710 GiB, 6.60% gc time)\n",
      "next time unit is 1.420000000000001\n",
      "  4.315664 seconds (58.03 M allocations: 1.710 GiB, 6.62% gc time)\n",
      "next time unit is 1.430000000000001\n",
      "  4.301790 seconds (58.03 M allocations: 1.710 GiB, 6.62% gc time)\n",
      "next time unit is 1.440000000000001\n",
      "  4.304942 seconds (58.03 M allocations: 1.710 GiB, 6.64% gc time)\n",
      "next time unit is 1.450000000000001\n",
      "  4.294647 seconds (58.03 M allocations: 1.710 GiB, 6.65% gc time)\n",
      "next time unit is 1.460000000000001\n",
      "  4.391129 seconds (58.03 M allocations: 1.710 GiB, 6.84% gc time)\n",
      "next time unit is 1.470000000000001\n",
      "  4.255129 seconds (58.03 M allocations: 1.710 GiB, 6.76% gc time)\n",
      "next time unit is 1.480000000000001\n",
      "  4.315603 seconds (58.03 M allocations: 1.710 GiB, 6.69% gc time)\n",
      "next time unit is 1.490000000000001\n",
      "  4.312823 seconds (58.03 M allocations: 1.710 GiB, 6.66% gc time)\n",
      "next time unit is 1.500000000000001\n",
      "  4.374146 seconds (58.03 M allocations: 1.710 GiB, 8.46% gc time)\n",
      "next time unit is 1.5100000000000011\n",
      "  4.332391 seconds (58.03 M allocations: 1.710 GiB, 6.51% gc time)\n",
      "next time unit is 1.5200000000000011\n",
      "  4.709086 seconds (58.03 M allocations: 1.710 GiB, 6.55% gc time)\n",
      "next time unit is 1.5300000000000011\n",
      "  4.539541 seconds (58.03 M allocations: 1.710 GiB, 6.82% gc time)\n",
      "next time unit is 1.5400000000000011\n",
      "  4.674866 seconds (58.03 M allocations: 1.710 GiB, 6.75% gc time)\n",
      "next time unit is 1.5500000000000012\n",
      "  4.533666 seconds (58.03 M allocations: 1.710 GiB, 6.88% gc time)\n",
      "next time unit is 1.5600000000000012\n",
      "  4.983598 seconds (58.03 M allocations: 1.710 GiB, 6.98% gc time)\n",
      "next time unit is 1.5700000000000012\n",
      "  5.064814 seconds (58.03 M allocations: 1.710 GiB, 6.66% gc time)\n",
      "next time unit is 1.5800000000000012\n",
      "  4.653345 seconds (58.03 M allocations: 1.710 GiB, 6.68% gc time)\n",
      "next time unit is 1.5900000000000012\n",
      "  4.544559 seconds (58.03 M allocations: 1.710 GiB, 6.67% gc time)\n",
      "next time unit is 1.6000000000000012\n"
     ]
    },
    {
     "name": "stdout",
     "output_type": "stream",
     "text": [
      "  4.525728 seconds (58.03 M allocations: 1.710 GiB, 6.78% gc time)\n",
      "next time unit is 1.6100000000000012\n",
      "  4.512093 seconds (58.03 M allocations: 1.710 GiB, 6.68% gc time)\n",
      "next time unit is 1.6200000000000012\n",
      "  4.719287 seconds (58.03 M allocations: 1.710 GiB, 8.59% gc time)\n",
      "next time unit is 1.6300000000000012\n",
      "  4.466558 seconds (58.03 M allocations: 1.710 GiB, 6.60% gc time)\n",
      "next time unit is 1.6400000000000012\n",
      "  4.493141 seconds (58.03 M allocations: 1.710 GiB, 6.60% gc time)\n",
      "next time unit is 1.6500000000000012\n",
      "  4.476183 seconds (58.03 M allocations: 1.710 GiB, 6.64% gc time)\n",
      "next time unit is 1.6600000000000013\n",
      "  4.463372 seconds (58.03 M allocations: 1.710 GiB, 6.74% gc time)\n",
      "next time unit is 1.6700000000000013\n",
      "  4.555180 seconds (58.03 M allocations: 1.710 GiB, 6.68% gc time)\n",
      "next time unit is 1.6800000000000013\n",
      "  4.503849 seconds (58.03 M allocations: 1.710 GiB, 6.63% gc time)\n",
      "next time unit is 1.6900000000000013\n",
      "  4.466700 seconds (58.03 M allocations: 1.710 GiB, 6.58% gc time)\n",
      "next time unit is 1.7000000000000013\n",
      "  4.504833 seconds (58.03 M allocations: 1.710 GiB, 6.75% gc time)\n",
      "next time unit is 1.7100000000000013\n",
      "  4.485292 seconds (58.03 M allocations: 1.710 GiB, 6.71% gc time)\n",
      "next time unit is 1.7200000000000013\n",
      "  4.467237 seconds (58.03 M allocations: 1.710 GiB, 6.60% gc time)\n",
      "next time unit is 1.7300000000000013\n",
      "  4.549882 seconds (58.03 M allocations: 1.710 GiB, 8.55% gc time)\n",
      "next time unit is 1.7400000000000013\n",
      "  4.574181 seconds (58.03 M allocations: 1.710 GiB, 6.37% gc time)\n",
      "next time unit is 1.7500000000000013\n",
      "  4.570338 seconds (58.03 M allocations: 1.710 GiB, 6.57% gc time)\n",
      "next time unit is 1.7600000000000013\n",
      "  4.514428 seconds (58.03 M allocations: 1.710 GiB, 6.56% gc time)\n",
      "next time unit is 1.7700000000000014\n",
      "  4.463286 seconds (58.03 M allocations: 1.710 GiB, 6.66% gc time)\n",
      "next time unit is 1.7800000000000014\n",
      "  4.410535 seconds (58.03 M allocations: 1.710 GiB, 6.66% gc time)\n",
      "next time unit is 1.7900000000000014\n",
      "  4.658412 seconds (58.03 M allocations: 1.710 GiB, 6.59% gc time)\n",
      "next time unit is 1.8000000000000014\n",
      "  4.628275 seconds (58.03 M allocations: 1.710 GiB, 6.77% gc time)\n",
      "next time unit is 1.8100000000000014\n",
      "  4.485020 seconds (58.03 M allocations: 1.710 GiB, 6.59% gc time)\n",
      "next time unit is 1.8200000000000014\n",
      "  4.690239 seconds (58.03 M allocations: 1.710 GiB, 6.74% gc time)\n",
      "next time unit is 1.8300000000000014\n",
      "  4.616045 seconds (58.03 M allocations: 1.710 GiB, 6.79% gc time)\n",
      "next time unit is 1.8400000000000014\n",
      "  4.598815 seconds (58.03 M allocations: 1.710 GiB, 6.57% gc time)\n",
      "next time unit is 1.8500000000000014\n",
      "  4.957654 seconds (58.03 M allocations: 1.710 GiB, 8.23% gc time)\n",
      "next time unit is 1.8600000000000014\n",
      "  4.591364 seconds (58.03 M allocations: 1.710 GiB, 6.65% gc time)\n",
      "next time unit is 1.8700000000000014\n",
      "  4.578030 seconds (58.03 M allocations: 1.710 GiB, 6.52% gc time)\n",
      "next time unit is 1.8800000000000014\n",
      "  4.691827 seconds (58.03 M allocations: 1.710 GiB, 6.78% gc time)\n",
      "next time unit is 1.8900000000000015\n",
      "  4.544363 seconds (58.03 M allocations: 1.710 GiB, 6.71% gc time)\n",
      "next time unit is 1.9000000000000015\n",
      "  4.536304 seconds (58.03 M allocations: 1.710 GiB, 6.62% gc time)\n",
      "next time unit is 1.9100000000000015\n",
      "  4.521944 seconds (58.03 M allocations: 1.710 GiB, 6.82% gc time)\n",
      "next time unit is 1.9200000000000015\n",
      "  4.595974 seconds (58.03 M allocations: 1.710 GiB, 6.80% gc time)\n",
      "next time unit is 1.9300000000000015\n",
      "  4.471313 seconds (58.03 M allocations: 1.710 GiB, 6.77% gc time)\n",
      "next time unit is 1.9400000000000015\n",
      "  4.585928 seconds (58.03 M allocations: 1.710 GiB, 6.71% gc time)\n",
      "next time unit is 1.9500000000000015\n",
      "  4.596573 seconds (58.03 M allocations: 1.710 GiB, 6.74% gc time)\n",
      "next time unit is 1.9600000000000015\n",
      "  4.609298 seconds (58.03 M allocations: 1.710 GiB, 8.44% gc time)\n",
      "next time unit is 1.9700000000000015\n",
      "  4.517672 seconds (58.03 M allocations: 1.710 GiB, 6.46% gc time)\n",
      "next time unit is 1.9800000000000015\n",
      "  4.464200 seconds (58.03 M allocations: 1.710 GiB, 6.65% gc time)\n",
      "next time unit is 1.9900000000000015\n",
      "  4.516249 seconds (58.03 M allocations: 1.710 GiB, 6.72% gc time)\n",
      "next time unit is 2.0000000000000013\n",
      "878.631399 seconds (11.61 G allocations: 342.248 GiB, 6.82% gc time)\n"
     ]
    }
   ],
   "source": [
    "@time for ti in T\n",
    "    \n",
    "    @time global t, (w, f), (qJ, v, λ), bd = ifherk_coupled(t, w, qJ, v, bd,fsys)\n",
    "    \n",
    "    push!(thist,t)\n",
    "    push!(fx,sum(f.u)*Δx^2)\n",
    "    push!(fy,sum(f.v)*Δx^2)\n",
    "    push!(whist,deepcopy(w))\n",
    "    push!(bdhist,deepcopy(bd))\n",
    "    println(\"next time unit is \",t)\n",
    "end"
   ]
  },
  {
   "cell_type": "markdown",
   "metadata": {},
   "source": [
    "## <span style=\"color:blue\"> Plot </span>"
   ]
  },
  {
   "cell_type": "markdown",
   "metadata": {},
   "source": [
    "#### Set contour levels and fps"
   ]
  },
  {
   "cell_type": "code",
   "execution_count": 47,
   "metadata": {},
   "outputs": [],
   "source": [
    "contour_levels = range(-1.,stop=1,length=30)\n",
    "sample_freq = 2\n",
    "fps = 25;"
   ]
  },
  {
   "cell_type": "markdown",
   "metadata": {},
   "source": [
    "#### Get body verts history"
   ]
  },
  {
   "cell_type": "code",
   "execution_count": 22,
   "metadata": {},
   "outputs": [],
   "source": [
    "# get verts info based on this regular grid solution\n",
    "vshist = []\n",
    "for i = 1:length(bdhist)\n",
    "    @get bdhist[i] (bs, js, sys)\n",
    "    push!(vshist, VertsHistory(sys.nbody, bs))\n",
    "end"
   ]
  },
  {
   "cell_type": "markdown",
   "metadata": {},
   "source": [
    "#### Plot first and last time field"
   ]
  },
  {
   "cell_type": "code",
   "execution_count": 49,
   "metadata": {},
   "outputs": [
    {
     "data": {
      "image/png": "[encoded data removed]"
     },
     "execution_count": 49,
     "metadata": {},
     "output_type": "execute_result"
    }
   ],
   "source": [
    "p = plot(xg,yg,whist[1],levels=contour_levels)\n",
    "for i = 1:bd.sys.nbody\n",
    "    plot!(p,vshist[1][i,2:3,1], vshist[1][i,2:3,2],linewidth=2,linecolor=\"black\")\n",
    "end\n",
    "p"
   ]
  },
  {
   "cell_type": "code",
   "execution_count": 48,
   "metadata": {},
   "outputs": [
    {
     "data": {
      "image/png": "[encoded data removed]"
     },
     "execution_count": 48,
     "metadata": {},
     "output_type": "execute_result"
    }
   ],
   "source": [
    "p = plot(xg,yg,whist[end],levels=contour_levels)\n",
    "for i = 1:bd.sys.nbody\n",
    "    plot!(p,vshist[end][i,2:3,1], vshist[end][i,2:3,2],linewidth=2,linecolor=\"black\")\n",
    "end\n",
    "# savefig(p,\"plate.eps\")\n",
    "p"
   ]
  },
  {
   "cell_type": "markdown",
   "metadata": {},
   "source": [
    "#### Body position begining and end"
   ]
  },
  {
   "cell_type": "code",
   "execution_count": 25,
   "metadata": {},
   "outputs": [
    {
     "data": {
      "text/plain": [
       "2.0"
      ]
     },
     "execution_count": 25,
     "metadata": {},
     "output_type": "execute_result"
    }
   ],
   "source": [
    "bd.bs[1].mass"
   ]
  },
  {
   "cell_type": "code",
   "execution_count": 26,
   "metadata": {},
   "outputs": [
    {
     "data": {
      "image/png": "[encoded data removed]"
     },
     "execution_count": 26,
     "metadata": {},
     "output_type": "execute_result"
    }
   ],
   "source": [
    "pb = plot()\n",
    "for i = 1:sys.nbody\n",
    "    plot!(pb,vshist[1][i,2:3,1], vshist[1][i,2:3,2],linewidth=2,linecolor=\"grey\",label=\"begin\")\n",
    "end\n",
    "for i = 1:sys.nbody\n",
    "    plot!(pb,vshist[end][i,2:3,1], vshist[end][i,2:3,2],linewidth=2,linecolor=\"red\",label=\"end\")\n",
    "end\n",
    "plot!(pb,xlims=(xg[1],xg[end]), ylims=(yg[1],yg[end]))\n",
    "pb"
   ]
  },
  {
   "cell_type": "markdown",
   "metadata": {},
   "source": [
    "#### Make gif"
   ]
  },
  {
   "cell_type": "code",
   "execution_count": 50,
   "metadata": {},
   "outputs": [
    {
     "data": {
      "image/png": "[encoded data removed]",
      "text/plain": [
       "PyPlot.Figure(PyObject <matplotlib.figure.Figure object at 0x7f2d1943c320>)"
      ]
     },
     "metadata": {},
     "output_type": "display_data"
    },
    {
     "name": "stderr",
     "output_type": "stream",
     "text": [
      "┌ Info: Saved animation to \n",
      "│   fn = /mnt/g/Research/FSI.jl/examples/FallingPlate.gif\n",
      "└ @ Plots /home/fs/.julia/packages/Plots/oiirH/src/animation.jl:90\n"
     ]
    },
    {
     "data": {
      "text/html": [
       "<img src=\"FallingPlate.gif\" />"
      ],
      "text/plain": [
       "Plots.AnimatedGif(\"/mnt/g/Research/FSI.jl/examples/FallingPlate.gif\")"
      ]
     },
     "execution_count": 50,
     "metadata": {},
     "output_type": "execute_result"
    }
   ],
   "source": [
    "anim = @animate for j = 1:length(whist)\n",
    "    plot(xg,yg,whist[j],levels=contour_levels)\n",
    "    for i = 1:sys.nbody\n",
    "        plot!(vshist[j][i,2:3,1], vshist[j][i,2:3,2],linewidth=2,linecolor=\"black\")\n",
    "    end\n",
    "end\n",
    "\n",
    "gif(anim, filename*\".gif\", fps = fps)"
   ]
  },
  {
   "cell_type": "markdown",
   "metadata": {},
   "source": [
    "#### Get position, velocity and acceleration in time"
   ]
  },
  {
   "cell_type": "code",
   "execution_count": 28,
   "metadata": {},
   "outputs": [],
   "source": [
    "vhist = [0.0]\n",
    "phist = [0.0]\n",
    "\n",
    "for i in 1:length(bdhist)\n",
    "    push!(vhist,bdhist[i].bs[1].v[5])\n",
    "    push!(phist,bdhist[i].bs[1].x_i[2]-bdhist[1].bs[1].x_i[2])    \n",
    "end\n",
    "\n",
    "ahist = []\n",
    "for i in 1:length(vhist)-1\n",
    "    push!(ahist,(vhist[i+1]-vhist[i])/Δt)\n",
    "end"
   ]
  },
  {
   "cell_type": "code",
   "execution_count": 101,
   "metadata": {},
   "outputs": [
    {
     "data": {
      "text/plain": [
       "10-element Array{Float64,1}:\n",
       " 0.3161755559348704 \n",
       " 0.31976288986673507\n",
       " 0.32293164265968843\n",
       " 0.32578032025026543\n",
       " 0.3283796245270369 \n",
       " 0.330781236939012  \n",
       " 0.3330233867221831 \n",
       " 0.3351345576942915 \n",
       " 0.33713605048265494\n",
       " 0.3390437989784147 "
      ]
     },
     "execution_count": 101,
     "metadata": {},
     "output_type": "execute_result"
    }
   ],
   "source": [
    "fy[1:10]"
   ]
  },
  {
   "cell_type": "code",
   "execution_count": 40,
   "metadata": {},
   "outputs": [
    {
     "data": {
      "text/plain": [
       "200-element Array{Any,1}:\n",
       " -0.3418833238454901 \n",
       " -0.3398453262073189 \n",
       " -0.33806715884018496\n",
       " -0.3364845747126765 \n",
       " -0.33505245107283593\n",
       " -0.3337382946736234 \n",
       " -0.3325182962864933 \n",
       " -0.3313748082432441 \n",
       " -0.3302946570611198 \n",
       " -0.3292679753538058 \n",
       " -0.32828737386890183\n",
       " -0.32734734470974897\n",
       " -0.32644382512737946\n",
       "  ⋮                  \n",
       " -0.18447690793120808\n",
       " -0.17639085039603541\n",
       " -0.18694722294337884\n",
       " -0.19449168908068915\n",
       " -0.17890683695822585\n",
       " -0.1717944489152301 \n",
       " -0.18434334166577138\n",
       " -0.19117404879214206\n",
       " -0.1733791323512368 \n",
       " -0.16843414279155144\n",
       " -0.18249642223322482\n",
       " -0.1861340408165768 "
      ]
     },
     "execution_count": 40,
     "metadata": {},
     "output_type": "execute_result"
    }
   ],
   "source": [
    "ahist"
   ]
  },
  {
   "cell_type": "code",
   "execution_count": 30,
   "metadata": {},
   "outputs": [
    {
     "data": {
      "image/png": "[encoded data removed]"
     },
     "execution_count": 30,
     "metadata": {},
     "output_type": "execute_result"
    }
   ],
   "source": [
    "px = plot(thist,2*fx,ylim=(-1,1),xlabel=\"Convective time\",ylabel=\"\\$C_D\\$\",legend=false)\n",
    "py = plot(thist,2*fy,ylim=(0,2),xlabel=\"Convective time\",ylabel=\"\\$C_L\\$\",legend=false)\n",
    "plot(px,py)"
   ]
  },
  {
   "cell_type": "code",
   "execution_count": 38,
   "metadata": {},
   "outputs": [],
   "source": [
    "using CSV\n",
    "\n",
    "pdata = CSV.read(\"local_run/validation/csv/position.csv\",header=false)\n",
    "xp = [pdata[i,1] for i in 1:length(pdata[1])]\n",
    "yp = [pdata[i,2] for i in 1:length(pdata[2])]\n",
    "\n",
    "vdata = CSV.read(\"local_run/validation/csv/velocity.csv\",header=false)\n",
    "xv = [vdata[i,1] for i in 1:length(vdata[1])]\n",
    "yv = [vdata[i,2] for i in 1:length(vdata[2])]\n",
    "\n",
    "adata = CSV.read(\"local_run/validation/csv/acceleration.csv\",header=false)\n",
    "xa = [adata[i,1] for i in 1:length(adata[1])]\n",
    "ya = [adata[i,2] for i in 1:length(adata[2])];"
   ]
  },
  {
   "cell_type": "code",
   "execution_count": 39,
   "metadata": {},
   "outputs": [
    {
     "data": {
      "image/png": "[encoded data removed]"
     },
     "execution_count": 39,
     "metadata": {},
     "output_type": "execute_result"
    }
   ],
   "source": [
    "pp = plot([0.0;thist],phist,xlabel=\"\\$(g/D)^{0.5}t \\$\",ylabel=\"\\$y/D\\$\",legend=false)#,ylims=(-25,0))\n",
    "scatter!(pp,xp,yp,linestyle=:dot,markersize=1)\n",
    "pv = plot([0.0;thist],vhist,xlabel=\"\\$(g/D)^{0.5}t \\$\",ylabel=\"\\$v/(gD)^{0.5}\\$\",legend=false)#,ylims=(-2,0))\n",
    "scatter!(xv,yv,linestyle=:dot,markersize=1)\n",
    "pa = plot([0.0;thist[1:end-1]],ahist,xlabel=\"\\$(g/D)^{0.5}t \\$\",ylabel=\"\\$a/g\\$\",legend=false)#,ylims=(-0.5,0))\n",
    "scatter!(xa,ya,linestyle=:dot,markersize=1)\n",
    "\n",
    "plot(pp,pv,pa)"
   ]
  },
  {
   "cell_type": "markdown",
   "metadata": {},
   "source": [
    "## <span style=\"color:blue\"> Save Data </span>"
   ]
  },
  {
   "cell_type": "markdown",
   "metadata": {},
   "source": [
    "#### Save all current data related to plotting to a .jld file"
   ]
  },
  {
   "cell_type": "code",
   "execution_count": 31,
   "metadata": {},
   "outputs": [],
   "source": [
    "using JLD\n",
    "save(filename*\".jld\",\n",
    "    \"bd\", bd,    \n",
    "    \"bdhist\", bdhist,\n",
    "    \"xg\", xg,\n",
    "    \"yg\", yg,\n",
    "    \"whist\", whist,\n",
    "    \"vshist\", vshist,\n",
    "    \"thist\", thist,\n",
    "    \"fx\", fx,\n",
    "    \"fy\", fy,\n",
    "    \"Δt\", Δt,\n",
    "    \"w\", w,\n",
    "    \"qJ\", qJ,\n",
    "    \"v\", v\n",
    ")"
   ]
  },
  {
   "cell_type": "markdown",
   "metadata": {},
   "source": [
    "#### Use the following block to extract data"
   ]
  },
  {
   "cell_type": "code",
   "execution_count": 32,
   "metadata": {},
   "outputs": [],
   "source": [
    "# using JLD\n",
    "\n",
    "# d = load(filename*\".jld\")\n",
    "# thist = d[\"thist\"]\n",
    "# fx = d[\"fx\"]\n",
    "# fy = d[\"fy\"]\n",
    "# xg = d[\"xg\"]\n",
    "# yg = d[\"yg\"]\n",
    "# vshist = d[\"vshist\"]\n",
    "# whist = d[\"whist\"]\n",
    "# bd = d[\"bd\"]\n",
    "# bdhist = d[\"bdhist\"]\n",
    "# Δt = d[\"Δt\"]\n",
    "# w = d[\"w\"]\n",
    "# qJ = d[\"qJ\"]\n",
    "# v = d[\"v\"]\n",
    "\n",
    "# @get bd (bs,js,sys);"
   ]
  }
 ],
 "metadata": {
  "@webio": {
   "lastCommId": null,
   "lastKernelId": null
  },
  "kernelspec": {
   "display_name": "Julia 1.0.4",
   "language": "julia",
   "name": "julia-1.0"
  },
  "language_info": {
   "file_extension": ".jl",
   "mimetype": "application/julia",
   "name": "julia",
   "version": "1.0.4"
  }
 },
 "nbformat": 4,
 "nbformat_minor": 2
}
