{
 "cells": [
  {
   "cell_type": "markdown",
   "metadata": {},
   "source": [
    "# FSI problem"
   ]
  },
  {
   "cell_type": "markdown",
   "metadata": {},
   "source": [
    "### This is a FSI problem of 1-D falling plate in quiscent flow."
   ]
  },
  {
   "cell_type": "code",
   "execution_count": 1,
   "metadata": {},
   "outputs": [
    {
     "name": "stderr",
     "output_type": "stream",
     "text": [
      "┌ Info: Recompiling stale cache file /home/fs/.julia/compiled/v1.0/FSI/t27zx.ji for FSI [39fdbc7a-862a-11e9-015b-61723af7393f]\n",
      "└ @ Base loading.jl:1190\n",
      "[ Info: Building and caching LGF table\n"
     ]
    }
   ],
   "source": [
    "using Pkg\n",
    "Pkg.activate(\"..\")\n",
    "using FSI"
   ]
  },
  {
   "cell_type": "code",
   "execution_count": 4,
   "metadata": {},
   "outputs": [],
   "source": [
    "using Revise\n",
    "using BSON: @save, @load\n",
    "\n",
    "using Plots\n",
    "pyplot()\n",
    "clibrary(:colorcet)\n",
    "\n",
    "default(grid = false)"
   ]
  },
  {
   "cell_type": "code",
   "execution_count": 5,
   "metadata": {},
   "outputs": [],
   "source": [
    "filename = \"FallingPlate\";"
   ]
  },
  {
   "cell_type": "markdown",
   "metadata": {},
   "source": [
    "## <span style=\"color:blue\"> Set up rigid body with Dyn3d"
   ]
  },
  {
   "cell_type": "markdown",
   "metadata": {},
   "source": [
    "#### Include any joint-body setup script from Dyn3d"
   ]
  },
  {
   "cell_type": "code",
   "execution_count": 6,
   "metadata": {},
   "outputs": [
    {
     "data": {
      "text/plain": [
       " joint type = custom_prismatic_in_y\n",
       " joint position in parent body coord = [0.0, 0.0, 0.0, 0.5, 4.5, 0.0]\n",
       " joint position in child body coord = [0.0, 0.0, 0.0, 0.0, 0.0, 0.0]\n",
       " joint unconstrained dof = 5, under passive motion\n",
       " initial unconstrained dof position = [0.0]\n"
      ]
     },
     "execution_count": 6,
     "metadata": {},
     "output_type": "execute_result"
    }
   ],
   "source": [
    "# problem dimension\n",
    "ndim = 2\n",
    "# numerical params\n",
    "tf = 6\n",
    "dt = 1e-3\n",
    "scheme = \"Liska\"\n",
    "st = 3\n",
    "tol = 1e-4\n",
    "num_params = NumParams(tf, dt, scheme, st, tol)\n",
    "# gravity\n",
    "gravity = [0., -1.0, 0.]\n",
    "\n",
    "# set up system config info\n",
    "config_system = ConfigSystem(ndim, gravity, num_params)\n",
    "\n",
    "# set up bodys\n",
    "nbody = 1\n",
    "config_body = ConfigBody(nbody, 4,\n",
    "   [0. 0.; 1. 0.; 1. 1.0/nbody; 0. 1.0/nbody], 2.0)\n",
    "config_bodys = fill(config_body, nbody)\n",
    "\n",
    "# set up joints\n",
    "njoint = nbody\n",
    "\n",
    "config_joints = Vector{ConfigJoint}(undef,njoint)\n",
    "\n",
    "# set the first passive joint with no stiff and damp\n",
    "dof_1 = Dof(5, \"passive\", 0., 0., Motions())\n",
    "\n",
    "config_joints[1] = ConfigJoint(njoint, \"custom_prismatic_in_y\",\n",
    "    [0.,0.,0.,0.5,4.5,0.], zeros(Float64,6), 0, [dof_1], [0.])"
   ]
  },
  {
   "cell_type": "markdown",
   "metadata": {},
   "source": [
    "#### Build joint-body chain"
   ]
  },
  {
   "cell_type": "code",
   "execution_count": 7,
   "metadata": {},
   "outputs": [
    {
     "data": {
      "text/plain": []
     },
     "execution_count": 7,
     "metadata": {},
     "output_type": "execute_result"
    },
    {
     "name": "stdout",
     "output_type": "stream",
     "text": [
      "This is a 1 body-joint system, system is un-mounted from space"
     ]
    }
   ],
   "source": [
    "bs, js, bsys = BuildChain(config_bodys, config_joints, config_system)\n",
    "bd = BodyDyn(bs, js, bsys)"
   ]
  },
  {
   "cell_type": "markdown",
   "metadata": {},
   "source": [
    "#### Initialize rigid body system state to complete body-joint information"
   ]
  },
  {
   "cell_type": "code",
   "execution_count": 8,
   "metadata": {},
   "outputs": [],
   "source": [
    "bd, soln₀ = InitSystem!(bd);"
   ]
  },
  {
   "cell_type": "markdown",
   "metadata": {},
   "source": [
    "#### Initialize u and λ container"
   ]
  },
  {
   "cell_type": "code",
   "execution_count": 9,
   "metadata": {},
   "outputs": [],
   "source": [
    "qJ = soln₀.qJ\n",
    "v = soln₀.v\n",
    "λ_dim = bd.sys.ncdof_HERK\n",
    "λ = zeros(Float64,λ_dim);"
   ]
  },
  {
   "cell_type": "markdown",
   "metadata": {},
   "source": [
    "#### Get body verts for plotting"
   ]
  },
  {
   "cell_type": "code",
   "execution_count": 10,
   "metadata": {},
   "outputs": [],
   "source": [
    "@get bd (bs, js, sys)\n",
    "bs, js, sys = UpdatePosition!(bs, js, sys, soln₀.qJ)\n",
    "vs₀ = VertsHistory(sys.nbody, bs);"
   ]
  },
  {
   "cell_type": "markdown",
   "metadata": {},
   "source": [
    "#### Plot body only"
   ]
  },
  {
   "cell_type": "code",
   "execution_count": 11,
   "metadata": {
    "scrolled": false
   },
   "outputs": [
    {
     "data": {
      "image/png": "[encoded data removed]"
     },
     "execution_count": 11,
     "metadata": {},
     "output_type": "execute_result"
    }
   ],
   "source": [
    "p = plot()\n",
    "for i = 1:sys.nbody\n",
    "    plot!(p,vs₀[i,2:3,1], vs₀[i,2:3,2],linewidth=2)\n",
    "end\n",
    "plot!(xlims=(0,2), ylims=(0,5),ratio=1)"
   ]
  },
  {
   "cell_type": "markdown",
   "metadata": {},
   "source": [
    "## <span style=\"color:blue\"> Set up fluid with Whirl </span>"
   ]
  },
  {
   "cell_type": "markdown",
   "metadata": {},
   "source": [
    "#### Set the flow parameters"
   ]
  },
  {
   "cell_type": "code",
   "execution_count": 12,
   "metadata": {},
   "outputs": [
    {
     "data": {
      "text/plain": [
       "(0.0, 0.0)"
      ]
     },
     "execution_count": 12,
     "metadata": {},
     "output_type": "execute_result"
    }
   ],
   "source": [
    "Re = 200 # Reynolds number\n",
    "U = 0.0 # Free stream velocity\n",
    "U∞ = (0.0, U)"
   ]
  },
  {
   "cell_type": "markdown",
   "metadata": {},
   "source": [
    "#### Set the domain grid"
   ]
  },
  {
   "cell_type": "code",
   "execution_count": 13,
   "metadata": {},
   "outputs": [
    {
     "data": {
      "text/plain": [
       "(-0.01:0.02:2.0100000000000002, -0.01:0.02:5.01)"
      ]
     },
     "execution_count": 13,
     "metadata": {},
     "output_type": "execute_result"
    }
   ],
   "source": [
    "nx = 102; ny = 252;\n",
    "Ly = 5.0;\n",
    "Δx = Ly/(ny-2);\n",
    "\n",
    "Δt = min(0.5*Δx,0.5*Δx^2*Re)\n",
    "\n",
    "w₀ = Nodes(Dual,(nx,ny))\n",
    "xg, yg = coordinates(w₀,dx=Δx)"
   ]
  },
  {
   "cell_type": "markdown",
   "metadata": {},
   "source": [
    "#### Set up fluid initial conditions"
   ]
  },
  {
   "cell_type": "code",
   "execution_count": 14,
   "metadata": {},
   "outputs": [],
   "source": [
    "w₀ .= 0.0;\n",
    "w = deepcopy(w₀);"
   ]
  },
  {
   "cell_type": "markdown",
   "metadata": {},
   "source": [
    "## <span style=\"color:blue\"> Create fluid-body interface </span>"
   ]
  },
  {
   "cell_type": "markdown",
   "metadata": {},
   "source": [
    "#### Genrate body grid points and get linear velocity on them"
   ]
  },
  {
   "cell_type": "code",
   "execution_count": 15,
   "metadata": {
    "scrolled": true
   },
   "outputs": [],
   "source": [
    "# bgs short for body grid system\n",
    "bgs = GenerateBodyGrid(bd; np=DetermineNP(nbody, Δx))\n",
    "bgs = CutOut2d(bd,bgs);"
   ]
  },
  {
   "cell_type": "markdown",
   "metadata": {},
   "source": [
    "#### Get body points initial coordinates for fluids"
   ]
  },
  {
   "cell_type": "code",
   "execution_count": 16,
   "metadata": {},
   "outputs": [],
   "source": [
    "bgs = AcquireBodyGridKinematics(bd,bgs)\n",
    "coord_init = hcat(bgs[1].q_i...)'[:,[1,2]]\n",
    "for i = 2:length(bgs)\n",
    "    coord_init = [coord_init[1:end-1,:]; hcat(bgs[i].q_i...)'[:,[1,2]]]\n",
    "end"
   ]
  },
  {
   "cell_type": "markdown",
   "metadata": {},
   "source": [
    "#### Set up body grid points and force container in fluid"
   ]
  },
  {
   "cell_type": "code",
   "execution_count": 17,
   "metadata": {},
   "outputs": [],
   "source": [
    "X̃ = VectorData(coord_init)\n",
    "f = VectorData(X̃);"
   ]
  },
  {
   "cell_type": "markdown",
   "metadata": {},
   "source": [
    "#### Create fluidstruct structure"
   ]
  },
  {
   "cell_type": "code",
   "execution_count": 18,
   "metadata": {},
   "outputs": [
    {
     "data": {
      "text/plain": [
       "51"
      ]
     },
     "execution_count": 18,
     "metadata": {},
     "output_type": "execute_result"
    }
   ],
   "source": [
    "tf = 450Δt\n",
    "T = Δt:Δt:tf\n",
    "fsys = FluidStruct((nx,ny),Re,Δx,Δt,U∞ = U∞, X̃ = X̃, rk=RK31)\n",
    "N = length(X̃)÷2"
   ]
  },
  {
   "cell_type": "markdown",
   "metadata": {},
   "source": [
    "## <span style=\"color:blue\"> Create ifherk object </span>"
   ]
  },
  {
   "cell_type": "markdown",
   "metadata": {},
   "source": [
    "#### pretend that this thin body has finite volume for buoyancy"
   ]
  },
  {
   "cell_type": "code",
   "execution_count": 19,
   "metadata": {},
   "outputs": [],
   "source": [
    "function TimeMarching.F(bd::BodyDyn)\n",
    "    f_exi = zeros(Float64,bd.sys.nbody,6)\n",
    "    return HERKFuncf(bd.bs, bd.js, bd.sys, f_exi)\n",
    "end"
   ]
  },
  {
   "cell_type": "code",
   "execution_count": 20,
   "metadata": {},
   "outputs": [
    {
     "name": "stdout",
     "output_type": "stream",
     "text": [
      "  5.848911 seconds (23.12 M allocations: 1.505 GiB, 8.72% gc time)\n"
     ]
    },
    {
     "data": {
      "text/plain": [
       "Stage-3+ IF-HERK integrator with\n",
       "   Time step size 0.01\n"
      ]
     },
     "execution_count": 20,
     "metadata": {},
     "output_type": "execute_result"
    }
   ],
   "source": [
    "@time ifherk_coupled = FSI.IFHERK_coupled(fsys.Δt,bd,bgs,(w₀,qJ,v,f,λ),\n",
    "                ((t,u) -> Systems.plan_intfact(t,u,fsys), B₁ᵀ, B₂),\n",
    "                (M⁻¹, G₁ᵀ, G₂, UpP, UpV),\n",
    "                ((bd,bgs,f) -> T₁ᵀ(bd,bgs,f,fsys.Δx), (bd,bgs,u) -> T₂(bd,bgs,u), (bd,bgs) -> getX̃(bd,bgs)),\n",
    "                ((w,t) -> r₁(w,t,fsys), F, w -> U_inf(w,fsys), gti),\n",
    "                fsys, tol=1e-3,rk=TimeMarching.RK31)"
   ]
  },
  {
   "cell_type": "code",
   "execution_count": 21,
   "metadata": {},
   "outputs": [],
   "source": [
    "fx = Float64[]\n",
    "fy = Float64[]\n",
    "thist = []\n",
    "t = 0.0\n",
    "whist = []\n",
    "bdhist = BodyDyn[];"
   ]
  },
  {
   "cell_type": "markdown",
   "metadata": {},
   "source": [
    "## <span style=\"color:blue\"> TimeMarching! </span>"
   ]
  },
  {
   "cell_type": "code",
   "execution_count": 22,
   "metadata": {
    "scrolled": true
   },
   "outputs": [
    {
     "name": "stdout",
     "output_type": "stream",
     "text": [
      "  2.709102 seconds (9.54 M allocations: 897.164 MiB, 6.65% gc time)\n",
      "next time unit is 0.01\n",
      "data saved at time 0.01\n",
      "  1.104997 seconds (5.98 M allocations: 730.285 MiB, 10.25% gc time)\n",
      "next time unit is 0.02\n",
      "  1.125472 seconds (5.98 M allocations: 730.285 MiB, 9.35% gc time)\n",
      "next time unit is 0.03\n",
      "  1.085285 seconds (5.98 M allocations: 730.285 MiB, 9.51% gc time)\n",
      "next time unit is 0.04\n",
      "  1.099281 seconds (5.98 M allocations: 730.285 MiB, 9.42% gc time)\n",
      "next time unit is 0.05\n",
      "  1.100303 seconds (5.98 M allocations: 730.285 MiB, 9.59% gc time)\n",
      "next time unit is 0.06\n",
      "  1.101120 seconds (5.98 M allocations: 730.285 MiB, 9.61% gc time)\n",
      "next time unit is 0.07\n",
      "  1.217113 seconds (5.98 M allocations: 730.321 MiB, 15.39% gc time)\n",
      "next time unit is 0.08\n",
      "  1.070260 seconds (5.96 M allocations: 729.974 MiB, 8.62% gc time)\n",
      "next time unit is 0.09\n",
      "  1.089636 seconds (5.96 M allocations: 729.974 MiB, 8.21% gc time)\n",
      "next time unit is 0.1\n",
      "  1.083783 seconds (5.98 M allocations: 730.285 MiB, 8.20% gc time)\n",
      "next time unit is 0.11\n",
      "  1.076227 seconds (5.98 M allocations: 730.285 MiB, 8.70% gc time)\n",
      "next time unit is 0.12\n",
      "  1.075245 seconds (5.98 M allocations: 730.285 MiB, 8.26% gc time)\n",
      "next time unit is 0.13\n",
      "  1.072632 seconds (5.98 M allocations: 730.285 MiB, 8.37% gc time)\n",
      "next time unit is 0.14\n",
      "  1.089048 seconds (5.98 M allocations: 730.285 MiB, 8.57% gc time)\n",
      "next time unit is 0.15\n",
      "  1.075957 seconds (5.98 M allocations: 730.285 MiB, 8.28% gc time)\n",
      "next time unit is 0.16\n",
      "  1.079532 seconds (5.98 M allocations: 730.285 MiB, 8.31% gc time)\n",
      "next time unit is 0.17\n",
      "  1.079006 seconds (5.96 M allocations: 729.974 MiB, 8.72% gc time)\n",
      "next time unit is 0.18\n",
      "  1.077647 seconds (5.96 M allocations: 729.974 MiB, 8.26% gc time)\n",
      "next time unit is 0.19\n",
      "  1.086714 seconds (5.98 M allocations: 730.285 MiB, 8.28% gc time)\n",
      "next time unit is 0.2\n",
      "  1.094089 seconds (5.98 M allocations: 730.285 MiB, 8.68% gc time)\n",
      "next time unit is 0.21\n",
      "  1.079199 seconds (5.96 M allocations: 729.974 MiB, 8.35% gc time)\n",
      "next time unit is 0.22\n",
      "  1.077539 seconds (5.96 M allocations: 729.974 MiB, 8.34% gc time)\n",
      "next time unit is 0.23\n",
      "  1.085540 seconds (5.98 M allocations: 730.285 MiB, 8.70% gc time)\n",
      "next time unit is 0.24\n",
      "  1.106368 seconds (5.98 M allocations: 730.285 MiB, 8.16% gc time)\n",
      "next time unit is 0.25\n",
      "  1.093456 seconds (5.98 M allocations: 730.285 MiB, 8.28% gc time)\n",
      "next time unit is 0.26\n",
      "  1.095629 seconds (5.98 M allocations: 730.285 MiB, 8.68% gc time)\n",
      "next time unit is 0.27\n",
      "  1.061084 seconds (5.98 M allocations: 730.285 MiB, 8.46% gc time)\n",
      "next time unit is 0.28\n",
      "  1.077897 seconds (5.98 M allocations: 730.285 MiB, 8.44% gc time)\n",
      "next time unit is 0.29\n",
      "  1.078502 seconds (5.93 M allocations: 729.664 MiB, 8.39% gc time)\n",
      "next time unit is 0.3\n",
      "  1.079962 seconds (5.98 M allocations: 730.285 MiB, 8.71% gc time)\n",
      "next time unit is 0.31\n",
      "  1.072511 seconds (5.98 M allocations: 730.285 MiB, 8.43% gc time)\n",
      "next time unit is 0.32\n",
      "  1.097159 seconds (5.98 M allocations: 730.285 MiB, 8.39% gc time)\n",
      "next time unit is 0.33\n",
      "  1.088992 seconds (5.98 M allocations: 730.285 MiB, 8.76% gc time)\n",
      "next time unit is 0.34\n",
      "  1.061279 seconds (5.98 M allocations: 730.285 MiB, 8.50% gc time)\n",
      "next time unit is 0.35\n",
      "  1.062137 seconds (5.98 M allocations: 730.285 MiB, 8.63% gc time)\n",
      "next time unit is 0.36\n",
      "  1.093453 seconds (5.93 M allocations: 729.664 MiB, 8.61% gc time)\n",
      "next time unit is 0.37\n",
      "  1.081481 seconds (5.98 M allocations: 730.285 MiB, 8.43% gc time)\n",
      "next time unit is 0.38\n",
      "  1.074486 seconds (5.98 M allocations: 730.285 MiB, 8.50% gc time)\n",
      "next time unit is 0.39\n",
      "  1.075630 seconds (5.98 M allocations: 730.285 MiB, 8.93% gc time)\n",
      "next time unit is 0.4\n",
      "  1.157774 seconds (5.98 M allocations: 730.285 MiB, 15.41% gc time)\n",
      "next time unit is 0.41\n",
      "  1.085259 seconds (5.98 M allocations: 730.285 MiB, 8.24% gc time)\n",
      "next time unit is 0.42\n",
      "  1.088487 seconds (5.98 M allocations: 730.285 MiB, 8.72% gc time)\n",
      "next time unit is 0.43\n",
      "  1.073013 seconds (5.98 M allocations: 730.285 MiB, 8.30% gc time)\n",
      "next time unit is 0.44\n",
      "  1.069228 seconds (5.98 M allocations: 730.285 MiB, 8.31% gc time)\n",
      "next time unit is 0.45\n",
      "  1.096219 seconds (5.98 M allocations: 730.285 MiB, 8.59% gc time)\n",
      "next time unit is 0.46\n",
      "  1.077904 seconds (5.98 M allocations: 730.285 MiB, 8.29% gc time)\n",
      "next time unit is 0.47\n",
      "  1.092503 seconds (5.98 M allocations: 730.285 MiB, 8.39% gc time)\n",
      "next time unit is 0.48\n",
      "  1.082549 seconds (5.98 M allocations: 730.285 MiB, 8.72% gc time)\n",
      "next time unit is 0.49\n",
      "  1.071907 seconds (5.98 M allocations: 730.285 MiB, 8.32% gc time)\n",
      "next time unit is 0.5\n",
      "  1.073288 seconds (5.98 M allocations: 730.285 MiB, 8.24% gc time)\n",
      "next time unit is 0.51\n",
      "  1.080717 seconds (5.93 M allocations: 729.664 MiB, 8.73% gc time)\n",
      "next time unit is 0.52\n",
      "  1.092068 seconds (5.98 M allocations: 730.285 MiB, 8.40% gc time)\n",
      "next time unit is 0.53\n",
      "  1.159035 seconds (5.93 M allocations: 729.664 MiB, 8.25% gc time)\n",
      "next time unit is 0.54\n",
      "  1.117643 seconds (5.98 M allocations: 730.285 MiB, 8.47% gc time)\n",
      "next time unit is 0.55\n",
      "  1.121608 seconds (5.98 M allocations: 730.285 MiB, 8.34% gc time)\n",
      "next time unit is 0.56\n",
      "  1.130776 seconds (5.98 M allocations: 730.285 MiB, 8.25% gc time)\n",
      "next time unit is 0.57\n",
      "  1.289929 seconds (5.98 M allocations: 730.285 MiB, 8.41% gc time)\n",
      "next time unit is 0.58\n",
      "  1.140089 seconds (5.93 M allocations: 729.664 MiB, 8.19% gc time)\n",
      "next time unit is 0.59\n",
      "  1.536643 seconds (5.98 M allocations: 730.285 MiB, 7.51% gc time)\n",
      "next time unit is 0.6\n",
      "  1.468360 seconds (5.98 M allocations: 730.285 MiB, 7.35% gc time)\n",
      "next time unit is 0.61\n",
      "  1.254865 seconds (5.98 M allocations: 730.285 MiB, 8.01% gc time)\n",
      "next time unit is 0.62\n",
      "  1.203046 seconds (5.98 M allocations: 730.285 MiB, 8.02% gc time)\n",
      "next time unit is 0.63\n",
      "  1.252601 seconds (5.98 M allocations: 730.285 MiB, 7.88% gc time)\n",
      "next time unit is 0.64\n",
      "  1.132112 seconds (5.98 M allocations: 730.285 MiB, 8.52% gc time)\n",
      "next time unit is 0.65\n",
      "  1.095900 seconds (5.98 M allocations: 730.285 MiB, 8.53% gc time)\n",
      "next time unit is 0.66\n",
      "  1.129444 seconds (5.98 M allocations: 730.285 MiB, 8.45% gc time)\n",
      "next time unit is 0.67\n",
      "  1.121869 seconds (5.98 M allocations: 730.285 MiB, 8.58% gc time)\n",
      "next time unit is 0.68\n",
      "  1.159132 seconds (5.98 M allocations: 730.285 MiB, 8.32% gc time)\n",
      "next time unit is 0.69\n",
      "  1.097430 seconds (5.98 M allocations: 730.285 MiB, 8.42% gc time)\n",
      "next time unit is 0.7\n",
      "  1.106841 seconds (5.93 M allocations: 729.664 MiB, 8.80% gc time)\n",
      "next time unit is 0.71\n",
      "  1.100393 seconds (5.98 M allocations: 730.285 MiB, 8.32% gc time)\n",
      "next time unit is 0.72\n",
      "  1.091686 seconds (5.98 M allocations: 730.285 MiB, 8.58% gc time)\n",
      "next time unit is 0.73\n",
      "  1.127423 seconds (5.98 M allocations: 730.285 MiB, 8.77% gc time)\n",
      "next time unit is 0.74\n",
      "  1.249541 seconds (5.98 M allocations: 730.285 MiB, 14.74% gc time)\n",
      "next time unit is 0.75\n",
      "  1.126338 seconds (5.98 M allocations: 730.285 MiB, 8.10% gc time)\n",
      "next time unit is 0.76\n",
      "  1.097410 seconds (5.98 M allocations: 730.285 MiB, 8.57% gc time)\n",
      "next time unit is 0.77\n",
      "  1.121945 seconds (5.98 M allocations: 730.285 MiB, 8.10% gc time)\n",
      "next time unit is 0.78\n",
      "  1.146802 seconds (5.98 M allocations: 730.285 MiB, 8.31% gc time)\n",
      "next time unit is 0.79\n",
      "  1.136682 seconds (5.98 M allocations: 730.285 MiB, 8.65% gc time)\n",
      "next time unit is 0.8\n",
      "  1.224600 seconds (5.96 M allocations: 729.974 MiB, 7.98% gc time)\n",
      "next time unit is 0.81\n",
      "  1.258257 seconds (5.96 M allocations: 729.974 MiB, 7.68% gc time)\n",
      "next time unit is 0.82\n",
      "  1.269208 seconds (5.98 M allocations: 730.285 MiB, 8.35% gc time)\n",
      "next time unit is 0.83\n",
      "  1.259822 seconds (5.98 M allocations: 730.285 MiB, 7.96% gc time)\n",
      "next time unit is 0.84\n",
      "  1.165511 seconds (5.98 M allocations: 730.285 MiB, 8.46% gc time)\n",
      "next time unit is 0.85\n",
      "  1.195157 seconds (5.98 M allocations: 730.285 MiB, 8.25% gc time)\n",
      "next time unit is 0.86\n",
      "  1.145175 seconds (5.98 M allocations: 730.285 MiB, 8.28% gc time)\n",
      "next time unit is 0.87\n",
      "  1.200840 seconds (5.98 M allocations: 730.285 MiB, 7.86% gc time)\n",
      "next time unit is 0.88\n",
      "  1.227682 seconds (5.98 M allocations: 730.285 MiB, 8.45% gc time)\n",
      "next time unit is 0.89\n",
      "  1.229802 seconds (5.98 M allocations: 730.285 MiB, 7.97% gc time)\n",
      "next time unit is 0.9\n"
     ]
    },
    {
     "name": "stdout",
     "output_type": "stream",
     "text": [
      "  1.164595 seconds (5.98 M allocations: 730.285 MiB, 8.04% gc time)\n",
      "next time unit is 0.91\n",
      "  1.170563 seconds (5.98 M allocations: 730.285 MiB, 8.50% gc time)\n",
      "next time unit is 0.92\n",
      "  1.170960 seconds (5.98 M allocations: 730.285 MiB, 8.14% gc time)\n",
      "next time unit is 0.93\n",
      "  1.235788 seconds (5.98 M allocations: 730.285 MiB, 8.09% gc time)\n",
      "next time unit is 0.94\n",
      "  1.243449 seconds (5.98 M allocations: 730.285 MiB, 8.44% gc time)\n",
      "next time unit is 0.95\n",
      "  1.193760 seconds (5.98 M allocations: 730.285 MiB, 8.34% gc time)\n",
      "next time unit is 0.96\n",
      "  1.249650 seconds (5.98 M allocations: 730.285 MiB, 8.05% gc time)\n",
      "next time unit is 0.97\n",
      "  1.221721 seconds (5.98 M allocations: 730.285 MiB, 8.51% gc time)\n",
      "next time unit is 0.98\n",
      "  1.223072 seconds (5.98 M allocations: 730.285 MiB, 8.14% gc time)\n",
      "next time unit is 0.99\n",
      "  1.241578 seconds (5.98 M allocations: 730.285 MiB, 7.97% gc time)\n",
      "next time unit is 1.0\n",
      "  1.212614 seconds (5.98 M allocations: 730.285 MiB, 8.03% gc time)\n",
      "next time unit is 1.01\n",
      "  1.205182 seconds (5.98 M allocations: 730.285 MiB, 8.41% gc time)\n",
      "next time unit is 1.02\n",
      "  1.162220 seconds (5.98 M allocations: 730.285 MiB, 8.47% gc time)\n",
      "next time unit is 1.03\n",
      "  1.197811 seconds (5.98 M allocations: 730.285 MiB, 8.23% gc time)\n",
      "next time unit is 1.04\n",
      "  1.237696 seconds (5.98 M allocations: 730.285 MiB, 8.58% gc time)\n",
      "next time unit is 1.05\n",
      "  1.223503 seconds (5.98 M allocations: 730.285 MiB, 8.38% gc time)\n",
      "next time unit is 1.06\n",
      "  1.250010 seconds (5.98 M allocations: 730.285 MiB, 8.43% gc time)\n",
      "next time unit is 1.07\n",
      "  1.360706 seconds (5.98 M allocations: 730.285 MiB, 16.41% gc time)\n",
      "next time unit is 1.08\n",
      "  1.254968 seconds (5.98 M allocations: 730.285 MiB, 7.77% gc time)\n",
      "next time unit is 1.09\n",
      "  1.189686 seconds (5.98 M allocations: 730.285 MiB, 7.85% gc time)\n",
      "next time unit is 1.1\n",
      "  1.145866 seconds (5.98 M allocations: 730.285 MiB, 8.31% gc time)\n",
      "next time unit is 1.11\n",
      "  1.173300 seconds (5.96 M allocations: 729.974 MiB, 8.04% gc time)\n",
      "next time unit is 1.12\n",
      "  1.248950 seconds (5.96 M allocations: 729.974 MiB, 7.70% gc time)\n",
      "next time unit is 1.13\n",
      "  1.259100 seconds (5.98 M allocations: 730.285 MiB, 8.13% gc time)\n",
      "next time unit is 1.14\n",
      "  1.218381 seconds (5.98 M allocations: 730.285 MiB, 7.83% gc time)\n",
      "next time unit is 1.15\n",
      "  1.225975 seconds (5.98 M allocations: 730.285 MiB, 7.84% gc time)\n",
      "next time unit is 1.16\n",
      "  1.224492 seconds (5.98 M allocations: 730.285 MiB, 8.07% gc time)\n",
      "next time unit is 1.17\n",
      "  1.194933 seconds (5.98 M allocations: 730.285 MiB, 8.22% gc time)\n",
      "next time unit is 1.18\n",
      "  1.215159 seconds (5.98 M allocations: 730.285 MiB, 8.08% gc time)\n",
      "next time unit is 1.19\n",
      "  1.239322 seconds (5.98 M allocations: 730.285 MiB, 8.21% gc time)\n",
      "next time unit is 1.2\n",
      "  1.197925 seconds (5.98 M allocations: 730.285 MiB, 8.04% gc time)\n",
      "next time unit is 1.21\n",
      "  1.197359 seconds (5.98 M allocations: 730.285 MiB, 7.90% gc time)\n",
      "next time unit is 1.22\n",
      "  1.185899 seconds (5.98 M allocations: 730.285 MiB, 8.20% gc time)\n",
      "next time unit is 1.23\n",
      "  1.180826 seconds (5.98 M allocations: 730.285 MiB, 7.99% gc time)\n",
      "next time unit is 1.24\n",
      "  1.169892 seconds (5.98 M allocations: 730.285 MiB, 8.17% gc time)\n",
      "next time unit is 1.25\n",
      "  1.162667 seconds (5.98 M allocations: 730.285 MiB, 8.68% gc time)\n",
      "next time unit is 1.26\n",
      "  1.206159 seconds (5.98 M allocations: 730.285 MiB, 7.92% gc time)\n",
      "next time unit is 1.27\n",
      "  1.191914 seconds (5.98 M allocations: 730.285 MiB, 8.09% gc time)\n",
      "next time unit is 1.28\n",
      "  1.209891 seconds (5.98 M allocations: 730.285 MiB, 8.24% gc time)\n",
      "next time unit is 1.29\n",
      "  1.189894 seconds (5.98 M allocations: 730.285 MiB, 8.21% gc time)\n",
      "next time unit is 1.3\n",
      "  1.172582 seconds (5.98 M allocations: 730.285 MiB, 8.07% gc time)\n",
      "next time unit is 1.31\n",
      "  1.177825 seconds (5.98 M allocations: 730.285 MiB, 8.48% gc time)\n",
      "next time unit is 1.32\n",
      "  1.144620 seconds (5.98 M allocations: 730.285 MiB, 8.40% gc time)\n",
      "next time unit is 1.33\n",
      "  1.247666 seconds (5.98 M allocations: 730.285 MiB, 7.68% gc time)\n",
      "next time unit is 1.34\n",
      "  1.214610 seconds (5.98 M allocations: 730.285 MiB, 8.30% gc time)\n",
      "next time unit is 1.35\n",
      "  1.217960 seconds (5.98 M allocations: 730.285 MiB, 7.95% gc time)\n",
      "next time unit is 1.36\n",
      "  1.228101 seconds (5.98 M allocations: 730.285 MiB, 8.10% gc time)\n",
      "next time unit is 1.37\n",
      "  1.181398 seconds (5.98 M allocations: 730.285 MiB, 8.53% gc time)\n",
      "next time unit is 1.38\n",
      "  1.198464 seconds (5.98 M allocations: 730.285 MiB, 8.39% gc time)\n",
      "next time unit is 1.39\n",
      "  1.216453 seconds (5.98 M allocations: 730.285 MiB, 8.00% gc time)\n",
      "next time unit is 1.4\n",
      "  1.213515 seconds (5.98 M allocations: 730.285 MiB, 8.32% gc time)\n",
      "next time unit is 1.41\n",
      "  1.289720 seconds (5.98 M allocations: 730.285 MiB, 14.59% gc time)\n",
      "next time unit is 1.42\n",
      "  1.156664 seconds (5.98 M allocations: 730.285 MiB, 8.08% gc time)\n",
      "next time unit is 1.43\n",
      "  1.214110 seconds (5.98 M allocations: 730.285 MiB, 7.75% gc time)\n",
      "next time unit is 1.44\n",
      "  1.229342 seconds (5.98 M allocations: 730.285 MiB, 8.28% gc time)\n",
      "next time unit is 1.45\n",
      "  1.185554 seconds (5.98 M allocations: 730.285 MiB, 8.28% gc time)\n",
      "next time unit is 1.46\n",
      "  1.221871 seconds (5.98 M allocations: 730.285 MiB, 8.17% gc time)\n",
      "next time unit is 1.47\n",
      "  1.214373 seconds (5.98 M allocations: 730.285 MiB, 8.57% gc time)\n",
      "next time unit is 1.48\n",
      "  1.229811 seconds (5.98 M allocations: 730.285 MiB, 8.18% gc time)\n",
      "next time unit is 1.49\n",
      "  1.233498 seconds (5.98 M allocations: 730.285 MiB, 8.33% gc time)\n",
      "next time unit is 1.5\n",
      "  1.224867 seconds (5.98 M allocations: 730.285 MiB, 8.34% gc time)\n",
      "next time unit is 1.51\n",
      "  1.233566 seconds (5.98 M allocations: 730.285 MiB, 8.21% gc time)\n",
      "next time unit is 1.52\n",
      "  1.184739 seconds (5.98 M allocations: 730.285 MiB, 8.39% gc time)\n",
      "next time unit is 1.53\n",
      "  1.249559 seconds (5.96 M allocations: 729.974 MiB, 8.32% gc time)\n",
      "next time unit is 1.54\n",
      "  1.230175 seconds (5.96 M allocations: 729.974 MiB, 8.38% gc time)\n",
      "next time unit is 1.55\n",
      "  1.246135 seconds (5.98 M allocations: 730.285 MiB, 8.06% gc time)\n",
      "next time unit is 1.56\n",
      "  1.229973 seconds (5.98 M allocations: 730.285 MiB, 8.09% gc time)\n",
      "next time unit is 1.57\n",
      "  1.196701 seconds (5.98 M allocations: 730.285 MiB, 8.03% gc time)\n",
      "next time unit is 1.58\n",
      "  1.222710 seconds (5.98 M allocations: 730.285 MiB, 8.33% gc time)\n",
      "next time unit is 1.59\n",
      "  1.258139 seconds (5.98 M allocations: 730.285 MiB, 8.41% gc time)\n",
      "next time unit is 1.6\n",
      "  1.329115 seconds (5.98 M allocations: 730.285 MiB, 7.89% gc time)\n",
      "next time unit is 1.61\n",
      "  1.285365 seconds (5.98 M allocations: 730.285 MiB, 7.67% gc time)\n",
      "next time unit is 1.62\n",
      "  1.216646 seconds (5.98 M allocations: 730.285 MiB, 8.54% gc time)\n",
      "next time unit is 1.63\n",
      "  1.270877 seconds (5.98 M allocations: 730.285 MiB, 8.20% gc time)\n",
      "next time unit is 1.64\n",
      "  1.294589 seconds (5.98 M allocations: 730.285 MiB, 8.27% gc time)\n",
      "next time unit is 1.65\n",
      "  1.249825 seconds (5.98 M allocations: 730.285 MiB, 8.53% gc time)\n",
      "next time unit is 1.66\n",
      "  1.196069 seconds (5.98 M allocations: 730.285 MiB, 8.53% gc time)\n",
      "next time unit is 1.67\n",
      "  1.242956 seconds (5.98 M allocations: 730.285 MiB, 8.19% gc time)\n",
      "next time unit is 1.68\n",
      "  1.244296 seconds (5.98 M allocations: 730.285 MiB, 8.54% gc time)\n",
      "next time unit is 1.69\n",
      "  1.273500 seconds (5.98 M allocations: 730.285 MiB, 7.86% gc time)\n",
      "next time unit is 1.7\n",
      "  1.243140 seconds (5.98 M allocations: 730.285 MiB, 7.94% gc time)\n",
      "next time unit is 1.71\n",
      "  1.228483 seconds (5.98 M allocations: 730.285 MiB, 8.58% gc time)\n",
      "next time unit is 1.72\n",
      "  1.258509 seconds (5.98 M allocations: 730.285 MiB, 8.27% gc time)\n",
      "next time unit is 1.73\n",
      "  1.221992 seconds (5.98 M allocations: 730.285 MiB, 8.26% gc time)\n",
      "next time unit is 1.74\n",
      "  1.312540 seconds (5.98 M allocations: 730.285 MiB, 15.98% gc time)\n",
      "next time unit is 1.75\n",
      "  1.248193 seconds (5.98 M allocations: 730.285 MiB, 8.02% gc time)\n",
      "next time unit is 1.76\n",
      "  1.266210 seconds (5.98 M allocations: 730.285 MiB, 8.01% gc time)\n",
      "next time unit is 1.77\n",
      "  1.257692 seconds (5.98 M allocations: 730.285 MiB, 8.60% gc time)\n",
      "next time unit is 1.78\n",
      "  1.308545 seconds (5.98 M allocations: 730.285 MiB, 8.06% gc time)\n",
      "next time unit is 1.79\n",
      "  1.411563 seconds (5.98 M allocations: 730.285 MiB, 7.55% gc time)\n",
      "next time unit is 1.8\n",
      "  1.313096 seconds (5.98 M allocations: 730.285 MiB, 8.42% gc time)\n",
      "next time unit is 1.81\n"
     ]
    },
    {
     "name": "stdout",
     "output_type": "stream",
     "text": [
      "  1.322865 seconds (5.87 M allocations: 728.731 MiB, 8.02% gc time)\n",
      "next time unit is 1.82\n",
      "  1.193697 seconds (5.96 M allocations: 729.974 MiB, 8.33% gc time)\n",
      "next time unit is 1.83\n",
      "  1.233154 seconds (5.93 M allocations: 729.664 MiB, 8.52% gc time)\n",
      "next time unit is 1.84\n",
      "  1.198324 seconds (5.93 M allocations: 729.664 MiB, 8.69% gc time)\n",
      "next time unit is 1.85\n",
      "  1.277147 seconds (5.98 M allocations: 730.285 MiB, 8.18% gc time)\n",
      "next time unit is 1.86\n",
      "  1.236314 seconds (5.98 M allocations: 730.285 MiB, 8.44% gc time)\n",
      "next time unit is 1.87\n",
      "  1.255894 seconds (5.98 M allocations: 730.285 MiB, 8.57% gc time)\n",
      "next time unit is 1.88\n",
      "  1.181878 seconds (5.93 M allocations: 729.664 MiB, 8.54% gc time)\n",
      "next time unit is 1.89\n",
      "  1.192701 seconds (5.98 M allocations: 730.285 MiB, 8.44% gc time)\n",
      "next time unit is 1.9\n",
      "  1.336698 seconds (5.93 M allocations: 729.664 MiB, 8.29% gc time)\n",
      "next time unit is 1.91\n",
      "  1.374028 seconds (5.98 M allocations: 730.285 MiB, 8.18% gc time)\n",
      "next time unit is 1.92\n",
      "  1.399203 seconds (5.93 M allocations: 729.664 MiB, 8.39% gc time)\n",
      "next time unit is 1.93\n",
      "  1.260210 seconds (5.98 M allocations: 730.285 MiB, 8.33% gc time)\n",
      "next time unit is 1.94\n",
      "  1.200327 seconds (5.98 M allocations: 730.285 MiB, 8.66% gc time)\n",
      "next time unit is 1.95\n",
      "  1.215872 seconds (5.98 M allocations: 730.285 MiB, 8.36% gc time)\n",
      "next time unit is 1.96\n",
      "  1.211672 seconds (5.96 M allocations: 729.974 MiB, 8.45% gc time)\n",
      "next time unit is 1.97\n",
      "  1.282354 seconds (5.96 M allocations: 729.974 MiB, 8.31% gc time)\n",
      "next time unit is 1.98\n",
      "  1.233258 seconds (5.98 M allocations: 730.285 MiB, 8.30% gc time)\n",
      "next time unit is 1.99\n",
      "  1.259068 seconds (5.96 M allocations: 729.974 MiB, 8.29% gc time)\n",
      "next time unit is 2.0\n",
      "  1.199144 seconds (5.96 M allocations: 729.974 MiB, 8.79% gc time)\n",
      "next time unit is 2.01\n",
      "data saved at time 2.01\n",
      "  1.388397 seconds (5.98 M allocations: 730.285 MiB, 17.22% gc time)\n",
      "next time unit is 2.02\n",
      "  1.280469 seconds (5.98 M allocations: 730.285 MiB, 8.16% gc time)\n",
      "next time unit is 2.03\n",
      "  1.173838 seconds (5.98 M allocations: 730.285 MiB, 8.25% gc time)\n",
      "next time unit is 2.04\n",
      "  1.182490 seconds (5.98 M allocations: 730.285 MiB, 8.94% gc time)\n",
      "next time unit is 2.05\n",
      "  1.237695 seconds (5.98 M allocations: 730.285 MiB, 8.49% gc time)\n",
      "next time unit is 2.06\n",
      "  1.208089 seconds (5.98 M allocations: 730.285 MiB, 8.45% gc time)\n",
      "next time unit is 2.07\n",
      "  1.217395 seconds (5.98 M allocations: 730.285 MiB, 8.48% gc time)\n",
      "next time unit is 2.08\n",
      "  1.191841 seconds (5.93 M allocations: 729.664 MiB, 8.56% gc time)\n",
      "next time unit is 2.09\n",
      "  1.200263 seconds (5.98 M allocations: 730.285 MiB, 8.71% gc time)\n",
      "next time unit is 2.1\n",
      "  1.236806 seconds (5.98 M allocations: 730.285 MiB, 8.50% gc time)\n",
      "next time unit is 2.11\n",
      "  1.203935 seconds (5.93 M allocations: 729.664 MiB, 8.69% gc time)\n",
      "next time unit is 2.12\n",
      "  1.228044 seconds (5.98 M allocations: 730.285 MiB, 8.14% gc time)\n",
      "next time unit is 2.13\n",
      "  1.222818 seconds (5.93 M allocations: 729.664 MiB, 8.87% gc time)\n",
      "next time unit is 2.14\n",
      "  1.201963 seconds (5.96 M allocations: 729.974 MiB, 8.40% gc time)\n",
      "next time unit is 2.15\n",
      "  1.237803 seconds (5.91 M allocations: 729.353 MiB, 8.45% gc time)\n",
      "next time unit is 2.16\n",
      "  1.258407 seconds (5.93 M allocations: 729.664 MiB, 8.30% gc time)\n",
      "next time unit is 2.17\n",
      "  1.305358 seconds (5.93 M allocations: 729.664 MiB, 8.00% gc time)\n",
      "next time unit is 2.18\n",
      "  1.201201 seconds (5.98 M allocations: 730.285 MiB, 8.29% gc time)\n",
      "next time unit is 2.19\n",
      "  1.202480 seconds (5.98 M allocations: 730.285 MiB, 8.64% gc time)\n",
      "next time unit is 2.2\n",
      "  1.230123 seconds (5.98 M allocations: 730.285 MiB, 8.86% gc time)\n",
      "next time unit is 2.21\n",
      "  1.283337 seconds (5.93 M allocations: 729.664 MiB, 8.26% gc time)\n",
      "next time unit is 2.22\n",
      "  1.283826 seconds (5.93 M allocations: 729.664 MiB, 8.30% gc time)\n",
      "next time unit is 2.23\n",
      "  1.266383 seconds (5.96 M allocations: 729.974 MiB, 8.95% gc time)\n",
      "next time unit is 2.24\n",
      "  1.219539 seconds (5.87 M allocations: 728.731 MiB, 8.47% gc time)\n",
      "next time unit is 2.25\n",
      "  1.225415 seconds (5.98 M allocations: 730.285 MiB, 8.34% gc time)\n",
      "next time unit is 2.26\n",
      "  1.215796 seconds (5.98 M allocations: 730.285 MiB, 8.89% gc time)\n",
      "next time unit is 2.27\n",
      "  1.201347 seconds (5.98 M allocations: 730.285 MiB, 8.51% gc time)\n",
      "next time unit is 2.28\n",
      "  1.186623 seconds (5.91 M allocations: 729.353 MiB, 8.61% gc time)\n",
      "next time unit is 2.29\n",
      "  1.306496 seconds (5.96 M allocations: 729.974 MiB, 8.57% gc time)\n",
      "next time unit is 2.3\n",
      "  1.236921 seconds (5.98 M allocations: 730.285 MiB, 8.53% gc time)\n",
      "next time unit is 2.31\n",
      "  1.253867 seconds (5.96 M allocations: 729.974 MiB, 8.39% gc time)\n",
      "next time unit is 2.32\n",
      "  1.218093 seconds (5.96 M allocations: 729.974 MiB, 8.44% gc time)\n",
      "next time unit is 2.33\n",
      "  1.238183 seconds (5.98 M allocations: 730.285 MiB, 8.81% gc time)\n",
      "next time unit is 2.34\n",
      "  1.332056 seconds (5.93 M allocations: 729.664 MiB, 16.61% gc time)\n",
      "next time unit is 2.35\n",
      "  1.181549 seconds (5.93 M allocations: 729.664 MiB, 8.41% gc time)\n",
      "next time unit is 2.36\n",
      "  1.192646 seconds (5.98 M allocations: 730.285 MiB, 8.46% gc time)\n",
      "next time unit is 2.37\n",
      "  1.263976 seconds (5.93 M allocations: 729.664 MiB, 8.20% gc time)\n",
      "next time unit is 2.38\n",
      "  1.224973 seconds (5.98 M allocations: 730.285 MiB, 8.21% gc time)\n",
      "next time unit is 2.39\n",
      "  1.250749 seconds (5.98 M allocations: 730.285 MiB, 8.36% gc time)\n",
      "next time unit is 2.4\n",
      "  1.282360 seconds (5.91 M allocations: 729.353 MiB, 8.00% gc time)\n",
      "next time unit is 2.41\n",
      "  1.198090 seconds (5.96 M allocations: 729.974 MiB, 8.27% gc time)\n",
      "next time unit is 2.42\n",
      "  1.199539 seconds (5.98 M allocations: 730.285 MiB, 8.70% gc time)\n",
      "next time unit is 2.43\n",
      "  1.214310 seconds (5.98 M allocations: 730.285 MiB, 8.33% gc time)\n",
      "next time unit is 2.44\n",
      "  1.237502 seconds (5.98 M allocations: 730.285 MiB, 8.10% gc time)\n",
      "next time unit is 2.45\n",
      "  1.250748 seconds (5.98 M allocations: 730.285 MiB, 8.45% gc time)\n",
      "next time unit is 2.46\n",
      "  1.206325 seconds (5.98 M allocations: 730.285 MiB, 8.20% gc time)\n",
      "next time unit is 2.47\n",
      "  1.200009 seconds (5.93 M allocations: 729.664 MiB, 8.20% gc time)\n",
      "next time unit is 2.48\n",
      "  1.230551 seconds (5.87 M allocations: 728.731 MiB, 8.35% gc time)\n",
      "next time unit is 2.49\n",
      "  1.324339 seconds (5.91 M allocations: 729.353 MiB, 8.43% gc time)\n",
      "next time unit is 2.5\n",
      "  1.219580 seconds (5.93 M allocations: 729.664 MiB, 8.42% gc time)\n",
      "next time unit is 2.51\n",
      "  1.359867 seconds (5.98 M allocations: 730.285 MiB, 7.81% gc time)\n",
      "next time unit is 2.52\n",
      "  1.323854 seconds (5.91 M allocations: 729.353 MiB, 8.52% gc time)\n",
      "next time unit is 2.53\n",
      "  1.284843 seconds (5.96 M allocations: 729.974 MiB, 8.31% gc time)\n",
      "next time unit is 2.54\n",
      "  1.203343 seconds (5.98 M allocations: 730.285 MiB, 8.13% gc time)\n",
      "next time unit is 2.55\n",
      "  1.233933 seconds (5.98 M allocations: 730.285 MiB, 8.38% gc time)\n",
      "next time unit is 2.56\n",
      "  1.220968 seconds (5.98 M allocations: 730.285 MiB, 8.43% gc time)\n",
      "next time unit is 2.57\n",
      "  1.220676 seconds (5.98 M allocations: 730.285 MiB, 8.14% gc time)\n",
      "next time unit is 2.58\n",
      "  1.207555 seconds (5.91 M allocations: 729.353 MiB, 8.02% gc time)\n",
      "next time unit is 2.59\n",
      "  1.187207 seconds (5.96 M allocations: 729.974 MiB, 8.92% gc time)\n",
      "next time unit is 2.6\n",
      "  1.206597 seconds (5.96 M allocations: 729.974 MiB, 8.35% gc time)\n",
      "next time unit is 2.61\n",
      "  1.195535 seconds (5.96 M allocations: 729.974 MiB, 8.57% gc time)\n",
      "next time unit is 2.62\n",
      "  1.209121 seconds (5.98 M allocations: 730.285 MiB, 8.52% gc time)\n",
      "next time unit is 2.63\n",
      "  1.194194 seconds (5.98 M allocations: 730.285 MiB, 8.38% gc time)\n",
      "next time unit is 2.64\n",
      "  1.224761 seconds (5.93 M allocations: 729.664 MiB, 8.72% gc time)\n",
      "next time unit is 2.65\n",
      "  1.282227 seconds (5.98 M allocations: 730.285 MiB, 8.43% gc time)\n",
      "next time unit is 2.66\n",
      "  1.233788 seconds (5.98 M allocations: 730.285 MiB, 8.04% gc time)\n",
      "next time unit is 2.67\n",
      "  1.271666 seconds (5.98 M allocations: 730.285 MiB, 8.01% gc time)\n",
      "next time unit is 2.68\n",
      "  1.401392 seconds (5.91 M allocations: 729.353 MiB, 14.64% gc time)\n",
      "next time unit is 2.69\n",
      "  1.308913 seconds (5.96 M allocations: 729.974 MiB, 7.69% gc time)\n",
      "next time unit is 2.7\n",
      "  1.223310 seconds (5.91 M allocations: 729.353 MiB, 7.85% gc time)\n",
      "next time unit is 2.71\n"
     ]
    },
    {
     "name": "stdout",
     "output_type": "stream",
     "text": [
      "  1.229523 seconds (5.96 M allocations: 729.974 MiB, 8.02% gc time)\n",
      "next time unit is 2.72\n",
      "  1.243409 seconds (5.98 M allocations: 730.285 MiB, 7.81% gc time)\n",
      "next time unit is 2.73\n",
      "  1.226962 seconds (5.98 M allocations: 730.285 MiB, 8.03% gc time)\n",
      "next time unit is 2.74\n",
      "  1.223494 seconds (5.98 M allocations: 730.285 MiB, 7.99% gc time)\n",
      "next time unit is 2.75\n",
      "  1.242978 seconds (5.98 M allocations: 730.285 MiB, 7.98% gc time)\n",
      "next time unit is 2.76\n",
      "  1.240172 seconds (5.93 M allocations: 729.664 MiB, 8.27% gc time)\n",
      "next time unit is 2.77\n",
      "  1.178903 seconds (5.93 M allocations: 729.664 MiB, 8.18% gc time)\n",
      "next time unit is 2.78\n",
      "  1.218871 seconds (5.93 M allocations: 729.664 MiB, 8.58% gc time)\n",
      "next time unit is 2.79\n",
      "  1.231994 seconds (5.98 M allocations: 730.285 MiB, 8.36% gc time)\n",
      "next time unit is 2.8\n",
      "  1.245737 seconds (5.98 M allocations: 730.285 MiB, 8.46% gc time)\n",
      "next time unit is 2.81\n",
      "  1.250337 seconds (5.98 M allocations: 730.285 MiB, 8.27% gc time)\n",
      "next time unit is 2.82\n",
      "  1.247078 seconds (5.93 M allocations: 729.664 MiB, 7.94% gc time)\n",
      "next time unit is 2.83\n",
      "  1.198896 seconds (5.98 M allocations: 730.285 MiB, 7.88% gc time)\n",
      "next time unit is 2.84\n",
      "  1.201635 seconds (5.98 M allocations: 730.285 MiB, 8.59% gc time)\n",
      "next time unit is 2.85\n",
      "  1.206893 seconds (5.98 M allocations: 730.285 MiB, 8.12% gc time)\n",
      "next time unit is 2.86\n",
      "  1.213114 seconds (5.98 M allocations: 730.285 MiB, 8.03% gc time)\n",
      "next time unit is 2.87\n",
      "  1.236200 seconds (5.93 M allocations: 729.664 MiB, 8.28% gc time)\n",
      "next time unit is 2.88\n",
      "  1.176991 seconds (5.98 M allocations: 730.285 MiB, 8.42% gc time)\n",
      "next time unit is 2.89\n",
      "  1.186130 seconds (5.98 M allocations: 730.285 MiB, 8.26% gc time)\n",
      "next time unit is 2.9\n",
      "  1.175521 seconds (5.98 M allocations: 730.285 MiB, 8.34% gc time)\n",
      "next time unit is 2.91\n",
      "  1.172998 seconds (5.93 M allocations: 729.664 MiB, 8.02% gc time)\n",
      "next time unit is 2.92\n",
      "  1.215193 seconds (5.98 M allocations: 730.285 MiB, 7.95% gc time)\n",
      "next time unit is 2.93\n",
      "  1.219234 seconds (5.98 M allocations: 730.285 MiB, 8.07% gc time)\n",
      "next time unit is 2.94\n",
      "  1.219704 seconds (5.98 M allocations: 730.285 MiB, 8.34% gc time)\n",
      "next time unit is 2.95\n",
      "  1.223354 seconds (5.98 M allocations: 730.285 MiB, 8.12% gc time)\n",
      "next time unit is 2.96\n",
      "  1.247140 seconds (5.98 M allocations: 730.285 MiB, 8.09% gc time)\n",
      "next time unit is 2.97\n",
      "  1.322500 seconds (5.98 M allocations: 730.285 MiB, 8.12% gc time)\n",
      "next time unit is 2.98\n",
      "  1.225473 seconds (5.98 M allocations: 730.285 MiB, 8.12% gc time)\n",
      "next time unit is 2.99\n",
      "  1.199773 seconds (5.98 M allocations: 730.285 MiB, 8.41% gc time)\n",
      "next time unit is 3.0\n",
      "  1.203996 seconds (5.98 M allocations: 730.285 MiB, 8.53% gc time)\n",
      "next time unit is 3.01\n",
      "  1.344042 seconds (5.98 M allocations: 730.285 MiB, 14.88% gc time)\n",
      "next time unit is 3.02\n",
      "  1.142595 seconds (5.98 M allocations: 730.285 MiB, 8.27% gc time)\n",
      "next time unit is 3.03\n",
      "  1.165931 seconds (5.98 M allocations: 730.285 MiB, 8.54% gc time)\n",
      "next time unit is 3.04\n",
      "  1.145539 seconds (5.98 M allocations: 730.285 MiB, 8.59% gc time)\n",
      "next time unit is 3.05\n",
      "  1.145814 seconds (5.96 M allocations: 729.974 MiB, 8.39% gc time)\n",
      "next time unit is 3.06\n",
      "  1.181718 seconds (5.96 M allocations: 729.974 MiB, 8.52% gc time)\n",
      "next time unit is 3.07\n",
      "  1.139972 seconds (5.98 M allocations: 730.285 MiB, 8.51% gc time)\n",
      "next time unit is 3.08\n",
      "  1.148868 seconds (5.98 M allocations: 730.285 MiB, 8.60% gc time)\n",
      "next time unit is 3.09\n",
      "  1.163507 seconds (5.98 M allocations: 730.285 MiB, 8.92% gc time)\n",
      "next time unit is 3.1\n",
      "  1.154336 seconds (5.98 M allocations: 730.285 MiB, 8.54% gc time)\n",
      "next time unit is 3.11\n",
      "  1.168075 seconds (5.98 M allocations: 730.285 MiB, 8.41% gc time)\n",
      "next time unit is 3.12\n",
      "  1.190082 seconds (5.93 M allocations: 729.664 MiB, 8.61% gc time)\n",
      "next time unit is 3.13\n",
      "  1.188831 seconds (5.98 M allocations: 730.285 MiB, 8.22% gc time)\n",
      "next time unit is 3.14\n",
      "  1.208985 seconds (5.98 M allocations: 730.285 MiB, 8.48% gc time)\n",
      "next time unit is 3.15\n",
      "  1.197979 seconds (5.98 M allocations: 730.285 MiB, 8.68% gc time)\n",
      "next time unit is 3.16\n",
      "  1.205300 seconds (5.98 M allocations: 730.285 MiB, 8.21% gc time)\n",
      "next time unit is 3.17\n",
      "  1.444947 seconds (5.98 M allocations: 730.285 MiB, 7.93% gc time)\n",
      "next time unit is 3.18\n",
      "  1.391936 seconds (5.98 M allocations: 730.285 MiB, 8.04% gc time)\n",
      "next time unit is 3.19\n",
      "  1.143485 seconds (5.96 M allocations: 729.974 MiB, 8.59% gc time)\n",
      "next time unit is 3.2\n",
      "  1.144137 seconds (5.96 M allocations: 729.974 MiB, 8.35% gc time)\n",
      "next time unit is 3.21\n",
      "  1.170688 seconds (5.98 M allocations: 730.285 MiB, 8.68% gc time)\n",
      "next time unit is 3.22\n",
      "  1.165614 seconds (5.98 M allocations: 730.285 MiB, 8.46% gc time)\n",
      "next time unit is 3.23\n",
      "  1.152858 seconds (5.98 M allocations: 730.285 MiB, 8.57% gc time)\n",
      "next time unit is 3.24\n",
      "  1.170962 seconds (5.98 M allocations: 730.285 MiB, 8.75% gc time)\n",
      "next time unit is 3.25\n",
      "  1.183466 seconds (5.98 M allocations: 730.285 MiB, 8.50% gc time)\n",
      "next time unit is 3.26\n",
      "  1.149464 seconds (5.98 M allocations: 730.285 MiB, 8.75% gc time)\n",
      "next time unit is 3.27\n",
      "  1.259320 seconds (5.98 M allocations: 730.285 MiB, 8.49% gc time)\n",
      "next time unit is 3.28\n",
      "  1.304059 seconds (5.98 M allocations: 730.285 MiB, 7.73% gc time)\n",
      "next time unit is 3.29\n",
      "  1.293051 seconds (5.98 M allocations: 730.285 MiB, 8.12% gc time)\n",
      "next time unit is 3.3\n",
      "  1.300539 seconds (5.98 M allocations: 730.285 MiB, 7.88% gc time)\n",
      "next time unit is 3.31\n",
      "  1.357689 seconds (5.98 M allocations: 730.285 MiB, 8.07% gc time)\n",
      "next time unit is 3.32\n",
      "  1.282941 seconds (5.98 M allocations: 730.285 MiB, 7.82% gc time)\n",
      "next time unit is 3.33\n",
      "  1.317084 seconds (5.98 M allocations: 730.285 MiB, 7.91% gc time)\n",
      "next time unit is 3.34\n",
      "  1.338967 seconds (5.98 M allocations: 730.285 MiB, 8.34% gc time)\n",
      "next time unit is 3.35\n",
      "  1.391795 seconds (5.98 M allocations: 730.285 MiB, 14.49% gc time)\n",
      "next time unit is 3.36\n",
      "  1.315428 seconds (5.98 M allocations: 730.285 MiB, 7.90% gc time)\n",
      "next time unit is 3.37\n",
      "  1.308942 seconds (5.98 M allocations: 730.285 MiB, 8.36% gc time)\n",
      "next time unit is 3.38\n",
      "  1.255044 seconds (5.98 M allocations: 730.285 MiB, 8.11% gc time)\n",
      "next time unit is 3.39\n",
      "  1.338536 seconds (5.98 M allocations: 730.285 MiB, 7.92% gc time)\n",
      "next time unit is 3.4\n",
      "  1.259809 seconds (5.98 M allocations: 730.285 MiB, 8.22% gc time)\n",
      "next time unit is 3.41\n",
      "  1.235741 seconds (5.98 M allocations: 730.285 MiB, 8.08% gc time)\n",
      "next time unit is 3.42\n",
      "  1.302743 seconds (5.98 M allocations: 730.285 MiB, 7.87% gc time)\n",
      "next time unit is 3.43\n",
      "  1.299969 seconds (5.93 M allocations: 729.664 MiB, 7.98% gc time)\n",
      "next time unit is 3.44\n",
      "  1.294224 seconds (5.98 M allocations: 730.285 MiB, 7.58% gc time)\n",
      "next time unit is 3.45\n",
      "  1.210688 seconds (5.93 M allocations: 729.664 MiB, 8.17% gc time)\n",
      "next time unit is 3.46\n",
      "  1.229228 seconds (5.98 M allocations: 730.285 MiB, 8.33% gc time)\n",
      "next time unit is 3.47\n",
      "  1.195110 seconds (5.93 M allocations: 729.664 MiB, 7.99% gc time)\n",
      "next time unit is 3.48\n",
      "  1.247040 seconds (5.98 M allocations: 730.285 MiB, 8.06% gc time)\n",
      "next time unit is 3.49\n",
      "  1.232004 seconds (5.89 M allocations: 729.042 MiB, 8.27% gc time)\n",
      "next time unit is 3.5\n",
      "  1.266002 seconds (5.98 M allocations: 730.285 MiB, 8.09% gc time)\n",
      "next time unit is 3.51\n",
      "  1.195384 seconds (5.98 M allocations: 730.285 MiB, 8.21% gc time)\n",
      "next time unit is 3.52\n",
      "  1.263119 seconds (5.98 M allocations: 730.285 MiB, 8.07% gc time)\n",
      "next time unit is 3.53\n",
      "  1.230949 seconds (5.98 M allocations: 730.285 MiB, 8.08% gc time)\n",
      "next time unit is 3.54\n",
      "  1.144042 seconds (5.89 M allocations: 729.042 MiB, 8.11% gc time)\n",
      "next time unit is 3.55\n",
      "  1.199856 seconds (5.98 M allocations: 730.285 MiB, 8.03% gc time)\n",
      "next time unit is 3.56\n",
      "  1.226825 seconds (5.98 M allocations: 730.285 MiB, 8.16% gc time)\n",
      "next time unit is 3.57\n",
      "  1.256869 seconds (5.98 M allocations: 730.285 MiB, 7.83% gc time)\n",
      "next time unit is 3.58\n",
      "  1.242761 seconds (5.98 M allocations: 730.285 MiB, 8.06% gc time)\n",
      "next time unit is 3.59\n",
      "  1.220980 seconds (5.98 M allocations: 730.285 MiB, 8.38% gc time)\n",
      "next time unit is 3.6\n",
      "  1.192515 seconds (5.98 M allocations: 730.285 MiB, 7.99% gc time)\n",
      "next time unit is 3.61\n",
      "  1.242906 seconds (5.93 M allocations: 729.664 MiB, 8.01% gc time)\n",
      "next time unit is 3.62\n"
     ]
    },
    {
     "name": "stdout",
     "output_type": "stream",
     "text": [
      "  1.225804 seconds (5.93 M allocations: 729.664 MiB, 8.47% gc time)\n",
      "next time unit is 3.63\n",
      "  1.222459 seconds (5.98 M allocations: 730.285 MiB, 8.06% gc time)\n",
      "next time unit is 3.64\n",
      "  1.191548 seconds (5.93 M allocations: 729.664 MiB, 8.24% gc time)\n",
      "next time unit is 3.65\n",
      "  1.273365 seconds (5.98 M allocations: 730.285 MiB, 8.09% gc time)\n",
      "next time unit is 3.66\n",
      "  1.190233 seconds (5.98 M allocations: 730.285 MiB, 8.28% gc time)\n",
      "next time unit is 3.67\n",
      "  1.195846 seconds (5.98 M allocations: 730.285 MiB, 8.12% gc time)\n",
      "next time unit is 3.68\n",
      "  1.415024 seconds (5.98 M allocations: 730.285 MiB, 16.26% gc time)\n",
      "next time unit is 3.69\n",
      "  1.203885 seconds (5.96 M allocations: 729.974 MiB, 7.78% gc time)\n",
      "next time unit is 3.7\n",
      "  1.205061 seconds (5.96 M allocations: 729.974 MiB, 7.85% gc time)\n",
      "next time unit is 3.71\n",
      "  1.169317 seconds (5.98 M allocations: 730.285 MiB, 8.30% gc time)\n",
      "next time unit is 3.72\n",
      "  1.215564 seconds (5.98 M allocations: 730.285 MiB, 7.89% gc time)\n",
      "next time unit is 3.73\n",
      "  1.237197 seconds (5.93 M allocations: 729.664 MiB, 7.97% gc time)\n",
      "next time unit is 3.74\n",
      "  1.160861 seconds (5.98 M allocations: 730.285 MiB, 8.18% gc time)\n",
      "next time unit is 3.75\n",
      "  1.200528 seconds (5.96 M allocations: 729.974 MiB, 7.82% gc time)\n",
      "next time unit is 3.76\n",
      "  1.197535 seconds (5.91 M allocations: 729.353 MiB, 8.06% gc time)\n",
      "next time unit is 3.77\n",
      "  1.215226 seconds (5.96 M allocations: 729.974 MiB, 8.19% gc time)\n",
      "next time unit is 3.78\n",
      "  1.237880 seconds (5.91 M allocations: 729.353 MiB, 8.28% gc time)\n",
      "next time unit is 3.79\n",
      "  1.204157 seconds (5.98 M allocations: 730.285 MiB, 8.21% gc time)\n",
      "next time unit is 3.8\n",
      "  1.230245 seconds (5.98 M allocations: 730.285 MiB, 8.21% gc time)\n",
      "next time unit is 3.81\n",
      "  1.227014 seconds (5.98 M allocations: 730.285 MiB, 8.24% gc time)\n",
      "next time unit is 3.82\n",
      "  1.186758 seconds (5.89 M allocations: 729.042 MiB, 7.98% gc time)\n",
      "next time unit is 3.83\n",
      "  1.224919 seconds (5.98 M allocations: 730.285 MiB, 7.66% gc time)\n",
      "next time unit is 3.84\n",
      "  1.232607 seconds (5.93 M allocations: 729.664 MiB, 7.91% gc time)\n",
      "next time unit is 3.85\n",
      "  1.178093 seconds (5.98 M allocations: 730.285 MiB, 8.11% gc time)\n",
      "next time unit is 3.86\n",
      "  1.204717 seconds (5.96 M allocations: 729.974 MiB, 8.00% gc time)\n",
      "next time unit is 3.87\n",
      "  1.160431 seconds (5.93 M allocations: 729.664 MiB, 8.29% gc time)\n",
      "next time unit is 3.88\n",
      "  1.161297 seconds (5.96 M allocations: 729.974 MiB, 8.63% gc time)\n",
      "next time unit is 3.89\n",
      "  1.165826 seconds (5.98 M allocations: 730.285 MiB, 8.20% gc time)\n",
      "next time unit is 3.9\n",
      "  1.163740 seconds (5.98 M allocations: 730.285 MiB, 8.25% gc time)\n",
      "next time unit is 3.91\n",
      "  1.215291 seconds (5.93 M allocations: 729.664 MiB, 8.31% gc time)\n",
      "next time unit is 3.92\n",
      "  1.158621 seconds (5.98 M allocations: 730.285 MiB, 8.34% gc time)\n",
      "next time unit is 3.93\n",
      "  1.231378 seconds (5.96 M allocations: 729.974 MiB, 7.92% gc time)\n",
      "next time unit is 3.94\n",
      "  1.236035 seconds (5.91 M allocations: 729.353 MiB, 8.26% gc time)\n",
      "next time unit is 3.95\n",
      "  1.197810 seconds (5.98 M allocations: 730.285 MiB, 8.06% gc time)\n",
      "next time unit is 3.96\n",
      "  1.155683 seconds (5.93 M allocations: 729.664 MiB, 8.51% gc time)\n",
      "next time unit is 3.97\n",
      "  1.162510 seconds (5.98 M allocations: 730.285 MiB, 8.53% gc time)\n",
      "next time unit is 3.98\n",
      "  1.174007 seconds (5.98 M allocations: 730.285 MiB, 8.15% gc time)\n",
      "next time unit is 3.99\n",
      "  1.162745 seconds (5.98 M allocations: 730.285 MiB, 8.29% gc time)\n",
      "next time unit is 4.0\n",
      "  1.209199 seconds (5.98 M allocations: 730.285 MiB, 8.21% gc time)\n",
      "next time unit is 4.01\n",
      "data saved at time 4.01\n",
      "  1.344373 seconds (5.98 M allocations: 730.285 MiB, 16.72% gc time)\n",
      "next time unit is 4.02\n",
      "  1.272913 seconds (5.98 M allocations: 730.285 MiB, 8.03% gc time)\n",
      "next time unit is 4.03\n",
      "  1.202762 seconds (5.98 M allocations: 730.285 MiB, 8.34% gc time)\n",
      "next time unit is 4.04\n",
      "  1.212035 seconds (5.98 M allocations: 730.285 MiB, 8.46% gc time)\n",
      "next time unit is 4.05\n",
      "  1.212375 seconds (5.98 M allocations: 730.285 MiB, 8.27% gc time)\n",
      "next time unit is 4.06\n",
      "  1.246487 seconds (5.98 M allocations: 730.285 MiB, 8.28% gc time)\n",
      "next time unit is 4.07\n",
      "  1.185114 seconds (5.98 M allocations: 730.285 MiB, 8.74% gc time)\n",
      "next time unit is 4.08\n",
      "  1.249646 seconds (5.98 M allocations: 730.285 MiB, 8.11% gc time)\n",
      "next time unit is 4.09\n",
      "  1.205974 seconds (5.93 M allocations: 729.664 MiB, 8.50% gc time)\n",
      "next time unit is 4.1\n",
      "  1.204814 seconds (5.98 M allocations: 730.285 MiB, 8.76% gc time)\n",
      "next time unit is 4.11\n",
      "  1.187107 seconds (5.98 M allocations: 730.285 MiB, 8.43% gc time)\n",
      "next time unit is 4.12\n",
      "  1.213243 seconds (5.98 M allocations: 730.285 MiB, 8.48% gc time)\n",
      "next time unit is 4.13\n",
      "  1.209490 seconds (5.98 M allocations: 730.285 MiB, 8.75% gc time)\n",
      "next time unit is 4.14\n",
      "  1.209129 seconds (5.98 M allocations: 730.285 MiB, 8.39% gc time)\n",
      "next time unit is 4.15\n",
      "  1.192433 seconds (5.98 M allocations: 730.285 MiB, 8.36% gc time)\n",
      "next time unit is 4.16\n",
      "  1.215854 seconds (5.98 M allocations: 730.285 MiB, 8.70% gc time)\n",
      "next time unit is 4.17\n",
      "  1.181827 seconds (5.98 M allocations: 730.285 MiB, 8.51% gc time)\n",
      "next time unit is 4.18\n",
      "  1.181492 seconds (5.98 M allocations: 730.285 MiB, 8.68% gc time)\n",
      "next time unit is 4.19\n",
      "  1.208547 seconds (5.98 M allocations: 730.285 MiB, 8.62% gc time)\n",
      "next time unit is 4.2\n",
      "  1.197626 seconds (5.98 M allocations: 730.285 MiB, 8.37% gc time)\n",
      "next time unit is 4.21\n",
      "  1.202245 seconds (5.98 M allocations: 730.285 MiB, 8.53% gc time)\n",
      "next time unit is 4.22\n",
      "  1.224553 seconds (5.98 M allocations: 730.285 MiB, 8.82% gc time)\n",
      "next time unit is 4.23\n",
      "  1.210364 seconds (5.98 M allocations: 730.285 MiB, 8.45% gc time)\n",
      "next time unit is 4.24\n",
      "  1.198368 seconds (5.98 M allocations: 730.285 MiB, 8.61% gc time)\n",
      "next time unit is 4.25\n",
      "  1.215676 seconds (5.98 M allocations: 730.285 MiB, 8.57% gc time)\n",
      "next time unit is 4.26\n",
      "  1.209377 seconds (5.98 M allocations: 730.285 MiB, 8.35% gc time)\n",
      "next time unit is 4.27\n",
      "  1.209103 seconds (5.98 M allocations: 730.285 MiB, 8.32% gc time)\n",
      "next time unit is 4.28\n",
      "  1.226544 seconds (5.98 M allocations: 730.285 MiB, 8.92% gc time)\n",
      "next time unit is 4.29\n",
      "  1.261124 seconds (5.98 M allocations: 730.285 MiB, 8.20% gc time)\n",
      "next time unit is 4.3\n",
      "  1.208109 seconds (5.98 M allocations: 730.285 MiB, 8.28% gc time)\n",
      "next time unit is 4.31\n",
      "  1.249358 seconds (5.98 M allocations: 730.285 MiB, 8.74% gc time)\n",
      "next time unit is 4.32\n",
      "  1.190609 seconds (5.98 M allocations: 730.285 MiB, 8.73% gc time)\n",
      "next time unit is 4.33\n",
      "  1.219720 seconds (5.98 M allocations: 730.285 MiB, 8.46% gc time)\n",
      "next time unit is 4.34\n",
      "  1.255318 seconds (5.98 M allocations: 730.285 MiB, 15.88% gc time)\n",
      "next time unit is 4.35\n",
      "  1.091925 seconds (5.98 M allocations: 730.285 MiB, 8.26% gc time)\n",
      "next time unit is 4.36\n",
      "  1.100510 seconds (5.98 M allocations: 730.285 MiB, 8.22% gc time)\n",
      "next time unit is 4.37\n",
      "  1.099454 seconds (5.98 M allocations: 730.285 MiB, 8.45% gc time)\n",
      "next time unit is 4.38\n",
      "  1.098731 seconds (5.98 M allocations: 730.285 MiB, 8.27% gc time)\n",
      "next time unit is 4.39\n",
      "  1.103459 seconds (5.98 M allocations: 730.285 MiB, 8.21% gc time)\n",
      "next time unit is 4.4\n",
      "  1.092123 seconds (5.98 M allocations: 730.285 MiB, 8.38% gc time)\n",
      "next time unit is 4.41\n",
      "  1.151216 seconds (5.98 M allocations: 730.285 MiB, 8.47% gc time)\n",
      "next time unit is 4.42\n",
      "  1.102035 seconds (5.98 M allocations: 730.285 MiB, 8.62% gc time)\n",
      "next time unit is 4.43\n",
      "  1.093490 seconds (5.98 M allocations: 730.285 MiB, 8.49% gc time)\n",
      "next time unit is 4.44\n",
      "  1.111592 seconds (5.98 M allocations: 730.285 MiB, 8.52% gc time)\n",
      "next time unit is 4.45\n",
      "  1.094892 seconds (5.98 M allocations: 730.285 MiB, 8.37% gc time)\n",
      "next time unit is 4.46\n",
      "  1.086314 seconds (5.98 M allocations: 730.285 MiB, 8.51% gc time)\n",
      "next time unit is 4.47\n",
      "  1.081534 seconds (5.98 M allocations: 730.285 MiB, 8.85% gc time)\n",
      "next time unit is 4.48\n",
      "  1.103827 seconds (5.98 M allocations: 730.285 MiB, 8.29% gc time)\n",
      "next time unit is 4.49\n",
      "  1.084472 seconds (5.98 M allocations: 730.285 MiB, 8.42% gc time)\n",
      "next time unit is 4.5\n",
      "563.045454 seconds (2.97 G allocations: 334.186 GiB, 9.25% gc time)\n"
     ]
    }
   ],
   "source": [
    "@time for ti in T\n",
    "    \n",
    "    @time global t, (w, f), (qJ, v, λ), bd = ifherk_coupled(t, w, qJ, v, bd,fsys)\n",
    "    \n",
    "    push!(thist,t-Δt)\n",
    "    push!(fx,sum(f.u)*Δx^2)\n",
    "    push!(fy,sum(f.v)*Δx^2)\n",
    "    push!(whist,deepcopy(w))\n",
    "    push!(bdhist,deepcopy(bd))\n",
    "    println(\"next time unit is $(round(t,digits=3))\")\n",
    "    \n",
    "    if mod(round(Int,ti/Δt),200) == 1  \n",
    "        @save filename*\".bson\" bd bdhist xg yg whist thist fx fy Δt w qJ v\n",
    "        println(\"data saved at time \", ti)\n",
    "    end\n",
    "end"
   ]
  },
  {
   "cell_type": "markdown",
   "metadata": {},
   "source": [
    "## <span style=\"color:blue\"> Plot </span>"
   ]
  },
  {
   "cell_type": "markdown",
   "metadata": {},
   "source": [
    "#### Set contour levels and fps"
   ]
  },
  {
   "cell_type": "code",
   "execution_count": 23,
   "metadata": {},
   "outputs": [],
   "source": [
    "contour_levels = range(0.2*minimum(w.data),stop=0.2*maximum(w.data),length=40)\n",
    "sample_freq = 3\n",
    "fps = 25;"
   ]
  },
  {
   "cell_type": "markdown",
   "metadata": {},
   "source": [
    "#### Get body verts history"
   ]
  },
  {
   "cell_type": "code",
   "execution_count": 24,
   "metadata": {},
   "outputs": [],
   "source": [
    "# get verts info based on this regular grid solution\n",
    "vshist = []\n",
    "for i = 1:length(bdhist)\n",
    "    @get bdhist[i] (bs, js, sys)\n",
    "    push!(vshist, VertsHistory(sys.nbody, bs))\n",
    "end"
   ]
  },
  {
   "cell_type": "markdown",
   "metadata": {},
   "source": [
    "#### Plot first and last time field"
   ]
  },
  {
   "cell_type": "code",
   "execution_count": 25,
   "metadata": {},
   "outputs": [
    {
     "data": {
      "image/png": "[encoded data removed]"
     },
     "execution_count": 25,
     "metadata": {},
     "output_type": "execute_result"
    }
   ],
   "source": [
    "p = plot(xg,yg,whist[1],levels=contour_levels,color=:bluesreds)\n",
    "for i = 1:bd.sys.nbody\n",
    "    plot!(p,vshist[1][i,2:3,1], vshist[1][i,2:3,2],linewidth=2,linecolor=\"black\")\n",
    "end\n",
    "p"
   ]
  },
  {
   "cell_type": "code",
   "execution_count": 26,
   "metadata": {},
   "outputs": [
    {
     "data": {
      "image/png": "[encoded data removed]"
     },
     "execution_count": 26,
     "metadata": {},
     "output_type": "execute_result"
    }
   ],
   "source": [
    "p = plot(xg,yg,whist[end],levels=contour_levels,color=:coolwarm)\n",
    "\n",
    "for i = 1:bd.sys.nbody\n",
    "    plot!(p,vshist[end][i,2:3,1], vshist[end][i,2:3,2],linewidth=2,linecolor=\"black\")\n",
    "end\n",
    "# savefig(p,\"plate.eps\")\n",
    "p"
   ]
  },
  {
   "cell_type": "markdown",
   "metadata": {},
   "source": [
    "#### Body position begining and end"
   ]
  },
  {
   "cell_type": "code",
   "execution_count": 27,
   "metadata": {},
   "outputs": [
    {
     "data": {
      "image/png": "[encoded data removed]"
     },
     "execution_count": 27,
     "metadata": {},
     "output_type": "execute_result"
    }
   ],
   "source": [
    "pb = plot()\n",
    "for i = 1:sys.nbody\n",
    "    plot!(pb,vshist[1][i,2:3,1], vshist[1][i,2:3,2],linewidth=2,linecolor=\"black\",label=\"begin\")\n",
    "end\n",
    "for i = 1:sys.nbody\n",
    "    plot!(pb,vshist[end][i,2:3,1], vshist[end][i,2:3,2],linewidth=2,linecolor=\"red\",label=\"end\")\n",
    "end\n",
    "plot!(pb,xlims=(xg[1],xg[end]), ylims=(yg[1],yg[end]),ratio=1,legend=false)\n",
    "pb"
   ]
  },
  {
   "cell_type": "markdown",
   "metadata": {},
   "source": [
    "#### Make gif"
   ]
  },
  {
   "cell_type": "code",
   "execution_count": 28,
   "metadata": {},
   "outputs": [
    {
     "data": {
      "image/png": "[encoded data removed]",
      "text/plain": [
       "PyPlot.Figure(PyObject <matplotlib.figure.Figure object at 0x7fc825ecf198>)"
      ]
     },
     "metadata": {},
     "output_type": "display_data"
    },
    {
     "name": "stderr",
     "output_type": "stream",
     "text": [
      "┌ Info: Saved animation to \n",
      "│   fn = /mnt/g/Research/FSI.jl/examples/FallingPlate.gif\n",
      "└ @ Plots /home/fs/.julia/packages/Plots/oiirH/src/animation.jl:90\n"
     ]
    },
    {
     "data": {
      "text/html": [
       "<img src=\"FallingPlate.gif\" />"
      ],
      "text/plain": [
       "Plots.AnimatedGif(\"/mnt/g/Research/FSI.jl/examples/FallingPlate.gif\")"
      ]
     },
     "execution_count": 28,
     "metadata": {},
     "output_type": "execute_result"
    }
   ],
   "source": [
    "anim = @animate for j = 1:sample_freq:length(whist)\n",
    "    plot(xg,yg,whist[j],levels=contour_levels,color=:coolwarm)\n",
    "    for i = 1:sys.nbody\n",
    "        plot!(vshist[j][i,2:3,1], vshist[j][i,2:3,2],linewidth=2,linecolor=\"black\")\n",
    "    end\n",
    "end\n",
    "\n",
    "gif(anim, filename*\".gif\", fps = fps)"
   ]
  },
  {
   "cell_type": "markdown",
   "metadata": {},
   "source": [
    "#### Get position, velocity and acceleration in time"
   ]
  },
  {
   "cell_type": "code",
   "execution_count": 29,
   "metadata": {},
   "outputs": [],
   "source": [
    "vhist = [0.0]\n",
    "phist = [0.0]\n",
    "\n",
    "for i in 1:length(bdhist)\n",
    "    push!(vhist,bdhist[i].bs[1].v[5])\n",
    "    push!(phist,bdhist[i].bs[1].x_i[2]-bdhist[1].bs[1].x_i[2])    \n",
    "end\n",
    "\n",
    "ahist = []\n",
    "for i in 1:length(vhist)-1\n",
    "    push!(ahist,(vhist[i+1]-vhist[i])/Δt)\n",
    "end"
   ]
  },
  {
   "cell_type": "code",
   "execution_count": 30,
   "metadata": {},
   "outputs": [
    {
     "data": {
      "image/png": "[encoded data removed]"
     },
     "execution_count": 30,
     "metadata": {},
     "output_type": "execute_result"
    }
   ],
   "source": [
    "pp = plot([0.0;thist],phist,xlabel=\"\\$(g/D)^{0.5}t \\$\",ylabel=\"\\$y/D\\$\",legend=false)\n",
    "pv = plot([0.0;thist],vhist,xlabel=\"\\$(g/D)^{0.5}t \\$\",ylabel=\"\\$v/(gD)^{0.5}\\$\",legend=false)\n",
    "pa = plot([0.0;thist[1:end-1]],ahist,xlabel=\"\\$(g/D)^{0.5}t \\$\",ylabel=\"\\$a/g\\$\",legend=false)\n",
    "\n",
    "plot(pp,pv,pa)"
   ]
  },
  {
   "cell_type": "code",
   "execution_count": 31,
   "metadata": {},
   "outputs": [
    {
     "data": {
      "text/plain": [
       "5-element Array{Any,1}:\n",
       " -0.6796823428501861\n",
       " -0.675868065556082 \n",
       " -0.6725137287464046\n",
       " -0.6695125272050583\n",
       " -0.6667896771301498"
      ]
     },
     "execution_count": 31,
     "metadata": {},
     "output_type": "execute_result"
    }
   ],
   "source": [
    "ahist[1:5]"
   ]
  },
  {
   "cell_type": "markdown",
   "metadata": {},
   "source": [
    "#### Lift and drag coefficients"
   ]
  },
  {
   "cell_type": "code",
   "execution_count": 32,
   "metadata": {},
   "outputs": [
    {
     "data": {
      "image/png": "[encoded data removed]"
     },
     "execution_count": 32,
     "metadata": {},
     "output_type": "execute_result"
    }
   ],
   "source": [
    "px = plot(thist,2*fx,ylim=(-1,1),xlabel=\"Convective time\",ylabel=\"\\$C_D\\$\",legend=false)\n",
    "py = plot(thist,2*fy,ylim=(0,5),xlabel=\"Convective time\",ylabel=\"\\$C_L\\$\",legend=false)\n",
    "plot(px,py)"
   ]
  },
  {
   "cell_type": "markdown",
   "metadata": {},
   "source": [
    "## <span style=\"color:blue\"> Save Data </span>"
   ]
  },
  {
   "cell_type": "markdown",
   "metadata": {},
   "source": [
    "#### Save all current data related to plotting to a .jld file"
   ]
  },
  {
   "cell_type": "code",
   "execution_count": 33,
   "metadata": {},
   "outputs": [],
   "source": [
    "@save filename*\".bson\" bd bdhist xg yg whist vshist thist fx fy Δt w qJ v t f"
   ]
  },
  {
   "cell_type": "markdown",
   "metadata": {},
   "source": [
    "#### Use the following block to extract data"
   ]
  },
  {
   "cell_type": "code",
   "execution_count": 34,
   "metadata": {},
   "outputs": [],
   "source": [
    "# using Dyn3d\n",
    "# using ViscousFlow\n",
    "\n",
    "# @load filename*\".bson\" bd bdhist xg yg whist vshist thist fx fy Δt w qJ v t f\n",
    "# @get bd (bs,js,sys);"
   ]
  }
 ],
 "metadata": {
  "@webio": {
   "lastCommId": null,
   "lastKernelId": null
  },
  "kernelspec": {
   "display_name": "Julia 1.0.4",
   "language": "julia",
   "name": "julia-1.0"
  },
  "language_info": {
   "file_extension": ".jl",
   "mimetype": "application/julia",
   "name": "julia",
   "version": "1.0.4"
  }
 },
 "nbformat": 4,
 "nbformat_minor": 2
}
