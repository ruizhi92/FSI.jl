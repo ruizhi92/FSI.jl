{
 "cells": [
  {
   "cell_type": "code",
   "execution_count": 1,
   "metadata": {
    "scrolled": false
   },
   "outputs": [],
   "source": [
    "using Revise\n",
    "using IterativeSolvers\n",
    "using LinearAlgebra\n",
    "\n",
    "using Pkg\n",
    "Pkg.activate(\"..\")\n",
    "using FSI\n",
    "\n",
    "using LinearAlgebra"
   ]
  },
  {
   "cell_type": "code",
   "execution_count": 2,
   "metadata": {},
   "outputs": [],
   "source": [
    "# construct a random block system\n",
    "\n",
    "# block size\n",
    "m = 10\n",
    "n = 8\n",
    "p = 6\n",
    "q = 4\n",
    "\n",
    "# operators\n",
    "A = rand(m,m); A⁻¹ = inv(A)\n",
    "B₁ᵀ = rand(m,n)\n",
    "B₂ = rand(n,m)\n",
    "M = rand(p,p)\n",
    "G₁ᵀ = rand(p,q)\n",
    "G₂ = rand(q,p)\n",
    "T₁ᵀ = rand(p,n)\n",
    "T₂ = rand(n,p)\n",
    "\n",
    "# zero matrix\n",
    "Omp = zeros(m,p)\n",
    "Omq = zeros(m,q)\n",
    "Onn = zeros(n,n)\n",
    "Onq = zeros(n,q)\n",
    "Opm = zeros(p,m)\n",
    "Oqm = zeros(q,m)\n",
    "Oqn = zeros(q,n)\n",
    "Oqq = zeros(q,q)\n",
    "\n",
    "# fictitious fluid\n",
    "ρb = 2.0\n",
    "Mf = 1.0/ρb*M\n",
    "\n",
    "# saddle point system\n",
    "S = [A B₁ᵀ -B₁ᵀ*T₂*Mf Omq; B₂ Onn -T₂ Onq; Opm -T₁ᵀ M G₁ᵀ; Oqm Oqn G₂ Oqq]\n",
    "\n",
    "# rhs\n",
    "rċ = rand(m)\n",
    "rf = rand(n)\n",
    "ru̇ = rand(p)\n",
    "rλ = rand(q)\n",
    "\n",
    "b = [rċ;rf;ru̇;rλ];\n",
    "b1 = [rċ;rf]\n",
    "b2 = [ru̇;rλ];"
   ]
  },
  {
   "cell_type": "code",
   "execution_count": 3,
   "metadata": {
    "scrolled": false
   },
   "outputs": [
    {
     "name": "stdout",
     "output_type": "stream",
     "text": [
      "  1.365374 seconds (5.41 M allocations: 272.556 MiB, 5.89% gc time)\n"
     ]
    },
    {
     "data": {
      "text/plain": [
       "Saddle system with 8 constraints on fluid and 4 constraints on 2d body\n",
       "   Fluid state of type Array{Float64,1}\n",
       "   Fluid force of type Array{Float64,1}\n",
       "   Body state of type Array{Float64,1}\n",
       "   Joint force of type Array{Float64,1}\n"
      ]
     },
     "execution_count": 3,
     "metadata": {},
     "output_type": "execute_result"
    }
   ],
   "source": [
    "# construct saddle point system\n",
    "ċ = zeros(m)\n",
    "f = zeros(n)\n",
    "u̇ = zeros(p)\n",
    "λ = zeros(q)\n",
    "@time St = SaddleSystem2d((ċ, f, u̇, λ), (A⁻¹, B₁ᵀ, B₂),\n",
    "                  (M, G₁ᵀ, G₂), (x->T₁ᵀ*x, x->T₂*x);\n",
    "                  ρb=ρb)"
   ]
  },
  {
   "cell_type": "code",
   "execution_count": 4,
   "metadata": {},
   "outputs": [],
   "source": [
    "# # compared to 1d system\n",
    "# S2 = [A B₁ᵀ Omp Omq; B₂ Onn -T₂ Onq; Opm T₁ᵀ M G₁ᵀ; Oqm Oqn G₂ Oqq]\n",
    "# S2\\b"
   ]
  },
  {
   "cell_type": "code",
   "execution_count": 5,
   "metadata": {},
   "outputs": [
    {
     "name": "stdout",
     "output_type": "stream",
     "text": [
      "  1.778018 seconds (2.28 M allocations: 107.847 MiB, 2.02% gc time)\n"
     ]
    },
    {
     "data": {
      "text/plain": [
       "28-element Array{Float64,1}:\n",
       "  0.0039036796749947118\n",
       " -0.03789876550319593  \n",
       " -0.09394525559917069  \n",
       "  0.03598870440478218  \n",
       " -0.060689547126037385 \n",
       "  1.6665948844004324   \n",
       " -0.433981356394322    \n",
       " -0.2888528820041774   \n",
       "  0.7340080209100269   \n",
       " -0.9017174567512328   \n",
       "  2.4002230851830513   \n",
       "  1.9103943436452597   \n",
       " -0.914104553623504    \n",
       "  ⋮                    \n",
       "  1.2615262094857458   \n",
       " -1.0813056077086067   \n",
       "  1.0486721686054372   \n",
       "  1.1137005144975225   \n",
       " -0.20116544583528245  \n",
       " -0.3472267988963471   \n",
       " -0.2994776874661479   \n",
       " -0.34369022063623983  \n",
       "  0.7840711402199902   \n",
       "  1.2669272191631429   \n",
       "  2.121083562230898    \n",
       " -0.8019542646356641   "
      ]
     },
     "execution_count": 5,
     "metadata": {},
     "output_type": "execute_result"
    }
   ],
   "source": [
    "# Julia solver\n",
    "@time x_theory = S\\b"
   ]
  },
  {
   "cell_type": "code",
   "execution_count": 6,
   "metadata": {},
   "outputs": [
    {
     "name": "stdout",
     "output_type": "stream",
     "text": [
      "  0.000005 seconds (6 allocations: 544 bytes)\n"
     ]
    },
    {
     "data": {
      "text/plain": [
       "28-element Array{Float64,1}:\n",
       "  0.0039036796749885028\n",
       " -0.037898765503191933 \n",
       " -0.09394525559916467  \n",
       "  0.03598870440478974  \n",
       " -0.06068954712604313  \n",
       "  1.6665948844004361   \n",
       " -0.4339813563943198   \n",
       " -0.28885288200417936  \n",
       "  0.7340080209100195   \n",
       " -0.9017174567512319   \n",
       "  2.4002230851830566   \n",
       "  1.9103943436452635   \n",
       " -0.9141045536234949   \n",
       "  ⋮                    \n",
       "  1.2615262094857553   \n",
       " -1.0813056077086034   \n",
       "  1.0486721686054414   \n",
       "  1.1137005144975258   \n",
       " -0.201165445835289    \n",
       " -0.347226798896357    \n",
       " -0.2994776874661399   \n",
       " -0.34369022063623295  \n",
       "  0.7840711402199982   \n",
       "  1.2669272191631415   \n",
       "  2.1210835622308952   \n",
       " -0.8019542646356487   "
      ]
     },
     "execution_count": 6,
     "metadata": {},
     "output_type": "execute_result"
    }
   ],
   "source": [
    "# my own solver\n",
    "bt = (rċ, rf, ru̇, rλ);\n",
    "aa,bb,cc,dd = St\\bt\n",
    "@time x_compute = [aa;bb;cc;dd]"
   ]
  },
  {
   "cell_type": "code",
   "execution_count": 7,
   "metadata": {},
   "outputs": [
    {
     "data": {
      "text/plain": [
       "4.6740201035483336e-14"
      ]
     },
     "execution_count": 7,
     "metadata": {},
     "output_type": "execute_result"
    }
   ],
   "source": [
    "norm(x_theory-x_compute)"
   ]
  },
  {
   "cell_type": "markdown",
   "metadata": {},
   "source": [
    "### check step 1"
   ]
  },
  {
   "cell_type": "code",
   "execution_count": 8,
   "metadata": {
    "scrolled": true
   },
   "outputs": [
    {
     "data": {
      "text/plain": [
       "18-element Array{Float64,1}:\n",
       "  1.2738615307937844 \n",
       "  0.35078914998157507\n",
       " -1.0467236715243367 \n",
       " -0.35074864877244954\n",
       " -2.2992030699124815 \n",
       "  1.282873689785597  \n",
       " -1.7229882849376157 \n",
       "  0.7549639029604989 \n",
       "  1.8235555092762477 \n",
       "  0.3856847664229972 \n",
       " -0.401166029431642  \n",
       "  3.3626066646336414 \n",
       " -2.112364689048015  \n",
       "  2.592416506383522  \n",
       " -2.847040371417126  \n",
       " -2.507468117391492  \n",
       "  2.241093866446113  \n",
       "  0.3216235535935262 "
      ]
     },
     "execution_count": 8,
     "metadata": {},
     "output_type": "execute_result"
    }
   ],
   "source": [
    "[A B₁ᵀ;B₂ Onn]\\b1\n",
    "# norm([A B₁ᵀ;B₂ Onn]*x1 - [rċ;rf])"
   ]
  },
  {
   "cell_type": "code",
   "execution_count": 9,
   "metadata": {},
   "outputs": [
    {
     "data": {
      "text/plain": [
       "([1.27386, 0.350789, -1.04672, -0.350749, -2.2992, 1.28287, -1.72299, 0.754964, 1.82356, 0.385685], [-0.401166, 3.36261, -2.11236, 2.59242, -2.84704, -2.50747, 2.24109, 0.321624])"
      ]
     },
     "execution_count": 9,
     "metadata": {},
     "output_type": "execute_result"
    }
   ],
   "source": [
    "using ImportMacros\n",
    "@import ViscousFlow.SaddlePointSystems as Sad\n",
    "\n",
    "Sf = Sad.SaddleSystem((ċ,f),(A⁻¹,B₁ᵀ,B₂),tol=1e-3,\n",
    "            issymmetric=false,isposdef=true,store=true,precompile=true)\n",
    "x1,x2 = Sf\\(b1[1:m], b1[m+1:end])"
   ]
  },
  {
   "cell_type": "markdown",
   "metadata": {},
   "source": [
    "### check step 2"
   ]
  },
  {
   "cell_type": "code",
   "execution_count": 10,
   "metadata": {},
   "outputs": [
    {
     "data": {
      "text/plain": [
       "10-element Array{Float64,1}:\n",
       "  1.0486721686054372 \n",
       "  1.1137005144975225 \n",
       " -0.20116544583528245\n",
       " -0.3472267988963471 \n",
       " -0.2994776874661479 \n",
       " -0.34369022063623983\n",
       "  0.7840711402199902 \n",
       "  1.2669272191631429 \n",
       "  2.121083562230898  \n",
       " -0.8019542646356641 "
      ]
     },
     "execution_count": 10,
     "metadata": {},
     "output_type": "execute_result"
    }
   ],
   "source": [
    "x_theory[m+n+1:end]"
   ]
  },
  {
   "cell_type": "code",
   "execution_count": 11,
   "metadata": {
    "scrolled": false
   },
   "outputs": [
    {
     "data": {
      "text/plain": [
       "10-element Array{Float64,1}:\n",
       "  0.8707500131889191 \n",
       "  0.8117927177314024 \n",
       "  0.08999065901623018\n",
       "  0.29787354258491855\n",
       " -0.6014609431524688 \n",
       " -0.7966339942732612 \n",
       " -2.250989112846042  \n",
       "  0.3131961889251749 \n",
       "  0.4484922612288399 \n",
       " -0.5796774574899748 "
      ]
     },
     "execution_count": 11,
     "metadata": {},
     "output_type": "execute_result"
    }
   ],
   "source": [
    "[M-T₁ᵀ*inv(B₂*A⁻¹*B₁ᵀ)*T₂+T₁ᵀ*T₂*Mf G₁ᵀ;G₂ Oqq]\\[b2[1:p]-T₁ᵀ*x2;b2[p+1:end]]"
   ]
  },
  {
   "cell_type": "code",
   "execution_count": 12,
   "metadata": {},
   "outputs": [
    {
     "data": {
      "text/plain": [
       "10-element Array{Float64,1}:\n",
       "  0.8707500131889194 \n",
       "  0.8117927177314017 \n",
       "  0.08999065901623005\n",
       "  0.2978735425849174 \n",
       " -0.6014609431524689 \n",
       " -0.7966339942732599 \n",
       " -2.2509891128460424 \n",
       "  0.31319618892517515\n",
       "  0.44849226122884145\n",
       " -0.5796774574899767 "
      ]
     },
     "execution_count": 12,
     "metadata": {},
     "output_type": "execute_result"
    }
   ],
   "source": [
    "x34 = gmres([M-T₁ᵀ*inv(B₂*A⁻¹*B₁ᵀ)*T₂+T₁ᵀ*T₂*Mf G₁ᵀ;G₂ Oqq], [b2[1:p]-T₁ᵀ*x2;b2[p+1:end]], tol=1e-3)"
   ]
  },
  {
   "cell_type": "code",
   "execution_count": 13,
   "metadata": {},
   "outputs": [
    {
     "data": {
      "text/plain": [
       "10-element Array{Float64,1}:\n",
       "  1.0486721686054414 \n",
       "  1.1137005144975258 \n",
       " -0.201165445835289  \n",
       " -0.347226798896357  \n",
       " -0.2994776874661399 \n",
       " -0.34369022063623295\n",
       "  0.7840711402199982 \n",
       "  1.2669272191631415 \n",
       "  2.1210835622308952 \n",
       " -0.8019542646356487 "
      ]
     },
     "execution_count": 13,
     "metadata": {},
     "output_type": "execute_result"
    }
   ],
   "source": [
    "x_compute[m+n+1:end]"
   ]
  },
  {
   "cell_type": "code",
   "execution_count": 14,
   "metadata": {},
   "outputs": [
    {
     "data": {
      "text/plain": [
       "351.091070944088"
      ]
     },
     "execution_count": 14,
     "metadata": {},
     "output_type": "execute_result"
    }
   ],
   "source": [
    "cond([M-T₁ᵀ*inv(B₂*A⁻¹*B₁ᵀ)*T₂+T₁ᵀ*T₂*Mf G₁ᵀ;G₂ Oqq])"
   ]
  },
  {
   "cell_type": "markdown",
   "metadata": {},
   "source": [
    "### check step 3"
   ]
  },
  {
   "cell_type": "code",
   "execution_count": 15,
   "metadata": {},
   "outputs": [
    {
     "data": {
      "text/plain": [
       "18-element Array{Float64,1}:\n",
       "  0.0039036796749947118\n",
       " -0.03789876550319593  \n",
       " -0.09394525559917069  \n",
       "  0.03598870440478218  \n",
       " -0.060689547126037385 \n",
       "  1.6665948844004324   \n",
       " -0.433981356394322    \n",
       " -0.2888528820041774   \n",
       "  0.7340080209100269   \n",
       " -0.9017174567512328   \n",
       "  2.4002230851830513   \n",
       "  1.9103943436452597   \n",
       " -0.914104553623504    \n",
       "  3.19585812742723     \n",
       " -1.710820528293717    \n",
       " -0.8588762994666257   \n",
       "  1.2615262094857458   \n",
       " -1.0813056077086067   "
      ]
     },
     "execution_count": 15,
     "metadata": {},
     "output_type": "execute_result"
    }
   ],
   "source": [
    "x_theory[1:m+n]"
   ]
  },
  {
   "cell_type": "code",
   "execution_count": 16,
   "metadata": {},
   "outputs": [
    {
     "data": {
      "text/plain": [
       "10-element Array{Float64,1}:\n",
       "  0.7919948864420929 \n",
       " -0.30480933902329244\n",
       " -0.6080731455007945 \n",
       " -0.0942486666878859 \n",
       " -0.16243597869183057\n",
       "  0.7430442301718968 \n",
       " -0.45388282888590425\n",
       " -0.15303801054667943\n",
       "  0.9496973393663847 \n",
       " -0.2912621590600807 "
      ]
     },
     "execution_count": 16,
     "metadata": {},
     "output_type": "execute_result"
    }
   ],
   "source": [
    "ċ = x1 + A⁻¹*B₁ᵀ*inv(B₂*A⁻¹*B₁ᵀ)*T₂*x34[1:p]"
   ]
  },
  {
   "cell_type": "code",
   "execution_count": 17,
   "metadata": {},
   "outputs": [
    {
     "data": {
      "text/plain": [
       "8-element Array{Float64,1}:\n",
       "  0.44349082970085824\n",
       "  0.8544395830030235 \n",
       " -0.854507418680524  \n",
       "  0.5834486676703916 \n",
       " -0.17534716726414523\n",
       "  0.4168668542868168 \n",
       "  1.6137518026364692 \n",
       "  0.3320164620624121 "
      ]
     },
     "execution_count": 17,
     "metadata": {},
     "output_type": "execute_result"
    }
   ],
   "source": [
    "f = x2 - inv(B₂*A⁻¹*B₁ᵀ)*T₂*x34[1:p] + T₂*Mf*x34[1:p]"
   ]
  },
  {
   "cell_type": "code",
   "execution_count": 18,
   "metadata": {},
   "outputs": [
    {
     "data": {
      "text/plain": [
       "18-element Array{Float64,1}:\n",
       "  0.0039036796749885028\n",
       " -0.037898765503191933 \n",
       " -0.09394525559916467  \n",
       "  0.03598870440478974  \n",
       " -0.06068954712604313  \n",
       "  1.6665948844004361   \n",
       " -0.4339813563943198   \n",
       " -0.28885288200417936  \n",
       "  0.7340080209100195   \n",
       " -0.9017174567512319   \n",
       "  2.4002230851830566   \n",
       "  1.9103943436452635   \n",
       " -0.9141045536234949   \n",
       "  3.195858127427259    \n",
       " -1.7108205282937283   \n",
       " -0.8588762994666377   \n",
       "  1.2615262094857553   \n",
       " -1.0813056077086034   "
      ]
     },
     "execution_count": 18,
     "metadata": {},
     "output_type": "execute_result"
    }
   ],
   "source": [
    "x_compute[1:m+n]"
   ]
  },
  {
   "cell_type": "code",
   "execution_count": null,
   "metadata": {},
   "outputs": [],
   "source": []
  }
 ],
 "metadata": {
  "@webio": {
   "lastCommId": null,
   "lastKernelId": null
  },
  "kernelspec": {
   "display_name": "Julia 1.0.4",
   "language": "julia",
   "name": "julia-1.0"
  },
  "language_info": {
   "file_extension": ".jl",
   "mimetype": "application/julia",
   "name": "julia",
   "version": "1.0.4"
  }
 },
 "nbformat": 4,
 "nbformat_minor": 2
}
