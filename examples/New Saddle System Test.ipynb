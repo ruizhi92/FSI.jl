{
 "cells": [
  {
   "cell_type": "code",
   "execution_count": 1,
   "metadata": {
    "scrolled": false
   },
   "outputs": [],
   "source": [
    "using Revise\n",
    "\n",
    "using Pkg\n",
    "Pkg.activate(\"..\")\n",
    "using FSI\n",
    "\n",
    "using LinearAlgebra"
   ]
  },
  {
   "cell_type": "code",
   "execution_count": 2,
   "metadata": {},
   "outputs": [],
   "source": [
    "m = 80\n",
    "n = 12\n",
    "\n",
    "# construct a random block system\n",
    "A = rand(m,m)\n",
    "A⁻¹ = inv(A)\n",
    "B₁ᵀ = rand(m,n)\n",
    "B₂ = rand(n,m)\n",
    "M = rand(n,n)\n",
    "M⁻¹ = inv(M)\n",
    "G₁ᵀ = rand(n,n)\n",
    "G₂ = rand(n,n)\n",
    "T₁ᵀ = rand(n,n)\n",
    "T₂ = rand(n,n)\n",
    "O32 = zeros(m,n)\n",
    "O23 = zeros(n,m)\n",
    "O22 = zeros(n,n)\n",
    "S = [A B₁ᵀ O32 O32; B₂ O22 -T₂ O22; O23 T₁ᵀ M G₁ᵀ; O23 O22 G₂ O22]\n",
    "\n",
    "rċ = rand(m)\n",
    "rf = rand(n)\n",
    "ru̇ = rand(n)\n",
    "rλ = rand(n)\n",
    "b = [rċ;rf;ru̇;rλ];\n",
    "b1 = [rċ;rf]\n",
    "b2 = [ru̇;rλ];"
   ]
  },
  {
   "cell_type": "code",
   "execution_count": 3,
   "metadata": {
    "scrolled": false
   },
   "outputs": [
    {
     "data": {
      "text/plain": [
       "Saddle system with 12 constraints on fluid and 12 constraints on body\n",
       "   Fluid state of type Array{Float64,1}\n",
       "   Fluid force of type Array{Float64,1}\n",
       "   Body state of type Array{Float64,1}\n",
       "   Joint force of type Array{Float64,1}\n"
      ]
     },
     "execution_count": 3,
     "metadata": {},
     "output_type": "execute_result"
    }
   ],
   "source": [
    "# construct saddle point system\n",
    "ċ = zeros(m)\n",
    "f = zeros(n)\n",
    "u̇ = zeros(n)\n",
    "λ = zeros(n)\n",
    "St = SaddleSystem1d((ċ, f, u̇, λ), (A⁻¹, B₁ᵀ, B₂),\n",
    "                  (M, G₁ᵀ, G₂), (x->T₁ᵀ*x, x->T₂*x))"
   ]
  },
  {
   "cell_type": "code",
   "execution_count": 4,
   "metadata": {},
   "outputs": [
    {
     "name": "stdout",
     "output_type": "stream",
     "text": [
      "  0.679373 seconds (2.26 M allocations: 106.819 MiB, 5.12% gc time)\n"
     ]
    },
    {
     "data": {
      "text/plain": [
       "116-element Array{Float64,1}:\n",
       "  1.386994175210903  \n",
       "  0.10229598392248983\n",
       " -1.0756088684751215 \n",
       " -0.28452328006218097\n",
       "  1.0056187813930964 \n",
       "  2.812327670994662  \n",
       "  0.11905432840980469\n",
       "  0.2529012591369787 \n",
       " -1.3225436674507973 \n",
       "  0.3200376459456192 \n",
       "  4.0944064679064445 \n",
       "  2.620833363989784  \n",
       "  1.8562540484003303 \n",
       "  ⋮                  \n",
       "  5.6428826695024155 \n",
       " 12.876763624260708  \n",
       " -2.661925307527669  \n",
       " -5.168785533831216  \n",
       " -3.4757761614638683 \n",
       " -1.3718948472330341 \n",
       " 14.635316528098306  \n",
       " -9.29787447646459   \n",
       "  6.75263813073742   \n",
       " -1.6710539278471617 \n",
       " -5.450360155767029  \n",
       "  5.381926202423524  "
      ]
     },
     "execution_count": 4,
     "metadata": {},
     "output_type": "execute_result"
    }
   ],
   "source": [
    "@time x_theory = S\\b"
   ]
  },
  {
   "cell_type": "code",
   "execution_count": 5,
   "metadata": {},
   "outputs": [
    {
     "name": "stdout",
     "output_type": "stream",
     "text": [
      "  0.000005 seconds (6 allocations: 1.266 KiB)\n"
     ]
    },
    {
     "data": {
      "text/plain": [
       "116-element Array{Float64,1}:\n",
       "  1.3869941752106962 \n",
       "  0.10229598392258188\n",
       " -1.0756088684749894 \n",
       " -0.28452328006226946\n",
       "  1.0056187813930406 \n",
       "  2.8123276709946525 \n",
       "  0.11905432840981156\n",
       "  0.2529012591370312 \n",
       " -1.3225436674507487 \n",
       "  0.3200376459455989 \n",
       "  4.094406467906365  \n",
       "  2.620833363989686  \n",
       "  1.856254048400347  \n",
       "  ⋮                  \n",
       "  5.642882669502465  \n",
       " 12.876763624260636  \n",
       " -2.661925307527763  \n",
       " -5.168785533830926  \n",
       " -3.475776161464023  \n",
       " -1.3718948472331924 \n",
       " 14.635316528098006  \n",
       " -9.297874476464528  \n",
       "  6.752638130737542  \n",
       " -1.671053927846936  \n",
       " -5.450360155766887  \n",
       "  5.381926202423403  "
      ]
     },
     "execution_count": 5,
     "metadata": {},
     "output_type": "execute_result"
    }
   ],
   "source": [
    "bt = (rċ, rf, ru̇, rλ);\n",
    "aa,bb,cc,dd = St\\bt\n",
    "@time x_compute = [aa;bb;cc;dd]"
   ]
  },
  {
   "cell_type": "code",
   "execution_count": 6,
   "metadata": {},
   "outputs": [
    {
     "data": {
      "text/plain": [
       "1.1230414864823329e-12"
      ]
     },
     "execution_count": 6,
     "metadata": {},
     "output_type": "execute_result"
    }
   ],
   "source": [
    "norm(x_theory-x_compute)"
   ]
  },
  {
   "cell_type": "markdown",
   "metadata": {},
   "source": [
    "### check step 1"
   ]
  },
  {
   "cell_type": "code",
   "execution_count": 7,
   "metadata": {},
   "outputs": [
    {
     "data": {
      "text/plain": [
       "92-element Array{Float64,1}:\n",
       " -0.6115664225492836\n",
       "  1.575988639038487 \n",
       "  0.6001599963062434\n",
       " -3.2765771072681837\n",
       "  0.639757001009569 \n",
       "  3.4211997251068693\n",
       "  1.2663142910979843\n",
       "  1.858901311402029 \n",
       " -1.7969927671623067\n",
       " -0.5974758417340866\n",
       "  4.462155732113581 \n",
       "  0.7015595557128682\n",
       "  2.337253508609391 \n",
       "  ⋮                 \n",
       " -3.812953747808128 \n",
       " -3.193174177786496 \n",
       "  1.3754421370294192\n",
       " -1.3829042857549398\n",
       " -1.8997151417171674\n",
       " -6.369285331373622 \n",
       " -3.962945484590052 \n",
       "  6.67362878960773  \n",
       "  8.875152628618672 \n",
       " -0.3898338828554046\n",
       "  2.912675736612643 \n",
       " -4.205915608953373 "
      ]
     },
     "execution_count": 7,
     "metadata": {},
     "output_type": "execute_result"
    }
   ],
   "source": [
    "x1 = [A B₁ᵀ;B₂ O22]\\b1\n",
    "# norm([A B₁ᵀ;B₂ O22]*x1 - [rċ;rf])"
   ]
  },
  {
   "cell_type": "code",
   "execution_count": 8,
   "metadata": {},
   "outputs": [
    {
     "data": {
      "text/plain": [
       "([-0.611566, 1.57599, 0.60016, -3.27658, 0.639757, 3.4212, 1.26631, 1.8589, -1.79699, -0.597476  …  2.71226, -3.23387, -1.31032, -4.10057, -0.891322, 0.532656, 1.98995, 2.45495, -2.9921, 5.5905], [-3.81295, -3.19317, 1.37544, -1.3829, -1.89972, -6.36929, -3.96295, 6.67363, 8.87515, -0.389834, 2.91268, -4.20592])"
      ]
     },
     "execution_count": 8,
     "metadata": {},
     "output_type": "execute_result"
    }
   ],
   "source": [
    "using ImportMacros\n",
    "@import ViscousFlow.SaddlePointSystems as Sad\n",
    "\n",
    "Sf = Sad.SaddleSystem((ċ,f),(A⁻¹,B₁ᵀ,B₂),tol=1e-3,\n",
    "            issymmetric=false,isposdef=true,store=true,precompile=true)\n",
    "qq,ww = Sf\\(b1[1:m], b1[m+1:end])"
   ]
  },
  {
   "cell_type": "markdown",
   "metadata": {},
   "source": [
    "### check step 2"
   ]
  },
  {
   "cell_type": "code",
   "execution_count": 9,
   "metadata": {},
   "outputs": [],
   "source": [
    "# inv(B₂*A⁻¹*B₁ᵀ)"
   ]
  },
  {
   "cell_type": "code",
   "execution_count": 10,
   "metadata": {},
   "outputs": [
    {
     "data": {
      "text/plain": [
       "24-element Array{Float64,1}:\n",
       " -0.342460920444509  \n",
       "  0.13126164891624467\n",
       " -0.4313019308988362 \n",
       " -0.8287968884384886 \n",
       "  1.3727079346321347 \n",
       "  0.635162118683382  \n",
       " -0.9279413082890106 \n",
       "  1.1649879484803243 \n",
       " -0.6058628887064851 \n",
       " -0.6321817991219384 \n",
       "  0.04028251373867341\n",
       "  1.1017259146298235 \n",
       "  5.6428826695024155 \n",
       " 12.876763624260708  \n",
       " -2.661925307527669  \n",
       " -5.168785533831216  \n",
       " -3.4757761614638683 \n",
       " -1.3718948472330341 \n",
       " 14.635316528098306  \n",
       " -9.29787447646459   \n",
       "  6.75263813073742   \n",
       " -1.6710539278471617 \n",
       " -5.450360155767029  \n",
       "  5.381926202423524  "
      ]
     },
     "execution_count": 10,
     "metadata": {},
     "output_type": "execute_result"
    }
   ],
   "source": [
    "x_theory[80+13:end]"
   ]
  },
  {
   "cell_type": "code",
   "execution_count": 11,
   "metadata": {
    "scrolled": false
   },
   "outputs": [
    {
     "data": {
      "text/plain": [
       "24-element Array{Float64,1}:\n",
       " -0.3424609204445004  \n",
       "  0.131261648916243   \n",
       " -0.43130193089884    \n",
       " -0.828796888438487   \n",
       "  1.3727079346321305  \n",
       "  0.6351621186833893  \n",
       " -0.9279413082890151  \n",
       "  1.1649879484803192  \n",
       " -0.605862888706483   \n",
       " -0.6321817991219375  \n",
       "  0.040282513738675904\n",
       "  1.1017259146298213  \n",
       "  5.642882669502584   \n",
       " 12.876763624258293   \n",
       " -2.661925307528189   \n",
       " -5.168785533830195   \n",
       " -3.4757761614638567  \n",
       " -1.3718948472328607  \n",
       " 14.635316528095636   \n",
       " -9.297874476463813   \n",
       "  6.752638130736341   \n",
       " -1.6710539278461212  \n",
       " -5.450360155765503   \n",
       "  5.381926202422637   "
      ]
     },
     "execution_count": 11,
     "metadata": {},
     "output_type": "execute_result"
    }
   ],
   "source": [
    "ee = [M-T₁ᵀ*inv(B₂*A⁻¹*B₁ᵀ)*T₂ G₁ᵀ;G₂ O22]\\[b2[1:n]-T₁ᵀ*ww;b2[n+1:end]]"
   ]
  },
  {
   "cell_type": "code",
   "execution_count": 12,
   "metadata": {},
   "outputs": [
    {
     "data": {
      "text/plain": [
       "24-element Array{Float64,1}:\n",
       "  0.6563179973194134  \n",
       "  0.27735726072418476 \n",
       " -0.22388963531565542 \n",
       " -0.3532232034997813  \n",
       "  0.9018939926098217  \n",
       " -0.9379213652237981  \n",
       " -0.47996323754816506 \n",
       " -1.2266348687850217  \n",
       "  0.3360417803723163  \n",
       "  0.22893135987095026 \n",
       "  1.3444608576175903  \n",
       " -0.6454096385298547  \n",
       " -0.22089672318071518 \n",
       "  1.0564893224892513  \n",
       " -0.8260134246674561  \n",
       " -0.12244136908117143 \n",
       "  0.14193387832403537 \n",
       "  1.7420509647444802  \n",
       "  1.4136560371735953  \n",
       " -0.33831107105478453 \n",
       "  0.010233364784144161\n",
       " -0.6534745524929988  \n",
       " -0.27027293010764475 \n",
       "  0.6072060433306814  "
      ]
     },
     "execution_count": 12,
     "metadata": {},
     "output_type": "execute_result"
    }
   ],
   "source": [
    "using IterativeSolvers\n",
    "bicgstabl([M-T₁ᵀ*inv(B₂*A⁻¹*B₁ᵀ)*T₂ G₁ᵀ;G₂ O22], [b2[1:n]-T₁ᵀ*ww;b2[n+1:end]], tol=1e-3)"
   ]
  },
  {
   "cell_type": "markdown",
   "metadata": {},
   "source": [
    "### check step 3"
   ]
  },
  {
   "cell_type": "code",
   "execution_count": 13,
   "metadata": {},
   "outputs": [
    {
     "data": {
      "text/plain": [
       "80-element Array{Float64,1}:\n",
       "  1.3869941752108608 \n",
       "  0.10229598392243444\n",
       " -1.0756088684751608 \n",
       " -0.28452328006164196\n",
       "  1.0056187813929571 \n",
       "  2.8123276709942298 \n",
       "  0.11905432840963659\n",
       "  0.2529012591368549 \n",
       " -1.3225436674506839 \n",
       "  0.3200376459456765 \n",
       "  4.094406467905998  \n",
       "  2.620833363989786  \n",
       "  1.8562540484000787 \n",
       "  ⋮                  \n",
       " -1.9829662481836388 \n",
       "  0.1442239195034487 \n",
       " -1.913454987029347  \n",
       " -3.113458244362346  \n",
       "  1.9566590716515813 \n",
       " -1.9699211229663542 \n",
       "  0.36450478217346527\n",
       " -1.1140745297534926 \n",
       "  1.011279745311979  \n",
       "  2.8423307311343975 \n",
       " -2.2519205057017997 \n",
       "  4.598979795058751  "
      ]
     },
     "execution_count": 13,
     "metadata": {},
     "output_type": "execute_result"
    }
   ],
   "source": [
    "ċ = qq + A⁻¹*B₁ᵀ*inv(B₂*A⁻¹*B₁ᵀ)*T₂*ee[1:n]"
   ]
  },
  {
   "cell_type": "code",
   "execution_count": 14,
   "metadata": {},
   "outputs": [
    {
     "data": {
      "text/plain": [
       "12-element Array{Float64,1}:\n",
       "  4.125963547276349  \n",
       "  0.5518370739885867 \n",
       " -0.5395264527005404 \n",
       " -0.19531428807845275\n",
       "  1.230430960445866  \n",
       "  0.6597641302973376 \n",
       "  5.122567465641303  \n",
       " -1.778055513780092  \n",
       " -3.8054370690551655 \n",
       "  0.5027324132065203 \n",
       " -3.7331598960083827 \n",
       "  0.9170561297889712 "
      ]
     },
     "execution_count": 14,
     "metadata": {},
     "output_type": "execute_result"
    }
   ],
   "source": [
    "f = f - inv(B₂*A⁻¹*B₁ᵀ)*T₂*ee[1:n]"
   ]
  }
 ],
 "metadata": {
  "@webio": {
   "lastCommId": null,
   "lastKernelId": null
  },
  "kernelspec": {
   "display_name": "Julia 1.0.4",
   "language": "julia",
   "name": "julia-1.0"
  },
  "language_info": {
   "file_extension": ".jl",
   "mimetype": "application/julia",
   "name": "julia",
   "version": "1.0.4"
  }
 },
 "nbformat": 4,
 "nbformat_minor": 2
}
